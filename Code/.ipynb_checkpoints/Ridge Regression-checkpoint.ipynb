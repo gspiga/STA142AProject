{
 "cells": [
  {
   "cell_type": "code",
   "execution_count": 2,
   "id": "4c1b2978",
   "metadata": {},
   "outputs": [
    {
     "data": {
      "application/javascript": [
       "\n",
       "            setTimeout(function() {\n",
       "                var nbb_cell_id = 2;\n",
       "                var nbb_unformatted_code = \"# Auto formatting\\n%load_ext nb_black\";\n",
       "                var nbb_formatted_code = \"# Auto formatting\\n%load_ext nb_black\";\n",
       "                var nbb_cells = Jupyter.notebook.get_cells();\n",
       "                for (var i = 0; i < nbb_cells.length; ++i) {\n",
       "                    if (nbb_cells[i].input_prompt_number == nbb_cell_id) {\n",
       "                        if (nbb_cells[i].get_text() == nbb_unformatted_code) {\n",
       "                             nbb_cells[i].set_text(nbb_formatted_code);\n",
       "                        }\n",
       "                        break;\n",
       "                    }\n",
       "                }\n",
       "            }, 500);\n",
       "            "
      ],
      "text/plain": [
       "<IPython.core.display.Javascript object>"
      ]
     },
     "metadata": {},
     "output_type": "display_data"
    }
   ],
   "source": [
    "# Auto formatting\n",
    "%load_ext nb_black"
   ]
  },
  {
   "cell_type": "code",
   "execution_count": 80,
   "id": "b0de6857",
   "metadata": {},
   "outputs": [
    {
     "data": {
      "application/javascript": [
       "\n",
       "            setTimeout(function() {\n",
       "                var nbb_cell_id = 80;\n",
       "                var nbb_unformatted_code = \"import numpy as np\\nimport pandas as pd\\nimport plotly.express as px\\nimport matplotlib.pyplot as plt\\nfrom IPython.display import display\\nfrom sklearn.model_selection import train_test_split\\nimport time\\nimport plotly.express as px\\nimport plotly.graph_objects as go\";\n",
       "                var nbb_formatted_code = \"import numpy as np\\nimport pandas as pd\\nimport plotly.express as px\\nimport matplotlib.pyplot as plt\\nfrom IPython.display import display\\nfrom sklearn.model_selection import train_test_split\\nimport time\\nimport plotly.express as px\\nimport plotly.graph_objects as go\";\n",
       "                var nbb_cells = Jupyter.notebook.get_cells();\n",
       "                for (var i = 0; i < nbb_cells.length; ++i) {\n",
       "                    if (nbb_cells[i].input_prompt_number == nbb_cell_id) {\n",
       "                        if (nbb_cells[i].get_text() == nbb_unformatted_code) {\n",
       "                             nbb_cells[i].set_text(nbb_formatted_code);\n",
       "                        }\n",
       "                        break;\n",
       "                    }\n",
       "                }\n",
       "            }, 500);\n",
       "            "
      ],
      "text/plain": [
       "<IPython.core.display.Javascript object>"
      ]
     },
     "metadata": {},
     "output_type": "display_data"
    }
   ],
   "source": [
    "import numpy as np\n",
    "import pandas as pd\n",
    "import plotly.express as px\n",
    "import matplotlib.pyplot as plt\n",
    "from IPython.display import display\n",
    "from sklearn.model_selection import train_test_split\n",
    "import time\n",
    "import plotly.express as px\n",
    "import plotly.graph_objects as go"
   ]
  },
  {
   "cell_type": "code",
   "execution_count": 4,
   "id": "20f663a8",
   "metadata": {},
   "outputs": [
    {
     "data": {
      "text/html": [
       "<div>\n",
       "<style scoped>\n",
       "    .dataframe tbody tr th:only-of-type {\n",
       "        vertical-align: middle;\n",
       "    }\n",
       "\n",
       "    .dataframe tbody tr th {\n",
       "        vertical-align: top;\n",
       "    }\n",
       "\n",
       "    .dataframe thead th {\n",
       "        text-align: right;\n",
       "    }\n",
       "</style>\n",
       "<table border=\"1\" class=\"dataframe\">\n",
       "  <thead>\n",
       "    <tr style=\"text-align: right;\">\n",
       "      <th></th>\n",
       "      <th>loan_amount</th>\n",
       "      <th>term</th>\n",
       "      <th>income</th>\n",
       "      <th>Credit_Score</th>\n",
       "      <th>Status</th>\n",
       "      <th>loan_limit_cf</th>\n",
       "      <th>loan_limit_ncf</th>\n",
       "      <th>submission_of_application_not_inst</th>\n",
       "      <th>submission_of_application_to_inst</th>\n",
       "      <th>co-applicant_credit_type_CIB</th>\n",
       "      <th>...</th>\n",
       "      <th>Region_North-East</th>\n",
       "      <th>Region_central</th>\n",
       "      <th>Region_south</th>\n",
       "      <th>age_25-34</th>\n",
       "      <th>age_35-44</th>\n",
       "      <th>age_45-54</th>\n",
       "      <th>age_55-64</th>\n",
       "      <th>age_65-74</th>\n",
       "      <th>age_&lt;25</th>\n",
       "      <th>age_&gt;74</th>\n",
       "    </tr>\n",
       "  </thead>\n",
       "  <tbody>\n",
       "    <tr>\n",
       "      <th>0</th>\n",
       "      <td>116500</td>\n",
       "      <td>360.0</td>\n",
       "      <td>1740.0</td>\n",
       "      <td>758</td>\n",
       "      <td>1</td>\n",
       "      <td>1</td>\n",
       "      <td>0</td>\n",
       "      <td>0</td>\n",
       "      <td>1</td>\n",
       "      <td>1</td>\n",
       "      <td>...</td>\n",
       "      <td>0</td>\n",
       "      <td>0</td>\n",
       "      <td>1</td>\n",
       "      <td>1</td>\n",
       "      <td>0</td>\n",
       "      <td>0</td>\n",
       "      <td>0</td>\n",
       "      <td>0</td>\n",
       "      <td>0</td>\n",
       "      <td>0</td>\n",
       "    </tr>\n",
       "    <tr>\n",
       "      <th>1</th>\n",
       "      <td>206500</td>\n",
       "      <td>360.0</td>\n",
       "      <td>4980.0</td>\n",
       "      <td>552</td>\n",
       "      <td>1</td>\n",
       "      <td>1</td>\n",
       "      <td>0</td>\n",
       "      <td>0</td>\n",
       "      <td>1</td>\n",
       "      <td>0</td>\n",
       "      <td>...</td>\n",
       "      <td>0</td>\n",
       "      <td>0</td>\n",
       "      <td>0</td>\n",
       "      <td>0</td>\n",
       "      <td>0</td>\n",
       "      <td>0</td>\n",
       "      <td>1</td>\n",
       "      <td>0</td>\n",
       "      <td>0</td>\n",
       "      <td>0</td>\n",
       "    </tr>\n",
       "    <tr>\n",
       "      <th>2</th>\n",
       "      <td>406500</td>\n",
       "      <td>360.0</td>\n",
       "      <td>9480.0</td>\n",
       "      <td>834</td>\n",
       "      <td>0</td>\n",
       "      <td>1</td>\n",
       "      <td>0</td>\n",
       "      <td>0</td>\n",
       "      <td>1</td>\n",
       "      <td>1</td>\n",
       "      <td>...</td>\n",
       "      <td>0</td>\n",
       "      <td>0</td>\n",
       "      <td>1</td>\n",
       "      <td>0</td>\n",
       "      <td>1</td>\n",
       "      <td>0</td>\n",
       "      <td>0</td>\n",
       "      <td>0</td>\n",
       "      <td>0</td>\n",
       "      <td>0</td>\n",
       "    </tr>\n",
       "    <tr>\n",
       "      <th>3</th>\n",
       "      <td>456500</td>\n",
       "      <td>360.0</td>\n",
       "      <td>11880.0</td>\n",
       "      <td>587</td>\n",
       "      <td>0</td>\n",
       "      <td>1</td>\n",
       "      <td>0</td>\n",
       "      <td>1</td>\n",
       "      <td>0</td>\n",
       "      <td>1</td>\n",
       "      <td>...</td>\n",
       "      <td>0</td>\n",
       "      <td>0</td>\n",
       "      <td>0</td>\n",
       "      <td>0</td>\n",
       "      <td>0</td>\n",
       "      <td>1</td>\n",
       "      <td>0</td>\n",
       "      <td>0</td>\n",
       "      <td>0</td>\n",
       "      <td>0</td>\n",
       "    </tr>\n",
       "    <tr>\n",
       "      <th>4</th>\n",
       "      <td>696500</td>\n",
       "      <td>360.0</td>\n",
       "      <td>10440.0</td>\n",
       "      <td>602</td>\n",
       "      <td>0</td>\n",
       "      <td>1</td>\n",
       "      <td>0</td>\n",
       "      <td>1</td>\n",
       "      <td>0</td>\n",
       "      <td>0</td>\n",
       "      <td>...</td>\n",
       "      <td>0</td>\n",
       "      <td>0</td>\n",
       "      <td>0</td>\n",
       "      <td>1</td>\n",
       "      <td>0</td>\n",
       "      <td>0</td>\n",
       "      <td>0</td>\n",
       "      <td>0</td>\n",
       "      <td>0</td>\n",
       "      <td>0</td>\n",
       "    </tr>\n",
       "    <tr>\n",
       "      <th>...</th>\n",
       "      <td>...</td>\n",
       "      <td>...</td>\n",
       "      <td>...</td>\n",
       "      <td>...</td>\n",
       "      <td>...</td>\n",
       "      <td>...</td>\n",
       "      <td>...</td>\n",
       "      <td>...</td>\n",
       "      <td>...</td>\n",
       "      <td>...</td>\n",
       "      <td>...</td>\n",
       "      <td>...</td>\n",
       "      <td>...</td>\n",
       "      <td>...</td>\n",
       "      <td>...</td>\n",
       "      <td>...</td>\n",
       "      <td>...</td>\n",
       "      <td>...</td>\n",
       "      <td>...</td>\n",
       "      <td>...</td>\n",
       "      <td>...</td>\n",
       "    </tr>\n",
       "    <tr>\n",
       "      <th>135103</th>\n",
       "      <td>436500</td>\n",
       "      <td>180.0</td>\n",
       "      <td>7860.0</td>\n",
       "      <td>659</td>\n",
       "      <td>0</td>\n",
       "      <td>1</td>\n",
       "      <td>0</td>\n",
       "      <td>0</td>\n",
       "      <td>1</td>\n",
       "      <td>0</td>\n",
       "      <td>...</td>\n",
       "      <td>0</td>\n",
       "      <td>0</td>\n",
       "      <td>1</td>\n",
       "      <td>0</td>\n",
       "      <td>0</td>\n",
       "      <td>0</td>\n",
       "      <td>1</td>\n",
       "      <td>0</td>\n",
       "      <td>0</td>\n",
       "      <td>0</td>\n",
       "    </tr>\n",
       "    <tr>\n",
       "      <th>135104</th>\n",
       "      <td>586500</td>\n",
       "      <td>360.0</td>\n",
       "      <td>7140.0</td>\n",
       "      <td>569</td>\n",
       "      <td>0</td>\n",
       "      <td>1</td>\n",
       "      <td>0</td>\n",
       "      <td>1</td>\n",
       "      <td>0</td>\n",
       "      <td>1</td>\n",
       "      <td>...</td>\n",
       "      <td>0</td>\n",
       "      <td>0</td>\n",
       "      <td>1</td>\n",
       "      <td>1</td>\n",
       "      <td>0</td>\n",
       "      <td>0</td>\n",
       "      <td>0</td>\n",
       "      <td>0</td>\n",
       "      <td>0</td>\n",
       "      <td>0</td>\n",
       "    </tr>\n",
       "    <tr>\n",
       "      <th>135105</th>\n",
       "      <td>446500</td>\n",
       "      <td>180.0</td>\n",
       "      <td>6900.0</td>\n",
       "      <td>702</td>\n",
       "      <td>0</td>\n",
       "      <td>1</td>\n",
       "      <td>0</td>\n",
       "      <td>1</td>\n",
       "      <td>0</td>\n",
       "      <td>0</td>\n",
       "      <td>...</td>\n",
       "      <td>0</td>\n",
       "      <td>0</td>\n",
       "      <td>0</td>\n",
       "      <td>0</td>\n",
       "      <td>0</td>\n",
       "      <td>1</td>\n",
       "      <td>0</td>\n",
       "      <td>0</td>\n",
       "      <td>0</td>\n",
       "      <td>0</td>\n",
       "    </tr>\n",
       "    <tr>\n",
       "      <th>135106</th>\n",
       "      <td>196500</td>\n",
       "      <td>180.0</td>\n",
       "      <td>7140.0</td>\n",
       "      <td>737</td>\n",
       "      <td>0</td>\n",
       "      <td>1</td>\n",
       "      <td>0</td>\n",
       "      <td>0</td>\n",
       "      <td>1</td>\n",
       "      <td>0</td>\n",
       "      <td>...</td>\n",
       "      <td>0</td>\n",
       "      <td>0</td>\n",
       "      <td>0</td>\n",
       "      <td>0</td>\n",
       "      <td>0</td>\n",
       "      <td>0</td>\n",
       "      <td>1</td>\n",
       "      <td>0</td>\n",
       "      <td>0</td>\n",
       "      <td>0</td>\n",
       "    </tr>\n",
       "    <tr>\n",
       "      <th>135107</th>\n",
       "      <td>406500</td>\n",
       "      <td>240.0</td>\n",
       "      <td>7260.0</td>\n",
       "      <td>830</td>\n",
       "      <td>0</td>\n",
       "      <td>1</td>\n",
       "      <td>0</td>\n",
       "      <td>1</td>\n",
       "      <td>0</td>\n",
       "      <td>1</td>\n",
       "      <td>...</td>\n",
       "      <td>0</td>\n",
       "      <td>0</td>\n",
       "      <td>0</td>\n",
       "      <td>0</td>\n",
       "      <td>0</td>\n",
       "      <td>1</td>\n",
       "      <td>0</td>\n",
       "      <td>0</td>\n",
       "      <td>0</td>\n",
       "      <td>0</td>\n",
       "    </tr>\n",
       "  </tbody>\n",
       "</table>\n",
       "<p>135108 rows × 64 columns</p>\n",
       "</div>"
      ],
      "text/plain": [
       "        loan_amount   term   income  Credit_Score  Status  loan_limit_cf  \\\n",
       "0            116500  360.0   1740.0           758       1              1   \n",
       "1            206500  360.0   4980.0           552       1              1   \n",
       "2            406500  360.0   9480.0           834       0              1   \n",
       "3            456500  360.0  11880.0           587       0              1   \n",
       "4            696500  360.0  10440.0           602       0              1   \n",
       "...             ...    ...      ...           ...     ...            ...   \n",
       "135103       436500  180.0   7860.0           659       0              1   \n",
       "135104       586500  360.0   7140.0           569       0              1   \n",
       "135105       446500  180.0   6900.0           702       0              1   \n",
       "135106       196500  180.0   7140.0           737       0              1   \n",
       "135107       406500  240.0   7260.0           830       0              1   \n",
       "\n",
       "        loan_limit_ncf  submission_of_application_not_inst  \\\n",
       "0                    0                                   0   \n",
       "1                    0                                   0   \n",
       "2                    0                                   0   \n",
       "3                    0                                   1   \n",
       "4                    0                                   1   \n",
       "...                ...                                 ...   \n",
       "135103               0                                   0   \n",
       "135104               0                                   1   \n",
       "135105               0                                   1   \n",
       "135106               0                                   0   \n",
       "135107               0                                   1   \n",
       "\n",
       "        submission_of_application_to_inst  co-applicant_credit_type_CIB  ...  \\\n",
       "0                                       1                             1  ...   \n",
       "1                                       1                             0  ...   \n",
       "2                                       1                             1  ...   \n",
       "3                                       0                             1  ...   \n",
       "4                                       0                             0  ...   \n",
       "...                                   ...                           ...  ...   \n",
       "135103                                  1                             0  ...   \n",
       "135104                                  0                             1  ...   \n",
       "135105                                  0                             0  ...   \n",
       "135106                                  1                             0  ...   \n",
       "135107                                  0                             1  ...   \n",
       "\n",
       "        Region_North-East  Region_central  Region_south  age_25-34  age_35-44  \\\n",
       "0                       0               0             1          1          0   \n",
       "1                       0               0             0          0          0   \n",
       "2                       0               0             1          0          1   \n",
       "3                       0               0             0          0          0   \n",
       "4                       0               0             0          1          0   \n",
       "...                   ...             ...           ...        ...        ...   \n",
       "135103                  0               0             1          0          0   \n",
       "135104                  0               0             1          1          0   \n",
       "135105                  0               0             0          0          0   \n",
       "135106                  0               0             0          0          0   \n",
       "135107                  0               0             0          0          0   \n",
       "\n",
       "        age_45-54  age_55-64  age_65-74  age_<25  age_>74  \n",
       "0               0          0          0        0        0  \n",
       "1               0          1          0        0        0  \n",
       "2               0          0          0        0        0  \n",
       "3               1          0          0        0        0  \n",
       "4               0          0          0        0        0  \n",
       "...           ...        ...        ...      ...      ...  \n",
       "135103          0          1          0        0        0  \n",
       "135104          0          0          0        0        0  \n",
       "135105          1          0          0        0        0  \n",
       "135106          0          1          0        0        0  \n",
       "135107          1          0          0        0        0  \n",
       "\n",
       "[135108 rows x 64 columns]"
      ]
     },
     "metadata": {},
     "output_type": "display_data"
    },
    {
     "data": {
      "application/javascript": [
       "\n",
       "            setTimeout(function() {\n",
       "                var nbb_cell_id = 4;\n",
       "                var nbb_unformatted_code = \"df = pd.read_csv(\\\"../data/cleaned.csv\\\", index_col=[0])\\ndisplay(df)\";\n",
       "                var nbb_formatted_code = \"df = pd.read_csv(\\\"../data/cleaned.csv\\\", index_col=[0])\\ndisplay(df)\";\n",
       "                var nbb_cells = Jupyter.notebook.get_cells();\n",
       "                for (var i = 0; i < nbb_cells.length; ++i) {\n",
       "                    if (nbb_cells[i].input_prompt_number == nbb_cell_id) {\n",
       "                        if (nbb_cells[i].get_text() == nbb_unformatted_code) {\n",
       "                             nbb_cells[i].set_text(nbb_formatted_code);\n",
       "                        }\n",
       "                        break;\n",
       "                    }\n",
       "                }\n",
       "            }, 500);\n",
       "            "
      ],
      "text/plain": [
       "<IPython.core.display.Javascript object>"
      ]
     },
     "metadata": {},
     "output_type": "display_data"
    }
   ],
   "source": [
    "df = pd.read_csv(\"../data/cleaned.csv\", index_col=[0])\n",
    "display(df)"
   ]
  },
  {
   "cell_type": "code",
   "execution_count": 66,
   "id": "504d205b",
   "metadata": {},
   "outputs": [
    {
     "data": {
      "text/plain": [
       "0         758\n",
       "1         552\n",
       "2         834\n",
       "3         587\n",
       "4         602\n",
       "         ... \n",
       "135103    659\n",
       "135104    569\n",
       "135105    702\n",
       "135106    737\n",
       "135107    830\n",
       "Name: Credit_Score, Length: 135108, dtype: int64"
      ]
     },
     "metadata": {},
     "output_type": "display_data"
    },
    {
     "data": {
      "application/javascript": [
       "\n",
       "            setTimeout(function() {\n",
       "                var nbb_cell_id = 66;\n",
       "                var nbb_unformatted_code = \"X = df.drop(\\\"Credit_Score\\\", axis=1)\\ny =  df.loc[:, \\\"Credit_Score\\\"]\\ndisplay(y)\";\n",
       "                var nbb_formatted_code = \"X = df.drop(\\\"Credit_Score\\\", axis=1)\\ny = df.loc[:, \\\"Credit_Score\\\"]\\ndisplay(y)\";\n",
       "                var nbb_cells = Jupyter.notebook.get_cells();\n",
       "                for (var i = 0; i < nbb_cells.length; ++i) {\n",
       "                    if (nbb_cells[i].input_prompt_number == nbb_cell_id) {\n",
       "                        if (nbb_cells[i].get_text() == nbb_unformatted_code) {\n",
       "                             nbb_cells[i].set_text(nbb_formatted_code);\n",
       "                        }\n",
       "                        break;\n",
       "                    }\n",
       "                }\n",
       "            }, 500);\n",
       "            "
      ],
      "text/plain": [
       "<IPython.core.display.Javascript object>"
      ]
     },
     "metadata": {},
     "output_type": "display_data"
    }
   ],
   "source": [
    "X = df.drop(\"Credit_Score\", axis=1)\n",
    "y = df.loc[:, \"Credit_Score\"]\n",
    "display(y)"
   ]
  },
  {
   "cell_type": "code",
   "execution_count": 6,
   "id": "5a7e6072",
   "metadata": {},
   "outputs": [
    {
     "data": {
      "application/javascript": [
       "\n",
       "            setTimeout(function() {\n",
       "                var nbb_cell_id = 6;\n",
       "                var nbb_unformatted_code = \"def standardizeData(data):\\n    # Takes pandas dataframe and standardizes it iteratively\\n    for column in data:\\n        if (data[column] != 0).sum() == 0:  # If the column is all zeros\\n            continue  # No need to standardize all zeros (thus dividing by zero)\\n        else:\\n            data[column] = (data[column] - np.mean(data[column])) / np.std(data[column])\\n    return data\";\n",
       "                var nbb_formatted_code = \"def standardizeData(data):\\n    # Takes pandas dataframe and standardizes it iteratively\\n    for column in data:\\n        if (data[column] != 0).sum() == 0:  # If the column is all zeros\\n            continue  # No need to standardize all zeros (thus dividing by zero)\\n        else:\\n            data[column] = (data[column] - np.mean(data[column])) / np.std(data[column])\\n    return data\";\n",
       "                var nbb_cells = Jupyter.notebook.get_cells();\n",
       "                for (var i = 0; i < nbb_cells.length; ++i) {\n",
       "                    if (nbb_cells[i].input_prompt_number == nbb_cell_id) {\n",
       "                        if (nbb_cells[i].get_text() == nbb_unformatted_code) {\n",
       "                             nbb_cells[i].set_text(nbb_formatted_code);\n",
       "                        }\n",
       "                        break;\n",
       "                    }\n",
       "                }\n",
       "            }, 500);\n",
       "            "
      ],
      "text/plain": [
       "<IPython.core.display.Javascript object>"
      ]
     },
     "metadata": {},
     "output_type": "display_data"
    }
   ],
   "source": [
    "def standardizeData(data):\n",
    "    # Takes pandas dataframe and standardizes it iteratively\n",
    "    for column in data:\n",
    "        if (data[column] != 0).sum() == 0:  # If the column is all zeros\n",
    "            continue  # No need to standardize all zeros (thus dividing by zero)\n",
    "        else:\n",
    "            data[column] = (data[column] - np.mean(data[column])) / np.std(data[column])\n",
    "    return data"
   ]
  },
  {
   "cell_type": "code",
   "execution_count": 7,
   "id": "5b0e1bae",
   "metadata": {},
   "outputs": [
    {
     "data": {
      "text/html": [
       "<div>\n",
       "<style scoped>\n",
       "    .dataframe tbody tr th:only-of-type {\n",
       "        vertical-align: middle;\n",
       "    }\n",
       "\n",
       "    .dataframe tbody tr th {\n",
       "        vertical-align: top;\n",
       "    }\n",
       "\n",
       "    .dataframe thead th {\n",
       "        text-align: right;\n",
       "    }\n",
       "</style>\n",
       "<table border=\"1\" class=\"dataframe\">\n",
       "  <thead>\n",
       "    <tr style=\"text-align: right;\">\n",
       "      <th></th>\n",
       "      <th>loan_amount</th>\n",
       "      <th>term</th>\n",
       "      <th>income</th>\n",
       "      <th>Status</th>\n",
       "      <th>loan_limit_cf</th>\n",
       "      <th>loan_limit_ncf</th>\n",
       "      <th>submission_of_application_not_inst</th>\n",
       "      <th>submission_of_application_to_inst</th>\n",
       "      <th>co-applicant_credit_type_CIB</th>\n",
       "      <th>co-applicant_credit_type_EXP</th>\n",
       "      <th>...</th>\n",
       "      <th>Region_North-East</th>\n",
       "      <th>Region_central</th>\n",
       "      <th>Region_south</th>\n",
       "      <th>age_25-34</th>\n",
       "      <th>age_35-44</th>\n",
       "      <th>age_45-54</th>\n",
       "      <th>age_55-64</th>\n",
       "      <th>age_65-74</th>\n",
       "      <th>age_&lt;25</th>\n",
       "      <th>age_&gt;74</th>\n",
       "    </tr>\n",
       "  </thead>\n",
       "  <tbody>\n",
       "    <tr>\n",
       "      <th>0</th>\n",
       "      <td>-1.152094</td>\n",
       "      <td>0.439777</td>\n",
       "      <td>-0.803694</td>\n",
       "      <td>1.716802</td>\n",
       "      <td>0.268036</td>\n",
       "      <td>-0.268036</td>\n",
       "      <td>-0.737362</td>\n",
       "      <td>0.737362</td>\n",
       "      <td>0.995436</td>\n",
       "      <td>-0.995436</td>\n",
       "      <td>...</td>\n",
       "      <td>-0.091551</td>\n",
       "      <td>-0.246226</td>\n",
       "      <td>1.152530</td>\n",
       "      <td>2.614658</td>\n",
       "      <td>-0.531420</td>\n",
       "      <td>-0.553124</td>\n",
       "      <td>-0.533515</td>\n",
       "      <td>-0.402305</td>\n",
       "      <td>-0.096048</td>\n",
       "      <td>-0.224268</td>\n",
       "    </tr>\n",
       "    <tr>\n",
       "      <th>1</th>\n",
       "      <td>-0.665241</td>\n",
       "      <td>0.439777</td>\n",
       "      <td>-0.305114</td>\n",
       "      <td>1.716802</td>\n",
       "      <td>0.268036</td>\n",
       "      <td>-0.268036</td>\n",
       "      <td>-0.737362</td>\n",
       "      <td>0.737362</td>\n",
       "      <td>-1.004585</td>\n",
       "      <td>1.004585</td>\n",
       "      <td>...</td>\n",
       "      <td>-0.091551</td>\n",
       "      <td>-0.246226</td>\n",
       "      <td>-0.867657</td>\n",
       "      <td>-0.382459</td>\n",
       "      <td>-0.531420</td>\n",
       "      <td>-0.553124</td>\n",
       "      <td>1.874361</td>\n",
       "      <td>-0.402305</td>\n",
       "      <td>-0.096048</td>\n",
       "      <td>-0.224268</td>\n",
       "    </tr>\n",
       "    <tr>\n",
       "      <th>2</th>\n",
       "      <td>0.416656</td>\n",
       "      <td>0.439777</td>\n",
       "      <td>0.387358</td>\n",
       "      <td>-0.582478</td>\n",
       "      <td>0.268036</td>\n",
       "      <td>-0.268036</td>\n",
       "      <td>-0.737362</td>\n",
       "      <td>0.737362</td>\n",
       "      <td>0.995436</td>\n",
       "      <td>-0.995436</td>\n",
       "      <td>...</td>\n",
       "      <td>-0.091551</td>\n",
       "      <td>-0.246226</td>\n",
       "      <td>1.152530</td>\n",
       "      <td>-0.382459</td>\n",
       "      <td>1.881751</td>\n",
       "      <td>-0.553124</td>\n",
       "      <td>-0.533515</td>\n",
       "      <td>-0.402305</td>\n",
       "      <td>-0.096048</td>\n",
       "      <td>-0.224268</td>\n",
       "    </tr>\n",
       "    <tr>\n",
       "      <th>3</th>\n",
       "      <td>0.687130</td>\n",
       "      <td>0.439777</td>\n",
       "      <td>0.756677</td>\n",
       "      <td>-0.582478</td>\n",
       "      <td>0.268036</td>\n",
       "      <td>-0.268036</td>\n",
       "      <td>1.356185</td>\n",
       "      <td>-1.356185</td>\n",
       "      <td>0.995436</td>\n",
       "      <td>-0.995436</td>\n",
       "      <td>...</td>\n",
       "      <td>-0.091551</td>\n",
       "      <td>-0.246226</td>\n",
       "      <td>-0.867657</td>\n",
       "      <td>-0.382459</td>\n",
       "      <td>-0.531420</td>\n",
       "      <td>1.807912</td>\n",
       "      <td>-0.533515</td>\n",
       "      <td>-0.402305</td>\n",
       "      <td>-0.096048</td>\n",
       "      <td>-0.224268</td>\n",
       "    </tr>\n",
       "    <tr>\n",
       "      <th>4</th>\n",
       "      <td>1.985407</td>\n",
       "      <td>0.439777</td>\n",
       "      <td>0.535086</td>\n",
       "      <td>-0.582478</td>\n",
       "      <td>0.268036</td>\n",
       "      <td>-0.268036</td>\n",
       "      <td>1.356185</td>\n",
       "      <td>-1.356185</td>\n",
       "      <td>-1.004585</td>\n",
       "      <td>1.004585</td>\n",
       "      <td>...</td>\n",
       "      <td>-0.091551</td>\n",
       "      <td>-0.246226</td>\n",
       "      <td>-0.867657</td>\n",
       "      <td>2.614658</td>\n",
       "      <td>-0.531420</td>\n",
       "      <td>-0.553124</td>\n",
       "      <td>-0.533515</td>\n",
       "      <td>-0.402305</td>\n",
       "      <td>-0.096048</td>\n",
       "      <td>-0.224268</td>\n",
       "    </tr>\n",
       "    <tr>\n",
       "      <th>...</th>\n",
       "      <td>...</td>\n",
       "      <td>...</td>\n",
       "      <td>...</td>\n",
       "      <td>...</td>\n",
       "      <td>...</td>\n",
       "      <td>...</td>\n",
       "      <td>...</td>\n",
       "      <td>...</td>\n",
       "      <td>...</td>\n",
       "      <td>...</td>\n",
       "      <td>...</td>\n",
       "      <td>...</td>\n",
       "      <td>...</td>\n",
       "      <td>...</td>\n",
       "      <td>...</td>\n",
       "      <td>...</td>\n",
       "      <td>...</td>\n",
       "      <td>...</td>\n",
       "      <td>...</td>\n",
       "      <td>...</td>\n",
       "      <td>...</td>\n",
       "    </tr>\n",
       "    <tr>\n",
       "      <th>135103</th>\n",
       "      <td>0.578941</td>\n",
       "      <td>-2.568908</td>\n",
       "      <td>0.138068</td>\n",
       "      <td>-0.582478</td>\n",
       "      <td>0.268036</td>\n",
       "      <td>-0.268036</td>\n",
       "      <td>-0.737362</td>\n",
       "      <td>0.737362</td>\n",
       "      <td>-1.004585</td>\n",
       "      <td>1.004585</td>\n",
       "      <td>...</td>\n",
       "      <td>-0.091551</td>\n",
       "      <td>-0.246226</td>\n",
       "      <td>1.152530</td>\n",
       "      <td>-0.382459</td>\n",
       "      <td>-0.531420</td>\n",
       "      <td>-0.553124</td>\n",
       "      <td>1.874361</td>\n",
       "      <td>-0.402305</td>\n",
       "      <td>-0.096048</td>\n",
       "      <td>-0.224268</td>\n",
       "    </tr>\n",
       "    <tr>\n",
       "      <th>135104</th>\n",
       "      <td>1.390363</td>\n",
       "      <td>0.439777</td>\n",
       "      <td>0.027273</td>\n",
       "      <td>-0.582478</td>\n",
       "      <td>0.268036</td>\n",
       "      <td>-0.268036</td>\n",
       "      <td>1.356185</td>\n",
       "      <td>-1.356185</td>\n",
       "      <td>0.995436</td>\n",
       "      <td>-0.995436</td>\n",
       "      <td>...</td>\n",
       "      <td>-0.091551</td>\n",
       "      <td>-0.246226</td>\n",
       "      <td>1.152530</td>\n",
       "      <td>2.614658</td>\n",
       "      <td>-0.531420</td>\n",
       "      <td>-0.553124</td>\n",
       "      <td>-0.533515</td>\n",
       "      <td>-0.402305</td>\n",
       "      <td>-0.096048</td>\n",
       "      <td>-0.224268</td>\n",
       "    </tr>\n",
       "    <tr>\n",
       "      <th>135105</th>\n",
       "      <td>0.633036</td>\n",
       "      <td>-2.568908</td>\n",
       "      <td>-0.009659</td>\n",
       "      <td>-0.582478</td>\n",
       "      <td>0.268036</td>\n",
       "      <td>-0.268036</td>\n",
       "      <td>1.356185</td>\n",
       "      <td>-1.356185</td>\n",
       "      <td>-1.004585</td>\n",
       "      <td>1.004585</td>\n",
       "      <td>...</td>\n",
       "      <td>-0.091551</td>\n",
       "      <td>-0.246226</td>\n",
       "      <td>-0.867657</td>\n",
       "      <td>-0.382459</td>\n",
       "      <td>-0.531420</td>\n",
       "      <td>1.807912</td>\n",
       "      <td>-0.533515</td>\n",
       "      <td>-0.402305</td>\n",
       "      <td>-0.096048</td>\n",
       "      <td>-0.224268</td>\n",
       "    </tr>\n",
       "    <tr>\n",
       "      <th>135106</th>\n",
       "      <td>-0.719336</td>\n",
       "      <td>-2.568908</td>\n",
       "      <td>0.027273</td>\n",
       "      <td>-0.582478</td>\n",
       "      <td>0.268036</td>\n",
       "      <td>-0.268036</td>\n",
       "      <td>-0.737362</td>\n",
       "      <td>0.737362</td>\n",
       "      <td>-1.004585</td>\n",
       "      <td>1.004585</td>\n",
       "      <td>...</td>\n",
       "      <td>-0.091551</td>\n",
       "      <td>-0.246226</td>\n",
       "      <td>-0.867657</td>\n",
       "      <td>-0.382459</td>\n",
       "      <td>-0.531420</td>\n",
       "      <td>-0.553124</td>\n",
       "      <td>1.874361</td>\n",
       "      <td>-0.402305</td>\n",
       "      <td>-0.096048</td>\n",
       "      <td>-0.224268</td>\n",
       "    </tr>\n",
       "    <tr>\n",
       "      <th>135107</th>\n",
       "      <td>0.416656</td>\n",
       "      <td>-1.566013</td>\n",
       "      <td>0.045739</td>\n",
       "      <td>-0.582478</td>\n",
       "      <td>0.268036</td>\n",
       "      <td>-0.268036</td>\n",
       "      <td>1.356185</td>\n",
       "      <td>-1.356185</td>\n",
       "      <td>0.995436</td>\n",
       "      <td>-0.995436</td>\n",
       "      <td>...</td>\n",
       "      <td>-0.091551</td>\n",
       "      <td>-0.246226</td>\n",
       "      <td>-0.867657</td>\n",
       "      <td>-0.382459</td>\n",
       "      <td>-0.531420</td>\n",
       "      <td>1.807912</td>\n",
       "      <td>-0.533515</td>\n",
       "      <td>-0.402305</td>\n",
       "      <td>-0.096048</td>\n",
       "      <td>-0.224268</td>\n",
       "    </tr>\n",
       "  </tbody>\n",
       "</table>\n",
       "<p>135108 rows × 63 columns</p>\n",
       "</div>"
      ],
      "text/plain": [
       "        loan_amount      term    income    Status  loan_limit_cf  \\\n",
       "0         -1.152094  0.439777 -0.803694  1.716802       0.268036   \n",
       "1         -0.665241  0.439777 -0.305114  1.716802       0.268036   \n",
       "2          0.416656  0.439777  0.387358 -0.582478       0.268036   \n",
       "3          0.687130  0.439777  0.756677 -0.582478       0.268036   \n",
       "4          1.985407  0.439777  0.535086 -0.582478       0.268036   \n",
       "...             ...       ...       ...       ...            ...   \n",
       "135103     0.578941 -2.568908  0.138068 -0.582478       0.268036   \n",
       "135104     1.390363  0.439777  0.027273 -0.582478       0.268036   \n",
       "135105     0.633036 -2.568908 -0.009659 -0.582478       0.268036   \n",
       "135106    -0.719336 -2.568908  0.027273 -0.582478       0.268036   \n",
       "135107     0.416656 -1.566013  0.045739 -0.582478       0.268036   \n",
       "\n",
       "        loan_limit_ncf  submission_of_application_not_inst  \\\n",
       "0            -0.268036                           -0.737362   \n",
       "1            -0.268036                           -0.737362   \n",
       "2            -0.268036                           -0.737362   \n",
       "3            -0.268036                            1.356185   \n",
       "4            -0.268036                            1.356185   \n",
       "...                ...                                 ...   \n",
       "135103       -0.268036                           -0.737362   \n",
       "135104       -0.268036                            1.356185   \n",
       "135105       -0.268036                            1.356185   \n",
       "135106       -0.268036                           -0.737362   \n",
       "135107       -0.268036                            1.356185   \n",
       "\n",
       "        submission_of_application_to_inst  co-applicant_credit_type_CIB  \\\n",
       "0                                0.737362                      0.995436   \n",
       "1                                0.737362                     -1.004585   \n",
       "2                                0.737362                      0.995436   \n",
       "3                               -1.356185                      0.995436   \n",
       "4                               -1.356185                     -1.004585   \n",
       "...                                   ...                           ...   \n",
       "135103                           0.737362                     -1.004585   \n",
       "135104                          -1.356185                      0.995436   \n",
       "135105                          -1.356185                     -1.004585   \n",
       "135106                           0.737362                     -1.004585   \n",
       "135107                          -1.356185                      0.995436   \n",
       "\n",
       "        co-applicant_credit_type_EXP  ...  Region_North-East  Region_central  \\\n",
       "0                          -0.995436  ...          -0.091551       -0.246226   \n",
       "1                           1.004585  ...          -0.091551       -0.246226   \n",
       "2                          -0.995436  ...          -0.091551       -0.246226   \n",
       "3                          -0.995436  ...          -0.091551       -0.246226   \n",
       "4                           1.004585  ...          -0.091551       -0.246226   \n",
       "...                              ...  ...                ...             ...   \n",
       "135103                      1.004585  ...          -0.091551       -0.246226   \n",
       "135104                     -0.995436  ...          -0.091551       -0.246226   \n",
       "135105                      1.004585  ...          -0.091551       -0.246226   \n",
       "135106                      1.004585  ...          -0.091551       -0.246226   \n",
       "135107                     -0.995436  ...          -0.091551       -0.246226   \n",
       "\n",
       "        Region_south  age_25-34  age_35-44  age_45-54  age_55-64  age_65-74  \\\n",
       "0           1.152530   2.614658  -0.531420  -0.553124  -0.533515  -0.402305   \n",
       "1          -0.867657  -0.382459  -0.531420  -0.553124   1.874361  -0.402305   \n",
       "2           1.152530  -0.382459   1.881751  -0.553124  -0.533515  -0.402305   \n",
       "3          -0.867657  -0.382459  -0.531420   1.807912  -0.533515  -0.402305   \n",
       "4          -0.867657   2.614658  -0.531420  -0.553124  -0.533515  -0.402305   \n",
       "...              ...        ...        ...        ...        ...        ...   \n",
       "135103      1.152530  -0.382459  -0.531420  -0.553124   1.874361  -0.402305   \n",
       "135104      1.152530   2.614658  -0.531420  -0.553124  -0.533515  -0.402305   \n",
       "135105     -0.867657  -0.382459  -0.531420   1.807912  -0.533515  -0.402305   \n",
       "135106     -0.867657  -0.382459  -0.531420  -0.553124   1.874361  -0.402305   \n",
       "135107     -0.867657  -0.382459  -0.531420   1.807912  -0.533515  -0.402305   \n",
       "\n",
       "         age_<25   age_>74  \n",
       "0      -0.096048 -0.224268  \n",
       "1      -0.096048 -0.224268  \n",
       "2      -0.096048 -0.224268  \n",
       "3      -0.096048 -0.224268  \n",
       "4      -0.096048 -0.224268  \n",
       "...          ...       ...  \n",
       "135103 -0.096048 -0.224268  \n",
       "135104 -0.096048 -0.224268  \n",
       "135105 -0.096048 -0.224268  \n",
       "135106 -0.096048 -0.224268  \n",
       "135107 -0.096048 -0.224268  \n",
       "\n",
       "[135108 rows x 63 columns]"
      ]
     },
     "metadata": {},
     "output_type": "display_data"
    },
    {
     "data": {
      "application/javascript": [
       "\n",
       "            setTimeout(function() {\n",
       "                var nbb_cell_id = 7;\n",
       "                var nbb_unformatted_code = \"X_standardized = standardizeData(X)\\ndisplay(X_standardized)\";\n",
       "                var nbb_formatted_code = \"X_standardized = standardizeData(X)\\ndisplay(X_standardized)\";\n",
       "                var nbb_cells = Jupyter.notebook.get_cells();\n",
       "                for (var i = 0; i < nbb_cells.length; ++i) {\n",
       "                    if (nbb_cells[i].input_prompt_number == nbb_cell_id) {\n",
       "                        if (nbb_cells[i].get_text() == nbb_unformatted_code) {\n",
       "                             nbb_cells[i].set_text(nbb_formatted_code);\n",
       "                        }\n",
       "                        break;\n",
       "                    }\n",
       "                }\n",
       "            }, 500);\n",
       "            "
      ],
      "text/plain": [
       "<IPython.core.display.Javascript object>"
      ]
     },
     "metadata": {},
     "output_type": "display_data"
    }
   ],
   "source": [
    "X_standardized = standardizeData(X)\n",
    "display(X_standardized)"
   ]
  },
  {
   "cell_type": "code",
   "execution_count": 67,
   "id": "3e604e20",
   "metadata": {},
   "outputs": [
    {
     "data": {
      "text/plain": [
       "0     0.274256\n",
       "1     0.313668\n",
       "2     0.719076\n",
       "3    -0.326186\n",
       "4     0.167247\n",
       "        ...   \n",
       "58    1.000801\n",
       "59   -0.127906\n",
       "60    0.016308\n",
       "61   -0.504304\n",
       "62   -1.286748\n",
       "Length: 63, dtype: float64"
      ]
     },
     "metadata": {},
     "output_type": "display_data"
    },
    {
     "data": {
      "application/javascript": [
       "\n",
       "            setTimeout(function() {\n",
       "                var nbb_cell_id = 67;\n",
       "                var nbb_unformatted_code = \"# Start analysis with value of arbitrary value of lambda\\nfrom sklearn.model_selection import train_test_split\\n\\nXtrain, Xtest, Ytrain, Ytest = train_test_split(\\n    X_standardized, y, test_size=0.3, random_state=0\\n)\\n\\nn, m = Xtrain.shape\\nI = np.identity(m)\\nalpha = 1e5\\nbeta = sp.linalg.inv((Xtrain.T @ Xtrain) + alpha * I) @ Xtrain.T @ Ytrain\\ndisplay(beta)\";\n",
       "                var nbb_formatted_code = \"# Start analysis with value of arbitrary value of lambda\\nfrom sklearn.model_selection import train_test_split\\n\\nXtrain, Xtest, Ytrain, Ytest = train_test_split(\\n    X_standardized, y, test_size=0.3, random_state=0\\n)\\n\\nn, m = Xtrain.shape\\nI = np.identity(m)\\nalpha = 1e5\\nbeta = sp.linalg.inv((Xtrain.T @ Xtrain) + alpha * I) @ Xtrain.T @ Ytrain\\ndisplay(beta)\";\n",
       "                var nbb_cells = Jupyter.notebook.get_cells();\n",
       "                for (var i = 0; i < nbb_cells.length; ++i) {\n",
       "                    if (nbb_cells[i].input_prompt_number == nbb_cell_id) {\n",
       "                        if (nbb_cells[i].get_text() == nbb_unformatted_code) {\n",
       "                             nbb_cells[i].set_text(nbb_formatted_code);\n",
       "                        }\n",
       "                        break;\n",
       "                    }\n",
       "                }\n",
       "            }, 500);\n",
       "            "
      ],
      "text/plain": [
       "<IPython.core.display.Javascript object>"
      ]
     },
     "metadata": {},
     "output_type": "display_data"
    }
   ],
   "source": [
    "# Start analysis with value of arbitrary value of lambda\n",
    "from sklearn.model_selection import train_test_split\n",
    "\n",
    "Xtrain, Xtest, Ytrain, Ytest = train_test_split(\n",
    "    X_standardized, y, test_size=0.3, random_state=0\n",
    ")\n",
    "\n",
    "n, m = Xtrain.shape\n",
    "I = np.identity(m)\n",
    "alpha = 1e5\n",
    "beta = sp.linalg.inv((Xtrain.T @ Xtrain) + alpha * I) @ Xtrain.T @ Ytrain\n",
    "display(beta)"
   ]
  },
  {
   "cell_type": "code",
   "execution_count": 58,
   "id": "d4c7743d",
   "metadata": {},
   "outputs": [
    {
     "data": {
      "text/html": [
       "<div>\n",
       "<style scoped>\n",
       "    .dataframe tbody tr th:only-of-type {\n",
       "        vertical-align: middle;\n",
       "    }\n",
       "\n",
       "    .dataframe tbody tr th {\n",
       "        vertical-align: top;\n",
       "    }\n",
       "\n",
       "    .dataframe thead th {\n",
       "        text-align: right;\n",
       "    }\n",
       "</style>\n",
       "<table border=\"1\" class=\"dataframe\">\n",
       "  <thead>\n",
       "    <tr style=\"text-align: right;\">\n",
       "      <th></th>\n",
       "      <th>abs coef</th>\n",
       "      <th>coef</th>\n",
       "      <th>names</th>\n",
       "    </tr>\n",
       "  </thead>\n",
       "  <tbody>\n",
       "    <tr>\n",
       "      <th>26</th>\n",
       "      <td>3.224516e-05</td>\n",
       "      <td>3.224516e-05</td>\n",
       "      <td>Credit_Worthiness_l1</td>\n",
       "    </tr>\n",
       "    <tr>\n",
       "      <th>27</th>\n",
       "      <td>3.224516e-05</td>\n",
       "      <td>-3.224516e-05</td>\n",
       "      <td>Credit_Worthiness_l2</td>\n",
       "    </tr>\n",
       "    <tr>\n",
       "      <th>62</th>\n",
       "      <td>2.651170e-05</td>\n",
       "      <td>-2.651170e-05</td>\n",
       "      <td>age_&gt;74</td>\n",
       "    </tr>\n",
       "    <tr>\n",
       "      <th>58</th>\n",
       "      <td>2.249578e-05</td>\n",
       "      <td>2.249578e-05</td>\n",
       "      <td>age_45-54</td>\n",
       "    </tr>\n",
       "    <tr>\n",
       "      <th>42</th>\n",
       "      <td>2.076995e-05</td>\n",
       "      <td>2.076995e-05</td>\n",
       "      <td>total_units_3U</td>\n",
       "    </tr>\n",
       "    <tr>\n",
       "      <th>...</th>\n",
       "      <td>...</td>\n",
       "      <td>...</td>\n",
       "      <td>...</td>\n",
       "    </tr>\n",
       "    <tr>\n",
       "      <th>47</th>\n",
       "      <td>9.958560e-07</td>\n",
       "      <td>-9.958560e-07</td>\n",
       "      <td>credit_type_EXP</td>\n",
       "    </tr>\n",
       "    <tr>\n",
       "      <th>46</th>\n",
       "      <td>5.710459e-07</td>\n",
       "      <td>-5.710459e-07</td>\n",
       "      <td>credit_type_EQUI</td>\n",
       "    </tr>\n",
       "    <tr>\n",
       "      <th>35</th>\n",
       "      <td>9.095856e-08</td>\n",
       "      <td>9.095856e-08</td>\n",
       "      <td>loan_type_type3</td>\n",
       "    </tr>\n",
       "    <tr>\n",
       "      <th>6</th>\n",
       "      <td>8.276418e-08</td>\n",
       "      <td>8.276418e-08</td>\n",
       "      <td>submission_of_application_not_inst</td>\n",
       "    </tr>\n",
       "    <tr>\n",
       "      <th>7</th>\n",
       "      <td>8.276418e-08</td>\n",
       "      <td>-8.276418e-08</td>\n",
       "      <td>submission_of_application_to_inst</td>\n",
       "    </tr>\n",
       "  </tbody>\n",
       "</table>\n",
       "<p>63 rows × 3 columns</p>\n",
       "</div>"
      ],
      "text/plain": [
       "        abs coef          coef                               names\n",
       "26  3.224516e-05  3.224516e-05                Credit_Worthiness_l1\n",
       "27  3.224516e-05 -3.224516e-05                Credit_Worthiness_l2\n",
       "62  2.651170e-05 -2.651170e-05                             age_>74\n",
       "58  2.249578e-05  2.249578e-05                           age_45-54\n",
       "42  2.076995e-05  2.076995e-05                      total_units_3U\n",
       "..           ...           ...                                 ...\n",
       "47  9.958560e-07 -9.958560e-07                     credit_type_EXP\n",
       "46  5.710459e-07 -5.710459e-07                    credit_type_EQUI\n",
       "35  9.095856e-08  9.095856e-08                     loan_type_type3\n",
       "6   8.276418e-08  8.276418e-08  submission_of_application_not_inst\n",
       "7   8.276418e-08 -8.276418e-08   submission_of_application_to_inst\n",
       "\n",
       "[63 rows x 3 columns]"
      ]
     },
     "metadata": {},
     "output_type": "display_data"
    },
    {
     "data": {
      "application/javascript": [
       "\n",
       "            setTimeout(function() {\n",
       "                var nbb_cell_id = 58;\n",
       "                var nbb_unformatted_code = \"variables = X.columns.tolist()\\nmodel_coef = pd.DataFrame({\\\"abs coef\\\": abs(beta), \\\"coef\\\": beta, \\\"names\\\": variables})\\ndisplay(\\n    model_coef[model_coef[\\\"abs coef\\\"] != 0].sort_values(by=\\\"abs coef\\\", ascending=False)\\n)\";\n",
       "                var nbb_formatted_code = \"variables = X.columns.tolist()\\nmodel_coef = pd.DataFrame({\\\"abs coef\\\": abs(beta), \\\"coef\\\": beta, \\\"names\\\": variables})\\ndisplay(\\n    model_coef[model_coef[\\\"abs coef\\\"] != 0].sort_values(by=\\\"abs coef\\\", ascending=False)\\n)\";\n",
       "                var nbb_cells = Jupyter.notebook.get_cells();\n",
       "                for (var i = 0; i < nbb_cells.length; ++i) {\n",
       "                    if (nbb_cells[i].input_prompt_number == nbb_cell_id) {\n",
       "                        if (nbb_cells[i].get_text() == nbb_unformatted_code) {\n",
       "                             nbb_cells[i].set_text(nbb_formatted_code);\n",
       "                        }\n",
       "                        break;\n",
       "                    }\n",
       "                }\n",
       "            }, 500);\n",
       "            "
      ],
      "text/plain": [
       "<IPython.core.display.Javascript object>"
      ]
     },
     "metadata": {},
     "output_type": "display_data"
    }
   ],
   "source": [
    "variables = X.columns.tolist()\n",
    "model_coef = pd.DataFrame({\"abs coef\": abs(beta), \"coef\": beta, \"names\": variables})\n",
    "display(\n",
    "    model_coef[model_coef[\"abs coef\"] != 0].sort_values(by=\"abs coef\", ascending=False)\n",
    ")"
   ]
  },
  {
   "cell_type": "code",
   "execution_count": 73,
   "id": "95037f3b",
   "metadata": {},
   "outputs": [
    {
     "data": {
      "text/plain": [
       "(-489000.0, 10489000.0, -2.5760496375589392, 2.1254165084451415)"
      ]
     },
     "execution_count": 73,
     "metadata": {},
     "output_type": "execute_result"
    },
    {
     "data": {
      "image/png": "[encoded data removed]",
      "text/plain": [
       "<Figure size 432x288 with 1 Axes>"
      ]
     },
     "metadata": {
      "needs_background": "light"
     },
     "output_type": "display_data"
    },
    {
     "data": {
      "application/javascript": [
       "\n",
       "            setTimeout(function() {\n",
       "                var nbb_cell_id = 73;\n",
       "                var nbb_unformatted_code = \"from sklearn.linear_model import Ridge\\nimport scipy as sp\\n\\ncoef = []\\n# alphas = np.array(\\n#     [0.01, 0.5, 0.75, 0.9, 1, 10, 100, 1000, 10000, 100000, 1000000]\\n# )  # np.arange(0.2, 3, 0.2)\\nalphas = np.arange(1e4, 1e7, 1e4)\\n# print(alphas)\\nallData = pd.DataFrame({\\\"alphas\\\": alphas})\\n\\nfor a in alphas:\\n    # ridgereg = Ridge(alpha=a)\\n    # ridgereg.fit(Xtrain, Ytrain)\\n    #     print(a)\\n    beta = sp.linalg.inv((Xtrain.T @ Xtrain) + a * I) @ Xtrain.T @ Ytrain\\n    # coef.append(ridgereg.coef_)\\n    coef.append(beta)\\n    # print(coef)\\n    # print(beta)\\n\\n\\n## Make plot of Beta as a function of Alpha\\nfig = plt.figure()\\nax = fig.add_subplot(111)\\nax.plot(alphas, coef)\\nax.set_xlabel(\\\"Alpha (Regularization Parameter)\\\")\\nax.set_ylabel(\\\"Beta (Predictor Coefficients)\\\")\\nax.set_title(\\\"Ridge Coefficients vs Regularization Parameters\\\")\\nax.axis(\\\"tight\\\")\\n\\n\\n# import plotly.graph_objects as go\\n\\n# fig = go.Figure()\\n\\n# fig.add_Trace(go.Scatter(x))\";\n",
       "                var nbb_formatted_code = \"from sklearn.linear_model import Ridge\\nimport scipy as sp\\n\\ncoef = []\\n# alphas = np.array(\\n#     [0.01, 0.5, 0.75, 0.9, 1, 10, 100, 1000, 10000, 100000, 1000000]\\n# )  # np.arange(0.2, 3, 0.2)\\nalphas = np.arange(1e4, 1e7, 1e4)\\n# print(alphas)\\nallData = pd.DataFrame({\\\"alphas\\\": alphas})\\n\\nfor a in alphas:\\n    # ridgereg = Ridge(alpha=a)\\n    # ridgereg.fit(Xtrain, Ytrain)\\n    #     print(a)\\n    beta = sp.linalg.inv((Xtrain.T @ Xtrain) + a * I) @ Xtrain.T @ Ytrain\\n    # coef.append(ridgereg.coef_)\\n    coef.append(beta)\\n    # print(coef)\\n    # print(beta)\\n\\n\\n## Make plot of Beta as a function of Alpha\\nfig = plt.figure()\\nax = fig.add_subplot(111)\\nax.plot(alphas, coef)\\nax.set_xlabel(\\\"Alpha (Regularization Parameter)\\\")\\nax.set_ylabel(\\\"Beta (Predictor Coefficients)\\\")\\nax.set_title(\\\"Ridge Coefficients vs Regularization Parameters\\\")\\nax.axis(\\\"tight\\\")\\n\\n\\n# import plotly.graph_objects as go\\n\\n# fig = go.Figure()\\n\\n# fig.add_Trace(go.Scatter(x))\";\n",
       "                var nbb_cells = Jupyter.notebook.get_cells();\n",
       "                for (var i = 0; i < nbb_cells.length; ++i) {\n",
       "                    if (nbb_cells[i].input_prompt_number == nbb_cell_id) {\n",
       "                        if (nbb_cells[i].get_text() == nbb_unformatted_code) {\n",
       "                             nbb_cells[i].set_text(nbb_formatted_code);\n",
       "                        }\n",
       "                        break;\n",
       "                    }\n",
       "                }\n",
       "            }, 500);\n",
       "            "
      ],
      "text/plain": [
       "<IPython.core.display.Javascript object>"
      ]
     },
     "metadata": {},
     "output_type": "display_data"
    }
   ],
   "source": [
    "from sklearn.linear_model import Ridge\n",
    "import scipy as sp\n",
    "\n",
    "coef = []\n",
    "# alphas = np.array(\n",
    "#     [0.01, 0.5, 0.75, 0.9, 1, 10, 100, 1000, 10000, 100000, 1000000]\n",
    "# )  # np.arange(0.2, 3, 0.2)\n",
    "alphas = np.arange(1e4, 1e7, 1e4)\n",
    "# print(alphas)\n",
    "allData = pd.DataFrame({\"alphas\": alphas})\n",
    "\n",
    "for a in alphas:\n",
    "    # ridgereg = Ridge(alpha=a)\n",
    "    # ridgereg.fit(Xtrain, Ytrain)\n",
    "    #     print(a)\n",
    "    beta = sp.linalg.inv((Xtrain.T @ Xtrain) + a * I) @ Xtrain.T @ Ytrain\n",
    "    # coef.append(ridgereg.coef_)\n",
    "    coef.append(beta)\n",
    "    # print(coef)\n",
    "    # print(beta)\n",
    "\n",
    "\n",
    "## Make plot of Beta as a function of Alpha\n",
    "fig = plt.figure()\n",
    "ax = fig.add_subplot(111)\n",
    "ax.plot(alphas, coef)\n",
    "ax.set_xlabel(\"Alpha (Regularization Parameter)\")\n",
    "ax.set_ylabel(\"Beta (Predictor Coefficients)\")\n",
    "ax.set_title(\"Ridge Coefficients vs Regularization Parameters\")\n",
    "ax.axis(\"tight\")\n",
    "\n",
    "\n",
    "# import plotly.graph_objects as go\n",
    "\n",
    "# fig = go.Figure()\n",
    "\n",
    "# fig.add_Trace(go.Scatter(x))"
   ]
  },
  {
   "cell_type": "code",
   "execution_count": 77,
   "id": "14ae006d",
   "metadata": {},
   "outputs": [
    {
     "name": "stdout",
     "output_type": "stream",
     "text": [
      "--- 665.9325726032257 seconds ---\n"
     ]
    },
    {
     "data": {
      "application/javascript": [
       "\n",
       "            setTimeout(function() {\n",
       "                var nbb_cell_id = 77;\n",
       "                var nbb_unformatted_code = \"# K Fold CV\\nfrom sklearn.metrics import *\\n\\nstart = time.time()\\n\\n\\ndef KfoldCV(X, Y, alphas, k):\\n    masterList = np.array([])  # what we return\\n    MSElist = np.array([])\\n    for l2 in alphas:\\n        for i in range(k):\\n            Xtrain, Xtest, Ytrain, Ytest = train_test_split(X, Y, test_size=0.3,)\\n\\n            n, m = Xtrain.shape\\n            I = np.identity(m)\\n            # Beta vector\\n            beta = sp.linalg.inv((Xtrain.T @ Xtrain) + l2 * I) @ Xtrain.T @ Ytrain\\n\\n            Ypred = Xtest @ beta\\n            MSE = mean_squared_error(Ytest, Ypred)\\n\\n            MSElist = np.append(MSElist, MSE)\\n\\n        masterList = np.append(masterList, np.mean(MSElist))\\n\\n    return masterList\\n\\n\\nlistMSE = KfoldCV(X_standardized.to_numpy(), y, alphas, 4)\\nprint(\\\"--- %s seconds ---\\\" % (time.time() - start))\";\n",
       "                var nbb_formatted_code = \"# K Fold CV\\nfrom sklearn.metrics import *\\n\\nstart = time.time()\\n\\n\\ndef KfoldCV(X, Y, alphas, k):\\n    masterList = np.array([])  # what we return\\n    MSElist = np.array([])\\n    for l2 in alphas:\\n        for i in range(k):\\n            Xtrain, Xtest, Ytrain, Ytest = train_test_split(X, Y, test_size=0.3,)\\n\\n            n, m = Xtrain.shape\\n            I = np.identity(m)\\n            # Beta vector\\n            beta = sp.linalg.inv((Xtrain.T @ Xtrain) + l2 * I) @ Xtrain.T @ Ytrain\\n\\n            Ypred = Xtest @ beta\\n            MSE = mean_squared_error(Ytest, Ypred)\\n\\n            MSElist = np.append(MSElist, MSE)\\n\\n        masterList = np.append(masterList, np.mean(MSElist))\\n\\n    return masterList\\n\\n\\nlistMSE = KfoldCV(X_standardized.to_numpy(), y, alphas, 4)\\nprint(\\\"--- %s seconds ---\\\" % (time.time() - start))\";\n",
       "                var nbb_cells = Jupyter.notebook.get_cells();\n",
       "                for (var i = 0; i < nbb_cells.length; ++i) {\n",
       "                    if (nbb_cells[i].input_prompt_number == nbb_cell_id) {\n",
       "                        if (nbb_cells[i].get_text() == nbb_unformatted_code) {\n",
       "                             nbb_cells[i].set_text(nbb_formatted_code);\n",
       "                        }\n",
       "                        break;\n",
       "                    }\n",
       "                }\n",
       "            }, 500);\n",
       "            "
      ],
      "text/plain": [
       "<IPython.core.display.Javascript object>"
      ]
     },
     "metadata": {},
     "output_type": "display_data"
    }
   ],
   "source": [
    "# K Fold CV\n",
    "from sklearn.metrics import *\n",
    "\n",
    "start = time.time()\n",
    "\n",
    "\n",
    "def KfoldCV(X, Y, alphas, k):\n",
    "    masterList = np.array([])  # what we return\n",
    "    MSElist = np.array([])\n",
    "    for l2 in alphas:\n",
    "        for i in range(k):\n",
    "            Xtrain, Xtest, Ytrain, Ytest = train_test_split(X, Y, test_size=0.3,)\n",
    "\n",
    "            n, m = Xtrain.shape\n",
    "            I = np.identity(m)\n",
    "            # Beta vector\n",
    "            beta = sp.linalg.inv((Xtrain.T @ Xtrain) + l2 * I) @ Xtrain.T @ Ytrain\n",
    "\n",
    "            Ypred = Xtest @ beta\n",
    "            MSE = mean_squared_error(Ytest, Ypred)\n",
    "\n",
    "            MSElist = np.append(MSElist, MSE)\n",
    "\n",
    "        masterList = np.append(masterList, np.mean(MSElist))\n",
    "\n",
    "    return masterList\n",
    "\n",
    "\n",
    "listMSE = KfoldCV(X_standardized.to_numpy(), y, alphas, 4)\n",
    "print(\"--- %s seconds ---\" % (time.time() - start))"
   ]
  },
  {
   "cell_type": "code",
   "execution_count": 90,
   "id": "21ccc39c",
   "metadata": {},
   "outputs": [
    {
     "data": {
      "application/vnd.plotly.v1+json": {
       "config": {
        "plotlyServerURL": "https://plot.ly"
       },
       "data": [
        {
         "hovertemplate": "Ridge Parameter=%{x}<br>Mean Squared Error=%{y}<extra></extra>",
         "legendgroup": "",
         "marker": {
          "color": "#636efa",
          "symbol": "circle"
         },
         "mode": "markers",
         "name": "",
         "orientation": "v",
         "showlegend": false,
         "type": "scatter",
         "x": [
          10000,
          20000,
          30000,
          40000,
          50000,
          60000,
          70000,
          80000,
          90000,
          100000,
          110000,
          120000,
          130000,
          140000,
          150000,
          160000,
          170000,
          180000,
          190000,
          200000,
          210000,
          220000,
          230000,
          240000,
          250000,
          260000,
          270000,
          280000,
          290000,
          300000,
          310000,
          320000,
          330000,
          340000,
          350000,
          360000,
          370000,
          380000,
          390000,
          400000,
          410000,
          420000,
          430000,
          440000,
          450000,
          460000,
          470000,
          480000,
          490000,
          500000,
          510000,
          520000,
          530000,
          540000,
          550000,
          560000,
          570000,
          580000,
          590000,
          600000,
          610000,
          620000,
          630000,
          640000,
          650000,
          660000,
          670000,
          680000,
          690000,
          700000,
          710000,
          720000,
          730000,
          740000,
          750000,
          760000,
          770000,
          780000,
          790000,
          800000,
          810000,
          820000,
          830000,
          840000,
          850000,
          860000,
          870000,
          880000,
          890000,
          900000,
          910000,
          920000,
          930000,
          940000,
          950000,
          960000,
          970000,
          980000,
          990000,
          1000000,
          1010000,
          1020000,
          1030000,
          1040000,
          1050000,
          1060000,
          1070000,
          1080000,
          1090000,
          1100000,
          1110000,
          1120000,
          1130000,
          1140000,
          1150000,
          1160000,
          1170000,
          1180000,
          1190000,
          1200000,
          1210000,
          1220000,
          1230000,
          1240000,
          1250000,
          1260000,
          1270000,
          1280000,
          1290000,
          1300000,
          1310000,
          1320000,
          1330000,
          1340000,
          1350000,
          1360000,
          1370000,
          1380000,
          1390000,
          1400000,
          1410000,
          1420000,
          1430000,
          1440000,
          1450000,
          1460000,
          1470000,
          1480000,
          1490000,
          1500000,
          1510000,
          1520000,
          1530000,
          1540000,
          1550000,
          1560000,
          1570000,
          1580000,
          1590000,
          1600000,
          1610000,
          1620000,
          1630000,
          1640000,
          1650000,
          1660000,
          1670000,
          1680000,
          1690000,
          1700000,
          1710000,
          1720000,
          1730000,
          1740000,
          1750000,
          1760000,
          1770000,
          1780000,
          1790000,
          1800000,
          1810000,
          1820000,
          1830000,
          1840000,
          1850000,
          1860000,
          1870000,
          1880000,
          1890000,
          1900000,
          1910000,
          1920000,
          1930000,
          1940000,
          1950000,
          1960000,
          1970000,
          1980000,
          1990000,
          2000000,
          2010000,
          2020000,
          2030000,
          2040000,
          2050000,
          2060000,
          2070000,
          2080000,
          2090000,
          2100000,
          2110000,
          2120000,
          2130000,
          2140000,
          2150000,
          2160000,
          2170000,
          2180000,
          2190000,
          2200000,
          2210000,
          2220000,
          2230000,
          2240000,
          2250000,
          2260000,
          2270000,
          2280000,
          2290000,
          2300000,
          2310000,
          2320000,
          2330000,
          2340000,
          2350000,
          2360000,
          2370000,
          2380000,
          2390000,
          2400000,
          2410000,
          2420000,
          2430000,
          2440000,
          2450000,
          2460000,
          2470000,
          2480000,
          2490000,
          2500000,
          2510000,
          2520000,
          2530000,
          2540000,
          2550000,
          2560000,
          2570000,
          2580000,
          2590000,
          2600000,
          2610000,
          2620000,
          2630000,
          2640000,
          2650000,
          2660000,
          2670000,
          2680000,
          2690000,
          2700000,
          2710000,
          2720000,
          2730000,
          2740000,
          2750000,
          2760000,
          2770000,
          2780000,
          2790000,
          2800000,
          2810000,
          2820000,
          2830000,
          2840000,
          2850000,
          2860000,
          2870000,
          2880000,
          2890000,
          2900000,
          2910000,
          2920000,
          2930000,
          2940000,
          2950000,
          2960000,
          2970000,
          2980000,
          2990000,
          3000000,
          3010000,
          3020000,
          3030000,
          3040000,
          3050000,
          3060000,
          3070000,
          3080000,
          3090000,
          3100000,
          3110000,
          3120000,
          3130000,
          3140000,
          3150000,
          3160000,
          3170000,
          3180000,
          3190000,
          3200000,
          3210000,
          3220000,
          3230000,
          3240000,
          3250000,
          3260000,
          3270000,
          3280000,
          3290000,
          3300000,
          3310000,
          3320000,
          3330000,
          3340000,
          3350000,
          3360000,
          3370000,
          3380000,
          3390000,
          3400000,
          3410000,
          3420000,
          3430000,
          3440000,
          3450000,
          3460000,
          3470000,
          3480000,
          3490000,
          3500000,
          3510000,
          3520000,
          3530000,
          3540000,
          3550000,
          3560000,
          3570000,
          3580000,
          3590000,
          3600000,
          3610000,
          3620000,
          3630000,
          3640000,
          3650000,
          3660000,
          3670000,
          3680000,
          3690000,
          3700000,
          3710000,
          3720000,
          3730000,
          3740000,
          3750000,
          3760000,
          3770000,
          3780000,
          3790000,
          3800000,
          3810000,
          3820000,
          3830000,
          3840000,
          3850000,
          3860000,
          3870000,
          3880000,
          3890000,
          3900000,
          3910000,
          3920000,
          3930000,
          3940000,
          3950000,
          3960000,
          3970000,
          3980000,
          3990000,
          4000000,
          4010000,
          4020000,
          4030000,
          4040000,
          4050000,
          4060000,
          4070000,
          4080000,
          4090000,
          4100000,
          4110000,
          4120000,
          4130000,
          4140000,
          4150000,
          4160000,
          4170000,
          4180000,
          4190000,
          4200000,
          4210000,
          4220000,
          4230000,
          4240000,
          4250000,
          4260000,
          4270000,
          4280000,
          4290000,
          4300000,
          4310000,
          4320000,
          4330000,
          4340000,
          4350000,
          4360000,
          4370000,
          4380000,
          4390000,
          4400000,
          4410000,
          4420000,
          4430000,
          4440000,
          4450000,
          4460000,
          4470000,
          4480000,
          4490000,
          4500000,
          4510000,
          4520000,
          4530000,
          4540000,
          4550000,
          4560000,
          4570000,
          4580000,
          4590000,
          4600000,
          4610000,
          4620000,
          4630000,
          4640000,
          4650000,
          4660000,
          4670000,
          4680000,
          4690000,
          4700000,
          4710000,
          4720000,
          4730000,
          4740000,
          4750000,
          4760000,
          4770000,
          4780000,
          4790000,
          4800000,
          4810000,
          4820000,
          4830000,
          4840000,
          4850000,
          4860000,
          4870000,
          4880000,
          4890000,
          4900000,
          4910000,
          4920000,
          4930000,
          4940000,
          4950000,
          4960000,
          4970000,
          4980000,
          4990000,
          5000000,
          5010000,
          5020000,
          5030000,
          5040000,
          5050000,
          5060000,
          5070000,
          5080000,
          5090000,
          5100000,
          5110000,
          5120000,
          5130000,
          5140000,
          5150000,
          5160000,
          5170000,
          5180000,
          5190000,
          5200000,
          5210000,
          5220000,
          5230000,
          5240000,
          5250000,
          5260000,
          5270000,
          5280000,
          5290000,
          5300000,
          5310000,
          5320000,
          5330000,
          5340000,
          5350000,
          5360000,
          5370000,
          5380000,
          5390000,
          5400000,
          5410000,
          5420000,
          5430000,
          5440000,
          5450000,
          5460000,
          5470000,
          5480000,
          5490000,
          5500000,
          5510000,
          5520000,
          5530000,
          5540000,
          5550000,
          5560000,
          5570000,
          5580000,
          5590000,
          5600000,
          5610000,
          5620000,
          5630000,
          5640000,
          5650000,
          5660000,
          5670000,
          5680000,
          5690000,
          5700000,
          5710000,
          5720000,
          5730000,
          5740000,
          5750000,
          5760000,
          5770000,
          5780000,
          5790000,
          5800000,
          5810000,
          5820000,
          5830000,
          5840000,
          5850000,
          5860000,
          5870000,
          5880000,
          5890000,
          5900000,
          5910000,
          5920000,
          5930000,
          5940000,
          5950000,
          5960000,
          5970000,
          5980000,
          5990000,
          6000000,
          6010000,
          6020000,
          6030000,
          6040000,
          6050000,
          6060000,
          6070000,
          6080000,
          6090000,
          6100000,
          6110000,
          6120000,
          6130000,
          6140000,
          6150000,
          6160000,
          6170000,
          6180000,
          6190000,
          6200000,
          6210000,
          6220000,
          6230000,
          6240000,
          6250000,
          6260000,
          6270000,
          6280000,
          6290000,
          6300000,
          6310000,
          6320000,
          6330000,
          6340000,
          6350000,
          6360000,
          6370000,
          6380000,
          6390000,
          6400000,
          6410000,
          6420000,
          6430000,
          6440000,
          6450000,
          6460000,
          6470000,
          6480000,
          6490000,
          6500000,
          6510000,
          6520000,
          6530000,
          6540000,
          6550000,
          6560000,
          6570000,
          6580000,
          6590000,
          6600000,
          6610000,
          6620000,
          6630000,
          6640000,
          6650000,
          6660000,
          6670000,
          6680000,
          6690000,
          6700000,
          6710000,
          6720000,
          6730000,
          6740000,
          6750000,
          6760000,
          6770000,
          6780000,
          6790000,
          6800000,
          6810000,
          6820000,
          6830000,
          6840000,
          6850000,
          6860000,
          6870000,
          6880000,
          6890000,
          6900000,
          6910000,
          6920000,
          6930000,
          6940000,
          6950000,
          6960000,
          6970000,
          6980000,
          6990000,
          7000000,
          7010000,
          7020000,
          7030000,
          7040000,
          7050000,
          7060000,
          7070000,
          7080000,
          7090000,
          7100000,
          7110000,
          7120000,
          7130000,
          7140000,
          7150000,
          7160000,
          7170000,
          7180000,
          7190000,
          7200000,
          7210000,
          7220000,
          7230000,
          7240000,
          7250000,
          7260000,
          7270000,
          7280000,
          7290000,
          7300000,
          7310000,
          7320000,
          7330000,
          7340000,
          7350000,
          7360000,
          7370000,
          7380000,
          7390000,
          7400000,
          7410000,
          7420000,
          7430000,
          7440000,
          7450000,
          7460000,
          7470000,
          7480000,
          7490000,
          7500000,
          7510000,
          7520000,
          7530000,
          7540000,
          7550000,
          7560000,
          7570000,
          7580000,
          7590000,
          7600000,
          7610000,
          7620000,
          7630000,
          7640000,
          7650000,
          7660000,
          7670000,
          7680000,
          7690000,
          7700000,
          7710000,
          7720000,
          7730000,
          7740000,
          7750000,
          7760000,
          7770000,
          7780000,
          7790000,
          7800000,
          7810000,
          7820000,
          7830000,
          7840000,
          7850000,
          7860000,
          7870000,
          7880000,
          7890000,
          7900000,
          7910000,
          7920000,
          7930000,
          7940000,
          7950000,
          7960000,
          7970000,
          7980000,
          7990000,
          8000000,
          8010000,
          8020000,
          8030000,
          8040000,
          8050000,
          8060000,
          8070000,
          8080000,
          8090000,
          8100000,
          8110000,
          8120000,
          8130000,
          8140000,
          8150000,
          8160000,
          8170000,
          8180000,
          8190000,
          8200000,
          8210000,
          8220000,
          8230000,
          8240000,
          8250000,
          8260000,
          8270000,
          8280000,
          8290000,
          8300000,
          8310000,
          8320000,
          8330000,
          8340000,
          8350000,
          8360000,
          8370000,
          8380000,
          8390000,
          8400000,
          8410000,
          8420000,
          8430000,
          8440000,
          8450000,
          8460000,
          8470000,
          8480000,
          8490000,
          8500000,
          8510000,
          8520000,
          8530000,
          8540000,
          8550000,
          8560000,
          8570000,
          8580000,
          8590000,
          8600000,
          8610000,
          8620000,
          8630000,
          8640000,
          8650000,
          8660000,
          8670000,
          8680000,
          8690000,
          8700000,
          8710000,
          8720000,
          8730000,
          8740000,
          8750000,
          8760000,
          8770000,
          8780000,
          8790000,
          8800000,
          8810000,
          8820000,
          8830000,
          8840000,
          8850000,
          8860000,
          8870000,
          8880000,
          8890000,
          8900000,
          8910000,
          8920000,
          8930000,
          8940000,
          8950000,
          8960000,
          8970000,
          8980000,
          8990000,
          9000000,
          9010000,
          9020000,
          9030000,
          9040000,
          9050000,
          9060000,
          9070000,
          9080000,
          9090000,
          9100000,
          9110000,
          9120000,
          9130000,
          9140000,
          9150000,
          9160000,
          9170000,
          9180000,
          9190000,
          9200000,
          9210000,
          9220000,
          9230000,
          9240000,
          9250000,
          9260000,
          9270000,
          9280000,
          9290000,
          9300000,
          9310000,
          9320000,
          9330000,
          9340000,
          9350000,
          9360000,
          9370000,
          9380000,
          9390000,
          9400000,
          9410000,
          9420000,
          9430000,
          9440000,
          9450000,
          9460000,
          9470000,
          9480000,
          9490000,
          9500000,
          9510000,
          9520000,
          9530000,
          9540000,
          9550000,
          9560000,
          9570000,
          9580000,
          9590000,
          9600000,
          9610000,
          9620000,
          9630000,
          9640000,
          9650000,
          9660000,
          9670000,
          9680000,
          9690000,
          9700000,
          9710000,
          9720000,
          9730000,
          9740000,
          9750000,
          9760000,
          9770000,
          9780000,
          9790000,
          9800000,
          9810000,
          9820000,
          9830000,
          9840000,
          9850000,
          9860000,
          9870000,
          9880000,
          9890000,
          9900000,
          9910000,
          9920000,
          9930000,
          9940000,
          9950000,
          9960000,
          9970000,
          9980000,
          9990000
         ],
         "xaxis": "x",
         "y": [
          503596.45754607645,
          503484.1623274089,
          503263.9524532466,
          503329.95543478243,
          503430.0951428415,
          503513.2562650879,
          503614.89959237014,
          503648.3282698904,
          503633.99959778495,
          503642.49506966106,
          503569.41567902954,
          503534.6370817085,
          503530.7254293107,
          503514.4151294264,
          503467.72978215833,
          503468.6523290278,
          503448.42995419016,
          503445.9330521516,
          503473.76636396203,
          503429.21920655447,
          503422.3316670658,
          503410.631970649,
          503391.3430097001,
          503367.6424723145,
          503369.20680130273,
          503356.71144251805,
          503358.4693131272,
          503343.22527484596,
          503332.26540053287,
          503318.3820539945,
          503304.7578059587,
          503286.8544122047,
          503283.09968166595,
          503287.90456387115,
          503267.2607857802,
          503258.8174006103,
          503267.99589940766,
          503266.81311511545,
          503259.10282692296,
          503258.64267488586,
          503261.77695472364,
          503278.51769871946,
          503281.0074570685,
          503286.4840405814,
          503291.45197881054,
          503281.9419856308,
          503278.2340839251,
          503281.16071681,
          503287.09238073794,
          503278.56643232785,
          503285.9109925846,
          503281.4477212088,
          503278.1259001394,
          503273.5697951954,
          503276.63753231626,
          503275.4443611564,
          503275.92685376725,
          503281.7544075972,
          503274.03552103415,
          503273.41203967086,
          503277.56439158245,
          503279.072801711,
          503273.925709111,
          503271.55147248233,
          503267.6834406411,
          503260.3483297947,
          503267.51081882016,
          503271.5921524881,
          503273.65998013737,
          503274.16051413096,
          503276.962961463,
          503270.890945607,
          503268.3159376936,
          503270.0720111603,
          503262.460305721,
          503259.78211750265,
          503259.74486358784,
          503261.9312820058,
          503255.5831290706,
          503259.5089158771,
          503250.41847186635,
          503250.21913197,
          503251.6873211348,
          503247.24516397004,
          503244.41999071225,
          503244.0822439043,
          503236.82271835656,
          503235.12315420754,
          503234.071883658,
          503237.5883698863,
          503228.7318862832,
          503231.92144503735,
          503228.51768970134,
          503229.6496271776,
          503235.34262227,
          503235.7159927984,
          503230.6233633795,
          503232.4084253299,
          503233.357629069,
          503227.1944481976,
          503227.36158248637,
          503222.8499788527,
          503220.96172275994,
          503218.7725648834,
          503221.2419284643,
          503223.47100006836,
          503219.297004656,
          503219.9000999861,
          503214.55731133476,
          503219.02343162894,
          503221.39071838785,
          503227.3147298119,
          503227.846865104,
          503230.69796972745,
          503229.1247495945,
          503227.8217935475,
          503228.35379475687,
          503223.5092297161,
          503224.31221146905,
          503229.1107320771,
          503224.1912586327,
          503223.6180385498,
          503220.71011225675,
          503218.4975873172,
          503215.23862847936,
          503218.06458249147,
          503221.30448697996,
          503218.7498404203,
          503212.5665524413,
          503209.3243814513,
          503210.63361154747,
          503209.24272144743,
          503206.25004987855,
          503202.7453147003,
          503203.4925970712,
          503202.2480288128,
          503204.1904174689,
          503207.32563176384,
          503203.9886082882,
          503202.53777928435,
          503201.7273088341,
          503204.1180760001,
          503205.0222330633,
          503203.83496239525,
          503203.0594617135,
          503199.18561547453,
          503196.50933500606,
          503192.69953156344,
          503193.408462465,
          503193.51579644816,
          503192.85976500326,
          503194.6559436339,
          503192.9039289589,
          503191.40853413224,
          503189.1810773024,
          503191.7827985155,
          503192.10572922166,
          503191.7405944982,
          503186.99931115157,
          503186.75730861817,
          503184.36833290785,
          503181.97942587,
          503182.2181380471,
          503180.43658355076,
          503181.55221243174,
          503183.9020173537,
          503180.9947783585,
          503179.6211553895,
          503179.1797007756,
          503179.2951297169,
          503179.9632063454,
          503179.85429075116,
          503182.56334214384,
          503182.58179985004,
          503180.59633888415,
          503179.75159072835,
          503175.6369444982,
          503175.7219135954,
          503176.14076117694,
          503176.71028488723,
          503178.1082891655,
          503177.8499918604,
          503179.0451132821,
          503180.1644457388,
          503179.6849428205,
          503179.8065443574,
          503178.76516670117,
          503179.04739335226,
          503176.1898194683,
          503177.00128838245,
          503176.989103115,
          503174.9565866276,
          503177.23535244714,
          503175.26715452195,
          503174.04298008385,
          503176.54081366287,
          503176.5486753136,
          503177.3707475453,
          503175.3380464177,
          503175.85867615463,
          503172.94513497764,
          503176.19628240005,
          503177.06829897955,
          503176.74674236996,
          503177.22074695694,
          503180.1855587583,
          503180.68484318873,
          503179.4094282383,
          503179.4766395373,
          503176.34868877206,
          503178.29666720773,
          503177.21316105186,
          503178.49613764434,
          503178.3374336177,
          503178.427497855,
          503180.27368817903,
          503179.07540740405,
          503179.3129824761,
          503176.2829143401,
          503177.00608083187,
          503177.69550508406,
          503175.07717203075,
          503173.5140474687,
          503174.76460094657,
          503172.97524525836,
          503172.7309971158,
          503171.8904611577,
          503170.66057280125,
          503171.0037076562,
          503172.03467783966,
          503172.47066431603,
          503170.8892495245,
          503171.1300017077,
          503169.9041484123,
          503171.6899229399,
          503170.8530457906,
          503172.0076809567,
          503173.6371353545,
          503172.2849237005,
          503174.4045603409,
          503175.67490804463,
          503176.5499397941,
          503178.5891548437,
          503178.7159030843,
          503179.9617054124,
          503181.0790314114,
          503180.3453979712,
          503180.478257819,
          503180.3339503036,
          503179.4936947726,
          503176.851963419,
          503179.7242769077,
          503178.04690804734,
          503179.60636513523,
          503180.74144833605,
          503179.1237471923,
          503177.03140130884,
          503177.4095197019,
          503179.2105364128,
          503178.29329965013,
          503177.2486748923,
          503179.6946911104,
          503180.27594010124,
          503180.94618245476,
          503180.70981391886,
          503180.33811542264,
          503180.4199068045,
          503178.69431427465,
          503178.0405090685,
          503179.1797939126,
          503179.99048956385,
          503182.4587830486,
          503182.5856760512,
          503181.2252840158,
          503182.3022892771,
          503181.5380848144,
          503181.0888926743,
          503180.9242879994,
          503182.32272413885,
          503182.21042546333,
          503181.1109315299,
          503183.15190591395,
          503184.1652585977,
          503185.1047435638,
          503186.7451732903,
          503187.24666292244,
          503187.12939482596,
          503185.92721113295,
          503186.5133425004,
          503185.8639551938,
          503187.8574078788,
          503187.8746982866,
          503186.6905818429,
          503185.9278836895,
          503185.2112302746,
          503185.7147973945,
          503186.8523716224,
          503188.2422784787,
          503188.4046101911,
          503188.6376782328,
          503188.5404549541,
          503188.24271969765,
          503189.57939036115,
          503188.56696177175,
          503187.82530887186,
          503187.4346382091,
          503187.5555982838,
          503187.5905942793,
          503187.8932019447,
          503188.92974131735,
          503187.9650433969,
          503186.1598848346,
          503185.88458836393,
          503186.57750686957,
          503187.1048475811,
          503186.64876998076,
          503185.2658719222,
          503185.3601597761,
          503185.7667991564,
          503187.1489927618,
          503187.71190475574,
          503189.02644884284,
          503187.55185735476,
          503187.2495786361,
          503186.9788849824,
          503185.9001848241,
          503187.0187914111,
          503187.22964627825,
          503187.41710929415,
          503187.0942250593,
          503187.2471551711,
          503188.043495887,
          503188.78268782934,
          503187.33868229575,
          503188.38854955224,
          503188.4526640961,
          503190.02522177866,
          503191.3547541453,
          503189.834338879,
          503191.4079780016,
          503192.0144592137,
          503192.31232644303,
          503191.3799182825,
          503191.23004591576,
          503190.4401760146,
          503189.4152755518,
          503188.4002026883,
          503186.7080748174,
          503185.2351021782,
          503183.4126263053,
          503184.24764942494,
          503182.59329533105,
          503181.8430633489,
          503180.2285429251,
          503180.23626406543,
          503179.0596608014,
          503178.2874637821,
          503178.3234569566,
          503179.97261686943,
          503179.8755056546,
          503180.3084939024,
          503179.13440187776,
          503178.2310356873,
          503178.3800336825,
          503178.8671066836,
          503178.0829155867,
          503178.7386856129,
          503178.2689527718,
          503179.1761340808,
          503177.92422846827,
          503177.9186722596,
          503178.00062648905,
          503177.9996692461,
          503177.5822429195,
          503177.2836675593,
          503176.22823017987,
          503173.5528446059,
          503172.23877131136,
          503172.5815560898,
          503171.5981793528,
          503170.99482846766,
          503170.9675549207,
          503171.5941297756,
          503171.78778228624,
          503171.06319095375,
          503169.5593643144,
          503171.2547754292,
          503170.58182847075,
          503170.39339053555,
          503170.5071051292,
          503169.5073159933,
          503170.80723970424,
          503169.7399200741,
          503170.3230454604,
          503171.8503944456,
          503171.4764539623,
          503171.7699137656,
          503170.81839575537,
          503169.5023299542,
          503168.96797511796,
          503168.81347583607,
          503169.753207175,
          503170.30332783813,
          503171.5305571618,
          503171.45697308565,
          503171.2424714296,
          503169.29307606496,
          503169.57365860924,
          503168.2592354785,
          503168.187721558,
          503167.321333097,
          503166.94896404026,
          503166.8562389833,
          503167.0454111187,
          503166.4359648948,
          503165.9339978528,
          503166.04695206264,
          503166.9082037476,
          503166.80934043875,
          503166.90094555164,
          503165.85861887457,
          503164.74167972116,
          503165.53217497776,
          503165.5426016453,
          503164.53557035665,
          503163.991395408,
          503165.44433136535,
          503164.18929708976,
          503164.2994084693,
          503164.95197943226,
          503164.3147946652,
          503163.576446374,
          503163.8690856951,
          503163.92227168375,
          503163.27304204553,
          503164.1095482197,
          503164.8024345553,
          503164.86143175437,
          503165.20526052825,
          503164.8185031055,
          503164.980000684,
          503164.58118284756,
          503164.593787418,
          503164.9672906223,
          503165.7834113858,
          503165.059971295,
          503165.13051135826,
          503165.1356465727,
          503165.2563650607,
          503164.8773268184,
          503164.1375928492,
          503163.1947673624,
          503163.25208837347,
          503163.5986140727,
          503163.91902549786,
          503163.11984311574,
          503162.4903032224,
          503162.59972709237,
          503162.4338040045,
          503161.2637102987,
          503160.0737065494,
          503161.3409392414,
          503161.50889361376,
          503160.94040047325,
          503161.19176970824,
          503161.005748827,
          503161.340927885,
          503161.43968106515,
          503160.6643716271,
          503159.6566043706,
          503159.31615415285,
          503160.03105371044,
          503159.50688550173,
          503159.9578762061,
          503160.2179741966,
          503159.9656030725,
          503159.3323905618,
          503158.99481920403,
          503157.6201188158,
          503157.8161077128,
          503157.2875366632,
          503156.4822783646,
          503156.2022342275,
          503156.02155597793,
          503154.86931116966,
          503154.045273419,
          503153.32350008015,
          503153.0164710282,
          503152.48058131407,
          503151.88925079716,
          503152.1754972944,
          503151.9278771614,
          503152.31914860394,
          503152.20093612635,
          503153.2778715427,
          503153.3145754472,
          503151.72357273416,
          503152.0673184104,
          503151.4376136288,
          503150.6326637986,
          503149.171689985,
          503149.01753718633,
          503150.192116277,
          503150.6913066249,
          503150.6788955731,
          503150.6504896447,
          503151.4471696087,
          503152.9033250601,
          503153.78755307395,
          503154.28223172296,
          503155.2534099421,
          503155.67708188726,
          503155.96115969523,
          503156.4627601756,
          503155.9734516762,
          503155.32162097556,
          503156.5852603387,
          503157.4528201158,
          503157.0594818677,
          503157.2060692251,
          503157.16326934646,
          503156.9340614656,
          503157.1523382175,
          503157.5004997473,
          503157.458708818,
          503157.54717942415,
          503156.93637066416,
          503156.1964409401,
          503155.7645449701,
          503155.9657534458,
          503156.36165962706,
          503157.5136197059,
          503158.0300418675,
          503157.5360835585,
          503157.72714560735,
          503157.88890884194,
          503157.9325143307,
          503157.68473692186,
          503157.49564584374,
          503156.1244568613,
          503155.6253509418,
          503155.350572083,
          503155.0537181037,
          503154.51404900453,
          503153.992732251,
          503154.5396738106,
          503154.06967205735,
          503153.90122432617,
          503154.1066912378,
          503154.5080683821,
          503154.19662418164,
          503154.5135274143,
          503153.8156276219,
          503152.4964087188,
          503152.4879402272,
          503152.35791948845,
          503151.83793015155,
          503151.05393784086,
          503151.6425509781,
          503151.48756234837,
          503152.13284868887,
          503152.2433209387,
          503152.8057313824,
          503152.33111848286,
          503152.87681829213,
          503152.10283972434,
          503152.4267875029,
          503151.4585719564,
          503151.16607413173,
          503150.982030353,
          503151.2010797078,
          503149.85887549556,
          503150.41447438183,
          503149.9225591457,
          503149.8600534713,
          503149.6649549191,
          503149.6148444193,
          503149.2097226868,
          503149.23201057845,
          503149.08211621095,
          503148.9644021666,
          503149.695060871,
          503148.77513540996,
          503148.7275182307,
          503148.6923178027,
          503148.36078599136,
          503147.5577684922,
          503147.08514799,
          503146.373378762,
          503146.1306912399,
          503145.63663319545,
          503144.97837931785,
          503145.2279389859,
          503145.0784250563,
          503145.4714377193,
          503145.66283392016,
          503146.2202184833,
          503145.8497029431,
          503146.18973961356,
          503145.61660563387,
          503145.1300423316,
          503144.2194996722,
          503144.2696418934,
          503144.41152370645,
          503144.66426408757,
          503144.8613609341,
          503144.5138733,
          503144.49042884173,
          503144.39817684115,
          503144.4378839694,
          503144.6168646755,
          503144.7661940471,
          503145.50774068566,
          503144.6207000151,
          503144.8283488764,
          503144.9699949949,
          503144.548789885,
          503143.8147009401,
          503144.0861096484,
          503143.46622109204,
          503143.2597146892,
          503143.81287692674,
          503143.8289226729,
          503143.6397869809,
          503144.2866797346,
          503143.90431082447,
          503144.40544361534,
          503144.4937276711,
          503142.63798599044,
          503142.6138500315,
          503141.79590315383,
          503141.88024865126,
          503141.82581928215,
          503142.09700354456,
          503141.8326379853,
          503142.56020484323,
          503141.9662756918,
          503141.6955817868,
          503141.22199225036,
          503140.8898561887,
          503141.19067338476,
          503141.1518762304,
          503140.87038250495,
          503140.9833105897,
          503141.31308570545,
          503140.8147664912,
          503141.789801069,
          503142.4179822375,
          503143.37373390625,
          503143.0431556434,
          503143.18688493996,
          503143.91478763346,
          503144.5811915467,
          503144.2542609321,
          503144.962206019,
          503144.9764542892,
          503145.10850727075,
          503144.9766310566,
          503144.40491929033,
          503144.4050996302,
          503144.29460650415,
          503144.292295419,
          503145.5235825085,
          503145.34056693065,
          503145.0539092333,
          503145.5095119392,
          503145.240070827,
          503144.9698226409,
          503144.4819109775,
          503144.35929816373,
          503144.1647540456,
          503144.87761098694,
          503144.3867273161,
          503143.5666603178,
          503143.8725178628,
          503143.02222569427,
          503142.65005124256,
          503143.00159786025,
          503142.958394581,
          503142.6851703062,
          503142.2669404095,
          503142.8393420061,
          503143.56518418825,
          503143.0684600122,
          503143.00436020736,
          503142.54557621916,
          503143.3505583913,
          503142.9488075925,
          503143.8784141729,
          503144.3022272725,
          503143.65488234285,
          503143.8403795956,
          503143.35472643713,
          503143.72541441163,
          503143.6173775493,
          503144.40524955565,
          503144.37440877024,
          503144.16873329453,
          503144.63305036724,
          503144.3804854052,
          503143.63461833,
          503143.2467699369,
          503143.26884922205,
          503143.04305719153,
          503143.19938470016,
          503142.61808128096,
          503143.28544771613,
          503144.0139848218,
          503144.7560745656,
          503145.01729885716,
          503144.87305214023,
          503145.02018503804,
          503144.92354989046,
          503145.13098309137,
          503144.3392066886,
          503145.1728371573,
          503145.71433986106,
          503145.6632072851,
          503146.52118299616,
          503147.0728985109,
          503146.74129302584,
          503146.2661578837,
          503145.81593773694,
          503144.96106034174,
          503145.29697566095,
          503144.9240753466,
          503144.9831388236,
          503145.01285712037,
          503145.6590610359,
          503146.15877082146,
          503146.1608057628,
          503146.33548834675,
          503146.2916178988,
          503145.5076070111,
          503145.44284185115,
          503145.5138375317,
          503144.88220212824,
          503144.851127294,
          503145.3569455929,
          503145.0349547283,
          503144.5877858043,
          503143.88120057253,
          503144.64290909306,
          503145.45734174806,
          503145.91873231396,
          503146.0207434236,
          503146.2026129732,
          503145.7706473355,
          503145.691207739,
          503146.3090846854,
          503146.2943070516,
          503145.95771690586,
          503146.3250091621,
          503147.54573643714,
          503147.7071951351,
          503148.3710792663,
          503149.16258525767,
          503148.7317774219,
          503147.98609385063,
          503148.298937029,
          503148.41391130205,
          503148.48244525096,
          503148.49333577545,
          503148.1936849498,
          503148.7756096405,
          503148.4624093888,
          503147.96625532245,
          503148.21580818226,
          503148.49702360434,
          503148.25248175516,
          503148.3181736789,
          503147.65918179427,
          503147.64089106297,
          503148.02402104874,
          503148.1204994902,
          503148.1646150553,
          503147.67395709205,
          503147.20010455564,
          503147.40623862337,
          503147.01052753744,
          503147.22431100666,
          503146.8984539694,
          503147.75457028305,
          503147.3422205036,
          503147.5924989942,
          503147.89048575336,
          503148.0962532342,
          503147.68661843106,
          503147.7512753225,
          503147.6529178816,
          503147.3616222261,
          503147.07444402674,
          503146.2049525474,
          503146.12547375396,
          503146.6955159634,
          503146.6297247621,
          503146.96025223564,
          503146.7981863795,
          503147.19663006335,
          503147.1896289219,
          503147.1263533823,
          503146.3053717025,
          503146.5308182409,
          503146.6146041163,
          503146.06404703466,
          503145.9206657744,
          503145.91194378806,
          503145.6103649678,
          503145.55080785305,
          503145.9656998595,
          503145.64734020113,
          503145.70222424535,
          503145.53176706436,
          503145.4194422165,
          503145.5618051273,
          503145.53347141104,
          503146.14649380685,
          503146.5084134938,
          503147.1256970777,
          503147.4350716197,
          503148.1402521826,
          503148.671106494,
          503148.632595761,
          503148.6321466904,
          503148.49679449457,
          503149.0836502134,
          503149.1872958464,
          503148.6700818934,
          503148.4923243134,
          503148.6645164075,
          503149.08648754156,
          503148.4556042261,
          503147.98181567586,
          503148.56576049473,
          503148.37271381426,
          503148.79816480016,
          503148.68579928484,
          503148.39710100257,
          503148.7127523526,
          503149.0097853457,
          503149.02787427895,
          503149.14922345633,
          503149.31752241944,
          503149.8142630351,
          503149.97821832163,
          503149.6228714757,
          503149.2399146315,
          503148.8101604985,
          503148.02243212913,
          503148.38031902054,
          503148.4368289484,
          503147.70505080314,
          503147.665628132,
          503148.24057667184,
          503148.20245697536,
          503148.226743603,
          503148.73610144167,
          503148.51070627564,
          503148.4675993158,
          503148.6585930276,
          503147.82301339187,
          503147.9137055556,
          503147.93426549516,
          503148.14639523503,
          503148.92801273067,
          503148.9624621063,
          503149.4253552385,
          503149.580577856,
          503149.71986151783,
          503149.50279758783,
          503149.5518748524,
          503149.50308416714,
          503149.3961120202,
          503150.24715560087,
          503150.3258967948,
          503150.1073870499,
          503150.579536264,
          503150.49217974785,
          503150.4428137295,
          503150.5787339835,
          503150.528814222,
          503149.9690751808,
          503149.94461727573,
          503149.9333417139,
          503149.3992972787,
          503149.39508704445,
          503149.49709531094,
          503149.6542414559,
          503149.1407887481,
          503148.90646051016,
          503149.58482495724,
          503149.1112825967,
          503148.48590154975,
          503147.64919253,
          503147.0142270615,
          503146.5876587088,
          503145.66690725397,
          503145.2741734943,
          503144.59048365353,
          503143.8062197243,
          503143.76049900026,
          503143.57152236113,
          503143.6142833928,
          503143.53348261,
          503143.834923066,
          503143.6220532183,
          503144.0680111975,
          503144.0590892793,
          503143.67497537,
          503143.73143741157,
          503143.5818533378,
          503144.18089219375,
          503143.5263110338,
          503142.87661251164,
          503142.568363825,
          503142.89471816126,
          503142.51875749946,
          503142.8651407455,
          503142.9772475937,
          503142.68382660125,
          503142.6359884793,
          503142.4944678923,
          503142.34145676857,
          503141.9147473785,
          503142.4779165357,
          503142.7344127896,
          503143.5635309132,
          503143.76639967394,
          503143.99785338476,
          503143.6713956592,
          503143.1731499082,
          503142.7926719322,
          503142.8021632524,
          503142.52805490897,
          503142.0345092174,
          503141.87430212565,
          503142.0843774416,
          503141.90296905994,
          503142.19759149157,
          503141.86701352295,
          503141.57802063273,
          503141.4364009197,
          503141.2637031091,
          503140.41531148896,
          503140.48513929104,
          503140.3716124493,
          503140.3022769241,
          503139.9819240529,
          503139.33268413314,
          503139.4889418425,
          503139.3212293205,
          503139.159156857,
          503139.05283092184,
          503138.77038738324,
          503139.4338519596,
          503140.2612056131,
          503140.3473786673,
          503140.0809526574,
          503140.2387432575,
          503139.74898403086,
          503139.914795722,
          503139.6841721089,
          503139.6483295901,
          503139.05914378294,
          503139.198035623,
          503139.4978425226,
          503139.2391327226,
          503139.36270922655,
          503138.93381310813,
          503138.9375626898,
          503138.8077366413,
          503138.50923600374,
          503138.3938370463,
          503138.3752820854,
          503138.21202306077,
          503137.8197310586,
          503137.5159507976,
          503136.96097633237,
          503136.82617133076,
          503136.34493212705,
          503136.31373815535,
          503137.2703207796,
          503137.4346107101,
          503137.3610717386,
          503138.2180764419,
          503137.8531481845,
          503137.5351743606,
          503137.09125400224,
          503136.51806652563,
          503137.30345021473,
          503137.2476463207,
          503137.2782988475,
          503136.9973462033,
          503136.84642346407,
          503136.778905044,
          503136.8604484836,
          503136.53145714296,
          503136.3387517585,
          503136.09954715107
         ],
         "yaxis": "y"
        },
        {
         "name": "Minimum MSE",
         "type": "scatter",
         "x": [
          9990000
         ],
         "y": [
          503136.09954715107
         ]
        }
       ],
       "layout": {
        "legend": {
         "tracegroupgap": 0
        },
        "template": {
         "data": {
          "bar": [
           {
            "error_x": {
             "color": "#2a3f5f"
            },
            "error_y": {
             "color": "#2a3f5f"
            },
            "marker": {
             "line": {
              "color": "#E5ECF6",
              "width": 0.5
             },
             "pattern": {
              "fillmode": "overlay",
              "size": 10,
              "solidity": 0.2
             }
            },
            "type": "bar"
           }
          ],
          "barpolar": [
           {
            "marker": {
             "line": {
              "color": "#E5ECF6",
              "width": 0.5
             },
             "pattern": {
              "fillmode": "overlay",
              "size": 10,
              "solidity": 0.2
             }
            },
            "type": "barpolar"
           }
          ],
          "carpet": [
           {
            "aaxis": {
             "endlinecolor": "#2a3f5f",
             "gridcolor": "white",
             "linecolor": "white",
             "minorgridcolor": "white",
             "startlinecolor": "#2a3f5f"
            },
            "baxis": {
             "endlinecolor": "#2a3f5f",
             "gridcolor": "white",
             "linecolor": "white",
             "minorgridcolor": "white",
             "startlinecolor": "#2a3f5f"
            },
            "type": "carpet"
           }
          ],
          "choropleth": [
           {
            "colorbar": {
             "outlinewidth": 0,
             "ticks": ""
            },
            "type": "choropleth"
           }
          ],
          "contour": [
           {
            "colorbar": {
             "outlinewidth": 0,
             "ticks": ""
            },
            "colorscale": [
             [
              0,
              "#0d0887"
             ],
             [
              0.1111111111111111,
              "#46039f"
             ],
             [
              0.2222222222222222,
              "#7201a8"
             ],
             [
              0.3333333333333333,
              "#9c179e"
             ],
             [
              0.4444444444444444,
              "#bd3786"
             ],
             [
              0.5555555555555556,
              "#d8576b"
             ],
             [
              0.6666666666666666,
              "#ed7953"
             ],
             [
              0.7777777777777778,
              "#fb9f3a"
             ],
             [
              0.8888888888888888,
              "#fdca26"
             ],
             [
              1,
              "#f0f921"
             ]
            ],
            "type": "contour"
           }
          ],
          "contourcarpet": [
           {
            "colorbar": {
             "outlinewidth": 0,
             "ticks": ""
            },
            "type": "contourcarpet"
           }
          ],
          "heatmap": [
           {
            "colorbar": {
             "outlinewidth": 0,
             "ticks": ""
            },
            "colorscale": [
             [
              0,
              "#0d0887"
             ],
             [
              0.1111111111111111,
              "#46039f"
             ],
             [
              0.2222222222222222,
              "#7201a8"
             ],
             [
              0.3333333333333333,
              "#9c179e"
             ],
             [
              0.4444444444444444,
              "#bd3786"
             ],
             [
              0.5555555555555556,
              "#d8576b"
             ],
             [
              0.6666666666666666,
              "#ed7953"
             ],
             [
              0.7777777777777778,
              "#fb9f3a"
             ],
             [
              0.8888888888888888,
              "#fdca26"
             ],
             [
              1,
              "#f0f921"
             ]
            ],
            "type": "heatmap"
           }
          ],
          "heatmapgl": [
           {
            "colorbar": {
             "outlinewidth": 0,
             "ticks": ""
            },
            "colorscale": [
             [
              0,
              "#0d0887"
             ],
             [
              0.1111111111111111,
              "#46039f"
             ],
             [
              0.2222222222222222,
              "#7201a8"
             ],
             [
              0.3333333333333333,
              "#9c179e"
             ],
             [
              0.4444444444444444,
              "#bd3786"
             ],
             [
              0.5555555555555556,
              "#d8576b"
             ],
             [
              0.6666666666666666,
              "#ed7953"
             ],
             [
              0.7777777777777778,
              "#fb9f3a"
             ],
             [
              0.8888888888888888,
              "#fdca26"
             ],
             [
              1,
              "#f0f921"
             ]
            ],
            "type": "heatmapgl"
           }
          ],
          "histogram": [
           {
            "marker": {
             "pattern": {
              "fillmode": "overlay",
              "size": 10,
              "solidity": 0.2
             }
            },
            "type": "histogram"
           }
          ],
          "histogram2d": [
           {
            "colorbar": {
             "outlinewidth": 0,
             "ticks": ""
            },
            "colorscale": [
             [
              0,
              "#0d0887"
             ],
             [
              0.1111111111111111,
              "#46039f"
             ],
             [
              0.2222222222222222,
              "#7201a8"
             ],
             [
              0.3333333333333333,
              "#9c179e"
             ],
             [
              0.4444444444444444,
              "#bd3786"
             ],
             [
              0.5555555555555556,
              "#d8576b"
             ],
             [
              0.6666666666666666,
              "#ed7953"
             ],
             [
              0.7777777777777778,
              "#fb9f3a"
             ],
             [
              0.8888888888888888,
              "#fdca26"
             ],
             [
              1,
              "#f0f921"
             ]
            ],
            "type": "histogram2d"
           }
          ],
          "histogram2dcontour": [
           {
            "colorbar": {
             "outlinewidth": 0,
             "ticks": ""
            },
            "colorscale": [
             [
              0,
              "#0d0887"
             ],
             [
              0.1111111111111111,
              "#46039f"
             ],
             [
              0.2222222222222222,
              "#7201a8"
             ],
             [
              0.3333333333333333,
              "#9c179e"
             ],
             [
              0.4444444444444444,
              "#bd3786"
             ],
             [
              0.5555555555555556,
              "#d8576b"
             ],
             [
              0.6666666666666666,
              "#ed7953"
             ],
             [
              0.7777777777777778,
              "#fb9f3a"
             ],
             [
              0.8888888888888888,
              "#fdca26"
             ],
             [
              1,
              "#f0f921"
             ]
            ],
            "type": "histogram2dcontour"
           }
          ],
          "mesh3d": [
           {
            "colorbar": {
             "outlinewidth": 0,
             "ticks": ""
            },
            "type": "mesh3d"
           }
          ],
          "parcoords": [
           {
            "line": {
             "colorbar": {
              "outlinewidth": 0,
              "ticks": ""
             }
            },
            "type": "parcoords"
           }
          ],
          "pie": [
           {
            "automargin": true,
            "type": "pie"
           }
          ],
          "scatter": [
           {
            "marker": {
             "colorbar": {
              "outlinewidth": 0,
              "ticks": ""
             }
            },
            "type": "scatter"
           }
          ],
          "scatter3d": [
           {
            "line": {
             "colorbar": {
              "outlinewidth": 0,
              "ticks": ""
             }
            },
            "marker": {
             "colorbar": {
              "outlinewidth": 0,
              "ticks": ""
             }
            },
            "type": "scatter3d"
           }
          ],
          "scattercarpet": [
           {
            "marker": {
             "colorbar": {
              "outlinewidth": 0,
              "ticks": ""
             }
            },
            "type": "scattercarpet"
           }
          ],
          "scattergeo": [
           {
            "marker": {
             "colorbar": {
              "outlinewidth": 0,
              "ticks": ""
             }
            },
            "type": "scattergeo"
           }
          ],
          "scattergl": [
           {
            "marker": {
             "colorbar": {
              "outlinewidth": 0,
              "ticks": ""
             }
            },
            "type": "scattergl"
           }
          ],
          "scattermapbox": [
           {
            "marker": {
             "colorbar": {
              "outlinewidth": 0,
              "ticks": ""
             }
            },
            "type": "scattermapbox"
           }
          ],
          "scatterpolar": [
           {
            "marker": {
             "colorbar": {
              "outlinewidth": 0,
              "ticks": ""
             }
            },
            "type": "scatterpolar"
           }
          ],
          "scatterpolargl": [
           {
            "marker": {
             "colorbar": {
              "outlinewidth": 0,
              "ticks": ""
             }
            },
            "type": "scatterpolargl"
           }
          ],
          "scatterternary": [
           {
            "marker": {
             "colorbar": {
              "outlinewidth": 0,
              "ticks": ""
             }
            },
            "type": "scatterternary"
           }
          ],
          "surface": [
           {
            "colorbar": {
             "outlinewidth": 0,
             "ticks": ""
            },
            "colorscale": [
             [
              0,
              "#0d0887"
             ],
             [
              0.1111111111111111,
              "#46039f"
             ],
             [
              0.2222222222222222,
              "#7201a8"
             ],
             [
              0.3333333333333333,
              "#9c179e"
             ],
             [
              0.4444444444444444,
              "#bd3786"
             ],
             [
              0.5555555555555556,
              "#d8576b"
             ],
             [
              0.6666666666666666,
              "#ed7953"
             ],
             [
              0.7777777777777778,
              "#fb9f3a"
             ],
             [
              0.8888888888888888,
              "#fdca26"
             ],
             [
              1,
              "#f0f921"
             ]
            ],
            "type": "surface"
           }
          ],
          "table": [
           {
            "cells": {
             "fill": {
              "color": "#EBF0F8"
             },
             "line": {
              "color": "white"
             }
            },
            "header": {
             "fill": {
              "color": "#C8D4E3"
             },
             "line": {
              "color": "white"
             }
            },
            "type": "table"
           }
          ]
         },
         "layout": {
          "annotationdefaults": {
           "arrowcolor": "#2a3f5f",
           "arrowhead": 0,
           "arrowwidth": 1
          },
          "autotypenumbers": "strict",
          "coloraxis": {
           "colorbar": {
            "outlinewidth": 0,
            "ticks": ""
           }
          },
          "colorscale": {
           "diverging": [
            [
             0,
             "#8e0152"
            ],
            [
             0.1,
             "#c51b7d"
            ],
            [
             0.2,
             "#de77ae"
            ],
            [
             0.3,
             "#f1b6da"
            ],
            [
             0.4,
             "#fde0ef"
            ],
            [
             0.5,
             "#f7f7f7"
            ],
            [
             0.6,
             "#e6f5d0"
            ],
            [
             0.7,
             "#b8e186"
            ],
            [
             0.8,
             "#7fbc41"
            ],
            [
             0.9,
             "#4d9221"
            ],
            [
             1,
             "#276419"
            ]
           ],
           "sequential": [
            [
             0,
             "#0d0887"
            ],
            [
             0.1111111111111111,
             "#46039f"
            ],
            [
             0.2222222222222222,
             "#7201a8"
            ],
            [
             0.3333333333333333,
             "#9c179e"
            ],
            [
             0.4444444444444444,
             "#bd3786"
            ],
            [
             0.5555555555555556,
             "#d8576b"
            ],
            [
             0.6666666666666666,
             "#ed7953"
            ],
            [
             0.7777777777777778,
             "#fb9f3a"
            ],
            [
             0.8888888888888888,
             "#fdca26"
            ],
            [
             1,
             "#f0f921"
            ]
           ],
           "sequentialminus": [
            [
             0,
             "#0d0887"
            ],
            [
             0.1111111111111111,
             "#46039f"
            ],
            [
             0.2222222222222222,
             "#7201a8"
            ],
            [
             0.3333333333333333,
             "#9c179e"
            ],
            [
             0.4444444444444444,
             "#bd3786"
            ],
            [
             0.5555555555555556,
             "#d8576b"
            ],
            [
             0.6666666666666666,
             "#ed7953"
            ],
            [
             0.7777777777777778,
             "#fb9f3a"
            ],
            [
             0.8888888888888888,
             "#fdca26"
            ],
            [
             1,
             "#f0f921"
            ]
           ]
          },
          "colorway": [
           "#636efa",
           "#EF553B",
           "#00cc96",
           "#ab63fa",
           "#FFA15A",
           "#19d3f3",
           "#FF6692",
           "#B6E880",
           "#FF97FF",
           "#FECB52"
          ],
          "font": {
           "color": "#2a3f5f"
          },
          "geo": {
           "bgcolor": "white",
           "lakecolor": "white",
           "landcolor": "#E5ECF6",
           "showlakes": true,
           "showland": true,
           "subunitcolor": "white"
          },
          "hoverlabel": {
           "align": "left"
          },
          "hovermode": "closest",
          "mapbox": {
           "style": "light"
          },
          "paper_bgcolor": "white",
          "plot_bgcolor": "#E5ECF6",
          "polar": {
           "angularaxis": {
            "gridcolor": "white",
            "linecolor": "white",
            "ticks": ""
           },
           "bgcolor": "#E5ECF6",
           "radialaxis": {
            "gridcolor": "white",
            "linecolor": "white",
            "ticks": ""
           }
          },
          "scene": {
           "xaxis": {
            "backgroundcolor": "#E5ECF6",
            "gridcolor": "white",
            "gridwidth": 2,
            "linecolor": "white",
            "showbackground": true,
            "ticks": "",
            "zerolinecolor": "white"
           },
           "yaxis": {
            "backgroundcolor": "#E5ECF6",
            "gridcolor": "white",
            "gridwidth": 2,
            "linecolor": "white",
            "showbackground": true,
            "ticks": "",
            "zerolinecolor": "white"
           },
           "zaxis": {
            "backgroundcolor": "#E5ECF6",
            "gridcolor": "white",
            "gridwidth": 2,
            "linecolor": "white",
            "showbackground": true,
            "ticks": "",
            "zerolinecolor": "white"
           }
          },
          "shapedefaults": {
           "line": {
            "color": "#2a3f5f"
           }
          },
          "ternary": {
           "aaxis": {
            "gridcolor": "white",
            "linecolor": "white",
            "ticks": ""
           },
           "baxis": {
            "gridcolor": "white",
            "linecolor": "white",
            "ticks": ""
           },
           "bgcolor": "#E5ECF6",
           "caxis": {
            "gridcolor": "white",
            "linecolor": "white",
            "ticks": ""
           }
          },
          "title": {
           "x": 0.05
          },
          "xaxis": {
           "automargin": true,
           "gridcolor": "white",
           "linecolor": "white",
           "ticks": "",
           "title": {
            "standoff": 15
           },
           "zerolinecolor": "white",
           "zerolinewidth": 2
          },
          "yaxis": {
           "automargin": true,
           "gridcolor": "white",
           "linecolor": "white",
           "ticks": "",
           "title": {
            "standoff": 15
           },
           "zerolinecolor": "white",
           "zerolinewidth": 2
          }
         }
        },
        "title": {
         "text": "MSE with K-Fold Cross Validation w/ 30/70 Test Train Ratio"
        },
        "xaxis": {
         "anchor": "y",
         "domain": [
          0,
          1
         ],
         "title": {
          "text": "Ridge Parameter"
         }
        },
        "yaxis": {
         "anchor": "x",
         "domain": [
          0,
          1
         ],
         "title": {
          "text": "Mean Squared Error"
         }
        }
       }
      },
      "text/html": [
       "<div>                            <div id=\"3656172a-b980-4ae6-bb4e-09555d75c47f\" class=\"plotly-graph-div\" style=\"height:525px; width:100%;\"></div>            <script type=\"text/javascript\">                require([\"plotly\"], function(Plotly) {                    window.PLOTLYENV=window.PLOTLYENV || {};                                    if (document.getElementById(\"3656172a-b980-4ae6-bb4e-09555d75c47f\")) {                    Plotly.newPlot(                        \"3656172a-b980-4ae6-bb4e-09555d75c47f\",                        [{\"hovertemplate\":\"Ridge Parameter=%{x}<br>Mean Squared Error=%{y}<extra></extra>\",\"legendgroup\":\"\",\"marker\":{\"color\":\"#636efa\",\"symbol\":\"circle\"},\"mode\":\"markers\",\"name\":\"\",\"orientation\":\"v\",\"showlegend\":false,\"x\":[10000.0,20000.0,30000.0,40000.0,50000.0,60000.0,70000.0,80000.0,90000.0,100000.0,110000.0,120000.0,130000.0,140000.0,150000.0,160000.0,170000.0,180000.0,190000.0,200000.0,210000.0,220000.0,230000.0,240000.0,250000.0,260000.0,270000.0,280000.0,290000.0,300000.0,310000.0,320000.0,330000.0,340000.0,350000.0,360000.0,370000.0,380000.0,390000.0,400000.0,410000.0,420000.0,430000.0,440000.0,450000.0,460000.0,470000.0,480000.0,490000.0,500000.0,510000.0,520000.0,530000.0,540000.0,550000.0,560000.0,570000.0,580000.0,590000.0,600000.0,610000.0,620000.0,630000.0,640000.0,650000.0,660000.0,670000.0,680000.0,690000.0,700000.0,710000.0,720000.0,730000.0,740000.0,750000.0,760000.0,770000.0,780000.0,790000.0,800000.0,810000.0,820000.0,830000.0,840000.0,850000.0,860000.0,870000.0,880000.0,890000.0,900000.0,910000.0,920000.0,930000.0,940000.0,950000.0,960000.0,970000.0,980000.0,990000.0,1000000.0,1010000.0,1020000.0,1030000.0,1040000.0,1050000.0,1060000.0,1070000.0,1080000.0,1090000.0,1100000.0,1110000.0,1120000.0,1130000.0,1140000.0,1150000.0,1160000.0,1170000.0,1180000.0,1190000.0,1200000.0,1210000.0,1220000.0,1230000.0,1240000.0,1250000.0,1260000.0,1270000.0,1280000.0,1290000.0,1300000.0,1310000.0,1320000.0,1330000.0,1340000.0,1350000.0,1360000.0,1370000.0,1380000.0,1390000.0,1400000.0,1410000.0,1420000.0,1430000.0,1440000.0,1450000.0,1460000.0,1470000.0,1480000.0,1490000.0,1500000.0,1510000.0,1520000.0,1530000.0,1540000.0,1550000.0,1560000.0,1570000.0,1580000.0,1590000.0,1600000.0,1610000.0,1620000.0,1630000.0,1640000.0,1650000.0,1660000.0,1670000.0,1680000.0,1690000.0,1700000.0,1710000.0,1720000.0,1730000.0,1740000.0,1750000.0,1760000.0,1770000.0,1780000.0,1790000.0,1800000.0,1810000.0,1820000.0,1830000.0,1840000.0,1850000.0,1860000.0,1870000.0,1880000.0,1890000.0,1900000.0,1910000.0,1920000.0,1930000.0,1940000.0,1950000.0,1960000.0,1970000.0,1980000.0,1990000.0,2000000.0,2010000.0,2020000.0,2030000.0,2040000.0,2050000.0,2060000.0,2070000.0,2080000.0,2090000.0,2100000.0,2110000.0,2120000.0,2130000.0,2140000.0,2150000.0,2160000.0,2170000.0,2180000.0,2190000.0,2200000.0,2210000.0,2220000.0,2230000.0,2240000.0,2250000.0,2260000.0,2270000.0,2280000.0,2290000.0,2300000.0,2310000.0,2320000.0,2330000.0,2340000.0,2350000.0,2360000.0,2370000.0,2380000.0,2390000.0,2400000.0,2410000.0,2420000.0,2430000.0,2440000.0,2450000.0,2460000.0,2470000.0,2480000.0,2490000.0,2500000.0,2510000.0,2520000.0,2530000.0,2540000.0,2550000.0,2560000.0,2570000.0,2580000.0,2590000.0,2600000.0,2610000.0,2620000.0,2630000.0,2640000.0,2650000.0,2660000.0,2670000.0,2680000.0,2690000.0,2700000.0,2710000.0,2720000.0,2730000.0,2740000.0,2750000.0,2760000.0,2770000.0,2780000.0,2790000.0,2800000.0,2810000.0,2820000.0,2830000.0,2840000.0,2850000.0,2860000.0,2870000.0,2880000.0,2890000.0,2900000.0,2910000.0,2920000.0,2930000.0,2940000.0,2950000.0,2960000.0,2970000.0,2980000.0,2990000.0,3000000.0,3010000.0,3020000.0,3030000.0,3040000.0,3050000.0,3060000.0,3070000.0,3080000.0,3090000.0,3100000.0,3110000.0,3120000.0,3130000.0,3140000.0,3150000.0,3160000.0,3170000.0,3180000.0,3190000.0,3200000.0,3210000.0,3220000.0,3230000.0,3240000.0,3250000.0,3260000.0,3270000.0,3280000.0,3290000.0,3300000.0,3310000.0,3320000.0,3330000.0,3340000.0,3350000.0,3360000.0,3370000.0,3380000.0,3390000.0,3400000.0,3410000.0,3420000.0,3430000.0,3440000.0,3450000.0,3460000.0,3470000.0,3480000.0,3490000.0,3500000.0,3510000.0,3520000.0,3530000.0,3540000.0,3550000.0,3560000.0,3570000.0,3580000.0,3590000.0,3600000.0,3610000.0,3620000.0,3630000.0,3640000.0,3650000.0,3660000.0,3670000.0,3680000.0,3690000.0,3700000.0,3710000.0,3720000.0,3730000.0,3740000.0,3750000.0,3760000.0,3770000.0,3780000.0,3790000.0,3800000.0,3810000.0,3820000.0,3830000.0,3840000.0,3850000.0,3860000.0,3870000.0,3880000.0,3890000.0,3900000.0,3910000.0,3920000.0,3930000.0,3940000.0,3950000.0,3960000.0,3970000.0,3980000.0,3990000.0,4000000.0,4010000.0,4020000.0,4030000.0,4040000.0,4050000.0,4060000.0,4070000.0,4080000.0,4090000.0,4100000.0,4110000.0,4120000.0,4130000.0,4140000.0,4150000.0,4160000.0,4170000.0,4180000.0,4190000.0,4200000.0,4210000.0,4220000.0,4230000.0,4240000.0,4250000.0,4260000.0,4270000.0,4280000.0,4290000.0,4300000.0,4310000.0,4320000.0,4330000.0,4340000.0,4350000.0,4360000.0,4370000.0,4380000.0,4390000.0,4400000.0,4410000.0,4420000.0,4430000.0,4440000.0,4450000.0,4460000.0,4470000.0,4480000.0,4490000.0,4500000.0,4510000.0,4520000.0,4530000.0,4540000.0,4550000.0,4560000.0,4570000.0,4580000.0,4590000.0,4600000.0,4610000.0,4620000.0,4630000.0,4640000.0,4650000.0,4660000.0,4670000.0,4680000.0,4690000.0,4700000.0,4710000.0,4720000.0,4730000.0,4740000.0,4750000.0,4760000.0,4770000.0,4780000.0,4790000.0,4800000.0,4810000.0,4820000.0,4830000.0,4840000.0,4850000.0,4860000.0,4870000.0,4880000.0,4890000.0,4900000.0,4910000.0,4920000.0,4930000.0,4940000.0,4950000.0,4960000.0,4970000.0,4980000.0,4990000.0,5000000.0,5010000.0,5020000.0,5030000.0,5040000.0,5050000.0,5060000.0,5070000.0,5080000.0,5090000.0,5100000.0,5110000.0,5120000.0,5130000.0,5140000.0,5150000.0,5160000.0,5170000.0,5180000.0,5190000.0,5200000.0,5210000.0,5220000.0,5230000.0,5240000.0,5250000.0,5260000.0,5270000.0,5280000.0,5290000.0,5300000.0,5310000.0,5320000.0,5330000.0,5340000.0,5350000.0,5360000.0,5370000.0,5380000.0,5390000.0,5400000.0,5410000.0,5420000.0,5430000.0,5440000.0,5450000.0,5460000.0,5470000.0,5480000.0,5490000.0,5500000.0,5510000.0,5520000.0,5530000.0,5540000.0,5550000.0,5560000.0,5570000.0,5580000.0,5590000.0,5600000.0,5610000.0,5620000.0,5630000.0,5640000.0,5650000.0,5660000.0,5670000.0,5680000.0,5690000.0,5700000.0,5710000.0,5720000.0,5730000.0,5740000.0,5750000.0,5760000.0,5770000.0,5780000.0,5790000.0,5800000.0,5810000.0,5820000.0,5830000.0,5840000.0,5850000.0,5860000.0,5870000.0,5880000.0,5890000.0,5900000.0,5910000.0,5920000.0,5930000.0,5940000.0,5950000.0,5960000.0,5970000.0,5980000.0,5990000.0,6000000.0,6010000.0,6020000.0,6030000.0,6040000.0,6050000.0,6060000.0,6070000.0,6080000.0,6090000.0,6100000.0,6110000.0,6120000.0,6130000.0,6140000.0,6150000.0,6160000.0,6170000.0,6180000.0,6190000.0,6200000.0,6210000.0,6220000.0,6230000.0,6240000.0,6250000.0,6260000.0,6270000.0,6280000.0,6290000.0,6300000.0,6310000.0,6320000.0,6330000.0,6340000.0,6350000.0,6360000.0,6370000.0,6380000.0,6390000.0,6400000.0,6410000.0,6420000.0,6430000.0,6440000.0,6450000.0,6460000.0,6470000.0,6480000.0,6490000.0,6500000.0,6510000.0,6520000.0,6530000.0,6540000.0,6550000.0,6560000.0,6570000.0,6580000.0,6590000.0,6600000.0,6610000.0,6620000.0,6630000.0,6640000.0,6650000.0,6660000.0,6670000.0,6680000.0,6690000.0,6700000.0,6710000.0,6720000.0,6730000.0,6740000.0,6750000.0,6760000.0,6770000.0,6780000.0,6790000.0,6800000.0,6810000.0,6820000.0,6830000.0,6840000.0,6850000.0,6860000.0,6870000.0,6880000.0,6890000.0,6900000.0,6910000.0,6920000.0,6930000.0,6940000.0,6950000.0,6960000.0,6970000.0,6980000.0,6990000.0,7000000.0,7010000.0,7020000.0,7030000.0,7040000.0,7050000.0,7060000.0,7070000.0,7080000.0,7090000.0,7100000.0,7110000.0,7120000.0,7130000.0,7140000.0,7150000.0,7160000.0,7170000.0,7180000.0,7190000.0,7200000.0,7210000.0,7220000.0,7230000.0,7240000.0,7250000.0,7260000.0,7270000.0,7280000.0,7290000.0,7300000.0,7310000.0,7320000.0,7330000.0,7340000.0,7350000.0,7360000.0,7370000.0,7380000.0,7390000.0,7400000.0,7410000.0,7420000.0,7430000.0,7440000.0,7450000.0,7460000.0,7470000.0,7480000.0,7490000.0,7500000.0,7510000.0,7520000.0,7530000.0,7540000.0,7550000.0,7560000.0,7570000.0,7580000.0,7590000.0,7600000.0,7610000.0,7620000.0,7630000.0,7640000.0,7650000.0,7660000.0,7670000.0,7680000.0,7690000.0,7700000.0,7710000.0,7720000.0,7730000.0,7740000.0,7750000.0,7760000.0,7770000.0,7780000.0,7790000.0,7800000.0,7810000.0,7820000.0,7830000.0,7840000.0,7850000.0,7860000.0,7870000.0,7880000.0,7890000.0,7900000.0,7910000.0,7920000.0,7930000.0,7940000.0,7950000.0,7960000.0,7970000.0,7980000.0,7990000.0,8000000.0,8010000.0,8020000.0,8030000.0,8040000.0,8050000.0,8060000.0,8070000.0,8080000.0,8090000.0,8100000.0,8110000.0,8120000.0,8130000.0,8140000.0,8150000.0,8160000.0,8170000.0,8180000.0,8190000.0,8200000.0,8210000.0,8220000.0,8230000.0,8240000.0,8250000.0,8260000.0,8270000.0,8280000.0,8290000.0,8300000.0,8310000.0,8320000.0,8330000.0,8340000.0,8350000.0,8360000.0,8370000.0,8380000.0,8390000.0,8400000.0,8410000.0,8420000.0,8430000.0,8440000.0,8450000.0,8460000.0,8470000.0,8480000.0,8490000.0,8500000.0,8510000.0,8520000.0,8530000.0,8540000.0,8550000.0,8560000.0,8570000.0,8580000.0,8590000.0,8600000.0,8610000.0,8620000.0,8630000.0,8640000.0,8650000.0,8660000.0,8670000.0,8680000.0,8690000.0,8700000.0,8710000.0,8720000.0,8730000.0,8740000.0,8750000.0,8760000.0,8770000.0,8780000.0,8790000.0,8800000.0,8810000.0,8820000.0,8830000.0,8840000.0,8850000.0,8860000.0,8870000.0,8880000.0,8890000.0,8900000.0,8910000.0,8920000.0,8930000.0,8940000.0,8950000.0,8960000.0,8970000.0,8980000.0,8990000.0,9000000.0,9010000.0,9020000.0,9030000.0,9040000.0,9050000.0,9060000.0,9070000.0,9080000.0,9090000.0,9100000.0,9110000.0,9120000.0,9130000.0,9140000.0,9150000.0,9160000.0,9170000.0,9180000.0,9190000.0,9200000.0,9210000.0,9220000.0,9230000.0,9240000.0,9250000.0,9260000.0,9270000.0,9280000.0,9290000.0,9300000.0,9310000.0,9320000.0,9330000.0,9340000.0,9350000.0,9360000.0,9370000.0,9380000.0,9390000.0,9400000.0,9410000.0,9420000.0,9430000.0,9440000.0,9450000.0,9460000.0,9470000.0,9480000.0,9490000.0,9500000.0,9510000.0,9520000.0,9530000.0,9540000.0,9550000.0,9560000.0,9570000.0,9580000.0,9590000.0,9600000.0,9610000.0,9620000.0,9630000.0,9640000.0,9650000.0,9660000.0,9670000.0,9680000.0,9690000.0,9700000.0,9710000.0,9720000.0,9730000.0,9740000.0,9750000.0,9760000.0,9770000.0,9780000.0,9790000.0,9800000.0,9810000.0,9820000.0,9830000.0,9840000.0,9850000.0,9860000.0,9870000.0,9880000.0,9890000.0,9900000.0,9910000.0,9920000.0,9930000.0,9940000.0,9950000.0,9960000.0,9970000.0,9980000.0,9990000.0],\"xaxis\":\"x\",\"y\":[503596.45754607645,503484.1623274089,503263.9524532466,503329.95543478243,503430.0951428415,503513.2562650879,503614.89959237014,503648.3282698904,503633.99959778495,503642.49506966106,503569.41567902954,503534.6370817085,503530.7254293107,503514.4151294264,503467.72978215833,503468.6523290278,503448.42995419016,503445.9330521516,503473.76636396203,503429.21920655447,503422.3316670658,503410.631970649,503391.3430097001,503367.6424723145,503369.20680130273,503356.71144251805,503358.4693131272,503343.22527484596,503332.26540053287,503318.3820539945,503304.7578059587,503286.8544122047,503283.09968166595,503287.90456387115,503267.2607857802,503258.8174006103,503267.99589940766,503266.81311511545,503259.10282692296,503258.64267488586,503261.77695472364,503278.51769871946,503281.0074570685,503286.4840405814,503291.45197881054,503281.9419856308,503278.2340839251,503281.16071681,503287.09238073794,503278.56643232785,503285.9109925846,503281.4477212088,503278.1259001394,503273.5697951954,503276.63753231626,503275.4443611564,503275.92685376725,503281.7544075972,503274.03552103415,503273.41203967086,503277.56439158245,503279.072801711,503273.925709111,503271.55147248233,503267.6834406411,503260.3483297947,503267.51081882016,503271.5921524881,503273.65998013737,503274.16051413096,503276.962961463,503270.890945607,503268.3159376936,503270.0720111603,503262.460305721,503259.78211750265,503259.74486358784,503261.9312820058,503255.5831290706,503259.5089158771,503250.41847186635,503250.21913197,503251.6873211348,503247.24516397004,503244.41999071225,503244.0822439043,503236.82271835656,503235.12315420754,503234.071883658,503237.5883698863,503228.7318862832,503231.92144503735,503228.51768970134,503229.6496271776,503235.34262227,503235.7159927984,503230.6233633795,503232.4084253299,503233.357629069,503227.1944481976,503227.36158248637,503222.8499788527,503220.96172275994,503218.7725648834,503221.2419284643,503223.47100006836,503219.297004656,503219.9000999861,503214.55731133476,503219.02343162894,503221.39071838785,503227.3147298119,503227.846865104,503230.69796972745,503229.1247495945,503227.8217935475,503228.35379475687,503223.5092297161,503224.31221146905,503229.1107320771,503224.1912586327,503223.6180385498,503220.71011225675,503218.4975873172,503215.23862847936,503218.06458249147,503221.30448697996,503218.7498404203,503212.5665524413,503209.3243814513,503210.63361154747,503209.24272144743,503206.25004987855,503202.7453147003,503203.4925970712,503202.2480288128,503204.1904174689,503207.32563176384,503203.9886082882,503202.53777928435,503201.7273088341,503204.1180760001,503205.0222330633,503203.83496239525,503203.0594617135,503199.18561547453,503196.50933500606,503192.69953156344,503193.408462465,503193.51579644816,503192.85976500326,503194.6559436339,503192.9039289589,503191.40853413224,503189.1810773024,503191.7827985155,503192.10572922166,503191.7405944982,503186.99931115157,503186.75730861817,503184.36833290785,503181.97942587,503182.2181380471,503180.43658355076,503181.55221243174,503183.9020173537,503180.9947783585,503179.6211553895,503179.1797007756,503179.2951297169,503179.9632063454,503179.85429075116,503182.56334214384,503182.58179985004,503180.59633888415,503179.75159072835,503175.6369444982,503175.7219135954,503176.14076117694,503176.71028488723,503178.1082891655,503177.8499918604,503179.0451132821,503180.1644457388,503179.6849428205,503179.8065443574,503178.76516670117,503179.04739335226,503176.1898194683,503177.00128838245,503176.989103115,503174.9565866276,503177.23535244714,503175.26715452195,503174.04298008385,503176.54081366287,503176.5486753136,503177.3707475453,503175.3380464177,503175.85867615463,503172.94513497764,503176.19628240005,503177.06829897955,503176.74674236996,503177.22074695694,503180.1855587583,503180.68484318873,503179.4094282383,503179.4766395373,503176.34868877206,503178.29666720773,503177.21316105186,503178.49613764434,503178.3374336177,503178.427497855,503180.27368817903,503179.07540740405,503179.3129824761,503176.2829143401,503177.00608083187,503177.69550508406,503175.07717203075,503173.5140474687,503174.76460094657,503172.97524525836,503172.7309971158,503171.8904611577,503170.66057280125,503171.0037076562,503172.03467783966,503172.47066431603,503170.8892495245,503171.1300017077,503169.9041484123,503171.6899229399,503170.8530457906,503172.0076809567,503173.6371353545,503172.2849237005,503174.4045603409,503175.67490804463,503176.5499397941,503178.5891548437,503178.7159030843,503179.9617054124,503181.0790314114,503180.3453979712,503180.478257819,503180.3339503036,503179.4936947726,503176.851963419,503179.7242769077,503178.04690804734,503179.60636513523,503180.74144833605,503179.1237471923,503177.03140130884,503177.4095197019,503179.2105364128,503178.29329965013,503177.2486748923,503179.6946911104,503180.27594010124,503180.94618245476,503180.70981391886,503180.33811542264,503180.4199068045,503178.69431427465,503178.0405090685,503179.1797939126,503179.99048956385,503182.4587830486,503182.5856760512,503181.2252840158,503182.3022892771,503181.5380848144,503181.0888926743,503180.9242879994,503182.32272413885,503182.21042546333,503181.1109315299,503183.15190591395,503184.1652585977,503185.1047435638,503186.7451732903,503187.24666292244,503187.12939482596,503185.92721113295,503186.5133425004,503185.8639551938,503187.8574078788,503187.8746982866,503186.6905818429,503185.9278836895,503185.2112302746,503185.7147973945,503186.8523716224,503188.2422784787,503188.4046101911,503188.6376782328,503188.5404549541,503188.24271969765,503189.57939036115,503188.56696177175,503187.82530887186,503187.4346382091,503187.5555982838,503187.5905942793,503187.8932019447,503188.92974131735,503187.9650433969,503186.1598848346,503185.88458836393,503186.57750686957,503187.1048475811,503186.64876998076,503185.2658719222,503185.3601597761,503185.7667991564,503187.1489927618,503187.71190475574,503189.02644884284,503187.55185735476,503187.2495786361,503186.9788849824,503185.9001848241,503187.0187914111,503187.22964627825,503187.41710929415,503187.0942250593,503187.2471551711,503188.043495887,503188.78268782934,503187.33868229575,503188.38854955224,503188.4526640961,503190.02522177866,503191.3547541453,503189.834338879,503191.4079780016,503192.0144592137,503192.31232644303,503191.3799182825,503191.23004591576,503190.4401760146,503189.4152755518,503188.4002026883,503186.7080748174,503185.2351021782,503183.4126263053,503184.24764942494,503182.59329533105,503181.8430633489,503180.2285429251,503180.23626406543,503179.0596608014,503178.2874637821,503178.3234569566,503179.97261686943,503179.8755056546,503180.3084939024,503179.13440187776,503178.2310356873,503178.3800336825,503178.8671066836,503178.0829155867,503178.7386856129,503178.2689527718,503179.1761340808,503177.92422846827,503177.9186722596,503178.00062648905,503177.9996692461,503177.5822429195,503177.2836675593,503176.22823017987,503173.5528446059,503172.23877131136,503172.5815560898,503171.5981793528,503170.99482846766,503170.9675549207,503171.5941297756,503171.78778228624,503171.06319095375,503169.5593643144,503171.2547754292,503170.58182847075,503170.39339053555,503170.5071051292,503169.5073159933,503170.80723970424,503169.7399200741,503170.3230454604,503171.8503944456,503171.4764539623,503171.7699137656,503170.81839575537,503169.5023299542,503168.96797511796,503168.81347583607,503169.753207175,503170.30332783813,503171.5305571618,503171.45697308565,503171.2424714296,503169.29307606496,503169.57365860924,503168.2592354785,503168.187721558,503167.321333097,503166.94896404026,503166.8562389833,503167.0454111187,503166.4359648948,503165.9339978528,503166.04695206264,503166.9082037476,503166.80934043875,503166.90094555164,503165.85861887457,503164.74167972116,503165.53217497776,503165.5426016453,503164.53557035665,503163.991395408,503165.44433136535,503164.18929708976,503164.2994084693,503164.95197943226,503164.3147946652,503163.576446374,503163.8690856951,503163.92227168375,503163.27304204553,503164.1095482197,503164.8024345553,503164.86143175437,503165.20526052825,503164.8185031055,503164.980000684,503164.58118284756,503164.593787418,503164.9672906223,503165.7834113858,503165.059971295,503165.13051135826,503165.1356465727,503165.2563650607,503164.8773268184,503164.1375928492,503163.1947673624,503163.25208837347,503163.5986140727,503163.91902549786,503163.11984311574,503162.4903032224,503162.59972709237,503162.4338040045,503161.2637102987,503160.0737065494,503161.3409392414,503161.50889361376,503160.94040047325,503161.19176970824,503161.005748827,503161.340927885,503161.43968106515,503160.6643716271,503159.6566043706,503159.31615415285,503160.03105371044,503159.50688550173,503159.9578762061,503160.2179741966,503159.9656030725,503159.3323905618,503158.99481920403,503157.6201188158,503157.8161077128,503157.2875366632,503156.4822783646,503156.2022342275,503156.02155597793,503154.86931116966,503154.045273419,503153.32350008015,503153.0164710282,503152.48058131407,503151.88925079716,503152.1754972944,503151.9278771614,503152.31914860394,503152.20093612635,503153.2778715427,503153.3145754472,503151.72357273416,503152.0673184104,503151.4376136288,503150.6326637986,503149.171689985,503149.01753718633,503150.192116277,503150.6913066249,503150.6788955731,503150.6504896447,503151.4471696087,503152.9033250601,503153.78755307395,503154.28223172296,503155.2534099421,503155.67708188726,503155.96115969523,503156.4627601756,503155.9734516762,503155.32162097556,503156.5852603387,503157.4528201158,503157.0594818677,503157.2060692251,503157.16326934646,503156.9340614656,503157.1523382175,503157.5004997473,503157.458708818,503157.54717942415,503156.93637066416,503156.1964409401,503155.7645449701,503155.9657534458,503156.36165962706,503157.5136197059,503158.0300418675,503157.5360835585,503157.72714560735,503157.88890884194,503157.9325143307,503157.68473692186,503157.49564584374,503156.1244568613,503155.6253509418,503155.350572083,503155.0537181037,503154.51404900453,503153.992732251,503154.5396738106,503154.06967205735,503153.90122432617,503154.1066912378,503154.5080683821,503154.19662418164,503154.5135274143,503153.8156276219,503152.4964087188,503152.4879402272,503152.35791948845,503151.83793015155,503151.05393784086,503151.6425509781,503151.48756234837,503152.13284868887,503152.2433209387,503152.8057313824,503152.33111848286,503152.87681829213,503152.10283972434,503152.4267875029,503151.4585719564,503151.16607413173,503150.982030353,503151.2010797078,503149.85887549556,503150.41447438183,503149.9225591457,503149.8600534713,503149.6649549191,503149.6148444193,503149.2097226868,503149.23201057845,503149.08211621095,503148.9644021666,503149.695060871,503148.77513540996,503148.7275182307,503148.6923178027,503148.36078599136,503147.5577684922,503147.08514799,503146.373378762,503146.1306912399,503145.63663319545,503144.97837931785,503145.2279389859,503145.0784250563,503145.4714377193,503145.66283392016,503146.2202184833,503145.8497029431,503146.18973961356,503145.61660563387,503145.1300423316,503144.2194996722,503144.2696418934,503144.41152370645,503144.66426408757,503144.8613609341,503144.5138733,503144.49042884173,503144.39817684115,503144.4378839694,503144.6168646755,503144.7661940471,503145.50774068566,503144.6207000151,503144.8283488764,503144.9699949949,503144.548789885,503143.8147009401,503144.0861096484,503143.46622109204,503143.2597146892,503143.81287692674,503143.8289226729,503143.6397869809,503144.2866797346,503143.90431082447,503144.40544361534,503144.4937276711,503142.63798599044,503142.6138500315,503141.79590315383,503141.88024865126,503141.82581928215,503142.09700354456,503141.8326379853,503142.56020484323,503141.9662756918,503141.6955817868,503141.22199225036,503140.8898561887,503141.19067338476,503141.1518762304,503140.87038250495,503140.9833105897,503141.31308570545,503140.8147664912,503141.789801069,503142.4179822375,503143.37373390625,503143.0431556434,503143.18688493996,503143.91478763346,503144.5811915467,503144.2542609321,503144.962206019,503144.9764542892,503145.10850727075,503144.9766310566,503144.40491929033,503144.4050996302,503144.29460650415,503144.292295419,503145.5235825085,503145.34056693065,503145.0539092333,503145.5095119392,503145.240070827,503144.9698226409,503144.4819109775,503144.35929816373,503144.1647540456,503144.87761098694,503144.3867273161,503143.5666603178,503143.8725178628,503143.02222569427,503142.65005124256,503143.00159786025,503142.958394581,503142.6851703062,503142.2669404095,503142.8393420061,503143.56518418825,503143.0684600122,503143.00436020736,503142.54557621916,503143.3505583913,503142.9488075925,503143.8784141729,503144.3022272725,503143.65488234285,503143.8403795956,503143.35472643713,503143.72541441163,503143.6173775493,503144.40524955565,503144.37440877024,503144.16873329453,503144.63305036724,503144.3804854052,503143.63461833,503143.2467699369,503143.26884922205,503143.04305719153,503143.19938470016,503142.61808128096,503143.28544771613,503144.0139848218,503144.7560745656,503145.01729885716,503144.87305214023,503145.02018503804,503144.92354989046,503145.13098309137,503144.3392066886,503145.1728371573,503145.71433986106,503145.6632072851,503146.52118299616,503147.0728985109,503146.74129302584,503146.2661578837,503145.81593773694,503144.96106034174,503145.29697566095,503144.9240753466,503144.9831388236,503145.01285712037,503145.6590610359,503146.15877082146,503146.1608057628,503146.33548834675,503146.2916178988,503145.5076070111,503145.44284185115,503145.5138375317,503144.88220212824,503144.851127294,503145.3569455929,503145.0349547283,503144.5877858043,503143.88120057253,503144.64290909306,503145.45734174806,503145.91873231396,503146.0207434236,503146.2026129732,503145.7706473355,503145.691207739,503146.3090846854,503146.2943070516,503145.95771690586,503146.3250091621,503147.54573643714,503147.7071951351,503148.3710792663,503149.16258525767,503148.7317774219,503147.98609385063,503148.298937029,503148.41391130205,503148.48244525096,503148.49333577545,503148.1936849498,503148.7756096405,503148.4624093888,503147.96625532245,503148.21580818226,503148.49702360434,503148.25248175516,503148.3181736789,503147.65918179427,503147.64089106297,503148.02402104874,503148.1204994902,503148.1646150553,503147.67395709205,503147.20010455564,503147.40623862337,503147.01052753744,503147.22431100666,503146.8984539694,503147.75457028305,503147.3422205036,503147.5924989942,503147.89048575336,503148.0962532342,503147.68661843106,503147.7512753225,503147.6529178816,503147.3616222261,503147.07444402674,503146.2049525474,503146.12547375396,503146.6955159634,503146.6297247621,503146.96025223564,503146.7981863795,503147.19663006335,503147.1896289219,503147.1263533823,503146.3053717025,503146.5308182409,503146.6146041163,503146.06404703466,503145.9206657744,503145.91194378806,503145.6103649678,503145.55080785305,503145.9656998595,503145.64734020113,503145.70222424535,503145.53176706436,503145.4194422165,503145.5618051273,503145.53347141104,503146.14649380685,503146.5084134938,503147.1256970777,503147.4350716197,503148.1402521826,503148.671106494,503148.632595761,503148.6321466904,503148.49679449457,503149.0836502134,503149.1872958464,503148.6700818934,503148.4923243134,503148.6645164075,503149.08648754156,503148.4556042261,503147.98181567586,503148.56576049473,503148.37271381426,503148.79816480016,503148.68579928484,503148.39710100257,503148.7127523526,503149.0097853457,503149.02787427895,503149.14922345633,503149.31752241944,503149.8142630351,503149.97821832163,503149.6228714757,503149.2399146315,503148.8101604985,503148.02243212913,503148.38031902054,503148.4368289484,503147.70505080314,503147.665628132,503148.24057667184,503148.20245697536,503148.226743603,503148.73610144167,503148.51070627564,503148.4675993158,503148.6585930276,503147.82301339187,503147.9137055556,503147.93426549516,503148.14639523503,503148.92801273067,503148.9624621063,503149.4253552385,503149.580577856,503149.71986151783,503149.50279758783,503149.5518748524,503149.50308416714,503149.3961120202,503150.24715560087,503150.3258967948,503150.1073870499,503150.579536264,503150.49217974785,503150.4428137295,503150.5787339835,503150.528814222,503149.9690751808,503149.94461727573,503149.9333417139,503149.3992972787,503149.39508704445,503149.49709531094,503149.6542414559,503149.1407887481,503148.90646051016,503149.58482495724,503149.1112825967,503148.48590154975,503147.64919253,503147.0142270615,503146.5876587088,503145.66690725397,503145.2741734943,503144.59048365353,503143.8062197243,503143.76049900026,503143.57152236113,503143.6142833928,503143.53348261,503143.834923066,503143.6220532183,503144.0680111975,503144.0590892793,503143.67497537,503143.73143741157,503143.5818533378,503144.18089219375,503143.5263110338,503142.87661251164,503142.568363825,503142.89471816126,503142.51875749946,503142.8651407455,503142.9772475937,503142.68382660125,503142.6359884793,503142.4944678923,503142.34145676857,503141.9147473785,503142.4779165357,503142.7344127896,503143.5635309132,503143.76639967394,503143.99785338476,503143.6713956592,503143.1731499082,503142.7926719322,503142.8021632524,503142.52805490897,503142.0345092174,503141.87430212565,503142.0843774416,503141.90296905994,503142.19759149157,503141.86701352295,503141.57802063273,503141.4364009197,503141.2637031091,503140.41531148896,503140.48513929104,503140.3716124493,503140.3022769241,503139.9819240529,503139.33268413314,503139.4889418425,503139.3212293205,503139.159156857,503139.05283092184,503138.77038738324,503139.4338519596,503140.2612056131,503140.3473786673,503140.0809526574,503140.2387432575,503139.74898403086,503139.914795722,503139.6841721089,503139.6483295901,503139.05914378294,503139.198035623,503139.4978425226,503139.2391327226,503139.36270922655,503138.93381310813,503138.9375626898,503138.8077366413,503138.50923600374,503138.3938370463,503138.3752820854,503138.21202306077,503137.8197310586,503137.5159507976,503136.96097633237,503136.82617133076,503136.34493212705,503136.31373815535,503137.2703207796,503137.4346107101,503137.3610717386,503138.2180764419,503137.8531481845,503137.5351743606,503137.09125400224,503136.51806652563,503137.30345021473,503137.2476463207,503137.2782988475,503136.9973462033,503136.84642346407,503136.778905044,503136.8604484836,503136.53145714296,503136.3387517585,503136.09954715107],\"yaxis\":\"y\",\"type\":\"scatter\"},{\"name\":\"Minimum MSE\",\"x\":[9990000.0],\"y\":[503136.09954715107],\"type\":\"scatter\"}],                        {\"legend\":{\"tracegroupgap\":0},\"template\":{\"data\":{\"barpolar\":[{\"marker\":{\"line\":{\"color\":\"#E5ECF6\",\"width\":0.5},\"pattern\":{\"fillmode\":\"overlay\",\"size\":10,\"solidity\":0.2}},\"type\":\"barpolar\"}],\"bar\":[{\"error_x\":{\"color\":\"#2a3f5f\"},\"error_y\":{\"color\":\"#2a3f5f\"},\"marker\":{\"line\":{\"color\":\"#E5ECF6\",\"width\":0.5},\"pattern\":{\"fillmode\":\"overlay\",\"size\":10,\"solidity\":0.2}},\"type\":\"bar\"}],\"carpet\":[{\"aaxis\":{\"endlinecolor\":\"#2a3f5f\",\"gridcolor\":\"white\",\"linecolor\":\"white\",\"minorgridcolor\":\"white\",\"startlinecolor\":\"#2a3f5f\"},\"baxis\":{\"endlinecolor\":\"#2a3f5f\",\"gridcolor\":\"white\",\"linecolor\":\"white\",\"minorgridcolor\":\"white\",\"startlinecolor\":\"#2a3f5f\"},\"type\":\"carpet\"}],\"choropleth\":[{\"colorbar\":{\"outlinewidth\":0,\"ticks\":\"\"},\"type\":\"choropleth\"}],\"contourcarpet\":[{\"colorbar\":{\"outlinewidth\":0,\"ticks\":\"\"},\"type\":\"contourcarpet\"}],\"contour\":[{\"colorbar\":{\"outlinewidth\":0,\"ticks\":\"\"},\"colorscale\":[[0.0,\"#0d0887\"],[0.1111111111111111,\"#46039f\"],[0.2222222222222222,\"#7201a8\"],[0.3333333333333333,\"#9c179e\"],[0.4444444444444444,\"#bd3786\"],[0.5555555555555556,\"#d8576b\"],[0.6666666666666666,\"#ed7953\"],[0.7777777777777778,\"#fb9f3a\"],[0.8888888888888888,\"#fdca26\"],[1.0,\"#f0f921\"]],\"type\":\"contour\"}],\"heatmapgl\":[{\"colorbar\":{\"outlinewidth\":0,\"ticks\":\"\"},\"colorscale\":[[0.0,\"#0d0887\"],[0.1111111111111111,\"#46039f\"],[0.2222222222222222,\"#7201a8\"],[0.3333333333333333,\"#9c179e\"],[0.4444444444444444,\"#bd3786\"],[0.5555555555555556,\"#d8576b\"],[0.6666666666666666,\"#ed7953\"],[0.7777777777777778,\"#fb9f3a\"],[0.8888888888888888,\"#fdca26\"],[1.0,\"#f0f921\"]],\"type\":\"heatmapgl\"}],\"heatmap\":[{\"colorbar\":{\"outlinewidth\":0,\"ticks\":\"\"},\"colorscale\":[[0.0,\"#0d0887\"],[0.1111111111111111,\"#46039f\"],[0.2222222222222222,\"#7201a8\"],[0.3333333333333333,\"#9c179e\"],[0.4444444444444444,\"#bd3786\"],[0.5555555555555556,\"#d8576b\"],[0.6666666666666666,\"#ed7953\"],[0.7777777777777778,\"#fb9f3a\"],[0.8888888888888888,\"#fdca26\"],[1.0,\"#f0f921\"]],\"type\":\"heatmap\"}],\"histogram2dcontour\":[{\"colorbar\":{\"outlinewidth\":0,\"ticks\":\"\"},\"colorscale\":[[0.0,\"#0d0887\"],[0.1111111111111111,\"#46039f\"],[0.2222222222222222,\"#7201a8\"],[0.3333333333333333,\"#9c179e\"],[0.4444444444444444,\"#bd3786\"],[0.5555555555555556,\"#d8576b\"],[0.6666666666666666,\"#ed7953\"],[0.7777777777777778,\"#fb9f3a\"],[0.8888888888888888,\"#fdca26\"],[1.0,\"#f0f921\"]],\"type\":\"histogram2dcontour\"}],\"histogram2d\":[{\"colorbar\":{\"outlinewidth\":0,\"ticks\":\"\"},\"colorscale\":[[0.0,\"#0d0887\"],[0.1111111111111111,\"#46039f\"],[0.2222222222222222,\"#7201a8\"],[0.3333333333333333,\"#9c179e\"],[0.4444444444444444,\"#bd3786\"],[0.5555555555555556,\"#d8576b\"],[0.6666666666666666,\"#ed7953\"],[0.7777777777777778,\"#fb9f3a\"],[0.8888888888888888,\"#fdca26\"],[1.0,\"#f0f921\"]],\"type\":\"histogram2d\"}],\"histogram\":[{\"marker\":{\"pattern\":{\"fillmode\":\"overlay\",\"size\":10,\"solidity\":0.2}},\"type\":\"histogram\"}],\"mesh3d\":[{\"colorbar\":{\"outlinewidth\":0,\"ticks\":\"\"},\"type\":\"mesh3d\"}],\"parcoords\":[{\"line\":{\"colorbar\":{\"outlinewidth\":0,\"ticks\":\"\"}},\"type\":\"parcoords\"}],\"pie\":[{\"automargin\":true,\"type\":\"pie\"}],\"scatter3d\":[{\"line\":{\"colorbar\":{\"outlinewidth\":0,\"ticks\":\"\"}},\"marker\":{\"colorbar\":{\"outlinewidth\":0,\"ticks\":\"\"}},\"type\":\"scatter3d\"}],\"scattercarpet\":[{\"marker\":{\"colorbar\":{\"outlinewidth\":0,\"ticks\":\"\"}},\"type\":\"scattercarpet\"}],\"scattergeo\":[{\"marker\":{\"colorbar\":{\"outlinewidth\":0,\"ticks\":\"\"}},\"type\":\"scattergeo\"}],\"scattergl\":[{\"marker\":{\"colorbar\":{\"outlinewidth\":0,\"ticks\":\"\"}},\"type\":\"scattergl\"}],\"scattermapbox\":[{\"marker\":{\"colorbar\":{\"outlinewidth\":0,\"ticks\":\"\"}},\"type\":\"scattermapbox\"}],\"scatterpolargl\":[{\"marker\":{\"colorbar\":{\"outlinewidth\":0,\"ticks\":\"\"}},\"type\":\"scatterpolargl\"}],\"scatterpolar\":[{\"marker\":{\"colorbar\":{\"outlinewidth\":0,\"ticks\":\"\"}},\"type\":\"scatterpolar\"}],\"scatter\":[{\"marker\":{\"colorbar\":{\"outlinewidth\":0,\"ticks\":\"\"}},\"type\":\"scatter\"}],\"scatterternary\":[{\"marker\":{\"colorbar\":{\"outlinewidth\":0,\"ticks\":\"\"}},\"type\":\"scatterternary\"}],\"surface\":[{\"colorbar\":{\"outlinewidth\":0,\"ticks\":\"\"},\"colorscale\":[[0.0,\"#0d0887\"],[0.1111111111111111,\"#46039f\"],[0.2222222222222222,\"#7201a8\"],[0.3333333333333333,\"#9c179e\"],[0.4444444444444444,\"#bd3786\"],[0.5555555555555556,\"#d8576b\"],[0.6666666666666666,\"#ed7953\"],[0.7777777777777778,\"#fb9f3a\"],[0.8888888888888888,\"#fdca26\"],[1.0,\"#f0f921\"]],\"type\":\"surface\"}],\"table\":[{\"cells\":{\"fill\":{\"color\":\"#EBF0F8\"},\"line\":{\"color\":\"white\"}},\"header\":{\"fill\":{\"color\":\"#C8D4E3\"},\"line\":{\"color\":\"white\"}},\"type\":\"table\"}]},\"layout\":{\"annotationdefaults\":{\"arrowcolor\":\"#2a3f5f\",\"arrowhead\":0,\"arrowwidth\":1},\"autotypenumbers\":\"strict\",\"coloraxis\":{\"colorbar\":{\"outlinewidth\":0,\"ticks\":\"\"}},\"colorscale\":{\"diverging\":[[0,\"#8e0152\"],[0.1,\"#c51b7d\"],[0.2,\"#de77ae\"],[0.3,\"#f1b6da\"],[0.4,\"#fde0ef\"],[0.5,\"#f7f7f7\"],[0.6,\"#e6f5d0\"],[0.7,\"#b8e186\"],[0.8,\"#7fbc41\"],[0.9,\"#4d9221\"],[1,\"#276419\"]],\"sequential\":[[0.0,\"#0d0887\"],[0.1111111111111111,\"#46039f\"],[0.2222222222222222,\"#7201a8\"],[0.3333333333333333,\"#9c179e\"],[0.4444444444444444,\"#bd3786\"],[0.5555555555555556,\"#d8576b\"],[0.6666666666666666,\"#ed7953\"],[0.7777777777777778,\"#fb9f3a\"],[0.8888888888888888,\"#fdca26\"],[1.0,\"#f0f921\"]],\"sequentialminus\":[[0.0,\"#0d0887\"],[0.1111111111111111,\"#46039f\"],[0.2222222222222222,\"#7201a8\"],[0.3333333333333333,\"#9c179e\"],[0.4444444444444444,\"#bd3786\"],[0.5555555555555556,\"#d8576b\"],[0.6666666666666666,\"#ed7953\"],[0.7777777777777778,\"#fb9f3a\"],[0.8888888888888888,\"#fdca26\"],[1.0,\"#f0f921\"]]},\"colorway\":[\"#636efa\",\"#EF553B\",\"#00cc96\",\"#ab63fa\",\"#FFA15A\",\"#19d3f3\",\"#FF6692\",\"#B6E880\",\"#FF97FF\",\"#FECB52\"],\"font\":{\"color\":\"#2a3f5f\"},\"geo\":{\"bgcolor\":\"white\",\"lakecolor\":\"white\",\"landcolor\":\"#E5ECF6\",\"showlakes\":true,\"showland\":true,\"subunitcolor\":\"white\"},\"hoverlabel\":{\"align\":\"left\"},\"hovermode\":\"closest\",\"mapbox\":{\"style\":\"light\"},\"paper_bgcolor\":\"white\",\"plot_bgcolor\":\"#E5ECF6\",\"polar\":{\"angularaxis\":{\"gridcolor\":\"white\",\"linecolor\":\"white\",\"ticks\":\"\"},\"bgcolor\":\"#E5ECF6\",\"radialaxis\":{\"gridcolor\":\"white\",\"linecolor\":\"white\",\"ticks\":\"\"}},\"scene\":{\"xaxis\":{\"backgroundcolor\":\"#E5ECF6\",\"gridcolor\":\"white\",\"gridwidth\":2,\"linecolor\":\"white\",\"showbackground\":true,\"ticks\":\"\",\"zerolinecolor\":\"white\"},\"yaxis\":{\"backgroundcolor\":\"#E5ECF6\",\"gridcolor\":\"white\",\"gridwidth\":2,\"linecolor\":\"white\",\"showbackground\":true,\"ticks\":\"\",\"zerolinecolor\":\"white\"},\"zaxis\":{\"backgroundcolor\":\"#E5ECF6\",\"gridcolor\":\"white\",\"gridwidth\":2,\"linecolor\":\"white\",\"showbackground\":true,\"ticks\":\"\",\"zerolinecolor\":\"white\"}},\"shapedefaults\":{\"line\":{\"color\":\"#2a3f5f\"}},\"ternary\":{\"aaxis\":{\"gridcolor\":\"white\",\"linecolor\":\"white\",\"ticks\":\"\"},\"baxis\":{\"gridcolor\":\"white\",\"linecolor\":\"white\",\"ticks\":\"\"},\"bgcolor\":\"#E5ECF6\",\"caxis\":{\"gridcolor\":\"white\",\"linecolor\":\"white\",\"ticks\":\"\"}},\"title\":{\"x\":0.05},\"xaxis\":{\"automargin\":true,\"gridcolor\":\"white\",\"linecolor\":\"white\",\"ticks\":\"\",\"title\":{\"standoff\":15},\"zerolinecolor\":\"white\",\"zerolinewidth\":2},\"yaxis\":{\"automargin\":true,\"gridcolor\":\"white\",\"linecolor\":\"white\",\"ticks\":\"\",\"title\":{\"standoff\":15},\"zerolinecolor\":\"white\",\"zerolinewidth\":2}}},\"title\":{\"text\":\"MSE with K-Fold Cross Validation w/ 30/70 Test Train Ratio\"},\"xaxis\":{\"anchor\":\"y\",\"domain\":[0.0,1.0],\"title\":{\"text\":\"Ridge Parameter\"}},\"yaxis\":{\"anchor\":\"x\",\"domain\":[0.0,1.0],\"title\":{\"text\":\"Mean Squared Error\"}}},                        {\"responsive\": true}                    ).then(function(){\n",
       "                            \n",
       "var gd = document.getElementById('3656172a-b980-4ae6-bb4e-09555d75c47f');\n",
       "var x = new MutationObserver(function (mutations, observer) {{\n",
       "        var display = window.getComputedStyle(gd).display;\n",
       "        if (!display || display === 'none') {{\n",
       "            console.log([gd, 'removed!']);\n",
       "            Plotly.purge(gd);\n",
       "            observer.disconnect();\n",
       "        }}\n",
       "}});\n",
       "\n",
       "// Listen for the removal of the full notebook cells\n",
       "var notebookContainer = gd.closest('#notebook-container');\n",
       "if (notebookContainer) {{\n",
       "    x.observe(notebookContainer, {childList: true});\n",
       "}}\n",
       "\n",
       "// Listen for the clearing of the current output cell\n",
       "var outputEl = gd.closest('.output');\n",
       "if (outputEl) {{\n",
       "    x.observe(outputEl, {childList: true});\n",
       "}}\n",
       "\n",
       "                        })                };                });            </script>        </div>"
      ]
     },
     "metadata": {},
     "output_type": "display_data"
    },
    {
     "data": {
      "application/javascript": [
       "\n",
       "            setTimeout(function() {\n",
       "                var nbb_cell_id = 90;\n",
       "                var nbb_unformatted_code = \"kfoldMSE = pd.DataFrame({\\\"lambda\\\": alphas, \\\"MSE\\\": listMSE})\\n\\nminMSEindex = kfoldMSE[\\\"MSE\\\"].idxmin()\\nminMSErow = kfoldMSE.iloc[minMSEindex]\\n\\nfig = go.Figure(\\n    data=px.scatter(\\n        kfoldMSE,\\n        x=\\\"lambda\\\",\\n        y=\\\"MSE\\\",\\n        labels={\\\"lambda\\\": \\\"Ridge Parameter\\\", \\\"MSE\\\": \\\"Mean Squared Error\\\"},\\n        title=\\\"MSE with K-Fold Cross Validation w/ 30/70 Test Train Ratio\\\",\\n    )\\n)\\n\\nfig.add_trace(\\n    go.Scatter(\\n        x=[minMSErow.loc[\\\"lambda\\\"]], y=[minMSErow.loc[\\\"MSE\\\"]], name=\\\"Minimum MSE\\\"\\n    )\\n)\\n\\nfig.show()\";\n",
       "                var nbb_formatted_code = \"kfoldMSE = pd.DataFrame({\\\"lambda\\\": alphas, \\\"MSE\\\": listMSE})\\n\\nminMSEindex = kfoldMSE[\\\"MSE\\\"].idxmin()\\nminMSErow = kfoldMSE.iloc[minMSEindex]\\n\\nfig = go.Figure(\\n    data=px.scatter(\\n        kfoldMSE,\\n        x=\\\"lambda\\\",\\n        y=\\\"MSE\\\",\\n        labels={\\\"lambda\\\": \\\"Ridge Parameter\\\", \\\"MSE\\\": \\\"Mean Squared Error\\\"},\\n        title=\\\"MSE with K-Fold Cross Validation w/ 30/70 Test Train Ratio\\\",\\n    )\\n)\\n\\nfig.add_trace(\\n    go.Scatter(\\n        x=[minMSErow.loc[\\\"lambda\\\"]], y=[minMSErow.loc[\\\"MSE\\\"]], name=\\\"Minimum MSE\\\"\\n    )\\n)\\n\\nfig.show()\";\n",
       "                var nbb_cells = Jupyter.notebook.get_cells();\n",
       "                for (var i = 0; i < nbb_cells.length; ++i) {\n",
       "                    if (nbb_cells[i].input_prompt_number == nbb_cell_id) {\n",
       "                        if (nbb_cells[i].get_text() == nbb_unformatted_code) {\n",
       "                             nbb_cells[i].set_text(nbb_formatted_code);\n",
       "                        }\n",
       "                        break;\n",
       "                    }\n",
       "                }\n",
       "            }, 500);\n",
       "            "
      ],
      "text/plain": [
       "<IPython.core.display.Javascript object>"
      ]
     },
     "metadata": {},
     "output_type": "display_data"
    }
   ],
   "source": [
    "kfoldMSE = pd.DataFrame({\"lambda\": alphas, \"MSE\": listMSE})\n",
    "\n",
    "minMSEindex = kfoldMSE[\"MSE\"].idxmin()\n",
    "minMSErow = kfoldMSE.iloc[minMSEindex]\n",
    "\n",
    "fig = go.Figure(\n",
    "    data=px.scatter(\n",
    "        kfoldMSE,\n",
    "        x=\"lambda\",\n",
    "        y=\"MSE\",\n",
    "        labels={\"lambda\": \"Ridge Parameter\", \"MSE\": \"Mean Squared Error\"},\n",
    "        title=\"MSE with K-Fold Cross Validation w/ 30/70 Test Train Ratio\",\n",
    "    )\n",
    ")\n",
    "\n",
    "fig.add_trace(\n",
    "    go.Scatter(\n",
    "        x=[minMSErow.loc[\"lambda\"]], y=[minMSErow.loc[\"MSE\"]], name=\"Minimum MSE\"\n",
    "    )\n",
    ")\n",
    "\n",
    "fig.show()"
   ]
  },
  {
   "cell_type": "code",
   "execution_count": 86,
   "id": "d7956e61",
   "metadata": {},
   "outputs": [
    {
     "data": {
      "text/html": [
       "<div>\n",
       "<style scoped>\n",
       "    .dataframe tbody tr th:only-of-type {\n",
       "        vertical-align: middle;\n",
       "    }\n",
       "\n",
       "    .dataframe tbody tr th {\n",
       "        vertical-align: top;\n",
       "    }\n",
       "\n",
       "    .dataframe thead th {\n",
       "        text-align: right;\n",
       "    }\n",
       "</style>\n",
       "<table border=\"1\" class=\"dataframe\">\n",
       "  <thead>\n",
       "    <tr style=\"text-align: right;\">\n",
       "      <th></th>\n",
       "      <th>coef</th>\n",
       "      <th>names</th>\n",
       "    </tr>\n",
       "  </thead>\n",
       "  <tbody>\n",
       "    <tr>\n",
       "      <th>26</th>\n",
       "      <td>0.031626</td>\n",
       "      <td>Credit_Worthiness_l1</td>\n",
       "    </tr>\n",
       "    <tr>\n",
       "      <th>58</th>\n",
       "      <td>0.022221</td>\n",
       "      <td>age_45-54</td>\n",
       "    </tr>\n",
       "    <tr>\n",
       "      <th>42</th>\n",
       "      <td>0.020559</td>\n",
       "      <td>total_units_3U</td>\n",
       "    </tr>\n",
       "    <tr>\n",
       "      <th>50</th>\n",
       "      <td>0.019827</td>\n",
       "      <td>Gender_Male</td>\n",
       "    </tr>\n",
       "    <tr>\n",
       "      <th>43</th>\n",
       "      <td>0.019789</td>\n",
       "      <td>total_units_4U</td>\n",
       "    </tr>\n",
       "    <tr>\n",
       "      <th>52</th>\n",
       "      <td>0.019138</td>\n",
       "      <td>Region_North</td>\n",
       "    </tr>\n",
       "    <tr>\n",
       "      <th>20</th>\n",
       "      <td>0.017449</td>\n",
       "      <td>lump_sum_payment_lpsm</td>\n",
       "    </tr>\n",
       "    <tr>\n",
       "      <th>29</th>\n",
       "      <td>0.015089</td>\n",
       "      <td>approv_in_adv_pre</td>\n",
       "    </tr>\n",
       "    <tr>\n",
       "      <th>2</th>\n",
       "      <td>0.014461</td>\n",
       "      <td>income</td>\n",
       "    </tr>\n",
       "    <tr>\n",
       "      <th>56</th>\n",
       "      <td>0.012550</td>\n",
       "      <td>age_25-34</td>\n",
       "    </tr>\n",
       "    <tr>\n",
       "      <th>39</th>\n",
       "      <td>0.011466</td>\n",
       "      <td>loan_purpose_p4</td>\n",
       "    </tr>\n",
       "    <tr>\n",
       "      <th>44</th>\n",
       "      <td>0.011261</td>\n",
       "      <td>credit_type_CIB</td>\n",
       "    </tr>\n",
       "    <tr>\n",
       "      <th>18</th>\n",
       "      <td>0.008719</td>\n",
       "      <td>Neg_ammortization_neg_amm</td>\n",
       "    </tr>\n",
       "    <tr>\n",
       "      <th>0</th>\n",
       "      <td>0.008585</td>\n",
       "      <td>loan_amount</td>\n",
       "    </tr>\n",
       "    <tr>\n",
       "      <th>14</th>\n",
       "      <td>0.008274</td>\n",
       "      <td>Security_Type_Indriect</td>\n",
       "    </tr>\n",
       "  </tbody>\n",
       "</table>\n",
       "</div>"
      ],
      "text/plain": [
       "        coef                      names\n",
       "26  0.031626       Credit_Worthiness_l1\n",
       "58  0.022221                  age_45-54\n",
       "42  0.020559             total_units_3U\n",
       "50  0.019827                Gender_Male\n",
       "43  0.019789             total_units_4U\n",
       "52  0.019138               Region_North\n",
       "20  0.017449      lump_sum_payment_lpsm\n",
       "29  0.015089          approv_in_adv_pre\n",
       "2   0.014461                     income\n",
       "56  0.012550                  age_25-34\n",
       "39  0.011466            loan_purpose_p4\n",
       "44  0.011261            credit_type_CIB\n",
       "18  0.008719  Neg_ammortization_neg_amm\n",
       "0   0.008585                loan_amount\n",
       "14  0.008274     Security_Type_Indriect"
      ]
     },
     "metadata": {},
     "output_type": "display_data"
    },
    {
     "data": {
      "text/html": [
       "<div>\n",
       "<style scoped>\n",
       "    .dataframe tbody tr th:only-of-type {\n",
       "        vertical-align: middle;\n",
       "    }\n",
       "\n",
       "    .dataframe tbody tr th {\n",
       "        vertical-align: top;\n",
       "    }\n",
       "\n",
       "    .dataframe thead th {\n",
       "        text-align: right;\n",
       "    }\n",
       "</style>\n",
       "<table border=\"1\" class=\"dataframe\">\n",
       "  <thead>\n",
       "    <tr style=\"text-align: right;\">\n",
       "      <th></th>\n",
       "      <th>coef</th>\n",
       "      <th>names</th>\n",
       "    </tr>\n",
       "  </thead>\n",
       "  <tbody>\n",
       "    <tr>\n",
       "      <th>15</th>\n",
       "      <td>-0.008274</td>\n",
       "      <td>Security_Type_direct</td>\n",
       "    </tr>\n",
       "    <tr>\n",
       "      <th>19</th>\n",
       "      <td>-0.008719</td>\n",
       "      <td>Neg_ammortization_not_neg</td>\n",
       "    </tr>\n",
       "    <tr>\n",
       "      <th>30</th>\n",
       "      <td>-0.008793</td>\n",
       "      <td>occupancy_type_ir</td>\n",
       "    </tr>\n",
       "    <tr>\n",
       "      <th>61</th>\n",
       "      <td>-0.009721</td>\n",
       "      <td>age_&lt;25</td>\n",
       "    </tr>\n",
       "    <tr>\n",
       "      <th>45</th>\n",
       "      <td>-0.010257</td>\n",
       "      <td>credit_type_CRIF</td>\n",
       "    </tr>\n",
       "    <tr>\n",
       "      <th>57</th>\n",
       "      <td>-0.012379</td>\n",
       "      <td>age_35-44</td>\n",
       "    </tr>\n",
       "    <tr>\n",
       "      <th>37</th>\n",
       "      <td>-0.012680</td>\n",
       "      <td>loan_purpose_p2</td>\n",
       "    </tr>\n",
       "    <tr>\n",
       "      <th>51</th>\n",
       "      <td>-0.012747</td>\n",
       "      <td>Gender_Sex Not Available</td>\n",
       "    </tr>\n",
       "    <tr>\n",
       "      <th>41</th>\n",
       "      <td>-0.013491</td>\n",
       "      <td>total_units_2U</td>\n",
       "    </tr>\n",
       "    <tr>\n",
       "      <th>55</th>\n",
       "      <td>-0.014921</td>\n",
       "      <td>Region_south</td>\n",
       "    </tr>\n",
       "    <tr>\n",
       "      <th>28</th>\n",
       "      <td>-0.015089</td>\n",
       "      <td>approv_in_adv_nopre</td>\n",
       "    </tr>\n",
       "    <tr>\n",
       "      <th>21</th>\n",
       "      <td>-0.017449</td>\n",
       "      <td>lump_sum_payment_not_lpsm</td>\n",
       "    </tr>\n",
       "    <tr>\n",
       "      <th>53</th>\n",
       "      <td>-0.019590</td>\n",
       "      <td>Region_North-East</td>\n",
       "    </tr>\n",
       "    <tr>\n",
       "      <th>62</th>\n",
       "      <td>-0.026209</td>\n",
       "      <td>age_&gt;74</td>\n",
       "    </tr>\n",
       "    <tr>\n",
       "      <th>27</th>\n",
       "      <td>-0.031626</td>\n",
       "      <td>Credit_Worthiness_l2</td>\n",
       "    </tr>\n",
       "  </tbody>\n",
       "</table>\n",
       "</div>"
      ],
      "text/plain": [
       "        coef                      names\n",
       "15 -0.008274       Security_Type_direct\n",
       "19 -0.008719  Neg_ammortization_not_neg\n",
       "30 -0.008793          occupancy_type_ir\n",
       "61 -0.009721                    age_<25\n",
       "45 -0.010257           credit_type_CRIF\n",
       "57 -0.012379                  age_35-44\n",
       "37 -0.012680            loan_purpose_p2\n",
       "51 -0.012747   Gender_Sex Not Available\n",
       "41 -0.013491             total_units_2U\n",
       "55 -0.014921               Region_south\n",
       "28 -0.015089        approv_in_adv_nopre\n",
       "21 -0.017449  lump_sum_payment_not_lpsm\n",
       "53 -0.019590          Region_North-East\n",
       "62 -0.026209                    age_>74\n",
       "27 -0.031626       Credit_Worthiness_l2"
      ]
     },
     "metadata": {},
     "output_type": "display_data"
    },
    {
     "data": {
      "application/javascript": [
       "\n",
       "            setTimeout(function() {\n",
       "                var nbb_cell_id = 86;\n",
       "                var nbb_unformatted_code = \"# Now with our optimized lambda of 10 million\\n\\nbeta = sp.linalg.inv((Xtrain.T @ Xtrain) + 1e7 * I) @ Xtrain.T @ Ytrain\\nmodel_coef = pd.DataFrame({\\\"coef\\\": beta, \\\"names\\\": variables})\\nsorted_model = model_coef[model_coef[\\\"coef\\\"] != 0].sort_values(\\n    by=\\\"coef\\\", ascending=False\\n)\\ndisplay(sorted_model.head(15))\\ndisplay(sorted_model.tail(15))\";\n",
       "                var nbb_formatted_code = \"# Now with our optimized lambda of 10 million\\n\\nbeta = sp.linalg.inv((Xtrain.T @ Xtrain) + 1e7 * I) @ Xtrain.T @ Ytrain\\nmodel_coef = pd.DataFrame({\\\"coef\\\": beta, \\\"names\\\": variables})\\nsorted_model = model_coef[model_coef[\\\"coef\\\"] != 0].sort_values(\\n    by=\\\"coef\\\", ascending=False\\n)\\ndisplay(sorted_model.head(15))\\ndisplay(sorted_model.tail(15))\";\n",
       "                var nbb_cells = Jupyter.notebook.get_cells();\n",
       "                for (var i = 0; i < nbb_cells.length; ++i) {\n",
       "                    if (nbb_cells[i].input_prompt_number == nbb_cell_id) {\n",
       "                        if (nbb_cells[i].get_text() == nbb_unformatted_code) {\n",
       "                             nbb_cells[i].set_text(nbb_formatted_code);\n",
       "                        }\n",
       "                        break;\n",
       "                    }\n",
       "                }\n",
       "            }, 500);\n",
       "            "
      ],
      "text/plain": [
       "<IPython.core.display.Javascript object>"
      ]
     },
     "metadata": {},
     "output_type": "display_data"
    }
   ],
   "source": [
    "# Now with our optimized lambda of 10 million\n",
    "\n",
    "beta = sp.linalg.inv((Xtrain.T @ Xtrain) + 1e7 * I) @ Xtrain.T @ Ytrain\n",
    "model_coef = pd.DataFrame({\"coef\": beta, \"names\": variables})\n",
    "sorted_model = model_coef[model_coef[\"coef\"] != 0].sort_values(\n",
    "    by=\"coef\", ascending=False\n",
    ")\n",
    "display(sorted_model.head(15))\n",
    "display(sorted_model.tail(15))"
   ]
  },
  {
   "cell_type": "code",
   "execution_count": null,
   "id": "76ae077e",
   "metadata": {},
   "outputs": [],
   "source": []
  },
  {
   "cell_type": "code",
   "execution_count": 91,
   "id": "4f084af1",
   "metadata": {},
   "outputs": [
    {
     "name": "stdout",
     "output_type": "stream",
     "text": [
      "--- 9.035358667373657 seconds ---\n"
     ]
    },
    {
     "data": {
      "application/javascript": [
       "\n",
       "            setTimeout(function() {\n",
       "                var nbb_cell_id = 91;\n",
       "                var nbb_unformatted_code = \"start = time.time()\\n\\ndef KfoldCV(X, Y, alphas, k):\\n    masterList = np.array([])  # what we return\\n    MSElist = np.array([])\\n    for l2 in alphas:\\n        for i in range(k):\\n            Xtrain, Xtest, Ytrain, Ytest = train_test_split(X, Y, test_size=0.5)\\n\\n            n, m = Xtrain.shape\\n            I = np.identity(m)\\n            # Beta vector\\n            beta = sp.linalg.inv((Xtrain.T @ Xtrain) + l2 * I) @ Xtrain.T @ Ytrain\\n\\n            Ypred = Xtest @ beta\\n            MSE = mean_squared_error(Ytest, Ypred)\\n\\n            MSElist = np.append(MSElist, MSE)\\n\\n        masterList = np.append(masterList, np.mean(MSElist))\\n\\n    return masterList\\n\\nalphas_small = np.arange(0, 200, 10)\\nlistMSE_5050 = KfoldCV(X_standardized.to_numpy(), y, alphas_small, 4)\\nprint(\\\"--- %s seconds ---\\\" % (time.time() - start))\";\n",
       "                var nbb_formatted_code = \"start = time.time()\\n\\n\\ndef KfoldCV(X, Y, alphas, k):\\n    masterList = np.array([])  # what we return\\n    MSElist = np.array([])\\n    for l2 in alphas:\\n        for i in range(k):\\n            Xtrain, Xtest, Ytrain, Ytest = train_test_split(X, Y, test_size=0.5)\\n\\n            n, m = Xtrain.shape\\n            I = np.identity(m)\\n            # Beta vector\\n            beta = sp.linalg.inv((Xtrain.T @ Xtrain) + l2 * I) @ Xtrain.T @ Ytrain\\n\\n            Ypred = Xtest @ beta\\n            MSE = mean_squared_error(Ytest, Ypred)\\n\\n            MSElist = np.append(MSElist, MSE)\\n\\n        masterList = np.append(masterList, np.mean(MSElist))\\n\\n    return masterList\\n\\n\\nalphas_small = np.arange(0, 200, 10)\\nlistMSE_5050 = KfoldCV(X_standardized.to_numpy(), y, alphas_small, 4)\\nprint(\\\"--- %s seconds ---\\\" % (time.time() - start))\";\n",
       "                var nbb_cells = Jupyter.notebook.get_cells();\n",
       "                for (var i = 0; i < nbb_cells.length; ++i) {\n",
       "                    if (nbb_cells[i].input_prompt_number == nbb_cell_id) {\n",
       "                        if (nbb_cells[i].get_text() == nbb_unformatted_code) {\n",
       "                             nbb_cells[i].set_text(nbb_formatted_code);\n",
       "                        }\n",
       "                        break;\n",
       "                    }\n",
       "                }\n",
       "            }, 500);\n",
       "            "
      ],
      "text/plain": [
       "<IPython.core.display.Javascript object>"
      ]
     },
     "metadata": {},
     "output_type": "display_data"
    }
   ],
   "source": [
    "start = time.time()\n",
    "\n",
    "\n",
    "def KfoldCV(X, Y, alphas, k):\n",
    "    masterList = np.array([])  # what we return\n",
    "    MSElist = np.array([])\n",
    "    for l2 in alphas:\n",
    "        for i in range(k):\n",
    "            Xtrain, Xtest, Ytrain, Ytest = train_test_split(X, Y, test_size=0.5)\n",
    "\n",
    "            n, m = Xtrain.shape\n",
    "            I = np.identity(m)\n",
    "            # Beta vector\n",
    "            beta = sp.linalg.inv((Xtrain.T @ Xtrain) + l2 * I) @ Xtrain.T @ Ytrain\n",
    "\n",
    "            Ypred = Xtest @ beta\n",
    "            MSE = mean_squared_error(Ytest, Ypred)\n",
    "\n",
    "            MSElist = np.append(MSElist, MSE)\n",
    "\n",
    "        masterList = np.append(masterList, np.mean(MSElist))\n",
    "\n",
    "    return masterList\n",
    "\n",
    "\n",
    "alphas_small = np.arange(0, 200, 10)\n",
    "listMSE_5050 = KfoldCV(X_standardized.to_numpy(), y, alphas_small, 4)\n",
    "print(\"--- %s seconds ---\" % (time.time() - start))"
   ]
  },
  {
   "cell_type": "code",
   "execution_count": 93,
   "id": "e747f936",
   "metadata": {},
   "outputs": [
    {
     "data": {
      "application/vnd.plotly.v1+json": {
       "config": {
        "plotlyServerURL": "https://plot.ly"
       },
       "data": [
        {
         "hovertemplate": "Ridge Parameter=%{x}<br>Mean Squared Error=%{y}<extra></extra>",
         "legendgroup": "",
         "marker": {
          "color": "#636efa",
          "symbol": "circle"
         },
         "mode": "markers",
         "name": "",
         "orientation": "v",
         "showlegend": false,
         "type": "scatter",
         "x": [
          0,
          10,
          20,
          30,
          40,
          50,
          60,
          70,
          80,
          90,
          100,
          110,
          120,
          130,
          140,
          150,
          160,
          170,
          180,
          190
         ],
         "xaxis": "x",
         "y": [
          8.393220841155425e+38,
          4.1966104205777124e+38,
          2.7977402803851417e+38,
          2.0983052102888562e+38,
          1.678644168231085e+38,
          1.3988701401925709e+38,
          1.1990315487364893e+38,
          1.0491526051444281e+38,
          9.32580093461714e+37,
          8.393220841155425e+37,
          7.6302007646867495e+37,
          6.994350700962854e+37,
          6.456323723965711e+37,
          5.995157743682447e+37,
          5.595480560770283e+37,
          5.2457630257221405e+37,
          4.937188730091427e+37,
          4.66290046730857e+37,
          4.417484653239697e+37,
          4.1966104205777126e+37
         ],
         "yaxis": "y"
        },
        {
         "name": "Minimum MSE",
         "type": "scatter",
         "x": [
          190
         ],
         "y": [
          4.1966104205777126e+37
         ]
        }
       ],
       "layout": {
        "legend": {
         "tracegroupgap": 0
        },
        "template": {
         "data": {
          "bar": [
           {
            "error_x": {
             "color": "#2a3f5f"
            },
            "error_y": {
             "color": "#2a3f5f"
            },
            "marker": {
             "line": {
              "color": "#E5ECF6",
              "width": 0.5
             },
             "pattern": {
              "fillmode": "overlay",
              "size": 10,
              "solidity": 0.2
             }
            },
            "type": "bar"
           }
          ],
          "barpolar": [
           {
            "marker": {
             "line": {
              "color": "#E5ECF6",
              "width": 0.5
             },
             "pattern": {
              "fillmode": "overlay",
              "size": 10,
              "solidity": 0.2
             }
            },
            "type": "barpolar"
           }
          ],
          "carpet": [
           {
            "aaxis": {
             "endlinecolor": "#2a3f5f",
             "gridcolor": "white",
             "linecolor": "white",
             "minorgridcolor": "white",
             "startlinecolor": "#2a3f5f"
            },
            "baxis": {
             "endlinecolor": "#2a3f5f",
             "gridcolor": "white",
             "linecolor": "white",
             "minorgridcolor": "white",
             "startlinecolor": "#2a3f5f"
            },
            "type": "carpet"
           }
          ],
          "choropleth": [
           {
            "colorbar": {
             "outlinewidth": 0,
             "ticks": ""
            },
            "type": "choropleth"
           }
          ],
          "contour": [
           {
            "colorbar": {
             "outlinewidth": 0,
             "ticks": ""
            },
            "colorscale": [
             [
              0,
              "#0d0887"
             ],
             [
              0.1111111111111111,
              "#46039f"
             ],
             [
              0.2222222222222222,
              "#7201a8"
             ],
             [
              0.3333333333333333,
              "#9c179e"
             ],
             [
              0.4444444444444444,
              "#bd3786"
             ],
             [
              0.5555555555555556,
              "#d8576b"
             ],
             [
              0.6666666666666666,
              "#ed7953"
             ],
             [
              0.7777777777777778,
              "#fb9f3a"
             ],
             [
              0.8888888888888888,
              "#fdca26"
             ],
             [
              1,
              "#f0f921"
             ]
            ],
            "type": "contour"
           }
          ],
          "contourcarpet": [
           {
            "colorbar": {
             "outlinewidth": 0,
             "ticks": ""
            },
            "type": "contourcarpet"
           }
          ],
          "heatmap": [
           {
            "colorbar": {
             "outlinewidth": 0,
             "ticks": ""
            },
            "colorscale": [
             [
              0,
              "#0d0887"
             ],
             [
              0.1111111111111111,
              "#46039f"
             ],
             [
              0.2222222222222222,
              "#7201a8"
             ],
             [
              0.3333333333333333,
              "#9c179e"
             ],
             [
              0.4444444444444444,
              "#bd3786"
             ],
             [
              0.5555555555555556,
              "#d8576b"
             ],
             [
              0.6666666666666666,
              "#ed7953"
             ],
             [
              0.7777777777777778,
              "#fb9f3a"
             ],
             [
              0.8888888888888888,
              "#fdca26"
             ],
             [
              1,
              "#f0f921"
             ]
            ],
            "type": "heatmap"
           }
          ],
          "heatmapgl": [
           {
            "colorbar": {
             "outlinewidth": 0,
             "ticks": ""
            },
            "colorscale": [
             [
              0,
              "#0d0887"
             ],
             [
              0.1111111111111111,
              "#46039f"
             ],
             [
              0.2222222222222222,
              "#7201a8"
             ],
             [
              0.3333333333333333,
              "#9c179e"
             ],
             [
              0.4444444444444444,
              "#bd3786"
             ],
             [
              0.5555555555555556,
              "#d8576b"
             ],
             [
              0.6666666666666666,
              "#ed7953"
             ],
             [
              0.7777777777777778,
              "#fb9f3a"
             ],
             [
              0.8888888888888888,
              "#fdca26"
             ],
             [
              1,
              "#f0f921"
             ]
            ],
            "type": "heatmapgl"
           }
          ],
          "histogram": [
           {
            "marker": {
             "pattern": {
              "fillmode": "overlay",
              "size": 10,
              "solidity": 0.2
             }
            },
            "type": "histogram"
           }
          ],
          "histogram2d": [
           {
            "colorbar": {
             "outlinewidth": 0,
             "ticks": ""
            },
            "colorscale": [
             [
              0,
              "#0d0887"
             ],
             [
              0.1111111111111111,
              "#46039f"
             ],
             [
              0.2222222222222222,
              "#7201a8"
             ],
             [
              0.3333333333333333,
              "#9c179e"
             ],
             [
              0.4444444444444444,
              "#bd3786"
             ],
             [
              0.5555555555555556,
              "#d8576b"
             ],
             [
              0.6666666666666666,
              "#ed7953"
             ],
             [
              0.7777777777777778,
              "#fb9f3a"
             ],
             [
              0.8888888888888888,
              "#fdca26"
             ],
             [
              1,
              "#f0f921"
             ]
            ],
            "type": "histogram2d"
           }
          ],
          "histogram2dcontour": [
           {
            "colorbar": {
             "outlinewidth": 0,
             "ticks": ""
            },
            "colorscale": [
             [
              0,
              "#0d0887"
             ],
             [
              0.1111111111111111,
              "#46039f"
             ],
             [
              0.2222222222222222,
              "#7201a8"
             ],
             [
              0.3333333333333333,
              "#9c179e"
             ],
             [
              0.4444444444444444,
              "#bd3786"
             ],
             [
              0.5555555555555556,
              "#d8576b"
             ],
             [
              0.6666666666666666,
              "#ed7953"
             ],
             [
              0.7777777777777778,
              "#fb9f3a"
             ],
             [
              0.8888888888888888,
              "#fdca26"
             ],
             [
              1,
              "#f0f921"
             ]
            ],
            "type": "histogram2dcontour"
           }
          ],
          "mesh3d": [
           {
            "colorbar": {
             "outlinewidth": 0,
             "ticks": ""
            },
            "type": "mesh3d"
           }
          ],
          "parcoords": [
           {
            "line": {
             "colorbar": {
              "outlinewidth": 0,
              "ticks": ""
             }
            },
            "type": "parcoords"
           }
          ],
          "pie": [
           {
            "automargin": true,
            "type": "pie"
           }
          ],
          "scatter": [
           {
            "marker": {
             "colorbar": {
              "outlinewidth": 0,
              "ticks": ""
             }
            },
            "type": "scatter"
           }
          ],
          "scatter3d": [
           {
            "line": {
             "colorbar": {
              "outlinewidth": 0,
              "ticks": ""
             }
            },
            "marker": {
             "colorbar": {
              "outlinewidth": 0,
              "ticks": ""
             }
            },
            "type": "scatter3d"
           }
          ],
          "scattercarpet": [
           {
            "marker": {
             "colorbar": {
              "outlinewidth": 0,
              "ticks": ""
             }
            },
            "type": "scattercarpet"
           }
          ],
          "scattergeo": [
           {
            "marker": {
             "colorbar": {
              "outlinewidth": 0,
              "ticks": ""
             }
            },
            "type": "scattergeo"
           }
          ],
          "scattergl": [
           {
            "marker": {
             "colorbar": {
              "outlinewidth": 0,
              "ticks": ""
             }
            },
            "type": "scattergl"
           }
          ],
          "scattermapbox": [
           {
            "marker": {
             "colorbar": {
              "outlinewidth": 0,
              "ticks": ""
             }
            },
            "type": "scattermapbox"
           }
          ],
          "scatterpolar": [
           {
            "marker": {
             "colorbar": {
              "outlinewidth": 0,
              "ticks": ""
             }
            },
            "type": "scatterpolar"
           }
          ],
          "scatterpolargl": [
           {
            "marker": {
             "colorbar": {
              "outlinewidth": 0,
              "ticks": ""
             }
            },
            "type": "scatterpolargl"
           }
          ],
          "scatterternary": [
           {
            "marker": {
             "colorbar": {
              "outlinewidth": 0,
              "ticks": ""
             }
            },
            "type": "scatterternary"
           }
          ],
          "surface": [
           {
            "colorbar": {
             "outlinewidth": 0,
             "ticks": ""
            },
            "colorscale": [
             [
              0,
              "#0d0887"
             ],
             [
              0.1111111111111111,
              "#46039f"
             ],
             [
              0.2222222222222222,
              "#7201a8"
             ],
             [
              0.3333333333333333,
              "#9c179e"
             ],
             [
              0.4444444444444444,
              "#bd3786"
             ],
             [
              0.5555555555555556,
              "#d8576b"
             ],
             [
              0.6666666666666666,
              "#ed7953"
             ],
             [
              0.7777777777777778,
              "#fb9f3a"
             ],
             [
              0.8888888888888888,
              "#fdca26"
             ],
             [
              1,
              "#f0f921"
             ]
            ],
            "type": "surface"
           }
          ],
          "table": [
           {
            "cells": {
             "fill": {
              "color": "#EBF0F8"
             },
             "line": {
              "color": "white"
             }
            },
            "header": {
             "fill": {
              "color": "#C8D4E3"
             },
             "line": {
              "color": "white"
             }
            },
            "type": "table"
           }
          ]
         },
         "layout": {
          "annotationdefaults": {
           "arrowcolor": "#2a3f5f",
           "arrowhead": 0,
           "arrowwidth": 1
          },
          "autotypenumbers": "strict",
          "coloraxis": {
           "colorbar": {
            "outlinewidth": 0,
            "ticks": ""
           }
          },
          "colorscale": {
           "diverging": [
            [
             0,
             "#8e0152"
            ],
            [
             0.1,
             "#c51b7d"
            ],
            [
             0.2,
             "#de77ae"
            ],
            [
             0.3,
             "#f1b6da"
            ],
            [
             0.4,
             "#fde0ef"
            ],
            [
             0.5,
             "#f7f7f7"
            ],
            [
             0.6,
             "#e6f5d0"
            ],
            [
             0.7,
             "#b8e186"
            ],
            [
             0.8,
             "#7fbc41"
            ],
            [
             0.9,
             "#4d9221"
            ],
            [
             1,
             "#276419"
            ]
           ],
           "sequential": [
            [
             0,
             "#0d0887"
            ],
            [
             0.1111111111111111,
             "#46039f"
            ],
            [
             0.2222222222222222,
             "#7201a8"
            ],
            [
             0.3333333333333333,
             "#9c179e"
            ],
            [
             0.4444444444444444,
             "#bd3786"
            ],
            [
             0.5555555555555556,
             "#d8576b"
            ],
            [
             0.6666666666666666,
             "#ed7953"
            ],
            [
             0.7777777777777778,
             "#fb9f3a"
            ],
            [
             0.8888888888888888,
             "#fdca26"
            ],
            [
             1,
             "#f0f921"
            ]
           ],
           "sequentialminus": [
            [
             0,
             "#0d0887"
            ],
            [
             0.1111111111111111,
             "#46039f"
            ],
            [
             0.2222222222222222,
             "#7201a8"
            ],
            [
             0.3333333333333333,
             "#9c179e"
            ],
            [
             0.4444444444444444,
             "#bd3786"
            ],
            [
             0.5555555555555556,
             "#d8576b"
            ],
            [
             0.6666666666666666,
             "#ed7953"
            ],
            [
             0.7777777777777778,
             "#fb9f3a"
            ],
            [
             0.8888888888888888,
             "#fdca26"
            ],
            [
             1,
             "#f0f921"
            ]
           ]
          },
          "colorway": [
           "#636efa",
           "#EF553B",
           "#00cc96",
           "#ab63fa",
           "#FFA15A",
           "#19d3f3",
           "#FF6692",
           "#B6E880",
           "#FF97FF",
           "#FECB52"
          ],
          "font": {
           "color": "#2a3f5f"
          },
          "geo": {
           "bgcolor": "white",
           "lakecolor": "white",
           "landcolor": "#E5ECF6",
           "showlakes": true,
           "showland": true,
           "subunitcolor": "white"
          },
          "hoverlabel": {
           "align": "left"
          },
          "hovermode": "closest",
          "mapbox": {
           "style": "light"
          },
          "paper_bgcolor": "white",
          "plot_bgcolor": "#E5ECF6",
          "polar": {
           "angularaxis": {
            "gridcolor": "white",
            "linecolor": "white",
            "ticks": ""
           },
           "bgcolor": "#E5ECF6",
           "radialaxis": {
            "gridcolor": "white",
            "linecolor": "white",
            "ticks": ""
           }
          },
          "scene": {
           "xaxis": {
            "backgroundcolor": "#E5ECF6",
            "gridcolor": "white",
            "gridwidth": 2,
            "linecolor": "white",
            "showbackground": true,
            "ticks": "",
            "zerolinecolor": "white"
           },
           "yaxis": {
            "backgroundcolor": "#E5ECF6",
            "gridcolor": "white",
            "gridwidth": 2,
            "linecolor": "white",
            "showbackground": true,
            "ticks": "",
            "zerolinecolor": "white"
           },
           "zaxis": {
            "backgroundcolor": "#E5ECF6",
            "gridcolor": "white",
            "gridwidth": 2,
            "linecolor": "white",
            "showbackground": true,
            "ticks": "",
            "zerolinecolor": "white"
           }
          },
          "shapedefaults": {
           "line": {
            "color": "#2a3f5f"
           }
          },
          "ternary": {
           "aaxis": {
            "gridcolor": "white",
            "linecolor": "white",
            "ticks": ""
           },
           "baxis": {
            "gridcolor": "white",
            "linecolor": "white",
            "ticks": ""
           },
           "bgcolor": "#E5ECF6",
           "caxis": {
            "gridcolor": "white",
            "linecolor": "white",
            "ticks": ""
           }
          },
          "title": {
           "x": 0.05
          },
          "xaxis": {
           "automargin": true,
           "gridcolor": "white",
           "linecolor": "white",
           "ticks": "",
           "title": {
            "standoff": 15
           },
           "zerolinecolor": "white",
           "zerolinewidth": 2
          },
          "yaxis": {
           "automargin": true,
           "gridcolor": "white",
           "linecolor": "white",
           "ticks": "",
           "title": {
            "standoff": 15
           },
           "zerolinecolor": "white",
           "zerolinewidth": 2
          }
         }
        },
        "title": {
         "text": "MSE with K-Fold Cross Validation w/ 50/50 Test Train Ratio"
        },
        "xaxis": {
         "anchor": "y",
         "domain": [
          0,
          1
         ],
         "title": {
          "text": "Ridge Parameter"
         }
        },
        "yaxis": {
         "anchor": "x",
         "domain": [
          0,
          1
         ],
         "title": {
          "text": "Mean Squared Error"
         }
        }
       }
      },
      "text/html": [
       "<div>                            <div id=\"41e8fe19-66f1-4e15-8426-ac8d1b2498e6\" class=\"plotly-graph-div\" style=\"height:525px; width:100%;\"></div>            <script type=\"text/javascript\">                require([\"plotly\"], function(Plotly) {                    window.PLOTLYENV=window.PLOTLYENV || {};                                    if (document.getElementById(\"41e8fe19-66f1-4e15-8426-ac8d1b2498e6\")) {                    Plotly.newPlot(                        \"41e8fe19-66f1-4e15-8426-ac8d1b2498e6\",                        [{\"hovertemplate\":\"Ridge Parameter=%{x}<br>Mean Squared Error=%{y}<extra></extra>\",\"legendgroup\":\"\",\"marker\":{\"color\":\"#636efa\",\"symbol\":\"circle\"},\"mode\":\"markers\",\"name\":\"\",\"orientation\":\"v\",\"showlegend\":false,\"x\":[0,10,20,30,40,50,60,70,80,90,100,110,120,130,140,150,160,170,180,190],\"xaxis\":\"x\",\"y\":[8.393220841155425e+38,4.1966104205777124e+38,2.7977402803851417e+38,2.0983052102888562e+38,1.678644168231085e+38,1.3988701401925709e+38,1.1990315487364893e+38,1.0491526051444281e+38,9.32580093461714e+37,8.393220841155425e+37,7.6302007646867495e+37,6.994350700962854e+37,6.456323723965711e+37,5.995157743682447e+37,5.595480560770283e+37,5.2457630257221405e+37,4.937188730091427e+37,4.66290046730857e+37,4.417484653239697e+37,4.1966104205777126e+37],\"yaxis\":\"y\",\"type\":\"scatter\"},{\"name\":\"Minimum MSE\",\"x\":[190.0],\"y\":[4.1966104205777126e+37],\"type\":\"scatter\"}],                        {\"legend\":{\"tracegroupgap\":0},\"template\":{\"data\":{\"barpolar\":[{\"marker\":{\"line\":{\"color\":\"#E5ECF6\",\"width\":0.5},\"pattern\":{\"fillmode\":\"overlay\",\"size\":10,\"solidity\":0.2}},\"type\":\"barpolar\"}],\"bar\":[{\"error_x\":{\"color\":\"#2a3f5f\"},\"error_y\":{\"color\":\"#2a3f5f\"},\"marker\":{\"line\":{\"color\":\"#E5ECF6\",\"width\":0.5},\"pattern\":{\"fillmode\":\"overlay\",\"size\":10,\"solidity\":0.2}},\"type\":\"bar\"}],\"carpet\":[{\"aaxis\":{\"endlinecolor\":\"#2a3f5f\",\"gridcolor\":\"white\",\"linecolor\":\"white\",\"minorgridcolor\":\"white\",\"startlinecolor\":\"#2a3f5f\"},\"baxis\":{\"endlinecolor\":\"#2a3f5f\",\"gridcolor\":\"white\",\"linecolor\":\"white\",\"minorgridcolor\":\"white\",\"startlinecolor\":\"#2a3f5f\"},\"type\":\"carpet\"}],\"choropleth\":[{\"colorbar\":{\"outlinewidth\":0,\"ticks\":\"\"},\"type\":\"choropleth\"}],\"contourcarpet\":[{\"colorbar\":{\"outlinewidth\":0,\"ticks\":\"\"},\"type\":\"contourcarpet\"}],\"contour\":[{\"colorbar\":{\"outlinewidth\":0,\"ticks\":\"\"},\"colorscale\":[[0.0,\"#0d0887\"],[0.1111111111111111,\"#46039f\"],[0.2222222222222222,\"#7201a8\"],[0.3333333333333333,\"#9c179e\"],[0.4444444444444444,\"#bd3786\"],[0.5555555555555556,\"#d8576b\"],[0.6666666666666666,\"#ed7953\"],[0.7777777777777778,\"#fb9f3a\"],[0.8888888888888888,\"#fdca26\"],[1.0,\"#f0f921\"]],\"type\":\"contour\"}],\"heatmapgl\":[{\"colorbar\":{\"outlinewidth\":0,\"ticks\":\"\"},\"colorscale\":[[0.0,\"#0d0887\"],[0.1111111111111111,\"#46039f\"],[0.2222222222222222,\"#7201a8\"],[0.3333333333333333,\"#9c179e\"],[0.4444444444444444,\"#bd3786\"],[0.5555555555555556,\"#d8576b\"],[0.6666666666666666,\"#ed7953\"],[0.7777777777777778,\"#fb9f3a\"],[0.8888888888888888,\"#fdca26\"],[1.0,\"#f0f921\"]],\"type\":\"heatmapgl\"}],\"heatmap\":[{\"colorbar\":{\"outlinewidth\":0,\"ticks\":\"\"},\"colorscale\":[[0.0,\"#0d0887\"],[0.1111111111111111,\"#46039f\"],[0.2222222222222222,\"#7201a8\"],[0.3333333333333333,\"#9c179e\"],[0.4444444444444444,\"#bd3786\"],[0.5555555555555556,\"#d8576b\"],[0.6666666666666666,\"#ed7953\"],[0.7777777777777778,\"#fb9f3a\"],[0.8888888888888888,\"#fdca26\"],[1.0,\"#f0f921\"]],\"type\":\"heatmap\"}],\"histogram2dcontour\":[{\"colorbar\":{\"outlinewidth\":0,\"ticks\":\"\"},\"colorscale\":[[0.0,\"#0d0887\"],[0.1111111111111111,\"#46039f\"],[0.2222222222222222,\"#7201a8\"],[0.3333333333333333,\"#9c179e\"],[0.4444444444444444,\"#bd3786\"],[0.5555555555555556,\"#d8576b\"],[0.6666666666666666,\"#ed7953\"],[0.7777777777777778,\"#fb9f3a\"],[0.8888888888888888,\"#fdca26\"],[1.0,\"#f0f921\"]],\"type\":\"histogram2dcontour\"}],\"histogram2d\":[{\"colorbar\":{\"outlinewidth\":0,\"ticks\":\"\"},\"colorscale\":[[0.0,\"#0d0887\"],[0.1111111111111111,\"#46039f\"],[0.2222222222222222,\"#7201a8\"],[0.3333333333333333,\"#9c179e\"],[0.4444444444444444,\"#bd3786\"],[0.5555555555555556,\"#d8576b\"],[0.6666666666666666,\"#ed7953\"],[0.7777777777777778,\"#fb9f3a\"],[0.8888888888888888,\"#fdca26\"],[1.0,\"#f0f921\"]],\"type\":\"histogram2d\"}],\"histogram\":[{\"marker\":{\"pattern\":{\"fillmode\":\"overlay\",\"size\":10,\"solidity\":0.2}},\"type\":\"histogram\"}],\"mesh3d\":[{\"colorbar\":{\"outlinewidth\":0,\"ticks\":\"\"},\"type\":\"mesh3d\"}],\"parcoords\":[{\"line\":{\"colorbar\":{\"outlinewidth\":0,\"ticks\":\"\"}},\"type\":\"parcoords\"}],\"pie\":[{\"automargin\":true,\"type\":\"pie\"}],\"scatter3d\":[{\"line\":{\"colorbar\":{\"outlinewidth\":0,\"ticks\":\"\"}},\"marker\":{\"colorbar\":{\"outlinewidth\":0,\"ticks\":\"\"}},\"type\":\"scatter3d\"}],\"scattercarpet\":[{\"marker\":{\"colorbar\":{\"outlinewidth\":0,\"ticks\":\"\"}},\"type\":\"scattercarpet\"}],\"scattergeo\":[{\"marker\":{\"colorbar\":{\"outlinewidth\":0,\"ticks\":\"\"}},\"type\":\"scattergeo\"}],\"scattergl\":[{\"marker\":{\"colorbar\":{\"outlinewidth\":0,\"ticks\":\"\"}},\"type\":\"scattergl\"}],\"scattermapbox\":[{\"marker\":{\"colorbar\":{\"outlinewidth\":0,\"ticks\":\"\"}},\"type\":\"scattermapbox\"}],\"scatterpolargl\":[{\"marker\":{\"colorbar\":{\"outlinewidth\":0,\"ticks\":\"\"}},\"type\":\"scatterpolargl\"}],\"scatterpolar\":[{\"marker\":{\"colorbar\":{\"outlinewidth\":0,\"ticks\":\"\"}},\"type\":\"scatterpolar\"}],\"scatter\":[{\"marker\":{\"colorbar\":{\"outlinewidth\":0,\"ticks\":\"\"}},\"type\":\"scatter\"}],\"scatterternary\":[{\"marker\":{\"colorbar\":{\"outlinewidth\":0,\"ticks\":\"\"}},\"type\":\"scatterternary\"}],\"surface\":[{\"colorbar\":{\"outlinewidth\":0,\"ticks\":\"\"},\"colorscale\":[[0.0,\"#0d0887\"],[0.1111111111111111,\"#46039f\"],[0.2222222222222222,\"#7201a8\"],[0.3333333333333333,\"#9c179e\"],[0.4444444444444444,\"#bd3786\"],[0.5555555555555556,\"#d8576b\"],[0.6666666666666666,\"#ed7953\"],[0.7777777777777778,\"#fb9f3a\"],[0.8888888888888888,\"#fdca26\"],[1.0,\"#f0f921\"]],\"type\":\"surface\"}],\"table\":[{\"cells\":{\"fill\":{\"color\":\"#EBF0F8\"},\"line\":{\"color\":\"white\"}},\"header\":{\"fill\":{\"color\":\"#C8D4E3\"},\"line\":{\"color\":\"white\"}},\"type\":\"table\"}]},\"layout\":{\"annotationdefaults\":{\"arrowcolor\":\"#2a3f5f\",\"arrowhead\":0,\"arrowwidth\":1},\"autotypenumbers\":\"strict\",\"coloraxis\":{\"colorbar\":{\"outlinewidth\":0,\"ticks\":\"\"}},\"colorscale\":{\"diverging\":[[0,\"#8e0152\"],[0.1,\"#c51b7d\"],[0.2,\"#de77ae\"],[0.3,\"#f1b6da\"],[0.4,\"#fde0ef\"],[0.5,\"#f7f7f7\"],[0.6,\"#e6f5d0\"],[0.7,\"#b8e186\"],[0.8,\"#7fbc41\"],[0.9,\"#4d9221\"],[1,\"#276419\"]],\"sequential\":[[0.0,\"#0d0887\"],[0.1111111111111111,\"#46039f\"],[0.2222222222222222,\"#7201a8\"],[0.3333333333333333,\"#9c179e\"],[0.4444444444444444,\"#bd3786\"],[0.5555555555555556,\"#d8576b\"],[0.6666666666666666,\"#ed7953\"],[0.7777777777777778,\"#fb9f3a\"],[0.8888888888888888,\"#fdca26\"],[1.0,\"#f0f921\"]],\"sequentialminus\":[[0.0,\"#0d0887\"],[0.1111111111111111,\"#46039f\"],[0.2222222222222222,\"#7201a8\"],[0.3333333333333333,\"#9c179e\"],[0.4444444444444444,\"#bd3786\"],[0.5555555555555556,\"#d8576b\"],[0.6666666666666666,\"#ed7953\"],[0.7777777777777778,\"#fb9f3a\"],[0.8888888888888888,\"#fdca26\"],[1.0,\"#f0f921\"]]},\"colorway\":[\"#636efa\",\"#EF553B\",\"#00cc96\",\"#ab63fa\",\"#FFA15A\",\"#19d3f3\",\"#FF6692\",\"#B6E880\",\"#FF97FF\",\"#FECB52\"],\"font\":{\"color\":\"#2a3f5f\"},\"geo\":{\"bgcolor\":\"white\",\"lakecolor\":\"white\",\"landcolor\":\"#E5ECF6\",\"showlakes\":true,\"showland\":true,\"subunitcolor\":\"white\"},\"hoverlabel\":{\"align\":\"left\"},\"hovermode\":\"closest\",\"mapbox\":{\"style\":\"light\"},\"paper_bgcolor\":\"white\",\"plot_bgcolor\":\"#E5ECF6\",\"polar\":{\"angularaxis\":{\"gridcolor\":\"white\",\"linecolor\":\"white\",\"ticks\":\"\"},\"bgcolor\":\"#E5ECF6\",\"radialaxis\":{\"gridcolor\":\"white\",\"linecolor\":\"white\",\"ticks\":\"\"}},\"scene\":{\"xaxis\":{\"backgroundcolor\":\"#E5ECF6\",\"gridcolor\":\"white\",\"gridwidth\":2,\"linecolor\":\"white\",\"showbackground\":true,\"ticks\":\"\",\"zerolinecolor\":\"white\"},\"yaxis\":{\"backgroundcolor\":\"#E5ECF6\",\"gridcolor\":\"white\",\"gridwidth\":2,\"linecolor\":\"white\",\"showbackground\":true,\"ticks\":\"\",\"zerolinecolor\":\"white\"},\"zaxis\":{\"backgroundcolor\":\"#E5ECF6\",\"gridcolor\":\"white\",\"gridwidth\":2,\"linecolor\":\"white\",\"showbackground\":true,\"ticks\":\"\",\"zerolinecolor\":\"white\"}},\"shapedefaults\":{\"line\":{\"color\":\"#2a3f5f\"}},\"ternary\":{\"aaxis\":{\"gridcolor\":\"white\",\"linecolor\":\"white\",\"ticks\":\"\"},\"baxis\":{\"gridcolor\":\"white\",\"linecolor\":\"white\",\"ticks\":\"\"},\"bgcolor\":\"#E5ECF6\",\"caxis\":{\"gridcolor\":\"white\",\"linecolor\":\"white\",\"ticks\":\"\"}},\"title\":{\"x\":0.05},\"xaxis\":{\"automargin\":true,\"gridcolor\":\"white\",\"linecolor\":\"white\",\"ticks\":\"\",\"title\":{\"standoff\":15},\"zerolinecolor\":\"white\",\"zerolinewidth\":2},\"yaxis\":{\"automargin\":true,\"gridcolor\":\"white\",\"linecolor\":\"white\",\"ticks\":\"\",\"title\":{\"standoff\":15},\"zerolinecolor\":\"white\",\"zerolinewidth\":2}}},\"title\":{\"text\":\"MSE with K-Fold Cross Validation w/ 50/50 Test Train Ratio\"},\"xaxis\":{\"anchor\":\"y\",\"domain\":[0.0,1.0],\"title\":{\"text\":\"Ridge Parameter\"}},\"yaxis\":{\"anchor\":\"x\",\"domain\":[0.0,1.0],\"title\":{\"text\":\"Mean Squared Error\"}}},                        {\"responsive\": true}                    ).then(function(){\n",
       "                            \n",
       "var gd = document.getElementById('41e8fe19-66f1-4e15-8426-ac8d1b2498e6');\n",
       "var x = new MutationObserver(function (mutations, observer) {{\n",
       "        var display = window.getComputedStyle(gd).display;\n",
       "        if (!display || display === 'none') {{\n",
       "            console.log([gd, 'removed!']);\n",
       "            Plotly.purge(gd);\n",
       "            observer.disconnect();\n",
       "        }}\n",
       "}});\n",
       "\n",
       "// Listen for the removal of the full notebook cells\n",
       "var notebookContainer = gd.closest('#notebook-container');\n",
       "if (notebookContainer) {{\n",
       "    x.observe(notebookContainer, {childList: true});\n",
       "}}\n",
       "\n",
       "// Listen for the clearing of the current output cell\n",
       "var outputEl = gd.closest('.output');\n",
       "if (outputEl) {{\n",
       "    x.observe(outputEl, {childList: true});\n",
       "}}\n",
       "\n",
       "                        })                };                });            </script>        </div>"
      ]
     },
     "metadata": {},
     "output_type": "display_data"
    },
    {
     "data": {
      "application/javascript": [
       "\n",
       "            setTimeout(function() {\n",
       "                var nbb_cell_id = 93;\n",
       "                var nbb_unformatted_code = \"kfoldMSE_5050 = pd.DataFrame({\\\"lambda\\\": alphas_small, \\\"MSE\\\": listMSE_5050})\\n\\nminMSEindex_5050 = kfoldMSE_5050[\\\"MSE\\\"].idxmin()\\nminMSErow_5050 = kfoldMSE_5050.iloc[minMSEindex_5050]\\n\\nfig_5050 = go.Figure(\\n    data=px.scatter(\\n        kfoldMSE_5050,\\n        x=\\\"lambda\\\",\\n        y=\\\"MSE\\\",\\n        labels={\\\"lambda\\\": \\\"Ridge Parameter\\\", \\\"MSE\\\": \\\"Mean Squared Error\\\"},\\n        title=\\\"MSE with K-Fold Cross Validation w/ 50/50 Test Train Ratio\\\",\\n    )\\n)\\n\\nfig_5050.add_trace(\\n    go.Scatter(\\n        x=[minMSErow_5050.loc[\\\"lambda\\\"]],\\n        y=[minMSErow_5050.loc[\\\"MSE\\\"]],\\n        name=\\\"Minimum MSE\\\",\\n    )\\n)\\n\\nfig_5050.show()\";\n",
       "                var nbb_formatted_code = \"kfoldMSE_5050 = pd.DataFrame({\\\"lambda\\\": alphas_small, \\\"MSE\\\": listMSE_5050})\\n\\nminMSEindex_5050 = kfoldMSE_5050[\\\"MSE\\\"].idxmin()\\nminMSErow_5050 = kfoldMSE_5050.iloc[minMSEindex_5050]\\n\\nfig_5050 = go.Figure(\\n    data=px.scatter(\\n        kfoldMSE_5050,\\n        x=\\\"lambda\\\",\\n        y=\\\"MSE\\\",\\n        labels={\\\"lambda\\\": \\\"Ridge Parameter\\\", \\\"MSE\\\": \\\"Mean Squared Error\\\"},\\n        title=\\\"MSE with K-Fold Cross Validation w/ 50/50 Test Train Ratio\\\",\\n    )\\n)\\n\\nfig_5050.add_trace(\\n    go.Scatter(\\n        x=[minMSErow_5050.loc[\\\"lambda\\\"]],\\n        y=[minMSErow_5050.loc[\\\"MSE\\\"]],\\n        name=\\\"Minimum MSE\\\",\\n    )\\n)\\n\\nfig_5050.show()\";\n",
       "                var nbb_cells = Jupyter.notebook.get_cells();\n",
       "                for (var i = 0; i < nbb_cells.length; ++i) {\n",
       "                    if (nbb_cells[i].input_prompt_number == nbb_cell_id) {\n",
       "                        if (nbb_cells[i].get_text() == nbb_unformatted_code) {\n",
       "                             nbb_cells[i].set_text(nbb_formatted_code);\n",
       "                        }\n",
       "                        break;\n",
       "                    }\n",
       "                }\n",
       "            }, 500);\n",
       "            "
      ],
      "text/plain": [
       "<IPython.core.display.Javascript object>"
      ]
     },
     "metadata": {},
     "output_type": "display_data"
    }
   ],
   "source": [
    "kfoldMSE_5050 = pd.DataFrame({\"lambda\": alphas_small, \"MSE\": listMSE_5050})\n",
    "\n",
    "minMSEindex_5050 = kfoldMSE_5050[\"MSE\"].idxmin()\n",
    "minMSErow_5050 = kfoldMSE_5050.iloc[minMSEindex_5050]\n",
    "\n",
    "fig_5050 = go.Figure(\n",
    "    data=px.scatter(\n",
    "        kfoldMSE_5050,\n",
    "        x=\"lambda\",\n",
    "        y=\"MSE\",\n",
    "        labels={\"lambda\": \"Ridge Parameter\", \"MSE\": \"Mean Squared Error\"},\n",
    "        title=\"MSE with K-Fold Cross Validation w/ 50/50 Test Train Ratio\",\n",
    "    )\n",
    ")\n",
    "\n",
    "fig_5050.add_trace(\n",
    "    go.Scatter(\n",
    "        x=[minMSErow_5050.loc[\"lambda\"]],\n",
    "        y=[minMSErow_5050.loc[\"MSE\"]],\n",
    "        name=\"Minimum MSE\",\n",
    "    )\n",
    ")\n",
    "\n",
    "fig_5050.show()"
   ]
  }
 ],
 "metadata": {
  "kernelspec": {
   "display_name": "Python 3 (ipykernel)",
   "language": "python",
   "name": "python3"
  },
  "language_info": {
   "codemirror_mode": {
    "name": "ipython",
    "version": 3
   },
   "file_extension": ".py",
   "mimetype": "text/x-python",
   "name": "python",
   "nbconvert_exporter": "python",
   "pygments_lexer": "ipython3",
   "version": "3.8.8"
  }
 },
 "nbformat": 4,
 "nbformat_minor": 5
}

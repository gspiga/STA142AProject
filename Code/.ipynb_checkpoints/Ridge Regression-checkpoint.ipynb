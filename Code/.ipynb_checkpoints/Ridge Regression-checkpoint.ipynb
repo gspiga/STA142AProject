{
 "cells": [
  {
   "cell_type": "code",
   "execution_count": 1,
   "id": "4c1b2978",
   "metadata": {},
   "outputs": [
    {
     "data": {
      "application/javascript": [
       "\n",
       "            setTimeout(function() {\n",
       "                var nbb_cell_id = 1;\n",
       "                var nbb_unformatted_code = \"# Auto formatting\\n%load_ext nb_black\";\n",
       "                var nbb_formatted_code = \"# Auto formatting\\n%load_ext nb_black\";\n",
       "                var nbb_cells = Jupyter.notebook.get_cells();\n",
       "                for (var i = 0; i < nbb_cells.length; ++i) {\n",
       "                    if (nbb_cells[i].input_prompt_number == nbb_cell_id) {\n",
       "                        if (nbb_cells[i].get_text() == nbb_unformatted_code) {\n",
       "                             nbb_cells[i].set_text(nbb_formatted_code);\n",
       "                        }\n",
       "                        break;\n",
       "                    }\n",
       "                }\n",
       "            }, 500);\n",
       "            "
      ],
      "text/plain": [
       "<IPython.core.display.Javascript object>"
      ]
     },
     "metadata": {},
     "output_type": "display_data"
    }
   ],
   "source": [
    "# Auto formatting\n",
    "%load_ext nb_black"
   ]
  },
  {
   "cell_type": "code",
   "execution_count": 2,
   "id": "b0de6857",
   "metadata": {},
   "outputs": [
    {
     "data": {
      "application/javascript": [
       "\n",
       "            setTimeout(function() {\n",
       "                var nbb_cell_id = 2;\n",
       "                var nbb_unformatted_code = \"import numpy as np\\nimport pandas as pd\\nimport plotly.express as px\\nimport matplotlib.pyplot as plt\\nimport scipy as sp\\nfrom IPython.display import display\\nfrom sklearn.model_selection import train_test_split\\nimport time\\nimport plotly.express as px\\nimport plotly.graph_objects as go\";\n",
       "                var nbb_formatted_code = \"import numpy as np\\nimport pandas as pd\\nimport plotly.express as px\\nimport matplotlib.pyplot as plt\\nimport scipy as sp\\nfrom IPython.display import display\\nfrom sklearn.model_selection import train_test_split\\nimport time\\nimport plotly.express as px\\nimport plotly.graph_objects as go\";\n",
       "                var nbb_cells = Jupyter.notebook.get_cells();\n",
       "                for (var i = 0; i < nbb_cells.length; ++i) {\n",
       "                    if (nbb_cells[i].input_prompt_number == nbb_cell_id) {\n",
       "                        if (nbb_cells[i].get_text() == nbb_unformatted_code) {\n",
       "                             nbb_cells[i].set_text(nbb_formatted_code);\n",
       "                        }\n",
       "                        break;\n",
       "                    }\n",
       "                }\n",
       "            }, 500);\n",
       "            "
      ],
      "text/plain": [
       "<IPython.core.display.Javascript object>"
      ]
     },
     "metadata": {},
     "output_type": "display_data"
    }
   ],
   "source": [
    "import numpy as np\n",
    "import pandas as pd\n",
    "import plotly.express as px\n",
    "import matplotlib.pyplot as plt\n",
    "import scipy as sp\n",
    "from IPython.display import display\n",
    "from sklearn.model_selection import train_test_split\n",
    "import time\n",
    "import plotly.express as px\n",
    "import plotly.graph_objects as go"
   ]
  },
  {
   "cell_type": "code",
   "execution_count": 35,
   "id": "20f663a8",
   "metadata": {},
   "outputs": [
    {
     "data": {
      "text/html": [
       "<div>\n",
       "<style scoped>\n",
       "    .dataframe tbody tr th:only-of-type {\n",
       "        vertical-align: middle;\n",
       "    }\n",
       "\n",
       "    .dataframe tbody tr th {\n",
       "        vertical-align: top;\n",
       "    }\n",
       "\n",
       "    .dataframe thead th {\n",
       "        text-align: right;\n",
       "    }\n",
       "</style>\n",
       "<table border=\"1\" class=\"dataframe\">\n",
       "  <thead>\n",
       "    <tr style=\"text-align: right;\">\n",
       "      <th></th>\n",
       "      <th>loan_amount</th>\n",
       "      <th>term</th>\n",
       "      <th>income</th>\n",
       "      <th>Credit_Score</th>\n",
       "      <th>Status</th>\n",
       "      <th>loan_limit_cf</th>\n",
       "      <th>loan_limit_ncf</th>\n",
       "      <th>submission_of_application_not_inst</th>\n",
       "      <th>submission_of_application_to_inst</th>\n",
       "      <th>co-applicant_credit_type_CIB</th>\n",
       "      <th>...</th>\n",
       "      <th>Region_North-East</th>\n",
       "      <th>Region_central</th>\n",
       "      <th>Region_south</th>\n",
       "      <th>age_25-34</th>\n",
       "      <th>age_35-44</th>\n",
       "      <th>age_45-54</th>\n",
       "      <th>age_55-64</th>\n",
       "      <th>age_65-74</th>\n",
       "      <th>age_&lt;25</th>\n",
       "      <th>age_&gt;74</th>\n",
       "    </tr>\n",
       "  </thead>\n",
       "  <tbody>\n",
       "    <tr>\n",
       "      <th>0</th>\n",
       "      <td>116500</td>\n",
       "      <td>360.0</td>\n",
       "      <td>1740.0</td>\n",
       "      <td>758</td>\n",
       "      <td>1</td>\n",
       "      <td>1</td>\n",
       "      <td>0</td>\n",
       "      <td>0</td>\n",
       "      <td>1</td>\n",
       "      <td>1</td>\n",
       "      <td>...</td>\n",
       "      <td>0</td>\n",
       "      <td>0</td>\n",
       "      <td>1</td>\n",
       "      <td>1</td>\n",
       "      <td>0</td>\n",
       "      <td>0</td>\n",
       "      <td>0</td>\n",
       "      <td>0</td>\n",
       "      <td>0</td>\n",
       "      <td>0</td>\n",
       "    </tr>\n",
       "    <tr>\n",
       "      <th>1</th>\n",
       "      <td>206500</td>\n",
       "      <td>360.0</td>\n",
       "      <td>4980.0</td>\n",
       "      <td>552</td>\n",
       "      <td>1</td>\n",
       "      <td>1</td>\n",
       "      <td>0</td>\n",
       "      <td>0</td>\n",
       "      <td>1</td>\n",
       "      <td>0</td>\n",
       "      <td>...</td>\n",
       "      <td>0</td>\n",
       "      <td>0</td>\n",
       "      <td>0</td>\n",
       "      <td>0</td>\n",
       "      <td>0</td>\n",
       "      <td>0</td>\n",
       "      <td>1</td>\n",
       "      <td>0</td>\n",
       "      <td>0</td>\n",
       "      <td>0</td>\n",
       "    </tr>\n",
       "    <tr>\n",
       "      <th>2</th>\n",
       "      <td>406500</td>\n",
       "      <td>360.0</td>\n",
       "      <td>9480.0</td>\n",
       "      <td>834</td>\n",
       "      <td>0</td>\n",
       "      <td>1</td>\n",
       "      <td>0</td>\n",
       "      <td>0</td>\n",
       "      <td>1</td>\n",
       "      <td>1</td>\n",
       "      <td>...</td>\n",
       "      <td>0</td>\n",
       "      <td>0</td>\n",
       "      <td>1</td>\n",
       "      <td>0</td>\n",
       "      <td>1</td>\n",
       "      <td>0</td>\n",
       "      <td>0</td>\n",
       "      <td>0</td>\n",
       "      <td>0</td>\n",
       "      <td>0</td>\n",
       "    </tr>\n",
       "    <tr>\n",
       "      <th>3</th>\n",
       "      <td>456500</td>\n",
       "      <td>360.0</td>\n",
       "      <td>11880.0</td>\n",
       "      <td>587</td>\n",
       "      <td>0</td>\n",
       "      <td>1</td>\n",
       "      <td>0</td>\n",
       "      <td>1</td>\n",
       "      <td>0</td>\n",
       "      <td>1</td>\n",
       "      <td>...</td>\n",
       "      <td>0</td>\n",
       "      <td>0</td>\n",
       "      <td>0</td>\n",
       "      <td>0</td>\n",
       "      <td>0</td>\n",
       "      <td>1</td>\n",
       "      <td>0</td>\n",
       "      <td>0</td>\n",
       "      <td>0</td>\n",
       "      <td>0</td>\n",
       "    </tr>\n",
       "    <tr>\n",
       "      <th>4</th>\n",
       "      <td>696500</td>\n",
       "      <td>360.0</td>\n",
       "      <td>10440.0</td>\n",
       "      <td>602</td>\n",
       "      <td>0</td>\n",
       "      <td>1</td>\n",
       "      <td>0</td>\n",
       "      <td>1</td>\n",
       "      <td>0</td>\n",
       "      <td>0</td>\n",
       "      <td>...</td>\n",
       "      <td>0</td>\n",
       "      <td>0</td>\n",
       "      <td>0</td>\n",
       "      <td>1</td>\n",
       "      <td>0</td>\n",
       "      <td>0</td>\n",
       "      <td>0</td>\n",
       "      <td>0</td>\n",
       "      <td>0</td>\n",
       "      <td>0</td>\n",
       "    </tr>\n",
       "    <tr>\n",
       "      <th>...</th>\n",
       "      <td>...</td>\n",
       "      <td>...</td>\n",
       "      <td>...</td>\n",
       "      <td>...</td>\n",
       "      <td>...</td>\n",
       "      <td>...</td>\n",
       "      <td>...</td>\n",
       "      <td>...</td>\n",
       "      <td>...</td>\n",
       "      <td>...</td>\n",
       "      <td>...</td>\n",
       "      <td>...</td>\n",
       "      <td>...</td>\n",
       "      <td>...</td>\n",
       "      <td>...</td>\n",
       "      <td>...</td>\n",
       "      <td>...</td>\n",
       "      <td>...</td>\n",
       "      <td>...</td>\n",
       "      <td>...</td>\n",
       "      <td>...</td>\n",
       "    </tr>\n",
       "    <tr>\n",
       "      <th>135103</th>\n",
       "      <td>436500</td>\n",
       "      <td>180.0</td>\n",
       "      <td>7860.0</td>\n",
       "      <td>659</td>\n",
       "      <td>0</td>\n",
       "      <td>1</td>\n",
       "      <td>0</td>\n",
       "      <td>0</td>\n",
       "      <td>1</td>\n",
       "      <td>0</td>\n",
       "      <td>...</td>\n",
       "      <td>0</td>\n",
       "      <td>0</td>\n",
       "      <td>1</td>\n",
       "      <td>0</td>\n",
       "      <td>0</td>\n",
       "      <td>0</td>\n",
       "      <td>1</td>\n",
       "      <td>0</td>\n",
       "      <td>0</td>\n",
       "      <td>0</td>\n",
       "    </tr>\n",
       "    <tr>\n",
       "      <th>135104</th>\n",
       "      <td>586500</td>\n",
       "      <td>360.0</td>\n",
       "      <td>7140.0</td>\n",
       "      <td>569</td>\n",
       "      <td>0</td>\n",
       "      <td>1</td>\n",
       "      <td>0</td>\n",
       "      <td>1</td>\n",
       "      <td>0</td>\n",
       "      <td>1</td>\n",
       "      <td>...</td>\n",
       "      <td>0</td>\n",
       "      <td>0</td>\n",
       "      <td>1</td>\n",
       "      <td>1</td>\n",
       "      <td>0</td>\n",
       "      <td>0</td>\n",
       "      <td>0</td>\n",
       "      <td>0</td>\n",
       "      <td>0</td>\n",
       "      <td>0</td>\n",
       "    </tr>\n",
       "    <tr>\n",
       "      <th>135105</th>\n",
       "      <td>446500</td>\n",
       "      <td>180.0</td>\n",
       "      <td>6900.0</td>\n",
       "      <td>702</td>\n",
       "      <td>0</td>\n",
       "      <td>1</td>\n",
       "      <td>0</td>\n",
       "      <td>1</td>\n",
       "      <td>0</td>\n",
       "      <td>0</td>\n",
       "      <td>...</td>\n",
       "      <td>0</td>\n",
       "      <td>0</td>\n",
       "      <td>0</td>\n",
       "      <td>0</td>\n",
       "      <td>0</td>\n",
       "      <td>1</td>\n",
       "      <td>0</td>\n",
       "      <td>0</td>\n",
       "      <td>0</td>\n",
       "      <td>0</td>\n",
       "    </tr>\n",
       "    <tr>\n",
       "      <th>135106</th>\n",
       "      <td>196500</td>\n",
       "      <td>180.0</td>\n",
       "      <td>7140.0</td>\n",
       "      <td>737</td>\n",
       "      <td>0</td>\n",
       "      <td>1</td>\n",
       "      <td>0</td>\n",
       "      <td>0</td>\n",
       "      <td>1</td>\n",
       "      <td>0</td>\n",
       "      <td>...</td>\n",
       "      <td>0</td>\n",
       "      <td>0</td>\n",
       "      <td>0</td>\n",
       "      <td>0</td>\n",
       "      <td>0</td>\n",
       "      <td>0</td>\n",
       "      <td>1</td>\n",
       "      <td>0</td>\n",
       "      <td>0</td>\n",
       "      <td>0</td>\n",
       "    </tr>\n",
       "    <tr>\n",
       "      <th>135107</th>\n",
       "      <td>406500</td>\n",
       "      <td>240.0</td>\n",
       "      <td>7260.0</td>\n",
       "      <td>830</td>\n",
       "      <td>0</td>\n",
       "      <td>1</td>\n",
       "      <td>0</td>\n",
       "      <td>1</td>\n",
       "      <td>0</td>\n",
       "      <td>1</td>\n",
       "      <td>...</td>\n",
       "      <td>0</td>\n",
       "      <td>0</td>\n",
       "      <td>0</td>\n",
       "      <td>0</td>\n",
       "      <td>0</td>\n",
       "      <td>1</td>\n",
       "      <td>0</td>\n",
       "      <td>0</td>\n",
       "      <td>0</td>\n",
       "      <td>0</td>\n",
       "    </tr>\n",
       "  </tbody>\n",
       "</table>\n",
       "<p>135108 rows × 64 columns</p>\n",
       "</div>"
      ],
      "text/plain": [
       "        loan_amount   term   income  Credit_Score  Status  loan_limit_cf  \\\n",
       "0            116500  360.0   1740.0           758       1              1   \n",
       "1            206500  360.0   4980.0           552       1              1   \n",
       "2            406500  360.0   9480.0           834       0              1   \n",
       "3            456500  360.0  11880.0           587       0              1   \n",
       "4            696500  360.0  10440.0           602       0              1   \n",
       "...             ...    ...      ...           ...     ...            ...   \n",
       "135103       436500  180.0   7860.0           659       0              1   \n",
       "135104       586500  360.0   7140.0           569       0              1   \n",
       "135105       446500  180.0   6900.0           702       0              1   \n",
       "135106       196500  180.0   7140.0           737       0              1   \n",
       "135107       406500  240.0   7260.0           830       0              1   \n",
       "\n",
       "        loan_limit_ncf  submission_of_application_not_inst  \\\n",
       "0                    0                                   0   \n",
       "1                    0                                   0   \n",
       "2                    0                                   0   \n",
       "3                    0                                   1   \n",
       "4                    0                                   1   \n",
       "...                ...                                 ...   \n",
       "135103               0                                   0   \n",
       "135104               0                                   1   \n",
       "135105               0                                   1   \n",
       "135106               0                                   0   \n",
       "135107               0                                   1   \n",
       "\n",
       "        submission_of_application_to_inst  co-applicant_credit_type_CIB  ...  \\\n",
       "0                                       1                             1  ...   \n",
       "1                                       1                             0  ...   \n",
       "2                                       1                             1  ...   \n",
       "3                                       0                             1  ...   \n",
       "4                                       0                             0  ...   \n",
       "...                                   ...                           ...  ...   \n",
       "135103                                  1                             0  ...   \n",
       "135104                                  0                             1  ...   \n",
       "135105                                  0                             0  ...   \n",
       "135106                                  1                             0  ...   \n",
       "135107                                  0                             1  ...   \n",
       "\n",
       "        Region_North-East  Region_central  Region_south  age_25-34  age_35-44  \\\n",
       "0                       0               0             1          1          0   \n",
       "1                       0               0             0          0          0   \n",
       "2                       0               0             1          0          1   \n",
       "3                       0               0             0          0          0   \n",
       "4                       0               0             0          1          0   \n",
       "...                   ...             ...           ...        ...        ...   \n",
       "135103                  0               0             1          0          0   \n",
       "135104                  0               0             1          1          0   \n",
       "135105                  0               0             0          0          0   \n",
       "135106                  0               0             0          0          0   \n",
       "135107                  0               0             0          0          0   \n",
       "\n",
       "        age_45-54  age_55-64  age_65-74  age_<25  age_>74  \n",
       "0               0          0          0        0        0  \n",
       "1               0          1          0        0        0  \n",
       "2               0          0          0        0        0  \n",
       "3               1          0          0        0        0  \n",
       "4               0          0          0        0        0  \n",
       "...           ...        ...        ...      ...      ...  \n",
       "135103          0          1          0        0        0  \n",
       "135104          0          0          0        0        0  \n",
       "135105          1          0          0        0        0  \n",
       "135106          0          1          0        0        0  \n",
       "135107          1          0          0        0        0  \n",
       "\n",
       "[135108 rows x 64 columns]"
      ]
     },
     "metadata": {},
     "output_type": "display_data"
    },
    {
     "data": {
      "application/javascript": [
       "\n",
       "            setTimeout(function() {\n",
       "                var nbb_cell_id = 35;\n",
       "                var nbb_unformatted_code = \"df = pd.read_csv(\\\"../data/cleaned.csv\\\", index_col=[0])\\ndisplay(df)\";\n",
       "                var nbb_formatted_code = \"df = pd.read_csv(\\\"../data/cleaned.csv\\\", index_col=[0])\\ndisplay(df)\";\n",
       "                var nbb_cells = Jupyter.notebook.get_cells();\n",
       "                for (var i = 0; i < nbb_cells.length; ++i) {\n",
       "                    if (nbb_cells[i].input_prompt_number == nbb_cell_id) {\n",
       "                        if (nbb_cells[i].get_text() == nbb_unformatted_code) {\n",
       "                             nbb_cells[i].set_text(nbb_formatted_code);\n",
       "                        }\n",
       "                        break;\n",
       "                    }\n",
       "                }\n",
       "            }, 500);\n",
       "            "
      ],
      "text/plain": [
       "<IPython.core.display.Javascript object>"
      ]
     },
     "metadata": {},
     "output_type": "display_data"
    }
   ],
   "source": [
    "df = pd.read_csv(\"../data/cleaned.csv\", index_col=[0])\n",
    "display(df)"
   ]
  },
  {
   "cell_type": "code",
   "execution_count": 36,
   "id": "504d205b",
   "metadata": {},
   "outputs": [
    {
     "data": {
      "text/plain": [
       "0         758\n",
       "1         552\n",
       "2         834\n",
       "3         587\n",
       "4         602\n",
       "         ... \n",
       "135103    659\n",
       "135104    569\n",
       "135105    702\n",
       "135106    737\n",
       "135107    830\n",
       "Name: Credit_Score, Length: 135108, dtype: int64"
      ]
     },
     "metadata": {},
     "output_type": "display_data"
    },
    {
     "data": {
      "text/html": [
       "<div>\n",
       "<style scoped>\n",
       "    .dataframe tbody tr th:only-of-type {\n",
       "        vertical-align: middle;\n",
       "    }\n",
       "\n",
       "    .dataframe tbody tr th {\n",
       "        vertical-align: top;\n",
       "    }\n",
       "\n",
       "    .dataframe thead th {\n",
       "        text-align: right;\n",
       "    }\n",
       "</style>\n",
       "<table border=\"1\" class=\"dataframe\">\n",
       "  <thead>\n",
       "    <tr style=\"text-align: right;\">\n",
       "      <th></th>\n",
       "      <th>loan_amount</th>\n",
       "      <th>term</th>\n",
       "      <th>income</th>\n",
       "      <th>Status</th>\n",
       "      <th>loan_limit_cf</th>\n",
       "      <th>loan_limit_ncf</th>\n",
       "      <th>submission_of_application_not_inst</th>\n",
       "      <th>submission_of_application_to_inst</th>\n",
       "      <th>co-applicant_credit_type_CIB</th>\n",
       "      <th>co-applicant_credit_type_EXP</th>\n",
       "      <th>...</th>\n",
       "      <th>Region_North-East</th>\n",
       "      <th>Region_central</th>\n",
       "      <th>Region_south</th>\n",
       "      <th>age_25-34</th>\n",
       "      <th>age_35-44</th>\n",
       "      <th>age_45-54</th>\n",
       "      <th>age_55-64</th>\n",
       "      <th>age_65-74</th>\n",
       "      <th>age_&lt;25</th>\n",
       "      <th>age_&gt;74</th>\n",
       "    </tr>\n",
       "  </thead>\n",
       "  <tbody>\n",
       "    <tr>\n",
       "      <th>0</th>\n",
       "      <td>116500</td>\n",
       "      <td>360.0</td>\n",
       "      <td>1740.0</td>\n",
       "      <td>1</td>\n",
       "      <td>1</td>\n",
       "      <td>0</td>\n",
       "      <td>0</td>\n",
       "      <td>1</td>\n",
       "      <td>1</td>\n",
       "      <td>0</td>\n",
       "      <td>...</td>\n",
       "      <td>0</td>\n",
       "      <td>0</td>\n",
       "      <td>1</td>\n",
       "      <td>1</td>\n",
       "      <td>0</td>\n",
       "      <td>0</td>\n",
       "      <td>0</td>\n",
       "      <td>0</td>\n",
       "      <td>0</td>\n",
       "      <td>0</td>\n",
       "    </tr>\n",
       "    <tr>\n",
       "      <th>1</th>\n",
       "      <td>206500</td>\n",
       "      <td>360.0</td>\n",
       "      <td>4980.0</td>\n",
       "      <td>1</td>\n",
       "      <td>1</td>\n",
       "      <td>0</td>\n",
       "      <td>0</td>\n",
       "      <td>1</td>\n",
       "      <td>0</td>\n",
       "      <td>1</td>\n",
       "      <td>...</td>\n",
       "      <td>0</td>\n",
       "      <td>0</td>\n",
       "      <td>0</td>\n",
       "      <td>0</td>\n",
       "      <td>0</td>\n",
       "      <td>0</td>\n",
       "      <td>1</td>\n",
       "      <td>0</td>\n",
       "      <td>0</td>\n",
       "      <td>0</td>\n",
       "    </tr>\n",
       "    <tr>\n",
       "      <th>2</th>\n",
       "      <td>406500</td>\n",
       "      <td>360.0</td>\n",
       "      <td>9480.0</td>\n",
       "      <td>0</td>\n",
       "      <td>1</td>\n",
       "      <td>0</td>\n",
       "      <td>0</td>\n",
       "      <td>1</td>\n",
       "      <td>1</td>\n",
       "      <td>0</td>\n",
       "      <td>...</td>\n",
       "      <td>0</td>\n",
       "      <td>0</td>\n",
       "      <td>1</td>\n",
       "      <td>0</td>\n",
       "      <td>1</td>\n",
       "      <td>0</td>\n",
       "      <td>0</td>\n",
       "      <td>0</td>\n",
       "      <td>0</td>\n",
       "      <td>0</td>\n",
       "    </tr>\n",
       "    <tr>\n",
       "      <th>3</th>\n",
       "      <td>456500</td>\n",
       "      <td>360.0</td>\n",
       "      <td>11880.0</td>\n",
       "      <td>0</td>\n",
       "      <td>1</td>\n",
       "      <td>0</td>\n",
       "      <td>1</td>\n",
       "      <td>0</td>\n",
       "      <td>1</td>\n",
       "      <td>0</td>\n",
       "      <td>...</td>\n",
       "      <td>0</td>\n",
       "      <td>0</td>\n",
       "      <td>0</td>\n",
       "      <td>0</td>\n",
       "      <td>0</td>\n",
       "      <td>1</td>\n",
       "      <td>0</td>\n",
       "      <td>0</td>\n",
       "      <td>0</td>\n",
       "      <td>0</td>\n",
       "    </tr>\n",
       "    <tr>\n",
       "      <th>4</th>\n",
       "      <td>696500</td>\n",
       "      <td>360.0</td>\n",
       "      <td>10440.0</td>\n",
       "      <td>0</td>\n",
       "      <td>1</td>\n",
       "      <td>0</td>\n",
       "      <td>1</td>\n",
       "      <td>0</td>\n",
       "      <td>0</td>\n",
       "      <td>1</td>\n",
       "      <td>...</td>\n",
       "      <td>0</td>\n",
       "      <td>0</td>\n",
       "      <td>0</td>\n",
       "      <td>1</td>\n",
       "      <td>0</td>\n",
       "      <td>0</td>\n",
       "      <td>0</td>\n",
       "      <td>0</td>\n",
       "      <td>0</td>\n",
       "      <td>0</td>\n",
       "    </tr>\n",
       "    <tr>\n",
       "      <th>...</th>\n",
       "      <td>...</td>\n",
       "      <td>...</td>\n",
       "      <td>...</td>\n",
       "      <td>...</td>\n",
       "      <td>...</td>\n",
       "      <td>...</td>\n",
       "      <td>...</td>\n",
       "      <td>...</td>\n",
       "      <td>...</td>\n",
       "      <td>...</td>\n",
       "      <td>...</td>\n",
       "      <td>...</td>\n",
       "      <td>...</td>\n",
       "      <td>...</td>\n",
       "      <td>...</td>\n",
       "      <td>...</td>\n",
       "      <td>...</td>\n",
       "      <td>...</td>\n",
       "      <td>...</td>\n",
       "      <td>...</td>\n",
       "      <td>...</td>\n",
       "    </tr>\n",
       "    <tr>\n",
       "      <th>135103</th>\n",
       "      <td>436500</td>\n",
       "      <td>180.0</td>\n",
       "      <td>7860.0</td>\n",
       "      <td>0</td>\n",
       "      <td>1</td>\n",
       "      <td>0</td>\n",
       "      <td>0</td>\n",
       "      <td>1</td>\n",
       "      <td>0</td>\n",
       "      <td>1</td>\n",
       "      <td>...</td>\n",
       "      <td>0</td>\n",
       "      <td>0</td>\n",
       "      <td>1</td>\n",
       "      <td>0</td>\n",
       "      <td>0</td>\n",
       "      <td>0</td>\n",
       "      <td>1</td>\n",
       "      <td>0</td>\n",
       "      <td>0</td>\n",
       "      <td>0</td>\n",
       "    </tr>\n",
       "    <tr>\n",
       "      <th>135104</th>\n",
       "      <td>586500</td>\n",
       "      <td>360.0</td>\n",
       "      <td>7140.0</td>\n",
       "      <td>0</td>\n",
       "      <td>1</td>\n",
       "      <td>0</td>\n",
       "      <td>1</td>\n",
       "      <td>0</td>\n",
       "      <td>1</td>\n",
       "      <td>0</td>\n",
       "      <td>...</td>\n",
       "      <td>0</td>\n",
       "      <td>0</td>\n",
       "      <td>1</td>\n",
       "      <td>1</td>\n",
       "      <td>0</td>\n",
       "      <td>0</td>\n",
       "      <td>0</td>\n",
       "      <td>0</td>\n",
       "      <td>0</td>\n",
       "      <td>0</td>\n",
       "    </tr>\n",
       "    <tr>\n",
       "      <th>135105</th>\n",
       "      <td>446500</td>\n",
       "      <td>180.0</td>\n",
       "      <td>6900.0</td>\n",
       "      <td>0</td>\n",
       "      <td>1</td>\n",
       "      <td>0</td>\n",
       "      <td>1</td>\n",
       "      <td>0</td>\n",
       "      <td>0</td>\n",
       "      <td>1</td>\n",
       "      <td>...</td>\n",
       "      <td>0</td>\n",
       "      <td>0</td>\n",
       "      <td>0</td>\n",
       "      <td>0</td>\n",
       "      <td>0</td>\n",
       "      <td>1</td>\n",
       "      <td>0</td>\n",
       "      <td>0</td>\n",
       "      <td>0</td>\n",
       "      <td>0</td>\n",
       "    </tr>\n",
       "    <tr>\n",
       "      <th>135106</th>\n",
       "      <td>196500</td>\n",
       "      <td>180.0</td>\n",
       "      <td>7140.0</td>\n",
       "      <td>0</td>\n",
       "      <td>1</td>\n",
       "      <td>0</td>\n",
       "      <td>0</td>\n",
       "      <td>1</td>\n",
       "      <td>0</td>\n",
       "      <td>1</td>\n",
       "      <td>...</td>\n",
       "      <td>0</td>\n",
       "      <td>0</td>\n",
       "      <td>0</td>\n",
       "      <td>0</td>\n",
       "      <td>0</td>\n",
       "      <td>0</td>\n",
       "      <td>1</td>\n",
       "      <td>0</td>\n",
       "      <td>0</td>\n",
       "      <td>0</td>\n",
       "    </tr>\n",
       "    <tr>\n",
       "      <th>135107</th>\n",
       "      <td>406500</td>\n",
       "      <td>240.0</td>\n",
       "      <td>7260.0</td>\n",
       "      <td>0</td>\n",
       "      <td>1</td>\n",
       "      <td>0</td>\n",
       "      <td>1</td>\n",
       "      <td>0</td>\n",
       "      <td>1</td>\n",
       "      <td>0</td>\n",
       "      <td>...</td>\n",
       "      <td>0</td>\n",
       "      <td>0</td>\n",
       "      <td>0</td>\n",
       "      <td>0</td>\n",
       "      <td>0</td>\n",
       "      <td>1</td>\n",
       "      <td>0</td>\n",
       "      <td>0</td>\n",
       "      <td>0</td>\n",
       "      <td>0</td>\n",
       "    </tr>\n",
       "  </tbody>\n",
       "</table>\n",
       "<p>135108 rows × 63 columns</p>\n",
       "</div>"
      ],
      "text/plain": [
       "        loan_amount   term   income  Status  loan_limit_cf  loan_limit_ncf  \\\n",
       "0            116500  360.0   1740.0       1              1               0   \n",
       "1            206500  360.0   4980.0       1              1               0   \n",
       "2            406500  360.0   9480.0       0              1               0   \n",
       "3            456500  360.0  11880.0       0              1               0   \n",
       "4            696500  360.0  10440.0       0              1               0   \n",
       "...             ...    ...      ...     ...            ...             ...   \n",
       "135103       436500  180.0   7860.0       0              1               0   \n",
       "135104       586500  360.0   7140.0       0              1               0   \n",
       "135105       446500  180.0   6900.0       0              1               0   \n",
       "135106       196500  180.0   7140.0       0              1               0   \n",
       "135107       406500  240.0   7260.0       0              1               0   \n",
       "\n",
       "        submission_of_application_not_inst  submission_of_application_to_inst  \\\n",
       "0                                        0                                  1   \n",
       "1                                        0                                  1   \n",
       "2                                        0                                  1   \n",
       "3                                        1                                  0   \n",
       "4                                        1                                  0   \n",
       "...                                    ...                                ...   \n",
       "135103                                   0                                  1   \n",
       "135104                                   1                                  0   \n",
       "135105                                   1                                  0   \n",
       "135106                                   0                                  1   \n",
       "135107                                   1                                  0   \n",
       "\n",
       "        co-applicant_credit_type_CIB  co-applicant_credit_type_EXP  ...  \\\n",
       "0                                  1                             0  ...   \n",
       "1                                  0                             1  ...   \n",
       "2                                  1                             0  ...   \n",
       "3                                  1                             0  ...   \n",
       "4                                  0                             1  ...   \n",
       "...                              ...                           ...  ...   \n",
       "135103                             0                             1  ...   \n",
       "135104                             1                             0  ...   \n",
       "135105                             0                             1  ...   \n",
       "135106                             0                             1  ...   \n",
       "135107                             1                             0  ...   \n",
       "\n",
       "        Region_North-East  Region_central  Region_south  age_25-34  age_35-44  \\\n",
       "0                       0               0             1          1          0   \n",
       "1                       0               0             0          0          0   \n",
       "2                       0               0             1          0          1   \n",
       "3                       0               0             0          0          0   \n",
       "4                       0               0             0          1          0   \n",
       "...                   ...             ...           ...        ...        ...   \n",
       "135103                  0               0             1          0          0   \n",
       "135104                  0               0             1          1          0   \n",
       "135105                  0               0             0          0          0   \n",
       "135106                  0               0             0          0          0   \n",
       "135107                  0               0             0          0          0   \n",
       "\n",
       "        age_45-54  age_55-64  age_65-74  age_<25  age_>74  \n",
       "0               0          0          0        0        0  \n",
       "1               0          1          0        0        0  \n",
       "2               0          0          0        0        0  \n",
       "3               1          0          0        0        0  \n",
       "4               0          0          0        0        0  \n",
       "...           ...        ...        ...      ...      ...  \n",
       "135103          0          1          0        0        0  \n",
       "135104          0          0          0        0        0  \n",
       "135105          1          0          0        0        0  \n",
       "135106          0          1          0        0        0  \n",
       "135107          1          0          0        0        0  \n",
       "\n",
       "[135108 rows x 63 columns]"
      ]
     },
     "metadata": {},
     "output_type": "display_data"
    },
    {
     "data": {
      "application/javascript": [
       "\n",
       "            setTimeout(function() {\n",
       "                var nbb_cell_id = 36;\n",
       "                var nbb_unformatted_code = \"X = df.drop(\\\"Credit_Score\\\", axis=1)\\ny = df.loc[:, \\\"Credit_Score\\\"]\\ndisplay(y)\\ndisplay(X)\";\n",
       "                var nbb_formatted_code = \"X = df.drop(\\\"Credit_Score\\\", axis=1)\\ny = df.loc[:, \\\"Credit_Score\\\"]\\ndisplay(y)\\ndisplay(X)\";\n",
       "                var nbb_cells = Jupyter.notebook.get_cells();\n",
       "                for (var i = 0; i < nbb_cells.length; ++i) {\n",
       "                    if (nbb_cells[i].input_prompt_number == nbb_cell_id) {\n",
       "                        if (nbb_cells[i].get_text() == nbb_unformatted_code) {\n",
       "                             nbb_cells[i].set_text(nbb_formatted_code);\n",
       "                        }\n",
       "                        break;\n",
       "                    }\n",
       "                }\n",
       "            }, 500);\n",
       "            "
      ],
      "text/plain": [
       "<IPython.core.display.Javascript object>"
      ]
     },
     "metadata": {},
     "output_type": "display_data"
    }
   ],
   "source": [
    "X = df.drop(\"Credit_Score\", axis=1)\n",
    "y = df.loc[:, \"Credit_Score\"]\n",
    "display(y)\n",
    "display(X)"
   ]
  },
  {
   "cell_type": "code",
   "execution_count": 5,
   "id": "5a7e6072",
   "metadata": {},
   "outputs": [
    {
     "data": {
      "application/javascript": [
       "\n",
       "            setTimeout(function() {\n",
       "                var nbb_cell_id = 5;\n",
       "                var nbb_unformatted_code = \"def standardizeData(data):\\n    # Takes pandas dataframe and standardizes it iteratively\\n    for column in data:\\n        if (data[column] != 0).sum() == 0:  # If the column is all zeros\\n            continue  # No need to standardize all zeros (thus dividing by zero)\\n        else:\\n            data[column] = (data[column] - np.mean(data[column])) / np.std(data[column])\\n    return data\";\n",
       "                var nbb_formatted_code = \"def standardizeData(data):\\n    # Takes pandas dataframe and standardizes it iteratively\\n    for column in data:\\n        if (data[column] != 0).sum() == 0:  # If the column is all zeros\\n            continue  # No need to standardize all zeros (thus dividing by zero)\\n        else:\\n            data[column] = (data[column] - np.mean(data[column])) / np.std(data[column])\\n    return data\";\n",
       "                var nbb_cells = Jupyter.notebook.get_cells();\n",
       "                for (var i = 0; i < nbb_cells.length; ++i) {\n",
       "                    if (nbb_cells[i].input_prompt_number == nbb_cell_id) {\n",
       "                        if (nbb_cells[i].get_text() == nbb_unformatted_code) {\n",
       "                             nbb_cells[i].set_text(nbb_formatted_code);\n",
       "                        }\n",
       "                        break;\n",
       "                    }\n",
       "                }\n",
       "            }, 500);\n",
       "            "
      ],
      "text/plain": [
       "<IPython.core.display.Javascript object>"
      ]
     },
     "metadata": {},
     "output_type": "display_data"
    }
   ],
   "source": [
    "def standardizeData(data):\n",
    "    # Takes pandas dataframe and standardizes it iteratively\n",
    "    for column in data:\n",
    "        if (data[column] != 0).sum() == 0:  # If the column is all zeros\n",
    "            continue  # No need to standardize all zeros (thus dividing by zero)\n",
    "        else:\n",
    "            data[column] = (data[column] - np.mean(data[column])) / np.std(data[column])\n",
    "    return data"
   ]
  },
  {
   "cell_type": "markdown",
   "id": "8f5bffb8",
   "metadata": {},
   "source": [
    "TowardsDataScience: If one of your variables happens to be on a very small scale, its coefficient will be large, and as such, it will be much more punished due to the penalisation. Or vice versa, a variable that is on a huge scale will get small coefficients and be less impacted by the penalty. "
   ]
  },
  {
   "cell_type": "code",
   "execution_count": 37,
   "id": "5b0e1bae",
   "metadata": {},
   "outputs": [
    {
     "data": {
      "text/html": [
       "<div>\n",
       "<style scoped>\n",
       "    .dataframe tbody tr th:only-of-type {\n",
       "        vertical-align: middle;\n",
       "    }\n",
       "\n",
       "    .dataframe tbody tr th {\n",
       "        vertical-align: top;\n",
       "    }\n",
       "\n",
       "    .dataframe thead th {\n",
       "        text-align: right;\n",
       "    }\n",
       "</style>\n",
       "<table border=\"1\" class=\"dataframe\">\n",
       "  <thead>\n",
       "    <tr style=\"text-align: right;\">\n",
       "      <th></th>\n",
       "      <th>loan_amount</th>\n",
       "      <th>term</th>\n",
       "      <th>income</th>\n",
       "      <th>Credit_Score</th>\n",
       "      <th>Status</th>\n",
       "      <th>loan_limit_cf</th>\n",
       "      <th>loan_limit_ncf</th>\n",
       "      <th>submission_of_application_not_inst</th>\n",
       "      <th>submission_of_application_to_inst</th>\n",
       "      <th>co-applicant_credit_type_CIB</th>\n",
       "      <th>...</th>\n",
       "      <th>Region_North-East</th>\n",
       "      <th>Region_central</th>\n",
       "      <th>Region_south</th>\n",
       "      <th>age_25-34</th>\n",
       "      <th>age_35-44</th>\n",
       "      <th>age_45-54</th>\n",
       "      <th>age_55-64</th>\n",
       "      <th>age_65-74</th>\n",
       "      <th>age_&lt;25</th>\n",
       "      <th>age_&gt;74</th>\n",
       "    </tr>\n",
       "  </thead>\n",
       "  <tbody>\n",
       "    <tr>\n",
       "      <th>0</th>\n",
       "      <td>-1.152094</td>\n",
       "      <td>0.439777</td>\n",
       "      <td>-0.803694</td>\n",
       "      <td>0.502618</td>\n",
       "      <td>1.716802</td>\n",
       "      <td>0.268036</td>\n",
       "      <td>-0.268036</td>\n",
       "      <td>-0.737362</td>\n",
       "      <td>0.737362</td>\n",
       "      <td>0.995436</td>\n",
       "      <td>...</td>\n",
       "      <td>-0.091551</td>\n",
       "      <td>-0.246226</td>\n",
       "      <td>1.152530</td>\n",
       "      <td>2.614658</td>\n",
       "      <td>-0.531420</td>\n",
       "      <td>-0.553124</td>\n",
       "      <td>-0.533515</td>\n",
       "      <td>-0.402305</td>\n",
       "      <td>-0.096048</td>\n",
       "      <td>-0.224268</td>\n",
       "    </tr>\n",
       "    <tr>\n",
       "      <th>1</th>\n",
       "      <td>-0.665241</td>\n",
       "      <td>0.439777</td>\n",
       "      <td>-0.305114</td>\n",
       "      <td>-1.275460</td>\n",
       "      <td>1.716802</td>\n",
       "      <td>0.268036</td>\n",
       "      <td>-0.268036</td>\n",
       "      <td>-0.737362</td>\n",
       "      <td>0.737362</td>\n",
       "      <td>-1.004585</td>\n",
       "      <td>...</td>\n",
       "      <td>-0.091551</td>\n",
       "      <td>-0.246226</td>\n",
       "      <td>-0.867657</td>\n",
       "      <td>-0.382459</td>\n",
       "      <td>-0.531420</td>\n",
       "      <td>-0.553124</td>\n",
       "      <td>1.874361</td>\n",
       "      <td>-0.402305</td>\n",
       "      <td>-0.096048</td>\n",
       "      <td>-0.224268</td>\n",
       "    </tr>\n",
       "    <tr>\n",
       "      <th>2</th>\n",
       "      <td>0.416656</td>\n",
       "      <td>0.439777</td>\n",
       "      <td>0.387358</td>\n",
       "      <td>1.158608</td>\n",
       "      <td>-0.582478</td>\n",
       "      <td>0.268036</td>\n",
       "      <td>-0.268036</td>\n",
       "      <td>-0.737362</td>\n",
       "      <td>0.737362</td>\n",
       "      <td>0.995436</td>\n",
       "      <td>...</td>\n",
       "      <td>-0.091551</td>\n",
       "      <td>-0.246226</td>\n",
       "      <td>1.152530</td>\n",
       "      <td>-0.382459</td>\n",
       "      <td>1.881751</td>\n",
       "      <td>-0.553124</td>\n",
       "      <td>-0.533515</td>\n",
       "      <td>-0.402305</td>\n",
       "      <td>-0.096048</td>\n",
       "      <td>-0.224268</td>\n",
       "    </tr>\n",
       "    <tr>\n",
       "      <th>3</th>\n",
       "      <td>0.687130</td>\n",
       "      <td>0.439777</td>\n",
       "      <td>0.756677</td>\n",
       "      <td>-0.973360</td>\n",
       "      <td>-0.582478</td>\n",
       "      <td>0.268036</td>\n",
       "      <td>-0.268036</td>\n",
       "      <td>1.356185</td>\n",
       "      <td>-1.356185</td>\n",
       "      <td>0.995436</td>\n",
       "      <td>...</td>\n",
       "      <td>-0.091551</td>\n",
       "      <td>-0.246226</td>\n",
       "      <td>-0.867657</td>\n",
       "      <td>-0.382459</td>\n",
       "      <td>-0.531420</td>\n",
       "      <td>1.807912</td>\n",
       "      <td>-0.533515</td>\n",
       "      <td>-0.402305</td>\n",
       "      <td>-0.096048</td>\n",
       "      <td>-0.224268</td>\n",
       "    </tr>\n",
       "    <tr>\n",
       "      <th>4</th>\n",
       "      <td>1.985407</td>\n",
       "      <td>0.439777</td>\n",
       "      <td>0.535086</td>\n",
       "      <td>-0.843888</td>\n",
       "      <td>-0.582478</td>\n",
       "      <td>0.268036</td>\n",
       "      <td>-0.268036</td>\n",
       "      <td>1.356185</td>\n",
       "      <td>-1.356185</td>\n",
       "      <td>-1.004585</td>\n",
       "      <td>...</td>\n",
       "      <td>-0.091551</td>\n",
       "      <td>-0.246226</td>\n",
       "      <td>-0.867657</td>\n",
       "      <td>2.614658</td>\n",
       "      <td>-0.531420</td>\n",
       "      <td>-0.553124</td>\n",
       "      <td>-0.533515</td>\n",
       "      <td>-0.402305</td>\n",
       "      <td>-0.096048</td>\n",
       "      <td>-0.224268</td>\n",
       "    </tr>\n",
       "    <tr>\n",
       "      <th>...</th>\n",
       "      <td>...</td>\n",
       "      <td>...</td>\n",
       "      <td>...</td>\n",
       "      <td>...</td>\n",
       "      <td>...</td>\n",
       "      <td>...</td>\n",
       "      <td>...</td>\n",
       "      <td>...</td>\n",
       "      <td>...</td>\n",
       "      <td>...</td>\n",
       "      <td>...</td>\n",
       "      <td>...</td>\n",
       "      <td>...</td>\n",
       "      <td>...</td>\n",
       "      <td>...</td>\n",
       "      <td>...</td>\n",
       "      <td>...</td>\n",
       "      <td>...</td>\n",
       "      <td>...</td>\n",
       "      <td>...</td>\n",
       "      <td>...</td>\n",
       "    </tr>\n",
       "    <tr>\n",
       "      <th>135103</th>\n",
       "      <td>0.578941</td>\n",
       "      <td>-2.568908</td>\n",
       "      <td>0.138068</td>\n",
       "      <td>-0.351895</td>\n",
       "      <td>-0.582478</td>\n",
       "      <td>0.268036</td>\n",
       "      <td>-0.268036</td>\n",
       "      <td>-0.737362</td>\n",
       "      <td>0.737362</td>\n",
       "      <td>-1.004585</td>\n",
       "      <td>...</td>\n",
       "      <td>-0.091551</td>\n",
       "      <td>-0.246226</td>\n",
       "      <td>1.152530</td>\n",
       "      <td>-0.382459</td>\n",
       "      <td>-0.531420</td>\n",
       "      <td>-0.553124</td>\n",
       "      <td>1.874361</td>\n",
       "      <td>-0.402305</td>\n",
       "      <td>-0.096048</td>\n",
       "      <td>-0.224268</td>\n",
       "    </tr>\n",
       "    <tr>\n",
       "      <th>135104</th>\n",
       "      <td>1.390363</td>\n",
       "      <td>0.439777</td>\n",
       "      <td>0.027273</td>\n",
       "      <td>-1.128726</td>\n",
       "      <td>-0.582478</td>\n",
       "      <td>0.268036</td>\n",
       "      <td>-0.268036</td>\n",
       "      <td>1.356185</td>\n",
       "      <td>-1.356185</td>\n",
       "      <td>0.995436</td>\n",
       "      <td>...</td>\n",
       "      <td>-0.091551</td>\n",
       "      <td>-0.246226</td>\n",
       "      <td>1.152530</td>\n",
       "      <td>2.614658</td>\n",
       "      <td>-0.531420</td>\n",
       "      <td>-0.553124</td>\n",
       "      <td>-0.533515</td>\n",
       "      <td>-0.402305</td>\n",
       "      <td>-0.096048</td>\n",
       "      <td>-0.224268</td>\n",
       "    </tr>\n",
       "    <tr>\n",
       "      <th>135105</th>\n",
       "      <td>0.633036</td>\n",
       "      <td>-2.568908</td>\n",
       "      <td>-0.009659</td>\n",
       "      <td>0.019257</td>\n",
       "      <td>-0.582478</td>\n",
       "      <td>0.268036</td>\n",
       "      <td>-0.268036</td>\n",
       "      <td>1.356185</td>\n",
       "      <td>-1.356185</td>\n",
       "      <td>-1.004585</td>\n",
       "      <td>...</td>\n",
       "      <td>-0.091551</td>\n",
       "      <td>-0.246226</td>\n",
       "      <td>-0.867657</td>\n",
       "      <td>-0.382459</td>\n",
       "      <td>-0.531420</td>\n",
       "      <td>1.807912</td>\n",
       "      <td>-0.533515</td>\n",
       "      <td>-0.402305</td>\n",
       "      <td>-0.096048</td>\n",
       "      <td>-0.224268</td>\n",
       "    </tr>\n",
       "    <tr>\n",
       "      <th>135106</th>\n",
       "      <td>-0.719336</td>\n",
       "      <td>-2.568908</td>\n",
       "      <td>0.027273</td>\n",
       "      <td>0.321358</td>\n",
       "      <td>-0.582478</td>\n",
       "      <td>0.268036</td>\n",
       "      <td>-0.268036</td>\n",
       "      <td>-0.737362</td>\n",
       "      <td>0.737362</td>\n",
       "      <td>-1.004585</td>\n",
       "      <td>...</td>\n",
       "      <td>-0.091551</td>\n",
       "      <td>-0.246226</td>\n",
       "      <td>-0.867657</td>\n",
       "      <td>-0.382459</td>\n",
       "      <td>-0.531420</td>\n",
       "      <td>-0.553124</td>\n",
       "      <td>1.874361</td>\n",
       "      <td>-0.402305</td>\n",
       "      <td>-0.096048</td>\n",
       "      <td>-0.224268</td>\n",
       "    </tr>\n",
       "    <tr>\n",
       "      <th>135107</th>\n",
       "      <td>0.416656</td>\n",
       "      <td>-1.566013</td>\n",
       "      <td>0.045739</td>\n",
       "      <td>1.124082</td>\n",
       "      <td>-0.582478</td>\n",
       "      <td>0.268036</td>\n",
       "      <td>-0.268036</td>\n",
       "      <td>1.356185</td>\n",
       "      <td>-1.356185</td>\n",
       "      <td>0.995436</td>\n",
       "      <td>...</td>\n",
       "      <td>-0.091551</td>\n",
       "      <td>-0.246226</td>\n",
       "      <td>-0.867657</td>\n",
       "      <td>-0.382459</td>\n",
       "      <td>-0.531420</td>\n",
       "      <td>1.807912</td>\n",
       "      <td>-0.533515</td>\n",
       "      <td>-0.402305</td>\n",
       "      <td>-0.096048</td>\n",
       "      <td>-0.224268</td>\n",
       "    </tr>\n",
       "  </tbody>\n",
       "</table>\n",
       "<p>135108 rows × 64 columns</p>\n",
       "</div>"
      ],
      "text/plain": [
       "        loan_amount      term    income  Credit_Score    Status  \\\n",
       "0         -1.152094  0.439777 -0.803694      0.502618  1.716802   \n",
       "1         -0.665241  0.439777 -0.305114     -1.275460  1.716802   \n",
       "2          0.416656  0.439777  0.387358      1.158608 -0.582478   \n",
       "3          0.687130  0.439777  0.756677     -0.973360 -0.582478   \n",
       "4          1.985407  0.439777  0.535086     -0.843888 -0.582478   \n",
       "...             ...       ...       ...           ...       ...   \n",
       "135103     0.578941 -2.568908  0.138068     -0.351895 -0.582478   \n",
       "135104     1.390363  0.439777  0.027273     -1.128726 -0.582478   \n",
       "135105     0.633036 -2.568908 -0.009659      0.019257 -0.582478   \n",
       "135106    -0.719336 -2.568908  0.027273      0.321358 -0.582478   \n",
       "135107     0.416656 -1.566013  0.045739      1.124082 -0.582478   \n",
       "\n",
       "        loan_limit_cf  loan_limit_ncf  submission_of_application_not_inst  \\\n",
       "0            0.268036       -0.268036                           -0.737362   \n",
       "1            0.268036       -0.268036                           -0.737362   \n",
       "2            0.268036       -0.268036                           -0.737362   \n",
       "3            0.268036       -0.268036                            1.356185   \n",
       "4            0.268036       -0.268036                            1.356185   \n",
       "...               ...             ...                                 ...   \n",
       "135103       0.268036       -0.268036                           -0.737362   \n",
       "135104       0.268036       -0.268036                            1.356185   \n",
       "135105       0.268036       -0.268036                            1.356185   \n",
       "135106       0.268036       -0.268036                           -0.737362   \n",
       "135107       0.268036       -0.268036                            1.356185   \n",
       "\n",
       "        submission_of_application_to_inst  co-applicant_credit_type_CIB  ...  \\\n",
       "0                                0.737362                      0.995436  ...   \n",
       "1                                0.737362                     -1.004585  ...   \n",
       "2                                0.737362                      0.995436  ...   \n",
       "3                               -1.356185                      0.995436  ...   \n",
       "4                               -1.356185                     -1.004585  ...   \n",
       "...                                   ...                           ...  ...   \n",
       "135103                           0.737362                     -1.004585  ...   \n",
       "135104                          -1.356185                      0.995436  ...   \n",
       "135105                          -1.356185                     -1.004585  ...   \n",
       "135106                           0.737362                     -1.004585  ...   \n",
       "135107                          -1.356185                      0.995436  ...   \n",
       "\n",
       "        Region_North-East  Region_central  Region_south  age_25-34  age_35-44  \\\n",
       "0               -0.091551       -0.246226      1.152530   2.614658  -0.531420   \n",
       "1               -0.091551       -0.246226     -0.867657  -0.382459  -0.531420   \n",
       "2               -0.091551       -0.246226      1.152530  -0.382459   1.881751   \n",
       "3               -0.091551       -0.246226     -0.867657  -0.382459  -0.531420   \n",
       "4               -0.091551       -0.246226     -0.867657   2.614658  -0.531420   \n",
       "...                   ...             ...           ...        ...        ...   \n",
       "135103          -0.091551       -0.246226      1.152530  -0.382459  -0.531420   \n",
       "135104          -0.091551       -0.246226      1.152530   2.614658  -0.531420   \n",
       "135105          -0.091551       -0.246226     -0.867657  -0.382459  -0.531420   \n",
       "135106          -0.091551       -0.246226     -0.867657  -0.382459  -0.531420   \n",
       "135107          -0.091551       -0.246226     -0.867657  -0.382459  -0.531420   \n",
       "\n",
       "        age_45-54  age_55-64  age_65-74   age_<25   age_>74  \n",
       "0       -0.553124  -0.533515  -0.402305 -0.096048 -0.224268  \n",
       "1       -0.553124   1.874361  -0.402305 -0.096048 -0.224268  \n",
       "2       -0.553124  -0.533515  -0.402305 -0.096048 -0.224268  \n",
       "3        1.807912  -0.533515  -0.402305 -0.096048 -0.224268  \n",
       "4       -0.553124  -0.533515  -0.402305 -0.096048 -0.224268  \n",
       "...           ...        ...        ...       ...       ...  \n",
       "135103  -0.553124   1.874361  -0.402305 -0.096048 -0.224268  \n",
       "135104  -0.553124  -0.533515  -0.402305 -0.096048 -0.224268  \n",
       "135105   1.807912  -0.533515  -0.402305 -0.096048 -0.224268  \n",
       "135106  -0.553124   1.874361  -0.402305 -0.096048 -0.224268  \n",
       "135107   1.807912  -0.533515  -0.402305 -0.096048 -0.224268  \n",
       "\n",
       "[135108 rows x 64 columns]"
      ]
     },
     "metadata": {},
     "output_type": "display_data"
    },
    {
     "data": {
      "text/html": [
       "<div>\n",
       "<style scoped>\n",
       "    .dataframe tbody tr th:only-of-type {\n",
       "        vertical-align: middle;\n",
       "    }\n",
       "\n",
       "    .dataframe tbody tr th {\n",
       "        vertical-align: top;\n",
       "    }\n",
       "\n",
       "    .dataframe thead th {\n",
       "        text-align: right;\n",
       "    }\n",
       "</style>\n",
       "<table border=\"1\" class=\"dataframe\">\n",
       "  <thead>\n",
       "    <tr style=\"text-align: right;\">\n",
       "      <th></th>\n",
       "      <th>loan_amount</th>\n",
       "      <th>term</th>\n",
       "      <th>income</th>\n",
       "      <th>Status</th>\n",
       "      <th>loan_limit_cf</th>\n",
       "      <th>loan_limit_ncf</th>\n",
       "      <th>submission_of_application_not_inst</th>\n",
       "      <th>submission_of_application_to_inst</th>\n",
       "      <th>co-applicant_credit_type_CIB</th>\n",
       "      <th>co-applicant_credit_type_EXP</th>\n",
       "      <th>...</th>\n",
       "      <th>Region_North-East</th>\n",
       "      <th>Region_central</th>\n",
       "      <th>Region_south</th>\n",
       "      <th>age_25-34</th>\n",
       "      <th>age_35-44</th>\n",
       "      <th>age_45-54</th>\n",
       "      <th>age_55-64</th>\n",
       "      <th>age_65-74</th>\n",
       "      <th>age_&lt;25</th>\n",
       "      <th>age_&gt;74</th>\n",
       "    </tr>\n",
       "  </thead>\n",
       "  <tbody>\n",
       "    <tr>\n",
       "      <th>0</th>\n",
       "      <td>116500</td>\n",
       "      <td>360.0</td>\n",
       "      <td>1740.0</td>\n",
       "      <td>1</td>\n",
       "      <td>1</td>\n",
       "      <td>0</td>\n",
       "      <td>0</td>\n",
       "      <td>1</td>\n",
       "      <td>1</td>\n",
       "      <td>0</td>\n",
       "      <td>...</td>\n",
       "      <td>0</td>\n",
       "      <td>0</td>\n",
       "      <td>1</td>\n",
       "      <td>1</td>\n",
       "      <td>0</td>\n",
       "      <td>0</td>\n",
       "      <td>0</td>\n",
       "      <td>0</td>\n",
       "      <td>0</td>\n",
       "      <td>0</td>\n",
       "    </tr>\n",
       "    <tr>\n",
       "      <th>1</th>\n",
       "      <td>206500</td>\n",
       "      <td>360.0</td>\n",
       "      <td>4980.0</td>\n",
       "      <td>1</td>\n",
       "      <td>1</td>\n",
       "      <td>0</td>\n",
       "      <td>0</td>\n",
       "      <td>1</td>\n",
       "      <td>0</td>\n",
       "      <td>1</td>\n",
       "      <td>...</td>\n",
       "      <td>0</td>\n",
       "      <td>0</td>\n",
       "      <td>0</td>\n",
       "      <td>0</td>\n",
       "      <td>0</td>\n",
       "      <td>0</td>\n",
       "      <td>1</td>\n",
       "      <td>0</td>\n",
       "      <td>0</td>\n",
       "      <td>0</td>\n",
       "    </tr>\n",
       "    <tr>\n",
       "      <th>2</th>\n",
       "      <td>406500</td>\n",
       "      <td>360.0</td>\n",
       "      <td>9480.0</td>\n",
       "      <td>0</td>\n",
       "      <td>1</td>\n",
       "      <td>0</td>\n",
       "      <td>0</td>\n",
       "      <td>1</td>\n",
       "      <td>1</td>\n",
       "      <td>0</td>\n",
       "      <td>...</td>\n",
       "      <td>0</td>\n",
       "      <td>0</td>\n",
       "      <td>1</td>\n",
       "      <td>0</td>\n",
       "      <td>1</td>\n",
       "      <td>0</td>\n",
       "      <td>0</td>\n",
       "      <td>0</td>\n",
       "      <td>0</td>\n",
       "      <td>0</td>\n",
       "    </tr>\n",
       "    <tr>\n",
       "      <th>3</th>\n",
       "      <td>456500</td>\n",
       "      <td>360.0</td>\n",
       "      <td>11880.0</td>\n",
       "      <td>0</td>\n",
       "      <td>1</td>\n",
       "      <td>0</td>\n",
       "      <td>1</td>\n",
       "      <td>0</td>\n",
       "      <td>1</td>\n",
       "      <td>0</td>\n",
       "      <td>...</td>\n",
       "      <td>0</td>\n",
       "      <td>0</td>\n",
       "      <td>0</td>\n",
       "      <td>0</td>\n",
       "      <td>0</td>\n",
       "      <td>1</td>\n",
       "      <td>0</td>\n",
       "      <td>0</td>\n",
       "      <td>0</td>\n",
       "      <td>0</td>\n",
       "    </tr>\n",
       "    <tr>\n",
       "      <th>4</th>\n",
       "      <td>696500</td>\n",
       "      <td>360.0</td>\n",
       "      <td>10440.0</td>\n",
       "      <td>0</td>\n",
       "      <td>1</td>\n",
       "      <td>0</td>\n",
       "      <td>1</td>\n",
       "      <td>0</td>\n",
       "      <td>0</td>\n",
       "      <td>1</td>\n",
       "      <td>...</td>\n",
       "      <td>0</td>\n",
       "      <td>0</td>\n",
       "      <td>0</td>\n",
       "      <td>1</td>\n",
       "      <td>0</td>\n",
       "      <td>0</td>\n",
       "      <td>0</td>\n",
       "      <td>0</td>\n",
       "      <td>0</td>\n",
       "      <td>0</td>\n",
       "    </tr>\n",
       "    <tr>\n",
       "      <th>...</th>\n",
       "      <td>...</td>\n",
       "      <td>...</td>\n",
       "      <td>...</td>\n",
       "      <td>...</td>\n",
       "      <td>...</td>\n",
       "      <td>...</td>\n",
       "      <td>...</td>\n",
       "      <td>...</td>\n",
       "      <td>...</td>\n",
       "      <td>...</td>\n",
       "      <td>...</td>\n",
       "      <td>...</td>\n",
       "      <td>...</td>\n",
       "      <td>...</td>\n",
       "      <td>...</td>\n",
       "      <td>...</td>\n",
       "      <td>...</td>\n",
       "      <td>...</td>\n",
       "      <td>...</td>\n",
       "      <td>...</td>\n",
       "      <td>...</td>\n",
       "    </tr>\n",
       "    <tr>\n",
       "      <th>135103</th>\n",
       "      <td>436500</td>\n",
       "      <td>180.0</td>\n",
       "      <td>7860.0</td>\n",
       "      <td>0</td>\n",
       "      <td>1</td>\n",
       "      <td>0</td>\n",
       "      <td>0</td>\n",
       "      <td>1</td>\n",
       "      <td>0</td>\n",
       "      <td>1</td>\n",
       "      <td>...</td>\n",
       "      <td>0</td>\n",
       "      <td>0</td>\n",
       "      <td>1</td>\n",
       "      <td>0</td>\n",
       "      <td>0</td>\n",
       "      <td>0</td>\n",
       "      <td>1</td>\n",
       "      <td>0</td>\n",
       "      <td>0</td>\n",
       "      <td>0</td>\n",
       "    </tr>\n",
       "    <tr>\n",
       "      <th>135104</th>\n",
       "      <td>586500</td>\n",
       "      <td>360.0</td>\n",
       "      <td>7140.0</td>\n",
       "      <td>0</td>\n",
       "      <td>1</td>\n",
       "      <td>0</td>\n",
       "      <td>1</td>\n",
       "      <td>0</td>\n",
       "      <td>1</td>\n",
       "      <td>0</td>\n",
       "      <td>...</td>\n",
       "      <td>0</td>\n",
       "      <td>0</td>\n",
       "      <td>1</td>\n",
       "      <td>1</td>\n",
       "      <td>0</td>\n",
       "      <td>0</td>\n",
       "      <td>0</td>\n",
       "      <td>0</td>\n",
       "      <td>0</td>\n",
       "      <td>0</td>\n",
       "    </tr>\n",
       "    <tr>\n",
       "      <th>135105</th>\n",
       "      <td>446500</td>\n",
       "      <td>180.0</td>\n",
       "      <td>6900.0</td>\n",
       "      <td>0</td>\n",
       "      <td>1</td>\n",
       "      <td>0</td>\n",
       "      <td>1</td>\n",
       "      <td>0</td>\n",
       "      <td>0</td>\n",
       "      <td>1</td>\n",
       "      <td>...</td>\n",
       "      <td>0</td>\n",
       "      <td>0</td>\n",
       "      <td>0</td>\n",
       "      <td>0</td>\n",
       "      <td>0</td>\n",
       "      <td>1</td>\n",
       "      <td>0</td>\n",
       "      <td>0</td>\n",
       "      <td>0</td>\n",
       "      <td>0</td>\n",
       "    </tr>\n",
       "    <tr>\n",
       "      <th>135106</th>\n",
       "      <td>196500</td>\n",
       "      <td>180.0</td>\n",
       "      <td>7140.0</td>\n",
       "      <td>0</td>\n",
       "      <td>1</td>\n",
       "      <td>0</td>\n",
       "      <td>0</td>\n",
       "      <td>1</td>\n",
       "      <td>0</td>\n",
       "      <td>1</td>\n",
       "      <td>...</td>\n",
       "      <td>0</td>\n",
       "      <td>0</td>\n",
       "      <td>0</td>\n",
       "      <td>0</td>\n",
       "      <td>0</td>\n",
       "      <td>0</td>\n",
       "      <td>1</td>\n",
       "      <td>0</td>\n",
       "      <td>0</td>\n",
       "      <td>0</td>\n",
       "    </tr>\n",
       "    <tr>\n",
       "      <th>135107</th>\n",
       "      <td>406500</td>\n",
       "      <td>240.0</td>\n",
       "      <td>7260.0</td>\n",
       "      <td>0</td>\n",
       "      <td>1</td>\n",
       "      <td>0</td>\n",
       "      <td>1</td>\n",
       "      <td>0</td>\n",
       "      <td>1</td>\n",
       "      <td>0</td>\n",
       "      <td>...</td>\n",
       "      <td>0</td>\n",
       "      <td>0</td>\n",
       "      <td>0</td>\n",
       "      <td>0</td>\n",
       "      <td>0</td>\n",
       "      <td>1</td>\n",
       "      <td>0</td>\n",
       "      <td>0</td>\n",
       "      <td>0</td>\n",
       "      <td>0</td>\n",
       "    </tr>\n",
       "  </tbody>\n",
       "</table>\n",
       "<p>135108 rows × 63 columns</p>\n",
       "</div>"
      ],
      "text/plain": [
       "        loan_amount   term   income  Status  loan_limit_cf  loan_limit_ncf  \\\n",
       "0            116500  360.0   1740.0       1              1               0   \n",
       "1            206500  360.0   4980.0       1              1               0   \n",
       "2            406500  360.0   9480.0       0              1               0   \n",
       "3            456500  360.0  11880.0       0              1               0   \n",
       "4            696500  360.0  10440.0       0              1               0   \n",
       "...             ...    ...      ...     ...            ...             ...   \n",
       "135103       436500  180.0   7860.0       0              1               0   \n",
       "135104       586500  360.0   7140.0       0              1               0   \n",
       "135105       446500  180.0   6900.0       0              1               0   \n",
       "135106       196500  180.0   7140.0       0              1               0   \n",
       "135107       406500  240.0   7260.0       0              1               0   \n",
       "\n",
       "        submission_of_application_not_inst  submission_of_application_to_inst  \\\n",
       "0                                        0                                  1   \n",
       "1                                        0                                  1   \n",
       "2                                        0                                  1   \n",
       "3                                        1                                  0   \n",
       "4                                        1                                  0   \n",
       "...                                    ...                                ...   \n",
       "135103                                   0                                  1   \n",
       "135104                                   1                                  0   \n",
       "135105                                   1                                  0   \n",
       "135106                                   0                                  1   \n",
       "135107                                   1                                  0   \n",
       "\n",
       "        co-applicant_credit_type_CIB  co-applicant_credit_type_EXP  ...  \\\n",
       "0                                  1                             0  ...   \n",
       "1                                  0                             1  ...   \n",
       "2                                  1                             0  ...   \n",
       "3                                  1                             0  ...   \n",
       "4                                  0                             1  ...   \n",
       "...                              ...                           ...  ...   \n",
       "135103                             0                             1  ...   \n",
       "135104                             1                             0  ...   \n",
       "135105                             0                             1  ...   \n",
       "135106                             0                             1  ...   \n",
       "135107                             1                             0  ...   \n",
       "\n",
       "        Region_North-East  Region_central  Region_south  age_25-34  age_35-44  \\\n",
       "0                       0               0             1          1          0   \n",
       "1                       0               0             0          0          0   \n",
       "2                       0               0             1          0          1   \n",
       "3                       0               0             0          0          0   \n",
       "4                       0               0             0          1          0   \n",
       "...                   ...             ...           ...        ...        ...   \n",
       "135103                  0               0             1          0          0   \n",
       "135104                  0               0             1          1          0   \n",
       "135105                  0               0             0          0          0   \n",
       "135106                  0               0             0          0          0   \n",
       "135107                  0               0             0          0          0   \n",
       "\n",
       "        age_45-54  age_55-64  age_65-74  age_<25  age_>74  \n",
       "0               0          0          0        0        0  \n",
       "1               0          1          0        0        0  \n",
       "2               0          0          0        0        0  \n",
       "3               1          0          0        0        0  \n",
       "4               0          0          0        0        0  \n",
       "...           ...        ...        ...      ...      ...  \n",
       "135103          0          1          0        0        0  \n",
       "135104          0          0          0        0        0  \n",
       "135105          1          0          0        0        0  \n",
       "135106          0          1          0        0        0  \n",
       "135107          1          0          0        0        0  \n",
       "\n",
       "[135108 rows x 63 columns]"
      ]
     },
     "metadata": {},
     "output_type": "display_data"
    },
    {
     "data": {
      "application/javascript": [
       "\n",
       "            setTimeout(function() {\n",
       "                var nbb_cell_id = 37;\n",
       "                var nbb_unformatted_code = \"X_standardized = df\\nX_standardized = standardizeData(X_standardized)\\ndisplay(X_standardized)\\ndisplay(X)\";\n",
       "                var nbb_formatted_code = \"X_standardized = df\\nX_standardized = standardizeData(X_standardized)\\ndisplay(X_standardized)\\ndisplay(X)\";\n",
       "                var nbb_cells = Jupyter.notebook.get_cells();\n",
       "                for (var i = 0; i < nbb_cells.length; ++i) {\n",
       "                    if (nbb_cells[i].input_prompt_number == nbb_cell_id) {\n",
       "                        if (nbb_cells[i].get_text() == nbb_unformatted_code) {\n",
       "                             nbb_cells[i].set_text(nbb_formatted_code);\n",
       "                        }\n",
       "                        break;\n",
       "                    }\n",
       "                }\n",
       "            }, 500);\n",
       "            "
      ],
      "text/plain": [
       "<IPython.core.display.Javascript object>"
      ]
     },
     "metadata": {},
     "output_type": "display_data"
    }
   ],
   "source": [
    "X_standardized = df\n",
    "X_standardized = standardizeData(X_standardized)\n",
    "display(X_standardized)\n",
    "display(X)"
   ]
  },
  {
   "cell_type": "code",
   "execution_count": 40,
   "id": "5175c0e0",
   "metadata": {},
   "outputs": [
    {
     "data": {
      "text/html": [
       "<div>\n",
       "<style scoped>\n",
       "    .dataframe tbody tr th:only-of-type {\n",
       "        vertical-align: middle;\n",
       "    }\n",
       "\n",
       "    .dataframe tbody tr th {\n",
       "        vertical-align: top;\n",
       "    }\n",
       "\n",
       "    .dataframe thead th {\n",
       "        text-align: right;\n",
       "    }\n",
       "</style>\n",
       "<table border=\"1\" class=\"dataframe\">\n",
       "  <thead>\n",
       "    <tr style=\"text-align: right;\">\n",
       "      <th></th>\n",
       "      <th>loan_amount</th>\n",
       "      <th>term</th>\n",
       "      <th>income</th>\n",
       "    </tr>\n",
       "  </thead>\n",
       "  <tbody>\n",
       "    <tr>\n",
       "      <th>0</th>\n",
       "      <td>-1.152094</td>\n",
       "      <td>0.439777</td>\n",
       "      <td>-0.803694</td>\n",
       "    </tr>\n",
       "    <tr>\n",
       "      <th>1</th>\n",
       "      <td>-0.665241</td>\n",
       "      <td>0.439777</td>\n",
       "      <td>-0.305114</td>\n",
       "    </tr>\n",
       "    <tr>\n",
       "      <th>2</th>\n",
       "      <td>0.416656</td>\n",
       "      <td>0.439777</td>\n",
       "      <td>0.387358</td>\n",
       "    </tr>\n",
       "    <tr>\n",
       "      <th>3</th>\n",
       "      <td>0.687130</td>\n",
       "      <td>0.439777</td>\n",
       "      <td>0.756677</td>\n",
       "    </tr>\n",
       "    <tr>\n",
       "      <th>4</th>\n",
       "      <td>1.985407</td>\n",
       "      <td>0.439777</td>\n",
       "      <td>0.535086</td>\n",
       "    </tr>\n",
       "    <tr>\n",
       "      <th>...</th>\n",
       "      <td>...</td>\n",
       "      <td>...</td>\n",
       "      <td>...</td>\n",
       "    </tr>\n",
       "    <tr>\n",
       "      <th>135103</th>\n",
       "      <td>0.578941</td>\n",
       "      <td>-2.568908</td>\n",
       "      <td>0.138068</td>\n",
       "    </tr>\n",
       "    <tr>\n",
       "      <th>135104</th>\n",
       "      <td>1.390363</td>\n",
       "      <td>0.439777</td>\n",
       "      <td>0.027273</td>\n",
       "    </tr>\n",
       "    <tr>\n",
       "      <th>135105</th>\n",
       "      <td>0.633036</td>\n",
       "      <td>-2.568908</td>\n",
       "      <td>-0.009659</td>\n",
       "    </tr>\n",
       "    <tr>\n",
       "      <th>135106</th>\n",
       "      <td>-0.719336</td>\n",
       "      <td>-2.568908</td>\n",
       "      <td>0.027273</td>\n",
       "    </tr>\n",
       "    <tr>\n",
       "      <th>135107</th>\n",
       "      <td>0.416656</td>\n",
       "      <td>-1.566013</td>\n",
       "      <td>0.045739</td>\n",
       "    </tr>\n",
       "  </tbody>\n",
       "</table>\n",
       "<p>135108 rows × 3 columns</p>\n",
       "</div>"
      ],
      "text/plain": [
       "        loan_amount      term    income\n",
       "0         -1.152094  0.439777 -0.803694\n",
       "1         -0.665241  0.439777 -0.305114\n",
       "2          0.416656  0.439777  0.387358\n",
       "3          0.687130  0.439777  0.756677\n",
       "4          1.985407  0.439777  0.535086\n",
       "...             ...       ...       ...\n",
       "135103     0.578941 -2.568908  0.138068\n",
       "135104     1.390363  0.439777  0.027273\n",
       "135105     0.633036 -2.568908 -0.009659\n",
       "135106    -0.719336 -2.568908  0.027273\n",
       "135107     0.416656 -1.566013  0.045739\n",
       "\n",
       "[135108 rows x 3 columns]"
      ]
     },
     "metadata": {},
     "output_type": "display_data"
    },
    {
     "data": {
      "text/html": [
       "<div>\n",
       "<style scoped>\n",
       "    .dataframe tbody tr th:only-of-type {\n",
       "        vertical-align: middle;\n",
       "    }\n",
       "\n",
       "    .dataframe tbody tr th {\n",
       "        vertical-align: top;\n",
       "    }\n",
       "\n",
       "    .dataframe thead th {\n",
       "        text-align: right;\n",
       "    }\n",
       "</style>\n",
       "<table border=\"1\" class=\"dataframe\">\n",
       "  <thead>\n",
       "    <tr style=\"text-align: right;\">\n",
       "      <th></th>\n",
       "      <th>loan_amount</th>\n",
       "      <th>term</th>\n",
       "      <th>income</th>\n",
       "      <th>Status</th>\n",
       "      <th>loan_limit_cf</th>\n",
       "      <th>loan_limit_ncf</th>\n",
       "      <th>submission_of_application_not_inst</th>\n",
       "      <th>submission_of_application_to_inst</th>\n",
       "      <th>co-applicant_credit_type_CIB</th>\n",
       "      <th>co-applicant_credit_type_EXP</th>\n",
       "      <th>...</th>\n",
       "      <th>Region_North-East</th>\n",
       "      <th>Region_central</th>\n",
       "      <th>Region_south</th>\n",
       "      <th>age_25-34</th>\n",
       "      <th>age_35-44</th>\n",
       "      <th>age_45-54</th>\n",
       "      <th>age_55-64</th>\n",
       "      <th>age_65-74</th>\n",
       "      <th>age_&lt;25</th>\n",
       "      <th>age_&gt;74</th>\n",
       "    </tr>\n",
       "  </thead>\n",
       "  <tbody>\n",
       "    <tr>\n",
       "      <th>0</th>\n",
       "      <td>116500</td>\n",
       "      <td>360.0</td>\n",
       "      <td>1740.0</td>\n",
       "      <td>1</td>\n",
       "      <td>1</td>\n",
       "      <td>0</td>\n",
       "      <td>0</td>\n",
       "      <td>1</td>\n",
       "      <td>1</td>\n",
       "      <td>0</td>\n",
       "      <td>...</td>\n",
       "      <td>0</td>\n",
       "      <td>0</td>\n",
       "      <td>1</td>\n",
       "      <td>1</td>\n",
       "      <td>0</td>\n",
       "      <td>0</td>\n",
       "      <td>0</td>\n",
       "      <td>0</td>\n",
       "      <td>0</td>\n",
       "      <td>0</td>\n",
       "    </tr>\n",
       "    <tr>\n",
       "      <th>1</th>\n",
       "      <td>206500</td>\n",
       "      <td>360.0</td>\n",
       "      <td>4980.0</td>\n",
       "      <td>1</td>\n",
       "      <td>1</td>\n",
       "      <td>0</td>\n",
       "      <td>0</td>\n",
       "      <td>1</td>\n",
       "      <td>0</td>\n",
       "      <td>1</td>\n",
       "      <td>...</td>\n",
       "      <td>0</td>\n",
       "      <td>0</td>\n",
       "      <td>0</td>\n",
       "      <td>0</td>\n",
       "      <td>0</td>\n",
       "      <td>0</td>\n",
       "      <td>1</td>\n",
       "      <td>0</td>\n",
       "      <td>0</td>\n",
       "      <td>0</td>\n",
       "    </tr>\n",
       "    <tr>\n",
       "      <th>2</th>\n",
       "      <td>406500</td>\n",
       "      <td>360.0</td>\n",
       "      <td>9480.0</td>\n",
       "      <td>0</td>\n",
       "      <td>1</td>\n",
       "      <td>0</td>\n",
       "      <td>0</td>\n",
       "      <td>1</td>\n",
       "      <td>1</td>\n",
       "      <td>0</td>\n",
       "      <td>...</td>\n",
       "      <td>0</td>\n",
       "      <td>0</td>\n",
       "      <td>1</td>\n",
       "      <td>0</td>\n",
       "      <td>1</td>\n",
       "      <td>0</td>\n",
       "      <td>0</td>\n",
       "      <td>0</td>\n",
       "      <td>0</td>\n",
       "      <td>0</td>\n",
       "    </tr>\n",
       "    <tr>\n",
       "      <th>3</th>\n",
       "      <td>456500</td>\n",
       "      <td>360.0</td>\n",
       "      <td>11880.0</td>\n",
       "      <td>0</td>\n",
       "      <td>1</td>\n",
       "      <td>0</td>\n",
       "      <td>1</td>\n",
       "      <td>0</td>\n",
       "      <td>1</td>\n",
       "      <td>0</td>\n",
       "      <td>...</td>\n",
       "      <td>0</td>\n",
       "      <td>0</td>\n",
       "      <td>0</td>\n",
       "      <td>0</td>\n",
       "      <td>0</td>\n",
       "      <td>1</td>\n",
       "      <td>0</td>\n",
       "      <td>0</td>\n",
       "      <td>0</td>\n",
       "      <td>0</td>\n",
       "    </tr>\n",
       "    <tr>\n",
       "      <th>4</th>\n",
       "      <td>696500</td>\n",
       "      <td>360.0</td>\n",
       "      <td>10440.0</td>\n",
       "      <td>0</td>\n",
       "      <td>1</td>\n",
       "      <td>0</td>\n",
       "      <td>1</td>\n",
       "      <td>0</td>\n",
       "      <td>0</td>\n",
       "      <td>1</td>\n",
       "      <td>...</td>\n",
       "      <td>0</td>\n",
       "      <td>0</td>\n",
       "      <td>0</td>\n",
       "      <td>1</td>\n",
       "      <td>0</td>\n",
       "      <td>0</td>\n",
       "      <td>0</td>\n",
       "      <td>0</td>\n",
       "      <td>0</td>\n",
       "      <td>0</td>\n",
       "    </tr>\n",
       "    <tr>\n",
       "      <th>...</th>\n",
       "      <td>...</td>\n",
       "      <td>...</td>\n",
       "      <td>...</td>\n",
       "      <td>...</td>\n",
       "      <td>...</td>\n",
       "      <td>...</td>\n",
       "      <td>...</td>\n",
       "      <td>...</td>\n",
       "      <td>...</td>\n",
       "      <td>...</td>\n",
       "      <td>...</td>\n",
       "      <td>...</td>\n",
       "      <td>...</td>\n",
       "      <td>...</td>\n",
       "      <td>...</td>\n",
       "      <td>...</td>\n",
       "      <td>...</td>\n",
       "      <td>...</td>\n",
       "      <td>...</td>\n",
       "      <td>...</td>\n",
       "      <td>...</td>\n",
       "    </tr>\n",
       "    <tr>\n",
       "      <th>135103</th>\n",
       "      <td>436500</td>\n",
       "      <td>180.0</td>\n",
       "      <td>7860.0</td>\n",
       "      <td>0</td>\n",
       "      <td>1</td>\n",
       "      <td>0</td>\n",
       "      <td>0</td>\n",
       "      <td>1</td>\n",
       "      <td>0</td>\n",
       "      <td>1</td>\n",
       "      <td>...</td>\n",
       "      <td>0</td>\n",
       "      <td>0</td>\n",
       "      <td>1</td>\n",
       "      <td>0</td>\n",
       "      <td>0</td>\n",
       "      <td>0</td>\n",
       "      <td>1</td>\n",
       "      <td>0</td>\n",
       "      <td>0</td>\n",
       "      <td>0</td>\n",
       "    </tr>\n",
       "    <tr>\n",
       "      <th>135104</th>\n",
       "      <td>586500</td>\n",
       "      <td>360.0</td>\n",
       "      <td>7140.0</td>\n",
       "      <td>0</td>\n",
       "      <td>1</td>\n",
       "      <td>0</td>\n",
       "      <td>1</td>\n",
       "      <td>0</td>\n",
       "      <td>1</td>\n",
       "      <td>0</td>\n",
       "      <td>...</td>\n",
       "      <td>0</td>\n",
       "      <td>0</td>\n",
       "      <td>1</td>\n",
       "      <td>1</td>\n",
       "      <td>0</td>\n",
       "      <td>0</td>\n",
       "      <td>0</td>\n",
       "      <td>0</td>\n",
       "      <td>0</td>\n",
       "      <td>0</td>\n",
       "    </tr>\n",
       "    <tr>\n",
       "      <th>135105</th>\n",
       "      <td>446500</td>\n",
       "      <td>180.0</td>\n",
       "      <td>6900.0</td>\n",
       "      <td>0</td>\n",
       "      <td>1</td>\n",
       "      <td>0</td>\n",
       "      <td>1</td>\n",
       "      <td>0</td>\n",
       "      <td>0</td>\n",
       "      <td>1</td>\n",
       "      <td>...</td>\n",
       "      <td>0</td>\n",
       "      <td>0</td>\n",
       "      <td>0</td>\n",
       "      <td>0</td>\n",
       "      <td>0</td>\n",
       "      <td>1</td>\n",
       "      <td>0</td>\n",
       "      <td>0</td>\n",
       "      <td>0</td>\n",
       "      <td>0</td>\n",
       "    </tr>\n",
       "    <tr>\n",
       "      <th>135106</th>\n",
       "      <td>196500</td>\n",
       "      <td>180.0</td>\n",
       "      <td>7140.0</td>\n",
       "      <td>0</td>\n",
       "      <td>1</td>\n",
       "      <td>0</td>\n",
       "      <td>0</td>\n",
       "      <td>1</td>\n",
       "      <td>0</td>\n",
       "      <td>1</td>\n",
       "      <td>...</td>\n",
       "      <td>0</td>\n",
       "      <td>0</td>\n",
       "      <td>0</td>\n",
       "      <td>0</td>\n",
       "      <td>0</td>\n",
       "      <td>0</td>\n",
       "      <td>1</td>\n",
       "      <td>0</td>\n",
       "      <td>0</td>\n",
       "      <td>0</td>\n",
       "    </tr>\n",
       "    <tr>\n",
       "      <th>135107</th>\n",
       "      <td>406500</td>\n",
       "      <td>240.0</td>\n",
       "      <td>7260.0</td>\n",
       "      <td>0</td>\n",
       "      <td>1</td>\n",
       "      <td>0</td>\n",
       "      <td>1</td>\n",
       "      <td>0</td>\n",
       "      <td>1</td>\n",
       "      <td>0</td>\n",
       "      <td>...</td>\n",
       "      <td>0</td>\n",
       "      <td>0</td>\n",
       "      <td>0</td>\n",
       "      <td>0</td>\n",
       "      <td>0</td>\n",
       "      <td>1</td>\n",
       "      <td>0</td>\n",
       "      <td>0</td>\n",
       "      <td>0</td>\n",
       "      <td>0</td>\n",
       "    </tr>\n",
       "  </tbody>\n",
       "</table>\n",
       "<p>135108 rows × 63 columns</p>\n",
       "</div>"
      ],
      "text/plain": [
       "        loan_amount   term   income  Status  loan_limit_cf  loan_limit_ncf  \\\n",
       "0            116500  360.0   1740.0       1              1               0   \n",
       "1            206500  360.0   4980.0       1              1               0   \n",
       "2            406500  360.0   9480.0       0              1               0   \n",
       "3            456500  360.0  11880.0       0              1               0   \n",
       "4            696500  360.0  10440.0       0              1               0   \n",
       "...             ...    ...      ...     ...            ...             ...   \n",
       "135103       436500  180.0   7860.0       0              1               0   \n",
       "135104       586500  360.0   7140.0       0              1               0   \n",
       "135105       446500  180.0   6900.0       0              1               0   \n",
       "135106       196500  180.0   7140.0       0              1               0   \n",
       "135107       406500  240.0   7260.0       0              1               0   \n",
       "\n",
       "        submission_of_application_not_inst  submission_of_application_to_inst  \\\n",
       "0                                        0                                  1   \n",
       "1                                        0                                  1   \n",
       "2                                        0                                  1   \n",
       "3                                        1                                  0   \n",
       "4                                        1                                  0   \n",
       "...                                    ...                                ...   \n",
       "135103                                   0                                  1   \n",
       "135104                                   1                                  0   \n",
       "135105                                   1                                  0   \n",
       "135106                                   0                                  1   \n",
       "135107                                   1                                  0   \n",
       "\n",
       "        co-applicant_credit_type_CIB  co-applicant_credit_type_EXP  ...  \\\n",
       "0                                  1                             0  ...   \n",
       "1                                  0                             1  ...   \n",
       "2                                  1                             0  ...   \n",
       "3                                  1                             0  ...   \n",
       "4                                  0                             1  ...   \n",
       "...                              ...                           ...  ...   \n",
       "135103                             0                             1  ...   \n",
       "135104                             1                             0  ...   \n",
       "135105                             0                             1  ...   \n",
       "135106                             0                             1  ...   \n",
       "135107                             1                             0  ...   \n",
       "\n",
       "        Region_North-East  Region_central  Region_south  age_25-34  age_35-44  \\\n",
       "0                       0               0             1          1          0   \n",
       "1                       0               0             0          0          0   \n",
       "2                       0               0             1          0          1   \n",
       "3                       0               0             0          0          0   \n",
       "4                       0               0             0          1          0   \n",
       "...                   ...             ...           ...        ...        ...   \n",
       "135103                  0               0             1          0          0   \n",
       "135104                  0               0             1          1          0   \n",
       "135105                  0               0             0          0          0   \n",
       "135106                  0               0             0          0          0   \n",
       "135107                  0               0             0          0          0   \n",
       "\n",
       "        age_45-54  age_55-64  age_65-74  age_<25  age_>74  \n",
       "0               0          0          0        0        0  \n",
       "1               0          1          0        0        0  \n",
       "2               0          0          0        0        0  \n",
       "3               1          0          0        0        0  \n",
       "4               0          0          0        0        0  \n",
       "...           ...        ...        ...      ...      ...  \n",
       "135103          0          1          0        0        0  \n",
       "135104          0          0          0        0        0  \n",
       "135105          1          0          0        0        0  \n",
       "135106          0          1          0        0        0  \n",
       "135107          1          0          0        0        0  \n",
       "\n",
       "[135108 rows x 63 columns]"
      ]
     },
     "metadata": {},
     "output_type": "display_data"
    },
    {
     "data": {
      "text/html": [
       "<div>\n",
       "<style scoped>\n",
       "    .dataframe tbody tr th:only-of-type {\n",
       "        vertical-align: middle;\n",
       "    }\n",
       "\n",
       "    .dataframe tbody tr th {\n",
       "        vertical-align: top;\n",
       "    }\n",
       "\n",
       "    .dataframe thead th {\n",
       "        text-align: right;\n",
       "    }\n",
       "</style>\n",
       "<table border=\"1\" class=\"dataframe\">\n",
       "  <thead>\n",
       "    <tr style=\"text-align: right;\">\n",
       "      <th></th>\n",
       "      <th>loan_amount</th>\n",
       "      <th>term</th>\n",
       "      <th>income</th>\n",
       "      <th>Status</th>\n",
       "      <th>loan_limit_cf</th>\n",
       "      <th>loan_limit_ncf</th>\n",
       "      <th>submission_of_application_not_inst</th>\n",
       "      <th>submission_of_application_to_inst</th>\n",
       "      <th>co-applicant_credit_type_CIB</th>\n",
       "      <th>co-applicant_credit_type_EXP</th>\n",
       "      <th>...</th>\n",
       "      <th>Region_North-East</th>\n",
       "      <th>Region_central</th>\n",
       "      <th>Region_south</th>\n",
       "      <th>age_25-34</th>\n",
       "      <th>age_35-44</th>\n",
       "      <th>age_45-54</th>\n",
       "      <th>age_55-64</th>\n",
       "      <th>age_65-74</th>\n",
       "      <th>age_&lt;25</th>\n",
       "      <th>age_&gt;74</th>\n",
       "    </tr>\n",
       "  </thead>\n",
       "  <tbody>\n",
       "    <tr>\n",
       "      <th>0</th>\n",
       "      <td>-1.152094</td>\n",
       "      <td>0.439777</td>\n",
       "      <td>-0.803694</td>\n",
       "      <td>1</td>\n",
       "      <td>1</td>\n",
       "      <td>0</td>\n",
       "      <td>0</td>\n",
       "      <td>1</td>\n",
       "      <td>1</td>\n",
       "      <td>0</td>\n",
       "      <td>...</td>\n",
       "      <td>0</td>\n",
       "      <td>0</td>\n",
       "      <td>1</td>\n",
       "      <td>1</td>\n",
       "      <td>0</td>\n",
       "      <td>0</td>\n",
       "      <td>0</td>\n",
       "      <td>0</td>\n",
       "      <td>0</td>\n",
       "      <td>0</td>\n",
       "    </tr>\n",
       "    <tr>\n",
       "      <th>1</th>\n",
       "      <td>-0.665241</td>\n",
       "      <td>0.439777</td>\n",
       "      <td>-0.305114</td>\n",
       "      <td>1</td>\n",
       "      <td>1</td>\n",
       "      <td>0</td>\n",
       "      <td>0</td>\n",
       "      <td>1</td>\n",
       "      <td>0</td>\n",
       "      <td>1</td>\n",
       "      <td>...</td>\n",
       "      <td>0</td>\n",
       "      <td>0</td>\n",
       "      <td>0</td>\n",
       "      <td>0</td>\n",
       "      <td>0</td>\n",
       "      <td>0</td>\n",
       "      <td>1</td>\n",
       "      <td>0</td>\n",
       "      <td>0</td>\n",
       "      <td>0</td>\n",
       "    </tr>\n",
       "    <tr>\n",
       "      <th>2</th>\n",
       "      <td>0.416656</td>\n",
       "      <td>0.439777</td>\n",
       "      <td>0.387358</td>\n",
       "      <td>0</td>\n",
       "      <td>1</td>\n",
       "      <td>0</td>\n",
       "      <td>0</td>\n",
       "      <td>1</td>\n",
       "      <td>1</td>\n",
       "      <td>0</td>\n",
       "      <td>...</td>\n",
       "      <td>0</td>\n",
       "      <td>0</td>\n",
       "      <td>1</td>\n",
       "      <td>0</td>\n",
       "      <td>1</td>\n",
       "      <td>0</td>\n",
       "      <td>0</td>\n",
       "      <td>0</td>\n",
       "      <td>0</td>\n",
       "      <td>0</td>\n",
       "    </tr>\n",
       "    <tr>\n",
       "      <th>3</th>\n",
       "      <td>0.687130</td>\n",
       "      <td>0.439777</td>\n",
       "      <td>0.756677</td>\n",
       "      <td>0</td>\n",
       "      <td>1</td>\n",
       "      <td>0</td>\n",
       "      <td>1</td>\n",
       "      <td>0</td>\n",
       "      <td>1</td>\n",
       "      <td>0</td>\n",
       "      <td>...</td>\n",
       "      <td>0</td>\n",
       "      <td>0</td>\n",
       "      <td>0</td>\n",
       "      <td>0</td>\n",
       "      <td>0</td>\n",
       "      <td>1</td>\n",
       "      <td>0</td>\n",
       "      <td>0</td>\n",
       "      <td>0</td>\n",
       "      <td>0</td>\n",
       "    </tr>\n",
       "    <tr>\n",
       "      <th>4</th>\n",
       "      <td>1.985407</td>\n",
       "      <td>0.439777</td>\n",
       "      <td>0.535086</td>\n",
       "      <td>0</td>\n",
       "      <td>1</td>\n",
       "      <td>0</td>\n",
       "      <td>1</td>\n",
       "      <td>0</td>\n",
       "      <td>0</td>\n",
       "      <td>1</td>\n",
       "      <td>...</td>\n",
       "      <td>0</td>\n",
       "      <td>0</td>\n",
       "      <td>0</td>\n",
       "      <td>1</td>\n",
       "      <td>0</td>\n",
       "      <td>0</td>\n",
       "      <td>0</td>\n",
       "      <td>0</td>\n",
       "      <td>0</td>\n",
       "      <td>0</td>\n",
       "    </tr>\n",
       "    <tr>\n",
       "      <th>...</th>\n",
       "      <td>...</td>\n",
       "      <td>...</td>\n",
       "      <td>...</td>\n",
       "      <td>...</td>\n",
       "      <td>...</td>\n",
       "      <td>...</td>\n",
       "      <td>...</td>\n",
       "      <td>...</td>\n",
       "      <td>...</td>\n",
       "      <td>...</td>\n",
       "      <td>...</td>\n",
       "      <td>...</td>\n",
       "      <td>...</td>\n",
       "      <td>...</td>\n",
       "      <td>...</td>\n",
       "      <td>...</td>\n",
       "      <td>...</td>\n",
       "      <td>...</td>\n",
       "      <td>...</td>\n",
       "      <td>...</td>\n",
       "      <td>...</td>\n",
       "    </tr>\n",
       "    <tr>\n",
       "      <th>135103</th>\n",
       "      <td>0.578941</td>\n",
       "      <td>-2.568908</td>\n",
       "      <td>0.138068</td>\n",
       "      <td>0</td>\n",
       "      <td>1</td>\n",
       "      <td>0</td>\n",
       "      <td>0</td>\n",
       "      <td>1</td>\n",
       "      <td>0</td>\n",
       "      <td>1</td>\n",
       "      <td>...</td>\n",
       "      <td>0</td>\n",
       "      <td>0</td>\n",
       "      <td>1</td>\n",
       "      <td>0</td>\n",
       "      <td>0</td>\n",
       "      <td>0</td>\n",
       "      <td>1</td>\n",
       "      <td>0</td>\n",
       "      <td>0</td>\n",
       "      <td>0</td>\n",
       "    </tr>\n",
       "    <tr>\n",
       "      <th>135104</th>\n",
       "      <td>1.390363</td>\n",
       "      <td>0.439777</td>\n",
       "      <td>0.027273</td>\n",
       "      <td>0</td>\n",
       "      <td>1</td>\n",
       "      <td>0</td>\n",
       "      <td>1</td>\n",
       "      <td>0</td>\n",
       "      <td>1</td>\n",
       "      <td>0</td>\n",
       "      <td>...</td>\n",
       "      <td>0</td>\n",
       "      <td>0</td>\n",
       "      <td>1</td>\n",
       "      <td>1</td>\n",
       "      <td>0</td>\n",
       "      <td>0</td>\n",
       "      <td>0</td>\n",
       "      <td>0</td>\n",
       "      <td>0</td>\n",
       "      <td>0</td>\n",
       "    </tr>\n",
       "    <tr>\n",
       "      <th>135105</th>\n",
       "      <td>0.633036</td>\n",
       "      <td>-2.568908</td>\n",
       "      <td>-0.009659</td>\n",
       "      <td>0</td>\n",
       "      <td>1</td>\n",
       "      <td>0</td>\n",
       "      <td>1</td>\n",
       "      <td>0</td>\n",
       "      <td>0</td>\n",
       "      <td>1</td>\n",
       "      <td>...</td>\n",
       "      <td>0</td>\n",
       "      <td>0</td>\n",
       "      <td>0</td>\n",
       "      <td>0</td>\n",
       "      <td>0</td>\n",
       "      <td>1</td>\n",
       "      <td>0</td>\n",
       "      <td>0</td>\n",
       "      <td>0</td>\n",
       "      <td>0</td>\n",
       "    </tr>\n",
       "    <tr>\n",
       "      <th>135106</th>\n",
       "      <td>-0.719336</td>\n",
       "      <td>-2.568908</td>\n",
       "      <td>0.027273</td>\n",
       "      <td>0</td>\n",
       "      <td>1</td>\n",
       "      <td>0</td>\n",
       "      <td>0</td>\n",
       "      <td>1</td>\n",
       "      <td>0</td>\n",
       "      <td>1</td>\n",
       "      <td>...</td>\n",
       "      <td>0</td>\n",
       "      <td>0</td>\n",
       "      <td>0</td>\n",
       "      <td>0</td>\n",
       "      <td>0</td>\n",
       "      <td>0</td>\n",
       "      <td>1</td>\n",
       "      <td>0</td>\n",
       "      <td>0</td>\n",
       "      <td>0</td>\n",
       "    </tr>\n",
       "    <tr>\n",
       "      <th>135107</th>\n",
       "      <td>0.416656</td>\n",
       "      <td>-1.566013</td>\n",
       "      <td>0.045739</td>\n",
       "      <td>0</td>\n",
       "      <td>1</td>\n",
       "      <td>0</td>\n",
       "      <td>1</td>\n",
       "      <td>0</td>\n",
       "      <td>1</td>\n",
       "      <td>0</td>\n",
       "      <td>...</td>\n",
       "      <td>0</td>\n",
       "      <td>0</td>\n",
       "      <td>0</td>\n",
       "      <td>0</td>\n",
       "      <td>0</td>\n",
       "      <td>1</td>\n",
       "      <td>0</td>\n",
       "      <td>0</td>\n",
       "      <td>0</td>\n",
       "      <td>0</td>\n",
       "    </tr>\n",
       "  </tbody>\n",
       "</table>\n",
       "<p>135108 rows × 63 columns</p>\n",
       "</div>"
      ],
      "text/plain": [
       "        loan_amount      term    income  Status  loan_limit_cf  \\\n",
       "0         -1.152094  0.439777 -0.803694       1              1   \n",
       "1         -0.665241  0.439777 -0.305114       1              1   \n",
       "2          0.416656  0.439777  0.387358       0              1   \n",
       "3          0.687130  0.439777  0.756677       0              1   \n",
       "4          1.985407  0.439777  0.535086       0              1   \n",
       "...             ...       ...       ...     ...            ...   \n",
       "135103     0.578941 -2.568908  0.138068       0              1   \n",
       "135104     1.390363  0.439777  0.027273       0              1   \n",
       "135105     0.633036 -2.568908 -0.009659       0              1   \n",
       "135106    -0.719336 -2.568908  0.027273       0              1   \n",
       "135107     0.416656 -1.566013  0.045739       0              1   \n",
       "\n",
       "        loan_limit_ncf  submission_of_application_not_inst  \\\n",
       "0                    0                                   0   \n",
       "1                    0                                   0   \n",
       "2                    0                                   0   \n",
       "3                    0                                   1   \n",
       "4                    0                                   1   \n",
       "...                ...                                 ...   \n",
       "135103               0                                   0   \n",
       "135104               0                                   1   \n",
       "135105               0                                   1   \n",
       "135106               0                                   0   \n",
       "135107               0                                   1   \n",
       "\n",
       "        submission_of_application_to_inst  co-applicant_credit_type_CIB  \\\n",
       "0                                       1                             1   \n",
       "1                                       1                             0   \n",
       "2                                       1                             1   \n",
       "3                                       0                             1   \n",
       "4                                       0                             0   \n",
       "...                                   ...                           ...   \n",
       "135103                                  1                             0   \n",
       "135104                                  0                             1   \n",
       "135105                                  0                             0   \n",
       "135106                                  1                             0   \n",
       "135107                                  0                             1   \n",
       "\n",
       "        co-applicant_credit_type_EXP  ...  Region_North-East  Region_central  \\\n",
       "0                                  0  ...                  0               0   \n",
       "1                                  1  ...                  0               0   \n",
       "2                                  0  ...                  0               0   \n",
       "3                                  0  ...                  0               0   \n",
       "4                                  1  ...                  0               0   \n",
       "...                              ...  ...                ...             ...   \n",
       "135103                             1  ...                  0               0   \n",
       "135104                             0  ...                  0               0   \n",
       "135105                             1  ...                  0               0   \n",
       "135106                             1  ...                  0               0   \n",
       "135107                             0  ...                  0               0   \n",
       "\n",
       "        Region_south  age_25-34  age_35-44  age_45-54  age_55-64  age_65-74  \\\n",
       "0                  1          1          0          0          0          0   \n",
       "1                  0          0          0          0          1          0   \n",
       "2                  1          0          1          0          0          0   \n",
       "3                  0          0          0          1          0          0   \n",
       "4                  0          1          0          0          0          0   \n",
       "...              ...        ...        ...        ...        ...        ...   \n",
       "135103             1          0          0          0          1          0   \n",
       "135104             1          1          0          0          0          0   \n",
       "135105             0          0          0          1          0          0   \n",
       "135106             0          0          0          0          1          0   \n",
       "135107             0          0          0          1          0          0   \n",
       "\n",
       "        age_<25  age_>74  \n",
       "0             0        0  \n",
       "1             0        0  \n",
       "2             0        0  \n",
       "3             0        0  \n",
       "4             0        0  \n",
       "...         ...      ...  \n",
       "135103        0        0  \n",
       "135104        0        0  \n",
       "135105        0        0  \n",
       "135106        0        0  \n",
       "135107        0        0  \n",
       "\n",
       "[135108 rows x 63 columns]"
      ]
     },
     "metadata": {},
     "output_type": "display_data"
    },
    {
     "data": {
      "application/javascript": [
       "\n",
       "            setTimeout(function() {\n",
       "                var nbb_cell_id = 40;\n",
       "                var nbb_unformatted_code = \"# Lets not standardize dummy variables\\nX_standNotDumb = standardizeData(X.iloc[:, :3])\\nXnewstand = X\\n\\ndisplay(X_standNotDumb)\\ndisplay(Xnewstand)\\nXnewstand[[\\\"loan_amount\\\", \\\"term\\\", \\\"income\\\"]] = X_standNotDumb[[\\\"loan_amount\\\", \\\"term\\\", \\\"income\\\"]]\\ndisplay(Xnewstand)\";\n",
       "                var nbb_formatted_code = \"# Lets not standardize dummy variables\\nX_standNotDumb = standardizeData(X.iloc[:, :3])\\nXnewstand = X\\n\\ndisplay(X_standNotDumb)\\ndisplay(Xnewstand)\\nXnewstand[[\\\"loan_amount\\\", \\\"term\\\", \\\"income\\\"]] = X_standNotDumb[\\n    [\\\"loan_amount\\\", \\\"term\\\", \\\"income\\\"]\\n]\\ndisplay(Xnewstand)\";\n",
       "                var nbb_cells = Jupyter.notebook.get_cells();\n",
       "                for (var i = 0; i < nbb_cells.length; ++i) {\n",
       "                    if (nbb_cells[i].input_prompt_number == nbb_cell_id) {\n",
       "                        if (nbb_cells[i].get_text() == nbb_unformatted_code) {\n",
       "                             nbb_cells[i].set_text(nbb_formatted_code);\n",
       "                        }\n",
       "                        break;\n",
       "                    }\n",
       "                }\n",
       "            }, 500);\n",
       "            "
      ],
      "text/plain": [
       "<IPython.core.display.Javascript object>"
      ]
     },
     "metadata": {},
     "output_type": "display_data"
    }
   ],
   "source": [
    "# Lets not standardize dummy variables\n",
    "# THIS FIXES ALL THE PROBLEMS :)\n",
    "X_standNotDumb = standardizeData(X.iloc[:, :3])\n",
    "Xnewstand = X\n",
    "\n",
    "display(X_standNotDumb)\n",
    "display(Xnewstand)\n",
    "Xnewstand[[\"loan_amount\", \"term\", \"income\"]] = X_standNotDumb[\n",
    "    [\"loan_amount\", \"term\", \"income\"]\n",
    "]\n",
    "display(Xnewstand)"
   ]
  },
  {
   "cell_type": "code",
   "execution_count": 41,
   "id": "3e604e20",
   "metadata": {},
   "outputs": [
    {
     "data": {
      "text/plain": [
       "0      0.327551\n",
       "1      1.382586\n",
       "2      0.816499\n",
       "3     11.881972\n",
       "4     39.657372\n",
       "        ...    \n",
       "58    10.372135\n",
       "59     9.324720\n",
       "60     6.273951\n",
       "61     0.572112\n",
       "62     2.112797\n",
       "Length: 63, dtype: float64"
      ]
     },
     "metadata": {},
     "output_type": "display_data"
    },
    {
     "data": {
      "application/javascript": [
       "\n",
       "            setTimeout(function() {\n",
       "                var nbb_cell_id = 41;\n",
       "                var nbb_unformatted_code = \"# Start analysis with value of arbitrary value of lambda\\nfrom sklearn.model_selection import train_test_split\\n\\nXtrain, Xtest, Ytrain, Ytest = train_test_split(\\n    Xnewstand, y, test_size=0.3, random_state=0\\n)\\n\\nn, m = Xtrain.shape\\nI = np.identity(m)\\nalpha = 1e5\\nbeta = sp.linalg.inv((Xtrain.T @ Xtrain) + alpha * I) @ Xtrain.T @ Ytrain\\ndisplay(beta)\";\n",
       "                var nbb_formatted_code = \"# Start analysis with value of arbitrary value of lambda\\nfrom sklearn.model_selection import train_test_split\\n\\nXtrain, Xtest, Ytrain, Ytest = train_test_split(\\n    Xnewstand, y, test_size=0.3, random_state=0\\n)\\n\\nn, m = Xtrain.shape\\nI = np.identity(m)\\nalpha = 1e5\\nbeta = sp.linalg.inv((Xtrain.T @ Xtrain) + alpha * I) @ Xtrain.T @ Ytrain\\ndisplay(beta)\";\n",
       "                var nbb_cells = Jupyter.notebook.get_cells();\n",
       "                for (var i = 0; i < nbb_cells.length; ++i) {\n",
       "                    if (nbb_cells[i].input_prompt_number == nbb_cell_id) {\n",
       "                        if (nbb_cells[i].get_text() == nbb_unformatted_code) {\n",
       "                             nbb_cells[i].set_text(nbb_formatted_code);\n",
       "                        }\n",
       "                        break;\n",
       "                    }\n",
       "                }\n",
       "            }, 500);\n",
       "            "
      ],
      "text/plain": [
       "<IPython.core.display.Javascript object>"
      ]
     },
     "metadata": {},
     "output_type": "display_data"
    }
   ],
   "source": [
    "# Start analysis with value of arbitrary value of lambda\n",
    "from sklearn.model_selection import train_test_split\n",
    "\n",
    "Xtrain, Xtest, Ytrain, Ytest = train_test_split(\n",
    "    Xnewstand, y, test_size=0.3, random_state=0\n",
    ")\n",
    "\n",
    "n, m = Xtrain.shape\n",
    "I = np.identity(m)\n",
    "alpha = 1e5\n",
    "beta = sp.linalg.inv((Xtrain.T @ Xtrain) + alpha * I) @ Xtrain.T @ Ytrain\n",
    "display(beta)"
   ]
  },
  {
   "cell_type": "code",
   "execution_count": 42,
   "id": "d4c7743d",
   "metadata": {},
   "outputs": [
    {
     "data": {
      "text/html": [
       "<div>\n",
       "<style scoped>\n",
       "    .dataframe tbody tr th:only-of-type {\n",
       "        vertical-align: middle;\n",
       "    }\n",
       "\n",
       "    .dataframe tbody tr th {\n",
       "        vertical-align: top;\n",
       "    }\n",
       "\n",
       "    .dataframe thead th {\n",
       "        text-align: right;\n",
       "    }\n",
       "</style>\n",
       "<table border=\"1\" class=\"dataframe\">\n",
       "  <thead>\n",
       "    <tr style=\"text-align: right;\">\n",
       "      <th></th>\n",
       "      <th>abs coef</th>\n",
       "      <th>coef</th>\n",
       "      <th>names</th>\n",
       "    </tr>\n",
       "  </thead>\n",
       "  <tbody>\n",
       "    <tr>\n",
       "      <th>15</th>\n",
       "      <td>44.549106</td>\n",
       "      <td>44.549106</td>\n",
       "      <td>Security_Type_direct</td>\n",
       "    </tr>\n",
       "    <tr>\n",
       "      <th>10</th>\n",
       "      <td>44.549106</td>\n",
       "      <td>44.549106</td>\n",
       "      <td>Secured_by_home</td>\n",
       "    </tr>\n",
       "    <tr>\n",
       "      <th>13</th>\n",
       "      <td>44.549106</td>\n",
       "      <td>44.549106</td>\n",
       "      <td>construction_type_sb</td>\n",
       "    </tr>\n",
       "    <tr>\n",
       "      <th>24</th>\n",
       "      <td>44.073175</td>\n",
       "      <td>44.073175</td>\n",
       "      <td>open_credit_nopc</td>\n",
       "    </tr>\n",
       "    <tr>\n",
       "      <th>40</th>\n",
       "      <td>43.089548</td>\n",
       "      <td>43.089548</td>\n",
       "      <td>total_units_1U</td>\n",
       "    </tr>\n",
       "    <tr>\n",
       "      <th>...</th>\n",
       "      <td>...</td>\n",
       "      <td>...</td>\n",
       "      <td>...</td>\n",
       "    </tr>\n",
       "    <tr>\n",
       "      <th>42</th>\n",
       "      <td>0.326860</td>\n",
       "      <td>0.326860</td>\n",
       "      <td>total_units_3U</td>\n",
       "    </tr>\n",
       "    <tr>\n",
       "      <th>43</th>\n",
       "      <td>0.249578</td>\n",
       "      <td>0.249578</td>\n",
       "      <td>total_units_4U</td>\n",
       "    </tr>\n",
       "    <tr>\n",
       "      <th>12</th>\n",
       "      <td>0.047013</td>\n",
       "      <td>0.047013</td>\n",
       "      <td>construction_type_mh</td>\n",
       "    </tr>\n",
       "    <tr>\n",
       "      <th>14</th>\n",
       "      <td>0.047013</td>\n",
       "      <td>0.047013</td>\n",
       "      <td>Security_Type_Indriect</td>\n",
       "    </tr>\n",
       "    <tr>\n",
       "      <th>11</th>\n",
       "      <td>0.047013</td>\n",
       "      <td>0.047013</td>\n",
       "      <td>Secured_by_land</td>\n",
       "    </tr>\n",
       "  </tbody>\n",
       "</table>\n",
       "<p>63 rows × 3 columns</p>\n",
       "</div>"
      ],
      "text/plain": [
       "     abs coef       coef                   names\n",
       "15  44.549106  44.549106    Security_Type_direct\n",
       "10  44.549106  44.549106         Secured_by_home\n",
       "13  44.549106  44.549106    construction_type_sb\n",
       "24  44.073175  44.073175        open_credit_nopc\n",
       "40  43.089548  43.089548          total_units_1U\n",
       "..        ...        ...                     ...\n",
       "42   0.326860   0.326860          total_units_3U\n",
       "43   0.249578   0.249578          total_units_4U\n",
       "12   0.047013   0.047013    construction_type_mh\n",
       "14   0.047013   0.047013  Security_Type_Indriect\n",
       "11   0.047013   0.047013         Secured_by_land\n",
       "\n",
       "[63 rows x 3 columns]"
      ]
     },
     "metadata": {},
     "output_type": "display_data"
    },
    {
     "data": {
      "application/javascript": [
       "\n",
       "            setTimeout(function() {\n",
       "                var nbb_cell_id = 42;\n",
       "                var nbb_unformatted_code = \"variables = X.columns.tolist()\\nmodel_coef = pd.DataFrame({\\\"abs coef\\\": abs(beta), \\\"coef\\\": beta, \\\"names\\\": variables})\\ndisplay(\\n    model_coef[model_coef[\\\"abs coef\\\"] != 0].sort_values(by=\\\"abs coef\\\", ascending=False)\\n)\";\n",
       "                var nbb_formatted_code = \"variables = X.columns.tolist()\\nmodel_coef = pd.DataFrame({\\\"abs coef\\\": abs(beta), \\\"coef\\\": beta, \\\"names\\\": variables})\\ndisplay(\\n    model_coef[model_coef[\\\"abs coef\\\"] != 0].sort_values(by=\\\"abs coef\\\", ascending=False)\\n)\";\n",
       "                var nbb_cells = Jupyter.notebook.get_cells();\n",
       "                for (var i = 0; i < nbb_cells.length; ++i) {\n",
       "                    if (nbb_cells[i].input_prompt_number == nbb_cell_id) {\n",
       "                        if (nbb_cells[i].get_text() == nbb_unformatted_code) {\n",
       "                             nbb_cells[i].set_text(nbb_formatted_code);\n",
       "                        }\n",
       "                        break;\n",
       "                    }\n",
       "                }\n",
       "            }, 500);\n",
       "            "
      ],
      "text/plain": [
       "<IPython.core.display.Javascript object>"
      ]
     },
     "metadata": {},
     "output_type": "display_data"
    }
   ],
   "source": [
    "variables = X.columns.tolist()\n",
    "model_coef = pd.DataFrame({\"abs coef\": abs(beta), \"coef\": beta, \"names\": variables})\n",
    "display(\n",
    "    model_coef[model_coef[\"abs coef\"] != 0].sort_values(by=\"abs coef\", ascending=False)\n",
    ")"
   ]
  },
  {
   "cell_type": "code",
   "execution_count": 96,
   "id": "95037f3b",
   "metadata": {},
   "outputs": [
    {
     "data": {
      "text/plain": [
       "(-0.039, 1.039, -2.8264182786970693, 49.99022146624917)"
      ]
     },
     "execution_count": 96,
     "metadata": {},
     "output_type": "execute_result"
    },
    {
     "data": {
      "image/png": "[encoded data removed]",
      "text/plain": [
       "<Figure size 432x288 with 1 Axes>"
      ]
     },
     "metadata": {
      "needs_background": "light"
     },
     "output_type": "display_data"
    },
    {
     "data": {
      "application/javascript": [
       "\n",
       "            setTimeout(function() {\n",
       "                var nbb_cell_id = 96;\n",
       "                var nbb_unformatted_code = \"from sklearn.linear_model import Ridge\\nimport scipy as sp\\n\\ncoef = []\\n# alphas = np.array(\\n#     [0.01, 0.5, 0.75, 0.9, 1, 10, 100, 1000, 10000, 100000, 1000000]\\n# )  # np.arange(0.2, 3, 0.2)\\nalphas = np.arange(0.01, 1, 0.01)\\n# print(alphas)\\nallData = pd.DataFrame({\\\"alphas\\\": alphas})\\n\\nfor a in alphas:\\n    # ridgereg = Ridge(alpha=a)\\n    # ridgereg.fit(Xtrain, Ytrain)\\n    #     print(a)\\n    beta = sp.linalg.inv((Xtrain.T @ Xtrain) + a * I) @ Xtrain.T @ Ytrain\\n    # coef.append(ridgereg.coef_)\\n    coef.append(beta)\\n    # print(coef)\\n    # print(beta)\\n\\n\\n## Make plot of Beta as a function of Alpha\\nfig = plt.figure()\\nax = fig.add_subplot(111)\\nax.plot(alphas, coef)\\nax.set_xlabel(\\\"Alpha (Regularization Parameter)\\\")\\nax.set_ylabel(\\\"Beta (Predictor Coefficients)\\\")\\nax.set_title(\\\"Ridge Coefficients vs Regularization Parameters\\\")\\nax.axis(\\\"tight\\\")\\n\\n\\n# import plotly.graph_objects as go\\n\\n# fig = go.Figure()\\n\\n# fig.add_Trace(go.Scatter(x))\";\n",
       "                var nbb_formatted_code = \"from sklearn.linear_model import Ridge\\nimport scipy as sp\\n\\ncoef = []\\n# alphas = np.array(\\n#     [0.01, 0.5, 0.75, 0.9, 1, 10, 100, 1000, 10000, 100000, 1000000]\\n# )  # np.arange(0.2, 3, 0.2)\\nalphas = np.arange(0.01, 1, 0.01)\\n# print(alphas)\\nallData = pd.DataFrame({\\\"alphas\\\": alphas})\\n\\nfor a in alphas:\\n    # ridgereg = Ridge(alpha=a)\\n    # ridgereg.fit(Xtrain, Ytrain)\\n    #     print(a)\\n    beta = sp.linalg.inv((Xtrain.T @ Xtrain) + a * I) @ Xtrain.T @ Ytrain\\n    # coef.append(ridgereg.coef_)\\n    coef.append(beta)\\n    # print(coef)\\n    # print(beta)\\n\\n\\n## Make plot of Beta as a function of Alpha\\nfig = plt.figure()\\nax = fig.add_subplot(111)\\nax.plot(alphas, coef)\\nax.set_xlabel(\\\"Alpha (Regularization Parameter)\\\")\\nax.set_ylabel(\\\"Beta (Predictor Coefficients)\\\")\\nax.set_title(\\\"Ridge Coefficients vs Regularization Parameters\\\")\\nax.axis(\\\"tight\\\")\\n\\n\\n# import plotly.graph_objects as go\\n\\n# fig = go.Figure()\\n\\n# fig.add_Trace(go.Scatter(x))\";\n",
       "                var nbb_cells = Jupyter.notebook.get_cells();\n",
       "                for (var i = 0; i < nbb_cells.length; ++i) {\n",
       "                    if (nbb_cells[i].input_prompt_number == nbb_cell_id) {\n",
       "                        if (nbb_cells[i].get_text() == nbb_unformatted_code) {\n",
       "                             nbb_cells[i].set_text(nbb_formatted_code);\n",
       "                        }\n",
       "                        break;\n",
       "                    }\n",
       "                }\n",
       "            }, 500);\n",
       "            "
      ],
      "text/plain": [
       "<IPython.core.display.Javascript object>"
      ]
     },
     "metadata": {},
     "output_type": "display_data"
    }
   ],
   "source": [
    "from sklearn.linear_model import Ridge\n",
    "import scipy as sp\n",
    "\n",
    "coef = []\n",
    "# alphas = np.array(\n",
    "#     [0.01, 0.5, 0.75, 0.9, 1, 10, 100, 1000, 10000, 100000, 1000000]\n",
    "# )  # np.arange(0.2, 3, 0.2)\n",
    "alphas = np.arange(0.01, 1, 0.01)\n",
    "# print(alphas)\n",
    "allData = pd.DataFrame({\"alphas\": alphas})\n",
    "\n",
    "for a in alphas:\n",
    "    # ridgereg = Ridge(alpha=a)\n",
    "    # ridgereg.fit(Xtrain, Ytrain)\n",
    "    #     print(a)\n",
    "    beta = sp.linalg.inv((Xtrain.T @ Xtrain) + a * I) @ Xtrain.T @ Ytrain\n",
    "    # coef.append(ridgereg.coef_)\n",
    "    coef.append(beta)\n",
    "    # print(coef)\n",
    "    # print(beta)\n",
    "\n",
    "\n",
    "## Make plot of Beta as a function of Alpha\n",
    "fig = plt.figure()\n",
    "ax = fig.add_subplot(111)\n",
    "ax.plot(alphas, coef)\n",
    "ax.set_xlabel(\"Alpha (Regularization Parameter)\")\n",
    "ax.set_ylabel(\"Beta (Predictor Coefficients)\")\n",
    "ax.set_title(\"Ridge Coefficients vs Regularization Parameters\")\n",
    "ax.axis(\"tight\")\n",
    "\n",
    "\n",
    "# import plotly.graph_objects as go\n",
    "\n",
    "# fig = go.Figure()\n",
    "\n",
    "# fig.add_Trace(go.Scatter(x))"
   ]
  },
  {
   "cell_type": "code",
   "execution_count": 104,
   "id": "14ae006d",
   "metadata": {},
   "outputs": [
    {
     "name": "stdout",
     "output_type": "stream",
     "text": [
      "--- 174.8470242023468 seconds ---\n"
     ]
    },
    {
     "data": {
      "application/javascript": [
       "\n",
       "            setTimeout(function() {\n",
       "                var nbb_cell_id = 104;\n",
       "                var nbb_unformatted_code = \"# K Fold CV\\nfrom sklearn.metrics import *\\n\\nstart = time.time()\\n\\n\\ndef KfoldCV(X, Y, alphas, k):\\n    masterList = np.array([])  # what we return\\n    MSElist = np.array([])\\n    for l2 in alphas:\\n        for i in range(k):\\n            Xtrain, Xtest, Ytrain, Ytest = train_test_split(X, Y, test_size=0.3,)\\n\\n            n, m = Xtrain.shape\\n            I = np.identity(m)\\n            # Beta vector\\n            beta = sp.linalg.inv((Xtrain.T @ Xtrain) + l2 * I) @ Xtrain.T @ Ytrain\\n\\n            Ypred = Xtest @ beta\\n            MSE = mean_squared_error(Ytest, Ypred)\\n\\n            MSElist = np.append(MSElist, MSE)\\n\\n        masterList = np.append(masterList, np.mean(MSElist))\\n\\n    return masterList\\n\\n\\nlistMSE = KfoldCV(Xnewstand.to_numpy(), y, alphas, 5)\\nprint(\\\"--- %s seconds ---\\\" % (time.time() - start))\";\n",
       "                var nbb_formatted_code = \"# K Fold CV\\nfrom sklearn.metrics import *\\n\\nstart = time.time()\\n\\n\\ndef KfoldCV(X, Y, alphas, k):\\n    masterList = np.array([])  # what we return\\n    MSElist = np.array([])\\n    for l2 in alphas:\\n        for i in range(k):\\n            Xtrain, Xtest, Ytrain, Ytest = train_test_split(X, Y, test_size=0.3,)\\n\\n            n, m = Xtrain.shape\\n            I = np.identity(m)\\n            # Beta vector\\n            beta = sp.linalg.inv((Xtrain.T @ Xtrain) + l2 * I) @ Xtrain.T @ Ytrain\\n\\n            Ypred = Xtest @ beta\\n            MSE = mean_squared_error(Ytest, Ypred)\\n\\n            MSElist = np.append(MSElist, MSE)\\n\\n        masterList = np.append(masterList, np.mean(MSElist))\\n\\n    return masterList\\n\\n\\nlistMSE = KfoldCV(Xnewstand.to_numpy(), y, alphas, 5)\\nprint(\\\"--- %s seconds ---\\\" % (time.time() - start))\";\n",
       "                var nbb_cells = Jupyter.notebook.get_cells();\n",
       "                for (var i = 0; i < nbb_cells.length; ++i) {\n",
       "                    if (nbb_cells[i].input_prompt_number == nbb_cell_id) {\n",
       "                        if (nbb_cells[i].get_text() == nbb_unformatted_code) {\n",
       "                             nbb_cells[i].set_text(nbb_formatted_code);\n",
       "                        }\n",
       "                        break;\n",
       "                    }\n",
       "                }\n",
       "            }, 500);\n",
       "            "
      ],
      "text/plain": [
       "<IPython.core.display.Javascript object>"
      ]
     },
     "metadata": {},
     "output_type": "display_data"
    }
   ],
   "source": [
    "# K Fold CV\n",
    "from sklearn.metrics import *\n",
    "\n",
    "start = time.time()\n",
    "\n",
    "\n",
    "def KfoldCV(X, Y, alphas, k):\n",
    "    masterList = np.array([])  # what we return\n",
    "    MSElist = np.array([])\n",
    "    for l2 in alphas:\n",
    "        for i in range(k):\n",
    "            Xtrain, Xtest, Ytrain, Ytest = train_test_split(X, Y, test_size=0.3,)\n",
    "\n",
    "            n, m = Xtrain.shape\n",
    "            I = np.identity(m)\n",
    "            # Beta vector\n",
    "            beta = sp.linalg.inv((Xtrain.T @ Xtrain) + l2 * I) @ Xtrain.T @ Ytrain\n",
    "\n",
    "            Ypred = Xtest @ beta\n",
    "            MSE = mean_squared_error(Ytest, Ypred)\n",
    "\n",
    "            MSElist = np.append(MSElist, MSE)\n",
    "\n",
    "        masterList = np.append(masterList, np.mean(MSElist))\n",
    "\n",
    "    return masterList\n",
    "\n",
    "\n",
    "listMSE = KfoldCV(Xnewstand.to_numpy(), y, alphas, 5)\n",
    "print(\"--- %s seconds ---\" % (time.time() - start))"
   ]
  },
  {
   "cell_type": "code",
   "execution_count": 105,
   "id": "21ccc39c",
   "metadata": {},
   "outputs": [
    {
     "data": {
      "application/vnd.plotly.v1+json": {
       "config": {
        "plotlyServerURL": "https://plot.ly"
       },
       "data": [
        {
         "hovertemplate": "Ridge Parameter=%{x}<br>Mean Squared Error=%{y}<extra></extra>",
         "legendgroup": "",
         "marker": {
          "color": "#636efa",
          "symbol": "circle"
         },
         "mode": "markers",
         "name": "",
         "orientation": "v",
         "showlegend": false,
         "type": "scatter",
         "x": [
          0.01,
          0.02,
          0.03,
          0.04,
          0.05,
          0.060000000000000005,
          0.06999999999999999,
          0.08,
          0.09,
          0.09999999999999999,
          0.11,
          0.12,
          0.13,
          0.14,
          0.15000000000000002,
          0.16,
          0.17,
          0.18000000000000002,
          0.19,
          0.2,
          0.21000000000000002,
          0.22,
          0.23,
          0.24000000000000002,
          0.25,
          0.26,
          0.27,
          0.28,
          0.29000000000000004,
          0.3,
          0.31,
          0.32,
          0.33,
          0.34,
          0.35000000000000003,
          0.36000000000000004,
          0.37,
          0.38,
          0.39,
          0.4,
          0.41000000000000003,
          0.42000000000000004,
          0.43,
          0.44,
          0.45,
          0.46,
          0.47000000000000003,
          0.48000000000000004,
          0.49,
          0.5,
          0.51,
          0.52,
          0.53,
          0.54,
          0.55,
          0.56,
          0.5700000000000001,
          0.5800000000000001,
          0.59,
          0.6,
          0.61,
          0.62,
          0.63,
          0.64,
          0.65,
          0.66,
          0.67,
          0.68,
          0.6900000000000001,
          0.7000000000000001,
          0.7100000000000001,
          0.72,
          0.73,
          0.74,
          0.75,
          0.76,
          0.77,
          0.78,
          0.79,
          0.8,
          0.81,
          0.8200000000000001,
          0.8300000000000001,
          0.8400000000000001,
          0.85,
          0.86,
          0.87,
          0.88,
          0.89,
          0.9,
          0.91,
          0.92,
          0.93,
          0.9400000000000001,
          0.9500000000000001,
          0.9600000000000001,
          0.97,
          0.98,
          0.99
         ],
         "xaxis": "x",
         "y": [
          13415.23567526351,
          13411.802517842483,
          13423.788096718717,
          13418.560774994878,
          13416.78458450465,
          13419.409238378139,
          13422.43370385207,
          13418.903840740371,
          13418.461057862083,
          13418.18702112812,
          13418.966582550116,
          13420.201144852488,
          13420.659827847821,
          13423.111714416023,
          13424.329835767376,
          13424.402339625172,
          13425.105418574232,
          13425.524902938694,
          13426.679137132887,
          13428.383706910261,
          13429.45307792473,
          13429.492345197996,
          13429.428726530225,
          13430.97621733028,
          13431.181900958072,
          13431.322623304959,
          13430.480361342952,
          13431.286406507124,
          13431.685117516621,
          13430.55048793076,
          13430.056050843685,
          13429.610382661116,
          13429.706748410974,
          13430.307354306115,
          13430.405393891158,
          13429.875249881949,
          13429.846484769538,
          13430.504800014438,
          13430.645502514335,
          13429.934233510778,
          13429.609087185721,
          13430.45722051384,
          13429.77561760907,
          13428.819553400786,
          13428.031569775985,
          13428.129703332155,
          13427.954512752878,
          13428.601369114856,
          13428.810592780977,
          13428.562431296192,
          13429.282120414846,
          13429.974369782101,
          13430.078933540912,
          13430.88043061558,
          13430.695895146284,
          13430.30178747882,
          13430.463840377028,
          13431.11129101997,
          13431.423976314485,
          13431.3236343719,
          13431.863816039731,
          13430.72661888886,
          13430.778118149643,
          13431.258972359466,
          13430.873897356443,
          13430.554487409863,
          13430.92812825979,
          13431.08311020794,
          13430.961463842903,
          13431.065635985551,
          13430.15463298239,
          13430.346112253383,
          13429.941392376551,
          13429.660893951246,
          13429.57401620933,
          13429.731004433692,
          13429.730649576506,
          13429.940703954133,
          13429.536765648067,
          13429.661173159442,
          13429.813325369938,
          13429.57810015541,
          13430.007471847819,
          13429.949840067116,
          13429.805041209727,
          13429.973828311806,
          13429.7234266932,
          13429.354370284736,
          13429.289099489866,
          13429.253089644299,
          13429.823312305401,
          13429.74945002098,
          13429.512636522075,
          13429.240910859897,
          13429.278784662669,
          13429.460430078912,
          13429.628083723974,
          13429.473664915664,
          13429.312909702436
         ],
         "yaxis": "y"
        },
        {
         "name": "Minimum MSE",
         "type": "scatter",
         "x": [
          0.02
         ],
         "y": [
          13411.802517842483
         ]
        }
       ],
       "layout": {
        "legend": {
         "tracegroupgap": 0
        },
        "template": {
         "data": {
          "bar": [
           {
            "error_x": {
             "color": "#2a3f5f"
            },
            "error_y": {
             "color": "#2a3f5f"
            },
            "marker": {
             "line": {
              "color": "#E5ECF6",
              "width": 0.5
             },
             "pattern": {
              "fillmode": "overlay",
              "size": 10,
              "solidity": 0.2
             }
            },
            "type": "bar"
           }
          ],
          "barpolar": [
           {
            "marker": {
             "line": {
              "color": "#E5ECF6",
              "width": 0.5
             },
             "pattern": {
              "fillmode": "overlay",
              "size": 10,
              "solidity": 0.2
             }
            },
            "type": "barpolar"
           }
          ],
          "carpet": [
           {
            "aaxis": {
             "endlinecolor": "#2a3f5f",
             "gridcolor": "white",
             "linecolor": "white",
             "minorgridcolor": "white",
             "startlinecolor": "#2a3f5f"
            },
            "baxis": {
             "endlinecolor": "#2a3f5f",
             "gridcolor": "white",
             "linecolor": "white",
             "minorgridcolor": "white",
             "startlinecolor": "#2a3f5f"
            },
            "type": "carpet"
           }
          ],
          "choropleth": [
           {
            "colorbar": {
             "outlinewidth": 0,
             "ticks": ""
            },
            "type": "choropleth"
           }
          ],
          "contour": [
           {
            "colorbar": {
             "outlinewidth": 0,
             "ticks": ""
            },
            "colorscale": [
             [
              0,
              "#0d0887"
             ],
             [
              0.1111111111111111,
              "#46039f"
             ],
             [
              0.2222222222222222,
              "#7201a8"
             ],
             [
              0.3333333333333333,
              "#9c179e"
             ],
             [
              0.4444444444444444,
              "#bd3786"
             ],
             [
              0.5555555555555556,
              "#d8576b"
             ],
             [
              0.6666666666666666,
              "#ed7953"
             ],
             [
              0.7777777777777778,
              "#fb9f3a"
             ],
             [
              0.8888888888888888,
              "#fdca26"
             ],
             [
              1,
              "#f0f921"
             ]
            ],
            "type": "contour"
           }
          ],
          "contourcarpet": [
           {
            "colorbar": {
             "outlinewidth": 0,
             "ticks": ""
            },
            "type": "contourcarpet"
           }
          ],
          "heatmap": [
           {
            "colorbar": {
             "outlinewidth": 0,
             "ticks": ""
            },
            "colorscale": [
             [
              0,
              "#0d0887"
             ],
             [
              0.1111111111111111,
              "#46039f"
             ],
             [
              0.2222222222222222,
              "#7201a8"
             ],
             [
              0.3333333333333333,
              "#9c179e"
             ],
             [
              0.4444444444444444,
              "#bd3786"
             ],
             [
              0.5555555555555556,
              "#d8576b"
             ],
             [
              0.6666666666666666,
              "#ed7953"
             ],
             [
              0.7777777777777778,
              "#fb9f3a"
             ],
             [
              0.8888888888888888,
              "#fdca26"
             ],
             [
              1,
              "#f0f921"
             ]
            ],
            "type": "heatmap"
           }
          ],
          "heatmapgl": [
           {
            "colorbar": {
             "outlinewidth": 0,
             "ticks": ""
            },
            "colorscale": [
             [
              0,
              "#0d0887"
             ],
             [
              0.1111111111111111,
              "#46039f"
             ],
             [
              0.2222222222222222,
              "#7201a8"
             ],
             [
              0.3333333333333333,
              "#9c179e"
             ],
             [
              0.4444444444444444,
              "#bd3786"
             ],
             [
              0.5555555555555556,
              "#d8576b"
             ],
             [
              0.6666666666666666,
              "#ed7953"
             ],
             [
              0.7777777777777778,
              "#fb9f3a"
             ],
             [
              0.8888888888888888,
              "#fdca26"
             ],
             [
              1,
              "#f0f921"
             ]
            ],
            "type": "heatmapgl"
           }
          ],
          "histogram": [
           {
            "marker": {
             "pattern": {
              "fillmode": "overlay",
              "size": 10,
              "solidity": 0.2
             }
            },
            "type": "histogram"
           }
          ],
          "histogram2d": [
           {
            "colorbar": {
             "outlinewidth": 0,
             "ticks": ""
            },
            "colorscale": [
             [
              0,
              "#0d0887"
             ],
             [
              0.1111111111111111,
              "#46039f"
             ],
             [
              0.2222222222222222,
              "#7201a8"
             ],
             [
              0.3333333333333333,
              "#9c179e"
             ],
             [
              0.4444444444444444,
              "#bd3786"
             ],
             [
              0.5555555555555556,
              "#d8576b"
             ],
             [
              0.6666666666666666,
              "#ed7953"
             ],
             [
              0.7777777777777778,
              "#fb9f3a"
             ],
             [
              0.8888888888888888,
              "#fdca26"
             ],
             [
              1,
              "#f0f921"
             ]
            ],
            "type": "histogram2d"
           }
          ],
          "histogram2dcontour": [
           {
            "colorbar": {
             "outlinewidth": 0,
             "ticks": ""
            },
            "colorscale": [
             [
              0,
              "#0d0887"
             ],
             [
              0.1111111111111111,
              "#46039f"
             ],
             [
              0.2222222222222222,
              "#7201a8"
             ],
             [
              0.3333333333333333,
              "#9c179e"
             ],
             [
              0.4444444444444444,
              "#bd3786"
             ],
             [
              0.5555555555555556,
              "#d8576b"
             ],
             [
              0.6666666666666666,
              "#ed7953"
             ],
             [
              0.7777777777777778,
              "#fb9f3a"
             ],
             [
              0.8888888888888888,
              "#fdca26"
             ],
             [
              1,
              "#f0f921"
             ]
            ],
            "type": "histogram2dcontour"
           }
          ],
          "mesh3d": [
           {
            "colorbar": {
             "outlinewidth": 0,
             "ticks": ""
            },
            "type": "mesh3d"
           }
          ],
          "parcoords": [
           {
            "line": {
             "colorbar": {
              "outlinewidth": 0,
              "ticks": ""
             }
            },
            "type": "parcoords"
           }
          ],
          "pie": [
           {
            "automargin": true,
            "type": "pie"
           }
          ],
          "scatter": [
           {
            "marker": {
             "colorbar": {
              "outlinewidth": 0,
              "ticks": ""
             }
            },
            "type": "scatter"
           }
          ],
          "scatter3d": [
           {
            "line": {
             "colorbar": {
              "outlinewidth": 0,
              "ticks": ""
             }
            },
            "marker": {
             "colorbar": {
              "outlinewidth": 0,
              "ticks": ""
             }
            },
            "type": "scatter3d"
           }
          ],
          "scattercarpet": [
           {
            "marker": {
             "colorbar": {
              "outlinewidth": 0,
              "ticks": ""
             }
            },
            "type": "scattercarpet"
           }
          ],
          "scattergeo": [
           {
            "marker": {
             "colorbar": {
              "outlinewidth": 0,
              "ticks": ""
             }
            },
            "type": "scattergeo"
           }
          ],
          "scattergl": [
           {
            "marker": {
             "colorbar": {
              "outlinewidth": 0,
              "ticks": ""
             }
            },
            "type": "scattergl"
           }
          ],
          "scattermapbox": [
           {
            "marker": {
             "colorbar": {
              "outlinewidth": 0,
              "ticks": ""
             }
            },
            "type": "scattermapbox"
           }
          ],
          "scatterpolar": [
           {
            "marker": {
             "colorbar": {
              "outlinewidth": 0,
              "ticks": ""
             }
            },
            "type": "scatterpolar"
           }
          ],
          "scatterpolargl": [
           {
            "marker": {
             "colorbar": {
              "outlinewidth": 0,
              "ticks": ""
             }
            },
            "type": "scatterpolargl"
           }
          ],
          "scatterternary": [
           {
            "marker": {
             "colorbar": {
              "outlinewidth": 0,
              "ticks": ""
             }
            },
            "type": "scatterternary"
           }
          ],
          "surface": [
           {
            "colorbar": {
             "outlinewidth": 0,
             "ticks": ""
            },
            "colorscale": [
             [
              0,
              "#0d0887"
             ],
             [
              0.1111111111111111,
              "#46039f"
             ],
             [
              0.2222222222222222,
              "#7201a8"
             ],
             [
              0.3333333333333333,
              "#9c179e"
             ],
             [
              0.4444444444444444,
              "#bd3786"
             ],
             [
              0.5555555555555556,
              "#d8576b"
             ],
             [
              0.6666666666666666,
              "#ed7953"
             ],
             [
              0.7777777777777778,
              "#fb9f3a"
             ],
             [
              0.8888888888888888,
              "#fdca26"
             ],
             [
              1,
              "#f0f921"
             ]
            ],
            "type": "surface"
           }
          ],
          "table": [
           {
            "cells": {
             "fill": {
              "color": "#EBF0F8"
             },
             "line": {
              "color": "white"
             }
            },
            "header": {
             "fill": {
              "color": "#C8D4E3"
             },
             "line": {
              "color": "white"
             }
            },
            "type": "table"
           }
          ]
         },
         "layout": {
          "annotationdefaults": {
           "arrowcolor": "#2a3f5f",
           "arrowhead": 0,
           "arrowwidth": 1
          },
          "autotypenumbers": "strict",
          "coloraxis": {
           "colorbar": {
            "outlinewidth": 0,
            "ticks": ""
           }
          },
          "colorscale": {
           "diverging": [
            [
             0,
             "#8e0152"
            ],
            [
             0.1,
             "#c51b7d"
            ],
            [
             0.2,
             "#de77ae"
            ],
            [
             0.3,
             "#f1b6da"
            ],
            [
             0.4,
             "#fde0ef"
            ],
            [
             0.5,
             "#f7f7f7"
            ],
            [
             0.6,
             "#e6f5d0"
            ],
            [
             0.7,
             "#b8e186"
            ],
            [
             0.8,
             "#7fbc41"
            ],
            [
             0.9,
             "#4d9221"
            ],
            [
             1,
             "#276419"
            ]
           ],
           "sequential": [
            [
             0,
             "#0d0887"
            ],
            [
             0.1111111111111111,
             "#46039f"
            ],
            [
             0.2222222222222222,
             "#7201a8"
            ],
            [
             0.3333333333333333,
             "#9c179e"
            ],
            [
             0.4444444444444444,
             "#bd3786"
            ],
            [
             0.5555555555555556,
             "#d8576b"
            ],
            [
             0.6666666666666666,
             "#ed7953"
            ],
            [
             0.7777777777777778,
             "#fb9f3a"
            ],
            [
             0.8888888888888888,
             "#fdca26"
            ],
            [
             1,
             "#f0f921"
            ]
           ],
           "sequentialminus": [
            [
             0,
             "#0d0887"
            ],
            [
             0.1111111111111111,
             "#46039f"
            ],
            [
             0.2222222222222222,
             "#7201a8"
            ],
            [
             0.3333333333333333,
             "#9c179e"
            ],
            [
             0.4444444444444444,
             "#bd3786"
            ],
            [
             0.5555555555555556,
             "#d8576b"
            ],
            [
             0.6666666666666666,
             "#ed7953"
            ],
            [
             0.7777777777777778,
             "#fb9f3a"
            ],
            [
             0.8888888888888888,
             "#fdca26"
            ],
            [
             1,
             "#f0f921"
            ]
           ]
          },
          "colorway": [
           "#636efa",
           "#EF553B",
           "#00cc96",
           "#ab63fa",
           "#FFA15A",
           "#19d3f3",
           "#FF6692",
           "#B6E880",
           "#FF97FF",
           "#FECB52"
          ],
          "font": {
           "color": "#2a3f5f"
          },
          "geo": {
           "bgcolor": "white",
           "lakecolor": "white",
           "landcolor": "#E5ECF6",
           "showlakes": true,
           "showland": true,
           "subunitcolor": "white"
          },
          "hoverlabel": {
           "align": "left"
          },
          "hovermode": "closest",
          "mapbox": {
           "style": "light"
          },
          "paper_bgcolor": "white",
          "plot_bgcolor": "#E5ECF6",
          "polar": {
           "angularaxis": {
            "gridcolor": "white",
            "linecolor": "white",
            "ticks": ""
           },
           "bgcolor": "#E5ECF6",
           "radialaxis": {
            "gridcolor": "white",
            "linecolor": "white",
            "ticks": ""
           }
          },
          "scene": {
           "xaxis": {
            "backgroundcolor": "#E5ECF6",
            "gridcolor": "white",
            "gridwidth": 2,
            "linecolor": "white",
            "showbackground": true,
            "ticks": "",
            "zerolinecolor": "white"
           },
           "yaxis": {
            "backgroundcolor": "#E5ECF6",
            "gridcolor": "white",
            "gridwidth": 2,
            "linecolor": "white",
            "showbackground": true,
            "ticks": "",
            "zerolinecolor": "white"
           },
           "zaxis": {
            "backgroundcolor": "#E5ECF6",
            "gridcolor": "white",
            "gridwidth": 2,
            "linecolor": "white",
            "showbackground": true,
            "ticks": "",
            "zerolinecolor": "white"
           }
          },
          "shapedefaults": {
           "line": {
            "color": "#2a3f5f"
           }
          },
          "ternary": {
           "aaxis": {
            "gridcolor": "white",
            "linecolor": "white",
            "ticks": ""
           },
           "baxis": {
            "gridcolor": "white",
            "linecolor": "white",
            "ticks": ""
           },
           "bgcolor": "#E5ECF6",
           "caxis": {
            "gridcolor": "white",
            "linecolor": "white",
            "ticks": ""
           }
          },
          "title": {
           "x": 0.05
          },
          "xaxis": {
           "automargin": true,
           "gridcolor": "white",
           "linecolor": "white",
           "ticks": "",
           "title": {
            "standoff": 15
           },
           "zerolinecolor": "white",
           "zerolinewidth": 2
          },
          "yaxis": {
           "automargin": true,
           "gridcolor": "white",
           "linecolor": "white",
           "ticks": "",
           "title": {
            "standoff": 15
           },
           "zerolinecolor": "white",
           "zerolinewidth": 2
          }
         }
        },
        "title": {
         "text": "MSE with K-Fold Cross Validation w/ 30/70 Test Train Ratio"
        },
        "xaxis": {
         "anchor": "y",
         "domain": [
          0,
          1
         ],
         "title": {
          "text": "Ridge Parameter"
         }
        },
        "yaxis": {
         "anchor": "x",
         "domain": [
          0,
          1
         ],
         "title": {
          "text": "Mean Squared Error"
         }
        }
       }
      },
      "text/html": [
       "<div>                            <div id=\"f3aeb60a-9c43-4987-8d9a-c8d757e8c143\" class=\"plotly-graph-div\" style=\"height:525px; width:100%;\"></div>            <script type=\"text/javascript\">                require([\"plotly\"], function(Plotly) {                    window.PLOTLYENV=window.PLOTLYENV || {};                                    if (document.getElementById(\"f3aeb60a-9c43-4987-8d9a-c8d757e8c143\")) {                    Plotly.newPlot(                        \"f3aeb60a-9c43-4987-8d9a-c8d757e8c143\",                        [{\"hovertemplate\":\"Ridge Parameter=%{x}<br>Mean Squared Error=%{y}<extra></extra>\",\"legendgroup\":\"\",\"marker\":{\"color\":\"#636efa\",\"symbol\":\"circle\"},\"mode\":\"markers\",\"name\":\"\",\"orientation\":\"v\",\"showlegend\":false,\"x\":[0.01,0.02,0.03,0.04,0.05,0.060000000000000005,0.06999999999999999,0.08,0.09,0.09999999999999999,0.11,0.12,0.13,0.14,0.15000000000000002,0.16,0.17,0.18000000000000002,0.19,0.2,0.21000000000000002,0.22,0.23,0.24000000000000002,0.25,0.26,0.27,0.28,0.29000000000000004,0.3,0.31,0.32,0.33,0.34,0.35000000000000003,0.36000000000000004,0.37,0.38,0.39,0.4,0.41000000000000003,0.42000000000000004,0.43,0.44,0.45,0.46,0.47000000000000003,0.48000000000000004,0.49,0.5,0.51,0.52,0.53,0.54,0.55,0.56,0.5700000000000001,0.5800000000000001,0.59,0.6,0.61,0.62,0.63,0.64,0.65,0.66,0.67,0.68,0.6900000000000001,0.7000000000000001,0.7100000000000001,0.72,0.73,0.74,0.75,0.76,0.77,0.78,0.79,0.8,0.81,0.8200000000000001,0.8300000000000001,0.8400000000000001,0.85,0.86,0.87,0.88,0.89,0.9,0.91,0.92,0.93,0.9400000000000001,0.9500000000000001,0.9600000000000001,0.97,0.98,0.99],\"xaxis\":\"x\",\"y\":[13415.23567526351,13411.802517842483,13423.788096718717,13418.560774994878,13416.78458450465,13419.409238378139,13422.43370385207,13418.903840740371,13418.461057862083,13418.18702112812,13418.966582550116,13420.201144852488,13420.659827847821,13423.111714416023,13424.329835767376,13424.402339625172,13425.105418574232,13425.524902938694,13426.679137132887,13428.383706910261,13429.45307792473,13429.492345197996,13429.428726530225,13430.97621733028,13431.181900958072,13431.322623304959,13430.480361342952,13431.286406507124,13431.685117516621,13430.55048793076,13430.056050843685,13429.610382661116,13429.706748410974,13430.307354306115,13430.405393891158,13429.875249881949,13429.846484769538,13430.504800014438,13430.645502514335,13429.934233510778,13429.609087185721,13430.45722051384,13429.77561760907,13428.819553400786,13428.031569775985,13428.129703332155,13427.954512752878,13428.601369114856,13428.810592780977,13428.562431296192,13429.282120414846,13429.974369782101,13430.078933540912,13430.88043061558,13430.695895146284,13430.30178747882,13430.463840377028,13431.11129101997,13431.423976314485,13431.3236343719,13431.863816039731,13430.72661888886,13430.778118149643,13431.258972359466,13430.873897356443,13430.554487409863,13430.92812825979,13431.08311020794,13430.961463842903,13431.065635985551,13430.15463298239,13430.346112253383,13429.941392376551,13429.660893951246,13429.57401620933,13429.731004433692,13429.730649576506,13429.940703954133,13429.536765648067,13429.661173159442,13429.813325369938,13429.57810015541,13430.007471847819,13429.949840067116,13429.805041209727,13429.973828311806,13429.7234266932,13429.354370284736,13429.289099489866,13429.253089644299,13429.823312305401,13429.74945002098,13429.512636522075,13429.240910859897,13429.278784662669,13429.460430078912,13429.628083723974,13429.473664915664,13429.312909702436],\"yaxis\":\"y\",\"type\":\"scatter\"},{\"name\":\"Minimum MSE\",\"x\":[0.02],\"y\":[13411.802517842483],\"type\":\"scatter\"}],                        {\"legend\":{\"tracegroupgap\":0},\"template\":{\"data\":{\"barpolar\":[{\"marker\":{\"line\":{\"color\":\"#E5ECF6\",\"width\":0.5},\"pattern\":{\"fillmode\":\"overlay\",\"size\":10,\"solidity\":0.2}},\"type\":\"barpolar\"}],\"bar\":[{\"error_x\":{\"color\":\"#2a3f5f\"},\"error_y\":{\"color\":\"#2a3f5f\"},\"marker\":{\"line\":{\"color\":\"#E5ECF6\",\"width\":0.5},\"pattern\":{\"fillmode\":\"overlay\",\"size\":10,\"solidity\":0.2}},\"type\":\"bar\"}],\"carpet\":[{\"aaxis\":{\"endlinecolor\":\"#2a3f5f\",\"gridcolor\":\"white\",\"linecolor\":\"white\",\"minorgridcolor\":\"white\",\"startlinecolor\":\"#2a3f5f\"},\"baxis\":{\"endlinecolor\":\"#2a3f5f\",\"gridcolor\":\"white\",\"linecolor\":\"white\",\"minorgridcolor\":\"white\",\"startlinecolor\":\"#2a3f5f\"},\"type\":\"carpet\"}],\"choropleth\":[{\"colorbar\":{\"outlinewidth\":0,\"ticks\":\"\"},\"type\":\"choropleth\"}],\"contourcarpet\":[{\"colorbar\":{\"outlinewidth\":0,\"ticks\":\"\"},\"type\":\"contourcarpet\"}],\"contour\":[{\"colorbar\":{\"outlinewidth\":0,\"ticks\":\"\"},\"colorscale\":[[0.0,\"#0d0887\"],[0.1111111111111111,\"#46039f\"],[0.2222222222222222,\"#7201a8\"],[0.3333333333333333,\"#9c179e\"],[0.4444444444444444,\"#bd3786\"],[0.5555555555555556,\"#d8576b\"],[0.6666666666666666,\"#ed7953\"],[0.7777777777777778,\"#fb9f3a\"],[0.8888888888888888,\"#fdca26\"],[1.0,\"#f0f921\"]],\"type\":\"contour\"}],\"heatmapgl\":[{\"colorbar\":{\"outlinewidth\":0,\"ticks\":\"\"},\"colorscale\":[[0.0,\"#0d0887\"],[0.1111111111111111,\"#46039f\"],[0.2222222222222222,\"#7201a8\"],[0.3333333333333333,\"#9c179e\"],[0.4444444444444444,\"#bd3786\"],[0.5555555555555556,\"#d8576b\"],[0.6666666666666666,\"#ed7953\"],[0.7777777777777778,\"#fb9f3a\"],[0.8888888888888888,\"#fdca26\"],[1.0,\"#f0f921\"]],\"type\":\"heatmapgl\"}],\"heatmap\":[{\"colorbar\":{\"outlinewidth\":0,\"ticks\":\"\"},\"colorscale\":[[0.0,\"#0d0887\"],[0.1111111111111111,\"#46039f\"],[0.2222222222222222,\"#7201a8\"],[0.3333333333333333,\"#9c179e\"],[0.4444444444444444,\"#bd3786\"],[0.5555555555555556,\"#d8576b\"],[0.6666666666666666,\"#ed7953\"],[0.7777777777777778,\"#fb9f3a\"],[0.8888888888888888,\"#fdca26\"],[1.0,\"#f0f921\"]],\"type\":\"heatmap\"}],\"histogram2dcontour\":[{\"colorbar\":{\"outlinewidth\":0,\"ticks\":\"\"},\"colorscale\":[[0.0,\"#0d0887\"],[0.1111111111111111,\"#46039f\"],[0.2222222222222222,\"#7201a8\"],[0.3333333333333333,\"#9c179e\"],[0.4444444444444444,\"#bd3786\"],[0.5555555555555556,\"#d8576b\"],[0.6666666666666666,\"#ed7953\"],[0.7777777777777778,\"#fb9f3a\"],[0.8888888888888888,\"#fdca26\"],[1.0,\"#f0f921\"]],\"type\":\"histogram2dcontour\"}],\"histogram2d\":[{\"colorbar\":{\"outlinewidth\":0,\"ticks\":\"\"},\"colorscale\":[[0.0,\"#0d0887\"],[0.1111111111111111,\"#46039f\"],[0.2222222222222222,\"#7201a8\"],[0.3333333333333333,\"#9c179e\"],[0.4444444444444444,\"#bd3786\"],[0.5555555555555556,\"#d8576b\"],[0.6666666666666666,\"#ed7953\"],[0.7777777777777778,\"#fb9f3a\"],[0.8888888888888888,\"#fdca26\"],[1.0,\"#f0f921\"]],\"type\":\"histogram2d\"}],\"histogram\":[{\"marker\":{\"pattern\":{\"fillmode\":\"overlay\",\"size\":10,\"solidity\":0.2}},\"type\":\"histogram\"}],\"mesh3d\":[{\"colorbar\":{\"outlinewidth\":0,\"ticks\":\"\"},\"type\":\"mesh3d\"}],\"parcoords\":[{\"line\":{\"colorbar\":{\"outlinewidth\":0,\"ticks\":\"\"}},\"type\":\"parcoords\"}],\"pie\":[{\"automargin\":true,\"type\":\"pie\"}],\"scatter3d\":[{\"line\":{\"colorbar\":{\"outlinewidth\":0,\"ticks\":\"\"}},\"marker\":{\"colorbar\":{\"outlinewidth\":0,\"ticks\":\"\"}},\"type\":\"scatter3d\"}],\"scattercarpet\":[{\"marker\":{\"colorbar\":{\"outlinewidth\":0,\"ticks\":\"\"}},\"type\":\"scattercarpet\"}],\"scattergeo\":[{\"marker\":{\"colorbar\":{\"outlinewidth\":0,\"ticks\":\"\"}},\"type\":\"scattergeo\"}],\"scattergl\":[{\"marker\":{\"colorbar\":{\"outlinewidth\":0,\"ticks\":\"\"}},\"type\":\"scattergl\"}],\"scattermapbox\":[{\"marker\":{\"colorbar\":{\"outlinewidth\":0,\"ticks\":\"\"}},\"type\":\"scattermapbox\"}],\"scatterpolargl\":[{\"marker\":{\"colorbar\":{\"outlinewidth\":0,\"ticks\":\"\"}},\"type\":\"scatterpolargl\"}],\"scatterpolar\":[{\"marker\":{\"colorbar\":{\"outlinewidth\":0,\"ticks\":\"\"}},\"type\":\"scatterpolar\"}],\"scatter\":[{\"marker\":{\"colorbar\":{\"outlinewidth\":0,\"ticks\":\"\"}},\"type\":\"scatter\"}],\"scatterternary\":[{\"marker\":{\"colorbar\":{\"outlinewidth\":0,\"ticks\":\"\"}},\"type\":\"scatterternary\"}],\"surface\":[{\"colorbar\":{\"outlinewidth\":0,\"ticks\":\"\"},\"colorscale\":[[0.0,\"#0d0887\"],[0.1111111111111111,\"#46039f\"],[0.2222222222222222,\"#7201a8\"],[0.3333333333333333,\"#9c179e\"],[0.4444444444444444,\"#bd3786\"],[0.5555555555555556,\"#d8576b\"],[0.6666666666666666,\"#ed7953\"],[0.7777777777777778,\"#fb9f3a\"],[0.8888888888888888,\"#fdca26\"],[1.0,\"#f0f921\"]],\"type\":\"surface\"}],\"table\":[{\"cells\":{\"fill\":{\"color\":\"#EBF0F8\"},\"line\":{\"color\":\"white\"}},\"header\":{\"fill\":{\"color\":\"#C8D4E3\"},\"line\":{\"color\":\"white\"}},\"type\":\"table\"}]},\"layout\":{\"annotationdefaults\":{\"arrowcolor\":\"#2a3f5f\",\"arrowhead\":0,\"arrowwidth\":1},\"autotypenumbers\":\"strict\",\"coloraxis\":{\"colorbar\":{\"outlinewidth\":0,\"ticks\":\"\"}},\"colorscale\":{\"diverging\":[[0,\"#8e0152\"],[0.1,\"#c51b7d\"],[0.2,\"#de77ae\"],[0.3,\"#f1b6da\"],[0.4,\"#fde0ef\"],[0.5,\"#f7f7f7\"],[0.6,\"#e6f5d0\"],[0.7,\"#b8e186\"],[0.8,\"#7fbc41\"],[0.9,\"#4d9221\"],[1,\"#276419\"]],\"sequential\":[[0.0,\"#0d0887\"],[0.1111111111111111,\"#46039f\"],[0.2222222222222222,\"#7201a8\"],[0.3333333333333333,\"#9c179e\"],[0.4444444444444444,\"#bd3786\"],[0.5555555555555556,\"#d8576b\"],[0.6666666666666666,\"#ed7953\"],[0.7777777777777778,\"#fb9f3a\"],[0.8888888888888888,\"#fdca26\"],[1.0,\"#f0f921\"]],\"sequentialminus\":[[0.0,\"#0d0887\"],[0.1111111111111111,\"#46039f\"],[0.2222222222222222,\"#7201a8\"],[0.3333333333333333,\"#9c179e\"],[0.4444444444444444,\"#bd3786\"],[0.5555555555555556,\"#d8576b\"],[0.6666666666666666,\"#ed7953\"],[0.7777777777777778,\"#fb9f3a\"],[0.8888888888888888,\"#fdca26\"],[1.0,\"#f0f921\"]]},\"colorway\":[\"#636efa\",\"#EF553B\",\"#00cc96\",\"#ab63fa\",\"#FFA15A\",\"#19d3f3\",\"#FF6692\",\"#B6E880\",\"#FF97FF\",\"#FECB52\"],\"font\":{\"color\":\"#2a3f5f\"},\"geo\":{\"bgcolor\":\"white\",\"lakecolor\":\"white\",\"landcolor\":\"#E5ECF6\",\"showlakes\":true,\"showland\":true,\"subunitcolor\":\"white\"},\"hoverlabel\":{\"align\":\"left\"},\"hovermode\":\"closest\",\"mapbox\":{\"style\":\"light\"},\"paper_bgcolor\":\"white\",\"plot_bgcolor\":\"#E5ECF6\",\"polar\":{\"angularaxis\":{\"gridcolor\":\"white\",\"linecolor\":\"white\",\"ticks\":\"\"},\"bgcolor\":\"#E5ECF6\",\"radialaxis\":{\"gridcolor\":\"white\",\"linecolor\":\"white\",\"ticks\":\"\"}},\"scene\":{\"xaxis\":{\"backgroundcolor\":\"#E5ECF6\",\"gridcolor\":\"white\",\"gridwidth\":2,\"linecolor\":\"white\",\"showbackground\":true,\"ticks\":\"\",\"zerolinecolor\":\"white\"},\"yaxis\":{\"backgroundcolor\":\"#E5ECF6\",\"gridcolor\":\"white\",\"gridwidth\":2,\"linecolor\":\"white\",\"showbackground\":true,\"ticks\":\"\",\"zerolinecolor\":\"white\"},\"zaxis\":{\"backgroundcolor\":\"#E5ECF6\",\"gridcolor\":\"white\",\"gridwidth\":2,\"linecolor\":\"white\",\"showbackground\":true,\"ticks\":\"\",\"zerolinecolor\":\"white\"}},\"shapedefaults\":{\"line\":{\"color\":\"#2a3f5f\"}},\"ternary\":{\"aaxis\":{\"gridcolor\":\"white\",\"linecolor\":\"white\",\"ticks\":\"\"},\"baxis\":{\"gridcolor\":\"white\",\"linecolor\":\"white\",\"ticks\":\"\"},\"bgcolor\":\"#E5ECF6\",\"caxis\":{\"gridcolor\":\"white\",\"linecolor\":\"white\",\"ticks\":\"\"}},\"title\":{\"x\":0.05},\"xaxis\":{\"automargin\":true,\"gridcolor\":\"white\",\"linecolor\":\"white\",\"ticks\":\"\",\"title\":{\"standoff\":15},\"zerolinecolor\":\"white\",\"zerolinewidth\":2},\"yaxis\":{\"automargin\":true,\"gridcolor\":\"white\",\"linecolor\":\"white\",\"ticks\":\"\",\"title\":{\"standoff\":15},\"zerolinecolor\":\"white\",\"zerolinewidth\":2}}},\"title\":{\"text\":\"MSE with K-Fold Cross Validation w/ 30/70 Test Train Ratio\"},\"xaxis\":{\"anchor\":\"y\",\"domain\":[0.0,1.0],\"title\":{\"text\":\"Ridge Parameter\"}},\"yaxis\":{\"anchor\":\"x\",\"domain\":[0.0,1.0],\"title\":{\"text\":\"Mean Squared Error\"}}},                        {\"responsive\": true}                    ).then(function(){\n",
       "                            \n",
       "var gd = document.getElementById('f3aeb60a-9c43-4987-8d9a-c8d757e8c143');\n",
       "var x = new MutationObserver(function (mutations, observer) {{\n",
       "        var display = window.getComputedStyle(gd).display;\n",
       "        if (!display || display === 'none') {{\n",
       "            console.log([gd, 'removed!']);\n",
       "            Plotly.purge(gd);\n",
       "            observer.disconnect();\n",
       "        }}\n",
       "}});\n",
       "\n",
       "// Listen for the removal of the full notebook cells\n",
       "var notebookContainer = gd.closest('#notebook-container');\n",
       "if (notebookContainer) {{\n",
       "    x.observe(notebookContainer, {childList: true});\n",
       "}}\n",
       "\n",
       "// Listen for the clearing of the current output cell\n",
       "var outputEl = gd.closest('.output');\n",
       "if (outputEl) {{\n",
       "    x.observe(outputEl, {childList: true});\n",
       "}}\n",
       "\n",
       "                        })                };                });            </script>        </div>"
      ]
     },
     "metadata": {},
     "output_type": "display_data"
    },
    {
     "data": {
      "application/javascript": [
       "\n",
       "            setTimeout(function() {\n",
       "                var nbb_cell_id = 105;\n",
       "                var nbb_unformatted_code = \"kfoldMSE = pd.DataFrame({\\\"lambda\\\": alphas, \\\"MSE\\\": listMSE})\\n\\nminMSEindex = kfoldMSE[\\\"MSE\\\"].idxmin()\\nminMSErow = kfoldMSE.iloc[minMSEindex]\\n\\nfig = go.Figure(\\n    data=px.scatter(\\n        kfoldMSE,\\n        x=\\\"lambda\\\",\\n        y=\\\"MSE\\\",\\n        labels={\\\"lambda\\\": \\\"Ridge Parameter\\\", \\\"MSE\\\": \\\"Mean Squared Error\\\"},\\n        title=\\\"MSE with K-Fold Cross Validation w/ 30/70 Test Train Ratio\\\",\\n    )\\n)\\n\\nfig.add_trace(\\n    go.Scatter(\\n        x=[minMSErow.loc[\\\"lambda\\\"]], y=[minMSErow.loc[\\\"MSE\\\"]], name=\\\"Minimum MSE\\\"\\n    )\\n)\\n\\nfig.show()\\n\\n# Looks like 0.21 is the best value\";\n",
       "                var nbb_formatted_code = \"kfoldMSE = pd.DataFrame({\\\"lambda\\\": alphas, \\\"MSE\\\": listMSE})\\n\\nminMSEindex = kfoldMSE[\\\"MSE\\\"].idxmin()\\nminMSErow = kfoldMSE.iloc[minMSEindex]\\n\\nfig = go.Figure(\\n    data=px.scatter(\\n        kfoldMSE,\\n        x=\\\"lambda\\\",\\n        y=\\\"MSE\\\",\\n        labels={\\\"lambda\\\": \\\"Ridge Parameter\\\", \\\"MSE\\\": \\\"Mean Squared Error\\\"},\\n        title=\\\"MSE with K-Fold Cross Validation w/ 30/70 Test Train Ratio\\\",\\n    )\\n)\\n\\nfig.add_trace(\\n    go.Scatter(\\n        x=[minMSErow.loc[\\\"lambda\\\"]], y=[minMSErow.loc[\\\"MSE\\\"]], name=\\\"Minimum MSE\\\"\\n    )\\n)\\n\\nfig.show()\\n\\n# Looks like 0.21 is the best value\";\n",
       "                var nbb_cells = Jupyter.notebook.get_cells();\n",
       "                for (var i = 0; i < nbb_cells.length; ++i) {\n",
       "                    if (nbb_cells[i].input_prompt_number == nbb_cell_id) {\n",
       "                        if (nbb_cells[i].get_text() == nbb_unformatted_code) {\n",
       "                             nbb_cells[i].set_text(nbb_formatted_code);\n",
       "                        }\n",
       "                        break;\n",
       "                    }\n",
       "                }\n",
       "            }, 500);\n",
       "            "
      ],
      "text/plain": [
       "<IPython.core.display.Javascript object>"
      ]
     },
     "metadata": {},
     "output_type": "display_data"
    }
   ],
   "source": [
    "kfoldMSE = pd.DataFrame({\"lambda\": alphas, \"MSE\": listMSE})\n",
    "\n",
    "minMSEindex = kfoldMSE[\"MSE\"].idxmin()\n",
    "minMSErow = kfoldMSE.iloc[minMSEindex]\n",
    "\n",
    "fig = go.Figure(\n",
    "    data=px.scatter(\n",
    "        kfoldMSE,\n",
    "        x=\"lambda\",\n",
    "        y=\"MSE\",\n",
    "        labels={\"lambda\": \"Ridge Parameter\", \"MSE\": \"Mean Squared Error\"},\n",
    "        title=\"MSE with K-Fold Cross Validation w/ 30/70 Test Train Ratio\",\n",
    "    )\n",
    ")\n",
    "\n",
    "fig.add_trace(\n",
    "    go.Scatter(\n",
    "        x=[minMSErow.loc[\"lambda\"]], y=[minMSErow.loc[\"MSE\"]], name=\"Minimum MSE\"\n",
    "    )\n",
    ")\n",
    "\n",
    "fig.show()\n",
    "\n",
    "# Looks like 0.21 is the best value"
   ]
  },
  {
   "cell_type": "code",
   "execution_count": 106,
   "id": "d7956e61",
   "metadata": {},
   "outputs": [
    {
     "data": {
      "text/html": [
       "<div>\n",
       "<style scoped>\n",
       "    .dataframe tbody tr th:only-of-type {\n",
       "        vertical-align: middle;\n",
       "    }\n",
       "\n",
       "    .dataframe tbody tr th {\n",
       "        vertical-align: top;\n",
       "    }\n",
       "\n",
       "    .dataframe thead th {\n",
       "        text-align: right;\n",
       "    }\n",
       "</style>\n",
       "<table border=\"1\" class=\"dataframe\">\n",
       "  <thead>\n",
       "    <tr style=\"text-align: right;\">\n",
       "      <th></th>\n",
       "      <th>coef</th>\n",
       "      <th>names</th>\n",
       "    </tr>\n",
       "  </thead>\n",
       "  <tbody>\n",
       "    <tr>\n",
       "      <th>23</th>\n",
       "      <td>47.588657</td>\n",
       "      <td>business_or_commercial_nob/c</td>\n",
       "    </tr>\n",
       "    <tr>\n",
       "      <th>11</th>\n",
       "      <td>46.607123</td>\n",
       "      <td>Secured_by_land</td>\n",
       "    </tr>\n",
       "    <tr>\n",
       "      <th>14</th>\n",
       "      <td>46.607123</td>\n",
       "      <td>Security_Type_Indriect</td>\n",
       "    </tr>\n",
       "    <tr>\n",
       "      <th>12</th>\n",
       "      <td>46.607123</td>\n",
       "      <td>construction_type_mh</td>\n",
       "    </tr>\n",
       "    <tr>\n",
       "      <th>20</th>\n",
       "      <td>42.823652</td>\n",
       "      <td>lump_sum_payment_lpsm</td>\n",
       "    </tr>\n",
       "    <tr>\n",
       "      <th>25</th>\n",
       "      <td>42.507882</td>\n",
       "      <td>open_credit_opc</td>\n",
       "    </tr>\n",
       "    <tr>\n",
       "      <th>17</th>\n",
       "      <td>42.499711</td>\n",
       "      <td>interest_only_not_int</td>\n",
       "    </tr>\n",
       "    <tr>\n",
       "      <th>4</th>\n",
       "      <td>42.455951</td>\n",
       "      <td>loan_limit_cf</td>\n",
       "    </tr>\n",
       "    <tr>\n",
       "      <th>27</th>\n",
       "      <td>42.236549</td>\n",
       "      <td>Credit_Worthiness_l2</td>\n",
       "    </tr>\n",
       "    <tr>\n",
       "      <th>28</th>\n",
       "      <td>42.176366</td>\n",
       "      <td>approv_in_adv_nopre</td>\n",
       "    </tr>\n",
       "    <tr>\n",
       "      <th>8</th>\n",
       "      <td>42.017946</td>\n",
       "      <td>co-applicant_credit_type_CIB</td>\n",
       "    </tr>\n",
       "    <tr>\n",
       "      <th>19</th>\n",
       "      <td>42.004286</td>\n",
       "      <td>Neg_ammortization_not_neg</td>\n",
       "    </tr>\n",
       "    <tr>\n",
       "      <th>6</th>\n",
       "      <td>41.904842</td>\n",
       "      <td>submission_of_application_not_inst</td>\n",
       "    </tr>\n",
       "    <tr>\n",
       "      <th>7</th>\n",
       "      <td>41.892850</td>\n",
       "      <td>submission_of_application_to_inst</td>\n",
       "    </tr>\n",
       "    <tr>\n",
       "      <th>18</th>\n",
       "      <td>41.793407</td>\n",
       "      <td>Neg_ammortization_neg_amm</td>\n",
       "    </tr>\n",
       "  </tbody>\n",
       "</table>\n",
       "</div>"
      ],
      "text/plain": [
       "         coef                               names\n",
       "23  47.588657        business_or_commercial_nob/c\n",
       "11  46.607123                     Secured_by_land\n",
       "14  46.607123              Security_Type_Indriect\n",
       "12  46.607123                construction_type_mh\n",
       "20  42.823652               lump_sum_payment_lpsm\n",
       "25  42.507882                     open_credit_opc\n",
       "17  42.499711               interest_only_not_int\n",
       "4   42.455951                       loan_limit_cf\n",
       "27  42.236549                Credit_Worthiness_l2\n",
       "28  42.176366                 approv_in_adv_nopre\n",
       "8   42.017946        co-applicant_credit_type_CIB\n",
       "19  42.004286           Neg_ammortization_not_neg\n",
       "6   41.904842  submission_of_application_not_inst\n",
       "7   41.892850   submission_of_application_to_inst\n",
       "18  41.793407           Neg_ammortization_neg_amm"
      ]
     },
     "metadata": {},
     "output_type": "display_data"
    },
    {
     "data": {
      "text/html": [
       "<div>\n",
       "<style scoped>\n",
       "    .dataframe tbody tr th:only-of-type {\n",
       "        vertical-align: middle;\n",
       "    }\n",
       "\n",
       "    .dataframe tbody tr th {\n",
       "        vertical-align: top;\n",
       "    }\n",
       "\n",
       "    .dataframe thead th {\n",
       "        text-align: right;\n",
       "    }\n",
       "</style>\n",
       "<table border=\"1\" class=\"dataframe\">\n",
       "  <thead>\n",
       "    <tr style=\"text-align: right;\">\n",
       "      <th></th>\n",
       "      <th>coef</th>\n",
       "      <th>names</th>\n",
       "    </tr>\n",
       "  </thead>\n",
       "  <tbody>\n",
       "    <tr>\n",
       "      <th>61</th>\n",
       "      <td>19.740089</td>\n",
       "      <td>age_&lt;25</td>\n",
       "    </tr>\n",
       "    <tr>\n",
       "      <th>43</th>\n",
       "      <td>19.486306</td>\n",
       "      <td>total_units_4U</td>\n",
       "    </tr>\n",
       "    <tr>\n",
       "      <th>53</th>\n",
       "      <td>19.080798</td>\n",
       "      <td>Region_North-East</td>\n",
       "    </tr>\n",
       "    <tr>\n",
       "      <th>41</th>\n",
       "      <td>15.533987</td>\n",
       "      <td>total_units_2U</td>\n",
       "    </tr>\n",
       "    <tr>\n",
       "      <th>40</th>\n",
       "      <td>13.644814</td>\n",
       "      <td>total_units_1U</td>\n",
       "    </tr>\n",
       "    <tr>\n",
       "      <th>56</th>\n",
       "      <td>12.082402</td>\n",
       "      <td>age_25-34</td>\n",
       "    </tr>\n",
       "    <tr>\n",
       "      <th>58</th>\n",
       "      <td>11.723243</td>\n",
       "      <td>age_45-54</td>\n",
       "    </tr>\n",
       "    <tr>\n",
       "      <th>57</th>\n",
       "      <td>11.477943</td>\n",
       "      <td>age_35-44</td>\n",
       "    </tr>\n",
       "    <tr>\n",
       "      <th>60</th>\n",
       "      <td>11.261859</td>\n",
       "      <td>age_65-74</td>\n",
       "    </tr>\n",
       "    <tr>\n",
       "      <th>59</th>\n",
       "      <td>10.198157</td>\n",
       "      <td>age_55-64</td>\n",
       "    </tr>\n",
       "    <tr>\n",
       "      <th>62</th>\n",
       "      <td>7.314000</td>\n",
       "      <td>age_&gt;74</td>\n",
       "    </tr>\n",
       "    <tr>\n",
       "      <th>0</th>\n",
       "      <td>0.718850</td>\n",
       "      <td>loan_amount</td>\n",
       "    </tr>\n",
       "    <tr>\n",
       "      <th>3</th>\n",
       "      <td>-0.156451</td>\n",
       "      <td>Status</td>\n",
       "    </tr>\n",
       "    <tr>\n",
       "      <th>2</th>\n",
       "      <td>-0.226952</td>\n",
       "      <td>income</td>\n",
       "    </tr>\n",
       "    <tr>\n",
       "      <th>1</th>\n",
       "      <td>-0.425655</td>\n",
       "      <td>term</td>\n",
       "    </tr>\n",
       "  </tbody>\n",
       "</table>\n",
       "</div>"
      ],
      "text/plain": [
       "         coef              names\n",
       "61  19.740089            age_<25\n",
       "43  19.486306     total_units_4U\n",
       "53  19.080798  Region_North-East\n",
       "41  15.533987     total_units_2U\n",
       "40  13.644814     total_units_1U\n",
       "56  12.082402          age_25-34\n",
       "58  11.723243          age_45-54\n",
       "57  11.477943          age_35-44\n",
       "60  11.261859          age_65-74\n",
       "59  10.198157          age_55-64\n",
       "62   7.314000            age_>74\n",
       "0    0.718850        loan_amount\n",
       "3   -0.156451             Status\n",
       "2   -0.226952             income\n",
       "1   -0.425655               term"
      ]
     },
     "metadata": {},
     "output_type": "display_data"
    },
    {
     "data": {
      "application/javascript": [
       "\n",
       "            setTimeout(function() {\n",
       "                var nbb_cell_id = 106;\n",
       "                var nbb_unformatted_code = \"# Now with our optimized lambda of 10 million\\n\\nbeta = sp.linalg.inv((Xtrain.T @ Xtrain) + 0.02 * I) @ Xtrain.T @ Ytrain\\n\\nYpred = Xtest.to_numpy() @ beta\\nmodel_coef = pd.DataFrame({\\\"coef\\\": beta, \\\"names\\\": variables})\\nsorted_model = model_coef[model_coef[\\\"coef\\\"] != 0].sort_values(\\n    by=\\\"coef\\\", ascending=False\\n)\\ndisplay(sorted_model.head(15))\\ndisplay(sorted_model.tail(15))\";\n",
       "                var nbb_formatted_code = \"# Now with our optimized lambda of 10 million\\n\\nbeta = sp.linalg.inv((Xtrain.T @ Xtrain) + 0.02 * I) @ Xtrain.T @ Ytrain\\n\\nYpred = Xtest.to_numpy() @ beta\\nmodel_coef = pd.DataFrame({\\\"coef\\\": beta, \\\"names\\\": variables})\\nsorted_model = model_coef[model_coef[\\\"coef\\\"] != 0].sort_values(\\n    by=\\\"coef\\\", ascending=False\\n)\\ndisplay(sorted_model.head(15))\\ndisplay(sorted_model.tail(15))\";\n",
       "                var nbb_cells = Jupyter.notebook.get_cells();\n",
       "                for (var i = 0; i < nbb_cells.length; ++i) {\n",
       "                    if (nbb_cells[i].input_prompt_number == nbb_cell_id) {\n",
       "                        if (nbb_cells[i].get_text() == nbb_unformatted_code) {\n",
       "                             nbb_cells[i].set_text(nbb_formatted_code);\n",
       "                        }\n",
       "                        break;\n",
       "                    }\n",
       "                }\n",
       "            }, 500);\n",
       "            "
      ],
      "text/plain": [
       "<IPython.core.display.Javascript object>"
      ]
     },
     "metadata": {},
     "output_type": "display_data"
    }
   ],
   "source": [
    "# Now with our optimized lambda of 10 million\n",
    "\n",
    "beta = sp.linalg.inv((Xtrain.T @ Xtrain) + 0.02 * I) @ Xtrain.T @ Ytrain\n",
    "\n",
    "Ypred = Xtest.to_numpy() @ beta\n",
    "model_coef = pd.DataFrame({\"coef\": beta, \"names\": variables})\n",
    "sorted_model = model_coef[model_coef[\"coef\"] != 0].sort_values(\n",
    "    by=\"coef\", ascending=False\n",
    ")\n",
    "display(sorted_model.head(15))\n",
    "display(sorted_model.tail(15))"
   ]
  },
  {
   "cell_type": "code",
   "execution_count": 102,
   "id": "4f084af1",
   "metadata": {},
   "outputs": [
    {
     "name": "stdout",
     "output_type": "stream",
     "text": [
      "--- 150.68269038200378 seconds ---\n"
     ]
    },
    {
     "data": {
      "application/javascript": [
       "\n",
       "            setTimeout(function() {\n",
       "                var nbb_cell_id = 102;\n",
       "                var nbb_unformatted_code = \"start = time.time()\\n\\n\\ndef KfoldCV(X, Y, alphas, k):\\n    masterList = np.array([])  # what we return\\n    MSElist = np.array([])\\n    for l2 in alphas:\\n        for i in range(k):\\n            Xtrain, Xtest, Ytrain, Ytest = train_test_split(X, Y, test_size=0.5)\\n\\n            n, m = Xtrain.shape\\n            I = np.identity(m)\\n            # Beta vector\\n            beta = sp.linalg.inv((Xtrain.T @ Xtrain) + l2 * I) @ Xtrain.T @ Ytrain\\n\\n            Ypred = Xtest @ beta\\n            MSE = mean_squared_error(Ytest, Ypred)\\n\\n            MSElist = np.append(MSElist, MSE)\\n\\n        masterList = np.append(masterList, np.mean(MSElist))\\n\\n    return masterList\\n\\n\\nalphas_small = np.arange(0, 1000, 10)\\nlistMSE_5050 = KfoldCV(Xnewstand.to_numpy(), y, alphas, 5)\\nprint(\\\"--- %s seconds ---\\\" % (time.time() - start))\";\n",
       "                var nbb_formatted_code = \"start = time.time()\\n\\n\\ndef KfoldCV(X, Y, alphas, k):\\n    masterList = np.array([])  # what we return\\n    MSElist = np.array([])\\n    for l2 in alphas:\\n        for i in range(k):\\n            Xtrain, Xtest, Ytrain, Ytest = train_test_split(X, Y, test_size=0.5)\\n\\n            n, m = Xtrain.shape\\n            I = np.identity(m)\\n            # Beta vector\\n            beta = sp.linalg.inv((Xtrain.T @ Xtrain) + l2 * I) @ Xtrain.T @ Ytrain\\n\\n            Ypred = Xtest @ beta\\n            MSE = mean_squared_error(Ytest, Ypred)\\n\\n            MSElist = np.append(MSElist, MSE)\\n\\n        masterList = np.append(masterList, np.mean(MSElist))\\n\\n    return masterList\\n\\n\\nalphas_small = np.arange(0, 1000, 10)\\nlistMSE_5050 = KfoldCV(Xnewstand.to_numpy(), y, alphas, 5)\\nprint(\\\"--- %s seconds ---\\\" % (time.time() - start))\";\n",
       "                var nbb_cells = Jupyter.notebook.get_cells();\n",
       "                for (var i = 0; i < nbb_cells.length; ++i) {\n",
       "                    if (nbb_cells[i].input_prompt_number == nbb_cell_id) {\n",
       "                        if (nbb_cells[i].get_text() == nbb_unformatted_code) {\n",
       "                             nbb_cells[i].set_text(nbb_formatted_code);\n",
       "                        }\n",
       "                        break;\n",
       "                    }\n",
       "                }\n",
       "            }, 500);\n",
       "            "
      ],
      "text/plain": [
       "<IPython.core.display.Javascript object>"
      ]
     },
     "metadata": {},
     "output_type": "display_data"
    }
   ],
   "source": [
    "start = time.time()\n",
    "\n",
    "\n",
    "def KfoldCV(X, Y, alphas, k):\n",
    "    masterList = np.array([])  # what we return\n",
    "    MSElist = np.array([])\n",
    "    for l2 in alphas:\n",
    "        for i in range(k):\n",
    "            Xtrain, Xtest, Ytrain, Ytest = train_test_split(X, Y, test_size=0.5)\n",
    "\n",
    "            n, m = Xtrain.shape\n",
    "            I = np.identity(m)\n",
    "            # Beta vector\n",
    "            beta = sp.linalg.inv((Xtrain.T @ Xtrain) + l2 * I) @ Xtrain.T @ Ytrain\n",
    "\n",
    "            Ypred = Xtest @ beta\n",
    "            MSE = mean_squared_error(Ytest, Ypred)\n",
    "\n",
    "            MSElist = np.append(MSElist, MSE)\n",
    "\n",
    "        masterList = np.append(masterList, np.mean(MSElist))\n",
    "\n",
    "    return masterList\n",
    "\n",
    "\n",
    "alphas_small = np.arange(0, 1000, 10)\n",
    "listMSE_5050 = KfoldCV(Xnewstand.to_numpy(), y, alphas, 5)\n",
    "print(\"--- %s seconds ---\" % (time.time() - start))"
   ]
  },
  {
   "cell_type": "code",
   "execution_count": 103,
   "id": "e747f936",
   "metadata": {
    "scrolled": false
   },
   "outputs": [
    {
     "data": {
      "application/vnd.plotly.v1+json": {
       "config": {
        "plotlyServerURL": "https://plot.ly"
       },
       "data": [
        {
         "hovertemplate": "Ridge Parameter=%{x}<br>Mean Squared Error=%{y}<extra></extra>",
         "legendgroup": "",
         "marker": {
          "color": "#636efa",
          "symbol": "circle"
         },
         "mode": "markers",
         "name": "",
         "orientation": "v",
         "showlegend": false,
         "type": "scatter",
         "x": [
          0.01,
          0.02,
          0.03,
          0.04,
          0.05,
          0.060000000000000005,
          0.06999999999999999,
          0.08,
          0.09,
          0.09999999999999999,
          0.11,
          0.12,
          0.13,
          0.14,
          0.15000000000000002,
          0.16,
          0.17,
          0.18000000000000002,
          0.19,
          0.2,
          0.21000000000000002,
          0.22,
          0.23,
          0.24000000000000002,
          0.25,
          0.26,
          0.27,
          0.28,
          0.29000000000000004,
          0.3,
          0.31,
          0.32,
          0.33,
          0.34,
          0.35000000000000003,
          0.36000000000000004,
          0.37,
          0.38,
          0.39,
          0.4,
          0.41000000000000003,
          0.42000000000000004,
          0.43,
          0.44,
          0.45,
          0.46,
          0.47000000000000003,
          0.48000000000000004,
          0.49,
          0.5,
          0.51,
          0.52,
          0.53,
          0.54,
          0.55,
          0.56,
          0.5700000000000001,
          0.5800000000000001,
          0.59,
          0.6,
          0.61,
          0.62,
          0.63,
          0.64,
          0.65,
          0.66,
          0.67,
          0.68,
          0.6900000000000001,
          0.7000000000000001,
          0.7100000000000001,
          0.72,
          0.73,
          0.74,
          0.75,
          0.76,
          0.77,
          0.78,
          0.79,
          0.8,
          0.81,
          0.8200000000000001,
          0.8300000000000001,
          0.8400000000000001,
          0.85,
          0.86,
          0.87,
          0.88,
          0.89,
          0.9,
          0.91,
          0.92,
          0.93,
          0.9400000000000001,
          0.9500000000000001,
          0.9600000000000001,
          0.97,
          0.98,
          0.99
         ],
         "xaxis": "x",
         "y": [
          13415.26309918504,
          13418.485437928026,
          13413.982693571455,
          13426.992534729166,
          13427.740952322594,
          13428.415563570274,
          13429.16097332639,
          13428.42366528947,
          13427.825660391887,
          13428.431894416204,
          13429.669581386703,
          13429.592726120325,
          13430.175529849714,
          13430.68347787908,
          13431.879973515206,
          13430.981213900348,
          13431.620214328786,
          13429.997408360867,
          13430.015165072316,
          13429.947488311578,
          13428.960109713791,
          13428.03434937441,
          13427.083999228167,
          13427.560747603024,
          13427.87989933627,
          13428.331752045386,
          13428.974069885016,
          13429.240929922125,
          13428.934138778844,
          13429.33121728938,
          13428.867144128071,
          13429.74826168118,
          13428.817342946351,
          13429.582362608737,
          13429.877614426296,
          13429.845728492846,
          13430.37241573843,
          13430.236833840952,
          13430.391990642527,
          13430.843036434622,
          13431.215985819772,
          13431.159034599435,
          13431.718937235048,
          13431.484916520643,
          13431.228508060882,
          13431.24602735007,
          13431.588983969548,
          13431.512394242727,
          13431.227194962448,
          13430.765588806556,
          13431.045974720877,
          13431.110843382232,
          13431.183449021475,
          13431.352443776186,
          13431.7467610116,
          13431.423987193506,
          13431.26548453765,
          13430.992376813267,
          13430.754058152554,
          13430.394472617969,
          13430.310509729776,
          13430.436049239755,
          13430.405105027081,
          13430.35747815746,
          13430.38537979661,
          13430.503802885567,
          13430.829014756948,
          13430.630662755257,
          13430.625080959358,
          13431.055086059092,
          13430.911907758224,
          13430.906582802229,
          13430.809453712394,
          13430.55832906379,
          13430.763288415494,
          13430.908873209097,
          13430.938997580472,
          13430.883615198918,
          13430.797362449048,
          13430.84256939682,
          13430.700397339431,
          13430.69665659189,
          13430.530595754233,
          13430.384245181656,
          13430.110661606062,
          13429.902460615314,
          13429.95541884769,
          13429.96533533148,
          13430.273013303451,
          13430.24147849003,
          13430.146877736397,
          13430.189763165925,
          13430.238087052841,
          13430.209508933105,
          13430.302675372295,
          13430.33595184742,
          13430.333990238674,
          13430.29281489497,
          13430.474092888813
         ],
         "yaxis": "y"
        },
        {
         "name": "Minimum MSE",
         "type": "scatter",
         "x": [
          0.03
         ],
         "y": [
          13413.982693571455
         ]
        }
       ],
       "layout": {
        "legend": {
         "tracegroupgap": 0
        },
        "template": {
         "data": {
          "bar": [
           {
            "error_x": {
             "color": "#2a3f5f"
            },
            "error_y": {
             "color": "#2a3f5f"
            },
            "marker": {
             "line": {
              "color": "#E5ECF6",
              "width": 0.5
             },
             "pattern": {
              "fillmode": "overlay",
              "size": 10,
              "solidity": 0.2
             }
            },
            "type": "bar"
           }
          ],
          "barpolar": [
           {
            "marker": {
             "line": {
              "color": "#E5ECF6",
              "width": 0.5
             },
             "pattern": {
              "fillmode": "overlay",
              "size": 10,
              "solidity": 0.2
             }
            },
            "type": "barpolar"
           }
          ],
          "carpet": [
           {
            "aaxis": {
             "endlinecolor": "#2a3f5f",
             "gridcolor": "white",
             "linecolor": "white",
             "minorgridcolor": "white",
             "startlinecolor": "#2a3f5f"
            },
            "baxis": {
             "endlinecolor": "#2a3f5f",
             "gridcolor": "white",
             "linecolor": "white",
             "minorgridcolor": "white",
             "startlinecolor": "#2a3f5f"
            },
            "type": "carpet"
           }
          ],
          "choropleth": [
           {
            "colorbar": {
             "outlinewidth": 0,
             "ticks": ""
            },
            "type": "choropleth"
           }
          ],
          "contour": [
           {
            "colorbar": {
             "outlinewidth": 0,
             "ticks": ""
            },
            "colorscale": [
             [
              0,
              "#0d0887"
             ],
             [
              0.1111111111111111,
              "#46039f"
             ],
             [
              0.2222222222222222,
              "#7201a8"
             ],
             [
              0.3333333333333333,
              "#9c179e"
             ],
             [
              0.4444444444444444,
              "#bd3786"
             ],
             [
              0.5555555555555556,
              "#d8576b"
             ],
             [
              0.6666666666666666,
              "#ed7953"
             ],
             [
              0.7777777777777778,
              "#fb9f3a"
             ],
             [
              0.8888888888888888,
              "#fdca26"
             ],
             [
              1,
              "#f0f921"
             ]
            ],
            "type": "contour"
           }
          ],
          "contourcarpet": [
           {
            "colorbar": {
             "outlinewidth": 0,
             "ticks": ""
            },
            "type": "contourcarpet"
           }
          ],
          "heatmap": [
           {
            "colorbar": {
             "outlinewidth": 0,
             "ticks": ""
            },
            "colorscale": [
             [
              0,
              "#0d0887"
             ],
             [
              0.1111111111111111,
              "#46039f"
             ],
             [
              0.2222222222222222,
              "#7201a8"
             ],
             [
              0.3333333333333333,
              "#9c179e"
             ],
             [
              0.4444444444444444,
              "#bd3786"
             ],
             [
              0.5555555555555556,
              "#d8576b"
             ],
             [
              0.6666666666666666,
              "#ed7953"
             ],
             [
              0.7777777777777778,
              "#fb9f3a"
             ],
             [
              0.8888888888888888,
              "#fdca26"
             ],
             [
              1,
              "#f0f921"
             ]
            ],
            "type": "heatmap"
           }
          ],
          "heatmapgl": [
           {
            "colorbar": {
             "outlinewidth": 0,
             "ticks": ""
            },
            "colorscale": [
             [
              0,
              "#0d0887"
             ],
             [
              0.1111111111111111,
              "#46039f"
             ],
             [
              0.2222222222222222,
              "#7201a8"
             ],
             [
              0.3333333333333333,
              "#9c179e"
             ],
             [
              0.4444444444444444,
              "#bd3786"
             ],
             [
              0.5555555555555556,
              "#d8576b"
             ],
             [
              0.6666666666666666,
              "#ed7953"
             ],
             [
              0.7777777777777778,
              "#fb9f3a"
             ],
             [
              0.8888888888888888,
              "#fdca26"
             ],
             [
              1,
              "#f0f921"
             ]
            ],
            "type": "heatmapgl"
           }
          ],
          "histogram": [
           {
            "marker": {
             "pattern": {
              "fillmode": "overlay",
              "size": 10,
              "solidity": 0.2
             }
            },
            "type": "histogram"
           }
          ],
          "histogram2d": [
           {
            "colorbar": {
             "outlinewidth": 0,
             "ticks": ""
            },
            "colorscale": [
             [
              0,
              "#0d0887"
             ],
             [
              0.1111111111111111,
              "#46039f"
             ],
             [
              0.2222222222222222,
              "#7201a8"
             ],
             [
              0.3333333333333333,
              "#9c179e"
             ],
             [
              0.4444444444444444,
              "#bd3786"
             ],
             [
              0.5555555555555556,
              "#d8576b"
             ],
             [
              0.6666666666666666,
              "#ed7953"
             ],
             [
              0.7777777777777778,
              "#fb9f3a"
             ],
             [
              0.8888888888888888,
              "#fdca26"
             ],
             [
              1,
              "#f0f921"
             ]
            ],
            "type": "histogram2d"
           }
          ],
          "histogram2dcontour": [
           {
            "colorbar": {
             "outlinewidth": 0,
             "ticks": ""
            },
            "colorscale": [
             [
              0,
              "#0d0887"
             ],
             [
              0.1111111111111111,
              "#46039f"
             ],
             [
              0.2222222222222222,
              "#7201a8"
             ],
             [
              0.3333333333333333,
              "#9c179e"
             ],
             [
              0.4444444444444444,
              "#bd3786"
             ],
             [
              0.5555555555555556,
              "#d8576b"
             ],
             [
              0.6666666666666666,
              "#ed7953"
             ],
             [
              0.7777777777777778,
              "#fb9f3a"
             ],
             [
              0.8888888888888888,
              "#fdca26"
             ],
             [
              1,
              "#f0f921"
             ]
            ],
            "type": "histogram2dcontour"
           }
          ],
          "mesh3d": [
           {
            "colorbar": {
             "outlinewidth": 0,
             "ticks": ""
            },
            "type": "mesh3d"
           }
          ],
          "parcoords": [
           {
            "line": {
             "colorbar": {
              "outlinewidth": 0,
              "ticks": ""
             }
            },
            "type": "parcoords"
           }
          ],
          "pie": [
           {
            "automargin": true,
            "type": "pie"
           }
          ],
          "scatter": [
           {
            "marker": {
             "colorbar": {
              "outlinewidth": 0,
              "ticks": ""
             }
            },
            "type": "scatter"
           }
          ],
          "scatter3d": [
           {
            "line": {
             "colorbar": {
              "outlinewidth": 0,
              "ticks": ""
             }
            },
            "marker": {
             "colorbar": {
              "outlinewidth": 0,
              "ticks": ""
             }
            },
            "type": "scatter3d"
           }
          ],
          "scattercarpet": [
           {
            "marker": {
             "colorbar": {
              "outlinewidth": 0,
              "ticks": ""
             }
            },
            "type": "scattercarpet"
           }
          ],
          "scattergeo": [
           {
            "marker": {
             "colorbar": {
              "outlinewidth": 0,
              "ticks": ""
             }
            },
            "type": "scattergeo"
           }
          ],
          "scattergl": [
           {
            "marker": {
             "colorbar": {
              "outlinewidth": 0,
              "ticks": ""
             }
            },
            "type": "scattergl"
           }
          ],
          "scattermapbox": [
           {
            "marker": {
             "colorbar": {
              "outlinewidth": 0,
              "ticks": ""
             }
            },
            "type": "scattermapbox"
           }
          ],
          "scatterpolar": [
           {
            "marker": {
             "colorbar": {
              "outlinewidth": 0,
              "ticks": ""
             }
            },
            "type": "scatterpolar"
           }
          ],
          "scatterpolargl": [
           {
            "marker": {
             "colorbar": {
              "outlinewidth": 0,
              "ticks": ""
             }
            },
            "type": "scatterpolargl"
           }
          ],
          "scatterternary": [
           {
            "marker": {
             "colorbar": {
              "outlinewidth": 0,
              "ticks": ""
             }
            },
            "type": "scatterternary"
           }
          ],
          "surface": [
           {
            "colorbar": {
             "outlinewidth": 0,
             "ticks": ""
            },
            "colorscale": [
             [
              0,
              "#0d0887"
             ],
             [
              0.1111111111111111,
              "#46039f"
             ],
             [
              0.2222222222222222,
              "#7201a8"
             ],
             [
              0.3333333333333333,
              "#9c179e"
             ],
             [
              0.4444444444444444,
              "#bd3786"
             ],
             [
              0.5555555555555556,
              "#d8576b"
             ],
             [
              0.6666666666666666,
              "#ed7953"
             ],
             [
              0.7777777777777778,
              "#fb9f3a"
             ],
             [
              0.8888888888888888,
              "#fdca26"
             ],
             [
              1,
              "#f0f921"
             ]
            ],
            "type": "surface"
           }
          ],
          "table": [
           {
            "cells": {
             "fill": {
              "color": "#EBF0F8"
             },
             "line": {
              "color": "white"
             }
            },
            "header": {
             "fill": {
              "color": "#C8D4E3"
             },
             "line": {
              "color": "white"
             }
            },
            "type": "table"
           }
          ]
         },
         "layout": {
          "annotationdefaults": {
           "arrowcolor": "#2a3f5f",
           "arrowhead": 0,
           "arrowwidth": 1
          },
          "autotypenumbers": "strict",
          "coloraxis": {
           "colorbar": {
            "outlinewidth": 0,
            "ticks": ""
           }
          },
          "colorscale": {
           "diverging": [
            [
             0,
             "#8e0152"
            ],
            [
             0.1,
             "#c51b7d"
            ],
            [
             0.2,
             "#de77ae"
            ],
            [
             0.3,
             "#f1b6da"
            ],
            [
             0.4,
             "#fde0ef"
            ],
            [
             0.5,
             "#f7f7f7"
            ],
            [
             0.6,
             "#e6f5d0"
            ],
            [
             0.7,
             "#b8e186"
            ],
            [
             0.8,
             "#7fbc41"
            ],
            [
             0.9,
             "#4d9221"
            ],
            [
             1,
             "#276419"
            ]
           ],
           "sequential": [
            [
             0,
             "#0d0887"
            ],
            [
             0.1111111111111111,
             "#46039f"
            ],
            [
             0.2222222222222222,
             "#7201a8"
            ],
            [
             0.3333333333333333,
             "#9c179e"
            ],
            [
             0.4444444444444444,
             "#bd3786"
            ],
            [
             0.5555555555555556,
             "#d8576b"
            ],
            [
             0.6666666666666666,
             "#ed7953"
            ],
            [
             0.7777777777777778,
             "#fb9f3a"
            ],
            [
             0.8888888888888888,
             "#fdca26"
            ],
            [
             1,
             "#f0f921"
            ]
           ],
           "sequentialminus": [
            [
             0,
             "#0d0887"
            ],
            [
             0.1111111111111111,
             "#46039f"
            ],
            [
             0.2222222222222222,
             "#7201a8"
            ],
            [
             0.3333333333333333,
             "#9c179e"
            ],
            [
             0.4444444444444444,
             "#bd3786"
            ],
            [
             0.5555555555555556,
             "#d8576b"
            ],
            [
             0.6666666666666666,
             "#ed7953"
            ],
            [
             0.7777777777777778,
             "#fb9f3a"
            ],
            [
             0.8888888888888888,
             "#fdca26"
            ],
            [
             1,
             "#f0f921"
            ]
           ]
          },
          "colorway": [
           "#636efa",
           "#EF553B",
           "#00cc96",
           "#ab63fa",
           "#FFA15A",
           "#19d3f3",
           "#FF6692",
           "#B6E880",
           "#FF97FF",
           "#FECB52"
          ],
          "font": {
           "color": "#2a3f5f"
          },
          "geo": {
           "bgcolor": "white",
           "lakecolor": "white",
           "landcolor": "#E5ECF6",
           "showlakes": true,
           "showland": true,
           "subunitcolor": "white"
          },
          "hoverlabel": {
           "align": "left"
          },
          "hovermode": "closest",
          "mapbox": {
           "style": "light"
          },
          "paper_bgcolor": "white",
          "plot_bgcolor": "#E5ECF6",
          "polar": {
           "angularaxis": {
            "gridcolor": "white",
            "linecolor": "white",
            "ticks": ""
           },
           "bgcolor": "#E5ECF6",
           "radialaxis": {
            "gridcolor": "white",
            "linecolor": "white",
            "ticks": ""
           }
          },
          "scene": {
           "xaxis": {
            "backgroundcolor": "#E5ECF6",
            "gridcolor": "white",
            "gridwidth": 2,
            "linecolor": "white",
            "showbackground": true,
            "ticks": "",
            "zerolinecolor": "white"
           },
           "yaxis": {
            "backgroundcolor": "#E5ECF6",
            "gridcolor": "white",
            "gridwidth": 2,
            "linecolor": "white",
            "showbackground": true,
            "ticks": "",
            "zerolinecolor": "white"
           },
           "zaxis": {
            "backgroundcolor": "#E5ECF6",
            "gridcolor": "white",
            "gridwidth": 2,
            "linecolor": "white",
            "showbackground": true,
            "ticks": "",
            "zerolinecolor": "white"
           }
          },
          "shapedefaults": {
           "line": {
            "color": "#2a3f5f"
           }
          },
          "ternary": {
           "aaxis": {
            "gridcolor": "white",
            "linecolor": "white",
            "ticks": ""
           },
           "baxis": {
            "gridcolor": "white",
            "linecolor": "white",
            "ticks": ""
           },
           "bgcolor": "#E5ECF6",
           "caxis": {
            "gridcolor": "white",
            "linecolor": "white",
            "ticks": ""
           }
          },
          "title": {
           "x": 0.05
          },
          "xaxis": {
           "automargin": true,
           "gridcolor": "white",
           "linecolor": "white",
           "ticks": "",
           "title": {
            "standoff": 15
           },
           "zerolinecolor": "white",
           "zerolinewidth": 2
          },
          "yaxis": {
           "automargin": true,
           "gridcolor": "white",
           "linecolor": "white",
           "ticks": "",
           "title": {
            "standoff": 15
           },
           "zerolinecolor": "white",
           "zerolinewidth": 2
          }
         }
        },
        "title": {
         "text": "MSE with K-Fold Cross Validation w/ 50/50 Test Train Ratio"
        },
        "xaxis": {
         "anchor": "y",
         "domain": [
          0,
          1
         ],
         "title": {
          "text": "Ridge Parameter"
         }
        },
        "yaxis": {
         "anchor": "x",
         "domain": [
          0,
          1
         ],
         "title": {
          "text": "Mean Squared Error"
         }
        }
       }
      },
      "text/html": [
       "<div>                            <div id=\"b4c698b7-5fb8-4efc-8e10-d95f74a97375\" class=\"plotly-graph-div\" style=\"height:525px; width:100%;\"></div>            <script type=\"text/javascript\">                require([\"plotly\"], function(Plotly) {                    window.PLOTLYENV=window.PLOTLYENV || {};                                    if (document.getElementById(\"b4c698b7-5fb8-4efc-8e10-d95f74a97375\")) {                    Plotly.newPlot(                        \"b4c698b7-5fb8-4efc-8e10-d95f74a97375\",                        [{\"hovertemplate\":\"Ridge Parameter=%{x}<br>Mean Squared Error=%{y}<extra></extra>\",\"legendgroup\":\"\",\"marker\":{\"color\":\"#636efa\",\"symbol\":\"circle\"},\"mode\":\"markers\",\"name\":\"\",\"orientation\":\"v\",\"showlegend\":false,\"x\":[0.01,0.02,0.03,0.04,0.05,0.060000000000000005,0.06999999999999999,0.08,0.09,0.09999999999999999,0.11,0.12,0.13,0.14,0.15000000000000002,0.16,0.17,0.18000000000000002,0.19,0.2,0.21000000000000002,0.22,0.23,0.24000000000000002,0.25,0.26,0.27,0.28,0.29000000000000004,0.3,0.31,0.32,0.33,0.34,0.35000000000000003,0.36000000000000004,0.37,0.38,0.39,0.4,0.41000000000000003,0.42000000000000004,0.43,0.44,0.45,0.46,0.47000000000000003,0.48000000000000004,0.49,0.5,0.51,0.52,0.53,0.54,0.55,0.56,0.5700000000000001,0.5800000000000001,0.59,0.6,0.61,0.62,0.63,0.64,0.65,0.66,0.67,0.68,0.6900000000000001,0.7000000000000001,0.7100000000000001,0.72,0.73,0.74,0.75,0.76,0.77,0.78,0.79,0.8,0.81,0.8200000000000001,0.8300000000000001,0.8400000000000001,0.85,0.86,0.87,0.88,0.89,0.9,0.91,0.92,0.93,0.9400000000000001,0.9500000000000001,0.9600000000000001,0.97,0.98,0.99],\"xaxis\":\"x\",\"y\":[13415.26309918504,13418.485437928026,13413.982693571455,13426.992534729166,13427.740952322594,13428.415563570274,13429.16097332639,13428.42366528947,13427.825660391887,13428.431894416204,13429.669581386703,13429.592726120325,13430.175529849714,13430.68347787908,13431.879973515206,13430.981213900348,13431.620214328786,13429.997408360867,13430.015165072316,13429.947488311578,13428.960109713791,13428.03434937441,13427.083999228167,13427.560747603024,13427.87989933627,13428.331752045386,13428.974069885016,13429.240929922125,13428.934138778844,13429.33121728938,13428.867144128071,13429.74826168118,13428.817342946351,13429.582362608737,13429.877614426296,13429.845728492846,13430.37241573843,13430.236833840952,13430.391990642527,13430.843036434622,13431.215985819772,13431.159034599435,13431.718937235048,13431.484916520643,13431.228508060882,13431.24602735007,13431.588983969548,13431.512394242727,13431.227194962448,13430.765588806556,13431.045974720877,13431.110843382232,13431.183449021475,13431.352443776186,13431.7467610116,13431.423987193506,13431.26548453765,13430.992376813267,13430.754058152554,13430.394472617969,13430.310509729776,13430.436049239755,13430.405105027081,13430.35747815746,13430.38537979661,13430.503802885567,13430.829014756948,13430.630662755257,13430.625080959358,13431.055086059092,13430.911907758224,13430.906582802229,13430.809453712394,13430.55832906379,13430.763288415494,13430.908873209097,13430.938997580472,13430.883615198918,13430.797362449048,13430.84256939682,13430.700397339431,13430.69665659189,13430.530595754233,13430.384245181656,13430.110661606062,13429.902460615314,13429.95541884769,13429.96533533148,13430.273013303451,13430.24147849003,13430.146877736397,13430.189763165925,13430.238087052841,13430.209508933105,13430.302675372295,13430.33595184742,13430.333990238674,13430.29281489497,13430.474092888813],\"yaxis\":\"y\",\"type\":\"scatter\"},{\"name\":\"Minimum MSE\",\"x\":[0.03],\"y\":[13413.982693571455],\"type\":\"scatter\"}],                        {\"legend\":{\"tracegroupgap\":0},\"template\":{\"data\":{\"barpolar\":[{\"marker\":{\"line\":{\"color\":\"#E5ECF6\",\"width\":0.5},\"pattern\":{\"fillmode\":\"overlay\",\"size\":10,\"solidity\":0.2}},\"type\":\"barpolar\"}],\"bar\":[{\"error_x\":{\"color\":\"#2a3f5f\"},\"error_y\":{\"color\":\"#2a3f5f\"},\"marker\":{\"line\":{\"color\":\"#E5ECF6\",\"width\":0.5},\"pattern\":{\"fillmode\":\"overlay\",\"size\":10,\"solidity\":0.2}},\"type\":\"bar\"}],\"carpet\":[{\"aaxis\":{\"endlinecolor\":\"#2a3f5f\",\"gridcolor\":\"white\",\"linecolor\":\"white\",\"minorgridcolor\":\"white\",\"startlinecolor\":\"#2a3f5f\"},\"baxis\":{\"endlinecolor\":\"#2a3f5f\",\"gridcolor\":\"white\",\"linecolor\":\"white\",\"minorgridcolor\":\"white\",\"startlinecolor\":\"#2a3f5f\"},\"type\":\"carpet\"}],\"choropleth\":[{\"colorbar\":{\"outlinewidth\":0,\"ticks\":\"\"},\"type\":\"choropleth\"}],\"contourcarpet\":[{\"colorbar\":{\"outlinewidth\":0,\"ticks\":\"\"},\"type\":\"contourcarpet\"}],\"contour\":[{\"colorbar\":{\"outlinewidth\":0,\"ticks\":\"\"},\"colorscale\":[[0.0,\"#0d0887\"],[0.1111111111111111,\"#46039f\"],[0.2222222222222222,\"#7201a8\"],[0.3333333333333333,\"#9c179e\"],[0.4444444444444444,\"#bd3786\"],[0.5555555555555556,\"#d8576b\"],[0.6666666666666666,\"#ed7953\"],[0.7777777777777778,\"#fb9f3a\"],[0.8888888888888888,\"#fdca26\"],[1.0,\"#f0f921\"]],\"type\":\"contour\"}],\"heatmapgl\":[{\"colorbar\":{\"outlinewidth\":0,\"ticks\":\"\"},\"colorscale\":[[0.0,\"#0d0887\"],[0.1111111111111111,\"#46039f\"],[0.2222222222222222,\"#7201a8\"],[0.3333333333333333,\"#9c179e\"],[0.4444444444444444,\"#bd3786\"],[0.5555555555555556,\"#d8576b\"],[0.6666666666666666,\"#ed7953\"],[0.7777777777777778,\"#fb9f3a\"],[0.8888888888888888,\"#fdca26\"],[1.0,\"#f0f921\"]],\"type\":\"heatmapgl\"}],\"heatmap\":[{\"colorbar\":{\"outlinewidth\":0,\"ticks\":\"\"},\"colorscale\":[[0.0,\"#0d0887\"],[0.1111111111111111,\"#46039f\"],[0.2222222222222222,\"#7201a8\"],[0.3333333333333333,\"#9c179e\"],[0.4444444444444444,\"#bd3786\"],[0.5555555555555556,\"#d8576b\"],[0.6666666666666666,\"#ed7953\"],[0.7777777777777778,\"#fb9f3a\"],[0.8888888888888888,\"#fdca26\"],[1.0,\"#f0f921\"]],\"type\":\"heatmap\"}],\"histogram2dcontour\":[{\"colorbar\":{\"outlinewidth\":0,\"ticks\":\"\"},\"colorscale\":[[0.0,\"#0d0887\"],[0.1111111111111111,\"#46039f\"],[0.2222222222222222,\"#7201a8\"],[0.3333333333333333,\"#9c179e\"],[0.4444444444444444,\"#bd3786\"],[0.5555555555555556,\"#d8576b\"],[0.6666666666666666,\"#ed7953\"],[0.7777777777777778,\"#fb9f3a\"],[0.8888888888888888,\"#fdca26\"],[1.0,\"#f0f921\"]],\"type\":\"histogram2dcontour\"}],\"histogram2d\":[{\"colorbar\":{\"outlinewidth\":0,\"ticks\":\"\"},\"colorscale\":[[0.0,\"#0d0887\"],[0.1111111111111111,\"#46039f\"],[0.2222222222222222,\"#7201a8\"],[0.3333333333333333,\"#9c179e\"],[0.4444444444444444,\"#bd3786\"],[0.5555555555555556,\"#d8576b\"],[0.6666666666666666,\"#ed7953\"],[0.7777777777777778,\"#fb9f3a\"],[0.8888888888888888,\"#fdca26\"],[1.0,\"#f0f921\"]],\"type\":\"histogram2d\"}],\"histogram\":[{\"marker\":{\"pattern\":{\"fillmode\":\"overlay\",\"size\":10,\"solidity\":0.2}},\"type\":\"histogram\"}],\"mesh3d\":[{\"colorbar\":{\"outlinewidth\":0,\"ticks\":\"\"},\"type\":\"mesh3d\"}],\"parcoords\":[{\"line\":{\"colorbar\":{\"outlinewidth\":0,\"ticks\":\"\"}},\"type\":\"parcoords\"}],\"pie\":[{\"automargin\":true,\"type\":\"pie\"}],\"scatter3d\":[{\"line\":{\"colorbar\":{\"outlinewidth\":0,\"ticks\":\"\"}},\"marker\":{\"colorbar\":{\"outlinewidth\":0,\"ticks\":\"\"}},\"type\":\"scatter3d\"}],\"scattercarpet\":[{\"marker\":{\"colorbar\":{\"outlinewidth\":0,\"ticks\":\"\"}},\"type\":\"scattercarpet\"}],\"scattergeo\":[{\"marker\":{\"colorbar\":{\"outlinewidth\":0,\"ticks\":\"\"}},\"type\":\"scattergeo\"}],\"scattergl\":[{\"marker\":{\"colorbar\":{\"outlinewidth\":0,\"ticks\":\"\"}},\"type\":\"scattergl\"}],\"scattermapbox\":[{\"marker\":{\"colorbar\":{\"outlinewidth\":0,\"ticks\":\"\"}},\"type\":\"scattermapbox\"}],\"scatterpolargl\":[{\"marker\":{\"colorbar\":{\"outlinewidth\":0,\"ticks\":\"\"}},\"type\":\"scatterpolargl\"}],\"scatterpolar\":[{\"marker\":{\"colorbar\":{\"outlinewidth\":0,\"ticks\":\"\"}},\"type\":\"scatterpolar\"}],\"scatter\":[{\"marker\":{\"colorbar\":{\"outlinewidth\":0,\"ticks\":\"\"}},\"type\":\"scatter\"}],\"scatterternary\":[{\"marker\":{\"colorbar\":{\"outlinewidth\":0,\"ticks\":\"\"}},\"type\":\"scatterternary\"}],\"surface\":[{\"colorbar\":{\"outlinewidth\":0,\"ticks\":\"\"},\"colorscale\":[[0.0,\"#0d0887\"],[0.1111111111111111,\"#46039f\"],[0.2222222222222222,\"#7201a8\"],[0.3333333333333333,\"#9c179e\"],[0.4444444444444444,\"#bd3786\"],[0.5555555555555556,\"#d8576b\"],[0.6666666666666666,\"#ed7953\"],[0.7777777777777778,\"#fb9f3a\"],[0.8888888888888888,\"#fdca26\"],[1.0,\"#f0f921\"]],\"type\":\"surface\"}],\"table\":[{\"cells\":{\"fill\":{\"color\":\"#EBF0F8\"},\"line\":{\"color\":\"white\"}},\"header\":{\"fill\":{\"color\":\"#C8D4E3\"},\"line\":{\"color\":\"white\"}},\"type\":\"table\"}]},\"layout\":{\"annotationdefaults\":{\"arrowcolor\":\"#2a3f5f\",\"arrowhead\":0,\"arrowwidth\":1},\"autotypenumbers\":\"strict\",\"coloraxis\":{\"colorbar\":{\"outlinewidth\":0,\"ticks\":\"\"}},\"colorscale\":{\"diverging\":[[0,\"#8e0152\"],[0.1,\"#c51b7d\"],[0.2,\"#de77ae\"],[0.3,\"#f1b6da\"],[0.4,\"#fde0ef\"],[0.5,\"#f7f7f7\"],[0.6,\"#e6f5d0\"],[0.7,\"#b8e186\"],[0.8,\"#7fbc41\"],[0.9,\"#4d9221\"],[1,\"#276419\"]],\"sequential\":[[0.0,\"#0d0887\"],[0.1111111111111111,\"#46039f\"],[0.2222222222222222,\"#7201a8\"],[0.3333333333333333,\"#9c179e\"],[0.4444444444444444,\"#bd3786\"],[0.5555555555555556,\"#d8576b\"],[0.6666666666666666,\"#ed7953\"],[0.7777777777777778,\"#fb9f3a\"],[0.8888888888888888,\"#fdca26\"],[1.0,\"#f0f921\"]],\"sequentialminus\":[[0.0,\"#0d0887\"],[0.1111111111111111,\"#46039f\"],[0.2222222222222222,\"#7201a8\"],[0.3333333333333333,\"#9c179e\"],[0.4444444444444444,\"#bd3786\"],[0.5555555555555556,\"#d8576b\"],[0.6666666666666666,\"#ed7953\"],[0.7777777777777778,\"#fb9f3a\"],[0.8888888888888888,\"#fdca26\"],[1.0,\"#f0f921\"]]},\"colorway\":[\"#636efa\",\"#EF553B\",\"#00cc96\",\"#ab63fa\",\"#FFA15A\",\"#19d3f3\",\"#FF6692\",\"#B6E880\",\"#FF97FF\",\"#FECB52\"],\"font\":{\"color\":\"#2a3f5f\"},\"geo\":{\"bgcolor\":\"white\",\"lakecolor\":\"white\",\"landcolor\":\"#E5ECF6\",\"showlakes\":true,\"showland\":true,\"subunitcolor\":\"white\"},\"hoverlabel\":{\"align\":\"left\"},\"hovermode\":\"closest\",\"mapbox\":{\"style\":\"light\"},\"paper_bgcolor\":\"white\",\"plot_bgcolor\":\"#E5ECF6\",\"polar\":{\"angularaxis\":{\"gridcolor\":\"white\",\"linecolor\":\"white\",\"ticks\":\"\"},\"bgcolor\":\"#E5ECF6\",\"radialaxis\":{\"gridcolor\":\"white\",\"linecolor\":\"white\",\"ticks\":\"\"}},\"scene\":{\"xaxis\":{\"backgroundcolor\":\"#E5ECF6\",\"gridcolor\":\"white\",\"gridwidth\":2,\"linecolor\":\"white\",\"showbackground\":true,\"ticks\":\"\",\"zerolinecolor\":\"white\"},\"yaxis\":{\"backgroundcolor\":\"#E5ECF6\",\"gridcolor\":\"white\",\"gridwidth\":2,\"linecolor\":\"white\",\"showbackground\":true,\"ticks\":\"\",\"zerolinecolor\":\"white\"},\"zaxis\":{\"backgroundcolor\":\"#E5ECF6\",\"gridcolor\":\"white\",\"gridwidth\":2,\"linecolor\":\"white\",\"showbackground\":true,\"ticks\":\"\",\"zerolinecolor\":\"white\"}},\"shapedefaults\":{\"line\":{\"color\":\"#2a3f5f\"}},\"ternary\":{\"aaxis\":{\"gridcolor\":\"white\",\"linecolor\":\"white\",\"ticks\":\"\"},\"baxis\":{\"gridcolor\":\"white\",\"linecolor\":\"white\",\"ticks\":\"\"},\"bgcolor\":\"#E5ECF6\",\"caxis\":{\"gridcolor\":\"white\",\"linecolor\":\"white\",\"ticks\":\"\"}},\"title\":{\"x\":0.05},\"xaxis\":{\"automargin\":true,\"gridcolor\":\"white\",\"linecolor\":\"white\",\"ticks\":\"\",\"title\":{\"standoff\":15},\"zerolinecolor\":\"white\",\"zerolinewidth\":2},\"yaxis\":{\"automargin\":true,\"gridcolor\":\"white\",\"linecolor\":\"white\",\"ticks\":\"\",\"title\":{\"standoff\":15},\"zerolinecolor\":\"white\",\"zerolinewidth\":2}}},\"title\":{\"text\":\"MSE with K-Fold Cross Validation w/ 50/50 Test Train Ratio\"},\"xaxis\":{\"anchor\":\"y\",\"domain\":[0.0,1.0],\"title\":{\"text\":\"Ridge Parameter\"}},\"yaxis\":{\"anchor\":\"x\",\"domain\":[0.0,1.0],\"title\":{\"text\":\"Mean Squared Error\"}}},                        {\"responsive\": true}                    ).then(function(){\n",
       "                            \n",
       "var gd = document.getElementById('b4c698b7-5fb8-4efc-8e10-d95f74a97375');\n",
       "var x = new MutationObserver(function (mutations, observer) {{\n",
       "        var display = window.getComputedStyle(gd).display;\n",
       "        if (!display || display === 'none') {{\n",
       "            console.log([gd, 'removed!']);\n",
       "            Plotly.purge(gd);\n",
       "            observer.disconnect();\n",
       "        }}\n",
       "}});\n",
       "\n",
       "// Listen for the removal of the full notebook cells\n",
       "var notebookContainer = gd.closest('#notebook-container');\n",
       "if (notebookContainer) {{\n",
       "    x.observe(notebookContainer, {childList: true});\n",
       "}}\n",
       "\n",
       "// Listen for the clearing of the current output cell\n",
       "var outputEl = gd.closest('.output');\n",
       "if (outputEl) {{\n",
       "    x.observe(outputEl, {childList: true});\n",
       "}}\n",
       "\n",
       "                        })                };                });            </script>        </div>"
      ]
     },
     "metadata": {},
     "output_type": "display_data"
    },
    {
     "data": {
      "application/javascript": [
       "\n",
       "            setTimeout(function() {\n",
       "                var nbb_cell_id = 103;\n",
       "                var nbb_unformatted_code = \"kfoldMSE_5050 = pd.DataFrame({\\\"lambda\\\": alphas, \\\"MSE\\\": listMSE_5050})\\n\\nminMSEindex_5050 = kfoldMSE_5050[\\\"MSE\\\"].idxmin()\\nminMSErow_5050 = kfoldMSE_5050.iloc[minMSEindex_5050]\\n\\nfig_5050 = go.Figure(\\n    data=px.scatter(\\n        kfoldMSE_5050,\\n        x=\\\"lambda\\\",\\n        y=\\\"MSE\\\",\\n        labels={\\\"lambda\\\": \\\"Ridge Parameter\\\", \\\"MSE\\\": \\\"Mean Squared Error\\\"},\\n        title=\\\"MSE with K-Fold Cross Validation w/ 50/50 Test Train Ratio\\\",\\n    )\\n)\\n\\nfig_5050.add_trace(\\n    go.Scatter(\\n        x=[minMSErow_5050.loc[\\\"lambda\\\"]],\\n        y=[minMSErow_5050.loc[\\\"MSE\\\"]],\\n        name=\\\"Minimum MSE\\\",\\n    )\\n)\\n\\nfig_5050.show()\";\n",
       "                var nbb_formatted_code = \"kfoldMSE_5050 = pd.DataFrame({\\\"lambda\\\": alphas, \\\"MSE\\\": listMSE_5050})\\n\\nminMSEindex_5050 = kfoldMSE_5050[\\\"MSE\\\"].idxmin()\\nminMSErow_5050 = kfoldMSE_5050.iloc[minMSEindex_5050]\\n\\nfig_5050 = go.Figure(\\n    data=px.scatter(\\n        kfoldMSE_5050,\\n        x=\\\"lambda\\\",\\n        y=\\\"MSE\\\",\\n        labels={\\\"lambda\\\": \\\"Ridge Parameter\\\", \\\"MSE\\\": \\\"Mean Squared Error\\\"},\\n        title=\\\"MSE with K-Fold Cross Validation w/ 50/50 Test Train Ratio\\\",\\n    )\\n)\\n\\nfig_5050.add_trace(\\n    go.Scatter(\\n        x=[minMSErow_5050.loc[\\\"lambda\\\"]],\\n        y=[minMSErow_5050.loc[\\\"MSE\\\"]],\\n        name=\\\"Minimum MSE\\\",\\n    )\\n)\\n\\nfig_5050.show()\";\n",
       "                var nbb_cells = Jupyter.notebook.get_cells();\n",
       "                for (var i = 0; i < nbb_cells.length; ++i) {\n",
       "                    if (nbb_cells[i].input_prompt_number == nbb_cell_id) {\n",
       "                        if (nbb_cells[i].get_text() == nbb_unformatted_code) {\n",
       "                             nbb_cells[i].set_text(nbb_formatted_code);\n",
       "                        }\n",
       "                        break;\n",
       "                    }\n",
       "                }\n",
       "            }, 500);\n",
       "            "
      ],
      "text/plain": [
       "<IPython.core.display.Javascript object>"
      ]
     },
     "metadata": {},
     "output_type": "display_data"
    }
   ],
   "source": [
    "kfoldMSE_5050 = pd.DataFrame({\"lambda\": alphas, \"MSE\": listMSE_5050})\n",
    "\n",
    "minMSEindex_5050 = kfoldMSE_5050[\"MSE\"].idxmin()\n",
    "minMSErow_5050 = kfoldMSE_5050.iloc[minMSEindex_5050]\n",
    "\n",
    "fig_5050 = go.Figure(\n",
    "    data=px.scatter(\n",
    "        kfoldMSE_5050,\n",
    "        x=\"lambda\",\n",
    "        y=\"MSE\",\n",
    "        labels={\"lambda\": \"Ridge Parameter\", \"MSE\": \"Mean Squared Error\"},\n",
    "        title=\"MSE with K-Fold Cross Validation w/ 50/50 Test Train Ratio\",\n",
    "    )\n",
    ")\n",
    "\n",
    "fig_5050.add_trace(\n",
    "    go.Scatter(\n",
    "        x=[minMSErow_5050.loc[\"lambda\"]],\n",
    "        y=[minMSErow_5050.loc[\"MSE\"]],\n",
    "        name=\"Minimum MSE\",\n",
    "    )\n",
    ")\n",
    "\n",
    "fig_5050.show()"
   ]
  },
  {
   "cell_type": "code",
   "execution_count": 107,
   "id": "fc985c94",
   "metadata": {},
   "outputs": [
    {
     "data": {
      "text/html": [
       "<div>\n",
       "<style scoped>\n",
       "    .dataframe tbody tr th:only-of-type {\n",
       "        vertical-align: middle;\n",
       "    }\n",
       "\n",
       "    .dataframe tbody tr th {\n",
       "        vertical-align: top;\n",
       "    }\n",
       "\n",
       "    .dataframe thead th {\n",
       "        text-align: right;\n",
       "    }\n",
       "</style>\n",
       "<table border=\"1\" class=\"dataframe\">\n",
       "  <thead>\n",
       "    <tr style=\"text-align: right;\">\n",
       "      <th></th>\n",
       "      <th>predictions</th>\n",
       "      <th>actual</th>\n",
       "    </tr>\n",
       "  </thead>\n",
       "  <tbody>\n",
       "    <tr>\n",
       "      <th>110481</th>\n",
       "      <td>699.064784</td>\n",
       "      <td>561</td>\n",
       "    </tr>\n",
       "    <tr>\n",
       "      <th>48198</th>\n",
       "      <td>696.693571</td>\n",
       "      <td>895</td>\n",
       "    </tr>\n",
       "    <tr>\n",
       "      <th>59102</th>\n",
       "      <td>702.784667</td>\n",
       "      <td>508</td>\n",
       "    </tr>\n",
       "    <tr>\n",
       "      <th>107644</th>\n",
       "      <td>697.477998</td>\n",
       "      <td>553</td>\n",
       "    </tr>\n",
       "    <tr>\n",
       "      <th>34907</th>\n",
       "      <td>698.188614</td>\n",
       "      <td>539</td>\n",
       "    </tr>\n",
       "    <tr>\n",
       "      <th>...</th>\n",
       "      <td>...</td>\n",
       "      <td>...</td>\n",
       "    </tr>\n",
       "    <tr>\n",
       "      <th>105154</th>\n",
       "      <td>695.072835</td>\n",
       "      <td>805</td>\n",
       "    </tr>\n",
       "    <tr>\n",
       "      <th>81171</th>\n",
       "      <td>697.968743</td>\n",
       "      <td>828</td>\n",
       "    </tr>\n",
       "    <tr>\n",
       "      <th>54722</th>\n",
       "      <td>700.896039</td>\n",
       "      <td>653</td>\n",
       "    </tr>\n",
       "    <tr>\n",
       "      <th>109435</th>\n",
       "      <td>701.616558</td>\n",
       "      <td>719</td>\n",
       "    </tr>\n",
       "    <tr>\n",
       "      <th>32564</th>\n",
       "      <td>696.621172</td>\n",
       "      <td>515</td>\n",
       "    </tr>\n",
       "  </tbody>\n",
       "</table>\n",
       "<p>40533 rows × 2 columns</p>\n",
       "</div>"
      ],
      "text/plain": [
       "        predictions  actual\n",
       "110481   699.064784     561\n",
       "48198    696.693571     895\n",
       "59102    702.784667     508\n",
       "107644   697.477998     553\n",
       "34907    698.188614     539\n",
       "...             ...     ...\n",
       "105154   695.072835     805\n",
       "81171    697.968743     828\n",
       "54722    700.896039     653\n",
       "109435   701.616558     719\n",
       "32564    696.621172     515\n",
       "\n",
       "[40533 rows x 2 columns]"
      ]
     },
     "metadata": {},
     "output_type": "display_data"
    },
    {
     "data": {
      "application/javascript": [
       "\n",
       "            setTimeout(function() {\n",
       "                var nbb_cell_id = 107;\n",
       "                var nbb_unformatted_code = \"n, m = Xtest.shape\\nI = np.identity(m)\\n# Beta vector\\nbeta_test = sp.linalg.inv((Xtest.T @ Xtest) + 0.21 * I) @ Xtest.T @ Ytest\\nYpred = Xtest.to_numpy() @ beta_test\\nY_pred_actual = pd.DataFrame({\\\"predictions\\\": Ypred, \\\"actual\\\": Ytest})\\ndisplay(Y_pred_actual)\";\n",
       "                var nbb_formatted_code = \"n, m = Xtest.shape\\nI = np.identity(m)\\n# Beta vector\\nbeta_test = sp.linalg.inv((Xtest.T @ Xtest) + 0.21 * I) @ Xtest.T @ Ytest\\nYpred = Xtest.to_numpy() @ beta_test\\nY_pred_actual = pd.DataFrame({\\\"predictions\\\": Ypred, \\\"actual\\\": Ytest})\\ndisplay(Y_pred_actual)\";\n",
       "                var nbb_cells = Jupyter.notebook.get_cells();\n",
       "                for (var i = 0; i < nbb_cells.length; ++i) {\n",
       "                    if (nbb_cells[i].input_prompt_number == nbb_cell_id) {\n",
       "                        if (nbb_cells[i].get_text() == nbb_unformatted_code) {\n",
       "                             nbb_cells[i].set_text(nbb_formatted_code);\n",
       "                        }\n",
       "                        break;\n",
       "                    }\n",
       "                }\n",
       "            }, 500);\n",
       "            "
      ],
      "text/plain": [
       "<IPython.core.display.Javascript object>"
      ]
     },
     "metadata": {},
     "output_type": "display_data"
    }
   ],
   "source": [
    "n, m = Xtest.shape\n",
    "I = np.identity(m)\n",
    "# Beta vector\n",
    "beta_test = sp.linalg.inv((Xtest.T @ Xtest) + 0.21 * I) @ Xtest.T @ Ytest\n",
    "Ypred = Xtest.to_numpy() @ beta_test\n",
    "Y_pred_actual = pd.DataFrame({\"predictions\": Ypred, \"actual\": Ytest})\n",
    "display(Y_pred_actual)"
   ]
  },
  {
   "cell_type": "markdown",
   "id": "060d227f",
   "metadata": {},
   "source": [
    "To Do:\n",
    "- Fix predictions \n",
    "- Compare to Sk-Learn Ridge Regression function \n",
    "- Try out more c.v."
   ]
  },
  {
   "cell_type": "code",
   "execution_count": null,
   "id": "94b60f96",
   "metadata": {},
   "outputs": [],
   "source": []
  }
 ],
 "metadata": {
  "kernelspec": {
   "display_name": "Python 3",
   "language": "python",
   "name": "python3"
  },
  "language_info": {
   "codemirror_mode": {
    "name": "ipython",
    "version": 3
   },
   "file_extension": ".py",
   "mimetype": "text/x-python",
   "name": "python",
   "nbconvert_exporter": "python",
   "pygments_lexer": "ipython3",
   "version": "3.8.8"
  }
 },
 "nbformat": 4,
 "nbformat_minor": 5
}

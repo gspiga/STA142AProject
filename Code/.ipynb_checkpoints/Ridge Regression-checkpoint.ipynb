{
 "cells": [
  {
   "cell_type": "code",
   "execution_count": 3,
   "id": "4c1b2978",
   "metadata": {},
   "outputs": [
    {
     "data": {
      "application/javascript": [
       "\n",
       "            setTimeout(function() {\n",
       "                var nbb_cell_id = 3;\n",
       "                var nbb_unformatted_code = \"# Auto formatting\\n%load_ext nb_black\";\n",
       "                var nbb_formatted_code = \"# Auto formatting\\n%load_ext nb_black\";\n",
       "                var nbb_cells = Jupyter.notebook.get_cells();\n",
       "                for (var i = 0; i < nbb_cells.length; ++i) {\n",
       "                    if (nbb_cells[i].input_prompt_number == nbb_cell_id) {\n",
       "                        if (nbb_cells[i].get_text() == nbb_unformatted_code) {\n",
       "                             nbb_cells[i].set_text(nbb_formatted_code);\n",
       "                        }\n",
       "                        break;\n",
       "                    }\n",
       "                }\n",
       "            }, 500);\n",
       "            "
      ],
      "text/plain": [
       "<IPython.core.display.Javascript object>"
      ]
     },
     "metadata": {},
     "output_type": "display_data"
    }
   ],
   "source": [
    "# Auto formatting\n",
    "%load_ext nb_black"
   ]
  },
  {
   "cell_type": "code",
   "execution_count": 18,
   "id": "b0de6857",
   "metadata": {},
   "outputs": [
    {
     "data": {
      "application/javascript": [
       "\n",
       "            setTimeout(function() {\n",
       "                var nbb_cell_id = 18;\n",
       "                var nbb_unformatted_code = \"import numpy as np\\nimport pandas as pd\\nimport plotly.express as px\\nimport matplotlib.pyplot as plt\\nimport scipy as sp\\nfrom IPython.display import display\\nfrom sklearn.model_selection import train_test_split\\nimport time\\nimport plotly.express as px\\nimport plotly.graph_objects as go\\nfrom sklearn.metrics import *\";\n",
       "                var nbb_formatted_code = \"import numpy as np\\nimport pandas as pd\\nimport plotly.express as px\\nimport matplotlib.pyplot as plt\\nimport scipy as sp\\nfrom IPython.display import display\\nfrom sklearn.model_selection import train_test_split\\nimport time\\nimport plotly.express as px\\nimport plotly.graph_objects as go\\nfrom sklearn.metrics import *\";\n",
       "                var nbb_cells = Jupyter.notebook.get_cells();\n",
       "                for (var i = 0; i < nbb_cells.length; ++i) {\n",
       "                    if (nbb_cells[i].input_prompt_number == nbb_cell_id) {\n",
       "                        if (nbb_cells[i].get_text() == nbb_unformatted_code) {\n",
       "                             nbb_cells[i].set_text(nbb_formatted_code);\n",
       "                        }\n",
       "                        break;\n",
       "                    }\n",
       "                }\n",
       "            }, 500);\n",
       "            "
      ],
      "text/plain": [
       "<IPython.core.display.Javascript object>"
      ]
     },
     "metadata": {},
     "output_type": "display_data"
    }
   ],
   "source": [
    "import numpy as np\n",
    "import pandas as pd\n",
    "import plotly.express as px\n",
    "import matplotlib.pyplot as plt\n",
    "import scipy as sp\n",
    "from IPython.display import display\n",
    "from sklearn.model_selection import train_test_split\n",
    "import time\n",
    "import plotly.express as px\n",
    "import plotly.graph_objects as go\n",
    "from sklearn.metrics import *"
   ]
  },
  {
   "cell_type": "code",
   "execution_count": 68,
   "id": "20f663a8",
   "metadata": {},
   "outputs": [
    {
     "data": {
      "text/html": [
       "<div>\n",
       "<style scoped>\n",
       "    .dataframe tbody tr th:only-of-type {\n",
       "        vertical-align: middle;\n",
       "    }\n",
       "\n",
       "    .dataframe tbody tr th {\n",
       "        vertical-align: top;\n",
       "    }\n",
       "\n",
       "    .dataframe thead th {\n",
       "        text-align: right;\n",
       "    }\n",
       "</style>\n",
       "<table border=\"1\" class=\"dataframe\">\n",
       "  <thead>\n",
       "    <tr style=\"text-align: right;\">\n",
       "      <th></th>\n",
       "      <th>loan_amount</th>\n",
       "      <th>term</th>\n",
       "      <th>income</th>\n",
       "      <th>Credit_Score</th>\n",
       "      <th>Status</th>\n",
       "      <th>loan_limit_cf</th>\n",
       "      <th>loan_limit_ncf</th>\n",
       "      <th>submission_of_application_not_inst</th>\n",
       "      <th>submission_of_application_to_inst</th>\n",
       "      <th>co-applicant_credit_type_CIB</th>\n",
       "      <th>...</th>\n",
       "      <th>Region_North-East</th>\n",
       "      <th>Region_central</th>\n",
       "      <th>Region_south</th>\n",
       "      <th>age_25-34</th>\n",
       "      <th>age_35-44</th>\n",
       "      <th>age_45-54</th>\n",
       "      <th>age_55-64</th>\n",
       "      <th>age_65-74</th>\n",
       "      <th>age_&lt;25</th>\n",
       "      <th>age_&gt;74</th>\n",
       "    </tr>\n",
       "  </thead>\n",
       "  <tbody>\n",
       "    <tr>\n",
       "      <th>0</th>\n",
       "      <td>116500</td>\n",
       "      <td>360.0</td>\n",
       "      <td>1740.0</td>\n",
       "      <td>758</td>\n",
       "      <td>1</td>\n",
       "      <td>1</td>\n",
       "      <td>0</td>\n",
       "      <td>0</td>\n",
       "      <td>1</td>\n",
       "      <td>1</td>\n",
       "      <td>...</td>\n",
       "      <td>0</td>\n",
       "      <td>0</td>\n",
       "      <td>1</td>\n",
       "      <td>1</td>\n",
       "      <td>0</td>\n",
       "      <td>0</td>\n",
       "      <td>0</td>\n",
       "      <td>0</td>\n",
       "      <td>0</td>\n",
       "      <td>0</td>\n",
       "    </tr>\n",
       "    <tr>\n",
       "      <th>1</th>\n",
       "      <td>206500</td>\n",
       "      <td>360.0</td>\n",
       "      <td>4980.0</td>\n",
       "      <td>552</td>\n",
       "      <td>1</td>\n",
       "      <td>1</td>\n",
       "      <td>0</td>\n",
       "      <td>0</td>\n",
       "      <td>1</td>\n",
       "      <td>0</td>\n",
       "      <td>...</td>\n",
       "      <td>0</td>\n",
       "      <td>0</td>\n",
       "      <td>0</td>\n",
       "      <td>0</td>\n",
       "      <td>0</td>\n",
       "      <td>0</td>\n",
       "      <td>1</td>\n",
       "      <td>0</td>\n",
       "      <td>0</td>\n",
       "      <td>0</td>\n",
       "    </tr>\n",
       "    <tr>\n",
       "      <th>2</th>\n",
       "      <td>406500</td>\n",
       "      <td>360.0</td>\n",
       "      <td>9480.0</td>\n",
       "      <td>834</td>\n",
       "      <td>0</td>\n",
       "      <td>1</td>\n",
       "      <td>0</td>\n",
       "      <td>0</td>\n",
       "      <td>1</td>\n",
       "      <td>1</td>\n",
       "      <td>...</td>\n",
       "      <td>0</td>\n",
       "      <td>0</td>\n",
       "      <td>1</td>\n",
       "      <td>0</td>\n",
       "      <td>1</td>\n",
       "      <td>0</td>\n",
       "      <td>0</td>\n",
       "      <td>0</td>\n",
       "      <td>0</td>\n",
       "      <td>0</td>\n",
       "    </tr>\n",
       "    <tr>\n",
       "      <th>3</th>\n",
       "      <td>456500</td>\n",
       "      <td>360.0</td>\n",
       "      <td>11880.0</td>\n",
       "      <td>587</td>\n",
       "      <td>0</td>\n",
       "      <td>1</td>\n",
       "      <td>0</td>\n",
       "      <td>1</td>\n",
       "      <td>0</td>\n",
       "      <td>1</td>\n",
       "      <td>...</td>\n",
       "      <td>0</td>\n",
       "      <td>0</td>\n",
       "      <td>0</td>\n",
       "      <td>0</td>\n",
       "      <td>0</td>\n",
       "      <td>1</td>\n",
       "      <td>0</td>\n",
       "      <td>0</td>\n",
       "      <td>0</td>\n",
       "      <td>0</td>\n",
       "    </tr>\n",
       "    <tr>\n",
       "      <th>4</th>\n",
       "      <td>696500</td>\n",
       "      <td>360.0</td>\n",
       "      <td>10440.0</td>\n",
       "      <td>602</td>\n",
       "      <td>0</td>\n",
       "      <td>1</td>\n",
       "      <td>0</td>\n",
       "      <td>1</td>\n",
       "      <td>0</td>\n",
       "      <td>0</td>\n",
       "      <td>...</td>\n",
       "      <td>0</td>\n",
       "      <td>0</td>\n",
       "      <td>0</td>\n",
       "      <td>1</td>\n",
       "      <td>0</td>\n",
       "      <td>0</td>\n",
       "      <td>0</td>\n",
       "      <td>0</td>\n",
       "      <td>0</td>\n",
       "      <td>0</td>\n",
       "    </tr>\n",
       "    <tr>\n",
       "      <th>...</th>\n",
       "      <td>...</td>\n",
       "      <td>...</td>\n",
       "      <td>...</td>\n",
       "      <td>...</td>\n",
       "      <td>...</td>\n",
       "      <td>...</td>\n",
       "      <td>...</td>\n",
       "      <td>...</td>\n",
       "      <td>...</td>\n",
       "      <td>...</td>\n",
       "      <td>...</td>\n",
       "      <td>...</td>\n",
       "      <td>...</td>\n",
       "      <td>...</td>\n",
       "      <td>...</td>\n",
       "      <td>...</td>\n",
       "      <td>...</td>\n",
       "      <td>...</td>\n",
       "      <td>...</td>\n",
       "      <td>...</td>\n",
       "      <td>...</td>\n",
       "    </tr>\n",
       "    <tr>\n",
       "      <th>135103</th>\n",
       "      <td>436500</td>\n",
       "      <td>180.0</td>\n",
       "      <td>7860.0</td>\n",
       "      <td>659</td>\n",
       "      <td>0</td>\n",
       "      <td>1</td>\n",
       "      <td>0</td>\n",
       "      <td>0</td>\n",
       "      <td>1</td>\n",
       "      <td>0</td>\n",
       "      <td>...</td>\n",
       "      <td>0</td>\n",
       "      <td>0</td>\n",
       "      <td>1</td>\n",
       "      <td>0</td>\n",
       "      <td>0</td>\n",
       "      <td>0</td>\n",
       "      <td>1</td>\n",
       "      <td>0</td>\n",
       "      <td>0</td>\n",
       "      <td>0</td>\n",
       "    </tr>\n",
       "    <tr>\n",
       "      <th>135104</th>\n",
       "      <td>586500</td>\n",
       "      <td>360.0</td>\n",
       "      <td>7140.0</td>\n",
       "      <td>569</td>\n",
       "      <td>0</td>\n",
       "      <td>1</td>\n",
       "      <td>0</td>\n",
       "      <td>1</td>\n",
       "      <td>0</td>\n",
       "      <td>1</td>\n",
       "      <td>...</td>\n",
       "      <td>0</td>\n",
       "      <td>0</td>\n",
       "      <td>1</td>\n",
       "      <td>1</td>\n",
       "      <td>0</td>\n",
       "      <td>0</td>\n",
       "      <td>0</td>\n",
       "      <td>0</td>\n",
       "      <td>0</td>\n",
       "      <td>0</td>\n",
       "    </tr>\n",
       "    <tr>\n",
       "      <th>135105</th>\n",
       "      <td>446500</td>\n",
       "      <td>180.0</td>\n",
       "      <td>6900.0</td>\n",
       "      <td>702</td>\n",
       "      <td>0</td>\n",
       "      <td>1</td>\n",
       "      <td>0</td>\n",
       "      <td>1</td>\n",
       "      <td>0</td>\n",
       "      <td>0</td>\n",
       "      <td>...</td>\n",
       "      <td>0</td>\n",
       "      <td>0</td>\n",
       "      <td>0</td>\n",
       "      <td>0</td>\n",
       "      <td>0</td>\n",
       "      <td>1</td>\n",
       "      <td>0</td>\n",
       "      <td>0</td>\n",
       "      <td>0</td>\n",
       "      <td>0</td>\n",
       "    </tr>\n",
       "    <tr>\n",
       "      <th>135106</th>\n",
       "      <td>196500</td>\n",
       "      <td>180.0</td>\n",
       "      <td>7140.0</td>\n",
       "      <td>737</td>\n",
       "      <td>0</td>\n",
       "      <td>1</td>\n",
       "      <td>0</td>\n",
       "      <td>0</td>\n",
       "      <td>1</td>\n",
       "      <td>0</td>\n",
       "      <td>...</td>\n",
       "      <td>0</td>\n",
       "      <td>0</td>\n",
       "      <td>0</td>\n",
       "      <td>0</td>\n",
       "      <td>0</td>\n",
       "      <td>0</td>\n",
       "      <td>1</td>\n",
       "      <td>0</td>\n",
       "      <td>0</td>\n",
       "      <td>0</td>\n",
       "    </tr>\n",
       "    <tr>\n",
       "      <th>135107</th>\n",
       "      <td>406500</td>\n",
       "      <td>240.0</td>\n",
       "      <td>7260.0</td>\n",
       "      <td>830</td>\n",
       "      <td>0</td>\n",
       "      <td>1</td>\n",
       "      <td>0</td>\n",
       "      <td>1</td>\n",
       "      <td>0</td>\n",
       "      <td>1</td>\n",
       "      <td>...</td>\n",
       "      <td>0</td>\n",
       "      <td>0</td>\n",
       "      <td>0</td>\n",
       "      <td>0</td>\n",
       "      <td>0</td>\n",
       "      <td>1</td>\n",
       "      <td>0</td>\n",
       "      <td>0</td>\n",
       "      <td>0</td>\n",
       "      <td>0</td>\n",
       "    </tr>\n",
       "  </tbody>\n",
       "</table>\n",
       "<p>135108 rows × 64 columns</p>\n",
       "</div>"
      ],
      "text/plain": [
       "        loan_amount   term   income  Credit_Score  Status  loan_limit_cf  \\\n",
       "0            116500  360.0   1740.0           758       1              1   \n",
       "1            206500  360.0   4980.0           552       1              1   \n",
       "2            406500  360.0   9480.0           834       0              1   \n",
       "3            456500  360.0  11880.0           587       0              1   \n",
       "4            696500  360.0  10440.0           602       0              1   \n",
       "...             ...    ...      ...           ...     ...            ...   \n",
       "135103       436500  180.0   7860.0           659       0              1   \n",
       "135104       586500  360.0   7140.0           569       0              1   \n",
       "135105       446500  180.0   6900.0           702       0              1   \n",
       "135106       196500  180.0   7140.0           737       0              1   \n",
       "135107       406500  240.0   7260.0           830       0              1   \n",
       "\n",
       "        loan_limit_ncf  submission_of_application_not_inst  \\\n",
       "0                    0                                   0   \n",
       "1                    0                                   0   \n",
       "2                    0                                   0   \n",
       "3                    0                                   1   \n",
       "4                    0                                   1   \n",
       "...                ...                                 ...   \n",
       "135103               0                                   0   \n",
       "135104               0                                   1   \n",
       "135105               0                                   1   \n",
       "135106               0                                   0   \n",
       "135107               0                                   1   \n",
       "\n",
       "        submission_of_application_to_inst  co-applicant_credit_type_CIB  ...  \\\n",
       "0                                       1                             1  ...   \n",
       "1                                       1                             0  ...   \n",
       "2                                       1                             1  ...   \n",
       "3                                       0                             1  ...   \n",
       "4                                       0                             0  ...   \n",
       "...                                   ...                           ...  ...   \n",
       "135103                                  1                             0  ...   \n",
       "135104                                  0                             1  ...   \n",
       "135105                                  0                             0  ...   \n",
       "135106                                  1                             0  ...   \n",
       "135107                                  0                             1  ...   \n",
       "\n",
       "        Region_North-East  Region_central  Region_south  age_25-34  age_35-44  \\\n",
       "0                       0               0             1          1          0   \n",
       "1                       0               0             0          0          0   \n",
       "2                       0               0             1          0          1   \n",
       "3                       0               0             0          0          0   \n",
       "4                       0               0             0          1          0   \n",
       "...                   ...             ...           ...        ...        ...   \n",
       "135103                  0               0             1          0          0   \n",
       "135104                  0               0             1          1          0   \n",
       "135105                  0               0             0          0          0   \n",
       "135106                  0               0             0          0          0   \n",
       "135107                  0               0             0          0          0   \n",
       "\n",
       "        age_45-54  age_55-64  age_65-74  age_<25  age_>74  \n",
       "0               0          0          0        0        0  \n",
       "1               0          1          0        0        0  \n",
       "2               0          0          0        0        0  \n",
       "3               1          0          0        0        0  \n",
       "4               0          0          0        0        0  \n",
       "...           ...        ...        ...      ...      ...  \n",
       "135103          0          1          0        0        0  \n",
       "135104          0          0          0        0        0  \n",
       "135105          1          0          0        0        0  \n",
       "135106          0          1          0        0        0  \n",
       "135107          1          0          0        0        0  \n",
       "\n",
       "[135108 rows x 64 columns]"
      ]
     },
     "metadata": {},
     "output_type": "display_data"
    },
    {
     "data": {
      "application/javascript": [
       "\n",
       "            setTimeout(function() {\n",
       "                var nbb_cell_id = 68;\n",
       "                var nbb_unformatted_code = \"df = pd.read_csv(\\\"../data/cleaned.csv\\\", index_col=[0])\\ndisplay(df)\";\n",
       "                var nbb_formatted_code = \"df = pd.read_csv(\\\"../data/cleaned.csv\\\", index_col=[0])\\ndisplay(df)\";\n",
       "                var nbb_cells = Jupyter.notebook.get_cells();\n",
       "                for (var i = 0; i < nbb_cells.length; ++i) {\n",
       "                    if (nbb_cells[i].input_prompt_number == nbb_cell_id) {\n",
       "                        if (nbb_cells[i].get_text() == nbb_unformatted_code) {\n",
       "                             nbb_cells[i].set_text(nbb_formatted_code);\n",
       "                        }\n",
       "                        break;\n",
       "                    }\n",
       "                }\n",
       "            }, 500);\n",
       "            "
      ],
      "text/plain": [
       "<IPython.core.display.Javascript object>"
      ]
     },
     "metadata": {},
     "output_type": "display_data"
    }
   ],
   "source": [
    "df = pd.read_csv(\"../data/cleaned.csv\", index_col=[0])\n",
    "display(df)"
   ]
  },
  {
   "cell_type": "code",
   "execution_count": 69,
   "id": "504d205b",
   "metadata": {},
   "outputs": [
    {
     "data": {
      "text/html": [
       "<div>\n",
       "<style scoped>\n",
       "    .dataframe tbody tr th:only-of-type {\n",
       "        vertical-align: middle;\n",
       "    }\n",
       "\n",
       "    .dataframe tbody tr th {\n",
       "        vertical-align: top;\n",
       "    }\n",
       "\n",
       "    .dataframe thead th {\n",
       "        text-align: right;\n",
       "    }\n",
       "</style>\n",
       "<table border=\"1\" class=\"dataframe\">\n",
       "  <thead>\n",
       "    <tr style=\"text-align: right;\">\n",
       "      <th></th>\n",
       "      <th>loan_amount</th>\n",
       "      <th>term</th>\n",
       "      <th>income</th>\n",
       "      <th>Status</th>\n",
       "      <th>loan_limit_cf</th>\n",
       "      <th>loan_limit_ncf</th>\n",
       "      <th>submission_of_application_not_inst</th>\n",
       "      <th>submission_of_application_to_inst</th>\n",
       "      <th>co-applicant_credit_type_CIB</th>\n",
       "      <th>co-applicant_credit_type_EXP</th>\n",
       "      <th>...</th>\n",
       "      <th>Region_North-East</th>\n",
       "      <th>Region_central</th>\n",
       "      <th>Region_south</th>\n",
       "      <th>age_25-34</th>\n",
       "      <th>age_35-44</th>\n",
       "      <th>age_45-54</th>\n",
       "      <th>age_55-64</th>\n",
       "      <th>age_65-74</th>\n",
       "      <th>age_&lt;25</th>\n",
       "      <th>age_&gt;74</th>\n",
       "    </tr>\n",
       "  </thead>\n",
       "  <tbody>\n",
       "    <tr>\n",
       "      <th>0</th>\n",
       "      <td>116500</td>\n",
       "      <td>360.0</td>\n",
       "      <td>1740.0</td>\n",
       "      <td>1</td>\n",
       "      <td>1</td>\n",
       "      <td>0</td>\n",
       "      <td>0</td>\n",
       "      <td>1</td>\n",
       "      <td>1</td>\n",
       "      <td>0</td>\n",
       "      <td>...</td>\n",
       "      <td>0</td>\n",
       "      <td>0</td>\n",
       "      <td>1</td>\n",
       "      <td>1</td>\n",
       "      <td>0</td>\n",
       "      <td>0</td>\n",
       "      <td>0</td>\n",
       "      <td>0</td>\n",
       "      <td>0</td>\n",
       "      <td>0</td>\n",
       "    </tr>\n",
       "    <tr>\n",
       "      <th>1</th>\n",
       "      <td>206500</td>\n",
       "      <td>360.0</td>\n",
       "      <td>4980.0</td>\n",
       "      <td>1</td>\n",
       "      <td>1</td>\n",
       "      <td>0</td>\n",
       "      <td>0</td>\n",
       "      <td>1</td>\n",
       "      <td>0</td>\n",
       "      <td>1</td>\n",
       "      <td>...</td>\n",
       "      <td>0</td>\n",
       "      <td>0</td>\n",
       "      <td>0</td>\n",
       "      <td>0</td>\n",
       "      <td>0</td>\n",
       "      <td>0</td>\n",
       "      <td>1</td>\n",
       "      <td>0</td>\n",
       "      <td>0</td>\n",
       "      <td>0</td>\n",
       "    </tr>\n",
       "    <tr>\n",
       "      <th>2</th>\n",
       "      <td>406500</td>\n",
       "      <td>360.0</td>\n",
       "      <td>9480.0</td>\n",
       "      <td>0</td>\n",
       "      <td>1</td>\n",
       "      <td>0</td>\n",
       "      <td>0</td>\n",
       "      <td>1</td>\n",
       "      <td>1</td>\n",
       "      <td>0</td>\n",
       "      <td>...</td>\n",
       "      <td>0</td>\n",
       "      <td>0</td>\n",
       "      <td>1</td>\n",
       "      <td>0</td>\n",
       "      <td>1</td>\n",
       "      <td>0</td>\n",
       "      <td>0</td>\n",
       "      <td>0</td>\n",
       "      <td>0</td>\n",
       "      <td>0</td>\n",
       "    </tr>\n",
       "    <tr>\n",
       "      <th>3</th>\n",
       "      <td>456500</td>\n",
       "      <td>360.0</td>\n",
       "      <td>11880.0</td>\n",
       "      <td>0</td>\n",
       "      <td>1</td>\n",
       "      <td>0</td>\n",
       "      <td>1</td>\n",
       "      <td>0</td>\n",
       "      <td>1</td>\n",
       "      <td>0</td>\n",
       "      <td>...</td>\n",
       "      <td>0</td>\n",
       "      <td>0</td>\n",
       "      <td>0</td>\n",
       "      <td>0</td>\n",
       "      <td>0</td>\n",
       "      <td>1</td>\n",
       "      <td>0</td>\n",
       "      <td>0</td>\n",
       "      <td>0</td>\n",
       "      <td>0</td>\n",
       "    </tr>\n",
       "    <tr>\n",
       "      <th>4</th>\n",
       "      <td>696500</td>\n",
       "      <td>360.0</td>\n",
       "      <td>10440.0</td>\n",
       "      <td>0</td>\n",
       "      <td>1</td>\n",
       "      <td>0</td>\n",
       "      <td>1</td>\n",
       "      <td>0</td>\n",
       "      <td>0</td>\n",
       "      <td>1</td>\n",
       "      <td>...</td>\n",
       "      <td>0</td>\n",
       "      <td>0</td>\n",
       "      <td>0</td>\n",
       "      <td>1</td>\n",
       "      <td>0</td>\n",
       "      <td>0</td>\n",
       "      <td>0</td>\n",
       "      <td>0</td>\n",
       "      <td>0</td>\n",
       "      <td>0</td>\n",
       "    </tr>\n",
       "    <tr>\n",
       "      <th>...</th>\n",
       "      <td>...</td>\n",
       "      <td>...</td>\n",
       "      <td>...</td>\n",
       "      <td>...</td>\n",
       "      <td>...</td>\n",
       "      <td>...</td>\n",
       "      <td>...</td>\n",
       "      <td>...</td>\n",
       "      <td>...</td>\n",
       "      <td>...</td>\n",
       "      <td>...</td>\n",
       "      <td>...</td>\n",
       "      <td>...</td>\n",
       "      <td>...</td>\n",
       "      <td>...</td>\n",
       "      <td>...</td>\n",
       "      <td>...</td>\n",
       "      <td>...</td>\n",
       "      <td>...</td>\n",
       "      <td>...</td>\n",
       "      <td>...</td>\n",
       "    </tr>\n",
       "    <tr>\n",
       "      <th>135103</th>\n",
       "      <td>436500</td>\n",
       "      <td>180.0</td>\n",
       "      <td>7860.0</td>\n",
       "      <td>0</td>\n",
       "      <td>1</td>\n",
       "      <td>0</td>\n",
       "      <td>0</td>\n",
       "      <td>1</td>\n",
       "      <td>0</td>\n",
       "      <td>1</td>\n",
       "      <td>...</td>\n",
       "      <td>0</td>\n",
       "      <td>0</td>\n",
       "      <td>1</td>\n",
       "      <td>0</td>\n",
       "      <td>0</td>\n",
       "      <td>0</td>\n",
       "      <td>1</td>\n",
       "      <td>0</td>\n",
       "      <td>0</td>\n",
       "      <td>0</td>\n",
       "    </tr>\n",
       "    <tr>\n",
       "      <th>135104</th>\n",
       "      <td>586500</td>\n",
       "      <td>360.0</td>\n",
       "      <td>7140.0</td>\n",
       "      <td>0</td>\n",
       "      <td>1</td>\n",
       "      <td>0</td>\n",
       "      <td>1</td>\n",
       "      <td>0</td>\n",
       "      <td>1</td>\n",
       "      <td>0</td>\n",
       "      <td>...</td>\n",
       "      <td>0</td>\n",
       "      <td>0</td>\n",
       "      <td>1</td>\n",
       "      <td>1</td>\n",
       "      <td>0</td>\n",
       "      <td>0</td>\n",
       "      <td>0</td>\n",
       "      <td>0</td>\n",
       "      <td>0</td>\n",
       "      <td>0</td>\n",
       "    </tr>\n",
       "    <tr>\n",
       "      <th>135105</th>\n",
       "      <td>446500</td>\n",
       "      <td>180.0</td>\n",
       "      <td>6900.0</td>\n",
       "      <td>0</td>\n",
       "      <td>1</td>\n",
       "      <td>0</td>\n",
       "      <td>1</td>\n",
       "      <td>0</td>\n",
       "      <td>0</td>\n",
       "      <td>1</td>\n",
       "      <td>...</td>\n",
       "      <td>0</td>\n",
       "      <td>0</td>\n",
       "      <td>0</td>\n",
       "      <td>0</td>\n",
       "      <td>0</td>\n",
       "      <td>1</td>\n",
       "      <td>0</td>\n",
       "      <td>0</td>\n",
       "      <td>0</td>\n",
       "      <td>0</td>\n",
       "    </tr>\n",
       "    <tr>\n",
       "      <th>135106</th>\n",
       "      <td>196500</td>\n",
       "      <td>180.0</td>\n",
       "      <td>7140.0</td>\n",
       "      <td>0</td>\n",
       "      <td>1</td>\n",
       "      <td>0</td>\n",
       "      <td>0</td>\n",
       "      <td>1</td>\n",
       "      <td>0</td>\n",
       "      <td>1</td>\n",
       "      <td>...</td>\n",
       "      <td>0</td>\n",
       "      <td>0</td>\n",
       "      <td>0</td>\n",
       "      <td>0</td>\n",
       "      <td>0</td>\n",
       "      <td>0</td>\n",
       "      <td>1</td>\n",
       "      <td>0</td>\n",
       "      <td>0</td>\n",
       "      <td>0</td>\n",
       "    </tr>\n",
       "    <tr>\n",
       "      <th>135107</th>\n",
       "      <td>406500</td>\n",
       "      <td>240.0</td>\n",
       "      <td>7260.0</td>\n",
       "      <td>0</td>\n",
       "      <td>1</td>\n",
       "      <td>0</td>\n",
       "      <td>1</td>\n",
       "      <td>0</td>\n",
       "      <td>1</td>\n",
       "      <td>0</td>\n",
       "      <td>...</td>\n",
       "      <td>0</td>\n",
       "      <td>0</td>\n",
       "      <td>0</td>\n",
       "      <td>0</td>\n",
       "      <td>0</td>\n",
       "      <td>1</td>\n",
       "      <td>0</td>\n",
       "      <td>0</td>\n",
       "      <td>0</td>\n",
       "      <td>0</td>\n",
       "    </tr>\n",
       "  </tbody>\n",
       "</table>\n",
       "<p>135108 rows × 63 columns</p>\n",
       "</div>"
      ],
      "text/plain": [
       "        loan_amount   term   income  Status  loan_limit_cf  loan_limit_ncf  \\\n",
       "0            116500  360.0   1740.0       1              1               0   \n",
       "1            206500  360.0   4980.0       1              1               0   \n",
       "2            406500  360.0   9480.0       0              1               0   \n",
       "3            456500  360.0  11880.0       0              1               0   \n",
       "4            696500  360.0  10440.0       0              1               0   \n",
       "...             ...    ...      ...     ...            ...             ...   \n",
       "135103       436500  180.0   7860.0       0              1               0   \n",
       "135104       586500  360.0   7140.0       0              1               0   \n",
       "135105       446500  180.0   6900.0       0              1               0   \n",
       "135106       196500  180.0   7140.0       0              1               0   \n",
       "135107       406500  240.0   7260.0       0              1               0   \n",
       "\n",
       "        submission_of_application_not_inst  submission_of_application_to_inst  \\\n",
       "0                                        0                                  1   \n",
       "1                                        0                                  1   \n",
       "2                                        0                                  1   \n",
       "3                                        1                                  0   \n",
       "4                                        1                                  0   \n",
       "...                                    ...                                ...   \n",
       "135103                                   0                                  1   \n",
       "135104                                   1                                  0   \n",
       "135105                                   1                                  0   \n",
       "135106                                   0                                  1   \n",
       "135107                                   1                                  0   \n",
       "\n",
       "        co-applicant_credit_type_CIB  co-applicant_credit_type_EXP  ...  \\\n",
       "0                                  1                             0  ...   \n",
       "1                                  0                             1  ...   \n",
       "2                                  1                             0  ...   \n",
       "3                                  1                             0  ...   \n",
       "4                                  0                             1  ...   \n",
       "...                              ...                           ...  ...   \n",
       "135103                             0                             1  ...   \n",
       "135104                             1                             0  ...   \n",
       "135105                             0                             1  ...   \n",
       "135106                             0                             1  ...   \n",
       "135107                             1                             0  ...   \n",
       "\n",
       "        Region_North-East  Region_central  Region_south  age_25-34  age_35-44  \\\n",
       "0                       0               0             1          1          0   \n",
       "1                       0               0             0          0          0   \n",
       "2                       0               0             1          0          1   \n",
       "3                       0               0             0          0          0   \n",
       "4                       0               0             0          1          0   \n",
       "...                   ...             ...           ...        ...        ...   \n",
       "135103                  0               0             1          0          0   \n",
       "135104                  0               0             1          1          0   \n",
       "135105                  0               0             0          0          0   \n",
       "135106                  0               0             0          0          0   \n",
       "135107                  0               0             0          0          0   \n",
       "\n",
       "        age_45-54  age_55-64  age_65-74  age_<25  age_>74  \n",
       "0               0          0          0        0        0  \n",
       "1               0          1          0        0        0  \n",
       "2               0          0          0        0        0  \n",
       "3               1          0          0        0        0  \n",
       "4               0          0          0        0        0  \n",
       "...           ...        ...        ...      ...      ...  \n",
       "135103          0          1          0        0        0  \n",
       "135104          0          0          0        0        0  \n",
       "135105          1          0          0        0        0  \n",
       "135106          0          1          0        0        0  \n",
       "135107          1          0          0        0        0  \n",
       "\n",
       "[135108 rows x 63 columns]"
      ]
     },
     "metadata": {},
     "output_type": "display_data"
    },
    {
     "data": {
      "application/javascript": [
       "\n",
       "            setTimeout(function() {\n",
       "                var nbb_cell_id = 69;\n",
       "                var nbb_unformatted_code = \"X = df.drop(\\\"Credit_Score\\\", axis=1)\\ny = df.loc[:, \\\"Credit_Score\\\"]\\n# display(y)\\ndisplay(X)\";\n",
       "                var nbb_formatted_code = \"X = df.drop(\\\"Credit_Score\\\", axis=1)\\ny = df.loc[:, \\\"Credit_Score\\\"]\\n# display(y)\\ndisplay(X)\";\n",
       "                var nbb_cells = Jupyter.notebook.get_cells();\n",
       "                for (var i = 0; i < nbb_cells.length; ++i) {\n",
       "                    if (nbb_cells[i].input_prompt_number == nbb_cell_id) {\n",
       "                        if (nbb_cells[i].get_text() == nbb_unformatted_code) {\n",
       "                             nbb_cells[i].set_text(nbb_formatted_code);\n",
       "                        }\n",
       "                        break;\n",
       "                    }\n",
       "                }\n",
       "            }, 500);\n",
       "            "
      ],
      "text/plain": [
       "<IPython.core.display.Javascript object>"
      ]
     },
     "metadata": {},
     "output_type": "display_data"
    }
   ],
   "source": [
    "X = df.drop(\"Credit_Score\", axis=1)\n",
    "y = df.loc[:, \"Credit_Score\"]\n",
    "# display(y)\n",
    "display(X)"
   ]
  },
  {
   "cell_type": "code",
   "execution_count": 7,
   "id": "5a7e6072",
   "metadata": {},
   "outputs": [
    {
     "data": {
      "application/javascript": [
       "\n",
       "            setTimeout(function() {\n",
       "                var nbb_cell_id = 7;\n",
       "                var nbb_unformatted_code = \"def standardizeData(data):\\n    # Takes pandas dataframe and standardizes it iteratively\\n    for column in data:\\n        if (data[column] != 0).sum() == 0:  # If the column is all zeros\\n            continue  # No need to standardize all zeros (thus dividing by zero)\\n        else:\\n            data[column] = (data[column] - np.mean(data[column])) / np.std(data[column])\\n    return data\";\n",
       "                var nbb_formatted_code = \"def standardizeData(data):\\n    # Takes pandas dataframe and standardizes it iteratively\\n    for column in data:\\n        if (data[column] != 0).sum() == 0:  # If the column is all zeros\\n            continue  # No need to standardize all zeros (thus dividing by zero)\\n        else:\\n            data[column] = (data[column] - np.mean(data[column])) / np.std(data[column])\\n    return data\";\n",
       "                var nbb_cells = Jupyter.notebook.get_cells();\n",
       "                for (var i = 0; i < nbb_cells.length; ++i) {\n",
       "                    if (nbb_cells[i].input_prompt_number == nbb_cell_id) {\n",
       "                        if (nbb_cells[i].get_text() == nbb_unformatted_code) {\n",
       "                             nbb_cells[i].set_text(nbb_formatted_code);\n",
       "                        }\n",
       "                        break;\n",
       "                    }\n",
       "                }\n",
       "            }, 500);\n",
       "            "
      ],
      "text/plain": [
       "<IPython.core.display.Javascript object>"
      ]
     },
     "metadata": {},
     "output_type": "display_data"
    }
   ],
   "source": [
    "def standardizeData(data):\n",
    "    # Takes pandas dataframe and standardizes it iteratively\n",
    "    for column in data:\n",
    "        if (data[column] != 0).sum() == 0:  # If the column is all zeros\n",
    "            continue  # No need to standardize all zeros (thus dividing by zero)\n",
    "        else:\n",
    "            data[column] = (data[column] - np.mean(data[column])) / np.std(data[column])\n",
    "    return data"
   ]
  },
  {
   "cell_type": "markdown",
   "id": "8f5bffb8",
   "metadata": {},
   "source": [
    "TowardsDataScience: If one of your variables happens to be on a very small scale, its coefficient will be large, and as such, it will be much more punished due to the penalisation. Or vice versa, a variable that is on a huge scale will get small coefficients and be less impacted by the penalty. "
   ]
  },
  {
   "cell_type": "code",
   "execution_count": 70,
   "id": "5b0e1bae",
   "metadata": {},
   "outputs": [
    {
     "data": {
      "text/html": [
       "<div>\n",
       "<style scoped>\n",
       "    .dataframe tbody tr th:only-of-type {\n",
       "        vertical-align: middle;\n",
       "    }\n",
       "\n",
       "    .dataframe tbody tr th {\n",
       "        vertical-align: top;\n",
       "    }\n",
       "\n",
       "    .dataframe thead th {\n",
       "        text-align: right;\n",
       "    }\n",
       "</style>\n",
       "<table border=\"1\" class=\"dataframe\">\n",
       "  <thead>\n",
       "    <tr style=\"text-align: right;\">\n",
       "      <th></th>\n",
       "      <th>loan_amount</th>\n",
       "      <th>term</th>\n",
       "      <th>income</th>\n",
       "      <th>Credit_Score</th>\n",
       "      <th>Status</th>\n",
       "      <th>loan_limit_cf</th>\n",
       "      <th>loan_limit_ncf</th>\n",
       "      <th>submission_of_application_not_inst</th>\n",
       "      <th>submission_of_application_to_inst</th>\n",
       "      <th>co-applicant_credit_type_CIB</th>\n",
       "      <th>...</th>\n",
       "      <th>Region_North-East</th>\n",
       "      <th>Region_central</th>\n",
       "      <th>Region_south</th>\n",
       "      <th>age_25-34</th>\n",
       "      <th>age_35-44</th>\n",
       "      <th>age_45-54</th>\n",
       "      <th>age_55-64</th>\n",
       "      <th>age_65-74</th>\n",
       "      <th>age_&lt;25</th>\n",
       "      <th>age_&gt;74</th>\n",
       "    </tr>\n",
       "  </thead>\n",
       "  <tbody>\n",
       "    <tr>\n",
       "      <th>0</th>\n",
       "      <td>-1.152094</td>\n",
       "      <td>0.439777</td>\n",
       "      <td>-0.803694</td>\n",
       "      <td>0.502618</td>\n",
       "      <td>1.716802</td>\n",
       "      <td>0.268036</td>\n",
       "      <td>-0.268036</td>\n",
       "      <td>-0.737362</td>\n",
       "      <td>0.737362</td>\n",
       "      <td>0.995436</td>\n",
       "      <td>...</td>\n",
       "      <td>-0.091551</td>\n",
       "      <td>-0.246226</td>\n",
       "      <td>1.152530</td>\n",
       "      <td>2.614658</td>\n",
       "      <td>-0.531420</td>\n",
       "      <td>-0.553124</td>\n",
       "      <td>-0.533515</td>\n",
       "      <td>-0.402305</td>\n",
       "      <td>-0.096048</td>\n",
       "      <td>-0.224268</td>\n",
       "    </tr>\n",
       "    <tr>\n",
       "      <th>1</th>\n",
       "      <td>-0.665241</td>\n",
       "      <td>0.439777</td>\n",
       "      <td>-0.305114</td>\n",
       "      <td>-1.275460</td>\n",
       "      <td>1.716802</td>\n",
       "      <td>0.268036</td>\n",
       "      <td>-0.268036</td>\n",
       "      <td>-0.737362</td>\n",
       "      <td>0.737362</td>\n",
       "      <td>-1.004585</td>\n",
       "      <td>...</td>\n",
       "      <td>-0.091551</td>\n",
       "      <td>-0.246226</td>\n",
       "      <td>-0.867657</td>\n",
       "      <td>-0.382459</td>\n",
       "      <td>-0.531420</td>\n",
       "      <td>-0.553124</td>\n",
       "      <td>1.874361</td>\n",
       "      <td>-0.402305</td>\n",
       "      <td>-0.096048</td>\n",
       "      <td>-0.224268</td>\n",
       "    </tr>\n",
       "    <tr>\n",
       "      <th>2</th>\n",
       "      <td>0.416656</td>\n",
       "      <td>0.439777</td>\n",
       "      <td>0.387358</td>\n",
       "      <td>1.158608</td>\n",
       "      <td>-0.582478</td>\n",
       "      <td>0.268036</td>\n",
       "      <td>-0.268036</td>\n",
       "      <td>-0.737362</td>\n",
       "      <td>0.737362</td>\n",
       "      <td>0.995436</td>\n",
       "      <td>...</td>\n",
       "      <td>-0.091551</td>\n",
       "      <td>-0.246226</td>\n",
       "      <td>1.152530</td>\n",
       "      <td>-0.382459</td>\n",
       "      <td>1.881751</td>\n",
       "      <td>-0.553124</td>\n",
       "      <td>-0.533515</td>\n",
       "      <td>-0.402305</td>\n",
       "      <td>-0.096048</td>\n",
       "      <td>-0.224268</td>\n",
       "    </tr>\n",
       "    <tr>\n",
       "      <th>3</th>\n",
       "      <td>0.687130</td>\n",
       "      <td>0.439777</td>\n",
       "      <td>0.756677</td>\n",
       "      <td>-0.973360</td>\n",
       "      <td>-0.582478</td>\n",
       "      <td>0.268036</td>\n",
       "      <td>-0.268036</td>\n",
       "      <td>1.356185</td>\n",
       "      <td>-1.356185</td>\n",
       "      <td>0.995436</td>\n",
       "      <td>...</td>\n",
       "      <td>-0.091551</td>\n",
       "      <td>-0.246226</td>\n",
       "      <td>-0.867657</td>\n",
       "      <td>-0.382459</td>\n",
       "      <td>-0.531420</td>\n",
       "      <td>1.807912</td>\n",
       "      <td>-0.533515</td>\n",
       "      <td>-0.402305</td>\n",
       "      <td>-0.096048</td>\n",
       "      <td>-0.224268</td>\n",
       "    </tr>\n",
       "    <tr>\n",
       "      <th>4</th>\n",
       "      <td>1.985407</td>\n",
       "      <td>0.439777</td>\n",
       "      <td>0.535086</td>\n",
       "      <td>-0.843888</td>\n",
       "      <td>-0.582478</td>\n",
       "      <td>0.268036</td>\n",
       "      <td>-0.268036</td>\n",
       "      <td>1.356185</td>\n",
       "      <td>-1.356185</td>\n",
       "      <td>-1.004585</td>\n",
       "      <td>...</td>\n",
       "      <td>-0.091551</td>\n",
       "      <td>-0.246226</td>\n",
       "      <td>-0.867657</td>\n",
       "      <td>2.614658</td>\n",
       "      <td>-0.531420</td>\n",
       "      <td>-0.553124</td>\n",
       "      <td>-0.533515</td>\n",
       "      <td>-0.402305</td>\n",
       "      <td>-0.096048</td>\n",
       "      <td>-0.224268</td>\n",
       "    </tr>\n",
       "    <tr>\n",
       "      <th>...</th>\n",
       "      <td>...</td>\n",
       "      <td>...</td>\n",
       "      <td>...</td>\n",
       "      <td>...</td>\n",
       "      <td>...</td>\n",
       "      <td>...</td>\n",
       "      <td>...</td>\n",
       "      <td>...</td>\n",
       "      <td>...</td>\n",
       "      <td>...</td>\n",
       "      <td>...</td>\n",
       "      <td>...</td>\n",
       "      <td>...</td>\n",
       "      <td>...</td>\n",
       "      <td>...</td>\n",
       "      <td>...</td>\n",
       "      <td>...</td>\n",
       "      <td>...</td>\n",
       "      <td>...</td>\n",
       "      <td>...</td>\n",
       "      <td>...</td>\n",
       "    </tr>\n",
       "    <tr>\n",
       "      <th>135103</th>\n",
       "      <td>0.578941</td>\n",
       "      <td>-2.568908</td>\n",
       "      <td>0.138068</td>\n",
       "      <td>-0.351895</td>\n",
       "      <td>-0.582478</td>\n",
       "      <td>0.268036</td>\n",
       "      <td>-0.268036</td>\n",
       "      <td>-0.737362</td>\n",
       "      <td>0.737362</td>\n",
       "      <td>-1.004585</td>\n",
       "      <td>...</td>\n",
       "      <td>-0.091551</td>\n",
       "      <td>-0.246226</td>\n",
       "      <td>1.152530</td>\n",
       "      <td>-0.382459</td>\n",
       "      <td>-0.531420</td>\n",
       "      <td>-0.553124</td>\n",
       "      <td>1.874361</td>\n",
       "      <td>-0.402305</td>\n",
       "      <td>-0.096048</td>\n",
       "      <td>-0.224268</td>\n",
       "    </tr>\n",
       "    <tr>\n",
       "      <th>135104</th>\n",
       "      <td>1.390363</td>\n",
       "      <td>0.439777</td>\n",
       "      <td>0.027273</td>\n",
       "      <td>-1.128726</td>\n",
       "      <td>-0.582478</td>\n",
       "      <td>0.268036</td>\n",
       "      <td>-0.268036</td>\n",
       "      <td>1.356185</td>\n",
       "      <td>-1.356185</td>\n",
       "      <td>0.995436</td>\n",
       "      <td>...</td>\n",
       "      <td>-0.091551</td>\n",
       "      <td>-0.246226</td>\n",
       "      <td>1.152530</td>\n",
       "      <td>2.614658</td>\n",
       "      <td>-0.531420</td>\n",
       "      <td>-0.553124</td>\n",
       "      <td>-0.533515</td>\n",
       "      <td>-0.402305</td>\n",
       "      <td>-0.096048</td>\n",
       "      <td>-0.224268</td>\n",
       "    </tr>\n",
       "    <tr>\n",
       "      <th>135105</th>\n",
       "      <td>0.633036</td>\n",
       "      <td>-2.568908</td>\n",
       "      <td>-0.009659</td>\n",
       "      <td>0.019257</td>\n",
       "      <td>-0.582478</td>\n",
       "      <td>0.268036</td>\n",
       "      <td>-0.268036</td>\n",
       "      <td>1.356185</td>\n",
       "      <td>-1.356185</td>\n",
       "      <td>-1.004585</td>\n",
       "      <td>...</td>\n",
       "      <td>-0.091551</td>\n",
       "      <td>-0.246226</td>\n",
       "      <td>-0.867657</td>\n",
       "      <td>-0.382459</td>\n",
       "      <td>-0.531420</td>\n",
       "      <td>1.807912</td>\n",
       "      <td>-0.533515</td>\n",
       "      <td>-0.402305</td>\n",
       "      <td>-0.096048</td>\n",
       "      <td>-0.224268</td>\n",
       "    </tr>\n",
       "    <tr>\n",
       "      <th>135106</th>\n",
       "      <td>-0.719336</td>\n",
       "      <td>-2.568908</td>\n",
       "      <td>0.027273</td>\n",
       "      <td>0.321358</td>\n",
       "      <td>-0.582478</td>\n",
       "      <td>0.268036</td>\n",
       "      <td>-0.268036</td>\n",
       "      <td>-0.737362</td>\n",
       "      <td>0.737362</td>\n",
       "      <td>-1.004585</td>\n",
       "      <td>...</td>\n",
       "      <td>-0.091551</td>\n",
       "      <td>-0.246226</td>\n",
       "      <td>-0.867657</td>\n",
       "      <td>-0.382459</td>\n",
       "      <td>-0.531420</td>\n",
       "      <td>-0.553124</td>\n",
       "      <td>1.874361</td>\n",
       "      <td>-0.402305</td>\n",
       "      <td>-0.096048</td>\n",
       "      <td>-0.224268</td>\n",
       "    </tr>\n",
       "    <tr>\n",
       "      <th>135107</th>\n",
       "      <td>0.416656</td>\n",
       "      <td>-1.566013</td>\n",
       "      <td>0.045739</td>\n",
       "      <td>1.124082</td>\n",
       "      <td>-0.582478</td>\n",
       "      <td>0.268036</td>\n",
       "      <td>-0.268036</td>\n",
       "      <td>1.356185</td>\n",
       "      <td>-1.356185</td>\n",
       "      <td>0.995436</td>\n",
       "      <td>...</td>\n",
       "      <td>-0.091551</td>\n",
       "      <td>-0.246226</td>\n",
       "      <td>-0.867657</td>\n",
       "      <td>-0.382459</td>\n",
       "      <td>-0.531420</td>\n",
       "      <td>1.807912</td>\n",
       "      <td>-0.533515</td>\n",
       "      <td>-0.402305</td>\n",
       "      <td>-0.096048</td>\n",
       "      <td>-0.224268</td>\n",
       "    </tr>\n",
       "  </tbody>\n",
       "</table>\n",
       "<p>135108 rows × 64 columns</p>\n",
       "</div>"
      ],
      "text/plain": [
       "        loan_amount      term    income  Credit_Score    Status  \\\n",
       "0         -1.152094  0.439777 -0.803694      0.502618  1.716802   \n",
       "1         -0.665241  0.439777 -0.305114     -1.275460  1.716802   \n",
       "2          0.416656  0.439777  0.387358      1.158608 -0.582478   \n",
       "3          0.687130  0.439777  0.756677     -0.973360 -0.582478   \n",
       "4          1.985407  0.439777  0.535086     -0.843888 -0.582478   \n",
       "...             ...       ...       ...           ...       ...   \n",
       "135103     0.578941 -2.568908  0.138068     -0.351895 -0.582478   \n",
       "135104     1.390363  0.439777  0.027273     -1.128726 -0.582478   \n",
       "135105     0.633036 -2.568908 -0.009659      0.019257 -0.582478   \n",
       "135106    -0.719336 -2.568908  0.027273      0.321358 -0.582478   \n",
       "135107     0.416656 -1.566013  0.045739      1.124082 -0.582478   \n",
       "\n",
       "        loan_limit_cf  loan_limit_ncf  submission_of_application_not_inst  \\\n",
       "0            0.268036       -0.268036                           -0.737362   \n",
       "1            0.268036       -0.268036                           -0.737362   \n",
       "2            0.268036       -0.268036                           -0.737362   \n",
       "3            0.268036       -0.268036                            1.356185   \n",
       "4            0.268036       -0.268036                            1.356185   \n",
       "...               ...             ...                                 ...   \n",
       "135103       0.268036       -0.268036                           -0.737362   \n",
       "135104       0.268036       -0.268036                            1.356185   \n",
       "135105       0.268036       -0.268036                            1.356185   \n",
       "135106       0.268036       -0.268036                           -0.737362   \n",
       "135107       0.268036       -0.268036                            1.356185   \n",
       "\n",
       "        submission_of_application_to_inst  co-applicant_credit_type_CIB  ...  \\\n",
       "0                                0.737362                      0.995436  ...   \n",
       "1                                0.737362                     -1.004585  ...   \n",
       "2                                0.737362                      0.995436  ...   \n",
       "3                               -1.356185                      0.995436  ...   \n",
       "4                               -1.356185                     -1.004585  ...   \n",
       "...                                   ...                           ...  ...   \n",
       "135103                           0.737362                     -1.004585  ...   \n",
       "135104                          -1.356185                      0.995436  ...   \n",
       "135105                          -1.356185                     -1.004585  ...   \n",
       "135106                           0.737362                     -1.004585  ...   \n",
       "135107                          -1.356185                      0.995436  ...   \n",
       "\n",
       "        Region_North-East  Region_central  Region_south  age_25-34  age_35-44  \\\n",
       "0               -0.091551       -0.246226      1.152530   2.614658  -0.531420   \n",
       "1               -0.091551       -0.246226     -0.867657  -0.382459  -0.531420   \n",
       "2               -0.091551       -0.246226      1.152530  -0.382459   1.881751   \n",
       "3               -0.091551       -0.246226     -0.867657  -0.382459  -0.531420   \n",
       "4               -0.091551       -0.246226     -0.867657   2.614658  -0.531420   \n",
       "...                   ...             ...           ...        ...        ...   \n",
       "135103          -0.091551       -0.246226      1.152530  -0.382459  -0.531420   \n",
       "135104          -0.091551       -0.246226      1.152530   2.614658  -0.531420   \n",
       "135105          -0.091551       -0.246226     -0.867657  -0.382459  -0.531420   \n",
       "135106          -0.091551       -0.246226     -0.867657  -0.382459  -0.531420   \n",
       "135107          -0.091551       -0.246226     -0.867657  -0.382459  -0.531420   \n",
       "\n",
       "        age_45-54  age_55-64  age_65-74   age_<25   age_>74  \n",
       "0       -0.553124  -0.533515  -0.402305 -0.096048 -0.224268  \n",
       "1       -0.553124   1.874361  -0.402305 -0.096048 -0.224268  \n",
       "2       -0.553124  -0.533515  -0.402305 -0.096048 -0.224268  \n",
       "3        1.807912  -0.533515  -0.402305 -0.096048 -0.224268  \n",
       "4       -0.553124  -0.533515  -0.402305 -0.096048 -0.224268  \n",
       "...           ...        ...        ...       ...       ...  \n",
       "135103  -0.553124   1.874361  -0.402305 -0.096048 -0.224268  \n",
       "135104  -0.553124  -0.533515  -0.402305 -0.096048 -0.224268  \n",
       "135105   1.807912  -0.533515  -0.402305 -0.096048 -0.224268  \n",
       "135106  -0.553124   1.874361  -0.402305 -0.096048 -0.224268  \n",
       "135107   1.807912  -0.533515  -0.402305 -0.096048 -0.224268  \n",
       "\n",
       "[135108 rows x 64 columns]"
      ]
     },
     "metadata": {},
     "output_type": "display_data"
    },
    {
     "data": {
      "text/html": [
       "<div>\n",
       "<style scoped>\n",
       "    .dataframe tbody tr th:only-of-type {\n",
       "        vertical-align: middle;\n",
       "    }\n",
       "\n",
       "    .dataframe tbody tr th {\n",
       "        vertical-align: top;\n",
       "    }\n",
       "\n",
       "    .dataframe thead th {\n",
       "        text-align: right;\n",
       "    }\n",
       "</style>\n",
       "<table border=\"1\" class=\"dataframe\">\n",
       "  <thead>\n",
       "    <tr style=\"text-align: right;\">\n",
       "      <th></th>\n",
       "      <th>loan_amount</th>\n",
       "      <th>term</th>\n",
       "      <th>income</th>\n",
       "      <th>Status</th>\n",
       "      <th>loan_limit_cf</th>\n",
       "      <th>loan_limit_ncf</th>\n",
       "      <th>submission_of_application_not_inst</th>\n",
       "      <th>submission_of_application_to_inst</th>\n",
       "      <th>co-applicant_credit_type_CIB</th>\n",
       "      <th>co-applicant_credit_type_EXP</th>\n",
       "      <th>...</th>\n",
       "      <th>Region_North-East</th>\n",
       "      <th>Region_central</th>\n",
       "      <th>Region_south</th>\n",
       "      <th>age_25-34</th>\n",
       "      <th>age_35-44</th>\n",
       "      <th>age_45-54</th>\n",
       "      <th>age_55-64</th>\n",
       "      <th>age_65-74</th>\n",
       "      <th>age_&lt;25</th>\n",
       "      <th>age_&gt;74</th>\n",
       "    </tr>\n",
       "  </thead>\n",
       "  <tbody>\n",
       "    <tr>\n",
       "      <th>0</th>\n",
       "      <td>116500</td>\n",
       "      <td>360.0</td>\n",
       "      <td>1740.0</td>\n",
       "      <td>1</td>\n",
       "      <td>1</td>\n",
       "      <td>0</td>\n",
       "      <td>0</td>\n",
       "      <td>1</td>\n",
       "      <td>1</td>\n",
       "      <td>0</td>\n",
       "      <td>...</td>\n",
       "      <td>0</td>\n",
       "      <td>0</td>\n",
       "      <td>1</td>\n",
       "      <td>1</td>\n",
       "      <td>0</td>\n",
       "      <td>0</td>\n",
       "      <td>0</td>\n",
       "      <td>0</td>\n",
       "      <td>0</td>\n",
       "      <td>0</td>\n",
       "    </tr>\n",
       "    <tr>\n",
       "      <th>1</th>\n",
       "      <td>206500</td>\n",
       "      <td>360.0</td>\n",
       "      <td>4980.0</td>\n",
       "      <td>1</td>\n",
       "      <td>1</td>\n",
       "      <td>0</td>\n",
       "      <td>0</td>\n",
       "      <td>1</td>\n",
       "      <td>0</td>\n",
       "      <td>1</td>\n",
       "      <td>...</td>\n",
       "      <td>0</td>\n",
       "      <td>0</td>\n",
       "      <td>0</td>\n",
       "      <td>0</td>\n",
       "      <td>0</td>\n",
       "      <td>0</td>\n",
       "      <td>1</td>\n",
       "      <td>0</td>\n",
       "      <td>0</td>\n",
       "      <td>0</td>\n",
       "    </tr>\n",
       "    <tr>\n",
       "      <th>2</th>\n",
       "      <td>406500</td>\n",
       "      <td>360.0</td>\n",
       "      <td>9480.0</td>\n",
       "      <td>0</td>\n",
       "      <td>1</td>\n",
       "      <td>0</td>\n",
       "      <td>0</td>\n",
       "      <td>1</td>\n",
       "      <td>1</td>\n",
       "      <td>0</td>\n",
       "      <td>...</td>\n",
       "      <td>0</td>\n",
       "      <td>0</td>\n",
       "      <td>1</td>\n",
       "      <td>0</td>\n",
       "      <td>1</td>\n",
       "      <td>0</td>\n",
       "      <td>0</td>\n",
       "      <td>0</td>\n",
       "      <td>0</td>\n",
       "      <td>0</td>\n",
       "    </tr>\n",
       "    <tr>\n",
       "      <th>3</th>\n",
       "      <td>456500</td>\n",
       "      <td>360.0</td>\n",
       "      <td>11880.0</td>\n",
       "      <td>0</td>\n",
       "      <td>1</td>\n",
       "      <td>0</td>\n",
       "      <td>1</td>\n",
       "      <td>0</td>\n",
       "      <td>1</td>\n",
       "      <td>0</td>\n",
       "      <td>...</td>\n",
       "      <td>0</td>\n",
       "      <td>0</td>\n",
       "      <td>0</td>\n",
       "      <td>0</td>\n",
       "      <td>0</td>\n",
       "      <td>1</td>\n",
       "      <td>0</td>\n",
       "      <td>0</td>\n",
       "      <td>0</td>\n",
       "      <td>0</td>\n",
       "    </tr>\n",
       "    <tr>\n",
       "      <th>4</th>\n",
       "      <td>696500</td>\n",
       "      <td>360.0</td>\n",
       "      <td>10440.0</td>\n",
       "      <td>0</td>\n",
       "      <td>1</td>\n",
       "      <td>0</td>\n",
       "      <td>1</td>\n",
       "      <td>0</td>\n",
       "      <td>0</td>\n",
       "      <td>1</td>\n",
       "      <td>...</td>\n",
       "      <td>0</td>\n",
       "      <td>0</td>\n",
       "      <td>0</td>\n",
       "      <td>1</td>\n",
       "      <td>0</td>\n",
       "      <td>0</td>\n",
       "      <td>0</td>\n",
       "      <td>0</td>\n",
       "      <td>0</td>\n",
       "      <td>0</td>\n",
       "    </tr>\n",
       "    <tr>\n",
       "      <th>...</th>\n",
       "      <td>...</td>\n",
       "      <td>...</td>\n",
       "      <td>...</td>\n",
       "      <td>...</td>\n",
       "      <td>...</td>\n",
       "      <td>...</td>\n",
       "      <td>...</td>\n",
       "      <td>...</td>\n",
       "      <td>...</td>\n",
       "      <td>...</td>\n",
       "      <td>...</td>\n",
       "      <td>...</td>\n",
       "      <td>...</td>\n",
       "      <td>...</td>\n",
       "      <td>...</td>\n",
       "      <td>...</td>\n",
       "      <td>...</td>\n",
       "      <td>...</td>\n",
       "      <td>...</td>\n",
       "      <td>...</td>\n",
       "      <td>...</td>\n",
       "    </tr>\n",
       "    <tr>\n",
       "      <th>135103</th>\n",
       "      <td>436500</td>\n",
       "      <td>180.0</td>\n",
       "      <td>7860.0</td>\n",
       "      <td>0</td>\n",
       "      <td>1</td>\n",
       "      <td>0</td>\n",
       "      <td>0</td>\n",
       "      <td>1</td>\n",
       "      <td>0</td>\n",
       "      <td>1</td>\n",
       "      <td>...</td>\n",
       "      <td>0</td>\n",
       "      <td>0</td>\n",
       "      <td>1</td>\n",
       "      <td>0</td>\n",
       "      <td>0</td>\n",
       "      <td>0</td>\n",
       "      <td>1</td>\n",
       "      <td>0</td>\n",
       "      <td>0</td>\n",
       "      <td>0</td>\n",
       "    </tr>\n",
       "    <tr>\n",
       "      <th>135104</th>\n",
       "      <td>586500</td>\n",
       "      <td>360.0</td>\n",
       "      <td>7140.0</td>\n",
       "      <td>0</td>\n",
       "      <td>1</td>\n",
       "      <td>0</td>\n",
       "      <td>1</td>\n",
       "      <td>0</td>\n",
       "      <td>1</td>\n",
       "      <td>0</td>\n",
       "      <td>...</td>\n",
       "      <td>0</td>\n",
       "      <td>0</td>\n",
       "      <td>1</td>\n",
       "      <td>1</td>\n",
       "      <td>0</td>\n",
       "      <td>0</td>\n",
       "      <td>0</td>\n",
       "      <td>0</td>\n",
       "      <td>0</td>\n",
       "      <td>0</td>\n",
       "    </tr>\n",
       "    <tr>\n",
       "      <th>135105</th>\n",
       "      <td>446500</td>\n",
       "      <td>180.0</td>\n",
       "      <td>6900.0</td>\n",
       "      <td>0</td>\n",
       "      <td>1</td>\n",
       "      <td>0</td>\n",
       "      <td>1</td>\n",
       "      <td>0</td>\n",
       "      <td>0</td>\n",
       "      <td>1</td>\n",
       "      <td>...</td>\n",
       "      <td>0</td>\n",
       "      <td>0</td>\n",
       "      <td>0</td>\n",
       "      <td>0</td>\n",
       "      <td>0</td>\n",
       "      <td>1</td>\n",
       "      <td>0</td>\n",
       "      <td>0</td>\n",
       "      <td>0</td>\n",
       "      <td>0</td>\n",
       "    </tr>\n",
       "    <tr>\n",
       "      <th>135106</th>\n",
       "      <td>196500</td>\n",
       "      <td>180.0</td>\n",
       "      <td>7140.0</td>\n",
       "      <td>0</td>\n",
       "      <td>1</td>\n",
       "      <td>0</td>\n",
       "      <td>0</td>\n",
       "      <td>1</td>\n",
       "      <td>0</td>\n",
       "      <td>1</td>\n",
       "      <td>...</td>\n",
       "      <td>0</td>\n",
       "      <td>0</td>\n",
       "      <td>0</td>\n",
       "      <td>0</td>\n",
       "      <td>0</td>\n",
       "      <td>0</td>\n",
       "      <td>1</td>\n",
       "      <td>0</td>\n",
       "      <td>0</td>\n",
       "      <td>0</td>\n",
       "    </tr>\n",
       "    <tr>\n",
       "      <th>135107</th>\n",
       "      <td>406500</td>\n",
       "      <td>240.0</td>\n",
       "      <td>7260.0</td>\n",
       "      <td>0</td>\n",
       "      <td>1</td>\n",
       "      <td>0</td>\n",
       "      <td>1</td>\n",
       "      <td>0</td>\n",
       "      <td>1</td>\n",
       "      <td>0</td>\n",
       "      <td>...</td>\n",
       "      <td>0</td>\n",
       "      <td>0</td>\n",
       "      <td>0</td>\n",
       "      <td>0</td>\n",
       "      <td>0</td>\n",
       "      <td>1</td>\n",
       "      <td>0</td>\n",
       "      <td>0</td>\n",
       "      <td>0</td>\n",
       "      <td>0</td>\n",
       "    </tr>\n",
       "  </tbody>\n",
       "</table>\n",
       "<p>135108 rows × 63 columns</p>\n",
       "</div>"
      ],
      "text/plain": [
       "        loan_amount   term   income  Status  loan_limit_cf  loan_limit_ncf  \\\n",
       "0            116500  360.0   1740.0       1              1               0   \n",
       "1            206500  360.0   4980.0       1              1               0   \n",
       "2            406500  360.0   9480.0       0              1               0   \n",
       "3            456500  360.0  11880.0       0              1               0   \n",
       "4            696500  360.0  10440.0       0              1               0   \n",
       "...             ...    ...      ...     ...            ...             ...   \n",
       "135103       436500  180.0   7860.0       0              1               0   \n",
       "135104       586500  360.0   7140.0       0              1               0   \n",
       "135105       446500  180.0   6900.0       0              1               0   \n",
       "135106       196500  180.0   7140.0       0              1               0   \n",
       "135107       406500  240.0   7260.0       0              1               0   \n",
       "\n",
       "        submission_of_application_not_inst  submission_of_application_to_inst  \\\n",
       "0                                        0                                  1   \n",
       "1                                        0                                  1   \n",
       "2                                        0                                  1   \n",
       "3                                        1                                  0   \n",
       "4                                        1                                  0   \n",
       "...                                    ...                                ...   \n",
       "135103                                   0                                  1   \n",
       "135104                                   1                                  0   \n",
       "135105                                   1                                  0   \n",
       "135106                                   0                                  1   \n",
       "135107                                   1                                  0   \n",
       "\n",
       "        co-applicant_credit_type_CIB  co-applicant_credit_type_EXP  ...  \\\n",
       "0                                  1                             0  ...   \n",
       "1                                  0                             1  ...   \n",
       "2                                  1                             0  ...   \n",
       "3                                  1                             0  ...   \n",
       "4                                  0                             1  ...   \n",
       "...                              ...                           ...  ...   \n",
       "135103                             0                             1  ...   \n",
       "135104                             1                             0  ...   \n",
       "135105                             0                             1  ...   \n",
       "135106                             0                             1  ...   \n",
       "135107                             1                             0  ...   \n",
       "\n",
       "        Region_North-East  Region_central  Region_south  age_25-34  age_35-44  \\\n",
       "0                       0               0             1          1          0   \n",
       "1                       0               0             0          0          0   \n",
       "2                       0               0             1          0          1   \n",
       "3                       0               0             0          0          0   \n",
       "4                       0               0             0          1          0   \n",
       "...                   ...             ...           ...        ...        ...   \n",
       "135103                  0               0             1          0          0   \n",
       "135104                  0               0             1          1          0   \n",
       "135105                  0               0             0          0          0   \n",
       "135106                  0               0             0          0          0   \n",
       "135107                  0               0             0          0          0   \n",
       "\n",
       "        age_45-54  age_55-64  age_65-74  age_<25  age_>74  \n",
       "0               0          0          0        0        0  \n",
       "1               0          1          0        0        0  \n",
       "2               0          0          0        0        0  \n",
       "3               1          0          0        0        0  \n",
       "4               0          0          0        0        0  \n",
       "...           ...        ...        ...      ...      ...  \n",
       "135103          0          1          0        0        0  \n",
       "135104          0          0          0        0        0  \n",
       "135105          1          0          0        0        0  \n",
       "135106          0          1          0        0        0  \n",
       "135107          1          0          0        0        0  \n",
       "\n",
       "[135108 rows x 63 columns]"
      ]
     },
     "metadata": {},
     "output_type": "display_data"
    },
    {
     "data": {
      "application/javascript": [
       "\n",
       "            setTimeout(function() {\n",
       "                var nbb_cell_id = 70;\n",
       "                var nbb_unformatted_code = \"X_standardized = df\\nX_standardized = standardizeData(X_standardized)\\ndisplay(X_standardized)\\ndisplay(X)\";\n",
       "                var nbb_formatted_code = \"X_standardized = df\\nX_standardized = standardizeData(X_standardized)\\ndisplay(X_standardized)\\ndisplay(X)\";\n",
       "                var nbb_cells = Jupyter.notebook.get_cells();\n",
       "                for (var i = 0; i < nbb_cells.length; ++i) {\n",
       "                    if (nbb_cells[i].input_prompt_number == nbb_cell_id) {\n",
       "                        if (nbb_cells[i].get_text() == nbb_unformatted_code) {\n",
       "                             nbb_cells[i].set_text(nbb_formatted_code);\n",
       "                        }\n",
       "                        break;\n",
       "                    }\n",
       "                }\n",
       "            }, 500);\n",
       "            "
      ],
      "text/plain": [
       "<IPython.core.display.Javascript object>"
      ]
     },
     "metadata": {},
     "output_type": "display_data"
    }
   ],
   "source": [
    "X_standardized = df\n",
    "X_standardized = standardizeData(X_standardized)\n",
    "display(X_standardized)\n",
    "display(X)"
   ]
  },
  {
   "cell_type": "code",
   "execution_count": 74,
   "id": "5175c0e0",
   "metadata": {},
   "outputs": [
    {
     "data": {
      "text/html": [
       "<div>\n",
       "<style scoped>\n",
       "    .dataframe tbody tr th:only-of-type {\n",
       "        vertical-align: middle;\n",
       "    }\n",
       "\n",
       "    .dataframe tbody tr th {\n",
       "        vertical-align: top;\n",
       "    }\n",
       "\n",
       "    .dataframe thead th {\n",
       "        text-align: right;\n",
       "    }\n",
       "</style>\n",
       "<table border=\"1\" class=\"dataframe\">\n",
       "  <thead>\n",
       "    <tr style=\"text-align: right;\">\n",
       "      <th></th>\n",
       "      <th>loan_amount</th>\n",
       "      <th>term</th>\n",
       "      <th>income</th>\n",
       "    </tr>\n",
       "  </thead>\n",
       "  <tbody>\n",
       "    <tr>\n",
       "      <th>0</th>\n",
       "      <td>-1.152094</td>\n",
       "      <td>0.439777</td>\n",
       "      <td>-0.803694</td>\n",
       "    </tr>\n",
       "    <tr>\n",
       "      <th>1</th>\n",
       "      <td>-0.665241</td>\n",
       "      <td>0.439777</td>\n",
       "      <td>-0.305114</td>\n",
       "    </tr>\n",
       "    <tr>\n",
       "      <th>2</th>\n",
       "      <td>0.416656</td>\n",
       "      <td>0.439777</td>\n",
       "      <td>0.387358</td>\n",
       "    </tr>\n",
       "    <tr>\n",
       "      <th>3</th>\n",
       "      <td>0.687130</td>\n",
       "      <td>0.439777</td>\n",
       "      <td>0.756677</td>\n",
       "    </tr>\n",
       "    <tr>\n",
       "      <th>4</th>\n",
       "      <td>1.985407</td>\n",
       "      <td>0.439777</td>\n",
       "      <td>0.535086</td>\n",
       "    </tr>\n",
       "    <tr>\n",
       "      <th>...</th>\n",
       "      <td>...</td>\n",
       "      <td>...</td>\n",
       "      <td>...</td>\n",
       "    </tr>\n",
       "    <tr>\n",
       "      <th>135103</th>\n",
       "      <td>0.578941</td>\n",
       "      <td>-2.568908</td>\n",
       "      <td>0.138068</td>\n",
       "    </tr>\n",
       "    <tr>\n",
       "      <th>135104</th>\n",
       "      <td>1.390363</td>\n",
       "      <td>0.439777</td>\n",
       "      <td>0.027273</td>\n",
       "    </tr>\n",
       "    <tr>\n",
       "      <th>135105</th>\n",
       "      <td>0.633036</td>\n",
       "      <td>-2.568908</td>\n",
       "      <td>-0.009659</td>\n",
       "    </tr>\n",
       "    <tr>\n",
       "      <th>135106</th>\n",
       "      <td>-0.719336</td>\n",
       "      <td>-2.568908</td>\n",
       "      <td>0.027273</td>\n",
       "    </tr>\n",
       "    <tr>\n",
       "      <th>135107</th>\n",
       "      <td>0.416656</td>\n",
       "      <td>-1.566013</td>\n",
       "      <td>0.045739</td>\n",
       "    </tr>\n",
       "  </tbody>\n",
       "</table>\n",
       "<p>135108 rows × 3 columns</p>\n",
       "</div>"
      ],
      "text/plain": [
       "        loan_amount      term    income\n",
       "0         -1.152094  0.439777 -0.803694\n",
       "1         -0.665241  0.439777 -0.305114\n",
       "2          0.416656  0.439777  0.387358\n",
       "3          0.687130  0.439777  0.756677\n",
       "4          1.985407  0.439777  0.535086\n",
       "...             ...       ...       ...\n",
       "135103     0.578941 -2.568908  0.138068\n",
       "135104     1.390363  0.439777  0.027273\n",
       "135105     0.633036 -2.568908 -0.009659\n",
       "135106    -0.719336 -2.568908  0.027273\n",
       "135107     0.416656 -1.566013  0.045739\n",
       "\n",
       "[135108 rows x 3 columns]"
      ]
     },
     "metadata": {},
     "output_type": "display_data"
    },
    {
     "data": {
      "text/html": [
       "<div>\n",
       "<style scoped>\n",
       "    .dataframe tbody tr th:only-of-type {\n",
       "        vertical-align: middle;\n",
       "    }\n",
       "\n",
       "    .dataframe tbody tr th {\n",
       "        vertical-align: top;\n",
       "    }\n",
       "\n",
       "    .dataframe thead th {\n",
       "        text-align: right;\n",
       "    }\n",
       "</style>\n",
       "<table border=\"1\" class=\"dataframe\">\n",
       "  <thead>\n",
       "    <tr style=\"text-align: right;\">\n",
       "      <th></th>\n",
       "      <th>loan_amount</th>\n",
       "      <th>term</th>\n",
       "      <th>income</th>\n",
       "      <th>Status</th>\n",
       "      <th>loan_limit_cf</th>\n",
       "      <th>loan_limit_ncf</th>\n",
       "      <th>submission_of_application_not_inst</th>\n",
       "      <th>submission_of_application_to_inst</th>\n",
       "      <th>co-applicant_credit_type_CIB</th>\n",
       "      <th>co-applicant_credit_type_EXP</th>\n",
       "      <th>...</th>\n",
       "      <th>Region_North-East</th>\n",
       "      <th>Region_central</th>\n",
       "      <th>Region_south</th>\n",
       "      <th>age_25-34</th>\n",
       "      <th>age_35-44</th>\n",
       "      <th>age_45-54</th>\n",
       "      <th>age_55-64</th>\n",
       "      <th>age_65-74</th>\n",
       "      <th>age_&lt;25</th>\n",
       "      <th>age_&gt;74</th>\n",
       "    </tr>\n",
       "  </thead>\n",
       "  <tbody>\n",
       "    <tr>\n",
       "      <th>0</th>\n",
       "      <td>-1.152094</td>\n",
       "      <td>0.439777</td>\n",
       "      <td>-0.803694</td>\n",
       "      <td>1</td>\n",
       "      <td>1</td>\n",
       "      <td>0</td>\n",
       "      <td>0</td>\n",
       "      <td>1</td>\n",
       "      <td>1</td>\n",
       "      <td>0</td>\n",
       "      <td>...</td>\n",
       "      <td>0</td>\n",
       "      <td>0</td>\n",
       "      <td>1</td>\n",
       "      <td>1</td>\n",
       "      <td>0</td>\n",
       "      <td>0</td>\n",
       "      <td>0</td>\n",
       "      <td>0</td>\n",
       "      <td>0</td>\n",
       "      <td>0</td>\n",
       "    </tr>\n",
       "    <tr>\n",
       "      <th>1</th>\n",
       "      <td>-0.665241</td>\n",
       "      <td>0.439777</td>\n",
       "      <td>-0.305114</td>\n",
       "      <td>1</td>\n",
       "      <td>1</td>\n",
       "      <td>0</td>\n",
       "      <td>0</td>\n",
       "      <td>1</td>\n",
       "      <td>0</td>\n",
       "      <td>1</td>\n",
       "      <td>...</td>\n",
       "      <td>0</td>\n",
       "      <td>0</td>\n",
       "      <td>0</td>\n",
       "      <td>0</td>\n",
       "      <td>0</td>\n",
       "      <td>0</td>\n",
       "      <td>1</td>\n",
       "      <td>0</td>\n",
       "      <td>0</td>\n",
       "      <td>0</td>\n",
       "    </tr>\n",
       "    <tr>\n",
       "      <th>2</th>\n",
       "      <td>0.416656</td>\n",
       "      <td>0.439777</td>\n",
       "      <td>0.387358</td>\n",
       "      <td>0</td>\n",
       "      <td>1</td>\n",
       "      <td>0</td>\n",
       "      <td>0</td>\n",
       "      <td>1</td>\n",
       "      <td>1</td>\n",
       "      <td>0</td>\n",
       "      <td>...</td>\n",
       "      <td>0</td>\n",
       "      <td>0</td>\n",
       "      <td>1</td>\n",
       "      <td>0</td>\n",
       "      <td>1</td>\n",
       "      <td>0</td>\n",
       "      <td>0</td>\n",
       "      <td>0</td>\n",
       "      <td>0</td>\n",
       "      <td>0</td>\n",
       "    </tr>\n",
       "    <tr>\n",
       "      <th>3</th>\n",
       "      <td>0.687130</td>\n",
       "      <td>0.439777</td>\n",
       "      <td>0.756677</td>\n",
       "      <td>0</td>\n",
       "      <td>1</td>\n",
       "      <td>0</td>\n",
       "      <td>1</td>\n",
       "      <td>0</td>\n",
       "      <td>1</td>\n",
       "      <td>0</td>\n",
       "      <td>...</td>\n",
       "      <td>0</td>\n",
       "      <td>0</td>\n",
       "      <td>0</td>\n",
       "      <td>0</td>\n",
       "      <td>0</td>\n",
       "      <td>1</td>\n",
       "      <td>0</td>\n",
       "      <td>0</td>\n",
       "      <td>0</td>\n",
       "      <td>0</td>\n",
       "    </tr>\n",
       "    <tr>\n",
       "      <th>4</th>\n",
       "      <td>1.985407</td>\n",
       "      <td>0.439777</td>\n",
       "      <td>0.535086</td>\n",
       "      <td>0</td>\n",
       "      <td>1</td>\n",
       "      <td>0</td>\n",
       "      <td>1</td>\n",
       "      <td>0</td>\n",
       "      <td>0</td>\n",
       "      <td>1</td>\n",
       "      <td>...</td>\n",
       "      <td>0</td>\n",
       "      <td>0</td>\n",
       "      <td>0</td>\n",
       "      <td>1</td>\n",
       "      <td>0</td>\n",
       "      <td>0</td>\n",
       "      <td>0</td>\n",
       "      <td>0</td>\n",
       "      <td>0</td>\n",
       "      <td>0</td>\n",
       "    </tr>\n",
       "    <tr>\n",
       "      <th>...</th>\n",
       "      <td>...</td>\n",
       "      <td>...</td>\n",
       "      <td>...</td>\n",
       "      <td>...</td>\n",
       "      <td>...</td>\n",
       "      <td>...</td>\n",
       "      <td>...</td>\n",
       "      <td>...</td>\n",
       "      <td>...</td>\n",
       "      <td>...</td>\n",
       "      <td>...</td>\n",
       "      <td>...</td>\n",
       "      <td>...</td>\n",
       "      <td>...</td>\n",
       "      <td>...</td>\n",
       "      <td>...</td>\n",
       "      <td>...</td>\n",
       "      <td>...</td>\n",
       "      <td>...</td>\n",
       "      <td>...</td>\n",
       "      <td>...</td>\n",
       "    </tr>\n",
       "    <tr>\n",
       "      <th>135103</th>\n",
       "      <td>0.578941</td>\n",
       "      <td>-2.568908</td>\n",
       "      <td>0.138068</td>\n",
       "      <td>0</td>\n",
       "      <td>1</td>\n",
       "      <td>0</td>\n",
       "      <td>0</td>\n",
       "      <td>1</td>\n",
       "      <td>0</td>\n",
       "      <td>1</td>\n",
       "      <td>...</td>\n",
       "      <td>0</td>\n",
       "      <td>0</td>\n",
       "      <td>1</td>\n",
       "      <td>0</td>\n",
       "      <td>0</td>\n",
       "      <td>0</td>\n",
       "      <td>1</td>\n",
       "      <td>0</td>\n",
       "      <td>0</td>\n",
       "      <td>0</td>\n",
       "    </tr>\n",
       "    <tr>\n",
       "      <th>135104</th>\n",
       "      <td>1.390363</td>\n",
       "      <td>0.439777</td>\n",
       "      <td>0.027273</td>\n",
       "      <td>0</td>\n",
       "      <td>1</td>\n",
       "      <td>0</td>\n",
       "      <td>1</td>\n",
       "      <td>0</td>\n",
       "      <td>1</td>\n",
       "      <td>0</td>\n",
       "      <td>...</td>\n",
       "      <td>0</td>\n",
       "      <td>0</td>\n",
       "      <td>1</td>\n",
       "      <td>1</td>\n",
       "      <td>0</td>\n",
       "      <td>0</td>\n",
       "      <td>0</td>\n",
       "      <td>0</td>\n",
       "      <td>0</td>\n",
       "      <td>0</td>\n",
       "    </tr>\n",
       "    <tr>\n",
       "      <th>135105</th>\n",
       "      <td>0.633036</td>\n",
       "      <td>-2.568908</td>\n",
       "      <td>-0.009659</td>\n",
       "      <td>0</td>\n",
       "      <td>1</td>\n",
       "      <td>0</td>\n",
       "      <td>1</td>\n",
       "      <td>0</td>\n",
       "      <td>0</td>\n",
       "      <td>1</td>\n",
       "      <td>...</td>\n",
       "      <td>0</td>\n",
       "      <td>0</td>\n",
       "      <td>0</td>\n",
       "      <td>0</td>\n",
       "      <td>0</td>\n",
       "      <td>1</td>\n",
       "      <td>0</td>\n",
       "      <td>0</td>\n",
       "      <td>0</td>\n",
       "      <td>0</td>\n",
       "    </tr>\n",
       "    <tr>\n",
       "      <th>135106</th>\n",
       "      <td>-0.719336</td>\n",
       "      <td>-2.568908</td>\n",
       "      <td>0.027273</td>\n",
       "      <td>0</td>\n",
       "      <td>1</td>\n",
       "      <td>0</td>\n",
       "      <td>0</td>\n",
       "      <td>1</td>\n",
       "      <td>0</td>\n",
       "      <td>1</td>\n",
       "      <td>...</td>\n",
       "      <td>0</td>\n",
       "      <td>0</td>\n",
       "      <td>0</td>\n",
       "      <td>0</td>\n",
       "      <td>0</td>\n",
       "      <td>0</td>\n",
       "      <td>1</td>\n",
       "      <td>0</td>\n",
       "      <td>0</td>\n",
       "      <td>0</td>\n",
       "    </tr>\n",
       "    <tr>\n",
       "      <th>135107</th>\n",
       "      <td>0.416656</td>\n",
       "      <td>-1.566013</td>\n",
       "      <td>0.045739</td>\n",
       "      <td>0</td>\n",
       "      <td>1</td>\n",
       "      <td>0</td>\n",
       "      <td>1</td>\n",
       "      <td>0</td>\n",
       "      <td>1</td>\n",
       "      <td>0</td>\n",
       "      <td>...</td>\n",
       "      <td>0</td>\n",
       "      <td>0</td>\n",
       "      <td>0</td>\n",
       "      <td>0</td>\n",
       "      <td>0</td>\n",
       "      <td>1</td>\n",
       "      <td>0</td>\n",
       "      <td>0</td>\n",
       "      <td>0</td>\n",
       "      <td>0</td>\n",
       "    </tr>\n",
       "  </tbody>\n",
       "</table>\n",
       "<p>135108 rows × 63 columns</p>\n",
       "</div>"
      ],
      "text/plain": [
       "        loan_amount      term    income  Status  loan_limit_cf  \\\n",
       "0         -1.152094  0.439777 -0.803694       1              1   \n",
       "1         -0.665241  0.439777 -0.305114       1              1   \n",
       "2          0.416656  0.439777  0.387358       0              1   \n",
       "3          0.687130  0.439777  0.756677       0              1   \n",
       "4          1.985407  0.439777  0.535086       0              1   \n",
       "...             ...       ...       ...     ...            ...   \n",
       "135103     0.578941 -2.568908  0.138068       0              1   \n",
       "135104     1.390363  0.439777  0.027273       0              1   \n",
       "135105     0.633036 -2.568908 -0.009659       0              1   \n",
       "135106    -0.719336 -2.568908  0.027273       0              1   \n",
       "135107     0.416656 -1.566013  0.045739       0              1   \n",
       "\n",
       "        loan_limit_ncf  submission_of_application_not_inst  \\\n",
       "0                    0                                   0   \n",
       "1                    0                                   0   \n",
       "2                    0                                   0   \n",
       "3                    0                                   1   \n",
       "4                    0                                   1   \n",
       "...                ...                                 ...   \n",
       "135103               0                                   0   \n",
       "135104               0                                   1   \n",
       "135105               0                                   1   \n",
       "135106               0                                   0   \n",
       "135107               0                                   1   \n",
       "\n",
       "        submission_of_application_to_inst  co-applicant_credit_type_CIB  \\\n",
       "0                                       1                             1   \n",
       "1                                       1                             0   \n",
       "2                                       1                             1   \n",
       "3                                       0                             1   \n",
       "4                                       0                             0   \n",
       "...                                   ...                           ...   \n",
       "135103                                  1                             0   \n",
       "135104                                  0                             1   \n",
       "135105                                  0                             0   \n",
       "135106                                  1                             0   \n",
       "135107                                  0                             1   \n",
       "\n",
       "        co-applicant_credit_type_EXP  ...  Region_North-East  Region_central  \\\n",
       "0                                  0  ...                  0               0   \n",
       "1                                  1  ...                  0               0   \n",
       "2                                  0  ...                  0               0   \n",
       "3                                  0  ...                  0               0   \n",
       "4                                  1  ...                  0               0   \n",
       "...                              ...  ...                ...             ...   \n",
       "135103                             1  ...                  0               0   \n",
       "135104                             0  ...                  0               0   \n",
       "135105                             1  ...                  0               0   \n",
       "135106                             1  ...                  0               0   \n",
       "135107                             0  ...                  0               0   \n",
       "\n",
       "        Region_south  age_25-34  age_35-44  age_45-54  age_55-64  age_65-74  \\\n",
       "0                  1          1          0          0          0          0   \n",
       "1                  0          0          0          0          1          0   \n",
       "2                  1          0          1          0          0          0   \n",
       "3                  0          0          0          1          0          0   \n",
       "4                  0          1          0          0          0          0   \n",
       "...              ...        ...        ...        ...        ...        ...   \n",
       "135103             1          0          0          0          1          0   \n",
       "135104             1          1          0          0          0          0   \n",
       "135105             0          0          0          1          0          0   \n",
       "135106             0          0          0          0          1          0   \n",
       "135107             0          0          0          1          0          0   \n",
       "\n",
       "        age_<25  age_>74  \n",
       "0             0        0  \n",
       "1             0        0  \n",
       "2             0        0  \n",
       "3             0        0  \n",
       "4             0        0  \n",
       "...         ...      ...  \n",
       "135103        0        0  \n",
       "135104        0        0  \n",
       "135105        0        0  \n",
       "135106        0        0  \n",
       "135107        0        0  \n",
       "\n",
       "[135108 rows x 63 columns]"
      ]
     },
     "metadata": {},
     "output_type": "display_data"
    },
    {
     "data": {
      "application/javascript": [
       "\n",
       "            setTimeout(function() {\n",
       "                var nbb_cell_id = 74;\n",
       "                var nbb_unformatted_code = \"# Lets not standardize dummy variables\\nX_standNotDumb = standardizeData(X.iloc[:, :3])\\nXnewstand = X\\ndisplay(X_standNotDumb)\\n# display(Xnewstand)\\nXnewstand[[\\\"loan_amount\\\", \\\"term\\\", \\\"income\\\"]] = X_standNotDumb[\\n    [\\\"loan_amount\\\", \\\"term\\\", \\\"income\\\"]\\n]\\ndisplay(Xnewstand)\";\n",
       "                var nbb_formatted_code = \"# Lets not standardize dummy variables\\nX_standNotDumb = standardizeData(X.iloc[:, :3])\\nXnewstand = X\\ndisplay(X_standNotDumb)\\n# display(Xnewstand)\\nXnewstand[[\\\"loan_amount\\\", \\\"term\\\", \\\"income\\\"]] = X_standNotDumb[\\n    [\\\"loan_amount\\\", \\\"term\\\", \\\"income\\\"]\\n]\\ndisplay(Xnewstand)\";\n",
       "                var nbb_cells = Jupyter.notebook.get_cells();\n",
       "                for (var i = 0; i < nbb_cells.length; ++i) {\n",
       "                    if (nbb_cells[i].input_prompt_number == nbb_cell_id) {\n",
       "                        if (nbb_cells[i].get_text() == nbb_unformatted_code) {\n",
       "                             nbb_cells[i].set_text(nbb_formatted_code);\n",
       "                        }\n",
       "                        break;\n",
       "                    }\n",
       "                }\n",
       "            }, 500);\n",
       "            "
      ],
      "text/plain": [
       "<IPython.core.display.Javascript object>"
      ]
     },
     "metadata": {},
     "output_type": "display_data"
    }
   ],
   "source": [
    "# Lets not standardize dummy variables\n",
    "X_standNotDumb = standardizeData(X.iloc[:, :3])\n",
    "Xnewstand = X\n",
    "display(X_standNotDumb)\n",
    "# display(Xnewstand)\n",
    "Xnewstand[[\"loan_amount\", \"term\", \"income\"]] = X_standNotDumb[\n",
    "    [\"loan_amount\", \"term\", \"income\"]\n",
    "]\n",
    "display(Xnewstand)"
   ]
  },
  {
   "cell_type": "code",
   "execution_count": 10,
   "id": "3e604e20",
   "metadata": {},
   "outputs": [
    {
     "data": {
      "text/plain": [
       "0      0.327551\n",
       "1      1.382586\n",
       "2      0.816499\n",
       "3     11.881972\n",
       "4     39.657372\n",
       "        ...    \n",
       "58    10.372135\n",
       "59     9.324720\n",
       "60     6.273951\n",
       "61     0.572112\n",
       "62     2.112797\n",
       "Length: 63, dtype: float64"
      ]
     },
     "metadata": {},
     "output_type": "display_data"
    },
    {
     "data": {
      "application/javascript": [
       "\n",
       "            setTimeout(function() {\n",
       "                var nbb_cell_id = 10;\n",
       "                var nbb_unformatted_code = \"# Start analysis with value of arbitrary value of lambda\\nfrom sklearn.model_selection import train_test_split\\n\\nXtrain, Xtest, Ytrain, Ytest = train_test_split(\\n    Xnewstand, y, test_size=0.3, random_state=0\\n)\\n\\nn, m = Xtrain.shape\\nI = np.identity(m)\\nalpha = 1e5\\nbeta = sp.linalg.inv((Xtrain.T @ Xtrain) + alpha * I) @ Xtrain.T @ Ytrain\\ndisplay(beta)\";\n",
       "                var nbb_formatted_code = \"# Start analysis with value of arbitrary value of lambda\\nfrom sklearn.model_selection import train_test_split\\n\\nXtrain, Xtest, Ytrain, Ytest = train_test_split(\\n    Xnewstand, y, test_size=0.3, random_state=0\\n)\\n\\nn, m = Xtrain.shape\\nI = np.identity(m)\\nalpha = 1e5\\nbeta = sp.linalg.inv((Xtrain.T @ Xtrain) + alpha * I) @ Xtrain.T @ Ytrain\\ndisplay(beta)\";\n",
       "                var nbb_cells = Jupyter.notebook.get_cells();\n",
       "                for (var i = 0; i < nbb_cells.length; ++i) {\n",
       "                    if (nbb_cells[i].input_prompt_number == nbb_cell_id) {\n",
       "                        if (nbb_cells[i].get_text() == nbb_unformatted_code) {\n",
       "                             nbb_cells[i].set_text(nbb_formatted_code);\n",
       "                        }\n",
       "                        break;\n",
       "                    }\n",
       "                }\n",
       "            }, 500);\n",
       "            "
      ],
      "text/plain": [
       "<IPython.core.display.Javascript object>"
      ]
     },
     "metadata": {},
     "output_type": "display_data"
    }
   ],
   "source": [
    "# Start analysis with value of arbitrary value of lambda\n",
    "from sklearn.model_selection import train_test_split\n",
    "\n",
    "Xtrain, Xtest, Ytrain, Ytest = train_test_split(\n",
    "    Xnewstand, y, test_size=0.3, random_state=0\n",
    ")\n",
    "\n",
    "n, m = Xtrain.shape\n",
    "I = np.identity(m)\n",
    "alpha = 1e5\n",
    "beta = sp.linalg.inv((Xtrain.T @ Xtrain) + alpha * I) @ Xtrain.T @ Ytrain\n",
    "display(beta)"
   ]
  },
  {
   "cell_type": "code",
   "execution_count": 11,
   "id": "d4c7743d",
   "metadata": {},
   "outputs": [
    {
     "data": {
      "text/html": [
       "<div>\n",
       "<style scoped>\n",
       "    .dataframe tbody tr th:only-of-type {\n",
       "        vertical-align: middle;\n",
       "    }\n",
       "\n",
       "    .dataframe tbody tr th {\n",
       "        vertical-align: top;\n",
       "    }\n",
       "\n",
       "    .dataframe thead th {\n",
       "        text-align: right;\n",
       "    }\n",
       "</style>\n",
       "<table border=\"1\" class=\"dataframe\">\n",
       "  <thead>\n",
       "    <tr style=\"text-align: right;\">\n",
       "      <th></th>\n",
       "      <th>abs coef</th>\n",
       "      <th>coef</th>\n",
       "      <th>names</th>\n",
       "    </tr>\n",
       "  </thead>\n",
       "  <tbody>\n",
       "    <tr>\n",
       "      <th>15</th>\n",
       "      <td>44.549106</td>\n",
       "      <td>44.549106</td>\n",
       "      <td>Security_Type_direct</td>\n",
       "    </tr>\n",
       "    <tr>\n",
       "      <th>10</th>\n",
       "      <td>44.549106</td>\n",
       "      <td>44.549106</td>\n",
       "      <td>Secured_by_home</td>\n",
       "    </tr>\n",
       "    <tr>\n",
       "      <th>13</th>\n",
       "      <td>44.549106</td>\n",
       "      <td>44.549106</td>\n",
       "      <td>construction_type_sb</td>\n",
       "    </tr>\n",
       "    <tr>\n",
       "      <th>24</th>\n",
       "      <td>44.073175</td>\n",
       "      <td>44.073175</td>\n",
       "      <td>open_credit_nopc</td>\n",
       "    </tr>\n",
       "    <tr>\n",
       "      <th>40</th>\n",
       "      <td>43.089548</td>\n",
       "      <td>43.089548</td>\n",
       "      <td>total_units_1U</td>\n",
       "    </tr>\n",
       "    <tr>\n",
       "      <th>...</th>\n",
       "      <td>...</td>\n",
       "      <td>...</td>\n",
       "      <td>...</td>\n",
       "    </tr>\n",
       "    <tr>\n",
       "      <th>42</th>\n",
       "      <td>0.326860</td>\n",
       "      <td>0.326860</td>\n",
       "      <td>total_units_3U</td>\n",
       "    </tr>\n",
       "    <tr>\n",
       "      <th>43</th>\n",
       "      <td>0.249578</td>\n",
       "      <td>0.249578</td>\n",
       "      <td>total_units_4U</td>\n",
       "    </tr>\n",
       "    <tr>\n",
       "      <th>12</th>\n",
       "      <td>0.047013</td>\n",
       "      <td>0.047013</td>\n",
       "      <td>construction_type_mh</td>\n",
       "    </tr>\n",
       "    <tr>\n",
       "      <th>14</th>\n",
       "      <td>0.047013</td>\n",
       "      <td>0.047013</td>\n",
       "      <td>Security_Type_Indriect</td>\n",
       "    </tr>\n",
       "    <tr>\n",
       "      <th>11</th>\n",
       "      <td>0.047013</td>\n",
       "      <td>0.047013</td>\n",
       "      <td>Secured_by_land</td>\n",
       "    </tr>\n",
       "  </tbody>\n",
       "</table>\n",
       "<p>63 rows × 3 columns</p>\n",
       "</div>"
      ],
      "text/plain": [
       "     abs coef       coef                   names\n",
       "15  44.549106  44.549106    Security_Type_direct\n",
       "10  44.549106  44.549106         Secured_by_home\n",
       "13  44.549106  44.549106    construction_type_sb\n",
       "24  44.073175  44.073175        open_credit_nopc\n",
       "40  43.089548  43.089548          total_units_1U\n",
       "..        ...        ...                     ...\n",
       "42   0.326860   0.326860          total_units_3U\n",
       "43   0.249578   0.249578          total_units_4U\n",
       "12   0.047013   0.047013    construction_type_mh\n",
       "14   0.047013   0.047013  Security_Type_Indriect\n",
       "11   0.047013   0.047013         Secured_by_land\n",
       "\n",
       "[63 rows x 3 columns]"
      ]
     },
     "metadata": {},
     "output_type": "display_data"
    },
    {
     "data": {
      "application/javascript": [
       "\n",
       "            setTimeout(function() {\n",
       "                var nbb_cell_id = 11;\n",
       "                var nbb_unformatted_code = \"variables = X.columns.tolist()\\nmodel_coef = pd.DataFrame({\\\"abs coef\\\": abs(beta), \\\"coef\\\": beta, \\\"names\\\": variables})\\ndisplay(\\n    model_coef[model_coef[\\\"abs coef\\\"] != 0].sort_values(by=\\\"abs coef\\\", ascending=False)\\n)\";\n",
       "                var nbb_formatted_code = \"variables = X.columns.tolist()\\nmodel_coef = pd.DataFrame({\\\"abs coef\\\": abs(beta), \\\"coef\\\": beta, \\\"names\\\": variables})\\ndisplay(\\n    model_coef[model_coef[\\\"abs coef\\\"] != 0].sort_values(by=\\\"abs coef\\\", ascending=False)\\n)\";\n",
       "                var nbb_cells = Jupyter.notebook.get_cells();\n",
       "                for (var i = 0; i < nbb_cells.length; ++i) {\n",
       "                    if (nbb_cells[i].input_prompt_number == nbb_cell_id) {\n",
       "                        if (nbb_cells[i].get_text() == nbb_unformatted_code) {\n",
       "                             nbb_cells[i].set_text(nbb_formatted_code);\n",
       "                        }\n",
       "                        break;\n",
       "                    }\n",
       "                }\n",
       "            }, 500);\n",
       "            "
      ],
      "text/plain": [
       "<IPython.core.display.Javascript object>"
      ]
     },
     "metadata": {},
     "output_type": "display_data"
    }
   ],
   "source": [
    "variables = X.columns.tolist()\n",
    "model_coef = pd.DataFrame({\"abs coef\": abs(beta), \"coef\": beta, \"names\": variables})\n",
    "display(\n",
    "    model_coef[model_coef[\"abs coef\"] != 0].sort_values(by=\"abs coef\", ascending=False)\n",
    ")"
   ]
  },
  {
   "cell_type": "code",
   "execution_count": 12,
   "id": "95037f3b",
   "metadata": {},
   "outputs": [
    {
     "data": {
      "text/plain": [
       "(-0.039, 1.039, -2.8264182786970693, 49.99022146624917)"
      ]
     },
     "execution_count": 12,
     "metadata": {},
     "output_type": "execute_result"
    },
    {
     "data": {
      "image/png": "[encoded data removed]",
      "text/plain": [
       "<Figure size 432x288 with 1 Axes>"
      ]
     },
     "metadata": {
      "needs_background": "light"
     },
     "output_type": "display_data"
    },
    {
     "data": {
      "application/javascript": [
       "\n",
       "            setTimeout(function() {\n",
       "                var nbb_cell_id = 12;\n",
       "                var nbb_unformatted_code = \"import scipy as sp\\n\\ncoef = []\\nalphas = np.arange(0.01, 1, 0.01)\\nallData = pd.DataFrame({\\\"alphas\\\": alphas})\\n\\nfor a in alphas:\\n    beta = sp.linalg.inv((Xtrain.T @ Xtrain) + a * I) @ Xtrain.T @ Ytrain\\n    coef.append(beta)\\n\\n\\n## Make plot of Beta as a function of Alpha\\nfig = plt.figure()\\nax = fig.add_subplot(111)\\nax.plot(alphas, coef)\\nax.set_xlabel(\\\"Alpha (Regularization Parameter)\\\")\\nax.set_ylabel(\\\"Beta (Predictor Coefficients)\\\")\\nax.set_title(\\\"Ridge Coefficients vs Regularization Parameters\\\")\\nax.axis(\\\"tight\\\")\";\n",
       "                var nbb_formatted_code = \"import scipy as sp\\n\\ncoef = []\\nalphas = np.arange(0.01, 1, 0.01)\\nallData = pd.DataFrame({\\\"alphas\\\": alphas})\\n\\nfor a in alphas:\\n    beta = sp.linalg.inv((Xtrain.T @ Xtrain) + a * I) @ Xtrain.T @ Ytrain\\n    coef.append(beta)\\n\\n\\n## Make plot of Beta as a function of Alpha\\nfig = plt.figure()\\nax = fig.add_subplot(111)\\nax.plot(alphas, coef)\\nax.set_xlabel(\\\"Alpha (Regularization Parameter)\\\")\\nax.set_ylabel(\\\"Beta (Predictor Coefficients)\\\")\\nax.set_title(\\\"Ridge Coefficients vs Regularization Parameters\\\")\\nax.axis(\\\"tight\\\")\";\n",
       "                var nbb_cells = Jupyter.notebook.get_cells();\n",
       "                for (var i = 0; i < nbb_cells.length; ++i) {\n",
       "                    if (nbb_cells[i].input_prompt_number == nbb_cell_id) {\n",
       "                        if (nbb_cells[i].get_text() == nbb_unformatted_code) {\n",
       "                             nbb_cells[i].set_text(nbb_formatted_code);\n",
       "                        }\n",
       "                        break;\n",
       "                    }\n",
       "                }\n",
       "            }, 500);\n",
       "            "
      ],
      "text/plain": [
       "<IPython.core.display.Javascript object>"
      ]
     },
     "metadata": {},
     "output_type": "display_data"
    }
   ],
   "source": [
    "import scipy as sp\n",
    "\n",
    "coef = []\n",
    "alphas = np.arange(0.01, 1, 0.01)\n",
    "allData = pd.DataFrame({\"alphas\": alphas})\n",
    "\n",
    "for a in alphas:\n",
    "    beta = sp.linalg.inv((Xtrain.T @ Xtrain) + a * I) @ Xtrain.T @ Ytrain\n",
    "    coef.append(beta)\n",
    "\n",
    "\n",
    "## Make plot of Beta as a function of Alpha\n",
    "fig = plt.figure()\n",
    "ax = fig.add_subplot(111)\n",
    "ax.plot(alphas, coef)\n",
    "ax.set_xlabel(\"Alpha (Regularization Parameter)\")\n",
    "ax.set_ylabel(\"Beta (Predictor Coefficients)\")\n",
    "ax.set_title(\"Ridge Coefficients vs Regularization Parameters\")\n",
    "ax.axis(\"tight\")"
   ]
  },
  {
   "cell_type": "code",
   "execution_count": 31,
   "id": "2fb4a754",
   "metadata": {},
   "outputs": [
    {
     "name": "stdout",
     "output_type": "stream",
     "text": [
      "--- 70.4163339138031 seconds ---\n"
     ]
    },
    {
     "data": {
      "application/javascript": [
       "\n",
       "            setTimeout(function() {\n",
       "                var nbb_cell_id = 31;\n",
       "                var nbb_unformatted_code = \"# Non Cross Validation Grid search\\nstart = time.time()\\nalphas_GS = np.arange(1, 100, 0.5)\\n\\n\\ndef GridSearch(X, Y, alphas):\\n    masterList = np.array([])  # what we return\\n    for l2 in alphas:\\n        Xtrain, Xtest, Ytrain, Ytest = train_test_split(\\n            X, y, test_size=0.3, random_state=0\\n        )\\n        n, m = Xtrain.shape\\n        I = np.identity(m)\\n        # Beta vector\\n        beta = sp.linalg.inv((Xtrain.T @ Xtrain) + l2 * I) @ Xtrain.T @ Ytrain\\n\\n        Ypred = Xtest @ beta\\n        MSE = mean_squared_error(Ytest, Ypred)\\n\\n        masterList = np.append(masterList, MSE)\\n\\n    return masterList\\n\\n\\nlistMSE_GS = GridSearch(Xnewstand.to_numpy(), y, alphas_GS)\\nprint(\\\"--- %s seconds ---\\\" % (time.time() - start))\";\n",
       "                var nbb_formatted_code = \"# Non Cross Validation Grid search\\nstart = time.time()\\nalphas_GS = np.arange(1, 100, 0.5)\\n\\n\\ndef GridSearch(X, Y, alphas):\\n    masterList = np.array([])  # what we return\\n    for l2 in alphas:\\n        Xtrain, Xtest, Ytrain, Ytest = train_test_split(\\n            X, y, test_size=0.3, random_state=0\\n        )\\n        n, m = Xtrain.shape\\n        I = np.identity(m)\\n        # Beta vector\\n        beta = sp.linalg.inv((Xtrain.T @ Xtrain) + l2 * I) @ Xtrain.T @ Ytrain\\n\\n        Ypred = Xtest @ beta\\n        MSE = mean_squared_error(Ytest, Ypred)\\n\\n        masterList = np.append(masterList, MSE)\\n\\n    return masterList\\n\\n\\nlistMSE_GS = GridSearch(Xnewstand.to_numpy(), y, alphas_GS)\\nprint(\\\"--- %s seconds ---\\\" % (time.time() - start))\";\n",
       "                var nbb_cells = Jupyter.notebook.get_cells();\n",
       "                for (var i = 0; i < nbb_cells.length; ++i) {\n",
       "                    if (nbb_cells[i].input_prompt_number == nbb_cell_id) {\n",
       "                        if (nbb_cells[i].get_text() == nbb_unformatted_code) {\n",
       "                             nbb_cells[i].set_text(nbb_formatted_code);\n",
       "                        }\n",
       "                        break;\n",
       "                    }\n",
       "                }\n",
       "            }, 500);\n",
       "            "
      ],
      "text/plain": [
       "<IPython.core.display.Javascript object>"
      ]
     },
     "metadata": {},
     "output_type": "display_data"
    }
   ],
   "source": [
    "# Non Cross Validation Grid search\n",
    "start = time.time()\n",
    "alphas_GS = np.arange(1, 100, 0.5)\n",
    "\n",
    "\n",
    "def GridSearch(X, Y, alphas):\n",
    "    masterList = np.array([])  # what we return\n",
    "    for l2 in alphas:\n",
    "        Xtrain, Xtest, Ytrain, Ytest = train_test_split(\n",
    "            X, y, test_size=0.3, random_state=0\n",
    "        )\n",
    "        n, m = Xtrain.shape\n",
    "        I = np.identity(m)\n",
    "        # Beta vector\n",
    "        beta = sp.linalg.inv((Xtrain.T @ Xtrain) + l2 * I) @ Xtrain.T @ Ytrain\n",
    "\n",
    "        Ypred = Xtest @ beta\n",
    "        MSE = mean_squared_error(Ytest, Ypred)\n",
    "\n",
    "        masterList = np.append(masterList, MSE)\n",
    "\n",
    "    return masterList\n",
    "\n",
    "\n",
    "listMSE_GS = GridSearch(Xnewstand.to_numpy(), y, alphas_GS)\n",
    "print(\"--- %s seconds ---\" % (time.time() - start))"
   ]
  },
  {
   "cell_type": "code",
   "execution_count": 39,
   "id": "8316c8f7",
   "metadata": {},
   "outputs": [
    {
     "data": {
      "application/vnd.plotly.v1+json": {
       "config": {
        "plotlyServerURL": "https://plot.ly"
       },
       "data": [
        {
         "hovertemplate": "Ridge Parameter=%{x}<br>Mean Squared Error=%{y}<extra></extra>",
         "legendgroup": "",
         "marker": {
          "color": "#636efa",
          "symbol": "circle"
         },
         "mode": "markers",
         "name": "",
         "orientation": "v",
         "showlegend": false,
         "type": "scatter",
         "x": [
          1,
          1.5,
          2,
          2.5,
          3,
          3.5,
          4,
          4.5,
          5,
          5.5,
          6,
          6.5,
          7,
          7.5,
          8,
          8.5,
          9,
          9.5,
          10,
          10.5,
          11,
          11.5,
          12,
          12.5,
          13,
          13.5,
          14,
          14.5,
          15,
          15.5,
          16,
          16.5,
          17,
          17.5,
          18,
          18.5,
          19,
          19.5,
          20,
          20.5,
          21,
          21.5,
          22,
          22.5,
          23,
          23.5,
          24,
          24.5,
          25,
          25.5,
          26,
          26.5,
          27,
          27.5,
          28,
          28.5,
          29,
          29.5,
          30,
          30.5,
          31,
          31.5,
          32,
          32.5,
          33,
          33.5,
          34,
          34.5,
          35,
          35.5,
          36,
          36.5,
          37,
          37.5,
          38,
          38.5,
          39,
          39.5,
          40,
          40.5,
          41,
          41.5,
          42,
          42.5,
          43,
          43.5,
          44,
          44.5,
          45,
          45.5,
          46,
          46.5,
          47,
          47.5,
          48,
          48.5,
          49,
          49.5,
          50,
          50.5,
          51,
          51.5,
          52,
          52.5,
          53,
          53.5,
          54,
          54.5,
          55,
          55.5,
          56,
          56.5,
          57,
          57.5,
          58,
          58.5,
          59,
          59.5,
          60,
          60.5,
          61,
          61.5,
          62,
          62.5,
          63,
          63.5,
          64,
          64.5,
          65,
          65.5,
          66,
          66.5,
          67,
          67.5,
          68,
          68.5,
          69,
          69.5,
          70,
          70.5,
          71,
          71.5,
          72,
          72.5,
          73,
          73.5,
          74,
          74.5,
          75,
          75.5,
          76,
          76.5,
          77,
          77.5,
          78,
          78.5,
          79,
          79.5,
          80,
          80.5,
          81,
          81.5,
          82,
          82.5,
          83,
          83.5,
          84,
          84.5,
          85,
          85.5,
          86,
          86.5,
          87,
          87.5,
          88,
          88.5,
          89,
          89.5,
          90,
          90.5,
          91,
          91.5,
          92,
          92.5,
          93,
          93.5,
          94,
          94.5,
          95,
          95.5,
          96,
          96.5,
          97,
          97.5,
          98,
          98.5,
          99,
          99.5
         ],
         "xaxis": "x",
         "y": [
          13328.1303210138,
          13328.097698497671,
          13328.065795367242,
          13328.03459703518,
          13328.004089257,
          13327.97425810317,
          13327.945090002919,
          13327.916571681473,
          13327.888690203097,
          13327.861432939482,
          13327.834787532543,
          13327.808741943993,
          13327.783284402069,
          13327.758403410151,
          13327.734087742405,
          13327.710326433255,
          13327.68710875873,
          13327.664424258499,
          13327.642262695232,
          13327.62061407245,
          13327.599468633593,
          13327.578816812891,
          13327.55864928106,
          13327.538956919989,
          13327.519730807744,
          13327.500962220536,
          13327.482642637759,
          13327.464763717055,
          13327.447317307173,
          13327.430295438426,
          13327.413690302856,
          13327.397494280485,
          13327.381699906055,
          13327.366299879612,
          13327.351287057023,
          13327.336654455334,
          13327.322395232897,
          13327.308502694781,
          13327.294970304138,
          13327.28179164289,
          13327.26896044107,
          13327.256470559598,
          13327.244315983467,
          13327.23249083341,
          13327.22098934452,
          13327.209805878205,
          13327.198934910703,
          13327.188371033724,
          13327.17810894961,
          13327.168143470699,
          13327.158469517255,
          13327.149082109183,
          13327.139976375667,
          13327.13114753816,
          13327.122590917948,
          13327.114301930831,
          13327.106276086748,
          13327.098508981157,
          13327.090996305242,
          13327.083733828293,
          13327.076717408652,
          13327.069942989092,
          13327.063406586338,
          13327.057104299407,
          13327.05103230702,
          13327.04518685886,
          13327.03956427851,
          13327.03416096344,
          13327.02897337691,
          13327.02399805799,
          13327.019231605871,
          13327.014670689672,
          13327.010312039467,
          13327.0061524527,
          13327.002188781993,
          13326.998417945735,
          13326.99483691611,
          13326.991442727533,
          13326.988232466449,
          13326.985203277492,
          13326.982352355439,
          13326.979676952646,
          13326.977174367708,
          13326.97484195344,
          13326.972677109405,
          13326.970677285157,
          13326.968839976758,
          13326.967162726509,
          13326.965643121857,
          13326.964278794652,
          13326.963067421591,
          13326.962006718402,
          13326.961094446051,
          13326.960328403164,
          13326.959706430798,
          13326.959226406598,
          13326.958886250211,
          13326.95868391255,
          13326.958617387154,
          13326.958684701316,
          13326.958883917032,
          13326.959213131327,
          13326.95967047448,
          13326.960254110145,
          13326.960962234427,
          13326.961793075898,
          13326.962744892484,
          13326.963815974803,
          13326.965004641108,
          13326.966309240897,
          13326.967728151285,
          13326.9692597776,
          13326.970902553703,
          13326.972654938687,
          13326.974515419595,
          13326.976482509412,
          13326.97855474529,
          13326.980730691339,
          13326.983008934727,
          13326.985388086843,
          13326.987866783144,
          13326.990443681952,
          13326.993117463462,
          13326.995886830804,
          13326.998750509974,
          13327.00170724519,
          13327.004755805337,
          13327.007894977527,
          13327.011123569804,
          13327.014440409155,
          13327.017844343669,
          13327.021334238043,
          13327.024908978869,
          13327.028567467776,
          13327.03230862625,
          13327.036131393423,
          13327.040034724861,
          13327.04401759409,
          13327.048078989803,
          13327.052217919907,
          13327.05643340559,
          13327.060724484394,
          13327.065090210266,
          13327.069529652148,
          13327.074041892713,
          13327.07862603126,
          13327.08328117954,
          13327.088006464419,
          13327.092801026447,
          13327.097664019924,
          13327.102594612936,
          13327.107591984472,
          13327.112655330133,
          13327.11778385469,
          13327.122976777506,
          13327.12823332897,
          13327.133552752208,
          13327.138934302273,
          13327.144377244336,
          13327.149880856467,
          13327.15544442711,
          13327.161067256397,
          13327.16674865473,
          13327.17248794251,
          13327.17828445158,
          13327.184137524126,
          13327.19004651075,
          13327.196010773621,
          13327.202029683775,
          13327.20810262207,
          13327.214228978655,
          13327.220408152634,
          13327.226639552813,
          13327.232922595867,
          13327.239256707511,
          13327.245641322932,
          13327.252075884535,
          13327.258559844691,
          13327.265092661484,
          13327.271673802958,
          13327.278302744666,
          13327.28497896919,
          13327.291701967222,
          13327.298471237254,
          13327.305286284496,
          13327.312146621585,
          13327.319051768387,
          13327.326001251893,
          13327.332994606091,
          13327.34003137111,
          13327.347111094057,
          13327.354233328688,
          13327.361397635641,
          13327.368603580124,
          13327.375850735747,
          13327.383138681065,
          13327.390467001,
          13327.3978352861
         ],
         "yaxis": "y"
        },
        {
         "name": "Minimum MSE",
         "type": "scatter",
         "x": [
          50
         ],
         "y": [
          13326.958617387154
         ]
        }
       ],
       "layout": {
        "legend": {
         "tracegroupgap": 0
        },
        "template": {
         "data": {
          "bar": [
           {
            "error_x": {
             "color": "#2a3f5f"
            },
            "error_y": {
             "color": "#2a3f5f"
            },
            "marker": {
             "line": {
              "color": "#E5ECF6",
              "width": 0.5
             },
             "pattern": {
              "fillmode": "overlay",
              "size": 10,
              "solidity": 0.2
             }
            },
            "type": "bar"
           }
          ],
          "barpolar": [
           {
            "marker": {
             "line": {
              "color": "#E5ECF6",
              "width": 0.5
             },
             "pattern": {
              "fillmode": "overlay",
              "size": 10,
              "solidity": 0.2
             }
            },
            "type": "barpolar"
           }
          ],
          "carpet": [
           {
            "aaxis": {
             "endlinecolor": "#2a3f5f",
             "gridcolor": "white",
             "linecolor": "white",
             "minorgridcolor": "white",
             "startlinecolor": "#2a3f5f"
            },
            "baxis": {
             "endlinecolor": "#2a3f5f",
             "gridcolor": "white",
             "linecolor": "white",
             "minorgridcolor": "white",
             "startlinecolor": "#2a3f5f"
            },
            "type": "carpet"
           }
          ],
          "choropleth": [
           {
            "colorbar": {
             "outlinewidth": 0,
             "ticks": ""
            },
            "type": "choropleth"
           }
          ],
          "contour": [
           {
            "colorbar": {
             "outlinewidth": 0,
             "ticks": ""
            },
            "colorscale": [
             [
              0,
              "#0d0887"
             ],
             [
              0.1111111111111111,
              "#46039f"
             ],
             [
              0.2222222222222222,
              "#7201a8"
             ],
             [
              0.3333333333333333,
              "#9c179e"
             ],
             [
              0.4444444444444444,
              "#bd3786"
             ],
             [
              0.5555555555555556,
              "#d8576b"
             ],
             [
              0.6666666666666666,
              "#ed7953"
             ],
             [
              0.7777777777777778,
              "#fb9f3a"
             ],
             [
              0.8888888888888888,
              "#fdca26"
             ],
             [
              1,
              "#f0f921"
             ]
            ],
            "type": "contour"
           }
          ],
          "contourcarpet": [
           {
            "colorbar": {
             "outlinewidth": 0,
             "ticks": ""
            },
            "type": "contourcarpet"
           }
          ],
          "heatmap": [
           {
            "colorbar": {
             "outlinewidth": 0,
             "ticks": ""
            },
            "colorscale": [
             [
              0,
              "#0d0887"
             ],
             [
              0.1111111111111111,
              "#46039f"
             ],
             [
              0.2222222222222222,
              "#7201a8"
             ],
             [
              0.3333333333333333,
              "#9c179e"
             ],
             [
              0.4444444444444444,
              "#bd3786"
             ],
             [
              0.5555555555555556,
              "#d8576b"
             ],
             [
              0.6666666666666666,
              "#ed7953"
             ],
             [
              0.7777777777777778,
              "#fb9f3a"
             ],
             [
              0.8888888888888888,
              "#fdca26"
             ],
             [
              1,
              "#f0f921"
             ]
            ],
            "type": "heatmap"
           }
          ],
          "heatmapgl": [
           {
            "colorbar": {
             "outlinewidth": 0,
             "ticks": ""
            },
            "colorscale": [
             [
              0,
              "#0d0887"
             ],
             [
              0.1111111111111111,
              "#46039f"
             ],
             [
              0.2222222222222222,
              "#7201a8"
             ],
             [
              0.3333333333333333,
              "#9c179e"
             ],
             [
              0.4444444444444444,
              "#bd3786"
             ],
             [
              0.5555555555555556,
              "#d8576b"
             ],
             [
              0.6666666666666666,
              "#ed7953"
             ],
             [
              0.7777777777777778,
              "#fb9f3a"
             ],
             [
              0.8888888888888888,
              "#fdca26"
             ],
             [
              1,
              "#f0f921"
             ]
            ],
            "type": "heatmapgl"
           }
          ],
          "histogram": [
           {
            "marker": {
             "pattern": {
              "fillmode": "overlay",
              "size": 10,
              "solidity": 0.2
             }
            },
            "type": "histogram"
           }
          ],
          "histogram2d": [
           {
            "colorbar": {
             "outlinewidth": 0,
             "ticks": ""
            },
            "colorscale": [
             [
              0,
              "#0d0887"
             ],
             [
              0.1111111111111111,
              "#46039f"
             ],
             [
              0.2222222222222222,
              "#7201a8"
             ],
             [
              0.3333333333333333,
              "#9c179e"
             ],
             [
              0.4444444444444444,
              "#bd3786"
             ],
             [
              0.5555555555555556,
              "#d8576b"
             ],
             [
              0.6666666666666666,
              "#ed7953"
             ],
             [
              0.7777777777777778,
              "#fb9f3a"
             ],
             [
              0.8888888888888888,
              "#fdca26"
             ],
             [
              1,
              "#f0f921"
             ]
            ],
            "type": "histogram2d"
           }
          ],
          "histogram2dcontour": [
           {
            "colorbar": {
             "outlinewidth": 0,
             "ticks": ""
            },
            "colorscale": [
             [
              0,
              "#0d0887"
             ],
             [
              0.1111111111111111,
              "#46039f"
             ],
             [
              0.2222222222222222,
              "#7201a8"
             ],
             [
              0.3333333333333333,
              "#9c179e"
             ],
             [
              0.4444444444444444,
              "#bd3786"
             ],
             [
              0.5555555555555556,
              "#d8576b"
             ],
             [
              0.6666666666666666,
              "#ed7953"
             ],
             [
              0.7777777777777778,
              "#fb9f3a"
             ],
             [
              0.8888888888888888,
              "#fdca26"
             ],
             [
              1,
              "#f0f921"
             ]
            ],
            "type": "histogram2dcontour"
           }
          ],
          "mesh3d": [
           {
            "colorbar": {
             "outlinewidth": 0,
             "ticks": ""
            },
            "type": "mesh3d"
           }
          ],
          "parcoords": [
           {
            "line": {
             "colorbar": {
              "outlinewidth": 0,
              "ticks": ""
             }
            },
            "type": "parcoords"
           }
          ],
          "pie": [
           {
            "automargin": true,
            "type": "pie"
           }
          ],
          "scatter": [
           {
            "marker": {
             "colorbar": {
              "outlinewidth": 0,
              "ticks": ""
             }
            },
            "type": "scatter"
           }
          ],
          "scatter3d": [
           {
            "line": {
             "colorbar": {
              "outlinewidth": 0,
              "ticks": ""
             }
            },
            "marker": {
             "colorbar": {
              "outlinewidth": 0,
              "ticks": ""
             }
            },
            "type": "scatter3d"
           }
          ],
          "scattercarpet": [
           {
            "marker": {
             "colorbar": {
              "outlinewidth": 0,
              "ticks": ""
             }
            },
            "type": "scattercarpet"
           }
          ],
          "scattergeo": [
           {
            "marker": {
             "colorbar": {
              "outlinewidth": 0,
              "ticks": ""
             }
            },
            "type": "scattergeo"
           }
          ],
          "scattergl": [
           {
            "marker": {
             "colorbar": {
              "outlinewidth": 0,
              "ticks": ""
             }
            },
            "type": "scattergl"
           }
          ],
          "scattermapbox": [
           {
            "marker": {
             "colorbar": {
              "outlinewidth": 0,
              "ticks": ""
             }
            },
            "type": "scattermapbox"
           }
          ],
          "scatterpolar": [
           {
            "marker": {
             "colorbar": {
              "outlinewidth": 0,
              "ticks": ""
             }
            },
            "type": "scatterpolar"
           }
          ],
          "scatterpolargl": [
           {
            "marker": {
             "colorbar": {
              "outlinewidth": 0,
              "ticks": ""
             }
            },
            "type": "scatterpolargl"
           }
          ],
          "scatterternary": [
           {
            "marker": {
             "colorbar": {
              "outlinewidth": 0,
              "ticks": ""
             }
            },
            "type": "scatterternary"
           }
          ],
          "surface": [
           {
            "colorbar": {
             "outlinewidth": 0,
             "ticks": ""
            },
            "colorscale": [
             [
              0,
              "#0d0887"
             ],
             [
              0.1111111111111111,
              "#46039f"
             ],
             [
              0.2222222222222222,
              "#7201a8"
             ],
             [
              0.3333333333333333,
              "#9c179e"
             ],
             [
              0.4444444444444444,
              "#bd3786"
             ],
             [
              0.5555555555555556,
              "#d8576b"
             ],
             [
              0.6666666666666666,
              "#ed7953"
             ],
             [
              0.7777777777777778,
              "#fb9f3a"
             ],
             [
              0.8888888888888888,
              "#fdca26"
             ],
             [
              1,
              "#f0f921"
             ]
            ],
            "type": "surface"
           }
          ],
          "table": [
           {
            "cells": {
             "fill": {
              "color": "#EBF0F8"
             },
             "line": {
              "color": "white"
             }
            },
            "header": {
             "fill": {
              "color": "#C8D4E3"
             },
             "line": {
              "color": "white"
             }
            },
            "type": "table"
           }
          ]
         },
         "layout": {
          "annotationdefaults": {
           "arrowcolor": "#2a3f5f",
           "arrowhead": 0,
           "arrowwidth": 1
          },
          "autotypenumbers": "strict",
          "coloraxis": {
           "colorbar": {
            "outlinewidth": 0,
            "ticks": ""
           }
          },
          "colorscale": {
           "diverging": [
            [
             0,
             "#8e0152"
            ],
            [
             0.1,
             "#c51b7d"
            ],
            [
             0.2,
             "#de77ae"
            ],
            [
             0.3,
             "#f1b6da"
            ],
            [
             0.4,
             "#fde0ef"
            ],
            [
             0.5,
             "#f7f7f7"
            ],
            [
             0.6,
             "#e6f5d0"
            ],
            [
             0.7,
             "#b8e186"
            ],
            [
             0.8,
             "#7fbc41"
            ],
            [
             0.9,
             "#4d9221"
            ],
            [
             1,
             "#276419"
            ]
           ],
           "sequential": [
            [
             0,
             "#0d0887"
            ],
            [
             0.1111111111111111,
             "#46039f"
            ],
            [
             0.2222222222222222,
             "#7201a8"
            ],
            [
             0.3333333333333333,
             "#9c179e"
            ],
            [
             0.4444444444444444,
             "#bd3786"
            ],
            [
             0.5555555555555556,
             "#d8576b"
            ],
            [
             0.6666666666666666,
             "#ed7953"
            ],
            [
             0.7777777777777778,
             "#fb9f3a"
            ],
            [
             0.8888888888888888,
             "#fdca26"
            ],
            [
             1,
             "#f0f921"
            ]
           ],
           "sequentialminus": [
            [
             0,
             "#0d0887"
            ],
            [
             0.1111111111111111,
             "#46039f"
            ],
            [
             0.2222222222222222,
             "#7201a8"
            ],
            [
             0.3333333333333333,
             "#9c179e"
            ],
            [
             0.4444444444444444,
             "#bd3786"
            ],
            [
             0.5555555555555556,
             "#d8576b"
            ],
            [
             0.6666666666666666,
             "#ed7953"
            ],
            [
             0.7777777777777778,
             "#fb9f3a"
            ],
            [
             0.8888888888888888,
             "#fdca26"
            ],
            [
             1,
             "#f0f921"
            ]
           ]
          },
          "colorway": [
           "#636efa",
           "#EF553B",
           "#00cc96",
           "#ab63fa",
           "#FFA15A",
           "#19d3f3",
           "#FF6692",
           "#B6E880",
           "#FF97FF",
           "#FECB52"
          ],
          "font": {
           "color": "#2a3f5f"
          },
          "geo": {
           "bgcolor": "white",
           "lakecolor": "white",
           "landcolor": "#E5ECF6",
           "showlakes": true,
           "showland": true,
           "subunitcolor": "white"
          },
          "hoverlabel": {
           "align": "left"
          },
          "hovermode": "closest",
          "mapbox": {
           "style": "light"
          },
          "paper_bgcolor": "white",
          "plot_bgcolor": "#E5ECF6",
          "polar": {
           "angularaxis": {
            "gridcolor": "white",
            "linecolor": "white",
            "ticks": ""
           },
           "bgcolor": "#E5ECF6",
           "radialaxis": {
            "gridcolor": "white",
            "linecolor": "white",
            "ticks": ""
           }
          },
          "scene": {
           "xaxis": {
            "backgroundcolor": "#E5ECF6",
            "gridcolor": "white",
            "gridwidth": 2,
            "linecolor": "white",
            "showbackground": true,
            "ticks": "",
            "zerolinecolor": "white"
           },
           "yaxis": {
            "backgroundcolor": "#E5ECF6",
            "gridcolor": "white",
            "gridwidth": 2,
            "linecolor": "white",
            "showbackground": true,
            "ticks": "",
            "zerolinecolor": "white"
           },
           "zaxis": {
            "backgroundcolor": "#E5ECF6",
            "gridcolor": "white",
            "gridwidth": 2,
            "linecolor": "white",
            "showbackground": true,
            "ticks": "",
            "zerolinecolor": "white"
           }
          },
          "shapedefaults": {
           "line": {
            "color": "#2a3f5f"
           }
          },
          "ternary": {
           "aaxis": {
            "gridcolor": "white",
            "linecolor": "white",
            "ticks": ""
           },
           "baxis": {
            "gridcolor": "white",
            "linecolor": "white",
            "ticks": ""
           },
           "bgcolor": "#E5ECF6",
           "caxis": {
            "gridcolor": "white",
            "linecolor": "white",
            "ticks": ""
           }
          },
          "title": {
           "x": 0.05
          },
          "xaxis": {
           "automargin": true,
           "gridcolor": "white",
           "linecolor": "white",
           "ticks": "",
           "title": {
            "standoff": 15
           },
           "zerolinecolor": "white",
           "zerolinewidth": 2
          },
          "yaxis": {
           "automargin": true,
           "gridcolor": "white",
           "linecolor": "white",
           "ticks": "",
           "title": {
            "standoff": 15
           },
           "zerolinecolor": "white",
           "zerolinewidth": 2
          }
         }
        },
        "title": {
         "text": "MSE with Grid Search (No CV)"
        },
        "xaxis": {
         "anchor": "y",
         "domain": [
          0,
          1
         ],
         "title": {
          "text": "Ridge Parameter"
         }
        },
        "yaxis": {
         "anchor": "x",
         "domain": [
          0,
          1
         ],
         "title": {
          "text": "Mean Squared Error"
         }
        }
       }
      },
      "text/html": [
       "<div>                            <div id=\"725890bd-b6f4-4fd7-aced-9e8070d9e2b8\" class=\"plotly-graph-div\" style=\"height:525px; width:100%;\"></div>            <script type=\"text/javascript\">                require([\"plotly\"], function(Plotly) {                    window.PLOTLYENV=window.PLOTLYENV || {};                                    if (document.getElementById(\"725890bd-b6f4-4fd7-aced-9e8070d9e2b8\")) {                    Plotly.newPlot(                        \"725890bd-b6f4-4fd7-aced-9e8070d9e2b8\",                        [{\"hovertemplate\":\"Ridge Parameter=%{x}<br>Mean Squared Error=%{y}<extra></extra>\",\"legendgroup\":\"\",\"marker\":{\"color\":\"#636efa\",\"symbol\":\"circle\"},\"mode\":\"markers\",\"name\":\"\",\"orientation\":\"v\",\"showlegend\":false,\"x\":[1.0,1.5,2.0,2.5,3.0,3.5,4.0,4.5,5.0,5.5,6.0,6.5,7.0,7.5,8.0,8.5,9.0,9.5,10.0,10.5,11.0,11.5,12.0,12.5,13.0,13.5,14.0,14.5,15.0,15.5,16.0,16.5,17.0,17.5,18.0,18.5,19.0,19.5,20.0,20.5,21.0,21.5,22.0,22.5,23.0,23.5,24.0,24.5,25.0,25.5,26.0,26.5,27.0,27.5,28.0,28.5,29.0,29.5,30.0,30.5,31.0,31.5,32.0,32.5,33.0,33.5,34.0,34.5,35.0,35.5,36.0,36.5,37.0,37.5,38.0,38.5,39.0,39.5,40.0,40.5,41.0,41.5,42.0,42.5,43.0,43.5,44.0,44.5,45.0,45.5,46.0,46.5,47.0,47.5,48.0,48.5,49.0,49.5,50.0,50.5,51.0,51.5,52.0,52.5,53.0,53.5,54.0,54.5,55.0,55.5,56.0,56.5,57.0,57.5,58.0,58.5,59.0,59.5,60.0,60.5,61.0,61.5,62.0,62.5,63.0,63.5,64.0,64.5,65.0,65.5,66.0,66.5,67.0,67.5,68.0,68.5,69.0,69.5,70.0,70.5,71.0,71.5,72.0,72.5,73.0,73.5,74.0,74.5,75.0,75.5,76.0,76.5,77.0,77.5,78.0,78.5,79.0,79.5,80.0,80.5,81.0,81.5,82.0,82.5,83.0,83.5,84.0,84.5,85.0,85.5,86.0,86.5,87.0,87.5,88.0,88.5,89.0,89.5,90.0,90.5,91.0,91.5,92.0,92.5,93.0,93.5,94.0,94.5,95.0,95.5,96.0,96.5,97.0,97.5,98.0,98.5,99.0,99.5],\"xaxis\":\"x\",\"y\":[13328.1303210138,13328.097698497671,13328.065795367242,13328.03459703518,13328.004089257,13327.97425810317,13327.945090002919,13327.916571681473,13327.888690203097,13327.861432939482,13327.834787532543,13327.808741943993,13327.783284402069,13327.758403410151,13327.734087742405,13327.710326433255,13327.68710875873,13327.664424258499,13327.642262695232,13327.62061407245,13327.599468633593,13327.578816812891,13327.55864928106,13327.538956919989,13327.519730807744,13327.500962220536,13327.482642637759,13327.464763717055,13327.447317307173,13327.430295438426,13327.413690302856,13327.397494280485,13327.381699906055,13327.366299879612,13327.351287057023,13327.336654455334,13327.322395232897,13327.308502694781,13327.294970304138,13327.28179164289,13327.26896044107,13327.256470559598,13327.244315983467,13327.23249083341,13327.22098934452,13327.209805878205,13327.198934910703,13327.188371033724,13327.17810894961,13327.168143470699,13327.158469517255,13327.149082109183,13327.139976375667,13327.13114753816,13327.122590917948,13327.114301930831,13327.106276086748,13327.098508981157,13327.090996305242,13327.083733828293,13327.076717408652,13327.069942989092,13327.063406586338,13327.057104299407,13327.05103230702,13327.04518685886,13327.03956427851,13327.03416096344,13327.02897337691,13327.02399805799,13327.019231605871,13327.014670689672,13327.010312039467,13327.0061524527,13327.002188781993,13326.998417945735,13326.99483691611,13326.991442727533,13326.988232466449,13326.985203277492,13326.982352355439,13326.979676952646,13326.977174367708,13326.97484195344,13326.972677109405,13326.970677285157,13326.968839976758,13326.967162726509,13326.965643121857,13326.964278794652,13326.963067421591,13326.962006718402,13326.961094446051,13326.960328403164,13326.959706430798,13326.959226406598,13326.958886250211,13326.95868391255,13326.958617387154,13326.958684701316,13326.958883917032,13326.959213131327,13326.95967047448,13326.960254110145,13326.960962234427,13326.961793075898,13326.962744892484,13326.963815974803,13326.965004641108,13326.966309240897,13326.967728151285,13326.9692597776,13326.970902553703,13326.972654938687,13326.974515419595,13326.976482509412,13326.97855474529,13326.980730691339,13326.983008934727,13326.985388086843,13326.987866783144,13326.990443681952,13326.993117463462,13326.995886830804,13326.998750509974,13327.00170724519,13327.004755805337,13327.007894977527,13327.011123569804,13327.014440409155,13327.017844343669,13327.021334238043,13327.024908978869,13327.028567467776,13327.03230862625,13327.036131393423,13327.040034724861,13327.04401759409,13327.048078989803,13327.052217919907,13327.05643340559,13327.060724484394,13327.065090210266,13327.069529652148,13327.074041892713,13327.07862603126,13327.08328117954,13327.088006464419,13327.092801026447,13327.097664019924,13327.102594612936,13327.107591984472,13327.112655330133,13327.11778385469,13327.122976777506,13327.12823332897,13327.133552752208,13327.138934302273,13327.144377244336,13327.149880856467,13327.15544442711,13327.161067256397,13327.16674865473,13327.17248794251,13327.17828445158,13327.184137524126,13327.19004651075,13327.196010773621,13327.202029683775,13327.20810262207,13327.214228978655,13327.220408152634,13327.226639552813,13327.232922595867,13327.239256707511,13327.245641322932,13327.252075884535,13327.258559844691,13327.265092661484,13327.271673802958,13327.278302744666,13327.28497896919,13327.291701967222,13327.298471237254,13327.305286284496,13327.312146621585,13327.319051768387,13327.326001251893,13327.332994606091,13327.34003137111,13327.347111094057,13327.354233328688,13327.361397635641,13327.368603580124,13327.375850735747,13327.383138681065,13327.390467001,13327.3978352861],\"yaxis\":\"y\",\"type\":\"scatter\"},{\"name\":\"Minimum MSE\",\"x\":[50.0],\"y\":[13326.958617387154],\"type\":\"scatter\"}],                        {\"legend\":{\"tracegroupgap\":0},\"template\":{\"data\":{\"barpolar\":[{\"marker\":{\"line\":{\"color\":\"#E5ECF6\",\"width\":0.5},\"pattern\":{\"fillmode\":\"overlay\",\"size\":10,\"solidity\":0.2}},\"type\":\"barpolar\"}],\"bar\":[{\"error_x\":{\"color\":\"#2a3f5f\"},\"error_y\":{\"color\":\"#2a3f5f\"},\"marker\":{\"line\":{\"color\":\"#E5ECF6\",\"width\":0.5},\"pattern\":{\"fillmode\":\"overlay\",\"size\":10,\"solidity\":0.2}},\"type\":\"bar\"}],\"carpet\":[{\"aaxis\":{\"endlinecolor\":\"#2a3f5f\",\"gridcolor\":\"white\",\"linecolor\":\"white\",\"minorgridcolor\":\"white\",\"startlinecolor\":\"#2a3f5f\"},\"baxis\":{\"endlinecolor\":\"#2a3f5f\",\"gridcolor\":\"white\",\"linecolor\":\"white\",\"minorgridcolor\":\"white\",\"startlinecolor\":\"#2a3f5f\"},\"type\":\"carpet\"}],\"choropleth\":[{\"colorbar\":{\"outlinewidth\":0,\"ticks\":\"\"},\"type\":\"choropleth\"}],\"contourcarpet\":[{\"colorbar\":{\"outlinewidth\":0,\"ticks\":\"\"},\"type\":\"contourcarpet\"}],\"contour\":[{\"colorbar\":{\"outlinewidth\":0,\"ticks\":\"\"},\"colorscale\":[[0.0,\"#0d0887\"],[0.1111111111111111,\"#46039f\"],[0.2222222222222222,\"#7201a8\"],[0.3333333333333333,\"#9c179e\"],[0.4444444444444444,\"#bd3786\"],[0.5555555555555556,\"#d8576b\"],[0.6666666666666666,\"#ed7953\"],[0.7777777777777778,\"#fb9f3a\"],[0.8888888888888888,\"#fdca26\"],[1.0,\"#f0f921\"]],\"type\":\"contour\"}],\"heatmapgl\":[{\"colorbar\":{\"outlinewidth\":0,\"ticks\":\"\"},\"colorscale\":[[0.0,\"#0d0887\"],[0.1111111111111111,\"#46039f\"],[0.2222222222222222,\"#7201a8\"],[0.3333333333333333,\"#9c179e\"],[0.4444444444444444,\"#bd3786\"],[0.5555555555555556,\"#d8576b\"],[0.6666666666666666,\"#ed7953\"],[0.7777777777777778,\"#fb9f3a\"],[0.8888888888888888,\"#fdca26\"],[1.0,\"#f0f921\"]],\"type\":\"heatmapgl\"}],\"heatmap\":[{\"colorbar\":{\"outlinewidth\":0,\"ticks\":\"\"},\"colorscale\":[[0.0,\"#0d0887\"],[0.1111111111111111,\"#46039f\"],[0.2222222222222222,\"#7201a8\"],[0.3333333333333333,\"#9c179e\"],[0.4444444444444444,\"#bd3786\"],[0.5555555555555556,\"#d8576b\"],[0.6666666666666666,\"#ed7953\"],[0.7777777777777778,\"#fb9f3a\"],[0.8888888888888888,\"#fdca26\"],[1.0,\"#f0f921\"]],\"type\":\"heatmap\"}],\"histogram2dcontour\":[{\"colorbar\":{\"outlinewidth\":0,\"ticks\":\"\"},\"colorscale\":[[0.0,\"#0d0887\"],[0.1111111111111111,\"#46039f\"],[0.2222222222222222,\"#7201a8\"],[0.3333333333333333,\"#9c179e\"],[0.4444444444444444,\"#bd3786\"],[0.5555555555555556,\"#d8576b\"],[0.6666666666666666,\"#ed7953\"],[0.7777777777777778,\"#fb9f3a\"],[0.8888888888888888,\"#fdca26\"],[1.0,\"#f0f921\"]],\"type\":\"histogram2dcontour\"}],\"histogram2d\":[{\"colorbar\":{\"outlinewidth\":0,\"ticks\":\"\"},\"colorscale\":[[0.0,\"#0d0887\"],[0.1111111111111111,\"#46039f\"],[0.2222222222222222,\"#7201a8\"],[0.3333333333333333,\"#9c179e\"],[0.4444444444444444,\"#bd3786\"],[0.5555555555555556,\"#d8576b\"],[0.6666666666666666,\"#ed7953\"],[0.7777777777777778,\"#fb9f3a\"],[0.8888888888888888,\"#fdca26\"],[1.0,\"#f0f921\"]],\"type\":\"histogram2d\"}],\"histogram\":[{\"marker\":{\"pattern\":{\"fillmode\":\"overlay\",\"size\":10,\"solidity\":0.2}},\"type\":\"histogram\"}],\"mesh3d\":[{\"colorbar\":{\"outlinewidth\":0,\"ticks\":\"\"},\"type\":\"mesh3d\"}],\"parcoords\":[{\"line\":{\"colorbar\":{\"outlinewidth\":0,\"ticks\":\"\"}},\"type\":\"parcoords\"}],\"pie\":[{\"automargin\":true,\"type\":\"pie\"}],\"scatter3d\":[{\"line\":{\"colorbar\":{\"outlinewidth\":0,\"ticks\":\"\"}},\"marker\":{\"colorbar\":{\"outlinewidth\":0,\"ticks\":\"\"}},\"type\":\"scatter3d\"}],\"scattercarpet\":[{\"marker\":{\"colorbar\":{\"outlinewidth\":0,\"ticks\":\"\"}},\"type\":\"scattercarpet\"}],\"scattergeo\":[{\"marker\":{\"colorbar\":{\"outlinewidth\":0,\"ticks\":\"\"}},\"type\":\"scattergeo\"}],\"scattergl\":[{\"marker\":{\"colorbar\":{\"outlinewidth\":0,\"ticks\":\"\"}},\"type\":\"scattergl\"}],\"scattermapbox\":[{\"marker\":{\"colorbar\":{\"outlinewidth\":0,\"ticks\":\"\"}},\"type\":\"scattermapbox\"}],\"scatterpolargl\":[{\"marker\":{\"colorbar\":{\"outlinewidth\":0,\"ticks\":\"\"}},\"type\":\"scatterpolargl\"}],\"scatterpolar\":[{\"marker\":{\"colorbar\":{\"outlinewidth\":0,\"ticks\":\"\"}},\"type\":\"scatterpolar\"}],\"scatter\":[{\"marker\":{\"colorbar\":{\"outlinewidth\":0,\"ticks\":\"\"}},\"type\":\"scatter\"}],\"scatterternary\":[{\"marker\":{\"colorbar\":{\"outlinewidth\":0,\"ticks\":\"\"}},\"type\":\"scatterternary\"}],\"surface\":[{\"colorbar\":{\"outlinewidth\":0,\"ticks\":\"\"},\"colorscale\":[[0.0,\"#0d0887\"],[0.1111111111111111,\"#46039f\"],[0.2222222222222222,\"#7201a8\"],[0.3333333333333333,\"#9c179e\"],[0.4444444444444444,\"#bd3786\"],[0.5555555555555556,\"#d8576b\"],[0.6666666666666666,\"#ed7953\"],[0.7777777777777778,\"#fb9f3a\"],[0.8888888888888888,\"#fdca26\"],[1.0,\"#f0f921\"]],\"type\":\"surface\"}],\"table\":[{\"cells\":{\"fill\":{\"color\":\"#EBF0F8\"},\"line\":{\"color\":\"white\"}},\"header\":{\"fill\":{\"color\":\"#C8D4E3\"},\"line\":{\"color\":\"white\"}},\"type\":\"table\"}]},\"layout\":{\"annotationdefaults\":{\"arrowcolor\":\"#2a3f5f\",\"arrowhead\":0,\"arrowwidth\":1},\"autotypenumbers\":\"strict\",\"coloraxis\":{\"colorbar\":{\"outlinewidth\":0,\"ticks\":\"\"}},\"colorscale\":{\"diverging\":[[0,\"#8e0152\"],[0.1,\"#c51b7d\"],[0.2,\"#de77ae\"],[0.3,\"#f1b6da\"],[0.4,\"#fde0ef\"],[0.5,\"#f7f7f7\"],[0.6,\"#e6f5d0\"],[0.7,\"#b8e186\"],[0.8,\"#7fbc41\"],[0.9,\"#4d9221\"],[1,\"#276419\"]],\"sequential\":[[0.0,\"#0d0887\"],[0.1111111111111111,\"#46039f\"],[0.2222222222222222,\"#7201a8\"],[0.3333333333333333,\"#9c179e\"],[0.4444444444444444,\"#bd3786\"],[0.5555555555555556,\"#d8576b\"],[0.6666666666666666,\"#ed7953\"],[0.7777777777777778,\"#fb9f3a\"],[0.8888888888888888,\"#fdca26\"],[1.0,\"#f0f921\"]],\"sequentialminus\":[[0.0,\"#0d0887\"],[0.1111111111111111,\"#46039f\"],[0.2222222222222222,\"#7201a8\"],[0.3333333333333333,\"#9c179e\"],[0.4444444444444444,\"#bd3786\"],[0.5555555555555556,\"#d8576b\"],[0.6666666666666666,\"#ed7953\"],[0.7777777777777778,\"#fb9f3a\"],[0.8888888888888888,\"#fdca26\"],[1.0,\"#f0f921\"]]},\"colorway\":[\"#636efa\",\"#EF553B\",\"#00cc96\",\"#ab63fa\",\"#FFA15A\",\"#19d3f3\",\"#FF6692\",\"#B6E880\",\"#FF97FF\",\"#FECB52\"],\"font\":{\"color\":\"#2a3f5f\"},\"geo\":{\"bgcolor\":\"white\",\"lakecolor\":\"white\",\"landcolor\":\"#E5ECF6\",\"showlakes\":true,\"showland\":true,\"subunitcolor\":\"white\"},\"hoverlabel\":{\"align\":\"left\"},\"hovermode\":\"closest\",\"mapbox\":{\"style\":\"light\"},\"paper_bgcolor\":\"white\",\"plot_bgcolor\":\"#E5ECF6\",\"polar\":{\"angularaxis\":{\"gridcolor\":\"white\",\"linecolor\":\"white\",\"ticks\":\"\"},\"bgcolor\":\"#E5ECF6\",\"radialaxis\":{\"gridcolor\":\"white\",\"linecolor\":\"white\",\"ticks\":\"\"}},\"scene\":{\"xaxis\":{\"backgroundcolor\":\"#E5ECF6\",\"gridcolor\":\"white\",\"gridwidth\":2,\"linecolor\":\"white\",\"showbackground\":true,\"ticks\":\"\",\"zerolinecolor\":\"white\"},\"yaxis\":{\"backgroundcolor\":\"#E5ECF6\",\"gridcolor\":\"white\",\"gridwidth\":2,\"linecolor\":\"white\",\"showbackground\":true,\"ticks\":\"\",\"zerolinecolor\":\"white\"},\"zaxis\":{\"backgroundcolor\":\"#E5ECF6\",\"gridcolor\":\"white\",\"gridwidth\":2,\"linecolor\":\"white\",\"showbackground\":true,\"ticks\":\"\",\"zerolinecolor\":\"white\"}},\"shapedefaults\":{\"line\":{\"color\":\"#2a3f5f\"}},\"ternary\":{\"aaxis\":{\"gridcolor\":\"white\",\"linecolor\":\"white\",\"ticks\":\"\"},\"baxis\":{\"gridcolor\":\"white\",\"linecolor\":\"white\",\"ticks\":\"\"},\"bgcolor\":\"#E5ECF6\",\"caxis\":{\"gridcolor\":\"white\",\"linecolor\":\"white\",\"ticks\":\"\"}},\"title\":{\"x\":0.05},\"xaxis\":{\"automargin\":true,\"gridcolor\":\"white\",\"linecolor\":\"white\",\"ticks\":\"\",\"title\":{\"standoff\":15},\"zerolinecolor\":\"white\",\"zerolinewidth\":2},\"yaxis\":{\"automargin\":true,\"gridcolor\":\"white\",\"linecolor\":\"white\",\"ticks\":\"\",\"title\":{\"standoff\":15},\"zerolinecolor\":\"white\",\"zerolinewidth\":2}}},\"title\":{\"text\":\"MSE with Grid Search (No CV)\"},\"xaxis\":{\"anchor\":\"y\",\"domain\":[0.0,1.0],\"title\":{\"text\":\"Ridge Parameter\"}},\"yaxis\":{\"anchor\":\"x\",\"domain\":[0.0,1.0],\"title\":{\"text\":\"Mean Squared Error\"}}},                        {\"responsive\": true}                    ).then(function(){\n",
       "                            \n",
       "var gd = document.getElementById('725890bd-b6f4-4fd7-aced-9e8070d9e2b8');\n",
       "var x = new MutationObserver(function (mutations, observer) {{\n",
       "        var display = window.getComputedStyle(gd).display;\n",
       "        if (!display || display === 'none') {{\n",
       "            console.log([gd, 'removed!']);\n",
       "            Plotly.purge(gd);\n",
       "            observer.disconnect();\n",
       "        }}\n",
       "}});\n",
       "\n",
       "// Listen for the removal of the full notebook cells\n",
       "var notebookContainer = gd.closest('#notebook-container');\n",
       "if (notebookContainer) {{\n",
       "    x.observe(notebookContainer, {childList: true});\n",
       "}}\n",
       "\n",
       "// Listen for the clearing of the current output cell\n",
       "var outputEl = gd.closest('.output');\n",
       "if (outputEl) {{\n",
       "    x.observe(outputEl, {childList: true});\n",
       "}}\n",
       "\n",
       "                        })                };                });            </script>        </div>"
      ]
     },
     "metadata": {},
     "output_type": "display_data"
    },
    {
     "data": {
      "text/plain": [
       "lambda       50.000000\n",
       "MSE       13326.958617\n",
       "Name: 98, dtype: float64"
      ]
     },
     "metadata": {},
     "output_type": "display_data"
    },
    {
     "data": {
      "application/javascript": [
       "\n",
       "            setTimeout(function() {\n",
       "                var nbb_cell_id = 39;\n",
       "                var nbb_unformatted_code = \"GS_MSE = pd.DataFrame({\\\"lambda\\\": alphas_GS, \\\"MSE\\\": listMSE_GS})\\n\\nminMSEindex = GS_MSE[\\\"MSE\\\"].idxmin()\\nminMSErow = GS_MSE.iloc[minMSEindex]\\n\\nfig = go.Figure(\\n    data=px.scatter(\\n        GS_MSE,\\n        x=\\\"lambda\\\",\\n        y=\\\"MSE\\\",\\n        labels={\\\"lambda\\\": \\\"Ridge Parameter\\\", \\\"MSE\\\": \\\"Mean Squared Error\\\"},\\n        title=\\\"MSE with Grid Search (No CV)\\\",\\n    )\\n)\\n\\nfig.add_trace(\\n    go.Scatter(\\n        x=[minMSErow.loc[\\\"lambda\\\"]], y=[minMSErow.loc[\\\"MSE\\\"]], name=\\\"Minimum MSE\\\"\\n    )\\n)\\n\\nfig.show()\\ndisplay(minMSErow)\";\n",
       "                var nbb_formatted_code = \"GS_MSE = pd.DataFrame({\\\"lambda\\\": alphas_GS, \\\"MSE\\\": listMSE_GS})\\n\\nminMSEindex = GS_MSE[\\\"MSE\\\"].idxmin()\\nminMSErow = GS_MSE.iloc[minMSEindex]\\n\\nfig = go.Figure(\\n    data=px.scatter(\\n        GS_MSE,\\n        x=\\\"lambda\\\",\\n        y=\\\"MSE\\\",\\n        labels={\\\"lambda\\\": \\\"Ridge Parameter\\\", \\\"MSE\\\": \\\"Mean Squared Error\\\"},\\n        title=\\\"MSE with Grid Search (No CV)\\\",\\n    )\\n)\\n\\nfig.add_trace(\\n    go.Scatter(\\n        x=[minMSErow.loc[\\\"lambda\\\"]], y=[minMSErow.loc[\\\"MSE\\\"]], name=\\\"Minimum MSE\\\"\\n    )\\n)\\n\\nfig.show()\\ndisplay(minMSErow)\";\n",
       "                var nbb_cells = Jupyter.notebook.get_cells();\n",
       "                for (var i = 0; i < nbb_cells.length; ++i) {\n",
       "                    if (nbb_cells[i].input_prompt_number == nbb_cell_id) {\n",
       "                        if (nbb_cells[i].get_text() == nbb_unformatted_code) {\n",
       "                             nbb_cells[i].set_text(nbb_formatted_code);\n",
       "                        }\n",
       "                        break;\n",
       "                    }\n",
       "                }\n",
       "            }, 500);\n",
       "            "
      ],
      "text/plain": [
       "<IPython.core.display.Javascript object>"
      ]
     },
     "metadata": {},
     "output_type": "display_data"
    }
   ],
   "source": [
    "GS_MSE = pd.DataFrame({\"lambda\": alphas_GS, \"MSE\": listMSE_GS})\n",
    "\n",
    "minMSEindex = GS_MSE[\"MSE\"].idxmin()\n",
    "minMSErow = GS_MSE.iloc[minMSEindex]\n",
    "\n",
    "fig = go.Figure(\n",
    "    data=px.scatter(\n",
    "        GS_MSE,\n",
    "        x=\"lambda\",\n",
    "        y=\"MSE\",\n",
    "        labels={\"lambda\": \"Ridge Parameter\", \"MSE\": \"Mean Squared Error\"},\n",
    "        title=\"MSE with Grid Search (No CV)\",\n",
    "    )\n",
    ")\n",
    "\n",
    "fig.add_trace(\n",
    "    go.Scatter(\n",
    "        x=[minMSErow.loc[\"lambda\"]], y=[minMSErow.loc[\"MSE\"]], name=\"Minimum MSE\"\n",
    "    )\n",
    ")\n",
    "\n",
    "fig.show()\n",
    "display(minMSErow)"
   ]
  },
  {
   "cell_type": "code",
   "execution_count": 33,
   "id": "14ae006d",
   "metadata": {},
   "outputs": [
    {
     "name": "stdout",
     "output_type": "stream",
     "text": [
      "--- 310.253732919693 seconds ---\n"
     ]
    },
    {
     "data": {
      "application/javascript": [
       "\n",
       "            setTimeout(function() {\n",
       "                var nbb_cell_id = 33;\n",
       "                var nbb_unformatted_code = \"# K Fold CV\\nfrom sklearn.model_selection import KFold\\n\\nstart = time.time()\\nalphas = np.arange(0.02, 4, 0.02)\\n\\n\\ndef KfoldCV(X, Y, alphas, k):\\n    masterList = np.array([])  # what we return\\n    for l2 in alphas:\\n        MSElist = np.array([])\\n\\n        kf = KFold(n_splits=k, random_state=True, shuffle=True)\\n        kf.get_n_splits(X)\\n\\n        for train_index, test_index in kf.split(X):\\n            X_train, X_test = X[train_index], X[test_index]\\n            Y_train, Y_test = Y[train_index], Y[test_index]\\n\\n            n, m = X_train.shape\\n            I = np.identity(m)\\n            # Beta vector\\n            beta = sp.linalg.inv((X_train.T @ X_train) + l2 * I) @ X_train.T @ Y_train\\n\\n            Ypred = X_test @ beta\\n            MSE = mean_squared_error(Y_test, Ypred)\\n\\n            MSElist = np.append(MSElist, MSE)\\n\\n        masterList = np.append(masterList, np.mean(MSElist))\\n\\n    return masterList\\n\\n\\nlistMSE = KfoldCV(Xnewstand.to_numpy(), y, alphas_GS, 5)\\nprint(\\\"--- %s seconds ---\\\" % (time.time() - start))\";\n",
       "                var nbb_formatted_code = \"# K Fold CV\\nfrom sklearn.model_selection import KFold\\n\\nstart = time.time()\\nalphas = np.arange(0.02, 4, 0.02)\\n\\n\\ndef KfoldCV(X, Y, alphas, k):\\n    masterList = np.array([])  # what we return\\n    for l2 in alphas:\\n        MSElist = np.array([])\\n\\n        kf = KFold(n_splits=k, random_state=True, shuffle=True)\\n        kf.get_n_splits(X)\\n\\n        for train_index, test_index in kf.split(X):\\n            X_train, X_test = X[train_index], X[test_index]\\n            Y_train, Y_test = Y[train_index], Y[test_index]\\n\\n            n, m = X_train.shape\\n            I = np.identity(m)\\n            # Beta vector\\n            beta = sp.linalg.inv((X_train.T @ X_train) + l2 * I) @ X_train.T @ Y_train\\n\\n            Ypred = X_test @ beta\\n            MSE = mean_squared_error(Y_test, Ypred)\\n\\n            MSElist = np.append(MSElist, MSE)\\n\\n        masterList = np.append(masterList, np.mean(MSElist))\\n\\n    return masterList\\n\\n\\nlistMSE = KfoldCV(Xnewstand.to_numpy(), y, alphas_GS, 5)\\nprint(\\\"--- %s seconds ---\\\" % (time.time() - start))\";\n",
       "                var nbb_cells = Jupyter.notebook.get_cells();\n",
       "                for (var i = 0; i < nbb_cells.length; ++i) {\n",
       "                    if (nbb_cells[i].input_prompt_number == nbb_cell_id) {\n",
       "                        if (nbb_cells[i].get_text() == nbb_unformatted_code) {\n",
       "                             nbb_cells[i].set_text(nbb_formatted_code);\n",
       "                        }\n",
       "                        break;\n",
       "                    }\n",
       "                }\n",
       "            }, 500);\n",
       "            "
      ],
      "text/plain": [
       "<IPython.core.display.Javascript object>"
      ]
     },
     "metadata": {},
     "output_type": "display_data"
    }
   ],
   "source": [
    "# K Fold CV\n",
    "from sklearn.model_selection import KFold\n",
    "\n",
    "start = time.time()\n",
    "alphas = np.arange(0.02, 4, 0.02)\n",
    "\n",
    "\n",
    "def KfoldCV(X, Y, alphas, k):\n",
    "    masterList = np.array([])  # what we return\n",
    "    for l2 in alphas:\n",
    "        MSElist = np.array([])\n",
    "\n",
    "        kf = KFold(n_splits=k, random_state=True, shuffle=True)\n",
    "        kf.get_n_splits(X)\n",
    "\n",
    "        for train_index, test_index in kf.split(X):\n",
    "            X_train, X_test = X[train_index], X[test_index]\n",
    "            Y_train, Y_test = Y[train_index], Y[test_index]\n",
    "\n",
    "            n, m = X_train.shape\n",
    "            I = np.identity(m)\n",
    "            # Beta vector\n",
    "            beta = sp.linalg.inv((X_train.T @ X_train) + l2 * I) @ X_train.T @ Y_train\n",
    "\n",
    "            Ypred = X_test @ beta\n",
    "            MSE = mean_squared_error(Y_test, Ypred)\n",
    "\n",
    "            MSElist = np.append(MSElist, MSE)\n",
    "\n",
    "        masterList = np.append(masterList, np.mean(MSElist))\n",
    "\n",
    "    return masterList\n",
    "\n",
    "\n",
    "listMSE = KfoldCV(Xnewstand.to_numpy(), y, alphas_GS, 5)\n",
    "print(\"--- %s seconds ---\" % (time.time() - start))"
   ]
  },
  {
   "cell_type": "code",
   "execution_count": 42,
   "id": "3d005423",
   "metadata": {},
   "outputs": [
    {
     "name": "stdout",
     "output_type": "stream",
     "text": [
      "--- 273.8978087902069 seconds ---\n"
     ]
    },
    {
     "data": {
      "application/javascript": [
       "\n",
       "            setTimeout(function() {\n",
       "                var nbb_cell_id = 42;\n",
       "                var nbb_unformatted_code = \"# Doing K fold with smaller values, not as large of range as for Grid Search\\nstart = time.time()\\nalphas = np.arange(0.01, 3.5, 0.02)\\nlistMSE_small = KfoldCV(Xnewstand.to_numpy(), y, alphas, 5)\\nprint(\\\"--- %s seconds ---\\\" % (time.time() - start))\";\n",
       "                var nbb_formatted_code = \"# Doing K fold with smaller values, not as large of range as for Grid Search\\nstart = time.time()\\nalphas = np.arange(0.01, 3.5, 0.02)\\nlistMSE_small = KfoldCV(Xnewstand.to_numpy(), y, alphas, 5)\\nprint(\\\"--- %s seconds ---\\\" % (time.time() - start))\";\n",
       "                var nbb_cells = Jupyter.notebook.get_cells();\n",
       "                for (var i = 0; i < nbb_cells.length; ++i) {\n",
       "                    if (nbb_cells[i].input_prompt_number == nbb_cell_id) {\n",
       "                        if (nbb_cells[i].get_text() == nbb_unformatted_code) {\n",
       "                             nbb_cells[i].set_text(nbb_formatted_code);\n",
       "                        }\n",
       "                        break;\n",
       "                    }\n",
       "                }\n",
       "            }, 500);\n",
       "            "
      ],
      "text/plain": [
       "<IPython.core.display.Javascript object>"
      ]
     },
     "metadata": {},
     "output_type": "display_data"
    }
   ],
   "source": [
    "# Doing K fold with smaller values, not as large of range as for Grid Search\n",
    "start = time.time()\n",
    "alphas = np.arange(0.01, 3.5, 0.02)\n",
    "listMSE_small = KfoldCV(Xnewstand.to_numpy(), y, alphas, 5)\n",
    "print(\"--- %s seconds ---\" % (time.time() - start))"
   ]
  },
  {
   "cell_type": "code",
   "execution_count": 43,
   "id": "21ccc39c",
   "metadata": {},
   "outputs": [
    {
     "data": {
      "application/vnd.plotly.v1+json": {
       "config": {
        "plotlyServerURL": "https://plot.ly"
       },
       "data": [
        {
         "hovertemplate": "Ridge Parameter=%{x}<br>Mean Squared Error=%{y}<extra></extra>",
         "legendgroup": "",
         "marker": {
          "color": "#636efa",
          "symbol": "circle"
         },
         "mode": "markers",
         "name": "",
         "orientation": "v",
         "showlegend": false,
         "type": "scatter",
         "x": [
          1,
          1.5,
          2,
          2.5,
          3,
          3.5,
          4,
          4.5,
          5,
          5.5,
          6,
          6.5,
          7,
          7.5,
          8,
          8.5,
          9,
          9.5,
          10,
          10.5,
          11,
          11.5,
          12,
          12.5,
          13,
          13.5,
          14,
          14.5,
          15,
          15.5,
          16,
          16.5,
          17,
          17.5,
          18,
          18.5,
          19,
          19.5,
          20,
          20.5,
          21,
          21.5,
          22,
          22.5,
          23,
          23.5,
          24,
          24.5,
          25,
          25.5,
          26,
          26.5,
          27,
          27.5,
          28,
          28.5,
          29,
          29.5,
          30,
          30.5,
          31,
          31.5,
          32,
          32.5,
          33,
          33.5,
          34,
          34.5,
          35,
          35.5,
          36,
          36.5,
          37,
          37.5,
          38,
          38.5,
          39,
          39.5,
          40,
          40.5,
          41,
          41.5,
          42,
          42.5,
          43,
          43.5,
          44,
          44.5,
          45,
          45.5,
          46,
          46.5,
          47,
          47.5,
          48,
          48.5,
          49,
          49.5,
          50,
          50.5,
          51,
          51.5,
          52,
          52.5,
          53,
          53.5,
          54,
          54.5,
          55,
          55.5,
          56,
          56.5,
          57,
          57.5,
          58,
          58.5,
          59,
          59.5,
          60,
          60.5,
          61,
          61.5,
          62,
          62.5,
          63,
          63.5,
          64,
          64.5,
          65,
          65.5,
          66,
          66.5,
          67,
          67.5,
          68,
          68.5,
          69,
          69.5,
          70,
          70.5,
          71,
          71.5,
          72,
          72.5,
          73,
          73.5,
          74,
          74.5,
          75,
          75.5,
          76,
          76.5,
          77,
          77.5,
          78,
          78.5,
          79,
          79.5,
          80,
          80.5,
          81,
          81.5,
          82,
          82.5,
          83,
          83.5,
          84,
          84.5,
          85,
          85.5,
          86,
          86.5,
          87,
          87.5,
          88,
          88.5,
          89,
          89.5,
          90,
          90.5,
          91,
          91.5,
          92,
          92.5,
          93,
          93.5,
          94,
          94.5,
          95,
          95.5,
          96,
          96.5,
          97,
          97.5,
          98,
          98.5,
          99,
          99.5
         ],
         "xaxis": "x",
         "y": [
          13428.825535261392,
          13428.825231251476,
          13428.82535570518,
          13428.825898176763,
          13428.826848544437,
          13428.8281970193,
          13428.829934005795,
          13428.832050167586,
          13428.834536458055,
          13428.837383929156,
          13428.840583994097,
          13428.844128233057,
          13428.848008434972,
          13428.85221660724,
          13428.856744932953,
          13428.861585840135,
          13428.866731877084,
          13428.87217584944,
          13428.87791069032,
          13428.883929521142,
          13428.890225641298,
          13428.896792528089,
          13428.903623765593,
          13428.910713156321,
          13428.918054621885,
          13428.925642235088,
          13428.933470215929,
          13428.941532925994,
          13428.949824858262,
          13428.95834063883,
          13428.967075019715,
          13428.976022892384,
          13428.985179256526,
          13428.994539233448,
          13429.00409806253,
          13429.013851094398,
          13429.023793795011,
          13429.033921727276,
          13429.044230564137,
          13429.054716083605,
          13429.065374154748,
          13429.076200748914,
          13429.087191927614,
          13429.098343845233,
          13429.10965274723,
          13429.12111496303,
          13429.132726910364,
          13429.144485083762,
          13429.156386060775,
          13429.168426504042,
          13429.180603140307,
          13429.192912784667,
          13429.205352311252,
          13429.217918671147,
          13429.230608892976,
          13429.243420055529,
          13429.256349324001,
          13429.269393907034,
          13429.282551089555,
          13429.295818211604,
          13429.309192676941,
          13429.322671946435,
          13429.336253533644,
          13429.34993501349,
          13429.363714009658,
          13429.377588201925,
          13429.391555321567,
          13429.40561314843,
          13429.419759511065,
          13429.433992292305,
          13429.44830941241,
          13429.462708842644,
          13429.477188594497,
          13429.491746733533,
          13429.50638135449,
          13429.521090605776,
          13429.53587266357,
          13429.55072575533,
          13429.565648143354,
          13429.580638122487,
          13429.595694031217,
          13429.61081424406,
          13429.62599716789,
          13429.641241242221,
          13429.656544945086,
          13429.671906785432,
          13429.687325304365,
          13429.702799072242,
          13429.718326693914,
          13429.733906800724,
          13429.749538056893,
          13429.765219155825,
          13429.780948810268,
          13429.796725772496,
          13429.812548812222,
          13429.828416732596,
          13429.844328354771,
          13429.860282533069,
          13429.876278140262,
          13429.892314077497,
          13429.908389262462,
          13429.924502643262,
          13429.94065318762,
          13429.95683988386,
          13429.973061745506,
          13429.989317800015,
          13430.005607101828,
          13430.021928724993,
          13430.038281761339,
          13430.054665320404,
          13430.071078533252,
          13430.087520547153,
          13430.103990530584,
          13430.120487667678,
          13430.137011158145,
          13430.153560220371,
          13430.170134091386,
          13430.18673201871,
          13430.203353270985,
          13430.219997129974,
          13430.236662894004,
          13430.253349873508,
          13430.270057395188,
          13430.286784800943,
          13430.303531444642,
          13430.320296694937,
          13430.337079932186,
          13430.353880552319,
          13430.370697963308,
          13430.387531584629,
          13430.404380847136,
          13430.421245195841,
          13430.43812408708,
          13430.455016987451,
          13430.471923377332,
          13430.488842743604,
          13430.505774588853,
          13430.522718422673,
          13430.539673768062,
          13430.556640154711,
          13430.573617125649,
          13430.590604231193,
          13430.607601031787,
          13430.624607098018,
          13430.641622008858,
          13430.658645352407,
          13430.675676725932,
          13430.692715734182,
          13430.709761991264,
          13430.726815120468,
          13430.743874749238,
          13430.760940519278,
          13430.77801207423,
          13430.795089068226,
          13430.812171161891,
          13430.829258023261,
          13430.846349329124,
          13430.86344476032,
          13430.880544006655,
          13430.897646764137,
          13430.914752736333,
          13430.931861630863,
          13430.9489731634,
          13430.966087056358,
          13430.983203036612,
          13431.000320837527,
          13431.017440199566,
          13431.03456086677,
          13431.051682591322,
          13431.068805128842,
          13431.085928240209,
          13431.10305169458,
          13431.12017526044,
          13431.137298719008,
          13431.154421850928,
          13431.171544442728,
          13431.188666286389,
          13431.205787179348,
          13431.22290692118,
          13431.240025320276,
          13431.257142183316,
          13431.274257327128,
          13431.291370569219,
          13431.308481734071,
          13431.325590646386,
          13431.342697137643,
          13431.359801043367,
          13431.376902202124,
          13431.394000455713,
          13431.411095651323,
          13431.428187637386,
          13431.445276267175,
          13431.46236139844,
          13431.479442891514,
          13431.496520608966,
          13431.513594418057,
          13431.530664189213,
          13431.5477297953
         ],
         "yaxis": "y"
        },
        {
         "name": "Minimum MSE",
         "type": "scatter",
         "x": [
          1.5
         ],
         "y": [
          13428.825231251476
         ]
        }
       ],
       "layout": {
        "legend": {
         "tracegroupgap": 0
        },
        "template": {
         "data": {
          "bar": [
           {
            "error_x": {
             "color": "#2a3f5f"
            },
            "error_y": {
             "color": "#2a3f5f"
            },
            "marker": {
             "line": {
              "color": "#E5ECF6",
              "width": 0.5
             },
             "pattern": {
              "fillmode": "overlay",
              "size": 10,
              "solidity": 0.2
             }
            },
            "type": "bar"
           }
          ],
          "barpolar": [
           {
            "marker": {
             "line": {
              "color": "#E5ECF6",
              "width": 0.5
             },
             "pattern": {
              "fillmode": "overlay",
              "size": 10,
              "solidity": 0.2
             }
            },
            "type": "barpolar"
           }
          ],
          "carpet": [
           {
            "aaxis": {
             "endlinecolor": "#2a3f5f",
             "gridcolor": "white",
             "linecolor": "white",
             "minorgridcolor": "white",
             "startlinecolor": "#2a3f5f"
            },
            "baxis": {
             "endlinecolor": "#2a3f5f",
             "gridcolor": "white",
             "linecolor": "white",
             "minorgridcolor": "white",
             "startlinecolor": "#2a3f5f"
            },
            "type": "carpet"
           }
          ],
          "choropleth": [
           {
            "colorbar": {
             "outlinewidth": 0,
             "ticks": ""
            },
            "type": "choropleth"
           }
          ],
          "contour": [
           {
            "colorbar": {
             "outlinewidth": 0,
             "ticks": ""
            },
            "colorscale": [
             [
              0,
              "#0d0887"
             ],
             [
              0.1111111111111111,
              "#46039f"
             ],
             [
              0.2222222222222222,
              "#7201a8"
             ],
             [
              0.3333333333333333,
              "#9c179e"
             ],
             [
              0.4444444444444444,
              "#bd3786"
             ],
             [
              0.5555555555555556,
              "#d8576b"
             ],
             [
              0.6666666666666666,
              "#ed7953"
             ],
             [
              0.7777777777777778,
              "#fb9f3a"
             ],
             [
              0.8888888888888888,
              "#fdca26"
             ],
             [
              1,
              "#f0f921"
             ]
            ],
            "type": "contour"
           }
          ],
          "contourcarpet": [
           {
            "colorbar": {
             "outlinewidth": 0,
             "ticks": ""
            },
            "type": "contourcarpet"
           }
          ],
          "heatmap": [
           {
            "colorbar": {
             "outlinewidth": 0,
             "ticks": ""
            },
            "colorscale": [
             [
              0,
              "#0d0887"
             ],
             [
              0.1111111111111111,
              "#46039f"
             ],
             [
              0.2222222222222222,
              "#7201a8"
             ],
             [
              0.3333333333333333,
              "#9c179e"
             ],
             [
              0.4444444444444444,
              "#bd3786"
             ],
             [
              0.5555555555555556,
              "#d8576b"
             ],
             [
              0.6666666666666666,
              "#ed7953"
             ],
             [
              0.7777777777777778,
              "#fb9f3a"
             ],
             [
              0.8888888888888888,
              "#fdca26"
             ],
             [
              1,
              "#f0f921"
             ]
            ],
            "type": "heatmap"
           }
          ],
          "heatmapgl": [
           {
            "colorbar": {
             "outlinewidth": 0,
             "ticks": ""
            },
            "colorscale": [
             [
              0,
              "#0d0887"
             ],
             [
              0.1111111111111111,
              "#46039f"
             ],
             [
              0.2222222222222222,
              "#7201a8"
             ],
             [
              0.3333333333333333,
              "#9c179e"
             ],
             [
              0.4444444444444444,
              "#bd3786"
             ],
             [
              0.5555555555555556,
              "#d8576b"
             ],
             [
              0.6666666666666666,
              "#ed7953"
             ],
             [
              0.7777777777777778,
              "#fb9f3a"
             ],
             [
              0.8888888888888888,
              "#fdca26"
             ],
             [
              1,
              "#f0f921"
             ]
            ],
            "type": "heatmapgl"
           }
          ],
          "histogram": [
           {
            "marker": {
             "pattern": {
              "fillmode": "overlay",
              "size": 10,
              "solidity": 0.2
             }
            },
            "type": "histogram"
           }
          ],
          "histogram2d": [
           {
            "colorbar": {
             "outlinewidth": 0,
             "ticks": ""
            },
            "colorscale": [
             [
              0,
              "#0d0887"
             ],
             [
              0.1111111111111111,
              "#46039f"
             ],
             [
              0.2222222222222222,
              "#7201a8"
             ],
             [
              0.3333333333333333,
              "#9c179e"
             ],
             [
              0.4444444444444444,
              "#bd3786"
             ],
             [
              0.5555555555555556,
              "#d8576b"
             ],
             [
              0.6666666666666666,
              "#ed7953"
             ],
             [
              0.7777777777777778,
              "#fb9f3a"
             ],
             [
              0.8888888888888888,
              "#fdca26"
             ],
             [
              1,
              "#f0f921"
             ]
            ],
            "type": "histogram2d"
           }
          ],
          "histogram2dcontour": [
           {
            "colorbar": {
             "outlinewidth": 0,
             "ticks": ""
            },
            "colorscale": [
             [
              0,
              "#0d0887"
             ],
             [
              0.1111111111111111,
              "#46039f"
             ],
             [
              0.2222222222222222,
              "#7201a8"
             ],
             [
              0.3333333333333333,
              "#9c179e"
             ],
             [
              0.4444444444444444,
              "#bd3786"
             ],
             [
              0.5555555555555556,
              "#d8576b"
             ],
             [
              0.6666666666666666,
              "#ed7953"
             ],
             [
              0.7777777777777778,
              "#fb9f3a"
             ],
             [
              0.8888888888888888,
              "#fdca26"
             ],
             [
              1,
              "#f0f921"
             ]
            ],
            "type": "histogram2dcontour"
           }
          ],
          "mesh3d": [
           {
            "colorbar": {
             "outlinewidth": 0,
             "ticks": ""
            },
            "type": "mesh3d"
           }
          ],
          "parcoords": [
           {
            "line": {
             "colorbar": {
              "outlinewidth": 0,
              "ticks": ""
             }
            },
            "type": "parcoords"
           }
          ],
          "pie": [
           {
            "automargin": true,
            "type": "pie"
           }
          ],
          "scatter": [
           {
            "marker": {
             "colorbar": {
              "outlinewidth": 0,
              "ticks": ""
             }
            },
            "type": "scatter"
           }
          ],
          "scatter3d": [
           {
            "line": {
             "colorbar": {
              "outlinewidth": 0,
              "ticks": ""
             }
            },
            "marker": {
             "colorbar": {
              "outlinewidth": 0,
              "ticks": ""
             }
            },
            "type": "scatter3d"
           }
          ],
          "scattercarpet": [
           {
            "marker": {
             "colorbar": {
              "outlinewidth": 0,
              "ticks": ""
             }
            },
            "type": "scattercarpet"
           }
          ],
          "scattergeo": [
           {
            "marker": {
             "colorbar": {
              "outlinewidth": 0,
              "ticks": ""
             }
            },
            "type": "scattergeo"
           }
          ],
          "scattergl": [
           {
            "marker": {
             "colorbar": {
              "outlinewidth": 0,
              "ticks": ""
             }
            },
            "type": "scattergl"
           }
          ],
          "scattermapbox": [
           {
            "marker": {
             "colorbar": {
              "outlinewidth": 0,
              "ticks": ""
             }
            },
            "type": "scattermapbox"
           }
          ],
          "scatterpolar": [
           {
            "marker": {
             "colorbar": {
              "outlinewidth": 0,
              "ticks": ""
             }
            },
            "type": "scatterpolar"
           }
          ],
          "scatterpolargl": [
           {
            "marker": {
             "colorbar": {
              "outlinewidth": 0,
              "ticks": ""
             }
            },
            "type": "scatterpolargl"
           }
          ],
          "scatterternary": [
           {
            "marker": {
             "colorbar": {
              "outlinewidth": 0,
              "ticks": ""
             }
            },
            "type": "scatterternary"
           }
          ],
          "surface": [
           {
            "colorbar": {
             "outlinewidth": 0,
             "ticks": ""
            },
            "colorscale": [
             [
              0,
              "#0d0887"
             ],
             [
              0.1111111111111111,
              "#46039f"
             ],
             [
              0.2222222222222222,
              "#7201a8"
             ],
             [
              0.3333333333333333,
              "#9c179e"
             ],
             [
              0.4444444444444444,
              "#bd3786"
             ],
             [
              0.5555555555555556,
              "#d8576b"
             ],
             [
              0.6666666666666666,
              "#ed7953"
             ],
             [
              0.7777777777777778,
              "#fb9f3a"
             ],
             [
              0.8888888888888888,
              "#fdca26"
             ],
             [
              1,
              "#f0f921"
             ]
            ],
            "type": "surface"
           }
          ],
          "table": [
           {
            "cells": {
             "fill": {
              "color": "#EBF0F8"
             },
             "line": {
              "color": "white"
             }
            },
            "header": {
             "fill": {
              "color": "#C8D4E3"
             },
             "line": {
              "color": "white"
             }
            },
            "type": "table"
           }
          ]
         },
         "layout": {
          "annotationdefaults": {
           "arrowcolor": "#2a3f5f",
           "arrowhead": 0,
           "arrowwidth": 1
          },
          "autotypenumbers": "strict",
          "coloraxis": {
           "colorbar": {
            "outlinewidth": 0,
            "ticks": ""
           }
          },
          "colorscale": {
           "diverging": [
            [
             0,
             "#8e0152"
            ],
            [
             0.1,
             "#c51b7d"
            ],
            [
             0.2,
             "#de77ae"
            ],
            [
             0.3,
             "#f1b6da"
            ],
            [
             0.4,
             "#fde0ef"
            ],
            [
             0.5,
             "#f7f7f7"
            ],
            [
             0.6,
             "#e6f5d0"
            ],
            [
             0.7,
             "#b8e186"
            ],
            [
             0.8,
             "#7fbc41"
            ],
            [
             0.9,
             "#4d9221"
            ],
            [
             1,
             "#276419"
            ]
           ],
           "sequential": [
            [
             0,
             "#0d0887"
            ],
            [
             0.1111111111111111,
             "#46039f"
            ],
            [
             0.2222222222222222,
             "#7201a8"
            ],
            [
             0.3333333333333333,
             "#9c179e"
            ],
            [
             0.4444444444444444,
             "#bd3786"
            ],
            [
             0.5555555555555556,
             "#d8576b"
            ],
            [
             0.6666666666666666,
             "#ed7953"
            ],
            [
             0.7777777777777778,
             "#fb9f3a"
            ],
            [
             0.8888888888888888,
             "#fdca26"
            ],
            [
             1,
             "#f0f921"
            ]
           ],
           "sequentialminus": [
            [
             0,
             "#0d0887"
            ],
            [
             0.1111111111111111,
             "#46039f"
            ],
            [
             0.2222222222222222,
             "#7201a8"
            ],
            [
             0.3333333333333333,
             "#9c179e"
            ],
            [
             0.4444444444444444,
             "#bd3786"
            ],
            [
             0.5555555555555556,
             "#d8576b"
            ],
            [
             0.6666666666666666,
             "#ed7953"
            ],
            [
             0.7777777777777778,
             "#fb9f3a"
            ],
            [
             0.8888888888888888,
             "#fdca26"
            ],
            [
             1,
             "#f0f921"
            ]
           ]
          },
          "colorway": [
           "#636efa",
           "#EF553B",
           "#00cc96",
           "#ab63fa",
           "#FFA15A",
           "#19d3f3",
           "#FF6692",
           "#B6E880",
           "#FF97FF",
           "#FECB52"
          ],
          "font": {
           "color": "#2a3f5f"
          },
          "geo": {
           "bgcolor": "white",
           "lakecolor": "white",
           "landcolor": "#E5ECF6",
           "showlakes": true,
           "showland": true,
           "subunitcolor": "white"
          },
          "hoverlabel": {
           "align": "left"
          },
          "hovermode": "closest",
          "mapbox": {
           "style": "light"
          },
          "paper_bgcolor": "white",
          "plot_bgcolor": "#E5ECF6",
          "polar": {
           "angularaxis": {
            "gridcolor": "white",
            "linecolor": "white",
            "ticks": ""
           },
           "bgcolor": "#E5ECF6",
           "radialaxis": {
            "gridcolor": "white",
            "linecolor": "white",
            "ticks": ""
           }
          },
          "scene": {
           "xaxis": {
            "backgroundcolor": "#E5ECF6",
            "gridcolor": "white",
            "gridwidth": 2,
            "linecolor": "white",
            "showbackground": true,
            "ticks": "",
            "zerolinecolor": "white"
           },
           "yaxis": {
            "backgroundcolor": "#E5ECF6",
            "gridcolor": "white",
            "gridwidth": 2,
            "linecolor": "white",
            "showbackground": true,
            "ticks": "",
            "zerolinecolor": "white"
           },
           "zaxis": {
            "backgroundcolor": "#E5ECF6",
            "gridcolor": "white",
            "gridwidth": 2,
            "linecolor": "white",
            "showbackground": true,
            "ticks": "",
            "zerolinecolor": "white"
           }
          },
          "shapedefaults": {
           "line": {
            "color": "#2a3f5f"
           }
          },
          "ternary": {
           "aaxis": {
            "gridcolor": "white",
            "linecolor": "white",
            "ticks": ""
           },
           "baxis": {
            "gridcolor": "white",
            "linecolor": "white",
            "ticks": ""
           },
           "bgcolor": "#E5ECF6",
           "caxis": {
            "gridcolor": "white",
            "linecolor": "white",
            "ticks": ""
           }
          },
          "title": {
           "x": 0.05
          },
          "xaxis": {
           "automargin": true,
           "gridcolor": "white",
           "linecolor": "white",
           "ticks": "",
           "title": {
            "standoff": 15
           },
           "zerolinecolor": "white",
           "zerolinewidth": 2
          },
          "yaxis": {
           "automargin": true,
           "gridcolor": "white",
           "linecolor": "white",
           "ticks": "",
           "title": {
            "standoff": 15
           },
           "zerolinecolor": "white",
           "zerolinewidth": 2
          }
         }
        },
        "title": {
         "text": "MSE with 5-Fold Cross Validation w/ Larger Values"
        },
        "xaxis": {
         "anchor": "y",
         "domain": [
          0,
          1
         ],
         "title": {
          "text": "Ridge Parameter"
         }
        },
        "yaxis": {
         "anchor": "x",
         "domain": [
          0,
          1
         ],
         "title": {
          "text": "Mean Squared Error"
         }
        }
       }
      },
      "text/html": [
       "<div>                            <div id=\"c0b6e948-bd47-46eb-8e8a-7f3a4ef0f480\" class=\"plotly-graph-div\" style=\"height:525px; width:100%;\"></div>            <script type=\"text/javascript\">                require([\"plotly\"], function(Plotly) {                    window.PLOTLYENV=window.PLOTLYENV || {};                                    if (document.getElementById(\"c0b6e948-bd47-46eb-8e8a-7f3a4ef0f480\")) {                    Plotly.newPlot(                        \"c0b6e948-bd47-46eb-8e8a-7f3a4ef0f480\",                        [{\"hovertemplate\":\"Ridge Parameter=%{x}<br>Mean Squared Error=%{y}<extra></extra>\",\"legendgroup\":\"\",\"marker\":{\"color\":\"#636efa\",\"symbol\":\"circle\"},\"mode\":\"markers\",\"name\":\"\",\"orientation\":\"v\",\"showlegend\":false,\"x\":[1.0,1.5,2.0,2.5,3.0,3.5,4.0,4.5,5.0,5.5,6.0,6.5,7.0,7.5,8.0,8.5,9.0,9.5,10.0,10.5,11.0,11.5,12.0,12.5,13.0,13.5,14.0,14.5,15.0,15.5,16.0,16.5,17.0,17.5,18.0,18.5,19.0,19.5,20.0,20.5,21.0,21.5,22.0,22.5,23.0,23.5,24.0,24.5,25.0,25.5,26.0,26.5,27.0,27.5,28.0,28.5,29.0,29.5,30.0,30.5,31.0,31.5,32.0,32.5,33.0,33.5,34.0,34.5,35.0,35.5,36.0,36.5,37.0,37.5,38.0,38.5,39.0,39.5,40.0,40.5,41.0,41.5,42.0,42.5,43.0,43.5,44.0,44.5,45.0,45.5,46.0,46.5,47.0,47.5,48.0,48.5,49.0,49.5,50.0,50.5,51.0,51.5,52.0,52.5,53.0,53.5,54.0,54.5,55.0,55.5,56.0,56.5,57.0,57.5,58.0,58.5,59.0,59.5,60.0,60.5,61.0,61.5,62.0,62.5,63.0,63.5,64.0,64.5,65.0,65.5,66.0,66.5,67.0,67.5,68.0,68.5,69.0,69.5,70.0,70.5,71.0,71.5,72.0,72.5,73.0,73.5,74.0,74.5,75.0,75.5,76.0,76.5,77.0,77.5,78.0,78.5,79.0,79.5,80.0,80.5,81.0,81.5,82.0,82.5,83.0,83.5,84.0,84.5,85.0,85.5,86.0,86.5,87.0,87.5,88.0,88.5,89.0,89.5,90.0,90.5,91.0,91.5,92.0,92.5,93.0,93.5,94.0,94.5,95.0,95.5,96.0,96.5,97.0,97.5,98.0,98.5,99.0,99.5],\"xaxis\":\"x\",\"y\":[13428.825535261392,13428.825231251476,13428.82535570518,13428.825898176763,13428.826848544437,13428.8281970193,13428.829934005795,13428.832050167586,13428.834536458055,13428.837383929156,13428.840583994097,13428.844128233057,13428.848008434972,13428.85221660724,13428.856744932953,13428.861585840135,13428.866731877084,13428.87217584944,13428.87791069032,13428.883929521142,13428.890225641298,13428.896792528089,13428.903623765593,13428.910713156321,13428.918054621885,13428.925642235088,13428.933470215929,13428.941532925994,13428.949824858262,13428.95834063883,13428.967075019715,13428.976022892384,13428.985179256526,13428.994539233448,13429.00409806253,13429.013851094398,13429.023793795011,13429.033921727276,13429.044230564137,13429.054716083605,13429.065374154748,13429.076200748914,13429.087191927614,13429.098343845233,13429.10965274723,13429.12111496303,13429.132726910364,13429.144485083762,13429.156386060775,13429.168426504042,13429.180603140307,13429.192912784667,13429.205352311252,13429.217918671147,13429.230608892976,13429.243420055529,13429.256349324001,13429.269393907034,13429.282551089555,13429.295818211604,13429.309192676941,13429.322671946435,13429.336253533644,13429.34993501349,13429.363714009658,13429.377588201925,13429.391555321567,13429.40561314843,13429.419759511065,13429.433992292305,13429.44830941241,13429.462708842644,13429.477188594497,13429.491746733533,13429.50638135449,13429.521090605776,13429.53587266357,13429.55072575533,13429.565648143354,13429.580638122487,13429.595694031217,13429.61081424406,13429.62599716789,13429.641241242221,13429.656544945086,13429.671906785432,13429.687325304365,13429.702799072242,13429.718326693914,13429.733906800724,13429.749538056893,13429.765219155825,13429.780948810268,13429.796725772496,13429.812548812222,13429.828416732596,13429.844328354771,13429.860282533069,13429.876278140262,13429.892314077497,13429.908389262462,13429.924502643262,13429.94065318762,13429.95683988386,13429.973061745506,13429.989317800015,13430.005607101828,13430.021928724993,13430.038281761339,13430.054665320404,13430.071078533252,13430.087520547153,13430.103990530584,13430.120487667678,13430.137011158145,13430.153560220371,13430.170134091386,13430.18673201871,13430.203353270985,13430.219997129974,13430.236662894004,13430.253349873508,13430.270057395188,13430.286784800943,13430.303531444642,13430.320296694937,13430.337079932186,13430.353880552319,13430.370697963308,13430.387531584629,13430.404380847136,13430.421245195841,13430.43812408708,13430.455016987451,13430.471923377332,13430.488842743604,13430.505774588853,13430.522718422673,13430.539673768062,13430.556640154711,13430.573617125649,13430.590604231193,13430.607601031787,13430.624607098018,13430.641622008858,13430.658645352407,13430.675676725932,13430.692715734182,13430.709761991264,13430.726815120468,13430.743874749238,13430.760940519278,13430.77801207423,13430.795089068226,13430.812171161891,13430.829258023261,13430.846349329124,13430.86344476032,13430.880544006655,13430.897646764137,13430.914752736333,13430.931861630863,13430.9489731634,13430.966087056358,13430.983203036612,13431.000320837527,13431.017440199566,13431.03456086677,13431.051682591322,13431.068805128842,13431.085928240209,13431.10305169458,13431.12017526044,13431.137298719008,13431.154421850928,13431.171544442728,13431.188666286389,13431.205787179348,13431.22290692118,13431.240025320276,13431.257142183316,13431.274257327128,13431.291370569219,13431.308481734071,13431.325590646386,13431.342697137643,13431.359801043367,13431.376902202124,13431.394000455713,13431.411095651323,13431.428187637386,13431.445276267175,13431.46236139844,13431.479442891514,13431.496520608966,13431.513594418057,13431.530664189213,13431.5477297953],\"yaxis\":\"y\",\"type\":\"scatter\"},{\"name\":\"Minimum MSE\",\"x\":[1.5],\"y\":[13428.825231251476],\"type\":\"scatter\"}],                        {\"legend\":{\"tracegroupgap\":0},\"template\":{\"data\":{\"barpolar\":[{\"marker\":{\"line\":{\"color\":\"#E5ECF6\",\"width\":0.5},\"pattern\":{\"fillmode\":\"overlay\",\"size\":10,\"solidity\":0.2}},\"type\":\"barpolar\"}],\"bar\":[{\"error_x\":{\"color\":\"#2a3f5f\"},\"error_y\":{\"color\":\"#2a3f5f\"},\"marker\":{\"line\":{\"color\":\"#E5ECF6\",\"width\":0.5},\"pattern\":{\"fillmode\":\"overlay\",\"size\":10,\"solidity\":0.2}},\"type\":\"bar\"}],\"carpet\":[{\"aaxis\":{\"endlinecolor\":\"#2a3f5f\",\"gridcolor\":\"white\",\"linecolor\":\"white\",\"minorgridcolor\":\"white\",\"startlinecolor\":\"#2a3f5f\"},\"baxis\":{\"endlinecolor\":\"#2a3f5f\",\"gridcolor\":\"white\",\"linecolor\":\"white\",\"minorgridcolor\":\"white\",\"startlinecolor\":\"#2a3f5f\"},\"type\":\"carpet\"}],\"choropleth\":[{\"colorbar\":{\"outlinewidth\":0,\"ticks\":\"\"},\"type\":\"choropleth\"}],\"contourcarpet\":[{\"colorbar\":{\"outlinewidth\":0,\"ticks\":\"\"},\"type\":\"contourcarpet\"}],\"contour\":[{\"colorbar\":{\"outlinewidth\":0,\"ticks\":\"\"},\"colorscale\":[[0.0,\"#0d0887\"],[0.1111111111111111,\"#46039f\"],[0.2222222222222222,\"#7201a8\"],[0.3333333333333333,\"#9c179e\"],[0.4444444444444444,\"#bd3786\"],[0.5555555555555556,\"#d8576b\"],[0.6666666666666666,\"#ed7953\"],[0.7777777777777778,\"#fb9f3a\"],[0.8888888888888888,\"#fdca26\"],[1.0,\"#f0f921\"]],\"type\":\"contour\"}],\"heatmapgl\":[{\"colorbar\":{\"outlinewidth\":0,\"ticks\":\"\"},\"colorscale\":[[0.0,\"#0d0887\"],[0.1111111111111111,\"#46039f\"],[0.2222222222222222,\"#7201a8\"],[0.3333333333333333,\"#9c179e\"],[0.4444444444444444,\"#bd3786\"],[0.5555555555555556,\"#d8576b\"],[0.6666666666666666,\"#ed7953\"],[0.7777777777777778,\"#fb9f3a\"],[0.8888888888888888,\"#fdca26\"],[1.0,\"#f0f921\"]],\"type\":\"heatmapgl\"}],\"heatmap\":[{\"colorbar\":{\"outlinewidth\":0,\"ticks\":\"\"},\"colorscale\":[[0.0,\"#0d0887\"],[0.1111111111111111,\"#46039f\"],[0.2222222222222222,\"#7201a8\"],[0.3333333333333333,\"#9c179e\"],[0.4444444444444444,\"#bd3786\"],[0.5555555555555556,\"#d8576b\"],[0.6666666666666666,\"#ed7953\"],[0.7777777777777778,\"#fb9f3a\"],[0.8888888888888888,\"#fdca26\"],[1.0,\"#f0f921\"]],\"type\":\"heatmap\"}],\"histogram2dcontour\":[{\"colorbar\":{\"outlinewidth\":0,\"ticks\":\"\"},\"colorscale\":[[0.0,\"#0d0887\"],[0.1111111111111111,\"#46039f\"],[0.2222222222222222,\"#7201a8\"],[0.3333333333333333,\"#9c179e\"],[0.4444444444444444,\"#bd3786\"],[0.5555555555555556,\"#d8576b\"],[0.6666666666666666,\"#ed7953\"],[0.7777777777777778,\"#fb9f3a\"],[0.8888888888888888,\"#fdca26\"],[1.0,\"#f0f921\"]],\"type\":\"histogram2dcontour\"}],\"histogram2d\":[{\"colorbar\":{\"outlinewidth\":0,\"ticks\":\"\"},\"colorscale\":[[0.0,\"#0d0887\"],[0.1111111111111111,\"#46039f\"],[0.2222222222222222,\"#7201a8\"],[0.3333333333333333,\"#9c179e\"],[0.4444444444444444,\"#bd3786\"],[0.5555555555555556,\"#d8576b\"],[0.6666666666666666,\"#ed7953\"],[0.7777777777777778,\"#fb9f3a\"],[0.8888888888888888,\"#fdca26\"],[1.0,\"#f0f921\"]],\"type\":\"histogram2d\"}],\"histogram\":[{\"marker\":{\"pattern\":{\"fillmode\":\"overlay\",\"size\":10,\"solidity\":0.2}},\"type\":\"histogram\"}],\"mesh3d\":[{\"colorbar\":{\"outlinewidth\":0,\"ticks\":\"\"},\"type\":\"mesh3d\"}],\"parcoords\":[{\"line\":{\"colorbar\":{\"outlinewidth\":0,\"ticks\":\"\"}},\"type\":\"parcoords\"}],\"pie\":[{\"automargin\":true,\"type\":\"pie\"}],\"scatter3d\":[{\"line\":{\"colorbar\":{\"outlinewidth\":0,\"ticks\":\"\"}},\"marker\":{\"colorbar\":{\"outlinewidth\":0,\"ticks\":\"\"}},\"type\":\"scatter3d\"}],\"scattercarpet\":[{\"marker\":{\"colorbar\":{\"outlinewidth\":0,\"ticks\":\"\"}},\"type\":\"scattercarpet\"}],\"scattergeo\":[{\"marker\":{\"colorbar\":{\"outlinewidth\":0,\"ticks\":\"\"}},\"type\":\"scattergeo\"}],\"scattergl\":[{\"marker\":{\"colorbar\":{\"outlinewidth\":0,\"ticks\":\"\"}},\"type\":\"scattergl\"}],\"scattermapbox\":[{\"marker\":{\"colorbar\":{\"outlinewidth\":0,\"ticks\":\"\"}},\"type\":\"scattermapbox\"}],\"scatterpolargl\":[{\"marker\":{\"colorbar\":{\"outlinewidth\":0,\"ticks\":\"\"}},\"type\":\"scatterpolargl\"}],\"scatterpolar\":[{\"marker\":{\"colorbar\":{\"outlinewidth\":0,\"ticks\":\"\"}},\"type\":\"scatterpolar\"}],\"scatter\":[{\"marker\":{\"colorbar\":{\"outlinewidth\":0,\"ticks\":\"\"}},\"type\":\"scatter\"}],\"scatterternary\":[{\"marker\":{\"colorbar\":{\"outlinewidth\":0,\"ticks\":\"\"}},\"type\":\"scatterternary\"}],\"surface\":[{\"colorbar\":{\"outlinewidth\":0,\"ticks\":\"\"},\"colorscale\":[[0.0,\"#0d0887\"],[0.1111111111111111,\"#46039f\"],[0.2222222222222222,\"#7201a8\"],[0.3333333333333333,\"#9c179e\"],[0.4444444444444444,\"#bd3786\"],[0.5555555555555556,\"#d8576b\"],[0.6666666666666666,\"#ed7953\"],[0.7777777777777778,\"#fb9f3a\"],[0.8888888888888888,\"#fdca26\"],[1.0,\"#f0f921\"]],\"type\":\"surface\"}],\"table\":[{\"cells\":{\"fill\":{\"color\":\"#EBF0F8\"},\"line\":{\"color\":\"white\"}},\"header\":{\"fill\":{\"color\":\"#C8D4E3\"},\"line\":{\"color\":\"white\"}},\"type\":\"table\"}]},\"layout\":{\"annotationdefaults\":{\"arrowcolor\":\"#2a3f5f\",\"arrowhead\":0,\"arrowwidth\":1},\"autotypenumbers\":\"strict\",\"coloraxis\":{\"colorbar\":{\"outlinewidth\":0,\"ticks\":\"\"}},\"colorscale\":{\"diverging\":[[0,\"#8e0152\"],[0.1,\"#c51b7d\"],[0.2,\"#de77ae\"],[0.3,\"#f1b6da\"],[0.4,\"#fde0ef\"],[0.5,\"#f7f7f7\"],[0.6,\"#e6f5d0\"],[0.7,\"#b8e186\"],[0.8,\"#7fbc41\"],[0.9,\"#4d9221\"],[1,\"#276419\"]],\"sequential\":[[0.0,\"#0d0887\"],[0.1111111111111111,\"#46039f\"],[0.2222222222222222,\"#7201a8\"],[0.3333333333333333,\"#9c179e\"],[0.4444444444444444,\"#bd3786\"],[0.5555555555555556,\"#d8576b\"],[0.6666666666666666,\"#ed7953\"],[0.7777777777777778,\"#fb9f3a\"],[0.8888888888888888,\"#fdca26\"],[1.0,\"#f0f921\"]],\"sequentialminus\":[[0.0,\"#0d0887\"],[0.1111111111111111,\"#46039f\"],[0.2222222222222222,\"#7201a8\"],[0.3333333333333333,\"#9c179e\"],[0.4444444444444444,\"#bd3786\"],[0.5555555555555556,\"#d8576b\"],[0.6666666666666666,\"#ed7953\"],[0.7777777777777778,\"#fb9f3a\"],[0.8888888888888888,\"#fdca26\"],[1.0,\"#f0f921\"]]},\"colorway\":[\"#636efa\",\"#EF553B\",\"#00cc96\",\"#ab63fa\",\"#FFA15A\",\"#19d3f3\",\"#FF6692\",\"#B6E880\",\"#FF97FF\",\"#FECB52\"],\"font\":{\"color\":\"#2a3f5f\"},\"geo\":{\"bgcolor\":\"white\",\"lakecolor\":\"white\",\"landcolor\":\"#E5ECF6\",\"showlakes\":true,\"showland\":true,\"subunitcolor\":\"white\"},\"hoverlabel\":{\"align\":\"left\"},\"hovermode\":\"closest\",\"mapbox\":{\"style\":\"light\"},\"paper_bgcolor\":\"white\",\"plot_bgcolor\":\"#E5ECF6\",\"polar\":{\"angularaxis\":{\"gridcolor\":\"white\",\"linecolor\":\"white\",\"ticks\":\"\"},\"bgcolor\":\"#E5ECF6\",\"radialaxis\":{\"gridcolor\":\"white\",\"linecolor\":\"white\",\"ticks\":\"\"}},\"scene\":{\"xaxis\":{\"backgroundcolor\":\"#E5ECF6\",\"gridcolor\":\"white\",\"gridwidth\":2,\"linecolor\":\"white\",\"showbackground\":true,\"ticks\":\"\",\"zerolinecolor\":\"white\"},\"yaxis\":{\"backgroundcolor\":\"#E5ECF6\",\"gridcolor\":\"white\",\"gridwidth\":2,\"linecolor\":\"white\",\"showbackground\":true,\"ticks\":\"\",\"zerolinecolor\":\"white\"},\"zaxis\":{\"backgroundcolor\":\"#E5ECF6\",\"gridcolor\":\"white\",\"gridwidth\":2,\"linecolor\":\"white\",\"showbackground\":true,\"ticks\":\"\",\"zerolinecolor\":\"white\"}},\"shapedefaults\":{\"line\":{\"color\":\"#2a3f5f\"}},\"ternary\":{\"aaxis\":{\"gridcolor\":\"white\",\"linecolor\":\"white\",\"ticks\":\"\"},\"baxis\":{\"gridcolor\":\"white\",\"linecolor\":\"white\",\"ticks\":\"\"},\"bgcolor\":\"#E5ECF6\",\"caxis\":{\"gridcolor\":\"white\",\"linecolor\":\"white\",\"ticks\":\"\"}},\"title\":{\"x\":0.05},\"xaxis\":{\"automargin\":true,\"gridcolor\":\"white\",\"linecolor\":\"white\",\"ticks\":\"\",\"title\":{\"standoff\":15},\"zerolinecolor\":\"white\",\"zerolinewidth\":2},\"yaxis\":{\"automargin\":true,\"gridcolor\":\"white\",\"linecolor\":\"white\",\"ticks\":\"\",\"title\":{\"standoff\":15},\"zerolinecolor\":\"white\",\"zerolinewidth\":2}}},\"title\":{\"text\":\"MSE with 5-Fold Cross Validation w/ Larger Values\"},\"xaxis\":{\"anchor\":\"y\",\"domain\":[0.0,1.0],\"title\":{\"text\":\"Ridge Parameter\"}},\"yaxis\":{\"anchor\":\"x\",\"domain\":[0.0,1.0],\"title\":{\"text\":\"Mean Squared Error\"}}},                        {\"responsive\": true}                    ).then(function(){\n",
       "                            \n",
       "var gd = document.getElementById('c0b6e948-bd47-46eb-8e8a-7f3a4ef0f480');\n",
       "var x = new MutationObserver(function (mutations, observer) {{\n",
       "        var display = window.getComputedStyle(gd).display;\n",
       "        if (!display || display === 'none') {{\n",
       "            console.log([gd, 'removed!']);\n",
       "            Plotly.purge(gd);\n",
       "            observer.disconnect();\n",
       "        }}\n",
       "}});\n",
       "\n",
       "// Listen for the removal of the full notebook cells\n",
       "var notebookContainer = gd.closest('#notebook-container');\n",
       "if (notebookContainer) {{\n",
       "    x.observe(notebookContainer, {childList: true});\n",
       "}}\n",
       "\n",
       "// Listen for the clearing of the current output cell\n",
       "var outputEl = gd.closest('.output');\n",
       "if (outputEl) {{\n",
       "    x.observe(outputEl, {childList: true});\n",
       "}}\n",
       "\n",
       "                        })                };                });            </script>        </div>"
      ]
     },
     "metadata": {},
     "output_type": "display_data"
    },
    {
     "data": {
      "text/plain": [
       "lambda        1.500000\n",
       "MSE       13428.825231\n",
       "Name: 1, dtype: float64"
      ]
     },
     "metadata": {},
     "output_type": "display_data"
    },
    {
     "data": {
      "application/vnd.plotly.v1+json": {
       "config": {
        "plotlyServerURL": "https://plot.ly"
       },
       "data": [
        {
         "hovertemplate": "Ridge Parameter=%{x}<br>Mean Squared Error=%{y}<extra></extra>",
         "legendgroup": "",
         "marker": {
          "color": "#636efa",
          "symbol": "circle"
         },
         "mode": "markers",
         "name": "",
         "orientation": "v",
         "showlegend": false,
         "type": "scatter",
         "x": [
          0.01,
          0.03,
          0.049999999999999996,
          0.06999999999999999,
          0.08999999999999998,
          0.10999999999999997,
          0.12999999999999998,
          0.15,
          0.16999999999999998,
          0.18999999999999997,
          0.20999999999999996,
          0.22999999999999998,
          0.24999999999999997,
          0.26999999999999996,
          0.29,
          0.30999999999999994,
          0.32999999999999996,
          0.35,
          0.36999999999999994,
          0.38999999999999996,
          0.4099999999999999,
          0.42999999999999994,
          0.44999999999999996,
          0.4699999999999999,
          0.48999999999999994,
          0.5099999999999999,
          0.5299999999999999,
          0.5499999999999999,
          0.57,
          0.59,
          0.6099999999999999,
          0.6299999999999999,
          0.6499999999999999,
          0.6699999999999999,
          0.69,
          0.7099999999999999,
          0.7299999999999999,
          0.7499999999999999,
          0.7699999999999999,
          0.7899999999999999,
          0.8099999999999998,
          0.8299999999999998,
          0.8499999999999999,
          0.8699999999999999,
          0.8899999999999999,
          0.9099999999999999,
          0.9299999999999998,
          0.9499999999999998,
          0.9699999999999999,
          0.9899999999999999,
          1.0099999999999998,
          1.0299999999999998,
          1.0499999999999998,
          1.0699999999999998,
          1.0899999999999999,
          1.1099999999999999,
          1.13,
          1.15,
          1.17,
          1.1899999999999997,
          1.2099999999999997,
          1.2299999999999998,
          1.2499999999999998,
          1.2699999999999998,
          1.2899999999999998,
          1.3099999999999998,
          1.3299999999999998,
          1.3499999999999999,
          1.3699999999999999,
          1.39,
          1.4099999999999997,
          1.4299999999999997,
          1.4499999999999997,
          1.4699999999999998,
          1.4899999999999998,
          1.5099999999999998,
          1.5299999999999998,
          1.5499999999999998,
          1.5699999999999998,
          1.5899999999999999,
          1.6099999999999997,
          1.6299999999999997,
          1.6499999999999997,
          1.6699999999999997,
          1.6899999999999997,
          1.7099999999999997,
          1.7299999999999998,
          1.7499999999999998,
          1.7699999999999998,
          1.7899999999999998,
          1.8099999999999998,
          1.8299999999999996,
          1.8499999999999996,
          1.8699999999999997,
          1.8899999999999997,
          1.9099999999999997,
          1.9299999999999997,
          1.9499999999999997,
          1.9699999999999998,
          1.9899999999999998,
          2.01,
          2.0299999999999994,
          2.0499999999999994,
          2.0699999999999994,
          2.0899999999999994,
          2.1099999999999994,
          2.1299999999999994,
          2.1499999999999995,
          2.1699999999999995,
          2.1899999999999995,
          2.2099999999999995,
          2.2299999999999995,
          2.2499999999999996,
          2.2699999999999996,
          2.2899999999999996,
          2.3099999999999996,
          2.3299999999999996,
          2.3499999999999996,
          2.369999999999999,
          2.3899999999999992,
          2.4099999999999993,
          2.4299999999999993,
          2.4499999999999993,
          2.4699999999999993,
          2.4899999999999993,
          2.5099999999999993,
          2.5299999999999994,
          2.5499999999999994,
          2.5699999999999994,
          2.5899999999999994,
          2.6099999999999994,
          2.6299999999999994,
          2.6499999999999995,
          2.6699999999999995,
          2.6899999999999995,
          2.7099999999999995,
          2.7299999999999995,
          2.7499999999999996,
          2.7699999999999996,
          2.789999999999999,
          2.809999999999999,
          2.829999999999999,
          2.849999999999999,
          2.869999999999999,
          2.8899999999999992,
          2.9099999999999993,
          2.9299999999999993,
          2.9499999999999993,
          2.9699999999999993,
          2.9899999999999993,
          3.0099999999999993,
          3.0299999999999994,
          3.0499999999999994,
          3.0699999999999994,
          3.0899999999999994,
          3.1099999999999994,
          3.1299999999999994,
          3.1499999999999995,
          3.1699999999999995,
          3.1899999999999995,
          3.209999999999999,
          3.229999999999999,
          3.249999999999999,
          3.269999999999999,
          3.289999999999999,
          3.309999999999999,
          3.329999999999999,
          3.349999999999999,
          3.369999999999999,
          3.3899999999999992,
          3.4099999999999993,
          3.4299999999999993,
          3.4499999999999993,
          3.4699999999999993,
          3.4899999999999993
         ],
         "xaxis": "x",
         "y": [
          13428.827447114458,
          13428.827385206028,
          13428.827331994882,
          13428.827276738404,
          13428.82722273924,
          13428.827169687593,
          13428.827116946606,
          13428.82706546638,
          13428.827014368964,
          13428.82696421546,
          13428.826914544286,
          13428.826865654042,
          13428.826817630756,
          13428.826770351176,
          13428.826723629118,
          13428.826677918467,
          13428.826632990433,
          13428.826588339216,
          13428.826544712527,
          13428.826501675265,
          13428.826459519269,
          13428.826417907196,
          13428.826377140289,
          13428.82633694812,
          13428.82629766317,
          13428.826258924111,
          13428.826221060503,
          13428.826184018719,
          13428.82614732491,
          13428.826111623508,
          13428.82607666573,
          13428.826042170083,
          13428.826008618102,
          13428.825975645794,
          13428.82594352705,
          13428.825911937533,
          13428.825881267509,
          13428.82585109761,
          13428.825821794508,
          13428.825793233807,
          13428.825765225425,
          13428.825738065152,
          13428.825711539113,
          13428.82568573911,
          13428.825660559805,
          13428.825636216567,
          13428.825612546256,
          13428.825589629781,
          13428.825567309419,
          13428.825545719335,
          13428.8255249038,
          13428.825504677035,
          13428.825485263122,
          13428.825466457576,
          13428.825448467838,
          13428.825431110812,
          13428.825414410621,
          13428.825398482255,
          13428.82538316196,
          13428.825368546579,
          13428.8253547275,
          13428.825341521864,
          13428.825329024741,
          13428.825317291503,
          13428.82530616415,
          13428.825295775843,
          13428.825286018411,
          13428.825276980788,
          13428.82526869841,
          13428.825261032684,
          13428.825254114472,
          13428.825247810097,
          13428.825242233117,
          13428.82523732335,
          13428.825233069223,
          13428.825229553875,
          13428.825226777635,
          13428.825224640332,
          13428.82522314706,
          13428.825222374566,
          13428.825222299207,
          13428.825222854019,
          13428.825224103106,
          13428.825226068811,
          13428.825228640077,
          13428.82523199869,
          13428.825235960645,
          13428.825240587737,
          13428.825245930337,
          13428.825251954917,
          13428.825258616163,
          13428.825265976779,
          13428.825274011717,
          13428.825282726539,
          13428.82529212274,
          13428.825302180101,
          13428.825312873796,
          13428.825324295345,
          13428.825336369384,
          13428.825349088458,
          13428.825362516222,
          13428.825376569785,
          13428.82539131974,
          13428.825406726048,
          13428.825422793947,
          13428.825439540344,
          13428.825456979263,
          13428.825475017522,
          13428.825493752953,
          13428.825513156658,
          13428.825533217812,
          13428.825553921755,
          13428.825575336965,
          13428.825597366227,
          13428.825620043008,
          13428.825643435775,
          13428.825667461866,
          13428.825692150174,
          13428.825717513077,
          13428.82574346306,
          13428.825770124367,
          13428.82579744371,
          13428.825825395199,
          13428.825854009996,
          13428.825883265794,
          13428.825913210185,
          13428.825943766995,
          13428.825975044858,
          13428.826006891852,
          13428.826039394287,
          13428.82607257651,
          13428.82610642569,
          13428.826140896836,
          13428.826176022627,
          13428.82621180159,
          13428.826248204316,
          13428.826285250756,
          13428.826322971363,
          13428.826361340707,
          13428.826400346501,
          13428.82643996611,
          13428.82648025734,
          13428.826521194631,
          13428.826562752281,
          13428.826604978778,
          13428.826647801903,
          13428.826691309476,
          13428.826735411789,
          13428.826780189283,
          13428.826825603872,
          13428.826871633972,
          13428.826918327879,
          13428.826965619926,
          13428.827013602475,
          13428.827062167455,
          13428.827111402545,
          13428.827161231358,
          13428.827211706186,
          13428.82726284569,
          13428.82731458751,
          13428.82736698584,
          13428.827419988102,
          13428.82747361273,
          13428.827527896477,
          13428.827582785641,
          13428.827638330235,
          13428.827694461701,
          13428.827751243301,
          13428.827808650243,
          13428.827866703205,
          13428.827925342024,
          13428.82798463385,
          13428.828044544367,
          13428.8281050568,
          13428.82816621507
         ],
         "yaxis": "y"
        },
        {
         "name": "Minimum MSE",
         "type": "scatter",
         "x": [
          1.6099999999999997
         ],
         "y": [
          13428.825222299207
         ]
        }
       ],
       "layout": {
        "legend": {
         "tracegroupgap": 0
        },
        "template": {
         "data": {
          "bar": [
           {
            "error_x": {
             "color": "#2a3f5f"
            },
            "error_y": {
             "color": "#2a3f5f"
            },
            "marker": {
             "line": {
              "color": "#E5ECF6",
              "width": 0.5
             },
             "pattern": {
              "fillmode": "overlay",
              "size": 10,
              "solidity": 0.2
             }
            },
            "type": "bar"
           }
          ],
          "barpolar": [
           {
            "marker": {
             "line": {
              "color": "#E5ECF6",
              "width": 0.5
             },
             "pattern": {
              "fillmode": "overlay",
              "size": 10,
              "solidity": 0.2
             }
            },
            "type": "barpolar"
           }
          ],
          "carpet": [
           {
            "aaxis": {
             "endlinecolor": "#2a3f5f",
             "gridcolor": "white",
             "linecolor": "white",
             "minorgridcolor": "white",
             "startlinecolor": "#2a3f5f"
            },
            "baxis": {
             "endlinecolor": "#2a3f5f",
             "gridcolor": "white",
             "linecolor": "white",
             "minorgridcolor": "white",
             "startlinecolor": "#2a3f5f"
            },
            "type": "carpet"
           }
          ],
          "choropleth": [
           {
            "colorbar": {
             "outlinewidth": 0,
             "ticks": ""
            },
            "type": "choropleth"
           }
          ],
          "contour": [
           {
            "colorbar": {
             "outlinewidth": 0,
             "ticks": ""
            },
            "colorscale": [
             [
              0,
              "#0d0887"
             ],
             [
              0.1111111111111111,
              "#46039f"
             ],
             [
              0.2222222222222222,
              "#7201a8"
             ],
             [
              0.3333333333333333,
              "#9c179e"
             ],
             [
              0.4444444444444444,
              "#bd3786"
             ],
             [
              0.5555555555555556,
              "#d8576b"
             ],
             [
              0.6666666666666666,
              "#ed7953"
             ],
             [
              0.7777777777777778,
              "#fb9f3a"
             ],
             [
              0.8888888888888888,
              "#fdca26"
             ],
             [
              1,
              "#f0f921"
             ]
            ],
            "type": "contour"
           }
          ],
          "contourcarpet": [
           {
            "colorbar": {
             "outlinewidth": 0,
             "ticks": ""
            },
            "type": "contourcarpet"
           }
          ],
          "heatmap": [
           {
            "colorbar": {
             "outlinewidth": 0,
             "ticks": ""
            },
            "colorscale": [
             [
              0,
              "#0d0887"
             ],
             [
              0.1111111111111111,
              "#46039f"
             ],
             [
              0.2222222222222222,
              "#7201a8"
             ],
             [
              0.3333333333333333,
              "#9c179e"
             ],
             [
              0.4444444444444444,
              "#bd3786"
             ],
             [
              0.5555555555555556,
              "#d8576b"
             ],
             [
              0.6666666666666666,
              "#ed7953"
             ],
             [
              0.7777777777777778,
              "#fb9f3a"
             ],
             [
              0.8888888888888888,
              "#fdca26"
             ],
             [
              1,
              "#f0f921"
             ]
            ],
            "type": "heatmap"
           }
          ],
          "heatmapgl": [
           {
            "colorbar": {
             "outlinewidth": 0,
             "ticks": ""
            },
            "colorscale": [
             [
              0,
              "#0d0887"
             ],
             [
              0.1111111111111111,
              "#46039f"
             ],
             [
              0.2222222222222222,
              "#7201a8"
             ],
             [
              0.3333333333333333,
              "#9c179e"
             ],
             [
              0.4444444444444444,
              "#bd3786"
             ],
             [
              0.5555555555555556,
              "#d8576b"
             ],
             [
              0.6666666666666666,
              "#ed7953"
             ],
             [
              0.7777777777777778,
              "#fb9f3a"
             ],
             [
              0.8888888888888888,
              "#fdca26"
             ],
             [
              1,
              "#f0f921"
             ]
            ],
            "type": "heatmapgl"
           }
          ],
          "histogram": [
           {
            "marker": {
             "pattern": {
              "fillmode": "overlay",
              "size": 10,
              "solidity": 0.2
             }
            },
            "type": "histogram"
           }
          ],
          "histogram2d": [
           {
            "colorbar": {
             "outlinewidth": 0,
             "ticks": ""
            },
            "colorscale": [
             [
              0,
              "#0d0887"
             ],
             [
              0.1111111111111111,
              "#46039f"
             ],
             [
              0.2222222222222222,
              "#7201a8"
             ],
             [
              0.3333333333333333,
              "#9c179e"
             ],
             [
              0.4444444444444444,
              "#bd3786"
             ],
             [
              0.5555555555555556,
              "#d8576b"
             ],
             [
              0.6666666666666666,
              "#ed7953"
             ],
             [
              0.7777777777777778,
              "#fb9f3a"
             ],
             [
              0.8888888888888888,
              "#fdca26"
             ],
             [
              1,
              "#f0f921"
             ]
            ],
            "type": "histogram2d"
           }
          ],
          "histogram2dcontour": [
           {
            "colorbar": {
             "outlinewidth": 0,
             "ticks": ""
            },
            "colorscale": [
             [
              0,
              "#0d0887"
             ],
             [
              0.1111111111111111,
              "#46039f"
             ],
             [
              0.2222222222222222,
              "#7201a8"
             ],
             [
              0.3333333333333333,
              "#9c179e"
             ],
             [
              0.4444444444444444,
              "#bd3786"
             ],
             [
              0.5555555555555556,
              "#d8576b"
             ],
             [
              0.6666666666666666,
              "#ed7953"
             ],
             [
              0.7777777777777778,
              "#fb9f3a"
             ],
             [
              0.8888888888888888,
              "#fdca26"
             ],
             [
              1,
              "#f0f921"
             ]
            ],
            "type": "histogram2dcontour"
           }
          ],
          "mesh3d": [
           {
            "colorbar": {
             "outlinewidth": 0,
             "ticks": ""
            },
            "type": "mesh3d"
           }
          ],
          "parcoords": [
           {
            "line": {
             "colorbar": {
              "outlinewidth": 0,
              "ticks": ""
             }
            },
            "type": "parcoords"
           }
          ],
          "pie": [
           {
            "automargin": true,
            "type": "pie"
           }
          ],
          "scatter": [
           {
            "marker": {
             "colorbar": {
              "outlinewidth": 0,
              "ticks": ""
             }
            },
            "type": "scatter"
           }
          ],
          "scatter3d": [
           {
            "line": {
             "colorbar": {
              "outlinewidth": 0,
              "ticks": ""
             }
            },
            "marker": {
             "colorbar": {
              "outlinewidth": 0,
              "ticks": ""
             }
            },
            "type": "scatter3d"
           }
          ],
          "scattercarpet": [
           {
            "marker": {
             "colorbar": {
              "outlinewidth": 0,
              "ticks": ""
             }
            },
            "type": "scattercarpet"
           }
          ],
          "scattergeo": [
           {
            "marker": {
             "colorbar": {
              "outlinewidth": 0,
              "ticks": ""
             }
            },
            "type": "scattergeo"
           }
          ],
          "scattergl": [
           {
            "marker": {
             "colorbar": {
              "outlinewidth": 0,
              "ticks": ""
             }
            },
            "type": "scattergl"
           }
          ],
          "scattermapbox": [
           {
            "marker": {
             "colorbar": {
              "outlinewidth": 0,
              "ticks": ""
             }
            },
            "type": "scattermapbox"
           }
          ],
          "scatterpolar": [
           {
            "marker": {
             "colorbar": {
              "outlinewidth": 0,
              "ticks": ""
             }
            },
            "type": "scatterpolar"
           }
          ],
          "scatterpolargl": [
           {
            "marker": {
             "colorbar": {
              "outlinewidth": 0,
              "ticks": ""
             }
            },
            "type": "scatterpolargl"
           }
          ],
          "scatterternary": [
           {
            "marker": {
             "colorbar": {
              "outlinewidth": 0,
              "ticks": ""
             }
            },
            "type": "scatterternary"
           }
          ],
          "surface": [
           {
            "colorbar": {
             "outlinewidth": 0,
             "ticks": ""
            },
            "colorscale": [
             [
              0,
              "#0d0887"
             ],
             [
              0.1111111111111111,
              "#46039f"
             ],
             [
              0.2222222222222222,
              "#7201a8"
             ],
             [
              0.3333333333333333,
              "#9c179e"
             ],
             [
              0.4444444444444444,
              "#bd3786"
             ],
             [
              0.5555555555555556,
              "#d8576b"
             ],
             [
              0.6666666666666666,
              "#ed7953"
             ],
             [
              0.7777777777777778,
              "#fb9f3a"
             ],
             [
              0.8888888888888888,
              "#fdca26"
             ],
             [
              1,
              "#f0f921"
             ]
            ],
            "type": "surface"
           }
          ],
          "table": [
           {
            "cells": {
             "fill": {
              "color": "#EBF0F8"
             },
             "line": {
              "color": "white"
             }
            },
            "header": {
             "fill": {
              "color": "#C8D4E3"
             },
             "line": {
              "color": "white"
             }
            },
            "type": "table"
           }
          ]
         },
         "layout": {
          "annotationdefaults": {
           "arrowcolor": "#2a3f5f",
           "arrowhead": 0,
           "arrowwidth": 1
          },
          "autotypenumbers": "strict",
          "coloraxis": {
           "colorbar": {
            "outlinewidth": 0,
            "ticks": ""
           }
          },
          "colorscale": {
           "diverging": [
            [
             0,
             "#8e0152"
            ],
            [
             0.1,
             "#c51b7d"
            ],
            [
             0.2,
             "#de77ae"
            ],
            [
             0.3,
             "#f1b6da"
            ],
            [
             0.4,
             "#fde0ef"
            ],
            [
             0.5,
             "#f7f7f7"
            ],
            [
             0.6,
             "#e6f5d0"
            ],
            [
             0.7,
             "#b8e186"
            ],
            [
             0.8,
             "#7fbc41"
            ],
            [
             0.9,
             "#4d9221"
            ],
            [
             1,
             "#276419"
            ]
           ],
           "sequential": [
            [
             0,
             "#0d0887"
            ],
            [
             0.1111111111111111,
             "#46039f"
            ],
            [
             0.2222222222222222,
             "#7201a8"
            ],
            [
             0.3333333333333333,
             "#9c179e"
            ],
            [
             0.4444444444444444,
             "#bd3786"
            ],
            [
             0.5555555555555556,
             "#d8576b"
            ],
            [
             0.6666666666666666,
             "#ed7953"
            ],
            [
             0.7777777777777778,
             "#fb9f3a"
            ],
            [
             0.8888888888888888,
             "#fdca26"
            ],
            [
             1,
             "#f0f921"
            ]
           ],
           "sequentialminus": [
            [
             0,
             "#0d0887"
            ],
            [
             0.1111111111111111,
             "#46039f"
            ],
            [
             0.2222222222222222,
             "#7201a8"
            ],
            [
             0.3333333333333333,
             "#9c179e"
            ],
            [
             0.4444444444444444,
             "#bd3786"
            ],
            [
             0.5555555555555556,
             "#d8576b"
            ],
            [
             0.6666666666666666,
             "#ed7953"
            ],
            [
             0.7777777777777778,
             "#fb9f3a"
            ],
            [
             0.8888888888888888,
             "#fdca26"
            ],
            [
             1,
             "#f0f921"
            ]
           ]
          },
          "colorway": [
           "#636efa",
           "#EF553B",
           "#00cc96",
           "#ab63fa",
           "#FFA15A",
           "#19d3f3",
           "#FF6692",
           "#B6E880",
           "#FF97FF",
           "#FECB52"
          ],
          "font": {
           "color": "#2a3f5f"
          },
          "geo": {
           "bgcolor": "white",
           "lakecolor": "white",
           "landcolor": "#E5ECF6",
           "showlakes": true,
           "showland": true,
           "subunitcolor": "white"
          },
          "hoverlabel": {
           "align": "left"
          },
          "hovermode": "closest",
          "mapbox": {
           "style": "light"
          },
          "paper_bgcolor": "white",
          "plot_bgcolor": "#E5ECF6",
          "polar": {
           "angularaxis": {
            "gridcolor": "white",
            "linecolor": "white",
            "ticks": ""
           },
           "bgcolor": "#E5ECF6",
           "radialaxis": {
            "gridcolor": "white",
            "linecolor": "white",
            "ticks": ""
           }
          },
          "scene": {
           "xaxis": {
            "backgroundcolor": "#E5ECF6",
            "gridcolor": "white",
            "gridwidth": 2,
            "linecolor": "white",
            "showbackground": true,
            "ticks": "",
            "zerolinecolor": "white"
           },
           "yaxis": {
            "backgroundcolor": "#E5ECF6",
            "gridcolor": "white",
            "gridwidth": 2,
            "linecolor": "white",
            "showbackground": true,
            "ticks": "",
            "zerolinecolor": "white"
           },
           "zaxis": {
            "backgroundcolor": "#E5ECF6",
            "gridcolor": "white",
            "gridwidth": 2,
            "linecolor": "white",
            "showbackground": true,
            "ticks": "",
            "zerolinecolor": "white"
           }
          },
          "shapedefaults": {
           "line": {
            "color": "#2a3f5f"
           }
          },
          "ternary": {
           "aaxis": {
            "gridcolor": "white",
            "linecolor": "white",
            "ticks": ""
           },
           "baxis": {
            "gridcolor": "white",
            "linecolor": "white",
            "ticks": ""
           },
           "bgcolor": "#E5ECF6",
           "caxis": {
            "gridcolor": "white",
            "linecolor": "white",
            "ticks": ""
           }
          },
          "title": {
           "x": 0.05
          },
          "xaxis": {
           "automargin": true,
           "gridcolor": "white",
           "linecolor": "white",
           "ticks": "",
           "title": {
            "standoff": 15
           },
           "zerolinecolor": "white",
           "zerolinewidth": 2
          },
          "yaxis": {
           "automargin": true,
           "gridcolor": "white",
           "linecolor": "white",
           "ticks": "",
           "title": {
            "standoff": 15
           },
           "zerolinecolor": "white",
           "zerolinewidth": 2
          }
         }
        },
        "title": {
         "text": "MSE with 5-Fold Cross Validation"
        },
        "xaxis": {
         "anchor": "y",
         "domain": [
          0,
          1
         ],
         "title": {
          "text": "Ridge Parameter"
         }
        },
        "yaxis": {
         "anchor": "x",
         "domain": [
          0,
          1
         ],
         "title": {
          "text": "Mean Squared Error"
         }
        }
       }
      },
      "text/html": [
       "<div>                            <div id=\"af78e730-534d-4734-ba9c-8f87071f1d0c\" class=\"plotly-graph-div\" style=\"height:525px; width:100%;\"></div>            <script type=\"text/javascript\">                require([\"plotly\"], function(Plotly) {                    window.PLOTLYENV=window.PLOTLYENV || {};                                    if (document.getElementById(\"af78e730-534d-4734-ba9c-8f87071f1d0c\")) {                    Plotly.newPlot(                        \"af78e730-534d-4734-ba9c-8f87071f1d0c\",                        [{\"hovertemplate\":\"Ridge Parameter=%{x}<br>Mean Squared Error=%{y}<extra></extra>\",\"legendgroup\":\"\",\"marker\":{\"color\":\"#636efa\",\"symbol\":\"circle\"},\"mode\":\"markers\",\"name\":\"\",\"orientation\":\"v\",\"showlegend\":false,\"x\":[0.01,0.03,0.049999999999999996,0.06999999999999999,0.08999999999999998,0.10999999999999997,0.12999999999999998,0.15,0.16999999999999998,0.18999999999999997,0.20999999999999996,0.22999999999999998,0.24999999999999997,0.26999999999999996,0.29,0.30999999999999994,0.32999999999999996,0.35,0.36999999999999994,0.38999999999999996,0.4099999999999999,0.42999999999999994,0.44999999999999996,0.4699999999999999,0.48999999999999994,0.5099999999999999,0.5299999999999999,0.5499999999999999,0.57,0.59,0.6099999999999999,0.6299999999999999,0.6499999999999999,0.6699999999999999,0.69,0.7099999999999999,0.7299999999999999,0.7499999999999999,0.7699999999999999,0.7899999999999999,0.8099999999999998,0.8299999999999998,0.8499999999999999,0.8699999999999999,0.8899999999999999,0.9099999999999999,0.9299999999999998,0.9499999999999998,0.9699999999999999,0.9899999999999999,1.0099999999999998,1.0299999999999998,1.0499999999999998,1.0699999999999998,1.0899999999999999,1.1099999999999999,1.13,1.15,1.17,1.1899999999999997,1.2099999999999997,1.2299999999999998,1.2499999999999998,1.2699999999999998,1.2899999999999998,1.3099999999999998,1.3299999999999998,1.3499999999999999,1.3699999999999999,1.39,1.4099999999999997,1.4299999999999997,1.4499999999999997,1.4699999999999998,1.4899999999999998,1.5099999999999998,1.5299999999999998,1.5499999999999998,1.5699999999999998,1.5899999999999999,1.6099999999999997,1.6299999999999997,1.6499999999999997,1.6699999999999997,1.6899999999999997,1.7099999999999997,1.7299999999999998,1.7499999999999998,1.7699999999999998,1.7899999999999998,1.8099999999999998,1.8299999999999996,1.8499999999999996,1.8699999999999997,1.8899999999999997,1.9099999999999997,1.9299999999999997,1.9499999999999997,1.9699999999999998,1.9899999999999998,2.01,2.0299999999999994,2.0499999999999994,2.0699999999999994,2.0899999999999994,2.1099999999999994,2.1299999999999994,2.1499999999999995,2.1699999999999995,2.1899999999999995,2.2099999999999995,2.2299999999999995,2.2499999999999996,2.2699999999999996,2.2899999999999996,2.3099999999999996,2.3299999999999996,2.3499999999999996,2.369999999999999,2.3899999999999992,2.4099999999999993,2.4299999999999993,2.4499999999999993,2.4699999999999993,2.4899999999999993,2.5099999999999993,2.5299999999999994,2.5499999999999994,2.5699999999999994,2.5899999999999994,2.6099999999999994,2.6299999999999994,2.6499999999999995,2.6699999999999995,2.6899999999999995,2.7099999999999995,2.7299999999999995,2.7499999999999996,2.7699999999999996,2.789999999999999,2.809999999999999,2.829999999999999,2.849999999999999,2.869999999999999,2.8899999999999992,2.9099999999999993,2.9299999999999993,2.9499999999999993,2.9699999999999993,2.9899999999999993,3.0099999999999993,3.0299999999999994,3.0499999999999994,3.0699999999999994,3.0899999999999994,3.1099999999999994,3.1299999999999994,3.1499999999999995,3.1699999999999995,3.1899999999999995,3.209999999999999,3.229999999999999,3.249999999999999,3.269999999999999,3.289999999999999,3.309999999999999,3.329999999999999,3.349999999999999,3.369999999999999,3.3899999999999992,3.4099999999999993,3.4299999999999993,3.4499999999999993,3.4699999999999993,3.4899999999999993],\"xaxis\":\"x\",\"y\":[13428.827447114458,13428.827385206028,13428.827331994882,13428.827276738404,13428.82722273924,13428.827169687593,13428.827116946606,13428.82706546638,13428.827014368964,13428.82696421546,13428.826914544286,13428.826865654042,13428.826817630756,13428.826770351176,13428.826723629118,13428.826677918467,13428.826632990433,13428.826588339216,13428.826544712527,13428.826501675265,13428.826459519269,13428.826417907196,13428.826377140289,13428.82633694812,13428.82629766317,13428.826258924111,13428.826221060503,13428.826184018719,13428.82614732491,13428.826111623508,13428.82607666573,13428.826042170083,13428.826008618102,13428.825975645794,13428.82594352705,13428.825911937533,13428.825881267509,13428.82585109761,13428.825821794508,13428.825793233807,13428.825765225425,13428.825738065152,13428.825711539113,13428.82568573911,13428.825660559805,13428.825636216567,13428.825612546256,13428.825589629781,13428.825567309419,13428.825545719335,13428.8255249038,13428.825504677035,13428.825485263122,13428.825466457576,13428.825448467838,13428.825431110812,13428.825414410621,13428.825398482255,13428.82538316196,13428.825368546579,13428.8253547275,13428.825341521864,13428.825329024741,13428.825317291503,13428.82530616415,13428.825295775843,13428.825286018411,13428.825276980788,13428.82526869841,13428.825261032684,13428.825254114472,13428.825247810097,13428.825242233117,13428.82523732335,13428.825233069223,13428.825229553875,13428.825226777635,13428.825224640332,13428.82522314706,13428.825222374566,13428.825222299207,13428.825222854019,13428.825224103106,13428.825226068811,13428.825228640077,13428.82523199869,13428.825235960645,13428.825240587737,13428.825245930337,13428.825251954917,13428.825258616163,13428.825265976779,13428.825274011717,13428.825282726539,13428.82529212274,13428.825302180101,13428.825312873796,13428.825324295345,13428.825336369384,13428.825349088458,13428.825362516222,13428.825376569785,13428.82539131974,13428.825406726048,13428.825422793947,13428.825439540344,13428.825456979263,13428.825475017522,13428.825493752953,13428.825513156658,13428.825533217812,13428.825553921755,13428.825575336965,13428.825597366227,13428.825620043008,13428.825643435775,13428.825667461866,13428.825692150174,13428.825717513077,13428.82574346306,13428.825770124367,13428.82579744371,13428.825825395199,13428.825854009996,13428.825883265794,13428.825913210185,13428.825943766995,13428.825975044858,13428.826006891852,13428.826039394287,13428.82607257651,13428.82610642569,13428.826140896836,13428.826176022627,13428.82621180159,13428.826248204316,13428.826285250756,13428.826322971363,13428.826361340707,13428.826400346501,13428.82643996611,13428.82648025734,13428.826521194631,13428.826562752281,13428.826604978778,13428.826647801903,13428.826691309476,13428.826735411789,13428.826780189283,13428.826825603872,13428.826871633972,13428.826918327879,13428.826965619926,13428.827013602475,13428.827062167455,13428.827111402545,13428.827161231358,13428.827211706186,13428.82726284569,13428.82731458751,13428.82736698584,13428.827419988102,13428.82747361273,13428.827527896477,13428.827582785641,13428.827638330235,13428.827694461701,13428.827751243301,13428.827808650243,13428.827866703205,13428.827925342024,13428.82798463385,13428.828044544367,13428.8281050568,13428.82816621507],\"yaxis\":\"y\",\"type\":\"scatter\"},{\"name\":\"Minimum MSE\",\"x\":[1.6099999999999997],\"y\":[13428.825222299207],\"type\":\"scatter\"}],                        {\"legend\":{\"tracegroupgap\":0},\"template\":{\"data\":{\"barpolar\":[{\"marker\":{\"line\":{\"color\":\"#E5ECF6\",\"width\":0.5},\"pattern\":{\"fillmode\":\"overlay\",\"size\":10,\"solidity\":0.2}},\"type\":\"barpolar\"}],\"bar\":[{\"error_x\":{\"color\":\"#2a3f5f\"},\"error_y\":{\"color\":\"#2a3f5f\"},\"marker\":{\"line\":{\"color\":\"#E5ECF6\",\"width\":0.5},\"pattern\":{\"fillmode\":\"overlay\",\"size\":10,\"solidity\":0.2}},\"type\":\"bar\"}],\"carpet\":[{\"aaxis\":{\"endlinecolor\":\"#2a3f5f\",\"gridcolor\":\"white\",\"linecolor\":\"white\",\"minorgridcolor\":\"white\",\"startlinecolor\":\"#2a3f5f\"},\"baxis\":{\"endlinecolor\":\"#2a3f5f\",\"gridcolor\":\"white\",\"linecolor\":\"white\",\"minorgridcolor\":\"white\",\"startlinecolor\":\"#2a3f5f\"},\"type\":\"carpet\"}],\"choropleth\":[{\"colorbar\":{\"outlinewidth\":0,\"ticks\":\"\"},\"type\":\"choropleth\"}],\"contourcarpet\":[{\"colorbar\":{\"outlinewidth\":0,\"ticks\":\"\"},\"type\":\"contourcarpet\"}],\"contour\":[{\"colorbar\":{\"outlinewidth\":0,\"ticks\":\"\"},\"colorscale\":[[0.0,\"#0d0887\"],[0.1111111111111111,\"#46039f\"],[0.2222222222222222,\"#7201a8\"],[0.3333333333333333,\"#9c179e\"],[0.4444444444444444,\"#bd3786\"],[0.5555555555555556,\"#d8576b\"],[0.6666666666666666,\"#ed7953\"],[0.7777777777777778,\"#fb9f3a\"],[0.8888888888888888,\"#fdca26\"],[1.0,\"#f0f921\"]],\"type\":\"contour\"}],\"heatmapgl\":[{\"colorbar\":{\"outlinewidth\":0,\"ticks\":\"\"},\"colorscale\":[[0.0,\"#0d0887\"],[0.1111111111111111,\"#46039f\"],[0.2222222222222222,\"#7201a8\"],[0.3333333333333333,\"#9c179e\"],[0.4444444444444444,\"#bd3786\"],[0.5555555555555556,\"#d8576b\"],[0.6666666666666666,\"#ed7953\"],[0.7777777777777778,\"#fb9f3a\"],[0.8888888888888888,\"#fdca26\"],[1.0,\"#f0f921\"]],\"type\":\"heatmapgl\"}],\"heatmap\":[{\"colorbar\":{\"outlinewidth\":0,\"ticks\":\"\"},\"colorscale\":[[0.0,\"#0d0887\"],[0.1111111111111111,\"#46039f\"],[0.2222222222222222,\"#7201a8\"],[0.3333333333333333,\"#9c179e\"],[0.4444444444444444,\"#bd3786\"],[0.5555555555555556,\"#d8576b\"],[0.6666666666666666,\"#ed7953\"],[0.7777777777777778,\"#fb9f3a\"],[0.8888888888888888,\"#fdca26\"],[1.0,\"#f0f921\"]],\"type\":\"heatmap\"}],\"histogram2dcontour\":[{\"colorbar\":{\"outlinewidth\":0,\"ticks\":\"\"},\"colorscale\":[[0.0,\"#0d0887\"],[0.1111111111111111,\"#46039f\"],[0.2222222222222222,\"#7201a8\"],[0.3333333333333333,\"#9c179e\"],[0.4444444444444444,\"#bd3786\"],[0.5555555555555556,\"#d8576b\"],[0.6666666666666666,\"#ed7953\"],[0.7777777777777778,\"#fb9f3a\"],[0.8888888888888888,\"#fdca26\"],[1.0,\"#f0f921\"]],\"type\":\"histogram2dcontour\"}],\"histogram2d\":[{\"colorbar\":{\"outlinewidth\":0,\"ticks\":\"\"},\"colorscale\":[[0.0,\"#0d0887\"],[0.1111111111111111,\"#46039f\"],[0.2222222222222222,\"#7201a8\"],[0.3333333333333333,\"#9c179e\"],[0.4444444444444444,\"#bd3786\"],[0.5555555555555556,\"#d8576b\"],[0.6666666666666666,\"#ed7953\"],[0.7777777777777778,\"#fb9f3a\"],[0.8888888888888888,\"#fdca26\"],[1.0,\"#f0f921\"]],\"type\":\"histogram2d\"}],\"histogram\":[{\"marker\":{\"pattern\":{\"fillmode\":\"overlay\",\"size\":10,\"solidity\":0.2}},\"type\":\"histogram\"}],\"mesh3d\":[{\"colorbar\":{\"outlinewidth\":0,\"ticks\":\"\"},\"type\":\"mesh3d\"}],\"parcoords\":[{\"line\":{\"colorbar\":{\"outlinewidth\":0,\"ticks\":\"\"}},\"type\":\"parcoords\"}],\"pie\":[{\"automargin\":true,\"type\":\"pie\"}],\"scatter3d\":[{\"line\":{\"colorbar\":{\"outlinewidth\":0,\"ticks\":\"\"}},\"marker\":{\"colorbar\":{\"outlinewidth\":0,\"ticks\":\"\"}},\"type\":\"scatter3d\"}],\"scattercarpet\":[{\"marker\":{\"colorbar\":{\"outlinewidth\":0,\"ticks\":\"\"}},\"type\":\"scattercarpet\"}],\"scattergeo\":[{\"marker\":{\"colorbar\":{\"outlinewidth\":0,\"ticks\":\"\"}},\"type\":\"scattergeo\"}],\"scattergl\":[{\"marker\":{\"colorbar\":{\"outlinewidth\":0,\"ticks\":\"\"}},\"type\":\"scattergl\"}],\"scattermapbox\":[{\"marker\":{\"colorbar\":{\"outlinewidth\":0,\"ticks\":\"\"}},\"type\":\"scattermapbox\"}],\"scatterpolargl\":[{\"marker\":{\"colorbar\":{\"outlinewidth\":0,\"ticks\":\"\"}},\"type\":\"scatterpolargl\"}],\"scatterpolar\":[{\"marker\":{\"colorbar\":{\"outlinewidth\":0,\"ticks\":\"\"}},\"type\":\"scatterpolar\"}],\"scatter\":[{\"marker\":{\"colorbar\":{\"outlinewidth\":0,\"ticks\":\"\"}},\"type\":\"scatter\"}],\"scatterternary\":[{\"marker\":{\"colorbar\":{\"outlinewidth\":0,\"ticks\":\"\"}},\"type\":\"scatterternary\"}],\"surface\":[{\"colorbar\":{\"outlinewidth\":0,\"ticks\":\"\"},\"colorscale\":[[0.0,\"#0d0887\"],[0.1111111111111111,\"#46039f\"],[0.2222222222222222,\"#7201a8\"],[0.3333333333333333,\"#9c179e\"],[0.4444444444444444,\"#bd3786\"],[0.5555555555555556,\"#d8576b\"],[0.6666666666666666,\"#ed7953\"],[0.7777777777777778,\"#fb9f3a\"],[0.8888888888888888,\"#fdca26\"],[1.0,\"#f0f921\"]],\"type\":\"surface\"}],\"table\":[{\"cells\":{\"fill\":{\"color\":\"#EBF0F8\"},\"line\":{\"color\":\"white\"}},\"header\":{\"fill\":{\"color\":\"#C8D4E3\"},\"line\":{\"color\":\"white\"}},\"type\":\"table\"}]},\"layout\":{\"annotationdefaults\":{\"arrowcolor\":\"#2a3f5f\",\"arrowhead\":0,\"arrowwidth\":1},\"autotypenumbers\":\"strict\",\"coloraxis\":{\"colorbar\":{\"outlinewidth\":0,\"ticks\":\"\"}},\"colorscale\":{\"diverging\":[[0,\"#8e0152\"],[0.1,\"#c51b7d\"],[0.2,\"#de77ae\"],[0.3,\"#f1b6da\"],[0.4,\"#fde0ef\"],[0.5,\"#f7f7f7\"],[0.6,\"#e6f5d0\"],[0.7,\"#b8e186\"],[0.8,\"#7fbc41\"],[0.9,\"#4d9221\"],[1,\"#276419\"]],\"sequential\":[[0.0,\"#0d0887\"],[0.1111111111111111,\"#46039f\"],[0.2222222222222222,\"#7201a8\"],[0.3333333333333333,\"#9c179e\"],[0.4444444444444444,\"#bd3786\"],[0.5555555555555556,\"#d8576b\"],[0.6666666666666666,\"#ed7953\"],[0.7777777777777778,\"#fb9f3a\"],[0.8888888888888888,\"#fdca26\"],[1.0,\"#f0f921\"]],\"sequentialminus\":[[0.0,\"#0d0887\"],[0.1111111111111111,\"#46039f\"],[0.2222222222222222,\"#7201a8\"],[0.3333333333333333,\"#9c179e\"],[0.4444444444444444,\"#bd3786\"],[0.5555555555555556,\"#d8576b\"],[0.6666666666666666,\"#ed7953\"],[0.7777777777777778,\"#fb9f3a\"],[0.8888888888888888,\"#fdca26\"],[1.0,\"#f0f921\"]]},\"colorway\":[\"#636efa\",\"#EF553B\",\"#00cc96\",\"#ab63fa\",\"#FFA15A\",\"#19d3f3\",\"#FF6692\",\"#B6E880\",\"#FF97FF\",\"#FECB52\"],\"font\":{\"color\":\"#2a3f5f\"},\"geo\":{\"bgcolor\":\"white\",\"lakecolor\":\"white\",\"landcolor\":\"#E5ECF6\",\"showlakes\":true,\"showland\":true,\"subunitcolor\":\"white\"},\"hoverlabel\":{\"align\":\"left\"},\"hovermode\":\"closest\",\"mapbox\":{\"style\":\"light\"},\"paper_bgcolor\":\"white\",\"plot_bgcolor\":\"#E5ECF6\",\"polar\":{\"angularaxis\":{\"gridcolor\":\"white\",\"linecolor\":\"white\",\"ticks\":\"\"},\"bgcolor\":\"#E5ECF6\",\"radialaxis\":{\"gridcolor\":\"white\",\"linecolor\":\"white\",\"ticks\":\"\"}},\"scene\":{\"xaxis\":{\"backgroundcolor\":\"#E5ECF6\",\"gridcolor\":\"white\",\"gridwidth\":2,\"linecolor\":\"white\",\"showbackground\":true,\"ticks\":\"\",\"zerolinecolor\":\"white\"},\"yaxis\":{\"backgroundcolor\":\"#E5ECF6\",\"gridcolor\":\"white\",\"gridwidth\":2,\"linecolor\":\"white\",\"showbackground\":true,\"ticks\":\"\",\"zerolinecolor\":\"white\"},\"zaxis\":{\"backgroundcolor\":\"#E5ECF6\",\"gridcolor\":\"white\",\"gridwidth\":2,\"linecolor\":\"white\",\"showbackground\":true,\"ticks\":\"\",\"zerolinecolor\":\"white\"}},\"shapedefaults\":{\"line\":{\"color\":\"#2a3f5f\"}},\"ternary\":{\"aaxis\":{\"gridcolor\":\"white\",\"linecolor\":\"white\",\"ticks\":\"\"},\"baxis\":{\"gridcolor\":\"white\",\"linecolor\":\"white\",\"ticks\":\"\"},\"bgcolor\":\"#E5ECF6\",\"caxis\":{\"gridcolor\":\"white\",\"linecolor\":\"white\",\"ticks\":\"\"}},\"title\":{\"x\":0.05},\"xaxis\":{\"automargin\":true,\"gridcolor\":\"white\",\"linecolor\":\"white\",\"ticks\":\"\",\"title\":{\"standoff\":15},\"zerolinecolor\":\"white\",\"zerolinewidth\":2},\"yaxis\":{\"automargin\":true,\"gridcolor\":\"white\",\"linecolor\":\"white\",\"ticks\":\"\",\"title\":{\"standoff\":15},\"zerolinecolor\":\"white\",\"zerolinewidth\":2}}},\"title\":{\"text\":\"MSE with 5-Fold Cross Validation\"},\"xaxis\":{\"anchor\":\"y\",\"domain\":[0.0,1.0],\"title\":{\"text\":\"Ridge Parameter\"}},\"yaxis\":{\"anchor\":\"x\",\"domain\":[0.0,1.0],\"title\":{\"text\":\"Mean Squared Error\"}}},                        {\"responsive\": true}                    ).then(function(){\n",
       "                            \n",
       "var gd = document.getElementById('af78e730-534d-4734-ba9c-8f87071f1d0c');\n",
       "var x = new MutationObserver(function (mutations, observer) {{\n",
       "        var display = window.getComputedStyle(gd).display;\n",
       "        if (!display || display === 'none') {{\n",
       "            console.log([gd, 'removed!']);\n",
       "            Plotly.purge(gd);\n",
       "            observer.disconnect();\n",
       "        }}\n",
       "}});\n",
       "\n",
       "// Listen for the removal of the full notebook cells\n",
       "var notebookContainer = gd.closest('#notebook-container');\n",
       "if (notebookContainer) {{\n",
       "    x.observe(notebookContainer, {childList: true});\n",
       "}}\n",
       "\n",
       "// Listen for the clearing of the current output cell\n",
       "var outputEl = gd.closest('.output');\n",
       "if (outputEl) {{\n",
       "    x.observe(outputEl, {childList: true});\n",
       "}}\n",
       "\n",
       "                        })                };                });            </script>        </div>"
      ]
     },
     "metadata": {},
     "output_type": "display_data"
    },
    {
     "data": {
      "text/plain": [
       "lambda        1.610000\n",
       "MSE       13428.825222\n",
       "Name: 80, dtype: float64"
      ]
     },
     "metadata": {},
     "output_type": "display_data"
    },
    {
     "data": {
      "application/javascript": [
       "\n",
       "            setTimeout(function() {\n",
       "                var nbb_cell_id = 43;\n",
       "                var nbb_unformatted_code = \"kfoldMSE = pd.DataFrame({\\\"lambda\\\": alphas_GS, \\\"MSE\\\": listMSE})\\n\\nminMSEindex = kfoldMSE[\\\"MSE\\\"].idxmin()\\nminMSErow = kfoldMSE.iloc[minMSEindex]\\n\\nfig = go.Figure(\\n    data=px.scatter(\\n        kfoldMSE,\\n        x=\\\"lambda\\\",\\n        y=\\\"MSE\\\",\\n        labels={\\\"lambda\\\": \\\"Ridge Parameter\\\", \\\"MSE\\\": \\\"Mean Squared Error\\\"},\\n        title=\\\"MSE with 5-Fold Cross Validation w/ Larger Values\\\",\\n    )\\n)\\n\\nfig.add_trace(\\n    go.Scatter(\\n        x=[minMSErow.loc[\\\"lambda\\\"]], y=[minMSErow.loc[\\\"MSE\\\"]], name=\\\"Minimum MSE\\\"\\n    )\\n)\\n\\nfig.show()\\ndisplay(minMSErow)\\n\\n# With Smaller values\\nkfoldMSE = pd.DataFrame({\\\"lambda\\\": alphas, \\\"MSE\\\": listMSE_small})\\n\\nminMSEindex = kfoldMSE[\\\"MSE\\\"].idxmin()\\nminMSErow = kfoldMSE.iloc[minMSEindex]\\n\\nfig = go.Figure(\\n    data=px.scatter(\\n        kfoldMSE,\\n        x=\\\"lambda\\\",\\n        y=\\\"MSE\\\",\\n        labels={\\\"lambda\\\": \\\"Ridge Parameter\\\", \\\"MSE\\\": \\\"Mean Squared Error\\\"},\\n        title=\\\"MSE with 5-Fold Cross Validation\\\",\\n    )\\n)\\n\\nfig.add_trace(\\n    go.Scatter(\\n        x=[minMSErow.loc[\\\"lambda\\\"]], y=[minMSErow.loc[\\\"MSE\\\"]], name=\\\"Minimum MSE\\\"\\n    )\\n)\\n\\nfig.show()\\ndisplay(minMSErow)\";\n",
       "                var nbb_formatted_code = \"kfoldMSE = pd.DataFrame({\\\"lambda\\\": alphas_GS, \\\"MSE\\\": listMSE})\\n\\nminMSEindex = kfoldMSE[\\\"MSE\\\"].idxmin()\\nminMSErow = kfoldMSE.iloc[minMSEindex]\\n\\nfig = go.Figure(\\n    data=px.scatter(\\n        kfoldMSE,\\n        x=\\\"lambda\\\",\\n        y=\\\"MSE\\\",\\n        labels={\\\"lambda\\\": \\\"Ridge Parameter\\\", \\\"MSE\\\": \\\"Mean Squared Error\\\"},\\n        title=\\\"MSE with 5-Fold Cross Validation w/ Larger Values\\\",\\n    )\\n)\\n\\nfig.add_trace(\\n    go.Scatter(\\n        x=[minMSErow.loc[\\\"lambda\\\"]], y=[minMSErow.loc[\\\"MSE\\\"]], name=\\\"Minimum MSE\\\"\\n    )\\n)\\n\\nfig.show()\\ndisplay(minMSErow)\\n\\n# With Smaller values\\nkfoldMSE = pd.DataFrame({\\\"lambda\\\": alphas, \\\"MSE\\\": listMSE_small})\\n\\nminMSEindex = kfoldMSE[\\\"MSE\\\"].idxmin()\\nminMSErow = kfoldMSE.iloc[minMSEindex]\\n\\nfig = go.Figure(\\n    data=px.scatter(\\n        kfoldMSE,\\n        x=\\\"lambda\\\",\\n        y=\\\"MSE\\\",\\n        labels={\\\"lambda\\\": \\\"Ridge Parameter\\\", \\\"MSE\\\": \\\"Mean Squared Error\\\"},\\n        title=\\\"MSE with 5-Fold Cross Validation\\\",\\n    )\\n)\\n\\nfig.add_trace(\\n    go.Scatter(\\n        x=[minMSErow.loc[\\\"lambda\\\"]], y=[minMSErow.loc[\\\"MSE\\\"]], name=\\\"Minimum MSE\\\"\\n    )\\n)\\n\\nfig.show()\\ndisplay(minMSErow)\";\n",
       "                var nbb_cells = Jupyter.notebook.get_cells();\n",
       "                for (var i = 0; i < nbb_cells.length; ++i) {\n",
       "                    if (nbb_cells[i].input_prompt_number == nbb_cell_id) {\n",
       "                        if (nbb_cells[i].get_text() == nbb_unformatted_code) {\n",
       "                             nbb_cells[i].set_text(nbb_formatted_code);\n",
       "                        }\n",
       "                        break;\n",
       "                    }\n",
       "                }\n",
       "            }, 500);\n",
       "            "
      ],
      "text/plain": [
       "<IPython.core.display.Javascript object>"
      ]
     },
     "metadata": {},
     "output_type": "display_data"
    }
   ],
   "source": [
    "kfoldMSE = pd.DataFrame({\"lambda\": alphas_GS, \"MSE\": listMSE})\n",
    "\n",
    "minMSEindex = kfoldMSE[\"MSE\"].idxmin()\n",
    "minMSErow = kfoldMSE.iloc[minMSEindex]\n",
    "\n",
    "fig = go.Figure(\n",
    "    data=px.scatter(\n",
    "        kfoldMSE,\n",
    "        x=\"lambda\",\n",
    "        y=\"MSE\",\n",
    "        labels={\"lambda\": \"Ridge Parameter\", \"MSE\": \"Mean Squared Error\"},\n",
    "        title=\"MSE with 5-Fold Cross Validation w/ Larger Values\",\n",
    "    )\n",
    ")\n",
    "\n",
    "fig.add_trace(\n",
    "    go.Scatter(\n",
    "        x=[minMSErow.loc[\"lambda\"]], y=[minMSErow.loc[\"MSE\"]], name=\"Minimum MSE\"\n",
    "    )\n",
    ")\n",
    "\n",
    "fig.show()\n",
    "display(minMSErow)\n",
    "\n",
    "# With Smaller values\n",
    "kfoldMSE = pd.DataFrame({\"lambda\": alphas, \"MSE\": listMSE_small})\n",
    "\n",
    "minMSEindex = kfoldMSE[\"MSE\"].idxmin()\n",
    "minMSErow = kfoldMSE.iloc[minMSEindex]\n",
    "\n",
    "fig = go.Figure(\n",
    "    data=px.scatter(\n",
    "        kfoldMSE,\n",
    "        x=\"lambda\",\n",
    "        y=\"MSE\",\n",
    "        labels={\"lambda\": \"Ridge Parameter\", \"MSE\": \"Mean Squared Error\"},\n",
    "        title=\"MSE with 5-Fold Cross Validation\",\n",
    "    )\n",
    ")\n",
    "\n",
    "fig.add_trace(\n",
    "    go.Scatter(\n",
    "        x=[minMSErow.loc[\"lambda\"]], y=[minMSErow.loc[\"MSE\"]], name=\"Minimum MSE\"\n",
    "    )\n",
    ")\n",
    "\n",
    "fig.show()\n",
    "display(minMSErow)"
   ]
  },
  {
   "cell_type": "code",
   "execution_count": 52,
   "id": "ac6ee2ac",
   "metadata": {},
   "outputs": [
    {
     "name": "stdout",
     "output_type": "stream",
     "text": [
      "We are now testing lambda value;  0.02\n"
     ]
    },
    {
     "ename": "KeyboardInterrupt",
     "evalue": "",
     "output_type": "error",
     "traceback": [
      "\u001b[1;31m---------------------------------------------------------------------------\u001b[0m",
      "\u001b[1;31mKeyboardInterrupt\u001b[0m                         Traceback (most recent call last)",
      "\u001b[1;32m~\\AppData\\Local\\Temp/ipykernel_11412/1344491672.py\u001b[0m in \u001b[0;36m<module>\u001b[1;34m\u001b[0m\n\u001b[0;32m     35\u001b[0m \u001b[1;33m\u001b[0m\u001b[0m\n\u001b[0;32m     36\u001b[0m \u001b[1;33m\u001b[0m\u001b[0m\n\u001b[1;32m---> 37\u001b[1;33m \u001b[0mlistMSE_loo\u001b[0m \u001b[1;33m=\u001b[0m \u001b[0mLOOCV\u001b[0m\u001b[1;33m(\u001b[0m\u001b[0mXnewstand\u001b[0m\u001b[1;33m.\u001b[0m\u001b[0mto_numpy\u001b[0m\u001b[1;33m(\u001b[0m\u001b[1;33m)\u001b[0m\u001b[1;33m,\u001b[0m \u001b[0my\u001b[0m\u001b[1;33m,\u001b[0m \u001b[0malphas\u001b[0m\u001b[1;33m)\u001b[0m\u001b[1;33m\u001b[0m\u001b[1;33m\u001b[0m\u001b[0m\n\u001b[0m\u001b[0;32m     38\u001b[0m \u001b[0mprint\u001b[0m\u001b[1;33m(\u001b[0m\u001b[1;34m\"--- %s seconds ---\"\u001b[0m \u001b[1;33m%\u001b[0m \u001b[1;33m(\u001b[0m\u001b[0mtime\u001b[0m\u001b[1;33m.\u001b[0m\u001b[0mtime\u001b[0m\u001b[1;33m(\u001b[0m\u001b[1;33m)\u001b[0m \u001b[1;33m-\u001b[0m \u001b[0mstart\u001b[0m\u001b[1;33m)\u001b[0m\u001b[1;33m)\u001b[0m\u001b[1;33m\u001b[0m\u001b[1;33m\u001b[0m\u001b[0m\n",
      "\u001b[1;32m~\\AppData\\Local\\Temp/ipykernel_11412/1344491672.py\u001b[0m in \u001b[0;36mLOOCV\u001b[1;34m(X, Y, alphas)\u001b[0m\n\u001b[0;32m     23\u001b[0m             \u001b[0mI\u001b[0m \u001b[1;33m=\u001b[0m \u001b[0mnp\u001b[0m\u001b[1;33m.\u001b[0m\u001b[0midentity\u001b[0m\u001b[1;33m(\u001b[0m\u001b[0mm\u001b[0m\u001b[1;33m)\u001b[0m\u001b[1;33m\u001b[0m\u001b[1;33m\u001b[0m\u001b[0m\n\u001b[0;32m     24\u001b[0m             \u001b[1;31m# Beta vector\u001b[0m\u001b[1;33m\u001b[0m\u001b[1;33m\u001b[0m\u001b[1;33m\u001b[0m\u001b[0m\n\u001b[1;32m---> 25\u001b[1;33m             \u001b[0mbeta\u001b[0m \u001b[1;33m=\u001b[0m \u001b[0msp\u001b[0m\u001b[1;33m.\u001b[0m\u001b[0mlinalg\u001b[0m\u001b[1;33m.\u001b[0m\u001b[0minv\u001b[0m\u001b[1;33m(\u001b[0m\u001b[1;33m(\u001b[0m\u001b[0mX_train\u001b[0m\u001b[1;33m.\u001b[0m\u001b[0mT\u001b[0m \u001b[1;33m@\u001b[0m \u001b[0mX_train\u001b[0m\u001b[1;33m)\u001b[0m \u001b[1;33m+\u001b[0m \u001b[0ml2\u001b[0m \u001b[1;33m*\u001b[0m \u001b[0mI\u001b[0m\u001b[1;33m)\u001b[0m \u001b[1;33m@\u001b[0m \u001b[0mX_train\u001b[0m\u001b[1;33m.\u001b[0m\u001b[0mT\u001b[0m \u001b[1;33m@\u001b[0m \u001b[0mY_train\u001b[0m\u001b[1;33m\u001b[0m\u001b[1;33m\u001b[0m\u001b[0m\n\u001b[0m\u001b[0;32m     26\u001b[0m \u001b[1;33m\u001b[0m\u001b[0m\n\u001b[0;32m     27\u001b[0m             \u001b[0mYpred\u001b[0m \u001b[1;33m=\u001b[0m \u001b[0mX_test\u001b[0m \u001b[1;33m@\u001b[0m \u001b[0mbeta\u001b[0m\u001b[1;33m\u001b[0m\u001b[1;33m\u001b[0m\u001b[0m\n",
      "\u001b[1;31mKeyboardInterrupt\u001b[0m: "
     ]
    },
    {
     "data": {
      "application/javascript": [
       "\n",
       "            setTimeout(function() {\n",
       "                var nbb_cell_id = 52;\n",
       "                var nbb_unformatted_code = \"# Leave One Out CV\\nfrom sklearn.metrics import *\\nfrom sklearn.model_selection import LeaveOneOut\\n\\nstart = time.time()\\nalphas = [0.02, .5, 1, 1.5, 1.6, 1.7, 2.25]\\n\\n\\ndef LOOCV(X, Y, alphas):\\n    masterList = np.array([])  # what we return\\n    for l2 in alphas:\\n        print(\\\"We are now testing lambda value; \\\", l2)\\n        MSElist = np.array([])\\n\\n        loo = LeaveOneOut()\\n        loo.get_n_splits(X)\\n\\n        for train_index, test_index in loo.split(X):\\n            X_train, X_test = X[train_index], X[test_index]\\n            Y_train, Y_test = Y[train_index], Y[test_index]\\n\\n            n, m = X_train.shape\\n            I = np.identity(m)\\n            # Beta vector\\n            beta = sp.linalg.inv((X_train.T @ X_train) + l2 * I) @ X_train.T @ Y_train\\n\\n            Ypred = X_test @ beta\\n            MSE = mean_squared_error(Y_test, Ypred)\\n\\n            MSElist = np.append(MSElist, MSE)\\n\\n        masterList = np.append(masterList, np.mean(MSElist))\\n\\n    return masterList\\n\\n\\nlistMSE_loo = LOOCV(Xnewstand.to_numpy(), y, alphas)\\nprint(\\\"--- %s seconds ---\\\" % (time.time() - start))\";\n",
       "                var nbb_formatted_code = \"# Leave One Out CV\\nfrom sklearn.metrics import *\\nfrom sklearn.model_selection import LeaveOneOut\\n\\nstart = time.time()\\nalphas = [0.02, 0.5, 1, 1.5, 1.6, 1.7, 2.25]\\n\\n\\ndef LOOCV(X, Y, alphas):\\n    masterList = np.array([])  # what we return\\n    for l2 in alphas:\\n        print(\\\"We are now testing lambda value; \\\", l2)\\n        MSElist = np.array([])\\n\\n        loo = LeaveOneOut()\\n        loo.get_n_splits(X)\\n\\n        for train_index, test_index in loo.split(X):\\n            X_train, X_test = X[train_index], X[test_index]\\n            Y_train, Y_test = Y[train_index], Y[test_index]\\n\\n            n, m = X_train.shape\\n            I = np.identity(m)\\n            # Beta vector\\n            beta = sp.linalg.inv((X_train.T @ X_train) + l2 * I) @ X_train.T @ Y_train\\n\\n            Ypred = X_test @ beta\\n            MSE = mean_squared_error(Y_test, Ypred)\\n\\n            MSElist = np.append(MSElist, MSE)\\n\\n        masterList = np.append(masterList, np.mean(MSElist))\\n\\n    return masterList\\n\\n\\nlistMSE_loo = LOOCV(Xnewstand.to_numpy(), y, alphas)\\nprint(\\\"--- %s seconds ---\\\" % (time.time() - start))\";\n",
       "                var nbb_cells = Jupyter.notebook.get_cells();\n",
       "                for (var i = 0; i < nbb_cells.length; ++i) {\n",
       "                    if (nbb_cells[i].input_prompt_number == nbb_cell_id) {\n",
       "                        if (nbb_cells[i].get_text() == nbb_unformatted_code) {\n",
       "                             nbb_cells[i].set_text(nbb_formatted_code);\n",
       "                        }\n",
       "                        break;\n",
       "                    }\n",
       "                }\n",
       "            }, 500);\n",
       "            "
      ],
      "text/plain": [
       "<IPython.core.display.Javascript object>"
      ]
     },
     "metadata": {},
     "output_type": "display_data"
    }
   ],
   "source": [
    "# Leave One Out CV\n",
    "from sklearn.metrics import *\n",
    "from sklearn.model_selection import LeaveOneOut\n",
    "\n",
    "start = time.time()\n",
    "alphas = [0.02, 0.5, 1, 1.5, 1.6, 1.7, 2.25]\n",
    "\n",
    "\n",
    "def LOOCV(X, Y, alphas):\n",
    "    masterList = np.array([])  # what we return\n",
    "    for l2 in alphas:\n",
    "        print(\"We are now testing lambda value; \", l2)\n",
    "        MSElist = np.array([])\n",
    "\n",
    "        loo = LeaveOneOut()\n",
    "        loo.get_n_splits(X)\n",
    "\n",
    "        for train_index, test_index in loo.split(X):\n",
    "            X_train, X_test = X[train_index], X[test_index]\n",
    "            Y_train, Y_test = Y[train_index], Y[test_index]\n",
    "\n",
    "            n, m = X_train.shape\n",
    "            I = np.identity(m)\n",
    "            # Beta vector\n",
    "            beta = sp.linalg.inv((X_train.T @ X_train) + l2 * I) @ X_train.T @ Y_train\n",
    "\n",
    "            Ypred = X_test @ beta\n",
    "            MSE = mean_squared_error(Y_test, Ypred)\n",
    "\n",
    "            MSElist = np.append(MSElist, MSE)\n",
    "\n",
    "        masterList = np.append(masterList, np.mean(MSElist))\n",
    "\n",
    "    return masterList\n",
    "\n",
    "\n",
    "listMSE_loo = LOOCV(Xnewstand.to_numpy(), y, alphas)\n",
    "print(\"--- %s seconds ---\" % (time.time() - start))"
   ]
  },
  {
   "cell_type": "code",
   "execution_count": 12,
   "id": "9f99baf4",
   "metadata": {},
   "outputs": [
    {
     "ename": "NameError",
     "evalue": "name 'listMSEloo' is not defined",
     "output_type": "error",
     "traceback": [
      "\u001b[0;31m---------------------------------------------------------------------------\u001b[0m",
      "\u001b[0;31mNameError\u001b[0m                                 Traceback (most recent call last)",
      "\u001b[0;32m<ipython-input-12-d0542c8ca947>\u001b[0m in \u001b[0;36m<module>\u001b[0;34m\u001b[0m\n\u001b[0;32m----> 1\u001b[0;31m \u001b[0mkfoldMSE\u001b[0m \u001b[0;34m=\u001b[0m \u001b[0mpd\u001b[0m\u001b[0;34m.\u001b[0m\u001b[0mDataFrame\u001b[0m\u001b[0;34m(\u001b[0m\u001b[0;34m{\u001b[0m\u001b[0;34m\"lambda\"\u001b[0m\u001b[0;34m:\u001b[0m \u001b[0malphas\u001b[0m\u001b[0;34m,\u001b[0m \u001b[0;34m\"MSE\"\u001b[0m\u001b[0;34m:\u001b[0m \u001b[0mlistMSEloo\u001b[0m\u001b[0;34m}\u001b[0m\u001b[0;34m)\u001b[0m\u001b[0;34m\u001b[0m\u001b[0;34m\u001b[0m\u001b[0m\n\u001b[0m\u001b[1;32m      2\u001b[0m \u001b[0;34m\u001b[0m\u001b[0m\n\u001b[1;32m      3\u001b[0m \u001b[0mminMSEindex\u001b[0m \u001b[0;34m=\u001b[0m \u001b[0mkfoldMSE\u001b[0m\u001b[0;34m[\u001b[0m\u001b[0;34m\"MSE\"\u001b[0m\u001b[0;34m]\u001b[0m\u001b[0;34m.\u001b[0m\u001b[0midxmin\u001b[0m\u001b[0;34m(\u001b[0m\u001b[0;34m)\u001b[0m\u001b[0;34m\u001b[0m\u001b[0;34m\u001b[0m\u001b[0m\n\u001b[1;32m      4\u001b[0m \u001b[0mminMSErow\u001b[0m \u001b[0;34m=\u001b[0m \u001b[0mkfoldMSE\u001b[0m\u001b[0;34m.\u001b[0m\u001b[0miloc\u001b[0m\u001b[0;34m[\u001b[0m\u001b[0mminMSEindex\u001b[0m\u001b[0;34m]\u001b[0m\u001b[0;34m\u001b[0m\u001b[0;34m\u001b[0m\u001b[0m\n\u001b[1;32m      5\u001b[0m \u001b[0;34m\u001b[0m\u001b[0m\n",
      "\u001b[0;31mNameError\u001b[0m: name 'listMSEloo' is not defined"
     ]
    },
    {
     "data": {
      "application/javascript": [
       "\n",
       "            setTimeout(function() {\n",
       "                var nbb_cell_id = 12;\n",
       "                var nbb_unformatted_code = \"kfoldMSE = pd.DataFrame({\\\"lambda\\\": alphas, \\\"MSE\\\": listMSEloo})\\n\\nminMSEindex = kfoldMSE[\\\"MSE\\\"].idxmin()\\nminMSErow = kfoldMSE.iloc[minMSEindex]\\n\\nfig_loo = go.Figure(\\n    data=px.scatter(\\n        kfoldMSE,\\n        x=\\\"lambda\\\",\\n        y=\\\"MSE\\\",\\n        labels={\\\"lambda\\\": \\\"Ridge Parameter\\\", \\\"MSE\\\": \\\"Mean Squared Error\\\"},\\n        title=\\\"MSE with Leave One Out Cross Validation\\\",\\n    )\\n)\\n\\nfig_loo.add_trace(\\n    go.Scatter(\\n        x=[minMSErow.loc[\\\"lambda\\\"]], y=[minMSErow.loc[\\\"MSE\\\"]], name=\\\"Minimum MSE\\\"\\n    )\\n)\\n\\nfig_loo.show()\";\n",
       "                var nbb_formatted_code = \"kfoldMSE = pd.DataFrame({\\\"lambda\\\": alphas, \\\"MSE\\\": listMSEloo})\\n\\nminMSEindex = kfoldMSE[\\\"MSE\\\"].idxmin()\\nminMSErow = kfoldMSE.iloc[minMSEindex]\\n\\nfig_loo = go.Figure(\\n    data=px.scatter(\\n        kfoldMSE,\\n        x=\\\"lambda\\\",\\n        y=\\\"MSE\\\",\\n        labels={\\\"lambda\\\": \\\"Ridge Parameter\\\", \\\"MSE\\\": \\\"Mean Squared Error\\\"},\\n        title=\\\"MSE with Leave One Out Cross Validation\\\",\\n    )\\n)\\n\\nfig_loo.add_trace(\\n    go.Scatter(\\n        x=[minMSErow.loc[\\\"lambda\\\"]], y=[minMSErow.loc[\\\"MSE\\\"]], name=\\\"Minimum MSE\\\"\\n    )\\n)\\n\\nfig_loo.show()\";\n",
       "                var nbb_cells = Jupyter.notebook.get_cells();\n",
       "                for (var i = 0; i < nbb_cells.length; ++i) {\n",
       "                    if (nbb_cells[i].input_prompt_number == nbb_cell_id) {\n",
       "                        if (nbb_cells[i].get_text() == nbb_unformatted_code) {\n",
       "                             nbb_cells[i].set_text(nbb_formatted_code);\n",
       "                        }\n",
       "                        break;\n",
       "                    }\n",
       "                }\n",
       "            }, 500);\n",
       "            "
      ],
      "text/plain": [
       "<IPython.core.display.Javascript object>"
      ]
     },
     "metadata": {},
     "output_type": "display_data"
    }
   ],
   "source": [
    "kfoldMSE = pd.DataFrame({\"lambda\": alphas, \"MSE\": listMSEloo})\n",
    "\n",
    "minMSEindex = kfoldMSE[\"MSE\"].idxmin()\n",
    "minMSErow = kfoldMSE.iloc[minMSEindex]\n",
    "\n",
    "fig_loo = go.Figure(\n",
    "    data=px.scatter(\n",
    "        kfoldMSE,\n",
    "        x=\"lambda\",\n",
    "        y=\"MSE\",\n",
    "        labels={\"lambda\": \"Ridge Parameter\", \"MSE\": \"Mean Squared Error\"},\n",
    "        title=\"MSE with Leave One Out Cross Validation\",\n",
    "    )\n",
    ")\n",
    "\n",
    "fig_loo.add_trace(\n",
    "    go.Scatter(\n",
    "        x=[minMSErow.loc[\"lambda\"]], y=[minMSErow.loc[\"MSE\"]], name=\"Minimum MSE\"\n",
    "    )\n",
    ")\n",
    "\n",
    "fig_loo.show()"
   ]
  },
  {
   "cell_type": "code",
   "execution_count": 44,
   "id": "7fcdd7d6",
   "metadata": {},
   "outputs": [
    {
     "name": "stdout",
     "output_type": "stream",
     "text": [
      "--- 605.9997367858887 seconds ---\n"
     ]
    },
    {
     "data": {
      "application/javascript": [
       "\n",
       "            setTimeout(function() {\n",
       "                var nbb_cell_id = 44;\n",
       "                var nbb_unformatted_code = \"# Since Leave One out is too computationally complex, lets test 10-fold\\nstart = time.time()\\nalphas = np.arange(0.01, 3.5, 0.02)\\nlistMSE_small = KfoldCV(Xnewstand.to_numpy(), y, alphas, 10)\\nprint(\\\"--- %s seconds ---\\\" % (time.time() - start))\";\n",
       "                var nbb_formatted_code = \"# Since Leave One out is too computationally complex, lets test 10-fold\\nstart = time.time()\\nalphas = np.arange(0.01, 3.5, 0.02)\\nlistMSE_small = KfoldCV(Xnewstand.to_numpy(), y, alphas, 10)\\nprint(\\\"--- %s seconds ---\\\" % (time.time() - start))\";\n",
       "                var nbb_cells = Jupyter.notebook.get_cells();\n",
       "                for (var i = 0; i < nbb_cells.length; ++i) {\n",
       "                    if (nbb_cells[i].input_prompt_number == nbb_cell_id) {\n",
       "                        if (nbb_cells[i].get_text() == nbb_unformatted_code) {\n",
       "                             nbb_cells[i].set_text(nbb_formatted_code);\n",
       "                        }\n",
       "                        break;\n",
       "                    }\n",
       "                }\n",
       "            }, 500);\n",
       "            "
      ],
      "text/plain": [
       "<IPython.core.display.Javascript object>"
      ]
     },
     "metadata": {},
     "output_type": "display_data"
    }
   ],
   "source": [
    "# Since Leave One out is too computationally complex, lets test 10-fold\n",
    "start = time.time()\n",
    "alphas = np.arange(0.01, 3.5, 0.02)\n",
    "listMSE_small = KfoldCV(Xnewstand.to_numpy(), y, alphas, 10)\n",
    "print(\"--- %s seconds ---\" % (time.time() - start))"
   ]
  },
  {
   "cell_type": "code",
   "execution_count": 45,
   "id": "51a361ca",
   "metadata": {},
   "outputs": [
    {
     "data": {
      "application/vnd.plotly.v1+json": {
       "config": {
        "plotlyServerURL": "https://plot.ly"
       },
       "data": [
        {
         "hovertemplate": "Ridge Parameter=%{x}<br>Mean Squared Error=%{y}<extra></extra>",
         "legendgroup": "",
         "marker": {
          "color": "#636efa",
          "symbol": "circle"
         },
         "mode": "markers",
         "name": "",
         "orientation": "v",
         "showlegend": false,
         "type": "scatter",
         "x": [
          0.01,
          0.03,
          0.049999999999999996,
          0.06999999999999999,
          0.08999999999999998,
          0.10999999999999997,
          0.12999999999999998,
          0.15,
          0.16999999999999998,
          0.18999999999999997,
          0.20999999999999996,
          0.22999999999999998,
          0.24999999999999997,
          0.26999999999999996,
          0.29,
          0.30999999999999994,
          0.32999999999999996,
          0.35,
          0.36999999999999994,
          0.38999999999999996,
          0.4099999999999999,
          0.42999999999999994,
          0.44999999999999996,
          0.4699999999999999,
          0.48999999999999994,
          0.5099999999999999,
          0.5299999999999999,
          0.5499999999999999,
          0.57,
          0.59,
          0.6099999999999999,
          0.6299999999999999,
          0.6499999999999999,
          0.6699999999999999,
          0.69,
          0.7099999999999999,
          0.7299999999999999,
          0.7499999999999999,
          0.7699999999999999,
          0.7899999999999999,
          0.8099999999999998,
          0.8299999999999998,
          0.8499999999999999,
          0.8699999999999999,
          0.8899999999999999,
          0.9099999999999999,
          0.9299999999999998,
          0.9499999999999998,
          0.9699999999999999,
          0.9899999999999999,
          1.0099999999999998,
          1.0299999999999998,
          1.0499999999999998,
          1.0699999999999998,
          1.0899999999999999,
          1.1099999999999999,
          1.13,
          1.15,
          1.17,
          1.1899999999999997,
          1.2099999999999997,
          1.2299999999999998,
          1.2499999999999998,
          1.2699999999999998,
          1.2899999999999998,
          1.3099999999999998,
          1.3299999999999998,
          1.3499999999999999,
          1.3699999999999999,
          1.39,
          1.4099999999999997,
          1.4299999999999997,
          1.4499999999999997,
          1.4699999999999998,
          1.4899999999999998,
          1.5099999999999998,
          1.5299999999999998,
          1.5499999999999998,
          1.5699999999999998,
          1.5899999999999999,
          1.6099999999999997,
          1.6299999999999997,
          1.6499999999999997,
          1.6699999999999997,
          1.6899999999999997,
          1.7099999999999997,
          1.7299999999999998,
          1.7499999999999998,
          1.7699999999999998,
          1.7899999999999998,
          1.8099999999999998,
          1.8299999999999996,
          1.8499999999999996,
          1.8699999999999997,
          1.8899999999999997,
          1.9099999999999997,
          1.9299999999999997,
          1.9499999999999997,
          1.9699999999999998,
          1.9899999999999998,
          2.01,
          2.0299999999999994,
          2.0499999999999994,
          2.0699999999999994,
          2.0899999999999994,
          2.1099999999999994,
          2.1299999999999994,
          2.1499999999999995,
          2.1699999999999995,
          2.1899999999999995,
          2.2099999999999995,
          2.2299999999999995,
          2.2499999999999996,
          2.2699999999999996,
          2.2899999999999996,
          2.3099999999999996,
          2.3299999999999996,
          2.3499999999999996,
          2.369999999999999,
          2.3899999999999992,
          2.4099999999999993,
          2.4299999999999993,
          2.4499999999999993,
          2.4699999999999993,
          2.4899999999999993,
          2.5099999999999993,
          2.5299999999999994,
          2.5499999999999994,
          2.5699999999999994,
          2.5899999999999994,
          2.6099999999999994,
          2.6299999999999994,
          2.6499999999999995,
          2.6699999999999995,
          2.6899999999999995,
          2.7099999999999995,
          2.7299999999999995,
          2.7499999999999996,
          2.7699999999999996,
          2.789999999999999,
          2.809999999999999,
          2.829999999999999,
          2.849999999999999,
          2.869999999999999,
          2.8899999999999992,
          2.9099999999999993,
          2.9299999999999993,
          2.9499999999999993,
          2.9699999999999993,
          2.9899999999999993,
          3.0099999999999993,
          3.0299999999999994,
          3.0499999999999994,
          3.0699999999999994,
          3.0899999999999994,
          3.1099999999999994,
          3.1299999999999994,
          3.1499999999999995,
          3.1699999999999995,
          3.1899999999999995,
          3.209999999999999,
          3.229999999999999,
          3.249999999999999,
          3.269999999999999,
          3.289999999999999,
          3.309999999999999,
          3.329999999999999,
          3.349999999999999,
          3.369999999999999,
          3.3899999999999992,
          3.4099999999999993,
          3.4299999999999993,
          3.4499999999999993,
          3.4699999999999993,
          3.4899999999999993
         ],
         "xaxis": "x",
         "y": [
          13427.339010077383,
          13427.338951563763,
          13427.338891461102,
          13427.338830792793,
          13427.338770625405,
          13427.338710892098,
          13427.338652039174,
          13427.33859351298,
          13427.33853586232,
          13427.338478937123,
          13427.338422167095,
          13427.338366163487,
          13427.338310630605,
          13427.338255765484,
          13427.338201574425,
          13427.338147765924,
          13427.338094512666,
          13427.338042086087,
          13427.337990117307,
          13427.337938623625,
          13427.337887834676,
          13427.33783765473,
          13427.337787788532,
          13427.337738806757,
          13427.337690275952,
          13427.337642318536,
          13427.33759489976,
          13427.337548064193,
          13427.337501876236,
          13427.337456198991,
          13427.337411051481,
          13427.337366560643,
          13427.337322545272,
          13427.3372791711,
          13427.337236289055,
          13427.337194136602,
          13427.337152397837,
          13427.337111321554,
          13427.33707076441,
          13427.337030793624,
          13427.336991364928,
          13427.336952495938,
          13427.336914164323,
          13427.336876454932,
          13427.336839278936,
          13427.336802657306,
          13427.336766640385,
          13427.336731175916,
          13427.336696229675,
          13427.336661911482,
          13427.336628065706,
          13427.336594829432,
          13427.336562163047,
          13427.33653007046,
          13427.336498510625,
          13427.336467558885,
          13427.33643706502,
          13427.336407222374,
          13427.336377883228,
          13427.336349130343,
          13427.33632094202,
          13427.336293252441,
          13427.336266150262,
          13427.336239567661,
          13427.336213597606,
          13427.33618817248,
          13427.336163273887,
          13427.336138994264,
          13427.336115179136,
          13427.336091924557,
          13427.336069239313,
          13427.336047149322,
          13427.3360255575,
          13427.336004546087,
          13427.335984058218,
          13427.335964150523,
          13427.335944735547,
          13427.335925938405,
          13427.33590766612,
          13427.335889913893,
          13427.335872735925,
          13427.33585608849,
          13427.335839989773,
          13427.335824447737,
          13427.335809433318,
          13427.335794984068,
          13427.335781047257,
          13427.335767688555,
          13427.335754866665,
          13427.335742552576,
          13427.335730824305,
          13427.33571961088,
          13427.335708966955,
          13427.335698828037,
          13427.33568923994,
          13427.33568022565,
          13427.335671706378,
          13427.335663741533,
          13427.335656330757,
          13427.335649436365,
          13427.335643095561,
          13427.335637297856,
          13427.335631991236,
          13427.335627263727,
          13427.335623052984,
          13427.335619385627,
          13427.335616234635,
          13427.335613644458,
          13427.335611595112,
          13427.335610051057,
          13427.335609049182,
          13427.335608589574,
          13427.33560863262,
          13427.335609239151,
          13427.33561035689,
          13427.335612015298,
          13427.335614211863,
          13427.335616965309,
          13427.335620192438,
          13427.335623986128,
          13427.33562827168,
          13427.335633111634,
          13427.335638476356,
          13427.335644325212,
          13427.335650753277,
          13427.335657695763,
          13427.335665183928,
          13427.335673151116,
          13427.335681685601,
          13427.335690717187,
          13427.335700285577,
          13427.335710403899,
          13427.335720992549,
          13427.335732107007,
          13427.335743767831,
          13427.335755976095,
          13427.335768658779,
          13427.335781893413,
          13427.33579563784,
          13427.335809896103,
          13427.335824671449,
          13427.335839985622,
          13427.335855792666,
          13427.33587212666,
          13427.335888984418,
          13427.335906366503,
          13427.335924240262,
          13427.335942664567,
          13427.335961570347,
          13427.335981016755,
          13427.336000965219,
          13427.336021430096,
          13427.336042413643,
          13427.336063912317,
          13427.336085919882,
          13427.336108463816,
          13427.3361314793,
          13427.336155034413,
          13427.336179099158,
          13427.336203655857,
          13427.33622873344,
          13427.336254330274,
          13427.336280426589,
          13427.336307043366,
          13427.336334164724,
          13427.336361798454,
          13427.336389936569,
          13427.336418587403,
          13427.336447732505,
          13427.33647739213,
          13427.336507562086,
          13427.336538241614,
          13427.33656940955,
          13427.336601085151,
          13427.336633293842
         ],
         "yaxis": "y"
        },
        {
         "name": "Minimum MSE",
         "type": "scatter",
         "x": [
          2.2299999999999995
         ],
         "y": [
          13427.335608589574
         ]
        }
       ],
       "layout": {
        "legend": {
         "tracegroupgap": 0
        },
        "template": {
         "data": {
          "bar": [
           {
            "error_x": {
             "color": "#2a3f5f"
            },
            "error_y": {
             "color": "#2a3f5f"
            },
            "marker": {
             "line": {
              "color": "#E5ECF6",
              "width": 0.5
             },
             "pattern": {
              "fillmode": "overlay",
              "size": 10,
              "solidity": 0.2
             }
            },
            "type": "bar"
           }
          ],
          "barpolar": [
           {
            "marker": {
             "line": {
              "color": "#E5ECF6",
              "width": 0.5
             },
             "pattern": {
              "fillmode": "overlay",
              "size": 10,
              "solidity": 0.2
             }
            },
            "type": "barpolar"
           }
          ],
          "carpet": [
           {
            "aaxis": {
             "endlinecolor": "#2a3f5f",
             "gridcolor": "white",
             "linecolor": "white",
             "minorgridcolor": "white",
             "startlinecolor": "#2a3f5f"
            },
            "baxis": {
             "endlinecolor": "#2a3f5f",
             "gridcolor": "white",
             "linecolor": "white",
             "minorgridcolor": "white",
             "startlinecolor": "#2a3f5f"
            },
            "type": "carpet"
           }
          ],
          "choropleth": [
           {
            "colorbar": {
             "outlinewidth": 0,
             "ticks": ""
            },
            "type": "choropleth"
           }
          ],
          "contour": [
           {
            "colorbar": {
             "outlinewidth": 0,
             "ticks": ""
            },
            "colorscale": [
             [
              0,
              "#0d0887"
             ],
             [
              0.1111111111111111,
              "#46039f"
             ],
             [
              0.2222222222222222,
              "#7201a8"
             ],
             [
              0.3333333333333333,
              "#9c179e"
             ],
             [
              0.4444444444444444,
              "#bd3786"
             ],
             [
              0.5555555555555556,
              "#d8576b"
             ],
             [
              0.6666666666666666,
              "#ed7953"
             ],
             [
              0.7777777777777778,
              "#fb9f3a"
             ],
             [
              0.8888888888888888,
              "#fdca26"
             ],
             [
              1,
              "#f0f921"
             ]
            ],
            "type": "contour"
           }
          ],
          "contourcarpet": [
           {
            "colorbar": {
             "outlinewidth": 0,
             "ticks": ""
            },
            "type": "contourcarpet"
           }
          ],
          "heatmap": [
           {
            "colorbar": {
             "outlinewidth": 0,
             "ticks": ""
            },
            "colorscale": [
             [
              0,
              "#0d0887"
             ],
             [
              0.1111111111111111,
              "#46039f"
             ],
             [
              0.2222222222222222,
              "#7201a8"
             ],
             [
              0.3333333333333333,
              "#9c179e"
             ],
             [
              0.4444444444444444,
              "#bd3786"
             ],
             [
              0.5555555555555556,
              "#d8576b"
             ],
             [
              0.6666666666666666,
              "#ed7953"
             ],
             [
              0.7777777777777778,
              "#fb9f3a"
             ],
             [
              0.8888888888888888,
              "#fdca26"
             ],
             [
              1,
              "#f0f921"
             ]
            ],
            "type": "heatmap"
           }
          ],
          "heatmapgl": [
           {
            "colorbar": {
             "outlinewidth": 0,
             "ticks": ""
            },
            "colorscale": [
             [
              0,
              "#0d0887"
             ],
             [
              0.1111111111111111,
              "#46039f"
             ],
             [
              0.2222222222222222,
              "#7201a8"
             ],
             [
              0.3333333333333333,
              "#9c179e"
             ],
             [
              0.4444444444444444,
              "#bd3786"
             ],
             [
              0.5555555555555556,
              "#d8576b"
             ],
             [
              0.6666666666666666,
              "#ed7953"
             ],
             [
              0.7777777777777778,
              "#fb9f3a"
             ],
             [
              0.8888888888888888,
              "#fdca26"
             ],
             [
              1,
              "#f0f921"
             ]
            ],
            "type": "heatmapgl"
           }
          ],
          "histogram": [
           {
            "marker": {
             "pattern": {
              "fillmode": "overlay",
              "size": 10,
              "solidity": 0.2
             }
            },
            "type": "histogram"
           }
          ],
          "histogram2d": [
           {
            "colorbar": {
             "outlinewidth": 0,
             "ticks": ""
            },
            "colorscale": [
             [
              0,
              "#0d0887"
             ],
             [
              0.1111111111111111,
              "#46039f"
             ],
             [
              0.2222222222222222,
              "#7201a8"
             ],
             [
              0.3333333333333333,
              "#9c179e"
             ],
             [
              0.4444444444444444,
              "#bd3786"
             ],
             [
              0.5555555555555556,
              "#d8576b"
             ],
             [
              0.6666666666666666,
              "#ed7953"
             ],
             [
              0.7777777777777778,
              "#fb9f3a"
             ],
             [
              0.8888888888888888,
              "#fdca26"
             ],
             [
              1,
              "#f0f921"
             ]
            ],
            "type": "histogram2d"
           }
          ],
          "histogram2dcontour": [
           {
            "colorbar": {
             "outlinewidth": 0,
             "ticks": ""
            },
            "colorscale": [
             [
              0,
              "#0d0887"
             ],
             [
              0.1111111111111111,
              "#46039f"
             ],
             [
              0.2222222222222222,
              "#7201a8"
             ],
             [
              0.3333333333333333,
              "#9c179e"
             ],
             [
              0.4444444444444444,
              "#bd3786"
             ],
             [
              0.5555555555555556,
              "#d8576b"
             ],
             [
              0.6666666666666666,
              "#ed7953"
             ],
             [
              0.7777777777777778,
              "#fb9f3a"
             ],
             [
              0.8888888888888888,
              "#fdca26"
             ],
             [
              1,
              "#f0f921"
             ]
            ],
            "type": "histogram2dcontour"
           }
          ],
          "mesh3d": [
           {
            "colorbar": {
             "outlinewidth": 0,
             "ticks": ""
            },
            "type": "mesh3d"
           }
          ],
          "parcoords": [
           {
            "line": {
             "colorbar": {
              "outlinewidth": 0,
              "ticks": ""
             }
            },
            "type": "parcoords"
           }
          ],
          "pie": [
           {
            "automargin": true,
            "type": "pie"
           }
          ],
          "scatter": [
           {
            "marker": {
             "colorbar": {
              "outlinewidth": 0,
              "ticks": ""
             }
            },
            "type": "scatter"
           }
          ],
          "scatter3d": [
           {
            "line": {
             "colorbar": {
              "outlinewidth": 0,
              "ticks": ""
             }
            },
            "marker": {
             "colorbar": {
              "outlinewidth": 0,
              "ticks": ""
             }
            },
            "type": "scatter3d"
           }
          ],
          "scattercarpet": [
           {
            "marker": {
             "colorbar": {
              "outlinewidth": 0,
              "ticks": ""
             }
            },
            "type": "scattercarpet"
           }
          ],
          "scattergeo": [
           {
            "marker": {
             "colorbar": {
              "outlinewidth": 0,
              "ticks": ""
             }
            },
            "type": "scattergeo"
           }
          ],
          "scattergl": [
           {
            "marker": {
             "colorbar": {
              "outlinewidth": 0,
              "ticks": ""
             }
            },
            "type": "scattergl"
           }
          ],
          "scattermapbox": [
           {
            "marker": {
             "colorbar": {
              "outlinewidth": 0,
              "ticks": ""
             }
            },
            "type": "scattermapbox"
           }
          ],
          "scatterpolar": [
           {
            "marker": {
             "colorbar": {
              "outlinewidth": 0,
              "ticks": ""
             }
            },
            "type": "scatterpolar"
           }
          ],
          "scatterpolargl": [
           {
            "marker": {
             "colorbar": {
              "outlinewidth": 0,
              "ticks": ""
             }
            },
            "type": "scatterpolargl"
           }
          ],
          "scatterternary": [
           {
            "marker": {
             "colorbar": {
              "outlinewidth": 0,
              "ticks": ""
             }
            },
            "type": "scatterternary"
           }
          ],
          "surface": [
           {
            "colorbar": {
             "outlinewidth": 0,
             "ticks": ""
            },
            "colorscale": [
             [
              0,
              "#0d0887"
             ],
             [
              0.1111111111111111,
              "#46039f"
             ],
             [
              0.2222222222222222,
              "#7201a8"
             ],
             [
              0.3333333333333333,
              "#9c179e"
             ],
             [
              0.4444444444444444,
              "#bd3786"
             ],
             [
              0.5555555555555556,
              "#d8576b"
             ],
             [
              0.6666666666666666,
              "#ed7953"
             ],
             [
              0.7777777777777778,
              "#fb9f3a"
             ],
             [
              0.8888888888888888,
              "#fdca26"
             ],
             [
              1,
              "#f0f921"
             ]
            ],
            "type": "surface"
           }
          ],
          "table": [
           {
            "cells": {
             "fill": {
              "color": "#EBF0F8"
             },
             "line": {
              "color": "white"
             }
            },
            "header": {
             "fill": {
              "color": "#C8D4E3"
             },
             "line": {
              "color": "white"
             }
            },
            "type": "table"
           }
          ]
         },
         "layout": {
          "annotationdefaults": {
           "arrowcolor": "#2a3f5f",
           "arrowhead": 0,
           "arrowwidth": 1
          },
          "autotypenumbers": "strict",
          "coloraxis": {
           "colorbar": {
            "outlinewidth": 0,
            "ticks": ""
           }
          },
          "colorscale": {
           "diverging": [
            [
             0,
             "#8e0152"
            ],
            [
             0.1,
             "#c51b7d"
            ],
            [
             0.2,
             "#de77ae"
            ],
            [
             0.3,
             "#f1b6da"
            ],
            [
             0.4,
             "#fde0ef"
            ],
            [
             0.5,
             "#f7f7f7"
            ],
            [
             0.6,
             "#e6f5d0"
            ],
            [
             0.7,
             "#b8e186"
            ],
            [
             0.8,
             "#7fbc41"
            ],
            [
             0.9,
             "#4d9221"
            ],
            [
             1,
             "#276419"
            ]
           ],
           "sequential": [
            [
             0,
             "#0d0887"
            ],
            [
             0.1111111111111111,
             "#46039f"
            ],
            [
             0.2222222222222222,
             "#7201a8"
            ],
            [
             0.3333333333333333,
             "#9c179e"
            ],
            [
             0.4444444444444444,
             "#bd3786"
            ],
            [
             0.5555555555555556,
             "#d8576b"
            ],
            [
             0.6666666666666666,
             "#ed7953"
            ],
            [
             0.7777777777777778,
             "#fb9f3a"
            ],
            [
             0.8888888888888888,
             "#fdca26"
            ],
            [
             1,
             "#f0f921"
            ]
           ],
           "sequentialminus": [
            [
             0,
             "#0d0887"
            ],
            [
             0.1111111111111111,
             "#46039f"
            ],
            [
             0.2222222222222222,
             "#7201a8"
            ],
            [
             0.3333333333333333,
             "#9c179e"
            ],
            [
             0.4444444444444444,
             "#bd3786"
            ],
            [
             0.5555555555555556,
             "#d8576b"
            ],
            [
             0.6666666666666666,
             "#ed7953"
            ],
            [
             0.7777777777777778,
             "#fb9f3a"
            ],
            [
             0.8888888888888888,
             "#fdca26"
            ],
            [
             1,
             "#f0f921"
            ]
           ]
          },
          "colorway": [
           "#636efa",
           "#EF553B",
           "#00cc96",
           "#ab63fa",
           "#FFA15A",
           "#19d3f3",
           "#FF6692",
           "#B6E880",
           "#FF97FF",
           "#FECB52"
          ],
          "font": {
           "color": "#2a3f5f"
          },
          "geo": {
           "bgcolor": "white",
           "lakecolor": "white",
           "landcolor": "#E5ECF6",
           "showlakes": true,
           "showland": true,
           "subunitcolor": "white"
          },
          "hoverlabel": {
           "align": "left"
          },
          "hovermode": "closest",
          "mapbox": {
           "style": "light"
          },
          "paper_bgcolor": "white",
          "plot_bgcolor": "#E5ECF6",
          "polar": {
           "angularaxis": {
            "gridcolor": "white",
            "linecolor": "white",
            "ticks": ""
           },
           "bgcolor": "#E5ECF6",
           "radialaxis": {
            "gridcolor": "white",
            "linecolor": "white",
            "ticks": ""
           }
          },
          "scene": {
           "xaxis": {
            "backgroundcolor": "#E5ECF6",
            "gridcolor": "white",
            "gridwidth": 2,
            "linecolor": "white",
            "showbackground": true,
            "ticks": "",
            "zerolinecolor": "white"
           },
           "yaxis": {
            "backgroundcolor": "#E5ECF6",
            "gridcolor": "white",
            "gridwidth": 2,
            "linecolor": "white",
            "showbackground": true,
            "ticks": "",
            "zerolinecolor": "white"
           },
           "zaxis": {
            "backgroundcolor": "#E5ECF6",
            "gridcolor": "white",
            "gridwidth": 2,
            "linecolor": "white",
            "showbackground": true,
            "ticks": "",
            "zerolinecolor": "white"
           }
          },
          "shapedefaults": {
           "line": {
            "color": "#2a3f5f"
           }
          },
          "ternary": {
           "aaxis": {
            "gridcolor": "white",
            "linecolor": "white",
            "ticks": ""
           },
           "baxis": {
            "gridcolor": "white",
            "linecolor": "white",
            "ticks": ""
           },
           "bgcolor": "#E5ECF6",
           "caxis": {
            "gridcolor": "white",
            "linecolor": "white",
            "ticks": ""
           }
          },
          "title": {
           "x": 0.05
          },
          "xaxis": {
           "automargin": true,
           "gridcolor": "white",
           "linecolor": "white",
           "ticks": "",
           "title": {
            "standoff": 15
           },
           "zerolinecolor": "white",
           "zerolinewidth": 2
          },
          "yaxis": {
           "automargin": true,
           "gridcolor": "white",
           "linecolor": "white",
           "ticks": "",
           "title": {
            "standoff": 15
           },
           "zerolinecolor": "white",
           "zerolinewidth": 2
          }
         }
        },
        "title": {
         "text": "MSE with 10-Fold Cross Validation"
        },
        "xaxis": {
         "anchor": "y",
         "domain": [
          0,
          1
         ],
         "title": {
          "text": "Ridge Parameter"
         }
        },
        "yaxis": {
         "anchor": "x",
         "domain": [
          0,
          1
         ],
         "title": {
          "text": "Mean Squared Error"
         }
        }
       }
      },
      "text/html": [
       "<div>                            <div id=\"b23896c9-ecb5-4cef-ad76-837c59ee051b\" class=\"plotly-graph-div\" style=\"height:525px; width:100%;\"></div>            <script type=\"text/javascript\">                require([\"plotly\"], function(Plotly) {                    window.PLOTLYENV=window.PLOTLYENV || {};                                    if (document.getElementById(\"b23896c9-ecb5-4cef-ad76-837c59ee051b\")) {                    Plotly.newPlot(                        \"b23896c9-ecb5-4cef-ad76-837c59ee051b\",                        [{\"hovertemplate\":\"Ridge Parameter=%{x}<br>Mean Squared Error=%{y}<extra></extra>\",\"legendgroup\":\"\",\"marker\":{\"color\":\"#636efa\",\"symbol\":\"circle\"},\"mode\":\"markers\",\"name\":\"\",\"orientation\":\"v\",\"showlegend\":false,\"x\":[0.01,0.03,0.049999999999999996,0.06999999999999999,0.08999999999999998,0.10999999999999997,0.12999999999999998,0.15,0.16999999999999998,0.18999999999999997,0.20999999999999996,0.22999999999999998,0.24999999999999997,0.26999999999999996,0.29,0.30999999999999994,0.32999999999999996,0.35,0.36999999999999994,0.38999999999999996,0.4099999999999999,0.42999999999999994,0.44999999999999996,0.4699999999999999,0.48999999999999994,0.5099999999999999,0.5299999999999999,0.5499999999999999,0.57,0.59,0.6099999999999999,0.6299999999999999,0.6499999999999999,0.6699999999999999,0.69,0.7099999999999999,0.7299999999999999,0.7499999999999999,0.7699999999999999,0.7899999999999999,0.8099999999999998,0.8299999999999998,0.8499999999999999,0.8699999999999999,0.8899999999999999,0.9099999999999999,0.9299999999999998,0.9499999999999998,0.9699999999999999,0.9899999999999999,1.0099999999999998,1.0299999999999998,1.0499999999999998,1.0699999999999998,1.0899999999999999,1.1099999999999999,1.13,1.15,1.17,1.1899999999999997,1.2099999999999997,1.2299999999999998,1.2499999999999998,1.2699999999999998,1.2899999999999998,1.3099999999999998,1.3299999999999998,1.3499999999999999,1.3699999999999999,1.39,1.4099999999999997,1.4299999999999997,1.4499999999999997,1.4699999999999998,1.4899999999999998,1.5099999999999998,1.5299999999999998,1.5499999999999998,1.5699999999999998,1.5899999999999999,1.6099999999999997,1.6299999999999997,1.6499999999999997,1.6699999999999997,1.6899999999999997,1.7099999999999997,1.7299999999999998,1.7499999999999998,1.7699999999999998,1.7899999999999998,1.8099999999999998,1.8299999999999996,1.8499999999999996,1.8699999999999997,1.8899999999999997,1.9099999999999997,1.9299999999999997,1.9499999999999997,1.9699999999999998,1.9899999999999998,2.01,2.0299999999999994,2.0499999999999994,2.0699999999999994,2.0899999999999994,2.1099999999999994,2.1299999999999994,2.1499999999999995,2.1699999999999995,2.1899999999999995,2.2099999999999995,2.2299999999999995,2.2499999999999996,2.2699999999999996,2.2899999999999996,2.3099999999999996,2.3299999999999996,2.3499999999999996,2.369999999999999,2.3899999999999992,2.4099999999999993,2.4299999999999993,2.4499999999999993,2.4699999999999993,2.4899999999999993,2.5099999999999993,2.5299999999999994,2.5499999999999994,2.5699999999999994,2.5899999999999994,2.6099999999999994,2.6299999999999994,2.6499999999999995,2.6699999999999995,2.6899999999999995,2.7099999999999995,2.7299999999999995,2.7499999999999996,2.7699999999999996,2.789999999999999,2.809999999999999,2.829999999999999,2.849999999999999,2.869999999999999,2.8899999999999992,2.9099999999999993,2.9299999999999993,2.9499999999999993,2.9699999999999993,2.9899999999999993,3.0099999999999993,3.0299999999999994,3.0499999999999994,3.0699999999999994,3.0899999999999994,3.1099999999999994,3.1299999999999994,3.1499999999999995,3.1699999999999995,3.1899999999999995,3.209999999999999,3.229999999999999,3.249999999999999,3.269999999999999,3.289999999999999,3.309999999999999,3.329999999999999,3.349999999999999,3.369999999999999,3.3899999999999992,3.4099999999999993,3.4299999999999993,3.4499999999999993,3.4699999999999993,3.4899999999999993],\"xaxis\":\"x\",\"y\":[13427.339010077383,13427.338951563763,13427.338891461102,13427.338830792793,13427.338770625405,13427.338710892098,13427.338652039174,13427.33859351298,13427.33853586232,13427.338478937123,13427.338422167095,13427.338366163487,13427.338310630605,13427.338255765484,13427.338201574425,13427.338147765924,13427.338094512666,13427.338042086087,13427.337990117307,13427.337938623625,13427.337887834676,13427.33783765473,13427.337787788532,13427.337738806757,13427.337690275952,13427.337642318536,13427.33759489976,13427.337548064193,13427.337501876236,13427.337456198991,13427.337411051481,13427.337366560643,13427.337322545272,13427.3372791711,13427.337236289055,13427.337194136602,13427.337152397837,13427.337111321554,13427.33707076441,13427.337030793624,13427.336991364928,13427.336952495938,13427.336914164323,13427.336876454932,13427.336839278936,13427.336802657306,13427.336766640385,13427.336731175916,13427.336696229675,13427.336661911482,13427.336628065706,13427.336594829432,13427.336562163047,13427.33653007046,13427.336498510625,13427.336467558885,13427.33643706502,13427.336407222374,13427.336377883228,13427.336349130343,13427.33632094202,13427.336293252441,13427.336266150262,13427.336239567661,13427.336213597606,13427.33618817248,13427.336163273887,13427.336138994264,13427.336115179136,13427.336091924557,13427.336069239313,13427.336047149322,13427.3360255575,13427.336004546087,13427.335984058218,13427.335964150523,13427.335944735547,13427.335925938405,13427.33590766612,13427.335889913893,13427.335872735925,13427.33585608849,13427.335839989773,13427.335824447737,13427.335809433318,13427.335794984068,13427.335781047257,13427.335767688555,13427.335754866665,13427.335742552576,13427.335730824305,13427.33571961088,13427.335708966955,13427.335698828037,13427.33568923994,13427.33568022565,13427.335671706378,13427.335663741533,13427.335656330757,13427.335649436365,13427.335643095561,13427.335637297856,13427.335631991236,13427.335627263727,13427.335623052984,13427.335619385627,13427.335616234635,13427.335613644458,13427.335611595112,13427.335610051057,13427.335609049182,13427.335608589574,13427.33560863262,13427.335609239151,13427.33561035689,13427.335612015298,13427.335614211863,13427.335616965309,13427.335620192438,13427.335623986128,13427.33562827168,13427.335633111634,13427.335638476356,13427.335644325212,13427.335650753277,13427.335657695763,13427.335665183928,13427.335673151116,13427.335681685601,13427.335690717187,13427.335700285577,13427.335710403899,13427.335720992549,13427.335732107007,13427.335743767831,13427.335755976095,13427.335768658779,13427.335781893413,13427.33579563784,13427.335809896103,13427.335824671449,13427.335839985622,13427.335855792666,13427.33587212666,13427.335888984418,13427.335906366503,13427.335924240262,13427.335942664567,13427.335961570347,13427.335981016755,13427.336000965219,13427.336021430096,13427.336042413643,13427.336063912317,13427.336085919882,13427.336108463816,13427.3361314793,13427.336155034413,13427.336179099158,13427.336203655857,13427.33622873344,13427.336254330274,13427.336280426589,13427.336307043366,13427.336334164724,13427.336361798454,13427.336389936569,13427.336418587403,13427.336447732505,13427.33647739213,13427.336507562086,13427.336538241614,13427.33656940955,13427.336601085151,13427.336633293842],\"yaxis\":\"y\",\"type\":\"scatter\"},{\"name\":\"Minimum MSE\",\"x\":[2.2299999999999995],\"y\":[13427.335608589574],\"type\":\"scatter\"}],                        {\"legend\":{\"tracegroupgap\":0},\"template\":{\"data\":{\"barpolar\":[{\"marker\":{\"line\":{\"color\":\"#E5ECF6\",\"width\":0.5},\"pattern\":{\"fillmode\":\"overlay\",\"size\":10,\"solidity\":0.2}},\"type\":\"barpolar\"}],\"bar\":[{\"error_x\":{\"color\":\"#2a3f5f\"},\"error_y\":{\"color\":\"#2a3f5f\"},\"marker\":{\"line\":{\"color\":\"#E5ECF6\",\"width\":0.5},\"pattern\":{\"fillmode\":\"overlay\",\"size\":10,\"solidity\":0.2}},\"type\":\"bar\"}],\"carpet\":[{\"aaxis\":{\"endlinecolor\":\"#2a3f5f\",\"gridcolor\":\"white\",\"linecolor\":\"white\",\"minorgridcolor\":\"white\",\"startlinecolor\":\"#2a3f5f\"},\"baxis\":{\"endlinecolor\":\"#2a3f5f\",\"gridcolor\":\"white\",\"linecolor\":\"white\",\"minorgridcolor\":\"white\",\"startlinecolor\":\"#2a3f5f\"},\"type\":\"carpet\"}],\"choropleth\":[{\"colorbar\":{\"outlinewidth\":0,\"ticks\":\"\"},\"type\":\"choropleth\"}],\"contourcarpet\":[{\"colorbar\":{\"outlinewidth\":0,\"ticks\":\"\"},\"type\":\"contourcarpet\"}],\"contour\":[{\"colorbar\":{\"outlinewidth\":0,\"ticks\":\"\"},\"colorscale\":[[0.0,\"#0d0887\"],[0.1111111111111111,\"#46039f\"],[0.2222222222222222,\"#7201a8\"],[0.3333333333333333,\"#9c179e\"],[0.4444444444444444,\"#bd3786\"],[0.5555555555555556,\"#d8576b\"],[0.6666666666666666,\"#ed7953\"],[0.7777777777777778,\"#fb9f3a\"],[0.8888888888888888,\"#fdca26\"],[1.0,\"#f0f921\"]],\"type\":\"contour\"}],\"heatmapgl\":[{\"colorbar\":{\"outlinewidth\":0,\"ticks\":\"\"},\"colorscale\":[[0.0,\"#0d0887\"],[0.1111111111111111,\"#46039f\"],[0.2222222222222222,\"#7201a8\"],[0.3333333333333333,\"#9c179e\"],[0.4444444444444444,\"#bd3786\"],[0.5555555555555556,\"#d8576b\"],[0.6666666666666666,\"#ed7953\"],[0.7777777777777778,\"#fb9f3a\"],[0.8888888888888888,\"#fdca26\"],[1.0,\"#f0f921\"]],\"type\":\"heatmapgl\"}],\"heatmap\":[{\"colorbar\":{\"outlinewidth\":0,\"ticks\":\"\"},\"colorscale\":[[0.0,\"#0d0887\"],[0.1111111111111111,\"#46039f\"],[0.2222222222222222,\"#7201a8\"],[0.3333333333333333,\"#9c179e\"],[0.4444444444444444,\"#bd3786\"],[0.5555555555555556,\"#d8576b\"],[0.6666666666666666,\"#ed7953\"],[0.7777777777777778,\"#fb9f3a\"],[0.8888888888888888,\"#fdca26\"],[1.0,\"#f0f921\"]],\"type\":\"heatmap\"}],\"histogram2dcontour\":[{\"colorbar\":{\"outlinewidth\":0,\"ticks\":\"\"},\"colorscale\":[[0.0,\"#0d0887\"],[0.1111111111111111,\"#46039f\"],[0.2222222222222222,\"#7201a8\"],[0.3333333333333333,\"#9c179e\"],[0.4444444444444444,\"#bd3786\"],[0.5555555555555556,\"#d8576b\"],[0.6666666666666666,\"#ed7953\"],[0.7777777777777778,\"#fb9f3a\"],[0.8888888888888888,\"#fdca26\"],[1.0,\"#f0f921\"]],\"type\":\"histogram2dcontour\"}],\"histogram2d\":[{\"colorbar\":{\"outlinewidth\":0,\"ticks\":\"\"},\"colorscale\":[[0.0,\"#0d0887\"],[0.1111111111111111,\"#46039f\"],[0.2222222222222222,\"#7201a8\"],[0.3333333333333333,\"#9c179e\"],[0.4444444444444444,\"#bd3786\"],[0.5555555555555556,\"#d8576b\"],[0.6666666666666666,\"#ed7953\"],[0.7777777777777778,\"#fb9f3a\"],[0.8888888888888888,\"#fdca26\"],[1.0,\"#f0f921\"]],\"type\":\"histogram2d\"}],\"histogram\":[{\"marker\":{\"pattern\":{\"fillmode\":\"overlay\",\"size\":10,\"solidity\":0.2}},\"type\":\"histogram\"}],\"mesh3d\":[{\"colorbar\":{\"outlinewidth\":0,\"ticks\":\"\"},\"type\":\"mesh3d\"}],\"parcoords\":[{\"line\":{\"colorbar\":{\"outlinewidth\":0,\"ticks\":\"\"}},\"type\":\"parcoords\"}],\"pie\":[{\"automargin\":true,\"type\":\"pie\"}],\"scatter3d\":[{\"line\":{\"colorbar\":{\"outlinewidth\":0,\"ticks\":\"\"}},\"marker\":{\"colorbar\":{\"outlinewidth\":0,\"ticks\":\"\"}},\"type\":\"scatter3d\"}],\"scattercarpet\":[{\"marker\":{\"colorbar\":{\"outlinewidth\":0,\"ticks\":\"\"}},\"type\":\"scattercarpet\"}],\"scattergeo\":[{\"marker\":{\"colorbar\":{\"outlinewidth\":0,\"ticks\":\"\"}},\"type\":\"scattergeo\"}],\"scattergl\":[{\"marker\":{\"colorbar\":{\"outlinewidth\":0,\"ticks\":\"\"}},\"type\":\"scattergl\"}],\"scattermapbox\":[{\"marker\":{\"colorbar\":{\"outlinewidth\":0,\"ticks\":\"\"}},\"type\":\"scattermapbox\"}],\"scatterpolargl\":[{\"marker\":{\"colorbar\":{\"outlinewidth\":0,\"ticks\":\"\"}},\"type\":\"scatterpolargl\"}],\"scatterpolar\":[{\"marker\":{\"colorbar\":{\"outlinewidth\":0,\"ticks\":\"\"}},\"type\":\"scatterpolar\"}],\"scatter\":[{\"marker\":{\"colorbar\":{\"outlinewidth\":0,\"ticks\":\"\"}},\"type\":\"scatter\"}],\"scatterternary\":[{\"marker\":{\"colorbar\":{\"outlinewidth\":0,\"ticks\":\"\"}},\"type\":\"scatterternary\"}],\"surface\":[{\"colorbar\":{\"outlinewidth\":0,\"ticks\":\"\"},\"colorscale\":[[0.0,\"#0d0887\"],[0.1111111111111111,\"#46039f\"],[0.2222222222222222,\"#7201a8\"],[0.3333333333333333,\"#9c179e\"],[0.4444444444444444,\"#bd3786\"],[0.5555555555555556,\"#d8576b\"],[0.6666666666666666,\"#ed7953\"],[0.7777777777777778,\"#fb9f3a\"],[0.8888888888888888,\"#fdca26\"],[1.0,\"#f0f921\"]],\"type\":\"surface\"}],\"table\":[{\"cells\":{\"fill\":{\"color\":\"#EBF0F8\"},\"line\":{\"color\":\"white\"}},\"header\":{\"fill\":{\"color\":\"#C8D4E3\"},\"line\":{\"color\":\"white\"}},\"type\":\"table\"}]},\"layout\":{\"annotationdefaults\":{\"arrowcolor\":\"#2a3f5f\",\"arrowhead\":0,\"arrowwidth\":1},\"autotypenumbers\":\"strict\",\"coloraxis\":{\"colorbar\":{\"outlinewidth\":0,\"ticks\":\"\"}},\"colorscale\":{\"diverging\":[[0,\"#8e0152\"],[0.1,\"#c51b7d\"],[0.2,\"#de77ae\"],[0.3,\"#f1b6da\"],[0.4,\"#fde0ef\"],[0.5,\"#f7f7f7\"],[0.6,\"#e6f5d0\"],[0.7,\"#b8e186\"],[0.8,\"#7fbc41\"],[0.9,\"#4d9221\"],[1,\"#276419\"]],\"sequential\":[[0.0,\"#0d0887\"],[0.1111111111111111,\"#46039f\"],[0.2222222222222222,\"#7201a8\"],[0.3333333333333333,\"#9c179e\"],[0.4444444444444444,\"#bd3786\"],[0.5555555555555556,\"#d8576b\"],[0.6666666666666666,\"#ed7953\"],[0.7777777777777778,\"#fb9f3a\"],[0.8888888888888888,\"#fdca26\"],[1.0,\"#f0f921\"]],\"sequentialminus\":[[0.0,\"#0d0887\"],[0.1111111111111111,\"#46039f\"],[0.2222222222222222,\"#7201a8\"],[0.3333333333333333,\"#9c179e\"],[0.4444444444444444,\"#bd3786\"],[0.5555555555555556,\"#d8576b\"],[0.6666666666666666,\"#ed7953\"],[0.7777777777777778,\"#fb9f3a\"],[0.8888888888888888,\"#fdca26\"],[1.0,\"#f0f921\"]]},\"colorway\":[\"#636efa\",\"#EF553B\",\"#00cc96\",\"#ab63fa\",\"#FFA15A\",\"#19d3f3\",\"#FF6692\",\"#B6E880\",\"#FF97FF\",\"#FECB52\"],\"font\":{\"color\":\"#2a3f5f\"},\"geo\":{\"bgcolor\":\"white\",\"lakecolor\":\"white\",\"landcolor\":\"#E5ECF6\",\"showlakes\":true,\"showland\":true,\"subunitcolor\":\"white\"},\"hoverlabel\":{\"align\":\"left\"},\"hovermode\":\"closest\",\"mapbox\":{\"style\":\"light\"},\"paper_bgcolor\":\"white\",\"plot_bgcolor\":\"#E5ECF6\",\"polar\":{\"angularaxis\":{\"gridcolor\":\"white\",\"linecolor\":\"white\",\"ticks\":\"\"},\"bgcolor\":\"#E5ECF6\",\"radialaxis\":{\"gridcolor\":\"white\",\"linecolor\":\"white\",\"ticks\":\"\"}},\"scene\":{\"xaxis\":{\"backgroundcolor\":\"#E5ECF6\",\"gridcolor\":\"white\",\"gridwidth\":2,\"linecolor\":\"white\",\"showbackground\":true,\"ticks\":\"\",\"zerolinecolor\":\"white\"},\"yaxis\":{\"backgroundcolor\":\"#E5ECF6\",\"gridcolor\":\"white\",\"gridwidth\":2,\"linecolor\":\"white\",\"showbackground\":true,\"ticks\":\"\",\"zerolinecolor\":\"white\"},\"zaxis\":{\"backgroundcolor\":\"#E5ECF6\",\"gridcolor\":\"white\",\"gridwidth\":2,\"linecolor\":\"white\",\"showbackground\":true,\"ticks\":\"\",\"zerolinecolor\":\"white\"}},\"shapedefaults\":{\"line\":{\"color\":\"#2a3f5f\"}},\"ternary\":{\"aaxis\":{\"gridcolor\":\"white\",\"linecolor\":\"white\",\"ticks\":\"\"},\"baxis\":{\"gridcolor\":\"white\",\"linecolor\":\"white\",\"ticks\":\"\"},\"bgcolor\":\"#E5ECF6\",\"caxis\":{\"gridcolor\":\"white\",\"linecolor\":\"white\",\"ticks\":\"\"}},\"title\":{\"x\":0.05},\"xaxis\":{\"automargin\":true,\"gridcolor\":\"white\",\"linecolor\":\"white\",\"ticks\":\"\",\"title\":{\"standoff\":15},\"zerolinecolor\":\"white\",\"zerolinewidth\":2},\"yaxis\":{\"automargin\":true,\"gridcolor\":\"white\",\"linecolor\":\"white\",\"ticks\":\"\",\"title\":{\"standoff\":15},\"zerolinecolor\":\"white\",\"zerolinewidth\":2}}},\"title\":{\"text\":\"MSE with 10-Fold Cross Validation\"},\"xaxis\":{\"anchor\":\"y\",\"domain\":[0.0,1.0],\"title\":{\"text\":\"Ridge Parameter\"}},\"yaxis\":{\"anchor\":\"x\",\"domain\":[0.0,1.0],\"title\":{\"text\":\"Mean Squared Error\"}}},                        {\"responsive\": true}                    ).then(function(){\n",
       "                            \n",
       "var gd = document.getElementById('b23896c9-ecb5-4cef-ad76-837c59ee051b');\n",
       "var x = new MutationObserver(function (mutations, observer) {{\n",
       "        var display = window.getComputedStyle(gd).display;\n",
       "        if (!display || display === 'none') {{\n",
       "            console.log([gd, 'removed!']);\n",
       "            Plotly.purge(gd);\n",
       "            observer.disconnect();\n",
       "        }}\n",
       "}});\n",
       "\n",
       "// Listen for the removal of the full notebook cells\n",
       "var notebookContainer = gd.closest('#notebook-container');\n",
       "if (notebookContainer) {{\n",
       "    x.observe(notebookContainer, {childList: true});\n",
       "}}\n",
       "\n",
       "// Listen for the clearing of the current output cell\n",
       "var outputEl = gd.closest('.output');\n",
       "if (outputEl) {{\n",
       "    x.observe(outputEl, {childList: true});\n",
       "}}\n",
       "\n",
       "                        })                };                });            </script>        </div>"
      ]
     },
     "metadata": {},
     "output_type": "display_data"
    },
    {
     "data": {
      "text/plain": [
       "lambda        2.230000\n",
       "MSE       13427.335609\n",
       "Name: 111, dtype: float64"
      ]
     },
     "metadata": {},
     "output_type": "display_data"
    },
    {
     "data": {
      "application/javascript": [
       "\n",
       "            setTimeout(function() {\n",
       "                var nbb_cell_id = 45;\n",
       "                var nbb_unformatted_code = \"# With Smaller values\\nkfoldMSE = pd.DataFrame({\\\"lambda\\\": alphas, \\\"MSE\\\": listMSE_small})\\n\\nminMSEindex = kfoldMSE[\\\"MSE\\\"].idxmin()\\nminMSErow = kfoldMSE.iloc[minMSEindex]\\n\\nfig = go.Figure(\\n    data=px.scatter(\\n        kfoldMSE,\\n        x=\\\"lambda\\\",\\n        y=\\\"MSE\\\",\\n        labels={\\\"lambda\\\": \\\"Ridge Parameter\\\", \\\"MSE\\\": \\\"Mean Squared Error\\\"},\\n        title=\\\"MSE with 10-Fold Cross Validation\\\",\\n    )\\n)\\n\\nfig.add_trace(\\n    go.Scatter(\\n        x=[minMSErow.loc[\\\"lambda\\\"]], y=[minMSErow.loc[\\\"MSE\\\"]], name=\\\"Minimum MSE\\\"\\n    )\\n)\\n\\nfig.show()\\ndisplay(minMSErow)\";\n",
       "                var nbb_formatted_code = \"# With Smaller values\\nkfoldMSE = pd.DataFrame({\\\"lambda\\\": alphas, \\\"MSE\\\": listMSE_small})\\n\\nminMSEindex = kfoldMSE[\\\"MSE\\\"].idxmin()\\nminMSErow = kfoldMSE.iloc[minMSEindex]\\n\\nfig = go.Figure(\\n    data=px.scatter(\\n        kfoldMSE,\\n        x=\\\"lambda\\\",\\n        y=\\\"MSE\\\",\\n        labels={\\\"lambda\\\": \\\"Ridge Parameter\\\", \\\"MSE\\\": \\\"Mean Squared Error\\\"},\\n        title=\\\"MSE with 10-Fold Cross Validation\\\",\\n    )\\n)\\n\\nfig.add_trace(\\n    go.Scatter(\\n        x=[minMSErow.loc[\\\"lambda\\\"]], y=[minMSErow.loc[\\\"MSE\\\"]], name=\\\"Minimum MSE\\\"\\n    )\\n)\\n\\nfig.show()\\ndisplay(minMSErow)\";\n",
       "                var nbb_cells = Jupyter.notebook.get_cells();\n",
       "                for (var i = 0; i < nbb_cells.length; ++i) {\n",
       "                    if (nbb_cells[i].input_prompt_number == nbb_cell_id) {\n",
       "                        if (nbb_cells[i].get_text() == nbb_unformatted_code) {\n",
       "                             nbb_cells[i].set_text(nbb_formatted_code);\n",
       "                        }\n",
       "                        break;\n",
       "                    }\n",
       "                }\n",
       "            }, 500);\n",
       "            "
      ],
      "text/plain": [
       "<IPython.core.display.Javascript object>"
      ]
     },
     "metadata": {},
     "output_type": "display_data"
    }
   ],
   "source": [
    "# With Smaller values\n",
    "kfoldMSE = pd.DataFrame({\"lambda\": alphas, \"MSE\": listMSE_small})\n",
    "\n",
    "minMSEindex = kfoldMSE[\"MSE\"].idxmin()\n",
    "minMSErow = kfoldMSE.iloc[minMSEindex]\n",
    "\n",
    "fig = go.Figure(\n",
    "    data=px.scatter(\n",
    "        kfoldMSE,\n",
    "        x=\"lambda\",\n",
    "        y=\"MSE\",\n",
    "        labels={\"lambda\": \"Ridge Parameter\", \"MSE\": \"Mean Squared Error\"},\n",
    "        title=\"MSE with 10-Fold Cross Validation\",\n",
    "    )\n",
    ")\n",
    "\n",
    "fig.add_trace(\n",
    "    go.Scatter(\n",
    "        x=[minMSErow.loc[\"lambda\"]], y=[minMSErow.loc[\"MSE\"]], name=\"Minimum MSE\"\n",
    "    )\n",
    ")\n",
    "\n",
    "fig.show()\n",
    "display(minMSErow)"
   ]
  },
  {
   "cell_type": "code",
   "execution_count": 81,
   "id": "111ea3fb",
   "metadata": {},
   "outputs": [
    {
     "data": {
      "text/plain": [
       "13446.929328704837"
      ]
     },
     "metadata": {},
     "output_type": "display_data"
    },
    {
     "data": {
      "text/plain": [
       "13446.781919719158"
      ]
     },
     "metadata": {},
     "output_type": "display_data"
    },
    {
     "data": {
      "text/plain": [
       "13446.764175705437"
      ]
     },
     "metadata": {},
     "output_type": "display_data"
    },
    {
     "data": {
      "application/javascript": [
       "\n",
       "            setTimeout(function() {\n",
       "                var nbb_cell_id = 81;\n",
       "                var nbb_unformatted_code = \"# now we compare the minimized values from each experiment\\n\\n# Generate train and test different seed\\nXtrain, Xtest, Ytrain, Ytest = train_test_split(Xnewstand, y, test_size=0.3, random_state = 123)\\n\\n# Grid Search\\nbetaGS = sp.linalg.inv((Xtrain.T @ Xtrain) + 50 * I) @ Xtrain.T @ Ytrain\\nYpredGS = Xtest.to_numpy() @ betaGS\\nMSEGS = mean_squared_error(Ytest, YpredGS)\\ndisplay(MSEGS)\\n\\n# 5 fold\\nbetaKF5 = sp.linalg.inv((Xtrain.T @ Xtrain) + 1.61 * I) @ Xtrain.T @ Ytrain\\nYpredKF5 = Xtest.to_numpy() @ betaKF5\\nMSEKF5 = mean_squared_error(Ytest, YpredKF5)\\ndisplay(MSEKF5)\\n\\n# 10 fold\\nbetaKF10 = sp.linalg.inv((Xtrain.T @ Xtrain) + 2.23 * I) @ Xtrain.T @ Ytrain\\nYpredKF10 = Xtest.to_numpy() @ betaKF10\\nMSEKF10 = mean_squared_error(Ytest, YpredKF10)\\ndisplay(MSEKF10)\";\n",
       "                var nbb_formatted_code = \"# now we compare the minimized values from each experiment\\n\\n# Generate train and test different seed\\nXtrain, Xtest, Ytrain, Ytest = train_test_split(\\n    Xnewstand, y, test_size=0.3, random_state=123\\n)\\n\\n# Grid Search\\nbetaGS = sp.linalg.inv((Xtrain.T @ Xtrain) + 50 * I) @ Xtrain.T @ Ytrain\\nYpredGS = Xtest.to_numpy() @ betaGS\\nMSEGS = mean_squared_error(Ytest, YpredGS)\\ndisplay(MSEGS)\\n\\n# 5 fold\\nbetaKF5 = sp.linalg.inv((Xtrain.T @ Xtrain) + 1.61 * I) @ Xtrain.T @ Ytrain\\nYpredKF5 = Xtest.to_numpy() @ betaKF5\\nMSEKF5 = mean_squared_error(Ytest, YpredKF5)\\ndisplay(MSEKF5)\\n\\n# 10 fold\\nbetaKF10 = sp.linalg.inv((Xtrain.T @ Xtrain) + 2.23 * I) @ Xtrain.T @ Ytrain\\nYpredKF10 = Xtest.to_numpy() @ betaKF10\\nMSEKF10 = mean_squared_error(Ytest, YpredKF10)\\ndisplay(MSEKF10)\";\n",
       "                var nbb_cells = Jupyter.notebook.get_cells();\n",
       "                for (var i = 0; i < nbb_cells.length; ++i) {\n",
       "                    if (nbb_cells[i].input_prompt_number == nbb_cell_id) {\n",
       "                        if (nbb_cells[i].get_text() == nbb_unformatted_code) {\n",
       "                             nbb_cells[i].set_text(nbb_formatted_code);\n",
       "                        }\n",
       "                        break;\n",
       "                    }\n",
       "                }\n",
       "            }, 500);\n",
       "            "
      ],
      "text/plain": [
       "<IPython.core.display.Javascript object>"
      ]
     },
     "metadata": {},
     "output_type": "display_data"
    }
   ],
   "source": [
    "# now we compare the minimized values from each experiment\n",
    "\n",
    "# Generate train and test different seed\n",
    "Xtrain, Xtest, Ytrain, Ytest = train_test_split(\n",
    "    Xnewstand, y, test_size=0.3, random_state=123\n",
    ")\n",
    "\n",
    "# Grid Search\n",
    "betaGS = sp.linalg.inv((Xtrain.T @ Xtrain) + 50 * I) @ Xtrain.T @ Ytrain\n",
    "YpredGS = Xtest.to_numpy() @ betaGS\n",
    "MSEGS = mean_squared_error(Ytest, YpredGS)\n",
    "display(MSEGS)\n",
    "\n",
    "# 5 fold\n",
    "betaKF5 = sp.linalg.inv((Xtrain.T @ Xtrain) + 1.61 * I) @ Xtrain.T @ Ytrain\n",
    "YpredKF5 = Xtest.to_numpy() @ betaKF5\n",
    "MSEKF5 = mean_squared_error(Ytest, YpredKF5)\n",
    "display(MSEKF5)\n",
    "\n",
    "# 10 fold\n",
    "betaKF10 = sp.linalg.inv((Xtrain.T @ Xtrain) + 2.23 * I) @ Xtrain.T @ Ytrain\n",
    "YpredKF10 = Xtest.to_numpy() @ betaKF10\n",
    "MSEKF10 = mean_squared_error(Ytest, YpredKF10)\n",
    "display(MSEKF10)"
   ]
  },
  {
   "cell_type": "code",
   "execution_count": 13,
   "id": "d7956e61",
   "metadata": {},
   "outputs": [
    {
     "data": {
      "text/html": [
       "<div>\n",
       "<style scoped>\n",
       "    .dataframe tbody tr th:only-of-type {\n",
       "        vertical-align: middle;\n",
       "    }\n",
       "\n",
       "    .dataframe tbody tr th {\n",
       "        vertical-align: top;\n",
       "    }\n",
       "\n",
       "    .dataframe thead th {\n",
       "        text-align: right;\n",
       "    }\n",
       "</style>\n",
       "<table border=\"1\" class=\"dataframe\">\n",
       "  <thead>\n",
       "    <tr style=\"text-align: right;\">\n",
       "      <th></th>\n",
       "      <th>coef</th>\n",
       "      <th>names</th>\n",
       "    </tr>\n",
       "  </thead>\n",
       "  <tbody>\n",
       "    <tr>\n",
       "      <th>23</th>\n",
       "      <td>47.512513</td>\n",
       "      <td>business_or_commercial_nob/c</td>\n",
       "    </tr>\n",
       "    <tr>\n",
       "      <th>11</th>\n",
       "      <td>46.206409</td>\n",
       "      <td>Secured_by_land</td>\n",
       "    </tr>\n",
       "    <tr>\n",
       "      <th>14</th>\n",
       "      <td>46.206409</td>\n",
       "      <td>Security_Type_Indriect</td>\n",
       "    </tr>\n",
       "    <tr>\n",
       "      <th>12</th>\n",
       "      <td>46.206409</td>\n",
       "      <td>construction_type_mh</td>\n",
       "    </tr>\n",
       "    <tr>\n",
       "      <th>20</th>\n",
       "      <td>42.746217</td>\n",
       "      <td>lump_sum_payment_lpsm</td>\n",
       "    </tr>\n",
       "    <tr>\n",
       "      <th>17</th>\n",
       "      <td>42.432620</td>\n",
       "      <td>interest_only_not_int</td>\n",
       "    </tr>\n",
       "    <tr>\n",
       "      <th>4</th>\n",
       "      <td>42.392372</td>\n",
       "      <td>loan_limit_cf</td>\n",
       "    </tr>\n",
       "    <tr>\n",
       "      <th>25</th>\n",
       "      <td>42.386004</td>\n",
       "      <td>open_credit_opc</td>\n",
       "    </tr>\n",
       "    <tr>\n",
       "      <th>27</th>\n",
       "      <td>42.168857</td>\n",
       "      <td>Credit_Worthiness_l2</td>\n",
       "    </tr>\n",
       "    <tr>\n",
       "      <th>28</th>\n",
       "      <td>42.110740</td>\n",
       "      <td>approv_in_adv_nopre</td>\n",
       "    </tr>\n",
       "    <tr>\n",
       "      <th>8</th>\n",
       "      <td>41.950536</td>\n",
       "      <td>co-applicant_credit_type_CIB</td>\n",
       "    </tr>\n",
       "    <tr>\n",
       "      <th>19</th>\n",
       "      <td>41.939349</td>\n",
       "      <td>Neg_ammortization_not_neg</td>\n",
       "    </tr>\n",
       "    <tr>\n",
       "      <th>6</th>\n",
       "      <td>41.837271</td>\n",
       "      <td>submission_of_application_not_inst</td>\n",
       "    </tr>\n",
       "    <tr>\n",
       "      <th>7</th>\n",
       "      <td>41.826346</td>\n",
       "      <td>submission_of_application_to_inst</td>\n",
       "    </tr>\n",
       "    <tr>\n",
       "      <th>18</th>\n",
       "      <td>41.724268</td>\n",
       "      <td>Neg_ammortization_neg_amm</td>\n",
       "    </tr>\n",
       "  </tbody>\n",
       "</table>\n",
       "</div>"
      ],
      "text/plain": [
       "         coef                               names\n",
       "23  47.512513        business_or_commercial_nob/c\n",
       "11  46.206409                     Secured_by_land\n",
       "14  46.206409              Security_Type_Indriect\n",
       "12  46.206409                construction_type_mh\n",
       "20  42.746217               lump_sum_payment_lpsm\n",
       "17  42.432620               interest_only_not_int\n",
       "4   42.392372                       loan_limit_cf\n",
       "25  42.386004                     open_credit_opc\n",
       "27  42.168857                Credit_Worthiness_l2\n",
       "28  42.110740                 approv_in_adv_nopre\n",
       "8   41.950536        co-applicant_credit_type_CIB\n",
       "19  41.939349           Neg_ammortization_not_neg\n",
       "6   41.837271  submission_of_application_not_inst\n",
       "7   41.826346   submission_of_application_to_inst\n",
       "18  41.724268           Neg_ammortization_neg_amm"
      ]
     },
     "metadata": {},
     "output_type": "display_data"
    },
    {
     "data": {
      "text/html": [
       "<div>\n",
       "<style scoped>\n",
       "    .dataframe tbody tr th:only-of-type {\n",
       "        vertical-align: middle;\n",
       "    }\n",
       "\n",
       "    .dataframe tbody tr th {\n",
       "        vertical-align: top;\n",
       "    }\n",
       "\n",
       "    .dataframe thead th {\n",
       "        text-align: right;\n",
       "    }\n",
       "</style>\n",
       "<table border=\"1\" class=\"dataframe\">\n",
       "  <thead>\n",
       "    <tr style=\"text-align: right;\">\n",
       "      <th></th>\n",
       "      <th>coef</th>\n",
       "      <th>names</th>\n",
       "    </tr>\n",
       "  </thead>\n",
       "  <tbody>\n",
       "    <tr>\n",
       "      <th>61</th>\n",
       "      <td>19.700368</td>\n",
       "      <td>age_&lt;25</td>\n",
       "    </tr>\n",
       "    <tr>\n",
       "      <th>43</th>\n",
       "      <td>19.425233</td>\n",
       "      <td>total_units_4U</td>\n",
       "    </tr>\n",
       "    <tr>\n",
       "      <th>53</th>\n",
       "      <td>19.029412</td>\n",
       "      <td>Region_North-East</td>\n",
       "    </tr>\n",
       "    <tr>\n",
       "      <th>41</th>\n",
       "      <td>15.540735</td>\n",
       "      <td>total_units_2U</td>\n",
       "    </tr>\n",
       "    <tr>\n",
       "      <th>40</th>\n",
       "      <td>13.669327</td>\n",
       "      <td>total_units_1U</td>\n",
       "    </tr>\n",
       "    <tr>\n",
       "      <th>56</th>\n",
       "      <td>12.065810</td>\n",
       "      <td>age_25-34</td>\n",
       "    </tr>\n",
       "    <tr>\n",
       "      <th>58</th>\n",
       "      <td>11.707594</td>\n",
       "      <td>age_45-54</td>\n",
       "    </tr>\n",
       "    <tr>\n",
       "      <th>57</th>\n",
       "      <td>11.462264</td>\n",
       "      <td>age_35-44</td>\n",
       "    </tr>\n",
       "    <tr>\n",
       "      <th>60</th>\n",
       "      <td>11.246737</td>\n",
       "      <td>age_65-74</td>\n",
       "    </tr>\n",
       "    <tr>\n",
       "      <th>59</th>\n",
       "      <td>10.182923</td>\n",
       "      <td>age_55-64</td>\n",
       "    </tr>\n",
       "    <tr>\n",
       "      <th>62</th>\n",
       "      <td>7.297921</td>\n",
       "      <td>age_&gt;74</td>\n",
       "    </tr>\n",
       "    <tr>\n",
       "      <th>0</th>\n",
       "      <td>0.718409</td>\n",
       "      <td>loan_amount</td>\n",
       "    </tr>\n",
       "    <tr>\n",
       "      <th>3</th>\n",
       "      <td>-0.147483</td>\n",
       "      <td>Status</td>\n",
       "    </tr>\n",
       "    <tr>\n",
       "      <th>2</th>\n",
       "      <td>-0.225662</td>\n",
       "      <td>income</td>\n",
       "    </tr>\n",
       "    <tr>\n",
       "      <th>1</th>\n",
       "      <td>-0.424997</td>\n",
       "      <td>term</td>\n",
       "    </tr>\n",
       "  </tbody>\n",
       "</table>\n",
       "</div>"
      ],
      "text/plain": [
       "         coef              names\n",
       "61  19.700368            age_<25\n",
       "43  19.425233     total_units_4U\n",
       "53  19.029412  Region_North-East\n",
       "41  15.540735     total_units_2U\n",
       "40  13.669327     total_units_1U\n",
       "56  12.065810          age_25-34\n",
       "58  11.707594          age_45-54\n",
       "57  11.462264          age_35-44\n",
       "60  11.246737          age_65-74\n",
       "59  10.182923          age_55-64\n",
       "62   7.297921            age_>74\n",
       "0    0.718409        loan_amount\n",
       "3   -0.147483             Status\n",
       "2   -0.225662             income\n",
       "1   -0.424997               term"
      ]
     },
     "metadata": {},
     "output_type": "display_data"
    },
    {
     "data": {
      "application/javascript": [
       "\n",
       "            setTimeout(function() {\n",
       "                var nbb_cell_id = 13;\n",
       "                var nbb_unformatted_code = \"# Now with our optimized lambda of 0.97 million\\n\\nbeta = sp.linalg.inv((Xtrain.T @ Xtrain) + 0.97 * I) @ Xtrain.T @ Ytrain\\n\\nYpred = Xtest.to_numpy() @ beta\\nmodel_coef = pd.DataFrame({\\\"coef\\\": beta, \\\"names\\\": variables})\\nsorted_model = model_coef[model_coef[\\\"coef\\\"] != 0].sort_values(\\n    by=\\\"coef\\\", ascending=False\\n)\\ndisplay(sorted_model.head(15))\\ndisplay(sorted_model.tail(15))\";\n",
       "                var nbb_formatted_code = \"# Now with our optimized lambda of 0.97 million\\n\\nbeta = sp.linalg.inv((Xtrain.T @ Xtrain) + 0.97 * I) @ Xtrain.T @ Ytrain\\n\\nYpred = Xtest.to_numpy() @ beta\\nmodel_coef = pd.DataFrame({\\\"coef\\\": beta, \\\"names\\\": variables})\\nsorted_model = model_coef[model_coef[\\\"coef\\\"] != 0].sort_values(\\n    by=\\\"coef\\\", ascending=False\\n)\\ndisplay(sorted_model.head(15))\\ndisplay(sorted_model.tail(15))\";\n",
       "                var nbb_cells = Jupyter.notebook.get_cells();\n",
       "                for (var i = 0; i < nbb_cells.length; ++i) {\n",
       "                    if (nbb_cells[i].input_prompt_number == nbb_cell_id) {\n",
       "                        if (nbb_cells[i].get_text() == nbb_unformatted_code) {\n",
       "                             nbb_cells[i].set_text(nbb_formatted_code);\n",
       "                        }\n",
       "                        break;\n",
       "                    }\n",
       "                }\n",
       "            }, 500);\n",
       "            "
      ],
      "text/plain": [
       "<IPython.core.display.Javascript object>"
      ]
     },
     "metadata": {},
     "output_type": "display_data"
    }
   ],
   "source": [
    "# Now with our optimized lambda of 0.97 \n",
    "\n",
    "beta = sp.linalg.inv((Xtrain.T @ Xtrain) + 0.97 * I) @ Xtrain.T @ Ytrain\n",
    "\n",
    "Ypred = Xtest.to_numpy() @ beta\n",
    "model_coef = pd.DataFrame({\"coef\": beta, \"names\": variables})\n",
    "sorted_model = model_coef[model_coef[\"coef\"] != 0].sort_values(\n",
    "    by=\"coef\", ascending=False\n",
    ")\n",
    "display(sorted_model.head(15))\n",
    "display(sorted_model.tail(15))"
   ]
  },
  {
   "cell_type": "code",
   "execution_count": 16,
   "id": "fc985c94",
   "metadata": {},
   "outputs": [
    {
     "data": {
      "text/html": [
       "<div>\n",
       "<style scoped>\n",
       "    .dataframe tbody tr th:only-of-type {\n",
       "        vertical-align: middle;\n",
       "    }\n",
       "\n",
       "    .dataframe tbody tr th {\n",
       "        vertical-align: top;\n",
       "    }\n",
       "\n",
       "    .dataframe thead th {\n",
       "        text-align: right;\n",
       "    }\n",
       "</style>\n",
       "<table border=\"1\" class=\"dataframe\">\n",
       "  <thead>\n",
       "    <tr style=\"text-align: right;\">\n",
       "      <th></th>\n",
       "      <th>predictions</th>\n",
       "      <th>actual</th>\n",
       "    </tr>\n",
       "  </thead>\n",
       "  <tbody>\n",
       "    <tr>\n",
       "      <th>110481</th>\n",
       "      <td>699.064784</td>\n",
       "      <td>561</td>\n",
       "    </tr>\n",
       "    <tr>\n",
       "      <th>48198</th>\n",
       "      <td>696.693572</td>\n",
       "      <td>895</td>\n",
       "    </tr>\n",
       "    <tr>\n",
       "      <th>59102</th>\n",
       "      <td>702.784667</td>\n",
       "      <td>508</td>\n",
       "    </tr>\n",
       "    <tr>\n",
       "      <th>107644</th>\n",
       "      <td>697.477998</td>\n",
       "      <td>553</td>\n",
       "    </tr>\n",
       "    <tr>\n",
       "      <th>34907</th>\n",
       "      <td>698.188614</td>\n",
       "      <td>539</td>\n",
       "    </tr>\n",
       "    <tr>\n",
       "      <th>...</th>\n",
       "      <td>...</td>\n",
       "      <td>...</td>\n",
       "    </tr>\n",
       "    <tr>\n",
       "      <th>105154</th>\n",
       "      <td>695.072836</td>\n",
       "      <td>805</td>\n",
       "    </tr>\n",
       "    <tr>\n",
       "      <th>81171</th>\n",
       "      <td>697.968743</td>\n",
       "      <td>828</td>\n",
       "    </tr>\n",
       "    <tr>\n",
       "      <th>54722</th>\n",
       "      <td>700.896039</td>\n",
       "      <td>653</td>\n",
       "    </tr>\n",
       "    <tr>\n",
       "      <th>109435</th>\n",
       "      <td>701.616558</td>\n",
       "      <td>719</td>\n",
       "    </tr>\n",
       "    <tr>\n",
       "      <th>32564</th>\n",
       "      <td>696.621172</td>\n",
       "      <td>515</td>\n",
       "    </tr>\n",
       "  </tbody>\n",
       "</table>\n",
       "<p>40533 rows × 2 columns</p>\n",
       "</div>"
      ],
      "text/plain": [
       "        predictions  actual\n",
       "110481   699.064784     561\n",
       "48198    696.693572     895\n",
       "59102    702.784667     508\n",
       "107644   697.477998     553\n",
       "34907    698.188614     539\n",
       "...             ...     ...\n",
       "105154   695.072836     805\n",
       "81171    697.968743     828\n",
       "54722    700.896039     653\n",
       "109435   701.616558     719\n",
       "32564    696.621172     515\n",
       "\n",
       "[40533 rows x 2 columns]"
      ]
     },
     "metadata": {},
     "output_type": "display_data"
    },
    {
     "data": {
      "application/javascript": [
       "\n",
       "            setTimeout(function() {\n",
       "                var nbb_cell_id = 16;\n",
       "                var nbb_unformatted_code = \"n, m = Xtest.shape\\nI = np.identity(m)\\n# Beta vector\\nbeta_test = sp.linalg.inv((Xtest.T @ Xtest) + 0.21 * I) @ Xtest.T @ Ytest\\nYpred = Xtest.to_numpy() @ beta_test\\nY_pred_actual = pd.DataFrame({\\\"predictions\\\": Ypred, \\\"actual\\\": Ytest})\\ndisplay(Y_pred_actual)\";\n",
       "                var nbb_formatted_code = \"n, m = Xtest.shape\\nI = np.identity(m)\\n# Beta vector\\nbeta_test = sp.linalg.inv((Xtest.T @ Xtest) + 0.21 * I) @ Xtest.T @ Ytest\\nYpred = Xtest.to_numpy() @ beta_test\\nY_pred_actual = pd.DataFrame({\\\"predictions\\\": Ypred, \\\"actual\\\": Ytest})\\ndisplay(Y_pred_actual)\";\n",
       "                var nbb_cells = Jupyter.notebook.get_cells();\n",
       "                for (var i = 0; i < nbb_cells.length; ++i) {\n",
       "                    if (nbb_cells[i].input_prompt_number == nbb_cell_id) {\n",
       "                        if (nbb_cells[i].get_text() == nbb_unformatted_code) {\n",
       "                             nbb_cells[i].set_text(nbb_formatted_code);\n",
       "                        }\n",
       "                        break;\n",
       "                    }\n",
       "                }\n",
       "            }, 500);\n",
       "            "
      ],
      "text/plain": [
       "<IPython.core.display.Javascript object>"
      ]
     },
     "metadata": {},
     "output_type": "display_data"
    }
   ],
   "source": [
    "n, m = Xtest.shape\n",
    "I = np.identity(m)\n",
    "# Beta vector\n",
    "beta_test = sp.linalg.inv((Xtest.T @ Xtest) + 0.21 * I) @ Xtest.T @ Ytest\n",
    "Ypred = Xtest.to_numpy() @ beta_test\n",
    "Y_pred_actual = pd.DataFrame({\"predictions\": Ypred, \"actual\": Ytest})\n",
    "display(Y_pred_actual)"
   ]
  },
  {
   "cell_type": "code",
   "execution_count": 19,
   "id": "94b60f96",
   "metadata": {},
   "outputs": [
    {
     "name": "stdout",
     "output_type": "stream",
     "text": [
      "Ridge(alpha=3.98)\n",
      "-13427.014753906784\n",
      "3.98\n"
     ]
    },
    {
     "data": {
      "application/javascript": [
       "\n",
       "            setTimeout(function() {\n",
       "                var nbb_cell_id = 19;\n",
       "                var nbb_unformatted_code = \"from sklearn.linear_model import Ridge\\nfrom sklearn.model_selection import GridSearchCV\\n\\nalphas = np.arange(0.02, 4, 0.02)\\nparameters = {'alpha': alphas}\\n\\n#define the model/ estimator\\nmodel = Ridge()\\n\\n# define the grid search\\nRidge_reg= GridSearchCV(model, parameters, scoring='neg_mean_squared_error',cv=5)\\n\\n#fit the grid search\\nRidge_reg.fit(Xnewstand.to_numpy(),y)\\n\\n# best estimator\\nprint(Ridge_reg.best_estimator_)\\nprint(Ridge_reg.best_score_)\\nprint(Ridge_reg.best_estimator_.alpha)\";\n",
       "                var nbb_formatted_code = \"from sklearn.linear_model import Ridge\\nfrom sklearn.model_selection import GridSearchCV\\n\\nalphas = np.arange(0.02, 4, 0.02)\\nparameters = {\\\"alpha\\\": alphas}\\n\\n# define the model/ estimator\\nmodel = Ridge()\\n\\n# define the grid search\\nRidge_reg = GridSearchCV(model, parameters, scoring=\\\"neg_mean_squared_error\\\", cv=5)\\n\\n# fit the grid search\\nRidge_reg.fit(Xnewstand.to_numpy(), y)\\n\\n# best estimator\\nprint(Ridge_reg.best_estimator_)\\nprint(Ridge_reg.best_score_)\\nprint(Ridge_reg.best_estimator_.alpha)\";\n",
       "                var nbb_cells = Jupyter.notebook.get_cells();\n",
       "                for (var i = 0; i < nbb_cells.length; ++i) {\n",
       "                    if (nbb_cells[i].input_prompt_number == nbb_cell_id) {\n",
       "                        if (nbb_cells[i].get_text() == nbb_unformatted_code) {\n",
       "                             nbb_cells[i].set_text(nbb_formatted_code);\n",
       "                        }\n",
       "                        break;\n",
       "                    }\n",
       "                }\n",
       "            }, 500);\n",
       "            "
      ],
      "text/plain": [
       "<IPython.core.display.Javascript object>"
      ]
     },
     "metadata": {},
     "output_type": "display_data"
    }
   ],
   "source": [
    "from sklearn.linear_model import Ridge\n",
    "from sklearn.model_selection import GridSearchCV\n",
    "\n",
    "alphas = np.arange(0.02, 4, 0.02)\n",
    "parameters = {'alpha': alphas}\n",
    "\n",
    "#Createthe model\n",
    "model = Ridge()\n",
    "\n",
    "# Conduct the grid search\n",
    "Ridge_reg= GridSearchCV(model, parameters, scoring='neg_mean_squared_error',cv=5)\n",
    "\n",
    "#Fit the grid search\n",
    "Ridge_reg.fit(Xnewstand.to_numpy(),y)\n",
    "\n",
    "#Display results\n",
    "print(Ridge_reg.best_estimator_)\n",
    "print(Ridge_reg.best_score_)"
   ]
  }
 ],
 "metadata": {
  "kernelspec": {
   "display_name": "Python 3",
   "language": "python",
   "name": "python3"
  },
  "language_info": {
   "codemirror_mode": {
    "name": "ipython",
    "version": 3
   },
   "file_extension": ".py",
   "mimetype": "text/x-python",
   "name": "python",
   "nbconvert_exporter": "python",
   "pygments_lexer": "ipython3",
   "version": "3.8.8"
  }
 },
 "nbformat": 4,
 "nbformat_minor": 5
}

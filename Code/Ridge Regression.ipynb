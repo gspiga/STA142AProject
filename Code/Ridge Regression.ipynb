{
 "cells": [
  {
   "cell_type": "code",
   "execution_count": 14,
   "id": "4c1b2978",
   "metadata": {},
   "outputs": [
    {
     "name": "stdout",
     "output_type": "stream",
     "text": [
      "The nb_black extension is already loaded. To reload it, use:\n",
      "  %reload_ext nb_black\n"
     ]
    },
    {
     "data": {
      "application/javascript": [
       "\n",
       "            setTimeout(function() {\n",
       "                var nbb_cell_id = 14;\n",
       "                var nbb_unformatted_code = \"# Auto formatting\\n%load_ext nb_black\";\n",
       "                var nbb_formatted_code = \"# Auto formatting\\n%load_ext nb_black\";\n",
       "                var nbb_cells = Jupyter.notebook.get_cells();\n",
       "                for (var i = 0; i < nbb_cells.length; ++i) {\n",
       "                    if (nbb_cells[i].input_prompt_number == nbb_cell_id) {\n",
       "                        if (nbb_cells[i].get_text() == nbb_unformatted_code) {\n",
       "                             nbb_cells[i].set_text(nbb_formatted_code);\n",
       "                        }\n",
       "                        break;\n",
       "                    }\n",
       "                }\n",
       "            }, 500);\n",
       "            "
      ],
      "text/plain": [
       "<IPython.core.display.Javascript object>"
      ]
     },
     "metadata": {},
     "output_type": "display_data"
    }
   ],
   "source": [
    "# Auto formatting\n",
    "%load_ext nb_black"
   ]
  },
  {
   "cell_type": "code",
   "execution_count": 15,
   "id": "b0de6857",
   "metadata": {},
   "outputs": [
    {
     "data": {
      "application/javascript": [
       "\n",
       "            setTimeout(function() {\n",
       "                var nbb_cell_id = 15;\n",
       "                var nbb_unformatted_code = \"import numpy as np\\nimport pandas as pd\\nimport plotly.express as px\\nimport matplotlib.pyplot as plt\\nfrom IPython.display import display\\nfrom sklearn.model_selection import train_test_split\\nimport time\\nimport plotly.express as px\\nimport plotly.graph_objects as go\";\n",
       "                var nbb_formatted_code = \"import numpy as np\\nimport pandas as pd\\nimport plotly.express as px\\nimport matplotlib.pyplot as plt\\nfrom IPython.display import display\\nfrom sklearn.model_selection import train_test_split\\nimport time\\nimport plotly.express as px\\nimport plotly.graph_objects as go\";\n",
       "                var nbb_cells = Jupyter.notebook.get_cells();\n",
       "                for (var i = 0; i < nbb_cells.length; ++i) {\n",
       "                    if (nbb_cells[i].input_prompt_number == nbb_cell_id) {\n",
       "                        if (nbb_cells[i].get_text() == nbb_unformatted_code) {\n",
       "                             nbb_cells[i].set_text(nbb_formatted_code);\n",
       "                        }\n",
       "                        break;\n",
       "                    }\n",
       "                }\n",
       "            }, 500);\n",
       "            "
      ],
      "text/plain": [
       "<IPython.core.display.Javascript object>"
      ]
     },
     "metadata": {},
     "output_type": "display_data"
    }
   ],
   "source": [
    "import numpy as np\n",
    "import pandas as pd\n",
    "import plotly.express as px\n",
    "import matplotlib.pyplot as plt\n",
    "from IPython.display import display\n",
    "from sklearn.model_selection import train_test_split\n",
    "import time\n",
    "import plotly.express as px\n",
    "import plotly.graph_objects as go"
   ]
  },
  {
   "cell_type": "code",
   "execution_count": 16,
   "id": "20f663a8",
   "metadata": {},
   "outputs": [
    {
     "data": {
      "text/html": [
       "<div>\n",
       "<style scoped>\n",
       "    .dataframe tbody tr th:only-of-type {\n",
       "        vertical-align: middle;\n",
       "    }\n",
       "\n",
       "    .dataframe tbody tr th {\n",
       "        vertical-align: top;\n",
       "    }\n",
       "\n",
       "    .dataframe thead th {\n",
       "        text-align: right;\n",
       "    }\n",
       "</style>\n",
       "<table border=\"1\" class=\"dataframe\">\n",
       "  <thead>\n",
       "    <tr style=\"text-align: right;\">\n",
       "      <th></th>\n",
       "      <th>loan_amount</th>\n",
       "      <th>term</th>\n",
       "      <th>income</th>\n",
       "      <th>Credit_Score</th>\n",
       "      <th>Status</th>\n",
       "      <th>loan_limit_cf</th>\n",
       "      <th>loan_limit_ncf</th>\n",
       "      <th>submission_of_application_not_inst</th>\n",
       "      <th>submission_of_application_to_inst</th>\n",
       "      <th>co-applicant_credit_type_CIB</th>\n",
       "      <th>...</th>\n",
       "      <th>Region_North-East</th>\n",
       "      <th>Region_central</th>\n",
       "      <th>Region_south</th>\n",
       "      <th>age_25-34</th>\n",
       "      <th>age_35-44</th>\n",
       "      <th>age_45-54</th>\n",
       "      <th>age_55-64</th>\n",
       "      <th>age_65-74</th>\n",
       "      <th>age_&lt;25</th>\n",
       "      <th>age_&gt;74</th>\n",
       "    </tr>\n",
       "  </thead>\n",
       "  <tbody>\n",
       "    <tr>\n",
       "      <th>0</th>\n",
       "      <td>116500</td>\n",
       "      <td>360.0</td>\n",
       "      <td>1740.0</td>\n",
       "      <td>758</td>\n",
       "      <td>1</td>\n",
       "      <td>1</td>\n",
       "      <td>0</td>\n",
       "      <td>0</td>\n",
       "      <td>1</td>\n",
       "      <td>1</td>\n",
       "      <td>...</td>\n",
       "      <td>0</td>\n",
       "      <td>0</td>\n",
       "      <td>1</td>\n",
       "      <td>1</td>\n",
       "      <td>0</td>\n",
       "      <td>0</td>\n",
       "      <td>0</td>\n",
       "      <td>0</td>\n",
       "      <td>0</td>\n",
       "      <td>0</td>\n",
       "    </tr>\n",
       "    <tr>\n",
       "      <th>1</th>\n",
       "      <td>206500</td>\n",
       "      <td>360.0</td>\n",
       "      <td>4980.0</td>\n",
       "      <td>552</td>\n",
       "      <td>1</td>\n",
       "      <td>1</td>\n",
       "      <td>0</td>\n",
       "      <td>0</td>\n",
       "      <td>1</td>\n",
       "      <td>0</td>\n",
       "      <td>...</td>\n",
       "      <td>0</td>\n",
       "      <td>0</td>\n",
       "      <td>0</td>\n",
       "      <td>0</td>\n",
       "      <td>0</td>\n",
       "      <td>0</td>\n",
       "      <td>1</td>\n",
       "      <td>0</td>\n",
       "      <td>0</td>\n",
       "      <td>0</td>\n",
       "    </tr>\n",
       "    <tr>\n",
       "      <th>2</th>\n",
       "      <td>406500</td>\n",
       "      <td>360.0</td>\n",
       "      <td>9480.0</td>\n",
       "      <td>834</td>\n",
       "      <td>0</td>\n",
       "      <td>1</td>\n",
       "      <td>0</td>\n",
       "      <td>0</td>\n",
       "      <td>1</td>\n",
       "      <td>1</td>\n",
       "      <td>...</td>\n",
       "      <td>0</td>\n",
       "      <td>0</td>\n",
       "      <td>1</td>\n",
       "      <td>0</td>\n",
       "      <td>1</td>\n",
       "      <td>0</td>\n",
       "      <td>0</td>\n",
       "      <td>0</td>\n",
       "      <td>0</td>\n",
       "      <td>0</td>\n",
       "    </tr>\n",
       "    <tr>\n",
       "      <th>3</th>\n",
       "      <td>456500</td>\n",
       "      <td>360.0</td>\n",
       "      <td>11880.0</td>\n",
       "      <td>587</td>\n",
       "      <td>0</td>\n",
       "      <td>1</td>\n",
       "      <td>0</td>\n",
       "      <td>1</td>\n",
       "      <td>0</td>\n",
       "      <td>1</td>\n",
       "      <td>...</td>\n",
       "      <td>0</td>\n",
       "      <td>0</td>\n",
       "      <td>0</td>\n",
       "      <td>0</td>\n",
       "      <td>0</td>\n",
       "      <td>1</td>\n",
       "      <td>0</td>\n",
       "      <td>0</td>\n",
       "      <td>0</td>\n",
       "      <td>0</td>\n",
       "    </tr>\n",
       "    <tr>\n",
       "      <th>4</th>\n",
       "      <td>696500</td>\n",
       "      <td>360.0</td>\n",
       "      <td>10440.0</td>\n",
       "      <td>602</td>\n",
       "      <td>0</td>\n",
       "      <td>1</td>\n",
       "      <td>0</td>\n",
       "      <td>1</td>\n",
       "      <td>0</td>\n",
       "      <td>0</td>\n",
       "      <td>...</td>\n",
       "      <td>0</td>\n",
       "      <td>0</td>\n",
       "      <td>0</td>\n",
       "      <td>1</td>\n",
       "      <td>0</td>\n",
       "      <td>0</td>\n",
       "      <td>0</td>\n",
       "      <td>0</td>\n",
       "      <td>0</td>\n",
       "      <td>0</td>\n",
       "    </tr>\n",
       "    <tr>\n",
       "      <th>...</th>\n",
       "      <td>...</td>\n",
       "      <td>...</td>\n",
       "      <td>...</td>\n",
       "      <td>...</td>\n",
       "      <td>...</td>\n",
       "      <td>...</td>\n",
       "      <td>...</td>\n",
       "      <td>...</td>\n",
       "      <td>...</td>\n",
       "      <td>...</td>\n",
       "      <td>...</td>\n",
       "      <td>...</td>\n",
       "      <td>...</td>\n",
       "      <td>...</td>\n",
       "      <td>...</td>\n",
       "      <td>...</td>\n",
       "      <td>...</td>\n",
       "      <td>...</td>\n",
       "      <td>...</td>\n",
       "      <td>...</td>\n",
       "      <td>...</td>\n",
       "    </tr>\n",
       "    <tr>\n",
       "      <th>135103</th>\n",
       "      <td>436500</td>\n",
       "      <td>180.0</td>\n",
       "      <td>7860.0</td>\n",
       "      <td>659</td>\n",
       "      <td>0</td>\n",
       "      <td>1</td>\n",
       "      <td>0</td>\n",
       "      <td>0</td>\n",
       "      <td>1</td>\n",
       "      <td>0</td>\n",
       "      <td>...</td>\n",
       "      <td>0</td>\n",
       "      <td>0</td>\n",
       "      <td>1</td>\n",
       "      <td>0</td>\n",
       "      <td>0</td>\n",
       "      <td>0</td>\n",
       "      <td>1</td>\n",
       "      <td>0</td>\n",
       "      <td>0</td>\n",
       "      <td>0</td>\n",
       "    </tr>\n",
       "    <tr>\n",
       "      <th>135104</th>\n",
       "      <td>586500</td>\n",
       "      <td>360.0</td>\n",
       "      <td>7140.0</td>\n",
       "      <td>569</td>\n",
       "      <td>0</td>\n",
       "      <td>1</td>\n",
       "      <td>0</td>\n",
       "      <td>1</td>\n",
       "      <td>0</td>\n",
       "      <td>1</td>\n",
       "      <td>...</td>\n",
       "      <td>0</td>\n",
       "      <td>0</td>\n",
       "      <td>1</td>\n",
       "      <td>1</td>\n",
       "      <td>0</td>\n",
       "      <td>0</td>\n",
       "      <td>0</td>\n",
       "      <td>0</td>\n",
       "      <td>0</td>\n",
       "      <td>0</td>\n",
       "    </tr>\n",
       "    <tr>\n",
       "      <th>135105</th>\n",
       "      <td>446500</td>\n",
       "      <td>180.0</td>\n",
       "      <td>6900.0</td>\n",
       "      <td>702</td>\n",
       "      <td>0</td>\n",
       "      <td>1</td>\n",
       "      <td>0</td>\n",
       "      <td>1</td>\n",
       "      <td>0</td>\n",
       "      <td>0</td>\n",
       "      <td>...</td>\n",
       "      <td>0</td>\n",
       "      <td>0</td>\n",
       "      <td>0</td>\n",
       "      <td>0</td>\n",
       "      <td>0</td>\n",
       "      <td>1</td>\n",
       "      <td>0</td>\n",
       "      <td>0</td>\n",
       "      <td>0</td>\n",
       "      <td>0</td>\n",
       "    </tr>\n",
       "    <tr>\n",
       "      <th>135106</th>\n",
       "      <td>196500</td>\n",
       "      <td>180.0</td>\n",
       "      <td>7140.0</td>\n",
       "      <td>737</td>\n",
       "      <td>0</td>\n",
       "      <td>1</td>\n",
       "      <td>0</td>\n",
       "      <td>0</td>\n",
       "      <td>1</td>\n",
       "      <td>0</td>\n",
       "      <td>...</td>\n",
       "      <td>0</td>\n",
       "      <td>0</td>\n",
       "      <td>0</td>\n",
       "      <td>0</td>\n",
       "      <td>0</td>\n",
       "      <td>0</td>\n",
       "      <td>1</td>\n",
       "      <td>0</td>\n",
       "      <td>0</td>\n",
       "      <td>0</td>\n",
       "    </tr>\n",
       "    <tr>\n",
       "      <th>135107</th>\n",
       "      <td>406500</td>\n",
       "      <td>240.0</td>\n",
       "      <td>7260.0</td>\n",
       "      <td>830</td>\n",
       "      <td>0</td>\n",
       "      <td>1</td>\n",
       "      <td>0</td>\n",
       "      <td>1</td>\n",
       "      <td>0</td>\n",
       "      <td>1</td>\n",
       "      <td>...</td>\n",
       "      <td>0</td>\n",
       "      <td>0</td>\n",
       "      <td>0</td>\n",
       "      <td>0</td>\n",
       "      <td>0</td>\n",
       "      <td>1</td>\n",
       "      <td>0</td>\n",
       "      <td>0</td>\n",
       "      <td>0</td>\n",
       "      <td>0</td>\n",
       "    </tr>\n",
       "  </tbody>\n",
       "</table>\n",
       "<p>135108 rows × 64 columns</p>\n",
       "</div>"
      ],
      "text/plain": [
       "        loan_amount   term   income  Credit_Score  Status  loan_limit_cf  \\\n",
       "0            116500  360.0   1740.0           758       1              1   \n",
       "1            206500  360.0   4980.0           552       1              1   \n",
       "2            406500  360.0   9480.0           834       0              1   \n",
       "3            456500  360.0  11880.0           587       0              1   \n",
       "4            696500  360.0  10440.0           602       0              1   \n",
       "...             ...    ...      ...           ...     ...            ...   \n",
       "135103       436500  180.0   7860.0           659       0              1   \n",
       "135104       586500  360.0   7140.0           569       0              1   \n",
       "135105       446500  180.0   6900.0           702       0              1   \n",
       "135106       196500  180.0   7140.0           737       0              1   \n",
       "135107       406500  240.0   7260.0           830       0              1   \n",
       "\n",
       "        loan_limit_ncf  submission_of_application_not_inst  \\\n",
       "0                    0                                   0   \n",
       "1                    0                                   0   \n",
       "2                    0                                   0   \n",
       "3                    0                                   1   \n",
       "4                    0                                   1   \n",
       "...                ...                                 ...   \n",
       "135103               0                                   0   \n",
       "135104               0                                   1   \n",
       "135105               0                                   1   \n",
       "135106               0                                   0   \n",
       "135107               0                                   1   \n",
       "\n",
       "        submission_of_application_to_inst  co-applicant_credit_type_CIB  ...  \\\n",
       "0                                       1                             1  ...   \n",
       "1                                       1                             0  ...   \n",
       "2                                       1                             1  ...   \n",
       "3                                       0                             1  ...   \n",
       "4                                       0                             0  ...   \n",
       "...                                   ...                           ...  ...   \n",
       "135103                                  1                             0  ...   \n",
       "135104                                  0                             1  ...   \n",
       "135105                                  0                             0  ...   \n",
       "135106                                  1                             0  ...   \n",
       "135107                                  0                             1  ...   \n",
       "\n",
       "        Region_North-East  Region_central  Region_south  age_25-34  age_35-44  \\\n",
       "0                       0               0             1          1          0   \n",
       "1                       0               0             0          0          0   \n",
       "2                       0               0             1          0          1   \n",
       "3                       0               0             0          0          0   \n",
       "4                       0               0             0          1          0   \n",
       "...                   ...             ...           ...        ...        ...   \n",
       "135103                  0               0             1          0          0   \n",
       "135104                  0               0             1          1          0   \n",
       "135105                  0               0             0          0          0   \n",
       "135106                  0               0             0          0          0   \n",
       "135107                  0               0             0          0          0   \n",
       "\n",
       "        age_45-54  age_55-64  age_65-74  age_<25  age_>74  \n",
       "0               0          0          0        0        0  \n",
       "1               0          1          0        0        0  \n",
       "2               0          0          0        0        0  \n",
       "3               1          0          0        0        0  \n",
       "4               0          0          0        0        0  \n",
       "...           ...        ...        ...      ...      ...  \n",
       "135103          0          1          0        0        0  \n",
       "135104          0          0          0        0        0  \n",
       "135105          1          0          0        0        0  \n",
       "135106          0          1          0        0        0  \n",
       "135107          1          0          0        0        0  \n",
       "\n",
       "[135108 rows x 64 columns]"
      ]
     },
     "metadata": {},
     "output_type": "display_data"
    },
    {
     "data": {
      "application/javascript": [
       "\n",
       "            setTimeout(function() {\n",
       "                var nbb_cell_id = 16;\n",
       "                var nbb_unformatted_code = \"df = pd.read_csv(\\\"../data/cleaned.csv\\\", index_col=[0])\\ndisplay(df)\";\n",
       "                var nbb_formatted_code = \"df = pd.read_csv(\\\"../data/cleaned.csv\\\", index_col=[0])\\ndisplay(df)\";\n",
       "                var nbb_cells = Jupyter.notebook.get_cells();\n",
       "                for (var i = 0; i < nbb_cells.length; ++i) {\n",
       "                    if (nbb_cells[i].input_prompt_number == nbb_cell_id) {\n",
       "                        if (nbb_cells[i].get_text() == nbb_unformatted_code) {\n",
       "                             nbb_cells[i].set_text(nbb_formatted_code);\n",
       "                        }\n",
       "                        break;\n",
       "                    }\n",
       "                }\n",
       "            }, 500);\n",
       "            "
      ],
      "text/plain": [
       "<IPython.core.display.Javascript object>"
      ]
     },
     "metadata": {},
     "output_type": "display_data"
    }
   ],
   "source": [
    "df = pd.read_csv(\"../data/cleaned.csv\", index_col=[0])\n",
    "display(df)"
   ]
  },
  {
   "cell_type": "code",
   "execution_count": 17,
   "id": "504d205b",
   "metadata": {},
   "outputs": [
    {
     "data": {
      "text/plain": [
       "0         758\n",
       "1         552\n",
       "2         834\n",
       "3         587\n",
       "4         602\n",
       "         ... \n",
       "135103    659\n",
       "135104    569\n",
       "135105    702\n",
       "135106    737\n",
       "135107    830\n",
       "Name: Credit_Score, Length: 135108, dtype: int64"
      ]
     },
     "metadata": {},
     "output_type": "display_data"
    },
    {
     "data": {
      "application/javascript": [
       "\n",
       "            setTimeout(function() {\n",
       "                var nbb_cell_id = 17;\n",
       "                var nbb_unformatted_code = \"X = df.drop(\\\"Credit_Score\\\", axis=1)\\ny = df.loc[:, \\\"Credit_Score\\\"]\\ndisplay(y)\";\n",
       "                var nbb_formatted_code = \"X = df.drop(\\\"Credit_Score\\\", axis=1)\\ny = df.loc[:, \\\"Credit_Score\\\"]\\ndisplay(y)\";\n",
       "                var nbb_cells = Jupyter.notebook.get_cells();\n",
       "                for (var i = 0; i < nbb_cells.length; ++i) {\n",
       "                    if (nbb_cells[i].input_prompt_number == nbb_cell_id) {\n",
       "                        if (nbb_cells[i].get_text() == nbb_unformatted_code) {\n",
       "                             nbb_cells[i].set_text(nbb_formatted_code);\n",
       "                        }\n",
       "                        break;\n",
       "                    }\n",
       "                }\n",
       "            }, 500);\n",
       "            "
      ],
      "text/plain": [
       "<IPython.core.display.Javascript object>"
      ]
     },
     "metadata": {},
     "output_type": "display_data"
    }
   ],
   "source": [
    "X = df.drop(\"Credit_Score\", axis=1)\n",
    "y = df.loc[:, \"Credit_Score\"]\n",
    "display(y)"
   ]
  },
  {
   "cell_type": "code",
   "execution_count": 18,
   "id": "5a7e6072",
   "metadata": {},
   "outputs": [
    {
     "data": {
      "application/javascript": [
       "\n",
       "            setTimeout(function() {\n",
       "                var nbb_cell_id = 18;\n",
       "                var nbb_unformatted_code = \"def standardizeData(data):\\n    # Takes pandas dataframe and standardizes it iteratively\\n    for column in data:\\n        if (data[column] != 0).sum() == 0:  # If the column is all zeros\\n            continue  # No need to standardize all zeros (thus dividing by zero)\\n        else:\\n            data[column] = (data[column] - np.mean(data[column])) / np.std(data[column])\\n    return data\";\n",
       "                var nbb_formatted_code = \"def standardizeData(data):\\n    # Takes pandas dataframe and standardizes it iteratively\\n    for column in data:\\n        if (data[column] != 0).sum() == 0:  # If the column is all zeros\\n            continue  # No need to standardize all zeros (thus dividing by zero)\\n        else:\\n            data[column] = (data[column] - np.mean(data[column])) / np.std(data[column])\\n    return data\";\n",
       "                var nbb_cells = Jupyter.notebook.get_cells();\n",
       "                for (var i = 0; i < nbb_cells.length; ++i) {\n",
       "                    if (nbb_cells[i].input_prompt_number == nbb_cell_id) {\n",
       "                        if (nbb_cells[i].get_text() == nbb_unformatted_code) {\n",
       "                             nbb_cells[i].set_text(nbb_formatted_code);\n",
       "                        }\n",
       "                        break;\n",
       "                    }\n",
       "                }\n",
       "            }, 500);\n",
       "            "
      ],
      "text/plain": [
       "<IPython.core.display.Javascript object>"
      ]
     },
     "metadata": {},
     "output_type": "display_data"
    }
   ],
   "source": [
    "def standardizeData(data):\n",
    "    # Takes pandas dataframe and standardizes it iteratively\n",
    "    for column in data:\n",
    "        if (data[column] != 0).sum() == 0:  # If the column is all zeros\n",
    "            continue  # No need to standardize all zeros (thus dividing by zero)\n",
    "        else:\n",
    "            data[column] = (data[column] - np.mean(data[column])) / np.std(data[column])\n",
    "    return data"
   ]
  },
  {
   "cell_type": "code",
   "execution_count": 19,
   "id": "5b0e1bae",
   "metadata": {},
   "outputs": [
    {
     "data": {
      "text/html": [
       "<div>\n",
       "<style scoped>\n",
       "    .dataframe tbody tr th:only-of-type {\n",
       "        vertical-align: middle;\n",
       "    }\n",
       "\n",
       "    .dataframe tbody tr th {\n",
       "        vertical-align: top;\n",
       "    }\n",
       "\n",
       "    .dataframe thead th {\n",
       "        text-align: right;\n",
       "    }\n",
       "</style>\n",
       "<table border=\"1\" class=\"dataframe\">\n",
       "  <thead>\n",
       "    <tr style=\"text-align: right;\">\n",
       "      <th></th>\n",
       "      <th>loan_amount</th>\n",
       "      <th>term</th>\n",
       "      <th>income</th>\n",
       "      <th>Status</th>\n",
       "      <th>loan_limit_cf</th>\n",
       "      <th>loan_limit_ncf</th>\n",
       "      <th>submission_of_application_not_inst</th>\n",
       "      <th>submission_of_application_to_inst</th>\n",
       "      <th>co-applicant_credit_type_CIB</th>\n",
       "      <th>co-applicant_credit_type_EXP</th>\n",
       "      <th>...</th>\n",
       "      <th>Region_North-East</th>\n",
       "      <th>Region_central</th>\n",
       "      <th>Region_south</th>\n",
       "      <th>age_25-34</th>\n",
       "      <th>age_35-44</th>\n",
       "      <th>age_45-54</th>\n",
       "      <th>age_55-64</th>\n",
       "      <th>age_65-74</th>\n",
       "      <th>age_&lt;25</th>\n",
       "      <th>age_&gt;74</th>\n",
       "    </tr>\n",
       "  </thead>\n",
       "  <tbody>\n",
       "    <tr>\n",
       "      <th>0</th>\n",
       "      <td>-1.152094</td>\n",
       "      <td>0.439777</td>\n",
       "      <td>-0.803694</td>\n",
       "      <td>1.716802</td>\n",
       "      <td>0.268036</td>\n",
       "      <td>-0.268036</td>\n",
       "      <td>-0.737362</td>\n",
       "      <td>0.737362</td>\n",
       "      <td>0.995436</td>\n",
       "      <td>-0.995436</td>\n",
       "      <td>...</td>\n",
       "      <td>-0.091551</td>\n",
       "      <td>-0.246226</td>\n",
       "      <td>1.152530</td>\n",
       "      <td>2.614658</td>\n",
       "      <td>-0.531420</td>\n",
       "      <td>-0.553124</td>\n",
       "      <td>-0.533515</td>\n",
       "      <td>-0.402305</td>\n",
       "      <td>-0.096048</td>\n",
       "      <td>-0.224268</td>\n",
       "    </tr>\n",
       "    <tr>\n",
       "      <th>1</th>\n",
       "      <td>-0.665241</td>\n",
       "      <td>0.439777</td>\n",
       "      <td>-0.305114</td>\n",
       "      <td>1.716802</td>\n",
       "      <td>0.268036</td>\n",
       "      <td>-0.268036</td>\n",
       "      <td>-0.737362</td>\n",
       "      <td>0.737362</td>\n",
       "      <td>-1.004585</td>\n",
       "      <td>1.004585</td>\n",
       "      <td>...</td>\n",
       "      <td>-0.091551</td>\n",
       "      <td>-0.246226</td>\n",
       "      <td>-0.867657</td>\n",
       "      <td>-0.382459</td>\n",
       "      <td>-0.531420</td>\n",
       "      <td>-0.553124</td>\n",
       "      <td>1.874361</td>\n",
       "      <td>-0.402305</td>\n",
       "      <td>-0.096048</td>\n",
       "      <td>-0.224268</td>\n",
       "    </tr>\n",
       "    <tr>\n",
       "      <th>2</th>\n",
       "      <td>0.416656</td>\n",
       "      <td>0.439777</td>\n",
       "      <td>0.387358</td>\n",
       "      <td>-0.582478</td>\n",
       "      <td>0.268036</td>\n",
       "      <td>-0.268036</td>\n",
       "      <td>-0.737362</td>\n",
       "      <td>0.737362</td>\n",
       "      <td>0.995436</td>\n",
       "      <td>-0.995436</td>\n",
       "      <td>...</td>\n",
       "      <td>-0.091551</td>\n",
       "      <td>-0.246226</td>\n",
       "      <td>1.152530</td>\n",
       "      <td>-0.382459</td>\n",
       "      <td>1.881751</td>\n",
       "      <td>-0.553124</td>\n",
       "      <td>-0.533515</td>\n",
       "      <td>-0.402305</td>\n",
       "      <td>-0.096048</td>\n",
       "      <td>-0.224268</td>\n",
       "    </tr>\n",
       "    <tr>\n",
       "      <th>3</th>\n",
       "      <td>0.687130</td>\n",
       "      <td>0.439777</td>\n",
       "      <td>0.756677</td>\n",
       "      <td>-0.582478</td>\n",
       "      <td>0.268036</td>\n",
       "      <td>-0.268036</td>\n",
       "      <td>1.356185</td>\n",
       "      <td>-1.356185</td>\n",
       "      <td>0.995436</td>\n",
       "      <td>-0.995436</td>\n",
       "      <td>...</td>\n",
       "      <td>-0.091551</td>\n",
       "      <td>-0.246226</td>\n",
       "      <td>-0.867657</td>\n",
       "      <td>-0.382459</td>\n",
       "      <td>-0.531420</td>\n",
       "      <td>1.807912</td>\n",
       "      <td>-0.533515</td>\n",
       "      <td>-0.402305</td>\n",
       "      <td>-0.096048</td>\n",
       "      <td>-0.224268</td>\n",
       "    </tr>\n",
       "    <tr>\n",
       "      <th>4</th>\n",
       "      <td>1.985407</td>\n",
       "      <td>0.439777</td>\n",
       "      <td>0.535086</td>\n",
       "      <td>-0.582478</td>\n",
       "      <td>0.268036</td>\n",
       "      <td>-0.268036</td>\n",
       "      <td>1.356185</td>\n",
       "      <td>-1.356185</td>\n",
       "      <td>-1.004585</td>\n",
       "      <td>1.004585</td>\n",
       "      <td>...</td>\n",
       "      <td>-0.091551</td>\n",
       "      <td>-0.246226</td>\n",
       "      <td>-0.867657</td>\n",
       "      <td>2.614658</td>\n",
       "      <td>-0.531420</td>\n",
       "      <td>-0.553124</td>\n",
       "      <td>-0.533515</td>\n",
       "      <td>-0.402305</td>\n",
       "      <td>-0.096048</td>\n",
       "      <td>-0.224268</td>\n",
       "    </tr>\n",
       "    <tr>\n",
       "      <th>...</th>\n",
       "      <td>...</td>\n",
       "      <td>...</td>\n",
       "      <td>...</td>\n",
       "      <td>...</td>\n",
       "      <td>...</td>\n",
       "      <td>...</td>\n",
       "      <td>...</td>\n",
       "      <td>...</td>\n",
       "      <td>...</td>\n",
       "      <td>...</td>\n",
       "      <td>...</td>\n",
       "      <td>...</td>\n",
       "      <td>...</td>\n",
       "      <td>...</td>\n",
       "      <td>...</td>\n",
       "      <td>...</td>\n",
       "      <td>...</td>\n",
       "      <td>...</td>\n",
       "      <td>...</td>\n",
       "      <td>...</td>\n",
       "      <td>...</td>\n",
       "    </tr>\n",
       "    <tr>\n",
       "      <th>135103</th>\n",
       "      <td>0.578941</td>\n",
       "      <td>-2.568908</td>\n",
       "      <td>0.138068</td>\n",
       "      <td>-0.582478</td>\n",
       "      <td>0.268036</td>\n",
       "      <td>-0.268036</td>\n",
       "      <td>-0.737362</td>\n",
       "      <td>0.737362</td>\n",
       "      <td>-1.004585</td>\n",
       "      <td>1.004585</td>\n",
       "      <td>...</td>\n",
       "      <td>-0.091551</td>\n",
       "      <td>-0.246226</td>\n",
       "      <td>1.152530</td>\n",
       "      <td>-0.382459</td>\n",
       "      <td>-0.531420</td>\n",
       "      <td>-0.553124</td>\n",
       "      <td>1.874361</td>\n",
       "      <td>-0.402305</td>\n",
       "      <td>-0.096048</td>\n",
       "      <td>-0.224268</td>\n",
       "    </tr>\n",
       "    <tr>\n",
       "      <th>135104</th>\n",
       "      <td>1.390363</td>\n",
       "      <td>0.439777</td>\n",
       "      <td>0.027273</td>\n",
       "      <td>-0.582478</td>\n",
       "      <td>0.268036</td>\n",
       "      <td>-0.268036</td>\n",
       "      <td>1.356185</td>\n",
       "      <td>-1.356185</td>\n",
       "      <td>0.995436</td>\n",
       "      <td>-0.995436</td>\n",
       "      <td>...</td>\n",
       "      <td>-0.091551</td>\n",
       "      <td>-0.246226</td>\n",
       "      <td>1.152530</td>\n",
       "      <td>2.614658</td>\n",
       "      <td>-0.531420</td>\n",
       "      <td>-0.553124</td>\n",
       "      <td>-0.533515</td>\n",
       "      <td>-0.402305</td>\n",
       "      <td>-0.096048</td>\n",
       "      <td>-0.224268</td>\n",
       "    </tr>\n",
       "    <tr>\n",
       "      <th>135105</th>\n",
       "      <td>0.633036</td>\n",
       "      <td>-2.568908</td>\n",
       "      <td>-0.009659</td>\n",
       "      <td>-0.582478</td>\n",
       "      <td>0.268036</td>\n",
       "      <td>-0.268036</td>\n",
       "      <td>1.356185</td>\n",
       "      <td>-1.356185</td>\n",
       "      <td>-1.004585</td>\n",
       "      <td>1.004585</td>\n",
       "      <td>...</td>\n",
       "      <td>-0.091551</td>\n",
       "      <td>-0.246226</td>\n",
       "      <td>-0.867657</td>\n",
       "      <td>-0.382459</td>\n",
       "      <td>-0.531420</td>\n",
       "      <td>1.807912</td>\n",
       "      <td>-0.533515</td>\n",
       "      <td>-0.402305</td>\n",
       "      <td>-0.096048</td>\n",
       "      <td>-0.224268</td>\n",
       "    </tr>\n",
       "    <tr>\n",
       "      <th>135106</th>\n",
       "      <td>-0.719336</td>\n",
       "      <td>-2.568908</td>\n",
       "      <td>0.027273</td>\n",
       "      <td>-0.582478</td>\n",
       "      <td>0.268036</td>\n",
       "      <td>-0.268036</td>\n",
       "      <td>-0.737362</td>\n",
       "      <td>0.737362</td>\n",
       "      <td>-1.004585</td>\n",
       "      <td>1.004585</td>\n",
       "      <td>...</td>\n",
       "      <td>-0.091551</td>\n",
       "      <td>-0.246226</td>\n",
       "      <td>-0.867657</td>\n",
       "      <td>-0.382459</td>\n",
       "      <td>-0.531420</td>\n",
       "      <td>-0.553124</td>\n",
       "      <td>1.874361</td>\n",
       "      <td>-0.402305</td>\n",
       "      <td>-0.096048</td>\n",
       "      <td>-0.224268</td>\n",
       "    </tr>\n",
       "    <tr>\n",
       "      <th>135107</th>\n",
       "      <td>0.416656</td>\n",
       "      <td>-1.566013</td>\n",
       "      <td>0.045739</td>\n",
       "      <td>-0.582478</td>\n",
       "      <td>0.268036</td>\n",
       "      <td>-0.268036</td>\n",
       "      <td>1.356185</td>\n",
       "      <td>-1.356185</td>\n",
       "      <td>0.995436</td>\n",
       "      <td>-0.995436</td>\n",
       "      <td>...</td>\n",
       "      <td>-0.091551</td>\n",
       "      <td>-0.246226</td>\n",
       "      <td>-0.867657</td>\n",
       "      <td>-0.382459</td>\n",
       "      <td>-0.531420</td>\n",
       "      <td>1.807912</td>\n",
       "      <td>-0.533515</td>\n",
       "      <td>-0.402305</td>\n",
       "      <td>-0.096048</td>\n",
       "      <td>-0.224268</td>\n",
       "    </tr>\n",
       "  </tbody>\n",
       "</table>\n",
       "<p>135108 rows × 63 columns</p>\n",
       "</div>"
      ],
      "text/plain": [
       "        loan_amount      term    income    Status  loan_limit_cf  \\\n",
       "0         -1.152094  0.439777 -0.803694  1.716802       0.268036   \n",
       "1         -0.665241  0.439777 -0.305114  1.716802       0.268036   \n",
       "2          0.416656  0.439777  0.387358 -0.582478       0.268036   \n",
       "3          0.687130  0.439777  0.756677 -0.582478       0.268036   \n",
       "4          1.985407  0.439777  0.535086 -0.582478       0.268036   \n",
       "...             ...       ...       ...       ...            ...   \n",
       "135103     0.578941 -2.568908  0.138068 -0.582478       0.268036   \n",
       "135104     1.390363  0.439777  0.027273 -0.582478       0.268036   \n",
       "135105     0.633036 -2.568908 -0.009659 -0.582478       0.268036   \n",
       "135106    -0.719336 -2.568908  0.027273 -0.582478       0.268036   \n",
       "135107     0.416656 -1.566013  0.045739 -0.582478       0.268036   \n",
       "\n",
       "        loan_limit_ncf  submission_of_application_not_inst  \\\n",
       "0            -0.268036                           -0.737362   \n",
       "1            -0.268036                           -0.737362   \n",
       "2            -0.268036                           -0.737362   \n",
       "3            -0.268036                            1.356185   \n",
       "4            -0.268036                            1.356185   \n",
       "...                ...                                 ...   \n",
       "135103       -0.268036                           -0.737362   \n",
       "135104       -0.268036                            1.356185   \n",
       "135105       -0.268036                            1.356185   \n",
       "135106       -0.268036                           -0.737362   \n",
       "135107       -0.268036                            1.356185   \n",
       "\n",
       "        submission_of_application_to_inst  co-applicant_credit_type_CIB  \\\n",
       "0                                0.737362                      0.995436   \n",
       "1                                0.737362                     -1.004585   \n",
       "2                                0.737362                      0.995436   \n",
       "3                               -1.356185                      0.995436   \n",
       "4                               -1.356185                     -1.004585   \n",
       "...                                   ...                           ...   \n",
       "135103                           0.737362                     -1.004585   \n",
       "135104                          -1.356185                      0.995436   \n",
       "135105                          -1.356185                     -1.004585   \n",
       "135106                           0.737362                     -1.004585   \n",
       "135107                          -1.356185                      0.995436   \n",
       "\n",
       "        co-applicant_credit_type_EXP  ...  Region_North-East  Region_central  \\\n",
       "0                          -0.995436  ...          -0.091551       -0.246226   \n",
       "1                           1.004585  ...          -0.091551       -0.246226   \n",
       "2                          -0.995436  ...          -0.091551       -0.246226   \n",
       "3                          -0.995436  ...          -0.091551       -0.246226   \n",
       "4                           1.004585  ...          -0.091551       -0.246226   \n",
       "...                              ...  ...                ...             ...   \n",
       "135103                      1.004585  ...          -0.091551       -0.246226   \n",
       "135104                     -0.995436  ...          -0.091551       -0.246226   \n",
       "135105                      1.004585  ...          -0.091551       -0.246226   \n",
       "135106                      1.004585  ...          -0.091551       -0.246226   \n",
       "135107                     -0.995436  ...          -0.091551       -0.246226   \n",
       "\n",
       "        Region_south  age_25-34  age_35-44  age_45-54  age_55-64  age_65-74  \\\n",
       "0           1.152530   2.614658  -0.531420  -0.553124  -0.533515  -0.402305   \n",
       "1          -0.867657  -0.382459  -0.531420  -0.553124   1.874361  -0.402305   \n",
       "2           1.152530  -0.382459   1.881751  -0.553124  -0.533515  -0.402305   \n",
       "3          -0.867657  -0.382459  -0.531420   1.807912  -0.533515  -0.402305   \n",
       "4          -0.867657   2.614658  -0.531420  -0.553124  -0.533515  -0.402305   \n",
       "...              ...        ...        ...        ...        ...        ...   \n",
       "135103      1.152530  -0.382459  -0.531420  -0.553124   1.874361  -0.402305   \n",
       "135104      1.152530   2.614658  -0.531420  -0.553124  -0.533515  -0.402305   \n",
       "135105     -0.867657  -0.382459  -0.531420   1.807912  -0.533515  -0.402305   \n",
       "135106     -0.867657  -0.382459  -0.531420  -0.553124   1.874361  -0.402305   \n",
       "135107     -0.867657  -0.382459  -0.531420   1.807912  -0.533515  -0.402305   \n",
       "\n",
       "         age_<25   age_>74  \n",
       "0      -0.096048 -0.224268  \n",
       "1      -0.096048 -0.224268  \n",
       "2      -0.096048 -0.224268  \n",
       "3      -0.096048 -0.224268  \n",
       "4      -0.096048 -0.224268  \n",
       "...          ...       ...  \n",
       "135103 -0.096048 -0.224268  \n",
       "135104 -0.096048 -0.224268  \n",
       "135105 -0.096048 -0.224268  \n",
       "135106 -0.096048 -0.224268  \n",
       "135107 -0.096048 -0.224268  \n",
       "\n",
       "[135108 rows x 63 columns]"
      ]
     },
     "metadata": {},
     "output_type": "display_data"
    },
    {
     "data": {
      "application/javascript": [
       "\n",
       "            setTimeout(function() {\n",
       "                var nbb_cell_id = 19;\n",
       "                var nbb_unformatted_code = \"X_standardized = standardizeData(X)\\ndisplay(X_standardized)\";\n",
       "                var nbb_formatted_code = \"X_standardized = standardizeData(X)\\ndisplay(X_standardized)\";\n",
       "                var nbb_cells = Jupyter.notebook.get_cells();\n",
       "                for (var i = 0; i < nbb_cells.length; ++i) {\n",
       "                    if (nbb_cells[i].input_prompt_number == nbb_cell_id) {\n",
       "                        if (nbb_cells[i].get_text() == nbb_unformatted_code) {\n",
       "                             nbb_cells[i].set_text(nbb_formatted_code);\n",
       "                        }\n",
       "                        break;\n",
       "                    }\n",
       "                }\n",
       "            }, 500);\n",
       "            "
      ],
      "text/plain": [
       "<IPython.core.display.Javascript object>"
      ]
     },
     "metadata": {},
     "output_type": "display_data"
    }
   ],
   "source": [
    "X_standardized = standardizeData(X)\n",
    "display(X_standardized)"
   ]
  },
  {
   "cell_type": "code",
   "execution_count": 20,
   "id": "3e604e20",
   "metadata": {},
   "outputs": [
    {
     "data": {
      "text/plain": [
       "0     0.274256\n",
       "1     0.313668\n",
       "2     0.719076\n",
       "3    -0.326186\n",
       "4     0.167247\n",
       "        ...   \n",
       "58    1.000801\n",
       "59   -0.127906\n",
       "60    0.016308\n",
       "61   -0.504304\n",
       "62   -1.286748\n",
       "Length: 63, dtype: float64"
      ]
     },
     "metadata": {},
     "output_type": "display_data"
    },
    {
     "data": {
      "application/javascript": [
       "\n",
       "            setTimeout(function() {\n",
       "                var nbb_cell_id = 20;\n",
       "                var nbb_unformatted_code = \"# Start analysis with value of arbitrary value of lambda\\nfrom sklearn.model_selection import train_test_split\\n\\nXtrain, Xtest, Ytrain, Ytest = train_test_split(\\n    X_standardized, y, test_size=0.3, random_state=0\\n)\\n\\nn, m = Xtrain.shape\\nI = np.identity(m)\\nalpha = 1e5\\nbeta = sp.linalg.inv((Xtrain.T @ Xtrain) + alpha * I) @ Xtrain.T @ Ytrain\\ndisplay(beta)\";\n",
       "                var nbb_formatted_code = \"# Start analysis with value of arbitrary value of lambda\\nfrom sklearn.model_selection import train_test_split\\n\\nXtrain, Xtest, Ytrain, Ytest = train_test_split(\\n    X_standardized, y, test_size=0.3, random_state=0\\n)\\n\\nn, m = Xtrain.shape\\nI = np.identity(m)\\nalpha = 1e5\\nbeta = sp.linalg.inv((Xtrain.T @ Xtrain) + alpha * I) @ Xtrain.T @ Ytrain\\ndisplay(beta)\";\n",
       "                var nbb_cells = Jupyter.notebook.get_cells();\n",
       "                for (var i = 0; i < nbb_cells.length; ++i) {\n",
       "                    if (nbb_cells[i].input_prompt_number == nbb_cell_id) {\n",
       "                        if (nbb_cells[i].get_text() == nbb_unformatted_code) {\n",
       "                             nbb_cells[i].set_text(nbb_formatted_code);\n",
       "                        }\n",
       "                        break;\n",
       "                    }\n",
       "                }\n",
       "            }, 500);\n",
       "            "
      ],
      "text/plain": [
       "<IPython.core.display.Javascript object>"
      ]
     },
     "metadata": {},
     "output_type": "display_data"
    }
   ],
   "source": [
    "# Start analysis with value of arbitrary value of lambda\n",
    "from sklearn.model_selection import train_test_split\n",
    "\n",
    "Xtrain, Xtest, Ytrain, Ytest = train_test_split(\n",
    "    X_standardized, y, test_size=0.3, random_state=0\n",
    ")\n",
    "\n",
    "n, m = Xtrain.shape\n",
    "I = np.identity(m)\n",
    "alpha = 1e5\n",
    "beta = sp.linalg.inv((Xtrain.T @ Xtrain) + alpha * I) @ Xtrain.T @ Ytrain\n",
    "display(beta)"
   ]
  },
  {
   "cell_type": "code",
   "execution_count": 21,
   "id": "d4c7743d",
   "metadata": {},
   "outputs": [
    {
     "data": {
      "text/html": [
       "<div>\n",
       "<style scoped>\n",
       "    .dataframe tbody tr th:only-of-type {\n",
       "        vertical-align: middle;\n",
       "    }\n",
       "\n",
       "    .dataframe tbody tr th {\n",
       "        vertical-align: top;\n",
       "    }\n",
       "\n",
       "    .dataframe thead th {\n",
       "        text-align: right;\n",
       "    }\n",
       "</style>\n",
       "<table border=\"1\" class=\"dataframe\">\n",
       "  <thead>\n",
       "    <tr style=\"text-align: right;\">\n",
       "      <th></th>\n",
       "      <th>abs coef</th>\n",
       "      <th>coef</th>\n",
       "      <th>names</th>\n",
       "    </tr>\n",
       "  </thead>\n",
       "  <tbody>\n",
       "    <tr>\n",
       "      <th>62</th>\n",
       "      <td>1.286748</td>\n",
       "      <td>-1.286748</td>\n",
       "      <td>age_&gt;74</td>\n",
       "    </tr>\n",
       "    <tr>\n",
       "      <th>26</th>\n",
       "      <td>1.119538</td>\n",
       "      <td>1.119538</td>\n",
       "      <td>Credit_Worthiness_l1</td>\n",
       "    </tr>\n",
       "    <tr>\n",
       "      <th>27</th>\n",
       "      <td>1.119538</td>\n",
       "      <td>-1.119538</td>\n",
       "      <td>Credit_Worthiness_l2</td>\n",
       "    </tr>\n",
       "    <tr>\n",
       "      <th>42</th>\n",
       "      <td>1.039297</td>\n",
       "      <td>1.039297</td>\n",
       "      <td>total_units_3U</td>\n",
       "    </tr>\n",
       "    <tr>\n",
       "      <th>53</th>\n",
       "      <td>1.032275</td>\n",
       "      <td>-1.032275</td>\n",
       "      <td>Region_North-East</td>\n",
       "    </tr>\n",
       "    <tr>\n",
       "      <th>...</th>\n",
       "      <td>...</td>\n",
       "      <td>...</td>\n",
       "      <td>...</td>\n",
       "    </tr>\n",
       "    <tr>\n",
       "      <th>47</th>\n",
       "      <td>0.058877</td>\n",
       "      <td>-0.058877</td>\n",
       "      <td>credit_type_EXP</td>\n",
       "    </tr>\n",
       "    <tr>\n",
       "      <th>46</th>\n",
       "      <td>0.051041</td>\n",
       "      <td>0.051041</td>\n",
       "      <td>credit_type_EQUI</td>\n",
       "    </tr>\n",
       "    <tr>\n",
       "      <th>35</th>\n",
       "      <td>0.048333</td>\n",
       "      <td>0.048333</td>\n",
       "      <td>loan_type_type3</td>\n",
       "    </tr>\n",
       "    <tr>\n",
       "      <th>60</th>\n",
       "      <td>0.016308</td>\n",
       "      <td>0.016308</td>\n",
       "      <td>age_65-74</td>\n",
       "    </tr>\n",
       "    <tr>\n",
       "      <th>38</th>\n",
       "      <td>0.013137</td>\n",
       "      <td>0.013137</td>\n",
       "      <td>loan_purpose_p3</td>\n",
       "    </tr>\n",
       "  </tbody>\n",
       "</table>\n",
       "<p>63 rows × 3 columns</p>\n",
       "</div>"
      ],
      "text/plain": [
       "    abs coef      coef                 names\n",
       "62  1.286748 -1.286748               age_>74\n",
       "26  1.119538  1.119538  Credit_Worthiness_l1\n",
       "27  1.119538 -1.119538  Credit_Worthiness_l2\n",
       "42  1.039297  1.039297        total_units_3U\n",
       "53  1.032275 -1.032275     Region_North-East\n",
       "..       ...       ...                   ...\n",
       "47  0.058877 -0.058877       credit_type_EXP\n",
       "46  0.051041  0.051041      credit_type_EQUI\n",
       "35  0.048333  0.048333       loan_type_type3\n",
       "60  0.016308  0.016308             age_65-74\n",
       "38  0.013137  0.013137       loan_purpose_p3\n",
       "\n",
       "[63 rows x 3 columns]"
      ]
     },
     "metadata": {},
     "output_type": "display_data"
    },
    {
     "data": {
      "application/javascript": [
       "\n",
       "            setTimeout(function() {\n",
       "                var nbb_cell_id = 21;\n",
       "                var nbb_unformatted_code = \"variables = X.columns.tolist()\\nmodel_coef = pd.DataFrame({\\\"abs coef\\\": abs(beta), \\\"coef\\\": beta, \\\"names\\\": variables})\\ndisplay(\\n    model_coef[model_coef[\\\"abs coef\\\"] != 0].sort_values(by=\\\"abs coef\\\", ascending=False)\\n)\";\n",
       "                var nbb_formatted_code = \"variables = X.columns.tolist()\\nmodel_coef = pd.DataFrame({\\\"abs coef\\\": abs(beta), \\\"coef\\\": beta, \\\"names\\\": variables})\\ndisplay(\\n    model_coef[model_coef[\\\"abs coef\\\"] != 0].sort_values(by=\\\"abs coef\\\", ascending=False)\\n)\";\n",
       "                var nbb_cells = Jupyter.notebook.get_cells();\n",
       "                for (var i = 0; i < nbb_cells.length; ++i) {\n",
       "                    if (nbb_cells[i].input_prompt_number == nbb_cell_id) {\n",
       "                        if (nbb_cells[i].get_text() == nbb_unformatted_code) {\n",
       "                             nbb_cells[i].set_text(nbb_formatted_code);\n",
       "                        }\n",
       "                        break;\n",
       "                    }\n",
       "                }\n",
       "            }, 500);\n",
       "            "
      ],
      "text/plain": [
       "<IPython.core.display.Javascript object>"
      ]
     },
     "metadata": {},
     "output_type": "display_data"
    }
   ],
   "source": [
    "variables = X.columns.tolist()\n",
    "model_coef = pd.DataFrame({\"abs coef\": abs(beta), \"coef\": beta, \"names\": variables})\n",
    "display(\n",
    "    model_coef[model_coef[\"abs coef\"] != 0].sort_values(by=\"abs coef\", ascending=False)\n",
    ")"
   ]
  },
  {
   "cell_type": "code",
   "execution_count": 22,
   "id": "95037f3b",
   "metadata": {},
   "outputs": [
    {
     "data": {
      "text/plain": [
       "(-489000.0, 10489000.0, -2.5760496375597772, 2.125416508448633)"
      ]
     },
     "execution_count": 22,
     "metadata": {},
     "output_type": "execute_result"
    },
    {
     "data": {
      "image/png": "[encoded data removed]",
      "text/plain": [
       "<Figure size 432x288 with 1 Axes>"
      ]
     },
     "metadata": {
      "needs_background": "light"
     },
     "output_type": "display_data"
    },
    {
     "data": {
      "application/javascript": [
       "\n",
       "            setTimeout(function() {\n",
       "                var nbb_cell_id = 22;\n",
       "                var nbb_unformatted_code = \"from sklearn.linear_model import Ridge\\nimport scipy as sp\\n\\ncoef = []\\n# alphas = np.array(\\n#     [0.01, 0.5, 0.75, 0.9, 1, 10, 100, 1000, 10000, 100000, 1000000]\\n# )  # np.arange(0.2, 3, 0.2)\\nalphas = np.arange(1e4, 1e7, 1e4)\\n# print(alphas)\\nallData = pd.DataFrame({\\\"alphas\\\": alphas})\\n\\nfor a in alphas:\\n    # ridgereg = Ridge(alpha=a)\\n    # ridgereg.fit(Xtrain, Ytrain)\\n    #     print(a)\\n    beta = sp.linalg.inv((Xtrain.T @ Xtrain) + a * I) @ Xtrain.T @ Ytrain\\n    # coef.append(ridgereg.coef_)\\n    coef.append(beta)\\n    # print(coef)\\n    # print(beta)\\n\\n\\n## Make plot of Beta as a function of Alpha\\nfig = plt.figure()\\nax = fig.add_subplot(111)\\nax.plot(alphas, coef)\\nax.set_xlabel(\\\"Alpha (Regularization Parameter)\\\")\\nax.set_ylabel(\\\"Beta (Predictor Coefficients)\\\")\\nax.set_title(\\\"Ridge Coefficients vs Regularization Parameters\\\")\\nax.axis(\\\"tight\\\")\\n\\n\\n# import plotly.graph_objects as go\\n\\n# fig = go.Figure()\\n\\n# fig.add_Trace(go.Scatter(x))\";\n",
       "                var nbb_formatted_code = \"from sklearn.linear_model import Ridge\\nimport scipy as sp\\n\\ncoef = []\\n# alphas = np.array(\\n#     [0.01, 0.5, 0.75, 0.9, 1, 10, 100, 1000, 10000, 100000, 1000000]\\n# )  # np.arange(0.2, 3, 0.2)\\nalphas = np.arange(1e4, 1e7, 1e4)\\n# print(alphas)\\nallData = pd.DataFrame({\\\"alphas\\\": alphas})\\n\\nfor a in alphas:\\n    # ridgereg = Ridge(alpha=a)\\n    # ridgereg.fit(Xtrain, Ytrain)\\n    #     print(a)\\n    beta = sp.linalg.inv((Xtrain.T @ Xtrain) + a * I) @ Xtrain.T @ Ytrain\\n    # coef.append(ridgereg.coef_)\\n    coef.append(beta)\\n    # print(coef)\\n    # print(beta)\\n\\n\\n## Make plot of Beta as a function of Alpha\\nfig = plt.figure()\\nax = fig.add_subplot(111)\\nax.plot(alphas, coef)\\nax.set_xlabel(\\\"Alpha (Regularization Parameter)\\\")\\nax.set_ylabel(\\\"Beta (Predictor Coefficients)\\\")\\nax.set_title(\\\"Ridge Coefficients vs Regularization Parameters\\\")\\nax.axis(\\\"tight\\\")\\n\\n\\n# import plotly.graph_objects as go\\n\\n# fig = go.Figure()\\n\\n# fig.add_Trace(go.Scatter(x))\";\n",
       "                var nbb_cells = Jupyter.notebook.get_cells();\n",
       "                for (var i = 0; i < nbb_cells.length; ++i) {\n",
       "                    if (nbb_cells[i].input_prompt_number == nbb_cell_id) {\n",
       "                        if (nbb_cells[i].get_text() == nbb_unformatted_code) {\n",
       "                             nbb_cells[i].set_text(nbb_formatted_code);\n",
       "                        }\n",
       "                        break;\n",
       "                    }\n",
       "                }\n",
       "            }, 500);\n",
       "            "
      ],
      "text/plain": [
       "<IPython.core.display.Javascript object>"
      ]
     },
     "metadata": {},
     "output_type": "display_data"
    }
   ],
   "source": [
    "from sklearn.linear_model import Ridge\n",
    "import scipy as sp\n",
    "\n",
    "coef = []\n",
    "# alphas = np.array(\n",
    "#     [0.01, 0.5, 0.75, 0.9, 1, 10, 100, 1000, 10000, 100000, 1000000]\n",
    "# )  # np.arange(0.2, 3, 0.2)\n",
    "alphas = np.arange(1e4, 1e7, 1e4)\n",
    "# print(alphas)\n",
    "allData = pd.DataFrame({\"alphas\": alphas})\n",
    "\n",
    "for a in alphas:\n",
    "    # ridgereg = Ridge(alpha=a)\n",
    "    # ridgereg.fit(Xtrain, Ytrain)\n",
    "    #     print(a)\n",
    "    beta = sp.linalg.inv((Xtrain.T @ Xtrain) + a * I) @ Xtrain.T @ Ytrain\n",
    "    # coef.append(ridgereg.coef_)\n",
    "    coef.append(beta)\n",
    "    # print(coef)\n",
    "    # print(beta)\n",
    "\n",
    "\n",
    "## Make plot of Beta as a function of Alpha\n",
    "fig = plt.figure()\n",
    "ax = fig.add_subplot(111)\n",
    "ax.plot(alphas, coef)\n",
    "ax.set_xlabel(\"Alpha (Regularization Parameter)\")\n",
    "ax.set_ylabel(\"Beta (Predictor Coefficients)\")\n",
    "ax.set_title(\"Ridge Coefficients vs Regularization Parameters\")\n",
    "ax.axis(\"tight\")\n",
    "\n",
    "\n",
    "# import plotly.graph_objects as go\n",
    "\n",
    "# fig = go.Figure()\n",
    "\n",
    "# fig.add_Trace(go.Scatter(x))"
   ]
  },
  {
   "cell_type": "code",
   "execution_count": 23,
   "id": "14ae006d",
   "metadata": {},
   "outputs": [
    {
     "name": "stdout",
     "output_type": "stream",
     "text": [
      "--- 324.06771516799927 seconds ---\n"
     ]
    },
    {
     "data": {
      "application/javascript": [
       "\n",
       "            setTimeout(function() {\n",
       "                var nbb_cell_id = 23;\n",
       "                var nbb_unformatted_code = \"# K Fold CV\\nfrom sklearn.metrics import *\\n\\nstart = time.time()\\n\\n\\ndef KfoldCV(X, Y, alphas, k):\\n    masterList = np.array([])  # what we return\\n    MSElist = np.array([])\\n    for l2 in alphas:\\n        for i in range(k):\\n            Xtrain, Xtest, Ytrain, Ytest = train_test_split(X, Y, test_size=0.3,)\\n\\n            n, m = Xtrain.shape\\n            I = np.identity(m)\\n            # Beta vector\\n            beta = sp.linalg.inv((Xtrain.T @ Xtrain) + l2 * I) @ Xtrain.T @ Ytrain\\n\\n            Ypred = Xtest @ beta\\n            MSE = mean_squared_error(Ytest, Ypred)\\n\\n            MSElist = np.append(MSElist, MSE)\\n\\n        masterList = np.append(masterList, np.mean(MSElist))\\n\\n    return masterList\\n\\n\\nlistMSE = KfoldCV(X_standardized.to_numpy(), y, alphas, 4)\\nprint(\\\"--- %s seconds ---\\\" % (time.time() - start))\";\n",
       "                var nbb_formatted_code = \"# K Fold CV\\nfrom sklearn.metrics import *\\n\\nstart = time.time()\\n\\n\\ndef KfoldCV(X, Y, alphas, k):\\n    masterList = np.array([])  # what we return\\n    MSElist = np.array([])\\n    for l2 in alphas:\\n        for i in range(k):\\n            Xtrain, Xtest, Ytrain, Ytest = train_test_split(X, Y, test_size=0.3,)\\n\\n            n, m = Xtrain.shape\\n            I = np.identity(m)\\n            # Beta vector\\n            beta = sp.linalg.inv((Xtrain.T @ Xtrain) + l2 * I) @ Xtrain.T @ Ytrain\\n\\n            Ypred = Xtest @ beta\\n            MSE = mean_squared_error(Ytest, Ypred)\\n\\n            MSElist = np.append(MSElist, MSE)\\n\\n        masterList = np.append(masterList, np.mean(MSElist))\\n\\n    return masterList\\n\\n\\nlistMSE = KfoldCV(X_standardized.to_numpy(), y, alphas, 4)\\nprint(\\\"--- %s seconds ---\\\" % (time.time() - start))\";\n",
       "                var nbb_cells = Jupyter.notebook.get_cells();\n",
       "                for (var i = 0; i < nbb_cells.length; ++i) {\n",
       "                    if (nbb_cells[i].input_prompt_number == nbb_cell_id) {\n",
       "                        if (nbb_cells[i].get_text() == nbb_unformatted_code) {\n",
       "                             nbb_cells[i].set_text(nbb_formatted_code);\n",
       "                        }\n",
       "                        break;\n",
       "                    }\n",
       "                }\n",
       "            }, 500);\n",
       "            "
      ],
      "text/plain": [
       "<IPython.core.display.Javascript object>"
      ]
     },
     "metadata": {},
     "output_type": "display_data"
    }
   ],
   "source": [
    "# K Fold CV\n",
    "from sklearn.metrics import *\n",
    "\n",
    "start = time.time()\n",
    "\n",
    "\n",
    "def KfoldCV(X, Y, alphas, k):\n",
    "    masterList = np.array([])  # what we return\n",
    "    MSElist = np.array([])\n",
    "    for l2 in alphas:\n",
    "        for i in range(k):\n",
    "            Xtrain, Xtest, Ytrain, Ytest = train_test_split(X, Y, test_size=0.3,)\n",
    "\n",
    "            n, m = Xtrain.shape\n",
    "            I = np.identity(m)\n",
    "            # Beta vector\n",
    "            beta = sp.linalg.inv((Xtrain.T @ Xtrain) + l2 * I) @ Xtrain.T @ Ytrain\n",
    "\n",
    "            Ypred = Xtest @ beta\n",
    "            MSE = mean_squared_error(Ytest, Ypred)\n",
    "\n",
    "            MSElist = np.append(MSElist, MSE)\n",
    "\n",
    "        masterList = np.append(masterList, np.mean(MSElist))\n",
    "\n",
    "    return masterList\n",
    "\n",
    "\n",
    "listMSE = KfoldCV(X_standardized.to_numpy(), y, alphas, 4)\n",
    "print(\"--- %s seconds ---\" % (time.time() - start))"
   ]
  },
  {
   "cell_type": "code",
   "execution_count": 24,
   "id": "21ccc39c",
   "metadata": {},
   "outputs": [
    {
     "data": {
      "application/vnd.plotly.v1+json": {
       "config": {
        "plotlyServerURL": "https://plot.ly"
       },
       "data": [
        {
         "hovertemplate": "Ridge Parameter=%{x}<br>Mean Squared Error=%{y}<extra></extra>",
         "legendgroup": "",
         "marker": {
          "color": "#636efa",
          "symbol": "circle"
         },
         "mode": "markers",
         "name": "",
         "orientation": "v",
         "showlegend": false,
         "type": "scatter",
         "x": [
          10000,
          20000,
          30000,
          40000,
          50000,
          60000,
          70000,
          80000,
          90000,
          100000,
          110000,
          120000,
          130000,
          140000,
          150000,
          160000,
          170000,
          180000,
          190000,
          200000,
          210000,
          220000,
          230000,
          240000,
          250000,
          260000,
          270000,
          280000,
          290000,
          300000,
          310000,
          320000,
          330000,
          340000,
          350000,
          360000,
          370000,
          380000,
          390000,
          400000,
          410000,
          420000,
          430000,
          440000,
          450000,
          460000,
          470000,
          480000,
          490000,
          500000,
          510000,
          520000,
          530000,
          540000,
          550000,
          560000,
          570000,
          580000,
          590000,
          600000,
          610000,
          620000,
          630000,
          640000,
          650000,
          660000,
          670000,
          680000,
          690000,
          700000,
          710000,
          720000,
          730000,
          740000,
          750000,
          760000,
          770000,
          780000,
          790000,
          800000,
          810000,
          820000,
          830000,
          840000,
          850000,
          860000,
          870000,
          880000,
          890000,
          900000,
          910000,
          920000,
          930000,
          940000,
          950000,
          960000,
          970000,
          980000,
          990000,
          1000000,
          1010000,
          1020000,
          1030000,
          1040000,
          1050000,
          1060000,
          1070000,
          1080000,
          1090000,
          1100000,
          1110000,
          1120000,
          1130000,
          1140000,
          1150000,
          1160000,
          1170000,
          1180000,
          1190000,
          1200000,
          1210000,
          1220000,
          1230000,
          1240000,
          1250000,
          1260000,
          1270000,
          1280000,
          1290000,
          1300000,
          1310000,
          1320000,
          1330000,
          1340000,
          1350000,
          1360000,
          1370000,
          1380000,
          1390000,
          1400000,
          1410000,
          1420000,
          1430000,
          1440000,
          1450000,
          1460000,
          1470000,
          1480000,
          1490000,
          1500000,
          1510000,
          1520000,
          1530000,
          1540000,
          1550000,
          1560000,
          1570000,
          1580000,
          1590000,
          1600000,
          1610000,
          1620000,
          1630000,
          1640000,
          1650000,
          1660000,
          1670000,
          1680000,
          1690000,
          1700000,
          1710000,
          1720000,
          1730000,
          1740000,
          1750000,
          1760000,
          1770000,
          1780000,
          1790000,
          1800000,
          1810000,
          1820000,
          1830000,
          1840000,
          1850000,
          1860000,
          1870000,
          1880000,
          1890000,
          1900000,
          1910000,
          1920000,
          1930000,
          1940000,
          1950000,
          1960000,
          1970000,
          1980000,
          1990000,
          2000000,
          2010000,
          2020000,
          2030000,
          2040000,
          2050000,
          2060000,
          2070000,
          2080000,
          2090000,
          2100000,
          2110000,
          2120000,
          2130000,
          2140000,
          2150000,
          2160000,
          2170000,
          2180000,
          2190000,
          2200000,
          2210000,
          2220000,
          2230000,
          2240000,
          2250000,
          2260000,
          2270000,
          2280000,
          2290000,
          2300000,
          2310000,
          2320000,
          2330000,
          2340000,
          2350000,
          2360000,
          2370000,
          2380000,
          2390000,
          2400000,
          2410000,
          2420000,
          2430000,
          2440000,
          2450000,
          2460000,
          2470000,
          2480000,
          2490000,
          2500000,
          2510000,
          2520000,
          2530000,
          2540000,
          2550000,
          2560000,
          2570000,
          2580000,
          2590000,
          2600000,
          2610000,
          2620000,
          2630000,
          2640000,
          2650000,
          2660000,
          2670000,
          2680000,
          2690000,
          2700000,
          2710000,
          2720000,
          2730000,
          2740000,
          2750000,
          2760000,
          2770000,
          2780000,
          2790000,
          2800000,
          2810000,
          2820000,
          2830000,
          2840000,
          2850000,
          2860000,
          2870000,
          2880000,
          2890000,
          2900000,
          2910000,
          2920000,
          2930000,
          2940000,
          2950000,
          2960000,
          2970000,
          2980000,
          2990000,
          3000000,
          3010000,
          3020000,
          3030000,
          3040000,
          3050000,
          3060000,
          3070000,
          3080000,
          3090000,
          3100000,
          3110000,
          3120000,
          3130000,
          3140000,
          3150000,
          3160000,
          3170000,
          3180000,
          3190000,
          3200000,
          3210000,
          3220000,
          3230000,
          3240000,
          3250000,
          3260000,
          3270000,
          3280000,
          3290000,
          3300000,
          3310000,
          3320000,
          3330000,
          3340000,
          3350000,
          3360000,
          3370000,
          3380000,
          3390000,
          3400000,
          3410000,
          3420000,
          3430000,
          3440000,
          3450000,
          3460000,
          3470000,
          3480000,
          3490000,
          3500000,
          3510000,
          3520000,
          3530000,
          3540000,
          3550000,
          3560000,
          3570000,
          3580000,
          3590000,
          3600000,
          3610000,
          3620000,
          3630000,
          3640000,
          3650000,
          3660000,
          3670000,
          3680000,
          3690000,
          3700000,
          3710000,
          3720000,
          3730000,
          3740000,
          3750000,
          3760000,
          3770000,
          3780000,
          3790000,
          3800000,
          3810000,
          3820000,
          3830000,
          3840000,
          3850000,
          3860000,
          3870000,
          3880000,
          3890000,
          3900000,
          3910000,
          3920000,
          3930000,
          3940000,
          3950000,
          3960000,
          3970000,
          3980000,
          3990000,
          4000000,
          4010000,
          4020000,
          4030000,
          4040000,
          4050000,
          4060000,
          4070000,
          4080000,
          4090000,
          4100000,
          4110000,
          4120000,
          4130000,
          4140000,
          4150000,
          4160000,
          4170000,
          4180000,
          4190000,
          4200000,
          4210000,
          4220000,
          4230000,
          4240000,
          4250000,
          4260000,
          4270000,
          4280000,
          4290000,
          4300000,
          4310000,
          4320000,
          4330000,
          4340000,
          4350000,
          4360000,
          4370000,
          4380000,
          4390000,
          4400000,
          4410000,
          4420000,
          4430000,
          4440000,
          4450000,
          4460000,
          4470000,
          4480000,
          4490000,
          4500000,
          4510000,
          4520000,
          4530000,
          4540000,
          4550000,
          4560000,
          4570000,
          4580000,
          4590000,
          4600000,
          4610000,
          4620000,
          4630000,
          4640000,
          4650000,
          4660000,
          4670000,
          4680000,
          4690000,
          4700000,
          4710000,
          4720000,
          4730000,
          4740000,
          4750000,
          4760000,
          4770000,
          4780000,
          4790000,
          4800000,
          4810000,
          4820000,
          4830000,
          4840000,
          4850000,
          4860000,
          4870000,
          4880000,
          4890000,
          4900000,
          4910000,
          4920000,
          4930000,
          4940000,
          4950000,
          4960000,
          4970000,
          4980000,
          4990000,
          5000000,
          5010000,
          5020000,
          5030000,
          5040000,
          5050000,
          5060000,
          5070000,
          5080000,
          5090000,
          5100000,
          5110000,
          5120000,
          5130000,
          5140000,
          5150000,
          5160000,
          5170000,
          5180000,
          5190000,
          5200000,
          5210000,
          5220000,
          5230000,
          5240000,
          5250000,
          5260000,
          5270000,
          5280000,
          5290000,
          5300000,
          5310000,
          5320000,
          5330000,
          5340000,
          5350000,
          5360000,
          5370000,
          5380000,
          5390000,
          5400000,
          5410000,
          5420000,
          5430000,
          5440000,
          5450000,
          5460000,
          5470000,
          5480000,
          5490000,
          5500000,
          5510000,
          5520000,
          5530000,
          5540000,
          5550000,
          5560000,
          5570000,
          5580000,
          5590000,
          5600000,
          5610000,
          5620000,
          5630000,
          5640000,
          5650000,
          5660000,
          5670000,
          5680000,
          5690000,
          5700000,
          5710000,
          5720000,
          5730000,
          5740000,
          5750000,
          5760000,
          5770000,
          5780000,
          5790000,
          5800000,
          5810000,
          5820000,
          5830000,
          5840000,
          5850000,
          5860000,
          5870000,
          5880000,
          5890000,
          5900000,
          5910000,
          5920000,
          5930000,
          5940000,
          5950000,
          5960000,
          5970000,
          5980000,
          5990000,
          6000000,
          6010000,
          6020000,
          6030000,
          6040000,
          6050000,
          6060000,
          6070000,
          6080000,
          6090000,
          6100000,
          6110000,
          6120000,
          6130000,
          6140000,
          6150000,
          6160000,
          6170000,
          6180000,
          6190000,
          6200000,
          6210000,
          6220000,
          6230000,
          6240000,
          6250000,
          6260000,
          6270000,
          6280000,
          6290000,
          6300000,
          6310000,
          6320000,
          6330000,
          6340000,
          6350000,
          6360000,
          6370000,
          6380000,
          6390000,
          6400000,
          6410000,
          6420000,
          6430000,
          6440000,
          6450000,
          6460000,
          6470000,
          6480000,
          6490000,
          6500000,
          6510000,
          6520000,
          6530000,
          6540000,
          6550000,
          6560000,
          6570000,
          6580000,
          6590000,
          6600000,
          6610000,
          6620000,
          6630000,
          6640000,
          6650000,
          6660000,
          6670000,
          6680000,
          6690000,
          6700000,
          6710000,
          6720000,
          6730000,
          6740000,
          6750000,
          6760000,
          6770000,
          6780000,
          6790000,
          6800000,
          6810000,
          6820000,
          6830000,
          6840000,
          6850000,
          6860000,
          6870000,
          6880000,
          6890000,
          6900000,
          6910000,
          6920000,
          6930000,
          6940000,
          6950000,
          6960000,
          6970000,
          6980000,
          6990000,
          7000000,
          7010000,
          7020000,
          7030000,
          7040000,
          7050000,
          7060000,
          7070000,
          7080000,
          7090000,
          7100000,
          7110000,
          7120000,
          7130000,
          7140000,
          7150000,
          7160000,
          7170000,
          7180000,
          7190000,
          7200000,
          7210000,
          7220000,
          7230000,
          7240000,
          7250000,
          7260000,
          7270000,
          7280000,
          7290000,
          7300000,
          7310000,
          7320000,
          7330000,
          7340000,
          7350000,
          7360000,
          7370000,
          7380000,
          7390000,
          7400000,
          7410000,
          7420000,
          7430000,
          7440000,
          7450000,
          7460000,
          7470000,
          7480000,
          7490000,
          7500000,
          7510000,
          7520000,
          7530000,
          7540000,
          7550000,
          7560000,
          7570000,
          7580000,
          7590000,
          7600000,
          7610000,
          7620000,
          7630000,
          7640000,
          7650000,
          7660000,
          7670000,
          7680000,
          7690000,
          7700000,
          7710000,
          7720000,
          7730000,
          7740000,
          7750000,
          7760000,
          7770000,
          7780000,
          7790000,
          7800000,
          7810000,
          7820000,
          7830000,
          7840000,
          7850000,
          7860000,
          7870000,
          7880000,
          7890000,
          7900000,
          7910000,
          7920000,
          7930000,
          7940000,
          7950000,
          7960000,
          7970000,
          7980000,
          7990000,
          8000000,
          8010000,
          8020000,
          8030000,
          8040000,
          8050000,
          8060000,
          8070000,
          8080000,
          8090000,
          8100000,
          8110000,
          8120000,
          8130000,
          8140000,
          8150000,
          8160000,
          8170000,
          8180000,
          8190000,
          8200000,
          8210000,
          8220000,
          8230000,
          8240000,
          8250000,
          8260000,
          8270000,
          8280000,
          8290000,
          8300000,
          8310000,
          8320000,
          8330000,
          8340000,
          8350000,
          8360000,
          8370000,
          8380000,
          8390000,
          8400000,
          8410000,
          8420000,
          8430000,
          8440000,
          8450000,
          8460000,
          8470000,
          8480000,
          8490000,
          8500000,
          8510000,
          8520000,
          8530000,
          8540000,
          8550000,
          8560000,
          8570000,
          8580000,
          8590000,
          8600000,
          8610000,
          8620000,
          8630000,
          8640000,
          8650000,
          8660000,
          8670000,
          8680000,
          8690000,
          8700000,
          8710000,
          8720000,
          8730000,
          8740000,
          8750000,
          8760000,
          8770000,
          8780000,
          8790000,
          8800000,
          8810000,
          8820000,
          8830000,
          8840000,
          8850000,
          8860000,
          8870000,
          8880000,
          8890000,
          8900000,
          8910000,
          8920000,
          8930000,
          8940000,
          8950000,
          8960000,
          8970000,
          8980000,
          8990000,
          9000000,
          9010000,
          9020000,
          9030000,
          9040000,
          9050000,
          9060000,
          9070000,
          9080000,
          9090000,
          9100000,
          9110000,
          9120000,
          9130000,
          9140000,
          9150000,
          9160000,
          9170000,
          9180000,
          9190000,
          9200000,
          9210000,
          9220000,
          9230000,
          9240000,
          9250000,
          9260000,
          9270000,
          9280000,
          9290000,
          9300000,
          9310000,
          9320000,
          9330000,
          9340000,
          9350000,
          9360000,
          9370000,
          9380000,
          9390000,
          9400000,
          9410000,
          9420000,
          9430000,
          9440000,
          9450000,
          9460000,
          9470000,
          9480000,
          9490000,
          9500000,
          9510000,
          9520000,
          9530000,
          9540000,
          9550000,
          9560000,
          9570000,
          9580000,
          9590000,
          9600000,
          9610000,
          9620000,
          9630000,
          9640000,
          9650000,
          9660000,
          9670000,
          9680000,
          9690000,
          9700000,
          9710000,
          9720000,
          9730000,
          9740000,
          9750000,
          9760000,
          9770000,
          9780000,
          9790000,
          9800000,
          9810000,
          9820000,
          9830000,
          9840000,
          9850000,
          9860000,
          9870000,
          9880000,
          9890000,
          9900000,
          9910000,
          9920000,
          9930000,
          9940000,
          9950000,
          9960000,
          9970000,
          9980000,
          9990000
         ],
         "xaxis": "x",
         "y": [
          503358.61104767595,
          503397.8242953278,
          503480.2473928738,
          503539.2266311192,
          503502.9864260789,
          503500.9988813516,
          503504.1663924965,
          503509.6810013595,
          503511.2106499049,
          503453.92785028147,
          503426.39251456334,
          503427.799878022,
          503460.6493528033,
          503403.71767170896,
          503396.1649271513,
          503374.91328791116,
          503394.32853383065,
          503399.6744031862,
          503371.14562039805,
          503370.7449928522,
          503388.9615145676,
          503385.26291263284,
          503394.26853221486,
          503390.889702898,
          503362.15284769534,
          503341.234582436,
          503342.79949356813,
          503327.1814620729,
          503319.0573947164,
          503318.7091835406,
          503320.3346150205,
          503298.7055682459,
          503278.5554794144,
          503286.08236643823,
          503269.0370393006,
          503270.6840230547,
          503277.26380725537,
          503275.6311210493,
          503301.6231318413,
          503306.2813439369,
          503318.2553846373,
          503321.88375966944,
          503304.1779602222,
          503305.25533231196,
          503313.9070968783,
          503307.21903203963,
          503285.25826917676,
          503277.2352234257,
          503273.6665919194,
          503265.6687630306,
          503265.1684558495,
          503270.19913141127,
          503258.45686593285,
          503251.08774233446,
          503242.670827902,
          503247.73440245766,
          503246.75143510377,
          503250.08602112666,
          503241.11064762424,
          503239.7584124908,
          503247.8704336721,
          503248.2310352557,
          503249.05360950826,
          503243.1852090523,
          503236.5366606517,
          503230.28816177504,
          503235.8121186078,
          503230.5454110606,
          503232.8602342433,
          503234.7324015332,
          503224.649343369,
          503226.80980680283,
          503221.4913025535,
          503217.5915186095,
          503214.2764535892,
          503212.3541918311,
          503215.03332988103,
          503208.1302711712,
          503202.75171433936,
          503204.4494567277,
          503203.7043626623,
          503206.2311527562,
          503204.53202668345,
          503202.32166232774,
          503206.9660994459,
          503211.1263015426,
          503204.2014985523,
          503199.4435479181,
          503197.8468396517,
          503193.5099032882,
          503190.41763974505,
          503192.53586444986,
          503187.1712317712,
          503181.3167073884,
          503182.3908649385,
          503183.901631526,
          503179.0363340274,
          503176.92315865506,
          503179.5442548522,
          503180.93364771426,
          503185.8463722373,
          503184.2717901946,
          503182.2909018305,
          503179.0761850536,
          503175.03481535515,
          503177.9771365436,
          503182.8550989114,
          503184.01009698625,
          503191.21268555056,
          503196.8913601837,
          503195.464009121,
          503192.2822176791,
          503195.34591763286,
          503193.44163446216,
          503193.5293616673,
          503188.31453583785,
          503188.46598880156,
          503190.9329974581,
          503193.6776425003,
          503199.89844437107,
          503198.15103177517,
          503199.8170330716,
          503199.2184017578,
          503201.6411927893,
          503201.8019865978,
          503202.8691447178,
          503204.91135238425,
          503206.0508419422,
          503206.7974250126,
          503208.03793923144,
          503210.11601395183,
          503207.264974039,
          503210.0835009797,
          503208.5175136036,
          503207.350465167,
          503209.01176452043,
          503206.3631460012,
          503206.1755250324,
          503206.60609850864,
          503206.96097611124,
          503204.1100240745,
          503205.2717644921,
          503203.7344012496,
          503203.6120231781,
          503204.49841781124,
          503205.5579041485,
          503207.8024571862,
          503209.0571664609,
          503209.9514425847,
          503210.7272487735,
          503211.4024931827,
          503211.0058848093,
          503211.30120816303,
          503210.02642074844,
          503208.3737661533,
          503209.724875492,
          503206.6372911957,
          503205.5618299246,
          503203.6101247552,
          503203.55320753437,
          503203.1221490357,
          503203.1800350539,
          503204.9071256562,
          503205.4583763851,
          503209.46706899017,
          503210.6073970116,
          503208.96616288455,
          503208.4934824758,
          503206.09199155966,
          503205.9383837071,
          503202.6239365792,
          503202.52727071714,
          503201.26834801363,
          503201.73890135286,
          503198.52069591737,
          503198.7136042934,
          503199.7454615858,
          503199.12895668304,
          503196.23389425693,
          503196.26043320424,
          503196.4384583757,
          503195.5032245232,
          503194.73341635853,
          503192.3062566671,
          503189.06862095045,
          503189.1555386513,
          503189.7322306261,
          503189.64507359324,
          503186.5561277122,
          503185.77409171715,
          503186.8697101644,
          503187.526185853,
          503190.0284894847,
          503188.20981144585,
          503187.66244623536,
          503187.50539162615,
          503189.5562793266,
          503190.33244714397,
          503190.9713990562,
          503187.45642889885,
          503187.23111887305,
          503188.019143235,
          503184.48063189926,
          503183.1613555586,
          503183.95052084466,
          503182.8763640552,
          503183.7514624101,
          503183.1779095095,
          503182.77742411033,
          503181.7356388994,
          503178.3386059673,
          503176.2084620039,
          503175.62890695984,
          503173.68095024745,
          503173.57646932424,
          503172.7221898377,
          503170.57760931324,
          503169.19909274345,
          503167.24339482596,
          503166.77276002185,
          503166.387041254,
          503165.2269961388,
          503164.9093044365,
          503161.3272654973,
          503162.1657685423,
          503162.78106927394,
          503164.8154240665,
          503164.16433940805,
          503163.1271553188,
          503163.8594045452,
          503163.25752736884,
          503162.67498764244,
          503162.51690885605,
          503161.6572137098,
          503161.6209931361,
          503161.5570763896,
          503162.0360952613,
          503162.7633413225,
          503161.324167552,
          503161.3296992542,
          503164.3699925601,
          503166.06429421174,
          503168.5809376317,
          503166.5453344678,
          503166.5970939973,
          503165.5705299652,
          503165.90625544597,
          503166.15493345226,
          503164.8655794585,
          503162.5132112268,
          503161.73647819756,
          503160.1953848377,
          503159.67149199115,
          503158.97486083716,
          503156.45447901316,
          503157.2407984845,
          503156.9781763718,
          503155.54498684464,
          503154.58895825833,
          503155.64739764424,
          503154.4002199558,
          503156.2675227138,
          503157.58491289226,
          503155.3657154496,
          503154.9260562545,
          503157.3493273727,
          503157.3861003679,
          503157.1781186989,
          503157.32277180435,
          503157.7314263327,
          503156.61850091186,
          503154.99741540244,
          503154.33434504305,
          503156.5167322981,
          503154.11140763795,
          503154.74477056466,
          503152.85732076445,
          503153.1492198472,
          503151.5972283207,
          503151.23956574604,
          503150.76009462494,
          503151.3245594583,
          503151.8069217123,
          503151.38227935944,
          503151.93281038833,
          503153.52490511414,
          503154.2645850188,
          503154.0339947513,
          503152.7358911846,
          503152.6200378761,
          503151.46300030634,
          503149.39879595884,
          503148.81217784464,
          503148.5563103879,
          503148.77763768286,
          503148.0893926127,
          503147.8481096416,
          503145.2890778956,
          503144.97735756077,
          503145.0284616458,
          503143.73062039225,
          503143.6845363153,
          503144.26580078964,
          503143.6232975386,
          503142.3033011407,
          503141.0228896673,
          503140.7606992463,
          503140.6138263821,
          503142.3945412947,
          503140.4760538407,
          503141.0802278111,
          503141.77689077466,
          503140.08621646994,
          503139.1628683307,
          503138.3506830032,
          503137.80165191845,
          503137.99900934496,
          503137.86261106463,
          503137.7429277725,
          503138.4677855582,
          503137.3900411973,
          503136.60062352574,
          503134.21038359345,
          503133.86440577195,
          503133.57198561437,
          503134.3902245951,
          503134.3292431709,
          503134.1509963656,
          503134.1414718423,
          503134.14668957086,
          503134.7300802239,
          503134.83226263453,
          503134.0657167566,
          503134.625594304,
          503136.30663667293,
          503135.3438815498,
          503135.422909317,
          503134.1346178377,
          503135.2985745632,
          503135.8443929311,
          503137.85961231083,
          503139.3800760964,
          503139.84881908755,
          503140.9631303925,
          503142.3836591221,
          503141.93668566324,
          503142.23132648197,
          503143.5851853648,
          503142.027198115,
          503140.8860387179,
          503141.15281184955,
          503139.993991991,
          503139.9409707999,
          503139.17066718225,
          503139.4870105873,
          503139.89698147704,
          503139.2008779458,
          503140.0978673337,
          503140.69803604926,
          503140.04626599187,
          503138.4976881748,
          503138.33945437113,
          503140.5705937251,
          503140.00480720587,
          503141.02958796825,
          503140.52280174365,
          503139.06324076577,
          503140.12071046344,
          503140.1597105196,
          503140.9447672011,
          503141.0933690672,
          503140.2039039228,
          503138.6051016732,
          503140.5661900084,
          503142.332502677,
          503143.293728317,
          503144.22115377296,
          503144.08368697856,
          503144.35995571344,
          503143.0516335136,
          503143.8282091824,
          503142.1940367906,
          503142.0894820321,
          503141.38514893904,
          503140.815518003,
          503141.14655316353,
          503140.2096573989,
          503140.1982960073,
          503141.86087419355,
          503140.8569469635,
          503140.47688006755,
          503140.32553307165,
          503140.1999873328,
          503141.6083303641,
          503141.51488111017,
          503140.45663316135,
          503139.7674875806,
          503140.12118084,
          503139.2062616946,
          503138.8129236323,
          503139.27850960987,
          503138.89253488096,
          503140.463700595,
          503139.20784883085,
          503137.96188665234,
          503138.33472577226,
          503137.4132699524,
          503138.13917526224,
          503137.4592175437,
          503138.8363198548,
          503139.46617136645,
          503139.5256718136,
          503139.3699230021,
          503138.0960003663,
          503137.1882040865,
          503136.5830652007,
          503137.20237213187,
          503136.6907782176,
          503136.2107155813,
          503138.04517327866,
          503138.0847489743,
          503139.52660059056,
          503140.09915980423,
          503140.99797297845,
          503141.29259937396,
          503140.3449523171,
          503141.0726969175,
          503141.0238685814,
          503140.4511223214,
          503140.787322117,
          503141.0581145161,
          503139.9108430344,
          503139.16496937233,
          503140.3422240729,
          503140.80162526685,
          503141.4331441497,
          503139.8233102933,
          503140.537389719,
          503140.33815410925,
          503140.8460561168,
          503141.7117702457,
          503141.59503687307,
          503141.1960672821,
          503141.5894967623,
          503142.547622546,
          503142.20066330646,
          503142.1241852743,
          503143.2605828854,
          503144.022314608,
          503143.11945076095,
          503143.6459586166,
          503143.30657634966,
          503142.6204767055,
          503142.5550320385,
          503141.7744544776,
          503140.6091330143,
          503140.688662238,
          503140.4971376596,
          503140.3822188621,
          503139.2973345701,
          503138.3091443332,
          503138.08138615795,
          503136.77143787866,
          503136.13513019105,
          503135.08295709343,
          503136.6471896763,
          503137.3152732388,
          503137.10798441817,
          503137.98276755196,
          503137.21701199905,
          503138.1507434632,
          503139.2359313911,
          503139.42065541045,
          503139.6556135389,
          503140.51880729734,
          503140.9446449779,
          503139.8494720326,
          503139.76054738613,
          503140.9170509894,
          503141.05358056375,
          503141.08894617617,
          503141.06502915785,
          503141.45929084433,
          503142.780428414,
          503143.2730209326,
          503143.523615981,
          503143.6596300564,
          503144.4617792144,
          503144.80080304085,
          503145.0318727778,
          503145.0540188444,
          503145.0465410496,
          503144.4825998262,
          503144.57670965727,
          503143.54035727395,
          503144.57807765587,
          503145.83430251473,
          503145.9991093791,
          503145.02947236877,
          503144.6737951492,
          503143.84422595985,
          503144.47762582777,
          503144.7137543776,
          503144.9058660003,
          503145.7853375808,
          503144.1451188718,
          503143.48927127954,
          503143.9966653534,
          503143.7621180977,
          503143.32007463835,
          503142.80863115133,
          503143.0719051321,
          503144.14297741547,
          503143.57415263326,
          503142.9619846406,
          503143.71447427024,
          503143.0745706553,
          503141.68288743286,
          503142.88358796283,
          503142.3506738527,
          503143.42344470066,
          503143.96703705855,
          503145.0457417441,
          503144.3203623434,
          503144.59061935305,
          503143.8098066699,
          503144.2791781626,
          503144.3106137864,
          503144.28625196835,
          503143.6518186479,
          503144.42760314274,
          503143.8856087161,
          503143.8338193006,
          503142.51753176533,
          503142.26719551475,
          503141.7769675162,
          503142.99595423276,
          503144.3549316198,
          503143.96161582123,
          503143.1412094345,
          503142.78417620476,
          503143.1583704031,
          503143.5396157369,
          503143.40246509784,
          503143.70655351033,
          503143.62059105467,
          503144.8994172369,
          503144.0552259288,
          503143.4414242742,
          503142.3068112931,
          503142.21606303536,
          503143.58620402217,
          503144.257038398,
          503145.20343177865,
          503144.31654806394,
          503143.2740350586,
          503144.2792245991,
          503144.82870913984,
          503144.4977784167,
          503145.20483120927,
          503145.8014407619,
          503144.885119926,
          503144.5602635382,
          503144.5586145598,
          503144.1892589837,
          503143.68739887513,
          503144.36205299833,
          503144.21774486854,
          503144.037106735,
          503144.7615963752,
          503144.6433518941,
          503144.43085379107,
          503144.60861123755,
          503144.8803806039,
          503144.47374115756,
          503144.91189953417,
          503145.2695414675,
          503145.7040053057,
          503146.1151042551,
          503145.55948447634,
          503145.9339934676,
          503145.28198727546,
          503145.1140342367,
          503144.99385054846,
          503145.16843234445,
          503144.7728306873,
          503144.36501144327,
          503143.836022577,
          503144.3713208334,
          503144.09422008425,
          503144.3724814395,
          503145.2713523678,
          503145.3955952921,
          503145.07387091935,
          503145.02552807494,
          503145.5818190119,
          503145.39403355384,
          503146.2583783157,
          503146.6580072545,
          503147.15075604606,
          503147.80305522244,
          503147.3473031022,
          503146.88588181103,
          503146.6772271594,
          503146.57737262506,
          503146.12698160077,
          503146.32279273274,
          503146.71850096935,
          503145.7052113678,
          503145.06426668237,
          503144.8391219737,
          503144.7215544856,
          503145.39948732156,
          503144.7058546553,
          503145.6943532804,
          503144.9638741459,
          503144.5567617963,
          503145.84303046076,
          503145.9937603521,
          503146.24965568155,
          503145.317822527,
          503145.3356895217,
          503145.1589645562,
          503144.755244163,
          503144.9626457836,
          503144.0371177457,
          503144.12926905294,
          503144.05438322586,
          503143.35143557866,
          503144.0298181935,
          503143.66986037,
          503143.562910016,
          503143.6610696872,
          503143.72270046367,
          503144.35309332167,
          503143.7566030404,
          503143.5492841245,
          503143.56314942345,
          503143.8068792764,
          503144.213360966,
          503144.0497641688,
          503143.72208749986,
          503142.5147805073,
          503143.258355798,
          503143.5852714448,
          503143.77742477856,
          503144.28897058597,
          503144.99601726694,
          503144.4585266104,
          503144.69564716506,
          503145.60809001833,
          503145.62012311653,
          503145.4749351936,
          503144.4383203374,
          503144.1326060461,
          503143.8496961817,
          503144.5670833367,
          503144.6995656204,
          503144.3003749312,
          503145.02428561926,
          503144.7015262275,
          503145.07085626316,
          503145.24448927963,
          503145.8041321895,
          503145.4640732074,
          503145.6120836921,
          503146.1893955519,
          503146.35722852626,
          503146.48995624314,
          503146.1250056379,
          503146.44538817764,
          503147.1287592041,
          503146.71555666317,
          503147.0953398276,
          503146.90739064896,
          503147.390507022,
          503146.94900923,
          503146.86886484554,
          503146.62480927724,
          503146.1641717974,
          503145.9039724493,
          503145.8779453722,
          503144.3365291785,
          503143.7916609694,
          503143.14772664936,
          503142.5678937409,
          503142.5025488204,
          503142.93425270845,
          503142.5055848232,
          503141.7920096757,
          503141.4425823316,
          503142.27454464923,
          503142.8222840734,
          503143.2977160028,
          503143.33452098444,
          503142.53648583865,
          503141.64724750107,
          503141.647967157,
          503141.65208131354,
          503141.82833553746,
          503141.2547864693,
          503140.9144186623,
          503140.4945802806,
          503140.4704291792,
          503140.4628781374,
          503139.71178075846,
          503140.12460909766,
          503139.7433469182,
          503139.94366825407,
          503139.5203082017,
          503139.97537063697,
          503138.81633967126,
          503138.9625998459,
          503139.38877916965,
          503139.0678356564,
          503138.9168638364,
          503139.904884769,
          503140.49709777354,
          503140.85703879636,
          503141.7450406202,
          503142.34746579407,
          503142.04354473966,
          503141.5650224971,
          503141.5350715729,
          503141.6739512028,
          503141.73174270784,
          503140.80101326946,
          503141.7498203693,
          503141.42900686944,
          503141.04209630506,
          503139.9393283305,
          503140.1453611342,
          503140.1013474944,
          503140.73152440286,
          503141.5069915687,
          503140.78695211496,
          503141.44909015414,
          503142.4252277248,
          503142.6128445514,
          503142.4818002586,
          503143.0646540243,
          503142.7456393328,
          503143.1197993774,
          503143.8201622088,
          503144.5398923863,
          503144.65942606336,
          503144.5244228582,
          503144.9642260491,
          503145.1969835483,
          503145.6367310425,
          503145.31781133654,
          503145.59696025704,
          503145.1983900066,
          503145.0201743197,
          503144.5999698876,
          503144.25464033074,
          503144.76994569355,
          503144.9996146255,
          503145.4663037683,
          503145.5485593363,
          503146.6895225162,
          503146.5543817154,
          503146.30291019724,
          503145.93229039357,
          503145.07731229137,
          503144.861771312,
          503144.51406233327,
          503144.95291210915,
          503145.015170494,
          503144.69263649033,
          503144.3264020978,
          503145.52192583523,
          503145.60472495377,
          503145.76551777986,
          503145.2499094108,
          503144.95523775805,
          503144.35622813064,
          503144.24039042974,
          503144.01599918783,
          503142.94534533663,
          503142.5226352002,
          503142.5534396103,
          503142.2892605199,
          503142.3046616631,
          503142.58093947667,
          503142.98886197456,
          503142.8354920307,
          503142.9178502216,
          503143.20558974636,
          503143.35658567055,
          503143.814933058,
          503144.10142693104,
          503144.17418862414,
          503143.4400023299,
          503143.62170508254,
          503143.6014015034,
          503142.8614801313,
          503142.0745884692,
          503141.8683598376,
          503142.1453889028,
          503141.5270125327,
          503141.5890169891,
          503142.0458304436,
          503141.2658180675,
          503141.8787440127,
          503142.419280701,
          503142.6729810114,
          503143.24461316405,
          503143.3464533284,
          503143.2706057147,
          503143.0704454312,
          503142.94147450326,
          503142.65319261444,
          503142.8974771634,
          503143.13094135583,
          503142.54224920063,
          503142.9467013253,
          503142.97878573416,
          503142.7856950823,
          503142.62040494086,
          503142.39351243904,
          503142.12161151425,
          503141.55013512797,
          503142.0847118852,
          503142.85282528284,
          503143.0317319346,
          503143.40827663435,
          503142.93709692056,
          503142.52415734803,
          503142.48232252785,
          503142.65806776466,
          503142.5460354912,
          503142.28802630067,
          503143.20136154053,
          503142.6421855918,
          503143.166338219,
          503143.31917598913,
          503143.3112326684,
          503142.7301691312,
          503141.8988462266,
          503141.9179734934,
          503142.63926605036,
          503142.23337766243,
          503141.9222360576,
          503141.9763704011,
          503141.4983318301,
          503141.4580142752,
          503142.39213457116,
          503142.4729015702,
          503142.7031680931,
          503143.63894745207,
          503143.9578637429,
          503143.6746723301,
          503144.03729688335,
          503144.4697011022,
          503144.4296991365,
          503144.0873916768,
          503143.6114955984,
          503143.6409285885,
          503144.02004543156,
          503143.46129901835,
          503143.4519828997,
          503143.5349880738,
          503143.49460022553,
          503143.72684943595,
          503143.53709242895,
          503143.46171944035,
          503143.03720431903,
          503142.7275639073,
          503142.1736201874,
          503141.7084695724,
          503142.0281690798,
          503141.2560835812,
          503140.557679749,
          503140.57286897884,
          503139.5111276667,
          503139.9574907512,
          503140.0488128879,
          503139.9218706675,
          503139.469732645,
          503139.1972538441,
          503139.2514340619,
          503139.3585323028,
          503139.2432686918,
          503138.953254733,
          503139.18803443864,
          503138.91867521167,
          503139.1428747837,
          503139.67875643884,
          503139.89130294486,
          503139.93915440777,
          503140.1215731318,
          503140.18081127794,
          503140.08245670714,
          503140.0413870461,
          503139.86977331375,
          503140.4172929313,
          503140.7483917384,
          503140.60640035325,
          503140.9074573235,
          503141.281922128,
          503141.06351499096,
          503140.47378773347,
          503140.60739886906,
          503140.4223388017,
          503141.2294872087,
          503141.47831828316,
          503142.0909231083,
          503141.836244057,
          503141.7113840674,
          503141.48618229735,
          503142.02434785117,
          503142.2126270178,
          503141.94548411283,
          503141.55010794697,
          503142.0404804578,
          503141.78643534577,
          503141.9180677472,
          503142.1126463547,
          503141.4828414203,
          503141.7049772764,
          503141.1858725326,
          503140.77602402196,
          503140.9986742691,
          503140.57254545455,
          503141.34992146515,
          503140.9504439425,
          503141.03671302873,
          503141.4236939789,
          503141.50743541634,
          503141.6479508947,
          503141.9711337123,
          503141.8442188448,
          503141.5421488345,
          503141.63386910857,
          503141.659033866,
          503141.93276523956,
          503141.79855662526,
          503141.79193883087,
          503141.57627342636,
          503141.6486734279,
          503141.85549373657,
          503142.29594582075,
          503142.5804756201,
          503142.9960854469,
          503142.6708661334,
          503143.6230744243,
          503143.62457934045,
          503144.3173162138,
          503144.38457907137,
          503144.3641614889,
          503144.5161444113,
          503144.41057953925,
          503145.1662240391,
          503144.6142370304,
          503145.17313086486,
          503145.2436347461,
          503145.1909453177,
          503144.53652491485,
          503144.2776669656,
          503143.50192699325,
          503142.7493101893,
          503142.87490248075,
          503143.0565027543,
          503143.175719475,
          503143.06427698466,
          503143.5907004496,
          503143.4917529028,
          503143.0498329987,
          503142.6866209152,
          503142.9204147851,
          503142.654744787,
          503143.11740148347,
          503143.02686371905,
          503143.116064575,
          503142.6470900725,
          503142.23906780826,
          503142.2575621,
          503142.31136185036,
          503142.6786260214,
          503142.60406102816,
          503142.86752643867,
          503143.12301217904,
          503143.63406386087,
          503143.21526093595,
          503142.80389560625,
          503142.5930460447,
          503142.53826183383,
          503142.5613839049,
          503142.45881559246,
          503142.7173196699,
          503142.8870030808,
          503141.7862036503,
          503141.5112614987,
          503141.5570037184,
          503141.5527722811,
          503141.23700441595,
          503140.8984797008,
          503140.68157728144
         ],
         "yaxis": "y"
        },
        {
         "name": "Minimum MSE",
         "type": "scatter",
         "x": [
          3250000
         ],
         "y": [
          503133.57198561437
         ]
        }
       ],
       "layout": {
        "legend": {
         "tracegroupgap": 0
        },
        "template": {
         "data": {
          "bar": [
           {
            "error_x": {
             "color": "#2a3f5f"
            },
            "error_y": {
             "color": "#2a3f5f"
            },
            "marker": {
             "line": {
              "color": "#E5ECF6",
              "width": 0.5
             },
             "pattern": {
              "fillmode": "overlay",
              "size": 10,
              "solidity": 0.2
             }
            },
            "type": "bar"
           }
          ],
          "barpolar": [
           {
            "marker": {
             "line": {
              "color": "#E5ECF6",
              "width": 0.5
             },
             "pattern": {
              "fillmode": "overlay",
              "size": 10,
              "solidity": 0.2
             }
            },
            "type": "barpolar"
           }
          ],
          "carpet": [
           {
            "aaxis": {
             "endlinecolor": "#2a3f5f",
             "gridcolor": "white",
             "linecolor": "white",
             "minorgridcolor": "white",
             "startlinecolor": "#2a3f5f"
            },
            "baxis": {
             "endlinecolor": "#2a3f5f",
             "gridcolor": "white",
             "linecolor": "white",
             "minorgridcolor": "white",
             "startlinecolor": "#2a3f5f"
            },
            "type": "carpet"
           }
          ],
          "choropleth": [
           {
            "colorbar": {
             "outlinewidth": 0,
             "ticks": ""
            },
            "type": "choropleth"
           }
          ],
          "contour": [
           {
            "colorbar": {
             "outlinewidth": 0,
             "ticks": ""
            },
            "colorscale": [
             [
              0,
              "#0d0887"
             ],
             [
              0.1111111111111111,
              "#46039f"
             ],
             [
              0.2222222222222222,
              "#7201a8"
             ],
             [
              0.3333333333333333,
              "#9c179e"
             ],
             [
              0.4444444444444444,
              "#bd3786"
             ],
             [
              0.5555555555555556,
              "#d8576b"
             ],
             [
              0.6666666666666666,
              "#ed7953"
             ],
             [
              0.7777777777777778,
              "#fb9f3a"
             ],
             [
              0.8888888888888888,
              "#fdca26"
             ],
             [
              1,
              "#f0f921"
             ]
            ],
            "type": "contour"
           }
          ],
          "contourcarpet": [
           {
            "colorbar": {
             "outlinewidth": 0,
             "ticks": ""
            },
            "type": "contourcarpet"
           }
          ],
          "heatmap": [
           {
            "colorbar": {
             "outlinewidth": 0,
             "ticks": ""
            },
            "colorscale": [
             [
              0,
              "#0d0887"
             ],
             [
              0.1111111111111111,
              "#46039f"
             ],
             [
              0.2222222222222222,
              "#7201a8"
             ],
             [
              0.3333333333333333,
              "#9c179e"
             ],
             [
              0.4444444444444444,
              "#bd3786"
             ],
             [
              0.5555555555555556,
              "#d8576b"
             ],
             [
              0.6666666666666666,
              "#ed7953"
             ],
             [
              0.7777777777777778,
              "#fb9f3a"
             ],
             [
              0.8888888888888888,
              "#fdca26"
             ],
             [
              1,
              "#f0f921"
             ]
            ],
            "type": "heatmap"
           }
          ],
          "heatmapgl": [
           {
            "colorbar": {
             "outlinewidth": 0,
             "ticks": ""
            },
            "colorscale": [
             [
              0,
              "#0d0887"
             ],
             [
              0.1111111111111111,
              "#46039f"
             ],
             [
              0.2222222222222222,
              "#7201a8"
             ],
             [
              0.3333333333333333,
              "#9c179e"
             ],
             [
              0.4444444444444444,
              "#bd3786"
             ],
             [
              0.5555555555555556,
              "#d8576b"
             ],
             [
              0.6666666666666666,
              "#ed7953"
             ],
             [
              0.7777777777777778,
              "#fb9f3a"
             ],
             [
              0.8888888888888888,
              "#fdca26"
             ],
             [
              1,
              "#f0f921"
             ]
            ],
            "type": "heatmapgl"
           }
          ],
          "histogram": [
           {
            "marker": {
             "pattern": {
              "fillmode": "overlay",
              "size": 10,
              "solidity": 0.2
             }
            },
            "type": "histogram"
           }
          ],
          "histogram2d": [
           {
            "colorbar": {
             "outlinewidth": 0,
             "ticks": ""
            },
            "colorscale": [
             [
              0,
              "#0d0887"
             ],
             [
              0.1111111111111111,
              "#46039f"
             ],
             [
              0.2222222222222222,
              "#7201a8"
             ],
             [
              0.3333333333333333,
              "#9c179e"
             ],
             [
              0.4444444444444444,
              "#bd3786"
             ],
             [
              0.5555555555555556,
              "#d8576b"
             ],
             [
              0.6666666666666666,
              "#ed7953"
             ],
             [
              0.7777777777777778,
              "#fb9f3a"
             ],
             [
              0.8888888888888888,
              "#fdca26"
             ],
             [
              1,
              "#f0f921"
             ]
            ],
            "type": "histogram2d"
           }
          ],
          "histogram2dcontour": [
           {
            "colorbar": {
             "outlinewidth": 0,
             "ticks": ""
            },
            "colorscale": [
             [
              0,
              "#0d0887"
             ],
             [
              0.1111111111111111,
              "#46039f"
             ],
             [
              0.2222222222222222,
              "#7201a8"
             ],
             [
              0.3333333333333333,
              "#9c179e"
             ],
             [
              0.4444444444444444,
              "#bd3786"
             ],
             [
              0.5555555555555556,
              "#d8576b"
             ],
             [
              0.6666666666666666,
              "#ed7953"
             ],
             [
              0.7777777777777778,
              "#fb9f3a"
             ],
             [
              0.8888888888888888,
              "#fdca26"
             ],
             [
              1,
              "#f0f921"
             ]
            ],
            "type": "histogram2dcontour"
           }
          ],
          "mesh3d": [
           {
            "colorbar": {
             "outlinewidth": 0,
             "ticks": ""
            },
            "type": "mesh3d"
           }
          ],
          "parcoords": [
           {
            "line": {
             "colorbar": {
              "outlinewidth": 0,
              "ticks": ""
             }
            },
            "type": "parcoords"
           }
          ],
          "pie": [
           {
            "automargin": true,
            "type": "pie"
           }
          ],
          "scatter": [
           {
            "marker": {
             "colorbar": {
              "outlinewidth": 0,
              "ticks": ""
             }
            },
            "type": "scatter"
           }
          ],
          "scatter3d": [
           {
            "line": {
             "colorbar": {
              "outlinewidth": 0,
              "ticks": ""
             }
            },
            "marker": {
             "colorbar": {
              "outlinewidth": 0,
              "ticks": ""
             }
            },
            "type": "scatter3d"
           }
          ],
          "scattercarpet": [
           {
            "marker": {
             "colorbar": {
              "outlinewidth": 0,
              "ticks": ""
             }
            },
            "type": "scattercarpet"
           }
          ],
          "scattergeo": [
           {
            "marker": {
             "colorbar": {
              "outlinewidth": 0,
              "ticks": ""
             }
            },
            "type": "scattergeo"
           }
          ],
          "scattergl": [
           {
            "marker": {
             "colorbar": {
              "outlinewidth": 0,
              "ticks": ""
             }
            },
            "type": "scattergl"
           }
          ],
          "scattermapbox": [
           {
            "marker": {
             "colorbar": {
              "outlinewidth": 0,
              "ticks": ""
             }
            },
            "type": "scattermapbox"
           }
          ],
          "scatterpolar": [
           {
            "marker": {
             "colorbar": {
              "outlinewidth": 0,
              "ticks": ""
             }
            },
            "type": "scatterpolar"
           }
          ],
          "scatterpolargl": [
           {
            "marker": {
             "colorbar": {
              "outlinewidth": 0,
              "ticks": ""
             }
            },
            "type": "scatterpolargl"
           }
          ],
          "scatterternary": [
           {
            "marker": {
             "colorbar": {
              "outlinewidth": 0,
              "ticks": ""
             }
            },
            "type": "scatterternary"
           }
          ],
          "surface": [
           {
            "colorbar": {
             "outlinewidth": 0,
             "ticks": ""
            },
            "colorscale": [
             [
              0,
              "#0d0887"
             ],
             [
              0.1111111111111111,
              "#46039f"
             ],
             [
              0.2222222222222222,
              "#7201a8"
             ],
             [
              0.3333333333333333,
              "#9c179e"
             ],
             [
              0.4444444444444444,
              "#bd3786"
             ],
             [
              0.5555555555555556,
              "#d8576b"
             ],
             [
              0.6666666666666666,
              "#ed7953"
             ],
             [
              0.7777777777777778,
              "#fb9f3a"
             ],
             [
              0.8888888888888888,
              "#fdca26"
             ],
             [
              1,
              "#f0f921"
             ]
            ],
            "type": "surface"
           }
          ],
          "table": [
           {
            "cells": {
             "fill": {
              "color": "#EBF0F8"
             },
             "line": {
              "color": "white"
             }
            },
            "header": {
             "fill": {
              "color": "#C8D4E3"
             },
             "line": {
              "color": "white"
             }
            },
            "type": "table"
           }
          ]
         },
         "layout": {
          "annotationdefaults": {
           "arrowcolor": "#2a3f5f",
           "arrowhead": 0,
           "arrowwidth": 1
          },
          "autotypenumbers": "strict",
          "coloraxis": {
           "colorbar": {
            "outlinewidth": 0,
            "ticks": ""
           }
          },
          "colorscale": {
           "diverging": [
            [
             0,
             "#8e0152"
            ],
            [
             0.1,
             "#c51b7d"
            ],
            [
             0.2,
             "#de77ae"
            ],
            [
             0.3,
             "#f1b6da"
            ],
            [
             0.4,
             "#fde0ef"
            ],
            [
             0.5,
             "#f7f7f7"
            ],
            [
             0.6,
             "#e6f5d0"
            ],
            [
             0.7,
             "#b8e186"
            ],
            [
             0.8,
             "#7fbc41"
            ],
            [
             0.9,
             "#4d9221"
            ],
            [
             1,
             "#276419"
            ]
           ],
           "sequential": [
            [
             0,
             "#0d0887"
            ],
            [
             0.1111111111111111,
             "#46039f"
            ],
            [
             0.2222222222222222,
             "#7201a8"
            ],
            [
             0.3333333333333333,
             "#9c179e"
            ],
            [
             0.4444444444444444,
             "#bd3786"
            ],
            [
             0.5555555555555556,
             "#d8576b"
            ],
            [
             0.6666666666666666,
             "#ed7953"
            ],
            [
             0.7777777777777778,
             "#fb9f3a"
            ],
            [
             0.8888888888888888,
             "#fdca26"
            ],
            [
             1,
             "#f0f921"
            ]
           ],
           "sequentialminus": [
            [
             0,
             "#0d0887"
            ],
            [
             0.1111111111111111,
             "#46039f"
            ],
            [
             0.2222222222222222,
             "#7201a8"
            ],
            [
             0.3333333333333333,
             "#9c179e"
            ],
            [
             0.4444444444444444,
             "#bd3786"
            ],
            [
             0.5555555555555556,
             "#d8576b"
            ],
            [
             0.6666666666666666,
             "#ed7953"
            ],
            [
             0.7777777777777778,
             "#fb9f3a"
            ],
            [
             0.8888888888888888,
             "#fdca26"
            ],
            [
             1,
             "#f0f921"
            ]
           ]
          },
          "colorway": [
           "#636efa",
           "#EF553B",
           "#00cc96",
           "#ab63fa",
           "#FFA15A",
           "#19d3f3",
           "#FF6692",
           "#B6E880",
           "#FF97FF",
           "#FECB52"
          ],
          "font": {
           "color": "#2a3f5f"
          },
          "geo": {
           "bgcolor": "white",
           "lakecolor": "white",
           "landcolor": "#E5ECF6",
           "showlakes": true,
           "showland": true,
           "subunitcolor": "white"
          },
          "hoverlabel": {
           "align": "left"
          },
          "hovermode": "closest",
          "mapbox": {
           "style": "light"
          },
          "paper_bgcolor": "white",
          "plot_bgcolor": "#E5ECF6",
          "polar": {
           "angularaxis": {
            "gridcolor": "white",
            "linecolor": "white",
            "ticks": ""
           },
           "bgcolor": "#E5ECF6",
           "radialaxis": {
            "gridcolor": "white",
            "linecolor": "white",
            "ticks": ""
           }
          },
          "scene": {
           "xaxis": {
            "backgroundcolor": "#E5ECF6",
            "gridcolor": "white",
            "gridwidth": 2,
            "linecolor": "white",
            "showbackground": true,
            "ticks": "",
            "zerolinecolor": "white"
           },
           "yaxis": {
            "backgroundcolor": "#E5ECF6",
            "gridcolor": "white",
            "gridwidth": 2,
            "linecolor": "white",
            "showbackground": true,
            "ticks": "",
            "zerolinecolor": "white"
           },
           "zaxis": {
            "backgroundcolor": "#E5ECF6",
            "gridcolor": "white",
            "gridwidth": 2,
            "linecolor": "white",
            "showbackground": true,
            "ticks": "",
            "zerolinecolor": "white"
           }
          },
          "shapedefaults": {
           "line": {
            "color": "#2a3f5f"
           }
          },
          "ternary": {
           "aaxis": {
            "gridcolor": "white",
            "linecolor": "white",
            "ticks": ""
           },
           "baxis": {
            "gridcolor": "white",
            "linecolor": "white",
            "ticks": ""
           },
           "bgcolor": "#E5ECF6",
           "caxis": {
            "gridcolor": "white",
            "linecolor": "white",
            "ticks": ""
           }
          },
          "title": {
           "x": 0.05
          },
          "xaxis": {
           "automargin": true,
           "gridcolor": "white",
           "linecolor": "white",
           "ticks": "",
           "title": {
            "standoff": 15
           },
           "zerolinecolor": "white",
           "zerolinewidth": 2
          },
          "yaxis": {
           "automargin": true,
           "gridcolor": "white",
           "linecolor": "white",
           "ticks": "",
           "title": {
            "standoff": 15
           },
           "zerolinecolor": "white",
           "zerolinewidth": 2
          }
         }
        },
        "title": {
         "text": "MSE with K-Fold Cross Validation w/ 30/70 Test Train Ratio"
        },
        "xaxis": {
         "anchor": "y",
         "domain": [
          0,
          1
         ],
         "title": {
          "text": "Ridge Parameter"
         }
        },
        "yaxis": {
         "anchor": "x",
         "domain": [
          0,
          1
         ],
         "title": {
          "text": "Mean Squared Error"
         }
        }
       }
      },
      "text/html": [
       "<div>                            <div id=\"98568f04-0efc-49b3-9f29-7da74e858580\" class=\"plotly-graph-div\" style=\"height:525px; width:100%;\"></div>            <script type=\"text/javascript\">                require([\"plotly\"], function(Plotly) {                    window.PLOTLYENV=window.PLOTLYENV || {};                                    if (document.getElementById(\"98568f04-0efc-49b3-9f29-7da74e858580\")) {                    Plotly.newPlot(                        \"98568f04-0efc-49b3-9f29-7da74e858580\",                        [{\"hovertemplate\":\"Ridge Parameter=%{x}<br>Mean Squared Error=%{y}<extra></extra>\",\"legendgroup\":\"\",\"marker\":{\"color\":\"#636efa\",\"symbol\":\"circle\"},\"mode\":\"markers\",\"name\":\"\",\"orientation\":\"v\",\"showlegend\":false,\"x\":[10000.0,20000.0,30000.0,40000.0,50000.0,60000.0,70000.0,80000.0,90000.0,100000.0,110000.0,120000.0,130000.0,140000.0,150000.0,160000.0,170000.0,180000.0,190000.0,200000.0,210000.0,220000.0,230000.0,240000.0,250000.0,260000.0,270000.0,280000.0,290000.0,300000.0,310000.0,320000.0,330000.0,340000.0,350000.0,360000.0,370000.0,380000.0,390000.0,400000.0,410000.0,420000.0,430000.0,440000.0,450000.0,460000.0,470000.0,480000.0,490000.0,500000.0,510000.0,520000.0,530000.0,540000.0,550000.0,560000.0,570000.0,580000.0,590000.0,600000.0,610000.0,620000.0,630000.0,640000.0,650000.0,660000.0,670000.0,680000.0,690000.0,700000.0,710000.0,720000.0,730000.0,740000.0,750000.0,760000.0,770000.0,780000.0,790000.0,800000.0,810000.0,820000.0,830000.0,840000.0,850000.0,860000.0,870000.0,880000.0,890000.0,900000.0,910000.0,920000.0,930000.0,940000.0,950000.0,960000.0,970000.0,980000.0,990000.0,1000000.0,1010000.0,1020000.0,1030000.0,1040000.0,1050000.0,1060000.0,1070000.0,1080000.0,1090000.0,1100000.0,1110000.0,1120000.0,1130000.0,1140000.0,1150000.0,1160000.0,1170000.0,1180000.0,1190000.0,1200000.0,1210000.0,1220000.0,1230000.0,1240000.0,1250000.0,1260000.0,1270000.0,1280000.0,1290000.0,1300000.0,1310000.0,1320000.0,1330000.0,1340000.0,1350000.0,1360000.0,1370000.0,1380000.0,1390000.0,1400000.0,1410000.0,1420000.0,1430000.0,1440000.0,1450000.0,1460000.0,1470000.0,1480000.0,1490000.0,1500000.0,1510000.0,1520000.0,1530000.0,1540000.0,1550000.0,1560000.0,1570000.0,1580000.0,1590000.0,1600000.0,1610000.0,1620000.0,1630000.0,1640000.0,1650000.0,1660000.0,1670000.0,1680000.0,1690000.0,1700000.0,1710000.0,1720000.0,1730000.0,1740000.0,1750000.0,1760000.0,1770000.0,1780000.0,1790000.0,1800000.0,1810000.0,1820000.0,1830000.0,1840000.0,1850000.0,1860000.0,1870000.0,1880000.0,1890000.0,1900000.0,1910000.0,1920000.0,1930000.0,1940000.0,1950000.0,1960000.0,1970000.0,1980000.0,1990000.0,2000000.0,2010000.0,2020000.0,2030000.0,2040000.0,2050000.0,2060000.0,2070000.0,2080000.0,2090000.0,2100000.0,2110000.0,2120000.0,2130000.0,2140000.0,2150000.0,2160000.0,2170000.0,2180000.0,2190000.0,2200000.0,2210000.0,2220000.0,2230000.0,2240000.0,2250000.0,2260000.0,2270000.0,2280000.0,2290000.0,2300000.0,2310000.0,2320000.0,2330000.0,2340000.0,2350000.0,2360000.0,2370000.0,2380000.0,2390000.0,2400000.0,2410000.0,2420000.0,2430000.0,2440000.0,2450000.0,2460000.0,2470000.0,2480000.0,2490000.0,2500000.0,2510000.0,2520000.0,2530000.0,2540000.0,2550000.0,2560000.0,2570000.0,2580000.0,2590000.0,2600000.0,2610000.0,2620000.0,2630000.0,2640000.0,2650000.0,2660000.0,2670000.0,2680000.0,2690000.0,2700000.0,2710000.0,2720000.0,2730000.0,2740000.0,2750000.0,2760000.0,2770000.0,2780000.0,2790000.0,2800000.0,2810000.0,2820000.0,2830000.0,2840000.0,2850000.0,2860000.0,2870000.0,2880000.0,2890000.0,2900000.0,2910000.0,2920000.0,2930000.0,2940000.0,2950000.0,2960000.0,2970000.0,2980000.0,2990000.0,3000000.0,3010000.0,3020000.0,3030000.0,3040000.0,3050000.0,3060000.0,3070000.0,3080000.0,3090000.0,3100000.0,3110000.0,3120000.0,3130000.0,3140000.0,3150000.0,3160000.0,3170000.0,3180000.0,3190000.0,3200000.0,3210000.0,3220000.0,3230000.0,3240000.0,3250000.0,3260000.0,3270000.0,3280000.0,3290000.0,3300000.0,3310000.0,3320000.0,3330000.0,3340000.0,3350000.0,3360000.0,3370000.0,3380000.0,3390000.0,3400000.0,3410000.0,3420000.0,3430000.0,3440000.0,3450000.0,3460000.0,3470000.0,3480000.0,3490000.0,3500000.0,3510000.0,3520000.0,3530000.0,3540000.0,3550000.0,3560000.0,3570000.0,3580000.0,3590000.0,3600000.0,3610000.0,3620000.0,3630000.0,3640000.0,3650000.0,3660000.0,3670000.0,3680000.0,3690000.0,3700000.0,3710000.0,3720000.0,3730000.0,3740000.0,3750000.0,3760000.0,3770000.0,3780000.0,3790000.0,3800000.0,3810000.0,3820000.0,3830000.0,3840000.0,3850000.0,3860000.0,3870000.0,3880000.0,3890000.0,3900000.0,3910000.0,3920000.0,3930000.0,3940000.0,3950000.0,3960000.0,3970000.0,3980000.0,3990000.0,4000000.0,4010000.0,4020000.0,4030000.0,4040000.0,4050000.0,4060000.0,4070000.0,4080000.0,4090000.0,4100000.0,4110000.0,4120000.0,4130000.0,4140000.0,4150000.0,4160000.0,4170000.0,4180000.0,4190000.0,4200000.0,4210000.0,4220000.0,4230000.0,4240000.0,4250000.0,4260000.0,4270000.0,4280000.0,4290000.0,4300000.0,4310000.0,4320000.0,4330000.0,4340000.0,4350000.0,4360000.0,4370000.0,4380000.0,4390000.0,4400000.0,4410000.0,4420000.0,4430000.0,4440000.0,4450000.0,4460000.0,4470000.0,4480000.0,4490000.0,4500000.0,4510000.0,4520000.0,4530000.0,4540000.0,4550000.0,4560000.0,4570000.0,4580000.0,4590000.0,4600000.0,4610000.0,4620000.0,4630000.0,4640000.0,4650000.0,4660000.0,4670000.0,4680000.0,4690000.0,4700000.0,4710000.0,4720000.0,4730000.0,4740000.0,4750000.0,4760000.0,4770000.0,4780000.0,4790000.0,4800000.0,4810000.0,4820000.0,4830000.0,4840000.0,4850000.0,4860000.0,4870000.0,4880000.0,4890000.0,4900000.0,4910000.0,4920000.0,4930000.0,4940000.0,4950000.0,4960000.0,4970000.0,4980000.0,4990000.0,5000000.0,5010000.0,5020000.0,5030000.0,5040000.0,5050000.0,5060000.0,5070000.0,5080000.0,5090000.0,5100000.0,5110000.0,5120000.0,5130000.0,5140000.0,5150000.0,5160000.0,5170000.0,5180000.0,5190000.0,5200000.0,5210000.0,5220000.0,5230000.0,5240000.0,5250000.0,5260000.0,5270000.0,5280000.0,5290000.0,5300000.0,5310000.0,5320000.0,5330000.0,5340000.0,5350000.0,5360000.0,5370000.0,5380000.0,5390000.0,5400000.0,5410000.0,5420000.0,5430000.0,5440000.0,5450000.0,5460000.0,5470000.0,5480000.0,5490000.0,5500000.0,5510000.0,5520000.0,5530000.0,5540000.0,5550000.0,5560000.0,5570000.0,5580000.0,5590000.0,5600000.0,5610000.0,5620000.0,5630000.0,5640000.0,5650000.0,5660000.0,5670000.0,5680000.0,5690000.0,5700000.0,5710000.0,5720000.0,5730000.0,5740000.0,5750000.0,5760000.0,5770000.0,5780000.0,5790000.0,5800000.0,5810000.0,5820000.0,5830000.0,5840000.0,5850000.0,5860000.0,5870000.0,5880000.0,5890000.0,5900000.0,5910000.0,5920000.0,5930000.0,5940000.0,5950000.0,5960000.0,5970000.0,5980000.0,5990000.0,6000000.0,6010000.0,6020000.0,6030000.0,6040000.0,6050000.0,6060000.0,6070000.0,6080000.0,6090000.0,6100000.0,6110000.0,6120000.0,6130000.0,6140000.0,6150000.0,6160000.0,6170000.0,6180000.0,6190000.0,6200000.0,6210000.0,6220000.0,6230000.0,6240000.0,6250000.0,6260000.0,6270000.0,6280000.0,6290000.0,6300000.0,6310000.0,6320000.0,6330000.0,6340000.0,6350000.0,6360000.0,6370000.0,6380000.0,6390000.0,6400000.0,6410000.0,6420000.0,6430000.0,6440000.0,6450000.0,6460000.0,6470000.0,6480000.0,6490000.0,6500000.0,6510000.0,6520000.0,6530000.0,6540000.0,6550000.0,6560000.0,6570000.0,6580000.0,6590000.0,6600000.0,6610000.0,6620000.0,6630000.0,6640000.0,6650000.0,6660000.0,6670000.0,6680000.0,6690000.0,6700000.0,6710000.0,6720000.0,6730000.0,6740000.0,6750000.0,6760000.0,6770000.0,6780000.0,6790000.0,6800000.0,6810000.0,6820000.0,6830000.0,6840000.0,6850000.0,6860000.0,6870000.0,6880000.0,6890000.0,6900000.0,6910000.0,6920000.0,6930000.0,6940000.0,6950000.0,6960000.0,6970000.0,6980000.0,6990000.0,7000000.0,7010000.0,7020000.0,7030000.0,7040000.0,7050000.0,7060000.0,7070000.0,7080000.0,7090000.0,7100000.0,7110000.0,7120000.0,7130000.0,7140000.0,7150000.0,7160000.0,7170000.0,7180000.0,7190000.0,7200000.0,7210000.0,7220000.0,7230000.0,7240000.0,7250000.0,7260000.0,7270000.0,7280000.0,7290000.0,7300000.0,7310000.0,7320000.0,7330000.0,7340000.0,7350000.0,7360000.0,7370000.0,7380000.0,7390000.0,7400000.0,7410000.0,7420000.0,7430000.0,7440000.0,7450000.0,7460000.0,7470000.0,7480000.0,7490000.0,7500000.0,7510000.0,7520000.0,7530000.0,7540000.0,7550000.0,7560000.0,7570000.0,7580000.0,7590000.0,7600000.0,7610000.0,7620000.0,7630000.0,7640000.0,7650000.0,7660000.0,7670000.0,7680000.0,7690000.0,7700000.0,7710000.0,7720000.0,7730000.0,7740000.0,7750000.0,7760000.0,7770000.0,7780000.0,7790000.0,7800000.0,7810000.0,7820000.0,7830000.0,7840000.0,7850000.0,7860000.0,7870000.0,7880000.0,7890000.0,7900000.0,7910000.0,7920000.0,7930000.0,7940000.0,7950000.0,7960000.0,7970000.0,7980000.0,7990000.0,8000000.0,8010000.0,8020000.0,8030000.0,8040000.0,8050000.0,8060000.0,8070000.0,8080000.0,8090000.0,8100000.0,8110000.0,8120000.0,8130000.0,8140000.0,8150000.0,8160000.0,8170000.0,8180000.0,8190000.0,8200000.0,8210000.0,8220000.0,8230000.0,8240000.0,8250000.0,8260000.0,8270000.0,8280000.0,8290000.0,8300000.0,8310000.0,8320000.0,8330000.0,8340000.0,8350000.0,8360000.0,8370000.0,8380000.0,8390000.0,8400000.0,8410000.0,8420000.0,8430000.0,8440000.0,8450000.0,8460000.0,8470000.0,8480000.0,8490000.0,8500000.0,8510000.0,8520000.0,8530000.0,8540000.0,8550000.0,8560000.0,8570000.0,8580000.0,8590000.0,8600000.0,8610000.0,8620000.0,8630000.0,8640000.0,8650000.0,8660000.0,8670000.0,8680000.0,8690000.0,8700000.0,8710000.0,8720000.0,8730000.0,8740000.0,8750000.0,8760000.0,8770000.0,8780000.0,8790000.0,8800000.0,8810000.0,8820000.0,8830000.0,8840000.0,8850000.0,8860000.0,8870000.0,8880000.0,8890000.0,8900000.0,8910000.0,8920000.0,8930000.0,8940000.0,8950000.0,8960000.0,8970000.0,8980000.0,8990000.0,9000000.0,9010000.0,9020000.0,9030000.0,9040000.0,9050000.0,9060000.0,9070000.0,9080000.0,9090000.0,9100000.0,9110000.0,9120000.0,9130000.0,9140000.0,9150000.0,9160000.0,9170000.0,9180000.0,9190000.0,9200000.0,9210000.0,9220000.0,9230000.0,9240000.0,9250000.0,9260000.0,9270000.0,9280000.0,9290000.0,9300000.0,9310000.0,9320000.0,9330000.0,9340000.0,9350000.0,9360000.0,9370000.0,9380000.0,9390000.0,9400000.0,9410000.0,9420000.0,9430000.0,9440000.0,9450000.0,9460000.0,9470000.0,9480000.0,9490000.0,9500000.0,9510000.0,9520000.0,9530000.0,9540000.0,9550000.0,9560000.0,9570000.0,9580000.0,9590000.0,9600000.0,9610000.0,9620000.0,9630000.0,9640000.0,9650000.0,9660000.0,9670000.0,9680000.0,9690000.0,9700000.0,9710000.0,9720000.0,9730000.0,9740000.0,9750000.0,9760000.0,9770000.0,9780000.0,9790000.0,9800000.0,9810000.0,9820000.0,9830000.0,9840000.0,9850000.0,9860000.0,9870000.0,9880000.0,9890000.0,9900000.0,9910000.0,9920000.0,9930000.0,9940000.0,9950000.0,9960000.0,9970000.0,9980000.0,9990000.0],\"xaxis\":\"x\",\"y\":[503358.61104767595,503397.8242953278,503480.2473928738,503539.2266311192,503502.9864260789,503500.9988813516,503504.1663924965,503509.6810013595,503511.2106499049,503453.92785028147,503426.39251456334,503427.799878022,503460.6493528033,503403.71767170896,503396.1649271513,503374.91328791116,503394.32853383065,503399.6744031862,503371.14562039805,503370.7449928522,503388.9615145676,503385.26291263284,503394.26853221486,503390.889702898,503362.15284769534,503341.234582436,503342.79949356813,503327.1814620729,503319.0573947164,503318.7091835406,503320.3346150205,503298.7055682459,503278.5554794144,503286.08236643823,503269.0370393006,503270.6840230547,503277.26380725537,503275.6311210493,503301.6231318413,503306.2813439369,503318.2553846373,503321.88375966944,503304.1779602222,503305.25533231196,503313.9070968783,503307.21903203963,503285.25826917676,503277.2352234257,503273.6665919194,503265.6687630306,503265.1684558495,503270.19913141127,503258.45686593285,503251.08774233446,503242.670827902,503247.73440245766,503246.75143510377,503250.08602112666,503241.11064762424,503239.7584124908,503247.8704336721,503248.2310352557,503249.05360950826,503243.1852090523,503236.5366606517,503230.28816177504,503235.8121186078,503230.5454110606,503232.8602342433,503234.7324015332,503224.649343369,503226.80980680283,503221.4913025535,503217.5915186095,503214.2764535892,503212.3541918311,503215.03332988103,503208.1302711712,503202.75171433936,503204.4494567277,503203.7043626623,503206.2311527562,503204.53202668345,503202.32166232774,503206.9660994459,503211.1263015426,503204.2014985523,503199.4435479181,503197.8468396517,503193.5099032882,503190.41763974505,503192.53586444986,503187.1712317712,503181.3167073884,503182.3908649385,503183.901631526,503179.0363340274,503176.92315865506,503179.5442548522,503180.93364771426,503185.8463722373,503184.2717901946,503182.2909018305,503179.0761850536,503175.03481535515,503177.9771365436,503182.8550989114,503184.01009698625,503191.21268555056,503196.8913601837,503195.464009121,503192.2822176791,503195.34591763286,503193.44163446216,503193.5293616673,503188.31453583785,503188.46598880156,503190.9329974581,503193.6776425003,503199.89844437107,503198.15103177517,503199.8170330716,503199.2184017578,503201.6411927893,503201.8019865978,503202.8691447178,503204.91135238425,503206.0508419422,503206.7974250126,503208.03793923144,503210.11601395183,503207.264974039,503210.0835009797,503208.5175136036,503207.350465167,503209.01176452043,503206.3631460012,503206.1755250324,503206.60609850864,503206.96097611124,503204.1100240745,503205.2717644921,503203.7344012496,503203.6120231781,503204.49841781124,503205.5579041485,503207.8024571862,503209.0571664609,503209.9514425847,503210.7272487735,503211.4024931827,503211.0058848093,503211.30120816303,503210.02642074844,503208.3737661533,503209.724875492,503206.6372911957,503205.5618299246,503203.6101247552,503203.55320753437,503203.1221490357,503203.1800350539,503204.9071256562,503205.4583763851,503209.46706899017,503210.6073970116,503208.96616288455,503208.4934824758,503206.09199155966,503205.9383837071,503202.6239365792,503202.52727071714,503201.26834801363,503201.73890135286,503198.52069591737,503198.7136042934,503199.7454615858,503199.12895668304,503196.23389425693,503196.26043320424,503196.4384583757,503195.5032245232,503194.73341635853,503192.3062566671,503189.06862095045,503189.1555386513,503189.7322306261,503189.64507359324,503186.5561277122,503185.77409171715,503186.8697101644,503187.526185853,503190.0284894847,503188.20981144585,503187.66244623536,503187.50539162615,503189.5562793266,503190.33244714397,503190.9713990562,503187.45642889885,503187.23111887305,503188.019143235,503184.48063189926,503183.1613555586,503183.95052084466,503182.8763640552,503183.7514624101,503183.1779095095,503182.77742411033,503181.7356388994,503178.3386059673,503176.2084620039,503175.62890695984,503173.68095024745,503173.57646932424,503172.7221898377,503170.57760931324,503169.19909274345,503167.24339482596,503166.77276002185,503166.387041254,503165.2269961388,503164.9093044365,503161.3272654973,503162.1657685423,503162.78106927394,503164.8154240665,503164.16433940805,503163.1271553188,503163.8594045452,503163.25752736884,503162.67498764244,503162.51690885605,503161.6572137098,503161.6209931361,503161.5570763896,503162.0360952613,503162.7633413225,503161.324167552,503161.3296992542,503164.3699925601,503166.06429421174,503168.5809376317,503166.5453344678,503166.5970939973,503165.5705299652,503165.90625544597,503166.15493345226,503164.8655794585,503162.5132112268,503161.73647819756,503160.1953848377,503159.67149199115,503158.97486083716,503156.45447901316,503157.2407984845,503156.9781763718,503155.54498684464,503154.58895825833,503155.64739764424,503154.4002199558,503156.2675227138,503157.58491289226,503155.3657154496,503154.9260562545,503157.3493273727,503157.3861003679,503157.1781186989,503157.32277180435,503157.7314263327,503156.61850091186,503154.99741540244,503154.33434504305,503156.5167322981,503154.11140763795,503154.74477056466,503152.85732076445,503153.1492198472,503151.5972283207,503151.23956574604,503150.76009462494,503151.3245594583,503151.8069217123,503151.38227935944,503151.93281038833,503153.52490511414,503154.2645850188,503154.0339947513,503152.7358911846,503152.6200378761,503151.46300030634,503149.39879595884,503148.81217784464,503148.5563103879,503148.77763768286,503148.0893926127,503147.8481096416,503145.2890778956,503144.97735756077,503145.0284616458,503143.73062039225,503143.6845363153,503144.26580078964,503143.6232975386,503142.3033011407,503141.0228896673,503140.7606992463,503140.6138263821,503142.3945412947,503140.4760538407,503141.0802278111,503141.77689077466,503140.08621646994,503139.1628683307,503138.3506830032,503137.80165191845,503137.99900934496,503137.86261106463,503137.7429277725,503138.4677855582,503137.3900411973,503136.60062352574,503134.21038359345,503133.86440577195,503133.57198561437,503134.3902245951,503134.3292431709,503134.1509963656,503134.1414718423,503134.14668957086,503134.7300802239,503134.83226263453,503134.0657167566,503134.625594304,503136.30663667293,503135.3438815498,503135.422909317,503134.1346178377,503135.2985745632,503135.8443929311,503137.85961231083,503139.3800760964,503139.84881908755,503140.9631303925,503142.3836591221,503141.93668566324,503142.23132648197,503143.5851853648,503142.027198115,503140.8860387179,503141.15281184955,503139.993991991,503139.9409707999,503139.17066718225,503139.4870105873,503139.89698147704,503139.2008779458,503140.0978673337,503140.69803604926,503140.04626599187,503138.4976881748,503138.33945437113,503140.5705937251,503140.00480720587,503141.02958796825,503140.52280174365,503139.06324076577,503140.12071046344,503140.1597105196,503140.9447672011,503141.0933690672,503140.2039039228,503138.6051016732,503140.5661900084,503142.332502677,503143.293728317,503144.22115377296,503144.08368697856,503144.35995571344,503143.0516335136,503143.8282091824,503142.1940367906,503142.0894820321,503141.38514893904,503140.815518003,503141.14655316353,503140.2096573989,503140.1982960073,503141.86087419355,503140.8569469635,503140.47688006755,503140.32553307165,503140.1999873328,503141.6083303641,503141.51488111017,503140.45663316135,503139.7674875806,503140.12118084,503139.2062616946,503138.8129236323,503139.27850960987,503138.89253488096,503140.463700595,503139.20784883085,503137.96188665234,503138.33472577226,503137.4132699524,503138.13917526224,503137.4592175437,503138.8363198548,503139.46617136645,503139.5256718136,503139.3699230021,503138.0960003663,503137.1882040865,503136.5830652007,503137.20237213187,503136.6907782176,503136.2107155813,503138.04517327866,503138.0847489743,503139.52660059056,503140.09915980423,503140.99797297845,503141.29259937396,503140.3449523171,503141.0726969175,503141.0238685814,503140.4511223214,503140.787322117,503141.0581145161,503139.9108430344,503139.16496937233,503140.3422240729,503140.80162526685,503141.4331441497,503139.8233102933,503140.537389719,503140.33815410925,503140.8460561168,503141.7117702457,503141.59503687307,503141.1960672821,503141.5894967623,503142.547622546,503142.20066330646,503142.1241852743,503143.2605828854,503144.022314608,503143.11945076095,503143.6459586166,503143.30657634966,503142.6204767055,503142.5550320385,503141.7744544776,503140.6091330143,503140.688662238,503140.4971376596,503140.3822188621,503139.2973345701,503138.3091443332,503138.08138615795,503136.77143787866,503136.13513019105,503135.08295709343,503136.6471896763,503137.3152732388,503137.10798441817,503137.98276755196,503137.21701199905,503138.1507434632,503139.2359313911,503139.42065541045,503139.6556135389,503140.51880729734,503140.9446449779,503139.8494720326,503139.76054738613,503140.9170509894,503141.05358056375,503141.08894617617,503141.06502915785,503141.45929084433,503142.780428414,503143.2730209326,503143.523615981,503143.6596300564,503144.4617792144,503144.80080304085,503145.0318727778,503145.0540188444,503145.0465410496,503144.4825998262,503144.57670965727,503143.54035727395,503144.57807765587,503145.83430251473,503145.9991093791,503145.02947236877,503144.6737951492,503143.84422595985,503144.47762582777,503144.7137543776,503144.9058660003,503145.7853375808,503144.1451188718,503143.48927127954,503143.9966653534,503143.7621180977,503143.32007463835,503142.80863115133,503143.0719051321,503144.14297741547,503143.57415263326,503142.9619846406,503143.71447427024,503143.0745706553,503141.68288743286,503142.88358796283,503142.3506738527,503143.42344470066,503143.96703705855,503145.0457417441,503144.3203623434,503144.59061935305,503143.8098066699,503144.2791781626,503144.3106137864,503144.28625196835,503143.6518186479,503144.42760314274,503143.8856087161,503143.8338193006,503142.51753176533,503142.26719551475,503141.7769675162,503142.99595423276,503144.3549316198,503143.96161582123,503143.1412094345,503142.78417620476,503143.1583704031,503143.5396157369,503143.40246509784,503143.70655351033,503143.62059105467,503144.8994172369,503144.0552259288,503143.4414242742,503142.3068112931,503142.21606303536,503143.58620402217,503144.257038398,503145.20343177865,503144.31654806394,503143.2740350586,503144.2792245991,503144.82870913984,503144.4977784167,503145.20483120927,503145.8014407619,503144.885119926,503144.5602635382,503144.5586145598,503144.1892589837,503143.68739887513,503144.36205299833,503144.21774486854,503144.037106735,503144.7615963752,503144.6433518941,503144.43085379107,503144.60861123755,503144.8803806039,503144.47374115756,503144.91189953417,503145.2695414675,503145.7040053057,503146.1151042551,503145.55948447634,503145.9339934676,503145.28198727546,503145.1140342367,503144.99385054846,503145.16843234445,503144.7728306873,503144.36501144327,503143.836022577,503144.3713208334,503144.09422008425,503144.3724814395,503145.2713523678,503145.3955952921,503145.07387091935,503145.02552807494,503145.5818190119,503145.39403355384,503146.2583783157,503146.6580072545,503147.15075604606,503147.80305522244,503147.3473031022,503146.88588181103,503146.6772271594,503146.57737262506,503146.12698160077,503146.32279273274,503146.71850096935,503145.7052113678,503145.06426668237,503144.8391219737,503144.7215544856,503145.39948732156,503144.7058546553,503145.6943532804,503144.9638741459,503144.5567617963,503145.84303046076,503145.9937603521,503146.24965568155,503145.317822527,503145.3356895217,503145.1589645562,503144.755244163,503144.9626457836,503144.0371177457,503144.12926905294,503144.05438322586,503143.35143557866,503144.0298181935,503143.66986037,503143.562910016,503143.6610696872,503143.72270046367,503144.35309332167,503143.7566030404,503143.5492841245,503143.56314942345,503143.8068792764,503144.213360966,503144.0497641688,503143.72208749986,503142.5147805073,503143.258355798,503143.5852714448,503143.77742477856,503144.28897058597,503144.99601726694,503144.4585266104,503144.69564716506,503145.60809001833,503145.62012311653,503145.4749351936,503144.4383203374,503144.1326060461,503143.8496961817,503144.5670833367,503144.6995656204,503144.3003749312,503145.02428561926,503144.7015262275,503145.07085626316,503145.24448927963,503145.8041321895,503145.4640732074,503145.6120836921,503146.1893955519,503146.35722852626,503146.48995624314,503146.1250056379,503146.44538817764,503147.1287592041,503146.71555666317,503147.0953398276,503146.90739064896,503147.390507022,503146.94900923,503146.86886484554,503146.62480927724,503146.1641717974,503145.9039724493,503145.8779453722,503144.3365291785,503143.7916609694,503143.14772664936,503142.5678937409,503142.5025488204,503142.93425270845,503142.5055848232,503141.7920096757,503141.4425823316,503142.27454464923,503142.8222840734,503143.2977160028,503143.33452098444,503142.53648583865,503141.64724750107,503141.647967157,503141.65208131354,503141.82833553746,503141.2547864693,503140.9144186623,503140.4945802806,503140.4704291792,503140.4628781374,503139.71178075846,503140.12460909766,503139.7433469182,503139.94366825407,503139.5203082017,503139.97537063697,503138.81633967126,503138.9625998459,503139.38877916965,503139.0678356564,503138.9168638364,503139.904884769,503140.49709777354,503140.85703879636,503141.7450406202,503142.34746579407,503142.04354473966,503141.5650224971,503141.5350715729,503141.6739512028,503141.73174270784,503140.80101326946,503141.7498203693,503141.42900686944,503141.04209630506,503139.9393283305,503140.1453611342,503140.1013474944,503140.73152440286,503141.5069915687,503140.78695211496,503141.44909015414,503142.4252277248,503142.6128445514,503142.4818002586,503143.0646540243,503142.7456393328,503143.1197993774,503143.8201622088,503144.5398923863,503144.65942606336,503144.5244228582,503144.9642260491,503145.1969835483,503145.6367310425,503145.31781133654,503145.59696025704,503145.1983900066,503145.0201743197,503144.5999698876,503144.25464033074,503144.76994569355,503144.9996146255,503145.4663037683,503145.5485593363,503146.6895225162,503146.5543817154,503146.30291019724,503145.93229039357,503145.07731229137,503144.861771312,503144.51406233327,503144.95291210915,503145.015170494,503144.69263649033,503144.3264020978,503145.52192583523,503145.60472495377,503145.76551777986,503145.2499094108,503144.95523775805,503144.35622813064,503144.24039042974,503144.01599918783,503142.94534533663,503142.5226352002,503142.5534396103,503142.2892605199,503142.3046616631,503142.58093947667,503142.98886197456,503142.8354920307,503142.9178502216,503143.20558974636,503143.35658567055,503143.814933058,503144.10142693104,503144.17418862414,503143.4400023299,503143.62170508254,503143.6014015034,503142.8614801313,503142.0745884692,503141.8683598376,503142.1453889028,503141.5270125327,503141.5890169891,503142.0458304436,503141.2658180675,503141.8787440127,503142.419280701,503142.6729810114,503143.24461316405,503143.3464533284,503143.2706057147,503143.0704454312,503142.94147450326,503142.65319261444,503142.8974771634,503143.13094135583,503142.54224920063,503142.9467013253,503142.97878573416,503142.7856950823,503142.62040494086,503142.39351243904,503142.12161151425,503141.55013512797,503142.0847118852,503142.85282528284,503143.0317319346,503143.40827663435,503142.93709692056,503142.52415734803,503142.48232252785,503142.65806776466,503142.5460354912,503142.28802630067,503143.20136154053,503142.6421855918,503143.166338219,503143.31917598913,503143.3112326684,503142.7301691312,503141.8988462266,503141.9179734934,503142.63926605036,503142.23337766243,503141.9222360576,503141.9763704011,503141.4983318301,503141.4580142752,503142.39213457116,503142.4729015702,503142.7031680931,503143.63894745207,503143.9578637429,503143.6746723301,503144.03729688335,503144.4697011022,503144.4296991365,503144.0873916768,503143.6114955984,503143.6409285885,503144.02004543156,503143.46129901835,503143.4519828997,503143.5349880738,503143.49460022553,503143.72684943595,503143.53709242895,503143.46171944035,503143.03720431903,503142.7275639073,503142.1736201874,503141.7084695724,503142.0281690798,503141.2560835812,503140.557679749,503140.57286897884,503139.5111276667,503139.9574907512,503140.0488128879,503139.9218706675,503139.469732645,503139.1972538441,503139.2514340619,503139.3585323028,503139.2432686918,503138.953254733,503139.18803443864,503138.91867521167,503139.1428747837,503139.67875643884,503139.89130294486,503139.93915440777,503140.1215731318,503140.18081127794,503140.08245670714,503140.0413870461,503139.86977331375,503140.4172929313,503140.7483917384,503140.60640035325,503140.9074573235,503141.281922128,503141.06351499096,503140.47378773347,503140.60739886906,503140.4223388017,503141.2294872087,503141.47831828316,503142.0909231083,503141.836244057,503141.7113840674,503141.48618229735,503142.02434785117,503142.2126270178,503141.94548411283,503141.55010794697,503142.0404804578,503141.78643534577,503141.9180677472,503142.1126463547,503141.4828414203,503141.7049772764,503141.1858725326,503140.77602402196,503140.9986742691,503140.57254545455,503141.34992146515,503140.9504439425,503141.03671302873,503141.4236939789,503141.50743541634,503141.6479508947,503141.9711337123,503141.8442188448,503141.5421488345,503141.63386910857,503141.659033866,503141.93276523956,503141.79855662526,503141.79193883087,503141.57627342636,503141.6486734279,503141.85549373657,503142.29594582075,503142.5804756201,503142.9960854469,503142.6708661334,503143.6230744243,503143.62457934045,503144.3173162138,503144.38457907137,503144.3641614889,503144.5161444113,503144.41057953925,503145.1662240391,503144.6142370304,503145.17313086486,503145.2436347461,503145.1909453177,503144.53652491485,503144.2776669656,503143.50192699325,503142.7493101893,503142.87490248075,503143.0565027543,503143.175719475,503143.06427698466,503143.5907004496,503143.4917529028,503143.0498329987,503142.6866209152,503142.9204147851,503142.654744787,503143.11740148347,503143.02686371905,503143.116064575,503142.6470900725,503142.23906780826,503142.2575621,503142.31136185036,503142.6786260214,503142.60406102816,503142.86752643867,503143.12301217904,503143.63406386087,503143.21526093595,503142.80389560625,503142.5930460447,503142.53826183383,503142.5613839049,503142.45881559246,503142.7173196699,503142.8870030808,503141.7862036503,503141.5112614987,503141.5570037184,503141.5527722811,503141.23700441595,503140.8984797008,503140.68157728144],\"yaxis\":\"y\",\"type\":\"scatter\"},{\"name\":\"Minimum MSE\",\"x\":[3250000.0],\"y\":[503133.57198561437],\"type\":\"scatter\"}],                        {\"legend\":{\"tracegroupgap\":0},\"template\":{\"data\":{\"barpolar\":[{\"marker\":{\"line\":{\"color\":\"#E5ECF6\",\"width\":0.5},\"pattern\":{\"fillmode\":\"overlay\",\"size\":10,\"solidity\":0.2}},\"type\":\"barpolar\"}],\"bar\":[{\"error_x\":{\"color\":\"#2a3f5f\"},\"error_y\":{\"color\":\"#2a3f5f\"},\"marker\":{\"line\":{\"color\":\"#E5ECF6\",\"width\":0.5},\"pattern\":{\"fillmode\":\"overlay\",\"size\":10,\"solidity\":0.2}},\"type\":\"bar\"}],\"carpet\":[{\"aaxis\":{\"endlinecolor\":\"#2a3f5f\",\"gridcolor\":\"white\",\"linecolor\":\"white\",\"minorgridcolor\":\"white\",\"startlinecolor\":\"#2a3f5f\"},\"baxis\":{\"endlinecolor\":\"#2a3f5f\",\"gridcolor\":\"white\",\"linecolor\":\"white\",\"minorgridcolor\":\"white\",\"startlinecolor\":\"#2a3f5f\"},\"type\":\"carpet\"}],\"choropleth\":[{\"colorbar\":{\"outlinewidth\":0,\"ticks\":\"\"},\"type\":\"choropleth\"}],\"contourcarpet\":[{\"colorbar\":{\"outlinewidth\":0,\"ticks\":\"\"},\"type\":\"contourcarpet\"}],\"contour\":[{\"colorbar\":{\"outlinewidth\":0,\"ticks\":\"\"},\"colorscale\":[[0.0,\"#0d0887\"],[0.1111111111111111,\"#46039f\"],[0.2222222222222222,\"#7201a8\"],[0.3333333333333333,\"#9c179e\"],[0.4444444444444444,\"#bd3786\"],[0.5555555555555556,\"#d8576b\"],[0.6666666666666666,\"#ed7953\"],[0.7777777777777778,\"#fb9f3a\"],[0.8888888888888888,\"#fdca26\"],[1.0,\"#f0f921\"]],\"type\":\"contour\"}],\"heatmapgl\":[{\"colorbar\":{\"outlinewidth\":0,\"ticks\":\"\"},\"colorscale\":[[0.0,\"#0d0887\"],[0.1111111111111111,\"#46039f\"],[0.2222222222222222,\"#7201a8\"],[0.3333333333333333,\"#9c179e\"],[0.4444444444444444,\"#bd3786\"],[0.5555555555555556,\"#d8576b\"],[0.6666666666666666,\"#ed7953\"],[0.7777777777777778,\"#fb9f3a\"],[0.8888888888888888,\"#fdca26\"],[1.0,\"#f0f921\"]],\"type\":\"heatmapgl\"}],\"heatmap\":[{\"colorbar\":{\"outlinewidth\":0,\"ticks\":\"\"},\"colorscale\":[[0.0,\"#0d0887\"],[0.1111111111111111,\"#46039f\"],[0.2222222222222222,\"#7201a8\"],[0.3333333333333333,\"#9c179e\"],[0.4444444444444444,\"#bd3786\"],[0.5555555555555556,\"#d8576b\"],[0.6666666666666666,\"#ed7953\"],[0.7777777777777778,\"#fb9f3a\"],[0.8888888888888888,\"#fdca26\"],[1.0,\"#f0f921\"]],\"type\":\"heatmap\"}],\"histogram2dcontour\":[{\"colorbar\":{\"outlinewidth\":0,\"ticks\":\"\"},\"colorscale\":[[0.0,\"#0d0887\"],[0.1111111111111111,\"#46039f\"],[0.2222222222222222,\"#7201a8\"],[0.3333333333333333,\"#9c179e\"],[0.4444444444444444,\"#bd3786\"],[0.5555555555555556,\"#d8576b\"],[0.6666666666666666,\"#ed7953\"],[0.7777777777777778,\"#fb9f3a\"],[0.8888888888888888,\"#fdca26\"],[1.0,\"#f0f921\"]],\"type\":\"histogram2dcontour\"}],\"histogram2d\":[{\"colorbar\":{\"outlinewidth\":0,\"ticks\":\"\"},\"colorscale\":[[0.0,\"#0d0887\"],[0.1111111111111111,\"#46039f\"],[0.2222222222222222,\"#7201a8\"],[0.3333333333333333,\"#9c179e\"],[0.4444444444444444,\"#bd3786\"],[0.5555555555555556,\"#d8576b\"],[0.6666666666666666,\"#ed7953\"],[0.7777777777777778,\"#fb9f3a\"],[0.8888888888888888,\"#fdca26\"],[1.0,\"#f0f921\"]],\"type\":\"histogram2d\"}],\"histogram\":[{\"marker\":{\"pattern\":{\"fillmode\":\"overlay\",\"size\":10,\"solidity\":0.2}},\"type\":\"histogram\"}],\"mesh3d\":[{\"colorbar\":{\"outlinewidth\":0,\"ticks\":\"\"},\"type\":\"mesh3d\"}],\"parcoords\":[{\"line\":{\"colorbar\":{\"outlinewidth\":0,\"ticks\":\"\"}},\"type\":\"parcoords\"}],\"pie\":[{\"automargin\":true,\"type\":\"pie\"}],\"scatter3d\":[{\"line\":{\"colorbar\":{\"outlinewidth\":0,\"ticks\":\"\"}},\"marker\":{\"colorbar\":{\"outlinewidth\":0,\"ticks\":\"\"}},\"type\":\"scatter3d\"}],\"scattercarpet\":[{\"marker\":{\"colorbar\":{\"outlinewidth\":0,\"ticks\":\"\"}},\"type\":\"scattercarpet\"}],\"scattergeo\":[{\"marker\":{\"colorbar\":{\"outlinewidth\":0,\"ticks\":\"\"}},\"type\":\"scattergeo\"}],\"scattergl\":[{\"marker\":{\"colorbar\":{\"outlinewidth\":0,\"ticks\":\"\"}},\"type\":\"scattergl\"}],\"scattermapbox\":[{\"marker\":{\"colorbar\":{\"outlinewidth\":0,\"ticks\":\"\"}},\"type\":\"scattermapbox\"}],\"scatterpolargl\":[{\"marker\":{\"colorbar\":{\"outlinewidth\":0,\"ticks\":\"\"}},\"type\":\"scatterpolargl\"}],\"scatterpolar\":[{\"marker\":{\"colorbar\":{\"outlinewidth\":0,\"ticks\":\"\"}},\"type\":\"scatterpolar\"}],\"scatter\":[{\"marker\":{\"colorbar\":{\"outlinewidth\":0,\"ticks\":\"\"}},\"type\":\"scatter\"}],\"scatterternary\":[{\"marker\":{\"colorbar\":{\"outlinewidth\":0,\"ticks\":\"\"}},\"type\":\"scatterternary\"}],\"surface\":[{\"colorbar\":{\"outlinewidth\":0,\"ticks\":\"\"},\"colorscale\":[[0.0,\"#0d0887\"],[0.1111111111111111,\"#46039f\"],[0.2222222222222222,\"#7201a8\"],[0.3333333333333333,\"#9c179e\"],[0.4444444444444444,\"#bd3786\"],[0.5555555555555556,\"#d8576b\"],[0.6666666666666666,\"#ed7953\"],[0.7777777777777778,\"#fb9f3a\"],[0.8888888888888888,\"#fdca26\"],[1.0,\"#f0f921\"]],\"type\":\"surface\"}],\"table\":[{\"cells\":{\"fill\":{\"color\":\"#EBF0F8\"},\"line\":{\"color\":\"white\"}},\"header\":{\"fill\":{\"color\":\"#C8D4E3\"},\"line\":{\"color\":\"white\"}},\"type\":\"table\"}]},\"layout\":{\"annotationdefaults\":{\"arrowcolor\":\"#2a3f5f\",\"arrowhead\":0,\"arrowwidth\":1},\"autotypenumbers\":\"strict\",\"coloraxis\":{\"colorbar\":{\"outlinewidth\":0,\"ticks\":\"\"}},\"colorscale\":{\"diverging\":[[0,\"#8e0152\"],[0.1,\"#c51b7d\"],[0.2,\"#de77ae\"],[0.3,\"#f1b6da\"],[0.4,\"#fde0ef\"],[0.5,\"#f7f7f7\"],[0.6,\"#e6f5d0\"],[0.7,\"#b8e186\"],[0.8,\"#7fbc41\"],[0.9,\"#4d9221\"],[1,\"#276419\"]],\"sequential\":[[0.0,\"#0d0887\"],[0.1111111111111111,\"#46039f\"],[0.2222222222222222,\"#7201a8\"],[0.3333333333333333,\"#9c179e\"],[0.4444444444444444,\"#bd3786\"],[0.5555555555555556,\"#d8576b\"],[0.6666666666666666,\"#ed7953\"],[0.7777777777777778,\"#fb9f3a\"],[0.8888888888888888,\"#fdca26\"],[1.0,\"#f0f921\"]],\"sequentialminus\":[[0.0,\"#0d0887\"],[0.1111111111111111,\"#46039f\"],[0.2222222222222222,\"#7201a8\"],[0.3333333333333333,\"#9c179e\"],[0.4444444444444444,\"#bd3786\"],[0.5555555555555556,\"#d8576b\"],[0.6666666666666666,\"#ed7953\"],[0.7777777777777778,\"#fb9f3a\"],[0.8888888888888888,\"#fdca26\"],[1.0,\"#f0f921\"]]},\"colorway\":[\"#636efa\",\"#EF553B\",\"#00cc96\",\"#ab63fa\",\"#FFA15A\",\"#19d3f3\",\"#FF6692\",\"#B6E880\",\"#FF97FF\",\"#FECB52\"],\"font\":{\"color\":\"#2a3f5f\"},\"geo\":{\"bgcolor\":\"white\",\"lakecolor\":\"white\",\"landcolor\":\"#E5ECF6\",\"showlakes\":true,\"showland\":true,\"subunitcolor\":\"white\"},\"hoverlabel\":{\"align\":\"left\"},\"hovermode\":\"closest\",\"mapbox\":{\"style\":\"light\"},\"paper_bgcolor\":\"white\",\"plot_bgcolor\":\"#E5ECF6\",\"polar\":{\"angularaxis\":{\"gridcolor\":\"white\",\"linecolor\":\"white\",\"ticks\":\"\"},\"bgcolor\":\"#E5ECF6\",\"radialaxis\":{\"gridcolor\":\"white\",\"linecolor\":\"white\",\"ticks\":\"\"}},\"scene\":{\"xaxis\":{\"backgroundcolor\":\"#E5ECF6\",\"gridcolor\":\"white\",\"gridwidth\":2,\"linecolor\":\"white\",\"showbackground\":true,\"ticks\":\"\",\"zerolinecolor\":\"white\"},\"yaxis\":{\"backgroundcolor\":\"#E5ECF6\",\"gridcolor\":\"white\",\"gridwidth\":2,\"linecolor\":\"white\",\"showbackground\":true,\"ticks\":\"\",\"zerolinecolor\":\"white\"},\"zaxis\":{\"backgroundcolor\":\"#E5ECF6\",\"gridcolor\":\"white\",\"gridwidth\":2,\"linecolor\":\"white\",\"showbackground\":true,\"ticks\":\"\",\"zerolinecolor\":\"white\"}},\"shapedefaults\":{\"line\":{\"color\":\"#2a3f5f\"}},\"ternary\":{\"aaxis\":{\"gridcolor\":\"white\",\"linecolor\":\"white\",\"ticks\":\"\"},\"baxis\":{\"gridcolor\":\"white\",\"linecolor\":\"white\",\"ticks\":\"\"},\"bgcolor\":\"#E5ECF6\",\"caxis\":{\"gridcolor\":\"white\",\"linecolor\":\"white\",\"ticks\":\"\"}},\"title\":{\"x\":0.05},\"xaxis\":{\"automargin\":true,\"gridcolor\":\"white\",\"linecolor\":\"white\",\"ticks\":\"\",\"title\":{\"standoff\":15},\"zerolinecolor\":\"white\",\"zerolinewidth\":2},\"yaxis\":{\"automargin\":true,\"gridcolor\":\"white\",\"linecolor\":\"white\",\"ticks\":\"\",\"title\":{\"standoff\":15},\"zerolinecolor\":\"white\",\"zerolinewidth\":2}}},\"title\":{\"text\":\"MSE with K-Fold Cross Validation w/ 30/70 Test Train Ratio\"},\"xaxis\":{\"anchor\":\"y\",\"domain\":[0.0,1.0],\"title\":{\"text\":\"Ridge Parameter\"}},\"yaxis\":{\"anchor\":\"x\",\"domain\":[0.0,1.0],\"title\":{\"text\":\"Mean Squared Error\"}}},                        {\"responsive\": true}                    ).then(function(){\n",
       "                            \n",
       "var gd = document.getElementById('98568f04-0efc-49b3-9f29-7da74e858580');\n",
       "var x = new MutationObserver(function (mutations, observer) {{\n",
       "        var display = window.getComputedStyle(gd).display;\n",
       "        if (!display || display === 'none') {{\n",
       "            console.log([gd, 'removed!']);\n",
       "            Plotly.purge(gd);\n",
       "            observer.disconnect();\n",
       "        }}\n",
       "}});\n",
       "\n",
       "// Listen for the removal of the full notebook cells\n",
       "var notebookContainer = gd.closest('#notebook-container');\n",
       "if (notebookContainer) {{\n",
       "    x.observe(notebookContainer, {childList: true});\n",
       "}}\n",
       "\n",
       "// Listen for the clearing of the current output cell\n",
       "var outputEl = gd.closest('.output');\n",
       "if (outputEl) {{\n",
       "    x.observe(outputEl, {childList: true});\n",
       "}}\n",
       "\n",
       "                        })                };                });            </script>        </div>"
      ]
     },
     "metadata": {},
     "output_type": "display_data"
    },
    {
     "data": {
      "application/javascript": [
       "\n",
       "            setTimeout(function() {\n",
       "                var nbb_cell_id = 24;\n",
       "                var nbb_unformatted_code = \"kfoldMSE = pd.DataFrame({\\\"lambda\\\": alphas, \\\"MSE\\\": listMSE})\\n\\nminMSEindex = kfoldMSE[\\\"MSE\\\"].idxmin()\\nminMSErow = kfoldMSE.iloc[minMSEindex]\\n\\nfig = go.Figure(\\n    data=px.scatter(\\n        kfoldMSE,\\n        x=\\\"lambda\\\",\\n        y=\\\"MSE\\\",\\n        labels={\\\"lambda\\\": \\\"Ridge Parameter\\\", \\\"MSE\\\": \\\"Mean Squared Error\\\"},\\n        title=\\\"MSE with K-Fold Cross Validation w/ 30/70 Test Train Ratio\\\",\\n    )\\n)\\n\\nfig.add_trace(\\n    go.Scatter(\\n        x=[minMSErow.loc[\\\"lambda\\\"]], y=[minMSErow.loc[\\\"MSE\\\"]], name=\\\"Minimum MSE\\\"\\n    )\\n)\\n\\nfig.show()\";\n",
       "                var nbb_formatted_code = \"kfoldMSE = pd.DataFrame({\\\"lambda\\\": alphas, \\\"MSE\\\": listMSE})\\n\\nminMSEindex = kfoldMSE[\\\"MSE\\\"].idxmin()\\nminMSErow = kfoldMSE.iloc[minMSEindex]\\n\\nfig = go.Figure(\\n    data=px.scatter(\\n        kfoldMSE,\\n        x=\\\"lambda\\\",\\n        y=\\\"MSE\\\",\\n        labels={\\\"lambda\\\": \\\"Ridge Parameter\\\", \\\"MSE\\\": \\\"Mean Squared Error\\\"},\\n        title=\\\"MSE with K-Fold Cross Validation w/ 30/70 Test Train Ratio\\\",\\n    )\\n)\\n\\nfig.add_trace(\\n    go.Scatter(\\n        x=[minMSErow.loc[\\\"lambda\\\"]], y=[minMSErow.loc[\\\"MSE\\\"]], name=\\\"Minimum MSE\\\"\\n    )\\n)\\n\\nfig.show()\";\n",
       "                var nbb_cells = Jupyter.notebook.get_cells();\n",
       "                for (var i = 0; i < nbb_cells.length; ++i) {\n",
       "                    if (nbb_cells[i].input_prompt_number == nbb_cell_id) {\n",
       "                        if (nbb_cells[i].get_text() == nbb_unformatted_code) {\n",
       "                             nbb_cells[i].set_text(nbb_formatted_code);\n",
       "                        }\n",
       "                        break;\n",
       "                    }\n",
       "                }\n",
       "            }, 500);\n",
       "            "
      ],
      "text/plain": [
       "<IPython.core.display.Javascript object>"
      ]
     },
     "metadata": {},
     "output_type": "display_data"
    }
   ],
   "source": [
    "kfoldMSE = pd.DataFrame({\"lambda\": alphas, \"MSE\": listMSE})\n",
    "\n",
    "minMSEindex = kfoldMSE[\"MSE\"].idxmin()\n",
    "minMSErow = kfoldMSE.iloc[minMSEindex]\n",
    "\n",
    "fig = go.Figure(\n",
    "    data=px.scatter(\n",
    "        kfoldMSE,\n",
    "        x=\"lambda\",\n",
    "        y=\"MSE\",\n",
    "        labels={\"lambda\": \"Ridge Parameter\", \"MSE\": \"Mean Squared Error\"},\n",
    "        title=\"MSE with K-Fold Cross Validation w/ 30/70 Test Train Ratio\",\n",
    "    )\n",
    ")\n",
    "\n",
    "fig.add_trace(\n",
    "    go.Scatter(\n",
    "        x=[minMSErow.loc[\"lambda\"]], y=[minMSErow.loc[\"MSE\"]], name=\"Minimum MSE\"\n",
    "    )\n",
    ")\n",
    "\n",
    "fig.show()"
   ]
  },
  {
   "cell_type": "code",
   "execution_count": 25,
   "id": "d7956e61",
   "metadata": {},
   "outputs": [
    {
     "data": {
      "text/html": [
       "<div>\n",
       "<style scoped>\n",
       "    .dataframe tbody tr th:only-of-type {\n",
       "        vertical-align: middle;\n",
       "    }\n",
       "\n",
       "    .dataframe tbody tr th {\n",
       "        vertical-align: top;\n",
       "    }\n",
       "\n",
       "    .dataframe thead th {\n",
       "        text-align: right;\n",
       "    }\n",
       "</style>\n",
       "<table border=\"1\" class=\"dataframe\">\n",
       "  <thead>\n",
       "    <tr style=\"text-align: right;\">\n",
       "      <th></th>\n",
       "      <th>coef</th>\n",
       "      <th>names</th>\n",
       "    </tr>\n",
       "  </thead>\n",
       "  <tbody>\n",
       "    <tr>\n",
       "      <th>26</th>\n",
       "      <td>0.031626</td>\n",
       "      <td>Credit_Worthiness_l1</td>\n",
       "    </tr>\n",
       "    <tr>\n",
       "      <th>58</th>\n",
       "      <td>0.022221</td>\n",
       "      <td>age_45-54</td>\n",
       "    </tr>\n",
       "    <tr>\n",
       "      <th>42</th>\n",
       "      <td>0.020559</td>\n",
       "      <td>total_units_3U</td>\n",
       "    </tr>\n",
       "    <tr>\n",
       "      <th>50</th>\n",
       "      <td>0.019827</td>\n",
       "      <td>Gender_Male</td>\n",
       "    </tr>\n",
       "    <tr>\n",
       "      <th>43</th>\n",
       "      <td>0.019789</td>\n",
       "      <td>total_units_4U</td>\n",
       "    </tr>\n",
       "    <tr>\n",
       "      <th>52</th>\n",
       "      <td>0.019138</td>\n",
       "      <td>Region_North</td>\n",
       "    </tr>\n",
       "    <tr>\n",
       "      <th>20</th>\n",
       "      <td>0.017449</td>\n",
       "      <td>lump_sum_payment_lpsm</td>\n",
       "    </tr>\n",
       "    <tr>\n",
       "      <th>29</th>\n",
       "      <td>0.015089</td>\n",
       "      <td>approv_in_adv_pre</td>\n",
       "    </tr>\n",
       "    <tr>\n",
       "      <th>2</th>\n",
       "      <td>0.014461</td>\n",
       "      <td>income</td>\n",
       "    </tr>\n",
       "    <tr>\n",
       "      <th>56</th>\n",
       "      <td>0.012550</td>\n",
       "      <td>age_25-34</td>\n",
       "    </tr>\n",
       "    <tr>\n",
       "      <th>39</th>\n",
       "      <td>0.011466</td>\n",
       "      <td>loan_purpose_p4</td>\n",
       "    </tr>\n",
       "    <tr>\n",
       "      <th>44</th>\n",
       "      <td>0.011261</td>\n",
       "      <td>credit_type_CIB</td>\n",
       "    </tr>\n",
       "    <tr>\n",
       "      <th>18</th>\n",
       "      <td>0.008719</td>\n",
       "      <td>Neg_ammortization_neg_amm</td>\n",
       "    </tr>\n",
       "    <tr>\n",
       "      <th>0</th>\n",
       "      <td>0.008585</td>\n",
       "      <td>loan_amount</td>\n",
       "    </tr>\n",
       "    <tr>\n",
       "      <th>11</th>\n",
       "      <td>0.008274</td>\n",
       "      <td>Secured_by_land</td>\n",
       "    </tr>\n",
       "  </tbody>\n",
       "</table>\n",
       "</div>"
      ],
      "text/plain": [
       "        coef                      names\n",
       "26  0.031626       Credit_Worthiness_l1\n",
       "58  0.022221                  age_45-54\n",
       "42  0.020559             total_units_3U\n",
       "50  0.019827                Gender_Male\n",
       "43  0.019789             total_units_4U\n",
       "52  0.019138               Region_North\n",
       "20  0.017449      lump_sum_payment_lpsm\n",
       "29  0.015089          approv_in_adv_pre\n",
       "2   0.014461                     income\n",
       "56  0.012550                  age_25-34\n",
       "39  0.011466            loan_purpose_p4\n",
       "44  0.011261            credit_type_CIB\n",
       "18  0.008719  Neg_ammortization_neg_amm\n",
       "0   0.008585                loan_amount\n",
       "11  0.008274            Secured_by_land"
      ]
     },
     "metadata": {},
     "output_type": "display_data"
    },
    {
     "data": {
      "text/html": [
       "<div>\n",
       "<style scoped>\n",
       "    .dataframe tbody tr th:only-of-type {\n",
       "        vertical-align: middle;\n",
       "    }\n",
       "\n",
       "    .dataframe tbody tr th {\n",
       "        vertical-align: top;\n",
       "    }\n",
       "\n",
       "    .dataframe thead th {\n",
       "        text-align: right;\n",
       "    }\n",
       "</style>\n",
       "<table border=\"1\" class=\"dataframe\">\n",
       "  <thead>\n",
       "    <tr style=\"text-align: right;\">\n",
       "      <th></th>\n",
       "      <th>coef</th>\n",
       "      <th>names</th>\n",
       "    </tr>\n",
       "  </thead>\n",
       "  <tbody>\n",
       "    <tr>\n",
       "      <th>10</th>\n",
       "      <td>-0.008274</td>\n",
       "      <td>Secured_by_home</td>\n",
       "    </tr>\n",
       "    <tr>\n",
       "      <th>19</th>\n",
       "      <td>-0.008719</td>\n",
       "      <td>Neg_ammortization_not_neg</td>\n",
       "    </tr>\n",
       "    <tr>\n",
       "      <th>30</th>\n",
       "      <td>-0.008793</td>\n",
       "      <td>occupancy_type_ir</td>\n",
       "    </tr>\n",
       "    <tr>\n",
       "      <th>61</th>\n",
       "      <td>-0.009721</td>\n",
       "      <td>age_&lt;25</td>\n",
       "    </tr>\n",
       "    <tr>\n",
       "      <th>45</th>\n",
       "      <td>-0.010257</td>\n",
       "      <td>credit_type_CRIF</td>\n",
       "    </tr>\n",
       "    <tr>\n",
       "      <th>57</th>\n",
       "      <td>-0.012379</td>\n",
       "      <td>age_35-44</td>\n",
       "    </tr>\n",
       "    <tr>\n",
       "      <th>37</th>\n",
       "      <td>-0.012680</td>\n",
       "      <td>loan_purpose_p2</td>\n",
       "    </tr>\n",
       "    <tr>\n",
       "      <th>51</th>\n",
       "      <td>-0.012747</td>\n",
       "      <td>Gender_Sex Not Available</td>\n",
       "    </tr>\n",
       "    <tr>\n",
       "      <th>41</th>\n",
       "      <td>-0.013491</td>\n",
       "      <td>total_units_2U</td>\n",
       "    </tr>\n",
       "    <tr>\n",
       "      <th>55</th>\n",
       "      <td>-0.014921</td>\n",
       "      <td>Region_south</td>\n",
       "    </tr>\n",
       "    <tr>\n",
       "      <th>28</th>\n",
       "      <td>-0.015089</td>\n",
       "      <td>approv_in_adv_nopre</td>\n",
       "    </tr>\n",
       "    <tr>\n",
       "      <th>21</th>\n",
       "      <td>-0.017449</td>\n",
       "      <td>lump_sum_payment_not_lpsm</td>\n",
       "    </tr>\n",
       "    <tr>\n",
       "      <th>53</th>\n",
       "      <td>-0.019590</td>\n",
       "      <td>Region_North-East</td>\n",
       "    </tr>\n",
       "    <tr>\n",
       "      <th>62</th>\n",
       "      <td>-0.026209</td>\n",
       "      <td>age_&gt;74</td>\n",
       "    </tr>\n",
       "    <tr>\n",
       "      <th>27</th>\n",
       "      <td>-0.031626</td>\n",
       "      <td>Credit_Worthiness_l2</td>\n",
       "    </tr>\n",
       "  </tbody>\n",
       "</table>\n",
       "</div>"
      ],
      "text/plain": [
       "        coef                      names\n",
       "10 -0.008274            Secured_by_home\n",
       "19 -0.008719  Neg_ammortization_not_neg\n",
       "30 -0.008793          occupancy_type_ir\n",
       "61 -0.009721                    age_<25\n",
       "45 -0.010257           credit_type_CRIF\n",
       "57 -0.012379                  age_35-44\n",
       "37 -0.012680            loan_purpose_p2\n",
       "51 -0.012747   Gender_Sex Not Available\n",
       "41 -0.013491             total_units_2U\n",
       "55 -0.014921               Region_south\n",
       "28 -0.015089        approv_in_adv_nopre\n",
       "21 -0.017449  lump_sum_payment_not_lpsm\n",
       "53 -0.019590          Region_North-East\n",
       "62 -0.026209                    age_>74\n",
       "27 -0.031626       Credit_Worthiness_l2"
      ]
     },
     "metadata": {},
     "output_type": "display_data"
    },
    {
     "data": {
      "application/javascript": [
       "\n",
       "            setTimeout(function() {\n",
       "                var nbb_cell_id = 25;\n",
       "                var nbb_unformatted_code = \"# Now with our optimized lambda of 10 million\\n\\nbeta = sp.linalg.inv((Xtrain.T @ Xtrain) + 1e7 * I) @ Xtrain.T @ Ytrain\\nmodel_coef = pd.DataFrame({\\\"coef\\\": beta, \\\"names\\\": variables})\\nsorted_model = model_coef[model_coef[\\\"coef\\\"] != 0].sort_values(\\n    by=\\\"coef\\\", ascending=False\\n)\\ndisplay(sorted_model.head(15))\\ndisplay(sorted_model.tail(15))\";\n",
       "                var nbb_formatted_code = \"# Now with our optimized lambda of 10 million\\n\\nbeta = sp.linalg.inv((Xtrain.T @ Xtrain) + 1e7 * I) @ Xtrain.T @ Ytrain\\nmodel_coef = pd.DataFrame({\\\"coef\\\": beta, \\\"names\\\": variables})\\nsorted_model = model_coef[model_coef[\\\"coef\\\"] != 0].sort_values(\\n    by=\\\"coef\\\", ascending=False\\n)\\ndisplay(sorted_model.head(15))\\ndisplay(sorted_model.tail(15))\";\n",
       "                var nbb_cells = Jupyter.notebook.get_cells();\n",
       "                for (var i = 0; i < nbb_cells.length; ++i) {\n",
       "                    if (nbb_cells[i].input_prompt_number == nbb_cell_id) {\n",
       "                        if (nbb_cells[i].get_text() == nbb_unformatted_code) {\n",
       "                             nbb_cells[i].set_text(nbb_formatted_code);\n",
       "                        }\n",
       "                        break;\n",
       "                    }\n",
       "                }\n",
       "            }, 500);\n",
       "            "
      ],
      "text/plain": [
       "<IPython.core.display.Javascript object>"
      ]
     },
     "metadata": {},
     "output_type": "display_data"
    }
   ],
   "source": [
    "# Now with our optimized lambda of 10 million\n",
    "\n",
    "beta = sp.linalg.inv((Xtrain.T @ Xtrain) + 1e7 * I) @ Xtrain.T @ Ytrain\n",
    "model_coef = pd.DataFrame({\"coef\": beta, \"names\": variables})\n",
    "sorted_model = model_coef[model_coef[\"coef\"] != 0].sort_values(\n",
    "    by=\"coef\", ascending=False\n",
    ")\n",
    "display(sorted_model.head(15))\n",
    "display(sorted_model.tail(15))"
   ]
  },
  {
   "cell_type": "code",
   "execution_count": null,
   "id": "76ae077e",
   "metadata": {},
   "outputs": [],
   "source": []
  },
  {
   "cell_type": "code",
   "execution_count": 26,
   "id": "4f084af1",
   "metadata": {},
   "outputs": [
    {
     "name": "stdout",
     "output_type": "stream",
     "text": [
      "--- 6.045917987823486 seconds ---\n"
     ]
    },
    {
     "data": {
      "application/javascript": [
       "\n",
       "            setTimeout(function() {\n",
       "                var nbb_cell_id = 26;\n",
       "                var nbb_unformatted_code = \"start = time.time()\\n\\n\\ndef KfoldCV(X, Y, alphas, k):\\n    masterList = np.array([])  # what we return\\n    MSElist = np.array([])\\n    for l2 in alphas:\\n        for i in range(k):\\n            Xtrain, Xtest, Ytrain, Ytest = train_test_split(X, Y, test_size=0.5)\\n\\n            n, m = Xtrain.shape\\n            I = np.identity(m)\\n            # Beta vector\\n            beta = sp.linalg.inv((Xtrain.T @ Xtrain) + l2 * I) @ Xtrain.T @ Ytrain\\n\\n            Ypred = Xtest @ beta\\n            MSE = mean_squared_error(Ytest, Ypred)\\n\\n            MSElist = np.append(MSElist, MSE)\\n\\n        masterList = np.append(masterList, np.mean(MSElist))\\n\\n    return masterList\\n\\n\\nalphas_small = np.arange(0, 200, 10)\\nlistMSE_5050 = KfoldCV(X_standardized.to_numpy(), y, alphas_small, 4)\\nprint(\\\"--- %s seconds ---\\\" % (time.time() - start))\";\n",
       "                var nbb_formatted_code = \"start = time.time()\\n\\n\\ndef KfoldCV(X, Y, alphas, k):\\n    masterList = np.array([])  # what we return\\n    MSElist = np.array([])\\n    for l2 in alphas:\\n        for i in range(k):\\n            Xtrain, Xtest, Ytrain, Ytest = train_test_split(X, Y, test_size=0.5)\\n\\n            n, m = Xtrain.shape\\n            I = np.identity(m)\\n            # Beta vector\\n            beta = sp.linalg.inv((Xtrain.T @ Xtrain) + l2 * I) @ Xtrain.T @ Ytrain\\n\\n            Ypred = Xtest @ beta\\n            MSE = mean_squared_error(Ytest, Ypred)\\n\\n            MSElist = np.append(MSElist, MSE)\\n\\n        masterList = np.append(masterList, np.mean(MSElist))\\n\\n    return masterList\\n\\n\\nalphas_small = np.arange(0, 200, 10)\\nlistMSE_5050 = KfoldCV(X_standardized.to_numpy(), y, alphas_small, 4)\\nprint(\\\"--- %s seconds ---\\\" % (time.time() - start))\";\n",
       "                var nbb_cells = Jupyter.notebook.get_cells();\n",
       "                for (var i = 0; i < nbb_cells.length; ++i) {\n",
       "                    if (nbb_cells[i].input_prompt_number == nbb_cell_id) {\n",
       "                        if (nbb_cells[i].get_text() == nbb_unformatted_code) {\n",
       "                             nbb_cells[i].set_text(nbb_formatted_code);\n",
       "                        }\n",
       "                        break;\n",
       "                    }\n",
       "                }\n",
       "            }, 500);\n",
       "            "
      ],
      "text/plain": [
       "<IPython.core.display.Javascript object>"
      ]
     },
     "metadata": {},
     "output_type": "display_data"
    }
   ],
   "source": [
    "start = time.time()\n",
    "\n",
    "\n",
    "def KfoldCV(X, Y, alphas, k):\n",
    "    masterList = np.array([])  # what we return\n",
    "    MSElist = np.array([])\n",
    "    for l2 in alphas:\n",
    "        for i in range(k):\n",
    "            Xtrain, Xtest, Ytrain, Ytest = train_test_split(X, Y, test_size=0.5)\n",
    "\n",
    "            n, m = Xtrain.shape\n",
    "            I = np.identity(m)\n",
    "            # Beta vector\n",
    "            beta = sp.linalg.inv((Xtrain.T @ Xtrain) + l2 * I) @ Xtrain.T @ Ytrain\n",
    "\n",
    "            Ypred = Xtest @ beta\n",
    "            MSE = mean_squared_error(Ytest, Ypred)\n",
    "\n",
    "            MSElist = np.append(MSElist, MSE)\n",
    "\n",
    "        masterList = np.append(masterList, np.mean(MSElist))\n",
    "\n",
    "    return masterList\n",
    "\n",
    "\n",
    "alphas_small = np.arange(0, 200, 10)\n",
    "listMSE_5050 = KfoldCV(X_standardized.to_numpy(), y, alphas_small, 4)\n",
    "print(\"--- %s seconds ---\" % (time.time() - start))"
   ]
  },
  {
   "cell_type": "code",
   "execution_count": 27,
   "id": "e747f936",
   "metadata": {
    "scrolled": true
   },
   "outputs": [
    {
     "data": {
      "application/vnd.plotly.v1+json": {
       "config": {
        "plotlyServerURL": "https://plot.ly"
       },
       "data": [
        {
         "hovertemplate": "Ridge Parameter=%{x}<br>Mean Squared Error=%{y}<extra></extra>",
         "legendgroup": "",
         "marker": {
          "color": "#636efa",
          "symbol": "circle"
         },
         "mode": "markers",
         "name": "",
         "orientation": "v",
         "showlegend": false,
         "type": "scatter",
         "x": [
          0,
          10,
          20,
          30,
          40,
          50,
          60,
          70,
          80,
          90,
          100,
          110,
          120,
          130,
          140,
          150,
          160,
          170,
          180,
          190
         ],
         "xaxis": "x",
         "y": [
          174236583262240.12,
          87118291882769.98,
          58078861423075.37,
          43559146193202.54,
          34847317055307.812,
          29039430963270.582,
          24890940897584.375,
          21779573348328.594,
          19359620809994.535,
          17423658779331.506,
          15839689845190.764,
          14519715733390.062,
          13402814561852.137,
          12445470700533.754,
          11615772687403.18,
          10889786925914.424,
          10249211254020.99,
          9679810656750.164,
          9170346964495.13,
          8711829641444.089
         ],
         "yaxis": "y"
        },
        {
         "name": "Minimum MSE",
         "type": "scatter",
         "x": [
          190
         ],
         "y": [
          8711829641444.089
         ]
        }
       ],
       "layout": {
        "legend": {
         "tracegroupgap": 0
        },
        "template": {
         "data": {
          "bar": [
           {
            "error_x": {
             "color": "#2a3f5f"
            },
            "error_y": {
             "color": "#2a3f5f"
            },
            "marker": {
             "line": {
              "color": "#E5ECF6",
              "width": 0.5
             },
             "pattern": {
              "fillmode": "overlay",
              "size": 10,
              "solidity": 0.2
             }
            },
            "type": "bar"
           }
          ],
          "barpolar": [
           {
            "marker": {
             "line": {
              "color": "#E5ECF6",
              "width": 0.5
             },
             "pattern": {
              "fillmode": "overlay",
              "size": 10,
              "solidity": 0.2
             }
            },
            "type": "barpolar"
           }
          ],
          "carpet": [
           {
            "aaxis": {
             "endlinecolor": "#2a3f5f",
             "gridcolor": "white",
             "linecolor": "white",
             "minorgridcolor": "white",
             "startlinecolor": "#2a3f5f"
            },
            "baxis": {
             "endlinecolor": "#2a3f5f",
             "gridcolor": "white",
             "linecolor": "white",
             "minorgridcolor": "white",
             "startlinecolor": "#2a3f5f"
            },
            "type": "carpet"
           }
          ],
          "choropleth": [
           {
            "colorbar": {
             "outlinewidth": 0,
             "ticks": ""
            },
            "type": "choropleth"
           }
          ],
          "contour": [
           {
            "colorbar": {
             "outlinewidth": 0,
             "ticks": ""
            },
            "colorscale": [
             [
              0,
              "#0d0887"
             ],
             [
              0.1111111111111111,
              "#46039f"
             ],
             [
              0.2222222222222222,
              "#7201a8"
             ],
             [
              0.3333333333333333,
              "#9c179e"
             ],
             [
              0.4444444444444444,
              "#bd3786"
             ],
             [
              0.5555555555555556,
              "#d8576b"
             ],
             [
              0.6666666666666666,
              "#ed7953"
             ],
             [
              0.7777777777777778,
              "#fb9f3a"
             ],
             [
              0.8888888888888888,
              "#fdca26"
             ],
             [
              1,
              "#f0f921"
             ]
            ],
            "type": "contour"
           }
          ],
          "contourcarpet": [
           {
            "colorbar": {
             "outlinewidth": 0,
             "ticks": ""
            },
            "type": "contourcarpet"
           }
          ],
          "heatmap": [
           {
            "colorbar": {
             "outlinewidth": 0,
             "ticks": ""
            },
            "colorscale": [
             [
              0,
              "#0d0887"
             ],
             [
              0.1111111111111111,
              "#46039f"
             ],
             [
              0.2222222222222222,
              "#7201a8"
             ],
             [
              0.3333333333333333,
              "#9c179e"
             ],
             [
              0.4444444444444444,
              "#bd3786"
             ],
             [
              0.5555555555555556,
              "#d8576b"
             ],
             [
              0.6666666666666666,
              "#ed7953"
             ],
             [
              0.7777777777777778,
              "#fb9f3a"
             ],
             [
              0.8888888888888888,
              "#fdca26"
             ],
             [
              1,
              "#f0f921"
             ]
            ],
            "type": "heatmap"
           }
          ],
          "heatmapgl": [
           {
            "colorbar": {
             "outlinewidth": 0,
             "ticks": ""
            },
            "colorscale": [
             [
              0,
              "#0d0887"
             ],
             [
              0.1111111111111111,
              "#46039f"
             ],
             [
              0.2222222222222222,
              "#7201a8"
             ],
             [
              0.3333333333333333,
              "#9c179e"
             ],
             [
              0.4444444444444444,
              "#bd3786"
             ],
             [
              0.5555555555555556,
              "#d8576b"
             ],
             [
              0.6666666666666666,
              "#ed7953"
             ],
             [
              0.7777777777777778,
              "#fb9f3a"
             ],
             [
              0.8888888888888888,
              "#fdca26"
             ],
             [
              1,
              "#f0f921"
             ]
            ],
            "type": "heatmapgl"
           }
          ],
          "histogram": [
           {
            "marker": {
             "pattern": {
              "fillmode": "overlay",
              "size": 10,
              "solidity": 0.2
             }
            },
            "type": "histogram"
           }
          ],
          "histogram2d": [
           {
            "colorbar": {
             "outlinewidth": 0,
             "ticks": ""
            },
            "colorscale": [
             [
              0,
              "#0d0887"
             ],
             [
              0.1111111111111111,
              "#46039f"
             ],
             [
              0.2222222222222222,
              "#7201a8"
             ],
             [
              0.3333333333333333,
              "#9c179e"
             ],
             [
              0.4444444444444444,
              "#bd3786"
             ],
             [
              0.5555555555555556,
              "#d8576b"
             ],
             [
              0.6666666666666666,
              "#ed7953"
             ],
             [
              0.7777777777777778,
              "#fb9f3a"
             ],
             [
              0.8888888888888888,
              "#fdca26"
             ],
             [
              1,
              "#f0f921"
             ]
            ],
            "type": "histogram2d"
           }
          ],
          "histogram2dcontour": [
           {
            "colorbar": {
             "outlinewidth": 0,
             "ticks": ""
            },
            "colorscale": [
             [
              0,
              "#0d0887"
             ],
             [
              0.1111111111111111,
              "#46039f"
             ],
             [
              0.2222222222222222,
              "#7201a8"
             ],
             [
              0.3333333333333333,
              "#9c179e"
             ],
             [
              0.4444444444444444,
              "#bd3786"
             ],
             [
              0.5555555555555556,
              "#d8576b"
             ],
             [
              0.6666666666666666,
              "#ed7953"
             ],
             [
              0.7777777777777778,
              "#fb9f3a"
             ],
             [
              0.8888888888888888,
              "#fdca26"
             ],
             [
              1,
              "#f0f921"
             ]
            ],
            "type": "histogram2dcontour"
           }
          ],
          "mesh3d": [
           {
            "colorbar": {
             "outlinewidth": 0,
             "ticks": ""
            },
            "type": "mesh3d"
           }
          ],
          "parcoords": [
           {
            "line": {
             "colorbar": {
              "outlinewidth": 0,
              "ticks": ""
             }
            },
            "type": "parcoords"
           }
          ],
          "pie": [
           {
            "automargin": true,
            "type": "pie"
           }
          ],
          "scatter": [
           {
            "marker": {
             "colorbar": {
              "outlinewidth": 0,
              "ticks": ""
             }
            },
            "type": "scatter"
           }
          ],
          "scatter3d": [
           {
            "line": {
             "colorbar": {
              "outlinewidth": 0,
              "ticks": ""
             }
            },
            "marker": {
             "colorbar": {
              "outlinewidth": 0,
              "ticks": ""
             }
            },
            "type": "scatter3d"
           }
          ],
          "scattercarpet": [
           {
            "marker": {
             "colorbar": {
              "outlinewidth": 0,
              "ticks": ""
             }
            },
            "type": "scattercarpet"
           }
          ],
          "scattergeo": [
           {
            "marker": {
             "colorbar": {
              "outlinewidth": 0,
              "ticks": ""
             }
            },
            "type": "scattergeo"
           }
          ],
          "scattergl": [
           {
            "marker": {
             "colorbar": {
              "outlinewidth": 0,
              "ticks": ""
             }
            },
            "type": "scattergl"
           }
          ],
          "scattermapbox": [
           {
            "marker": {
             "colorbar": {
              "outlinewidth": 0,
              "ticks": ""
             }
            },
            "type": "scattermapbox"
           }
          ],
          "scatterpolar": [
           {
            "marker": {
             "colorbar": {
              "outlinewidth": 0,
              "ticks": ""
             }
            },
            "type": "scatterpolar"
           }
          ],
          "scatterpolargl": [
           {
            "marker": {
             "colorbar": {
              "outlinewidth": 0,
              "ticks": ""
             }
            },
            "type": "scatterpolargl"
           }
          ],
          "scatterternary": [
           {
            "marker": {
             "colorbar": {
              "outlinewidth": 0,
              "ticks": ""
             }
            },
            "type": "scatterternary"
           }
          ],
          "surface": [
           {
            "colorbar": {
             "outlinewidth": 0,
             "ticks": ""
            },
            "colorscale": [
             [
              0,
              "#0d0887"
             ],
             [
              0.1111111111111111,
              "#46039f"
             ],
             [
              0.2222222222222222,
              "#7201a8"
             ],
             [
              0.3333333333333333,
              "#9c179e"
             ],
             [
              0.4444444444444444,
              "#bd3786"
             ],
             [
              0.5555555555555556,
              "#d8576b"
             ],
             [
              0.6666666666666666,
              "#ed7953"
             ],
             [
              0.7777777777777778,
              "#fb9f3a"
             ],
             [
              0.8888888888888888,
              "#fdca26"
             ],
             [
              1,
              "#f0f921"
             ]
            ],
            "type": "surface"
           }
          ],
          "table": [
           {
            "cells": {
             "fill": {
              "color": "#EBF0F8"
             },
             "line": {
              "color": "white"
             }
            },
            "header": {
             "fill": {
              "color": "#C8D4E3"
             },
             "line": {
              "color": "white"
             }
            },
            "type": "table"
           }
          ]
         },
         "layout": {
          "annotationdefaults": {
           "arrowcolor": "#2a3f5f",
           "arrowhead": 0,
           "arrowwidth": 1
          },
          "autotypenumbers": "strict",
          "coloraxis": {
           "colorbar": {
            "outlinewidth": 0,
            "ticks": ""
           }
          },
          "colorscale": {
           "diverging": [
            [
             0,
             "#8e0152"
            ],
            [
             0.1,
             "#c51b7d"
            ],
            [
             0.2,
             "#de77ae"
            ],
            [
             0.3,
             "#f1b6da"
            ],
            [
             0.4,
             "#fde0ef"
            ],
            [
             0.5,
             "#f7f7f7"
            ],
            [
             0.6,
             "#e6f5d0"
            ],
            [
             0.7,
             "#b8e186"
            ],
            [
             0.8,
             "#7fbc41"
            ],
            [
             0.9,
             "#4d9221"
            ],
            [
             1,
             "#276419"
            ]
           ],
           "sequential": [
            [
             0,
             "#0d0887"
            ],
            [
             0.1111111111111111,
             "#46039f"
            ],
            [
             0.2222222222222222,
             "#7201a8"
            ],
            [
             0.3333333333333333,
             "#9c179e"
            ],
            [
             0.4444444444444444,
             "#bd3786"
            ],
            [
             0.5555555555555556,
             "#d8576b"
            ],
            [
             0.6666666666666666,
             "#ed7953"
            ],
            [
             0.7777777777777778,
             "#fb9f3a"
            ],
            [
             0.8888888888888888,
             "#fdca26"
            ],
            [
             1,
             "#f0f921"
            ]
           ],
           "sequentialminus": [
            [
             0,
             "#0d0887"
            ],
            [
             0.1111111111111111,
             "#46039f"
            ],
            [
             0.2222222222222222,
             "#7201a8"
            ],
            [
             0.3333333333333333,
             "#9c179e"
            ],
            [
             0.4444444444444444,
             "#bd3786"
            ],
            [
             0.5555555555555556,
             "#d8576b"
            ],
            [
             0.6666666666666666,
             "#ed7953"
            ],
            [
             0.7777777777777778,
             "#fb9f3a"
            ],
            [
             0.8888888888888888,
             "#fdca26"
            ],
            [
             1,
             "#f0f921"
            ]
           ]
          },
          "colorway": [
           "#636efa",
           "#EF553B",
           "#00cc96",
           "#ab63fa",
           "#FFA15A",
           "#19d3f3",
           "#FF6692",
           "#B6E880",
           "#FF97FF",
           "#FECB52"
          ],
          "font": {
           "color": "#2a3f5f"
          },
          "geo": {
           "bgcolor": "white",
           "lakecolor": "white",
           "landcolor": "#E5ECF6",
           "showlakes": true,
           "showland": true,
           "subunitcolor": "white"
          },
          "hoverlabel": {
           "align": "left"
          },
          "hovermode": "closest",
          "mapbox": {
           "style": "light"
          },
          "paper_bgcolor": "white",
          "plot_bgcolor": "#E5ECF6",
          "polar": {
           "angularaxis": {
            "gridcolor": "white",
            "linecolor": "white",
            "ticks": ""
           },
           "bgcolor": "#E5ECF6",
           "radialaxis": {
            "gridcolor": "white",
            "linecolor": "white",
            "ticks": ""
           }
          },
          "scene": {
           "xaxis": {
            "backgroundcolor": "#E5ECF6",
            "gridcolor": "white",
            "gridwidth": 2,
            "linecolor": "white",
            "showbackground": true,
            "ticks": "",
            "zerolinecolor": "white"
           },
           "yaxis": {
            "backgroundcolor": "#E5ECF6",
            "gridcolor": "white",
            "gridwidth": 2,
            "linecolor": "white",
            "showbackground": true,
            "ticks": "",
            "zerolinecolor": "white"
           },
           "zaxis": {
            "backgroundcolor": "#E5ECF6",
            "gridcolor": "white",
            "gridwidth": 2,
            "linecolor": "white",
            "showbackground": true,
            "ticks": "",
            "zerolinecolor": "white"
           }
          },
          "shapedefaults": {
           "line": {
            "color": "#2a3f5f"
           }
          },
          "ternary": {
           "aaxis": {
            "gridcolor": "white",
            "linecolor": "white",
            "ticks": ""
           },
           "baxis": {
            "gridcolor": "white",
            "linecolor": "white",
            "ticks": ""
           },
           "bgcolor": "#E5ECF6",
           "caxis": {
            "gridcolor": "white",
            "linecolor": "white",
            "ticks": ""
           }
          },
          "title": {
           "x": 0.05
          },
          "xaxis": {
           "automargin": true,
           "gridcolor": "white",
           "linecolor": "white",
           "ticks": "",
           "title": {
            "standoff": 15
           },
           "zerolinecolor": "white",
           "zerolinewidth": 2
          },
          "yaxis": {
           "automargin": true,
           "gridcolor": "white",
           "linecolor": "white",
           "ticks": "",
           "title": {
            "standoff": 15
           },
           "zerolinecolor": "white",
           "zerolinewidth": 2
          }
         }
        },
        "title": {
         "text": "MSE with K-Fold Cross Validation w/ 50/50 Test Train Ratio"
        },
        "xaxis": {
         "anchor": "y",
         "domain": [
          0,
          1
         ],
         "title": {
          "text": "Ridge Parameter"
         }
        },
        "yaxis": {
         "anchor": "x",
         "domain": [
          0,
          1
         ],
         "title": {
          "text": "Mean Squared Error"
         }
        }
       }
      },
      "text/html": [
       "<div>                            <div id=\"e1fc3eac-c59c-41f1-a756-bcb2432b8475\" class=\"plotly-graph-div\" style=\"height:525px; width:100%;\"></div>            <script type=\"text/javascript\">                require([\"plotly\"], function(Plotly) {                    window.PLOTLYENV=window.PLOTLYENV || {};                                    if (document.getElementById(\"e1fc3eac-c59c-41f1-a756-bcb2432b8475\")) {                    Plotly.newPlot(                        \"e1fc3eac-c59c-41f1-a756-bcb2432b8475\",                        [{\"hovertemplate\":\"Ridge Parameter=%{x}<br>Mean Squared Error=%{y}<extra></extra>\",\"legendgroup\":\"\",\"marker\":{\"color\":\"#636efa\",\"symbol\":\"circle\"},\"mode\":\"markers\",\"name\":\"\",\"orientation\":\"v\",\"showlegend\":false,\"x\":[0,10,20,30,40,50,60,70,80,90,100,110,120,130,140,150,160,170,180,190],\"xaxis\":\"x\",\"y\":[174236583262240.12,87118291882769.98,58078861423075.37,43559146193202.54,34847317055307.812,29039430963270.582,24890940897584.375,21779573348328.594,19359620809994.535,17423658779331.506,15839689845190.764,14519715733390.062,13402814561852.137,12445470700533.754,11615772687403.18,10889786925914.424,10249211254020.99,9679810656750.164,9170346964495.13,8711829641444.089],\"yaxis\":\"y\",\"type\":\"scatter\"},{\"name\":\"Minimum MSE\",\"x\":[190.0],\"y\":[8711829641444.089],\"type\":\"scatter\"}],                        {\"legend\":{\"tracegroupgap\":0},\"template\":{\"data\":{\"barpolar\":[{\"marker\":{\"line\":{\"color\":\"#E5ECF6\",\"width\":0.5},\"pattern\":{\"fillmode\":\"overlay\",\"size\":10,\"solidity\":0.2}},\"type\":\"barpolar\"}],\"bar\":[{\"error_x\":{\"color\":\"#2a3f5f\"},\"error_y\":{\"color\":\"#2a3f5f\"},\"marker\":{\"line\":{\"color\":\"#E5ECF6\",\"width\":0.5},\"pattern\":{\"fillmode\":\"overlay\",\"size\":10,\"solidity\":0.2}},\"type\":\"bar\"}],\"carpet\":[{\"aaxis\":{\"endlinecolor\":\"#2a3f5f\",\"gridcolor\":\"white\",\"linecolor\":\"white\",\"minorgridcolor\":\"white\",\"startlinecolor\":\"#2a3f5f\"},\"baxis\":{\"endlinecolor\":\"#2a3f5f\",\"gridcolor\":\"white\",\"linecolor\":\"white\",\"minorgridcolor\":\"white\",\"startlinecolor\":\"#2a3f5f\"},\"type\":\"carpet\"}],\"choropleth\":[{\"colorbar\":{\"outlinewidth\":0,\"ticks\":\"\"},\"type\":\"choropleth\"}],\"contourcarpet\":[{\"colorbar\":{\"outlinewidth\":0,\"ticks\":\"\"},\"type\":\"contourcarpet\"}],\"contour\":[{\"colorbar\":{\"outlinewidth\":0,\"ticks\":\"\"},\"colorscale\":[[0.0,\"#0d0887\"],[0.1111111111111111,\"#46039f\"],[0.2222222222222222,\"#7201a8\"],[0.3333333333333333,\"#9c179e\"],[0.4444444444444444,\"#bd3786\"],[0.5555555555555556,\"#d8576b\"],[0.6666666666666666,\"#ed7953\"],[0.7777777777777778,\"#fb9f3a\"],[0.8888888888888888,\"#fdca26\"],[1.0,\"#f0f921\"]],\"type\":\"contour\"}],\"heatmapgl\":[{\"colorbar\":{\"outlinewidth\":0,\"ticks\":\"\"},\"colorscale\":[[0.0,\"#0d0887\"],[0.1111111111111111,\"#46039f\"],[0.2222222222222222,\"#7201a8\"],[0.3333333333333333,\"#9c179e\"],[0.4444444444444444,\"#bd3786\"],[0.5555555555555556,\"#d8576b\"],[0.6666666666666666,\"#ed7953\"],[0.7777777777777778,\"#fb9f3a\"],[0.8888888888888888,\"#fdca26\"],[1.0,\"#f0f921\"]],\"type\":\"heatmapgl\"}],\"heatmap\":[{\"colorbar\":{\"outlinewidth\":0,\"ticks\":\"\"},\"colorscale\":[[0.0,\"#0d0887\"],[0.1111111111111111,\"#46039f\"],[0.2222222222222222,\"#7201a8\"],[0.3333333333333333,\"#9c179e\"],[0.4444444444444444,\"#bd3786\"],[0.5555555555555556,\"#d8576b\"],[0.6666666666666666,\"#ed7953\"],[0.7777777777777778,\"#fb9f3a\"],[0.8888888888888888,\"#fdca26\"],[1.0,\"#f0f921\"]],\"type\":\"heatmap\"}],\"histogram2dcontour\":[{\"colorbar\":{\"outlinewidth\":0,\"ticks\":\"\"},\"colorscale\":[[0.0,\"#0d0887\"],[0.1111111111111111,\"#46039f\"],[0.2222222222222222,\"#7201a8\"],[0.3333333333333333,\"#9c179e\"],[0.4444444444444444,\"#bd3786\"],[0.5555555555555556,\"#d8576b\"],[0.6666666666666666,\"#ed7953\"],[0.7777777777777778,\"#fb9f3a\"],[0.8888888888888888,\"#fdca26\"],[1.0,\"#f0f921\"]],\"type\":\"histogram2dcontour\"}],\"histogram2d\":[{\"colorbar\":{\"outlinewidth\":0,\"ticks\":\"\"},\"colorscale\":[[0.0,\"#0d0887\"],[0.1111111111111111,\"#46039f\"],[0.2222222222222222,\"#7201a8\"],[0.3333333333333333,\"#9c179e\"],[0.4444444444444444,\"#bd3786\"],[0.5555555555555556,\"#d8576b\"],[0.6666666666666666,\"#ed7953\"],[0.7777777777777778,\"#fb9f3a\"],[0.8888888888888888,\"#fdca26\"],[1.0,\"#f0f921\"]],\"type\":\"histogram2d\"}],\"histogram\":[{\"marker\":{\"pattern\":{\"fillmode\":\"overlay\",\"size\":10,\"solidity\":0.2}},\"type\":\"histogram\"}],\"mesh3d\":[{\"colorbar\":{\"outlinewidth\":0,\"ticks\":\"\"},\"type\":\"mesh3d\"}],\"parcoords\":[{\"line\":{\"colorbar\":{\"outlinewidth\":0,\"ticks\":\"\"}},\"type\":\"parcoords\"}],\"pie\":[{\"automargin\":true,\"type\":\"pie\"}],\"scatter3d\":[{\"line\":{\"colorbar\":{\"outlinewidth\":0,\"ticks\":\"\"}},\"marker\":{\"colorbar\":{\"outlinewidth\":0,\"ticks\":\"\"}},\"type\":\"scatter3d\"}],\"scattercarpet\":[{\"marker\":{\"colorbar\":{\"outlinewidth\":0,\"ticks\":\"\"}},\"type\":\"scattercarpet\"}],\"scattergeo\":[{\"marker\":{\"colorbar\":{\"outlinewidth\":0,\"ticks\":\"\"}},\"type\":\"scattergeo\"}],\"scattergl\":[{\"marker\":{\"colorbar\":{\"outlinewidth\":0,\"ticks\":\"\"}},\"type\":\"scattergl\"}],\"scattermapbox\":[{\"marker\":{\"colorbar\":{\"outlinewidth\":0,\"ticks\":\"\"}},\"type\":\"scattermapbox\"}],\"scatterpolargl\":[{\"marker\":{\"colorbar\":{\"outlinewidth\":0,\"ticks\":\"\"}},\"type\":\"scatterpolargl\"}],\"scatterpolar\":[{\"marker\":{\"colorbar\":{\"outlinewidth\":0,\"ticks\":\"\"}},\"type\":\"scatterpolar\"}],\"scatter\":[{\"marker\":{\"colorbar\":{\"outlinewidth\":0,\"ticks\":\"\"}},\"type\":\"scatter\"}],\"scatterternary\":[{\"marker\":{\"colorbar\":{\"outlinewidth\":0,\"ticks\":\"\"}},\"type\":\"scatterternary\"}],\"surface\":[{\"colorbar\":{\"outlinewidth\":0,\"ticks\":\"\"},\"colorscale\":[[0.0,\"#0d0887\"],[0.1111111111111111,\"#46039f\"],[0.2222222222222222,\"#7201a8\"],[0.3333333333333333,\"#9c179e\"],[0.4444444444444444,\"#bd3786\"],[0.5555555555555556,\"#d8576b\"],[0.6666666666666666,\"#ed7953\"],[0.7777777777777778,\"#fb9f3a\"],[0.8888888888888888,\"#fdca26\"],[1.0,\"#f0f921\"]],\"type\":\"surface\"}],\"table\":[{\"cells\":{\"fill\":{\"color\":\"#EBF0F8\"},\"line\":{\"color\":\"white\"}},\"header\":{\"fill\":{\"color\":\"#C8D4E3\"},\"line\":{\"color\":\"white\"}},\"type\":\"table\"}]},\"layout\":{\"annotationdefaults\":{\"arrowcolor\":\"#2a3f5f\",\"arrowhead\":0,\"arrowwidth\":1},\"autotypenumbers\":\"strict\",\"coloraxis\":{\"colorbar\":{\"outlinewidth\":0,\"ticks\":\"\"}},\"colorscale\":{\"diverging\":[[0,\"#8e0152\"],[0.1,\"#c51b7d\"],[0.2,\"#de77ae\"],[0.3,\"#f1b6da\"],[0.4,\"#fde0ef\"],[0.5,\"#f7f7f7\"],[0.6,\"#e6f5d0\"],[0.7,\"#b8e186\"],[0.8,\"#7fbc41\"],[0.9,\"#4d9221\"],[1,\"#276419\"]],\"sequential\":[[0.0,\"#0d0887\"],[0.1111111111111111,\"#46039f\"],[0.2222222222222222,\"#7201a8\"],[0.3333333333333333,\"#9c179e\"],[0.4444444444444444,\"#bd3786\"],[0.5555555555555556,\"#d8576b\"],[0.6666666666666666,\"#ed7953\"],[0.7777777777777778,\"#fb9f3a\"],[0.8888888888888888,\"#fdca26\"],[1.0,\"#f0f921\"]],\"sequentialminus\":[[0.0,\"#0d0887\"],[0.1111111111111111,\"#46039f\"],[0.2222222222222222,\"#7201a8\"],[0.3333333333333333,\"#9c179e\"],[0.4444444444444444,\"#bd3786\"],[0.5555555555555556,\"#d8576b\"],[0.6666666666666666,\"#ed7953\"],[0.7777777777777778,\"#fb9f3a\"],[0.8888888888888888,\"#fdca26\"],[1.0,\"#f0f921\"]]},\"colorway\":[\"#636efa\",\"#EF553B\",\"#00cc96\",\"#ab63fa\",\"#FFA15A\",\"#19d3f3\",\"#FF6692\",\"#B6E880\",\"#FF97FF\",\"#FECB52\"],\"font\":{\"color\":\"#2a3f5f\"},\"geo\":{\"bgcolor\":\"white\",\"lakecolor\":\"white\",\"landcolor\":\"#E5ECF6\",\"showlakes\":true,\"showland\":true,\"subunitcolor\":\"white\"},\"hoverlabel\":{\"align\":\"left\"},\"hovermode\":\"closest\",\"mapbox\":{\"style\":\"light\"},\"paper_bgcolor\":\"white\",\"plot_bgcolor\":\"#E5ECF6\",\"polar\":{\"angularaxis\":{\"gridcolor\":\"white\",\"linecolor\":\"white\",\"ticks\":\"\"},\"bgcolor\":\"#E5ECF6\",\"radialaxis\":{\"gridcolor\":\"white\",\"linecolor\":\"white\",\"ticks\":\"\"}},\"scene\":{\"xaxis\":{\"backgroundcolor\":\"#E5ECF6\",\"gridcolor\":\"white\",\"gridwidth\":2,\"linecolor\":\"white\",\"showbackground\":true,\"ticks\":\"\",\"zerolinecolor\":\"white\"},\"yaxis\":{\"backgroundcolor\":\"#E5ECF6\",\"gridcolor\":\"white\",\"gridwidth\":2,\"linecolor\":\"white\",\"showbackground\":true,\"ticks\":\"\",\"zerolinecolor\":\"white\"},\"zaxis\":{\"backgroundcolor\":\"#E5ECF6\",\"gridcolor\":\"white\",\"gridwidth\":2,\"linecolor\":\"white\",\"showbackground\":true,\"ticks\":\"\",\"zerolinecolor\":\"white\"}},\"shapedefaults\":{\"line\":{\"color\":\"#2a3f5f\"}},\"ternary\":{\"aaxis\":{\"gridcolor\":\"white\",\"linecolor\":\"white\",\"ticks\":\"\"},\"baxis\":{\"gridcolor\":\"white\",\"linecolor\":\"white\",\"ticks\":\"\"},\"bgcolor\":\"#E5ECF6\",\"caxis\":{\"gridcolor\":\"white\",\"linecolor\":\"white\",\"ticks\":\"\"}},\"title\":{\"x\":0.05},\"xaxis\":{\"automargin\":true,\"gridcolor\":\"white\",\"linecolor\":\"white\",\"ticks\":\"\",\"title\":{\"standoff\":15},\"zerolinecolor\":\"white\",\"zerolinewidth\":2},\"yaxis\":{\"automargin\":true,\"gridcolor\":\"white\",\"linecolor\":\"white\",\"ticks\":\"\",\"title\":{\"standoff\":15},\"zerolinecolor\":\"white\",\"zerolinewidth\":2}}},\"title\":{\"text\":\"MSE with K-Fold Cross Validation w/ 50/50 Test Train Ratio\"},\"xaxis\":{\"anchor\":\"y\",\"domain\":[0.0,1.0],\"title\":{\"text\":\"Ridge Parameter\"}},\"yaxis\":{\"anchor\":\"x\",\"domain\":[0.0,1.0],\"title\":{\"text\":\"Mean Squared Error\"}}},                        {\"responsive\": true}                    ).then(function(){\n",
       "                            \n",
       "var gd = document.getElementById('e1fc3eac-c59c-41f1-a756-bcb2432b8475');\n",
       "var x = new MutationObserver(function (mutations, observer) {{\n",
       "        var display = window.getComputedStyle(gd).display;\n",
       "        if (!display || display === 'none') {{\n",
       "            console.log([gd, 'removed!']);\n",
       "            Plotly.purge(gd);\n",
       "            observer.disconnect();\n",
       "        }}\n",
       "}});\n",
       "\n",
       "// Listen for the removal of the full notebook cells\n",
       "var notebookContainer = gd.closest('#notebook-container');\n",
       "if (notebookContainer) {{\n",
       "    x.observe(notebookContainer, {childList: true});\n",
       "}}\n",
       "\n",
       "// Listen for the clearing of the current output cell\n",
       "var outputEl = gd.closest('.output');\n",
       "if (outputEl) {{\n",
       "    x.observe(outputEl, {childList: true});\n",
       "}}\n",
       "\n",
       "                        })                };                });            </script>        </div>"
      ]
     },
     "metadata": {},
     "output_type": "display_data"
    },
    {
     "data": {
      "application/javascript": [
       "\n",
       "            setTimeout(function() {\n",
       "                var nbb_cell_id = 27;\n",
       "                var nbb_unformatted_code = \"kfoldMSE_5050 = pd.DataFrame({\\\"lambda\\\": alphas_small, \\\"MSE\\\": listMSE_5050})\\n\\nminMSEindex_5050 = kfoldMSE_5050[\\\"MSE\\\"].idxmin()\\nminMSErow_5050 = kfoldMSE_5050.iloc[minMSEindex_5050]\\n\\nfig_5050 = go.Figure(\\n    data=px.scatter(\\n        kfoldMSE_5050,\\n        x=\\\"lambda\\\",\\n        y=\\\"MSE\\\",\\n        labels={\\\"lambda\\\": \\\"Ridge Parameter\\\", \\\"MSE\\\": \\\"Mean Squared Error\\\"},\\n        title=\\\"MSE with K-Fold Cross Validation w/ 50/50 Test Train Ratio\\\",\\n    )\\n)\\n\\nfig_5050.add_trace(\\n    go.Scatter(\\n        x=[minMSErow_5050.loc[\\\"lambda\\\"]],\\n        y=[minMSErow_5050.loc[\\\"MSE\\\"]],\\n        name=\\\"Minimum MSE\\\",\\n    )\\n)\\n\\nfig_5050.show()\";\n",
       "                var nbb_formatted_code = \"kfoldMSE_5050 = pd.DataFrame({\\\"lambda\\\": alphas_small, \\\"MSE\\\": listMSE_5050})\\n\\nminMSEindex_5050 = kfoldMSE_5050[\\\"MSE\\\"].idxmin()\\nminMSErow_5050 = kfoldMSE_5050.iloc[minMSEindex_5050]\\n\\nfig_5050 = go.Figure(\\n    data=px.scatter(\\n        kfoldMSE_5050,\\n        x=\\\"lambda\\\",\\n        y=\\\"MSE\\\",\\n        labels={\\\"lambda\\\": \\\"Ridge Parameter\\\", \\\"MSE\\\": \\\"Mean Squared Error\\\"},\\n        title=\\\"MSE with K-Fold Cross Validation w/ 50/50 Test Train Ratio\\\",\\n    )\\n)\\n\\nfig_5050.add_trace(\\n    go.Scatter(\\n        x=[minMSErow_5050.loc[\\\"lambda\\\"]],\\n        y=[minMSErow_5050.loc[\\\"MSE\\\"]],\\n        name=\\\"Minimum MSE\\\",\\n    )\\n)\\n\\nfig_5050.show()\";\n",
       "                var nbb_cells = Jupyter.notebook.get_cells();\n",
       "                for (var i = 0; i < nbb_cells.length; ++i) {\n",
       "                    if (nbb_cells[i].input_prompt_number == nbb_cell_id) {\n",
       "                        if (nbb_cells[i].get_text() == nbb_unformatted_code) {\n",
       "                             nbb_cells[i].set_text(nbb_formatted_code);\n",
       "                        }\n",
       "                        break;\n",
       "                    }\n",
       "                }\n",
       "            }, 500);\n",
       "            "
      ],
      "text/plain": [
       "<IPython.core.display.Javascript object>"
      ]
     },
     "metadata": {},
     "output_type": "display_data"
    }
   ],
   "source": [
    "kfoldMSE_5050 = pd.DataFrame({\"lambda\": alphas_small, \"MSE\": listMSE_5050})\n",
    "\n",
    "minMSEindex_5050 = kfoldMSE_5050[\"MSE\"].idxmin()\n",
    "minMSErow_5050 = kfoldMSE_5050.iloc[minMSEindex_5050]\n",
    "\n",
    "fig_5050 = go.Figure(\n",
    "    data=px.scatter(\n",
    "        kfoldMSE_5050,\n",
    "        x=\"lambda\",\n",
    "        y=\"MSE\",\n",
    "        labels={\"lambda\": \"Ridge Parameter\", \"MSE\": \"Mean Squared Error\"},\n",
    "        title=\"MSE with K-Fold Cross Validation w/ 50/50 Test Train Ratio\",\n",
    "    )\n",
    ")\n",
    "\n",
    "fig_5050.add_trace(\n",
    "    go.Scatter(\n",
    "        x=[minMSErow_5050.loc[\"lambda\"]],\n",
    "        y=[minMSErow_5050.loc[\"MSE\"]],\n",
    "        name=\"Minimum MSE\",\n",
    "    )\n",
    ")\n",
    "\n",
    "fig_5050.show()"
   ]
  },
  {
   "cell_type": "code",
   "execution_count": 28,
   "id": "181948f4",
   "metadata": {},
   "outputs": [
    {
     "ename": "ValueError",
     "evalue": "matrices are not aligned",
     "output_type": "error",
     "traceback": [
      "\u001b[0;31m---------------------------------------------------------------------------\u001b[0m",
      "\u001b[0;31mValueError\u001b[0m                                Traceback (most recent call last)",
      "\u001b[0;32m<ipython-input-28-11e7189147dd>\u001b[0m in \u001b[0;36m<module>\u001b[0;34m\u001b[0m\n\u001b[1;32m      3\u001b[0m \u001b[0;31m# Beta vector\u001b[0m\u001b[0;34m\u001b[0m\u001b[0;34m\u001b[0m\u001b[0;34m\u001b[0m\u001b[0m\n\u001b[1;32m      4\u001b[0m \u001b[0mbeta\u001b[0m \u001b[0;34m=\u001b[0m \u001b[0msp\u001b[0m\u001b[0;34m.\u001b[0m\u001b[0mlinalg\u001b[0m\u001b[0;34m.\u001b[0m\u001b[0minv\u001b[0m\u001b[0;34m(\u001b[0m\u001b[0;34m(\u001b[0m\u001b[0mXtest\u001b[0m\u001b[0;34m.\u001b[0m\u001b[0mT\u001b[0m \u001b[0;34m@\u001b[0m \u001b[0mXtest\u001b[0m\u001b[0;34m)\u001b[0m \u001b[0;34m+\u001b[0m \u001b[0;36m1e7\u001b[0m \u001b[0;34m*\u001b[0m \u001b[0mI\u001b[0m\u001b[0;34m)\u001b[0m \u001b[0;34m@\u001b[0m \u001b[0mXtest\u001b[0m\u001b[0;34m.\u001b[0m\u001b[0mT\u001b[0m \u001b[0;34m@\u001b[0m \u001b[0mYtest\u001b[0m\u001b[0;34m\u001b[0m\u001b[0;34m\u001b[0m\u001b[0m\n\u001b[0;32m----> 5\u001b[0;31m \u001b[0mYpred\u001b[0m \u001b[0;34m=\u001b[0m \u001b[0mXtest\u001b[0m \u001b[0;34m@\u001b[0m \u001b[0mbeta\u001b[0m\u001b[0;34m\u001b[0m\u001b[0;34m\u001b[0m\u001b[0m\n\u001b[0m\u001b[1;32m      6\u001b[0m \u001b[0mY_pred_actual\u001b[0m \u001b[0;34m=\u001b[0m \u001b[0mpd\u001b[0m\u001b[0;34m.\u001b[0m\u001b[0mDataFrame\u001b[0m\u001b[0;34m(\u001b[0m\u001b[0;34m{\u001b[0m\u001b[0;34m\"predictions\"\u001b[0m\u001b[0;34m:\u001b[0m \u001b[0mYpred\u001b[0m\u001b[0;34m,\u001b[0m \u001b[0;34m\"actual\"\u001b[0m\u001b[0;34m:\u001b[0m \u001b[0mYtest\u001b[0m\u001b[0;34m}\u001b[0m\u001b[0;34m)\u001b[0m\u001b[0;34m\u001b[0m\u001b[0;34m\u001b[0m\u001b[0m\n\u001b[1;32m      7\u001b[0m \u001b[0mdisplay\u001b[0m\u001b[0;34m(\u001b[0m\u001b[0mY_pred_actual\u001b[0m\u001b[0;34m)\u001b[0m\u001b[0;34m\u001b[0m\u001b[0;34m\u001b[0m\u001b[0m\n",
      "\u001b[0;32m~/opt/anaconda3/lib/python3.8/site-packages/pandas/core/frame.py\u001b[0m in \u001b[0;36m__matmul__\u001b[0;34m(self, other)\u001b[0m\n\u001b[1;32m   1276\u001b[0m         \u001b[0mMatrix\u001b[0m \u001b[0mmultiplication\u001b[0m \u001b[0musing\u001b[0m \u001b[0mbinary\u001b[0m\u001b[0;31m \u001b[0m\u001b[0;31m`\u001b[0m\u001b[0;34m@\u001b[0m\u001b[0;31m`\u001b[0m \u001b[0moperator\u001b[0m \u001b[0;32min\u001b[0m \u001b[0mPython\u001b[0m\u001b[0;34m>=\u001b[0m\u001b[0;36m3.5\u001b[0m\u001b[0;34m.\u001b[0m\u001b[0;34m\u001b[0m\u001b[0;34m\u001b[0m\u001b[0m\n\u001b[1;32m   1277\u001b[0m         \"\"\"\n\u001b[0;32m-> 1278\u001b[0;31m         \u001b[0;32mreturn\u001b[0m \u001b[0mself\u001b[0m\u001b[0;34m.\u001b[0m\u001b[0mdot\u001b[0m\u001b[0;34m(\u001b[0m\u001b[0mother\u001b[0m\u001b[0;34m)\u001b[0m\u001b[0;34m\u001b[0m\u001b[0;34m\u001b[0m\u001b[0m\n\u001b[0m\u001b[1;32m   1279\u001b[0m \u001b[0;34m\u001b[0m\u001b[0m\n\u001b[1;32m   1280\u001b[0m     \u001b[0;32mdef\u001b[0m \u001b[0m__rmatmul__\u001b[0m\u001b[0;34m(\u001b[0m\u001b[0mself\u001b[0m\u001b[0;34m,\u001b[0m \u001b[0mother\u001b[0m\u001b[0;34m)\u001b[0m\u001b[0;34m:\u001b[0m\u001b[0;34m\u001b[0m\u001b[0;34m\u001b[0m\u001b[0m\n",
      "\u001b[0;32m~/opt/anaconda3/lib/python3.8/site-packages/pandas/core/frame.py\u001b[0m in \u001b[0;36mdot\u001b[0;34m(self, other)\u001b[0m\n\u001b[1;32m   1242\u001b[0m             \u001b[0mcommon\u001b[0m \u001b[0;34m=\u001b[0m \u001b[0mself\u001b[0m\u001b[0;34m.\u001b[0m\u001b[0mcolumns\u001b[0m\u001b[0;34m.\u001b[0m\u001b[0munion\u001b[0m\u001b[0;34m(\u001b[0m\u001b[0mother\u001b[0m\u001b[0;34m.\u001b[0m\u001b[0mindex\u001b[0m\u001b[0;34m)\u001b[0m\u001b[0;34m\u001b[0m\u001b[0;34m\u001b[0m\u001b[0m\n\u001b[1;32m   1243\u001b[0m             \u001b[0;32mif\u001b[0m \u001b[0mlen\u001b[0m\u001b[0;34m(\u001b[0m\u001b[0mcommon\u001b[0m\u001b[0;34m)\u001b[0m \u001b[0;34m>\u001b[0m \u001b[0mlen\u001b[0m\u001b[0;34m(\u001b[0m\u001b[0mself\u001b[0m\u001b[0;34m.\u001b[0m\u001b[0mcolumns\u001b[0m\u001b[0;34m)\u001b[0m \u001b[0;32mor\u001b[0m \u001b[0mlen\u001b[0m\u001b[0;34m(\u001b[0m\u001b[0mcommon\u001b[0m\u001b[0;34m)\u001b[0m \u001b[0;34m>\u001b[0m \u001b[0mlen\u001b[0m\u001b[0;34m(\u001b[0m\u001b[0mother\u001b[0m\u001b[0;34m.\u001b[0m\u001b[0mindex\u001b[0m\u001b[0;34m)\u001b[0m\u001b[0;34m:\u001b[0m\u001b[0;34m\u001b[0m\u001b[0;34m\u001b[0m\u001b[0m\n\u001b[0;32m-> 1244\u001b[0;31m                 \u001b[0;32mraise\u001b[0m \u001b[0mValueError\u001b[0m\u001b[0;34m(\u001b[0m\u001b[0;34m\"matrices are not aligned\"\u001b[0m\u001b[0;34m)\u001b[0m\u001b[0;34m\u001b[0m\u001b[0;34m\u001b[0m\u001b[0m\n\u001b[0m\u001b[1;32m   1245\u001b[0m \u001b[0;34m\u001b[0m\u001b[0m\n\u001b[1;32m   1246\u001b[0m             \u001b[0mleft\u001b[0m \u001b[0;34m=\u001b[0m \u001b[0mself\u001b[0m\u001b[0;34m.\u001b[0m\u001b[0mreindex\u001b[0m\u001b[0;34m(\u001b[0m\u001b[0mcolumns\u001b[0m\u001b[0;34m=\u001b[0m\u001b[0mcommon\u001b[0m\u001b[0;34m,\u001b[0m \u001b[0mcopy\u001b[0m\u001b[0;34m=\u001b[0m\u001b[0;32mFalse\u001b[0m\u001b[0;34m)\u001b[0m\u001b[0;34m\u001b[0m\u001b[0;34m\u001b[0m\u001b[0m\n",
      "\u001b[0;31mValueError\u001b[0m: matrices are not aligned"
     ]
    },
    {
     "data": {
      "application/javascript": [
       "\n",
       "            setTimeout(function() {\n",
       "                var nbb_cell_id = 28;\n",
       "                var nbb_unformatted_code = \"n, m = Xtest.shape\\nI = np.identity(m)\\n# Beta vector\\nbeta = sp.linalg.inv((Xtest.T @ Xtest) + 1e7 * I) @ Xtest.T @ Ytest\\nYpred = Xtest @ beta\\nY_pred_actual = pd.DataFrame({\\\"predictions\\\": Ypred, \\\"actual\\\": Ytest})\\ndisplay(Y_pred_actual)\";\n",
       "                var nbb_formatted_code = \"n, m = Xtest.shape\\nI = np.identity(m)\\n# Beta vector\\nbeta = sp.linalg.inv((Xtest.T @ Xtest) + 1e7 * I) @ Xtest.T @ Ytest\\nYpred = Xtest @ beta\\nY_pred_actual = pd.DataFrame({\\\"predictions\\\": Ypred, \\\"actual\\\": Ytest})\\ndisplay(Y_pred_actual)\";\n",
       "                var nbb_cells = Jupyter.notebook.get_cells();\n",
       "                for (var i = 0; i < nbb_cells.length; ++i) {\n",
       "                    if (nbb_cells[i].input_prompt_number == nbb_cell_id) {\n",
       "                        if (nbb_cells[i].get_text() == nbb_unformatted_code) {\n",
       "                             nbb_cells[i].set_text(nbb_formatted_code);\n",
       "                        }\n",
       "                        break;\n",
       "                    }\n",
       "                }\n",
       "            }, 500);\n",
       "            "
      ],
      "text/plain": [
       "<IPython.core.display.Javascript object>"
      ]
     },
     "metadata": {},
     "output_type": "display_data"
    }
   ],
   "source": [
    "n, m = Xtest.shape\n",
    "I = np.identity(m)\n",
    "# Beta vector\n",
    "beta = sp.linalg.inv((Xtest.T @ Xtest) + 1e7 * I) @ Xtest.T @ Ytest\n",
    "Ypred = Xtest @ beta\n",
    "Y_pred_actual = pd.DataFrame({\"predictions\": Ypred, \"actual\": Ytest})\n",
    "display(Y_pred_actual)"
   ]
  }
 ],
 "metadata": {
  "kernelspec": {
   "display_name": "Python 3",
   "language": "python",
   "name": "python3"
  },
  "language_info": {
   "codemirror_mode": {
    "name": "ipython",
    "version": 3
   },
   "file_extension": ".py",
   "mimetype": "text/x-python",
   "name": "python",
   "nbconvert_exporter": "python",
   "pygments_lexer": "ipython3",
   "version": "3.8.8"
  }
 },
 "nbformat": 4,
 "nbformat_minor": 5
}

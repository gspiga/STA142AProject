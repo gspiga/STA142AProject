{
 "cells": [
  {
   "cell_type": "code",
   "execution_count": 2,
   "id": "4c1b2978",
   "metadata": {},
   "outputs": [
    {
     "name": "stdout",
     "output_type": "stream",
     "text": [
      "The nb_black extension is already loaded. To reload it, use:\n",
      "  %reload_ext nb_black\n"
     ]
    },
    {
     "data": {
      "application/javascript": [
       "\n",
       "            setTimeout(function() {\n",
       "                var nbb_cell_id = 2;\n",
       "                var nbb_unformatted_code = \"# Auto formatting\\n%load_ext nb_black\";\n",
       "                var nbb_formatted_code = \"# Auto formatting\\n%load_ext nb_black\";\n",
       "                var nbb_cells = Jupyter.notebook.get_cells();\n",
       "                for (var i = 0; i < nbb_cells.length; ++i) {\n",
       "                    if (nbb_cells[i].input_prompt_number == nbb_cell_id) {\n",
       "                        if (nbb_cells[i].get_text() == nbb_unformatted_code) {\n",
       "                             nbb_cells[i].set_text(nbb_formatted_code);\n",
       "                        }\n",
       "                        break;\n",
       "                    }\n",
       "                }\n",
       "            }, 500);\n",
       "            "
      ],
      "text/plain": [
       "<IPython.core.display.Javascript object>"
      ]
     },
     "metadata": {},
     "output_type": "display_data"
    }
   ],
   "source": [
    "# Auto formatting\n",
    "%load_ext nb_black"
   ]
  },
  {
   "cell_type": "code",
   "execution_count": 3,
   "id": "b0de6857",
   "metadata": {},
   "outputs": [
    {
     "data": {
      "application/javascript": [
       "\n",
       "            setTimeout(function() {\n",
       "                var nbb_cell_id = 3;\n",
       "                var nbb_unformatted_code = \"import numpy as np\\nimport pandas as pd\\nimport plotly.express as px\\nimport matplotlib.pyplot as plt\\nimport scipy as sp\\nfrom IPython.display import display\\nfrom sklearn.model_selection import train_test_split\\nimport time\\nimport plotly.express as px\\nimport plotly.graph_objects as go\";\n",
       "                var nbb_formatted_code = \"import numpy as np\\nimport pandas as pd\\nimport plotly.express as px\\nimport matplotlib.pyplot as plt\\nimport scipy as sp\\nfrom IPython.display import display\\nfrom sklearn.model_selection import train_test_split\\nimport time\\nimport plotly.express as px\\nimport plotly.graph_objects as go\";\n",
       "                var nbb_cells = Jupyter.notebook.get_cells();\n",
       "                for (var i = 0; i < nbb_cells.length; ++i) {\n",
       "                    if (nbb_cells[i].input_prompt_number == nbb_cell_id) {\n",
       "                        if (nbb_cells[i].get_text() == nbb_unformatted_code) {\n",
       "                             nbb_cells[i].set_text(nbb_formatted_code);\n",
       "                        }\n",
       "                        break;\n",
       "                    }\n",
       "                }\n",
       "            }, 500);\n",
       "            "
      ],
      "text/plain": [
       "<IPython.core.display.Javascript object>"
      ]
     },
     "metadata": {},
     "output_type": "display_data"
    }
   ],
   "source": [
    "import numpy as np\n",
    "import pandas as pd\n",
    "import plotly.express as px\n",
    "import matplotlib.pyplot as plt\n",
    "import scipy as sp\n",
    "from IPython.display import display\n",
    "from sklearn.model_selection import train_test_split\n",
    "import time\n",
    "import plotly.express as px\n",
    "import plotly.graph_objects as go"
   ]
  },
  {
   "cell_type": "code",
   "execution_count": 4,
   "id": "20f663a8",
   "metadata": {},
   "outputs": [
    {
     "data": {
      "text/html": [
       "<div>\n",
       "<style scoped>\n",
       "    .dataframe tbody tr th:only-of-type {\n",
       "        vertical-align: middle;\n",
       "    }\n",
       "\n",
       "    .dataframe tbody tr th {\n",
       "        vertical-align: top;\n",
       "    }\n",
       "\n",
       "    .dataframe thead th {\n",
       "        text-align: right;\n",
       "    }\n",
       "</style>\n",
       "<table border=\"1\" class=\"dataframe\">\n",
       "  <thead>\n",
       "    <tr style=\"text-align: right;\">\n",
       "      <th></th>\n",
       "      <th>loan_amount</th>\n",
       "      <th>term</th>\n",
       "      <th>income</th>\n",
       "      <th>Credit_Score</th>\n",
       "      <th>Status</th>\n",
       "      <th>loan_limit_cf</th>\n",
       "      <th>loan_limit_ncf</th>\n",
       "      <th>submission_of_application_not_inst</th>\n",
       "      <th>submission_of_application_to_inst</th>\n",
       "      <th>co-applicant_credit_type_CIB</th>\n",
       "      <th>...</th>\n",
       "      <th>Region_North-East</th>\n",
       "      <th>Region_central</th>\n",
       "      <th>Region_south</th>\n",
       "      <th>age_25-34</th>\n",
       "      <th>age_35-44</th>\n",
       "      <th>age_45-54</th>\n",
       "      <th>age_55-64</th>\n",
       "      <th>age_65-74</th>\n",
       "      <th>age_&lt;25</th>\n",
       "      <th>age_&gt;74</th>\n",
       "    </tr>\n",
       "  </thead>\n",
       "  <tbody>\n",
       "    <tr>\n",
       "      <th>0</th>\n",
       "      <td>116500</td>\n",
       "      <td>360.0</td>\n",
       "      <td>1740.0</td>\n",
       "      <td>758</td>\n",
       "      <td>1</td>\n",
       "      <td>1</td>\n",
       "      <td>0</td>\n",
       "      <td>0</td>\n",
       "      <td>1</td>\n",
       "      <td>1</td>\n",
       "      <td>...</td>\n",
       "      <td>0</td>\n",
       "      <td>0</td>\n",
       "      <td>1</td>\n",
       "      <td>1</td>\n",
       "      <td>0</td>\n",
       "      <td>0</td>\n",
       "      <td>0</td>\n",
       "      <td>0</td>\n",
       "      <td>0</td>\n",
       "      <td>0</td>\n",
       "    </tr>\n",
       "    <tr>\n",
       "      <th>1</th>\n",
       "      <td>206500</td>\n",
       "      <td>360.0</td>\n",
       "      <td>4980.0</td>\n",
       "      <td>552</td>\n",
       "      <td>1</td>\n",
       "      <td>1</td>\n",
       "      <td>0</td>\n",
       "      <td>0</td>\n",
       "      <td>1</td>\n",
       "      <td>0</td>\n",
       "      <td>...</td>\n",
       "      <td>0</td>\n",
       "      <td>0</td>\n",
       "      <td>0</td>\n",
       "      <td>0</td>\n",
       "      <td>0</td>\n",
       "      <td>0</td>\n",
       "      <td>1</td>\n",
       "      <td>0</td>\n",
       "      <td>0</td>\n",
       "      <td>0</td>\n",
       "    </tr>\n",
       "    <tr>\n",
       "      <th>2</th>\n",
       "      <td>406500</td>\n",
       "      <td>360.0</td>\n",
       "      <td>9480.0</td>\n",
       "      <td>834</td>\n",
       "      <td>0</td>\n",
       "      <td>1</td>\n",
       "      <td>0</td>\n",
       "      <td>0</td>\n",
       "      <td>1</td>\n",
       "      <td>1</td>\n",
       "      <td>...</td>\n",
       "      <td>0</td>\n",
       "      <td>0</td>\n",
       "      <td>1</td>\n",
       "      <td>0</td>\n",
       "      <td>1</td>\n",
       "      <td>0</td>\n",
       "      <td>0</td>\n",
       "      <td>0</td>\n",
       "      <td>0</td>\n",
       "      <td>0</td>\n",
       "    </tr>\n",
       "    <tr>\n",
       "      <th>3</th>\n",
       "      <td>456500</td>\n",
       "      <td>360.0</td>\n",
       "      <td>11880.0</td>\n",
       "      <td>587</td>\n",
       "      <td>0</td>\n",
       "      <td>1</td>\n",
       "      <td>0</td>\n",
       "      <td>1</td>\n",
       "      <td>0</td>\n",
       "      <td>1</td>\n",
       "      <td>...</td>\n",
       "      <td>0</td>\n",
       "      <td>0</td>\n",
       "      <td>0</td>\n",
       "      <td>0</td>\n",
       "      <td>0</td>\n",
       "      <td>1</td>\n",
       "      <td>0</td>\n",
       "      <td>0</td>\n",
       "      <td>0</td>\n",
       "      <td>0</td>\n",
       "    </tr>\n",
       "    <tr>\n",
       "      <th>4</th>\n",
       "      <td>696500</td>\n",
       "      <td>360.0</td>\n",
       "      <td>10440.0</td>\n",
       "      <td>602</td>\n",
       "      <td>0</td>\n",
       "      <td>1</td>\n",
       "      <td>0</td>\n",
       "      <td>1</td>\n",
       "      <td>0</td>\n",
       "      <td>0</td>\n",
       "      <td>...</td>\n",
       "      <td>0</td>\n",
       "      <td>0</td>\n",
       "      <td>0</td>\n",
       "      <td>1</td>\n",
       "      <td>0</td>\n",
       "      <td>0</td>\n",
       "      <td>0</td>\n",
       "      <td>0</td>\n",
       "      <td>0</td>\n",
       "      <td>0</td>\n",
       "    </tr>\n",
       "    <tr>\n",
       "      <th>...</th>\n",
       "      <td>...</td>\n",
       "      <td>...</td>\n",
       "      <td>...</td>\n",
       "      <td>...</td>\n",
       "      <td>...</td>\n",
       "      <td>...</td>\n",
       "      <td>...</td>\n",
       "      <td>...</td>\n",
       "      <td>...</td>\n",
       "      <td>...</td>\n",
       "      <td>...</td>\n",
       "      <td>...</td>\n",
       "      <td>...</td>\n",
       "      <td>...</td>\n",
       "      <td>...</td>\n",
       "      <td>...</td>\n",
       "      <td>...</td>\n",
       "      <td>...</td>\n",
       "      <td>...</td>\n",
       "      <td>...</td>\n",
       "      <td>...</td>\n",
       "    </tr>\n",
       "    <tr>\n",
       "      <th>135103</th>\n",
       "      <td>436500</td>\n",
       "      <td>180.0</td>\n",
       "      <td>7860.0</td>\n",
       "      <td>659</td>\n",
       "      <td>0</td>\n",
       "      <td>1</td>\n",
       "      <td>0</td>\n",
       "      <td>0</td>\n",
       "      <td>1</td>\n",
       "      <td>0</td>\n",
       "      <td>...</td>\n",
       "      <td>0</td>\n",
       "      <td>0</td>\n",
       "      <td>1</td>\n",
       "      <td>0</td>\n",
       "      <td>0</td>\n",
       "      <td>0</td>\n",
       "      <td>1</td>\n",
       "      <td>0</td>\n",
       "      <td>0</td>\n",
       "      <td>0</td>\n",
       "    </tr>\n",
       "    <tr>\n",
       "      <th>135104</th>\n",
       "      <td>586500</td>\n",
       "      <td>360.0</td>\n",
       "      <td>7140.0</td>\n",
       "      <td>569</td>\n",
       "      <td>0</td>\n",
       "      <td>1</td>\n",
       "      <td>0</td>\n",
       "      <td>1</td>\n",
       "      <td>0</td>\n",
       "      <td>1</td>\n",
       "      <td>...</td>\n",
       "      <td>0</td>\n",
       "      <td>0</td>\n",
       "      <td>1</td>\n",
       "      <td>1</td>\n",
       "      <td>0</td>\n",
       "      <td>0</td>\n",
       "      <td>0</td>\n",
       "      <td>0</td>\n",
       "      <td>0</td>\n",
       "      <td>0</td>\n",
       "    </tr>\n",
       "    <tr>\n",
       "      <th>135105</th>\n",
       "      <td>446500</td>\n",
       "      <td>180.0</td>\n",
       "      <td>6900.0</td>\n",
       "      <td>702</td>\n",
       "      <td>0</td>\n",
       "      <td>1</td>\n",
       "      <td>0</td>\n",
       "      <td>1</td>\n",
       "      <td>0</td>\n",
       "      <td>0</td>\n",
       "      <td>...</td>\n",
       "      <td>0</td>\n",
       "      <td>0</td>\n",
       "      <td>0</td>\n",
       "      <td>0</td>\n",
       "      <td>0</td>\n",
       "      <td>1</td>\n",
       "      <td>0</td>\n",
       "      <td>0</td>\n",
       "      <td>0</td>\n",
       "      <td>0</td>\n",
       "    </tr>\n",
       "    <tr>\n",
       "      <th>135106</th>\n",
       "      <td>196500</td>\n",
       "      <td>180.0</td>\n",
       "      <td>7140.0</td>\n",
       "      <td>737</td>\n",
       "      <td>0</td>\n",
       "      <td>1</td>\n",
       "      <td>0</td>\n",
       "      <td>0</td>\n",
       "      <td>1</td>\n",
       "      <td>0</td>\n",
       "      <td>...</td>\n",
       "      <td>0</td>\n",
       "      <td>0</td>\n",
       "      <td>0</td>\n",
       "      <td>0</td>\n",
       "      <td>0</td>\n",
       "      <td>0</td>\n",
       "      <td>1</td>\n",
       "      <td>0</td>\n",
       "      <td>0</td>\n",
       "      <td>0</td>\n",
       "    </tr>\n",
       "    <tr>\n",
       "      <th>135107</th>\n",
       "      <td>406500</td>\n",
       "      <td>240.0</td>\n",
       "      <td>7260.0</td>\n",
       "      <td>830</td>\n",
       "      <td>0</td>\n",
       "      <td>1</td>\n",
       "      <td>0</td>\n",
       "      <td>1</td>\n",
       "      <td>0</td>\n",
       "      <td>1</td>\n",
       "      <td>...</td>\n",
       "      <td>0</td>\n",
       "      <td>0</td>\n",
       "      <td>0</td>\n",
       "      <td>0</td>\n",
       "      <td>0</td>\n",
       "      <td>1</td>\n",
       "      <td>0</td>\n",
       "      <td>0</td>\n",
       "      <td>0</td>\n",
       "      <td>0</td>\n",
       "    </tr>\n",
       "  </tbody>\n",
       "</table>\n",
       "<p>135108 rows × 64 columns</p>\n",
       "</div>"
      ],
      "text/plain": [
       "        loan_amount   term   income  Credit_Score  Status  loan_limit_cf  \\\n",
       "0            116500  360.0   1740.0           758       1              1   \n",
       "1            206500  360.0   4980.0           552       1              1   \n",
       "2            406500  360.0   9480.0           834       0              1   \n",
       "3            456500  360.0  11880.0           587       0              1   \n",
       "4            696500  360.0  10440.0           602       0              1   \n",
       "...             ...    ...      ...           ...     ...            ...   \n",
       "135103       436500  180.0   7860.0           659       0              1   \n",
       "135104       586500  360.0   7140.0           569       0              1   \n",
       "135105       446500  180.0   6900.0           702       0              1   \n",
       "135106       196500  180.0   7140.0           737       0              1   \n",
       "135107       406500  240.0   7260.0           830       0              1   \n",
       "\n",
       "        loan_limit_ncf  submission_of_application_not_inst  \\\n",
       "0                    0                                   0   \n",
       "1                    0                                   0   \n",
       "2                    0                                   0   \n",
       "3                    0                                   1   \n",
       "4                    0                                   1   \n",
       "...                ...                                 ...   \n",
       "135103               0                                   0   \n",
       "135104               0                                   1   \n",
       "135105               0                                   1   \n",
       "135106               0                                   0   \n",
       "135107               0                                   1   \n",
       "\n",
       "        submission_of_application_to_inst  co-applicant_credit_type_CIB  ...  \\\n",
       "0                                       1                             1  ...   \n",
       "1                                       1                             0  ...   \n",
       "2                                       1                             1  ...   \n",
       "3                                       0                             1  ...   \n",
       "4                                       0                             0  ...   \n",
       "...                                   ...                           ...  ...   \n",
       "135103                                  1                             0  ...   \n",
       "135104                                  0                             1  ...   \n",
       "135105                                  0                             0  ...   \n",
       "135106                                  1                             0  ...   \n",
       "135107                                  0                             1  ...   \n",
       "\n",
       "        Region_North-East  Region_central  Region_south  age_25-34  age_35-44  \\\n",
       "0                       0               0             1          1          0   \n",
       "1                       0               0             0          0          0   \n",
       "2                       0               0             1          0          1   \n",
       "3                       0               0             0          0          0   \n",
       "4                       0               0             0          1          0   \n",
       "...                   ...             ...           ...        ...        ...   \n",
       "135103                  0               0             1          0          0   \n",
       "135104                  0               0             1          1          0   \n",
       "135105                  0               0             0          0          0   \n",
       "135106                  0               0             0          0          0   \n",
       "135107                  0               0             0          0          0   \n",
       "\n",
       "        age_45-54  age_55-64  age_65-74  age_<25  age_>74  \n",
       "0               0          0          0        0        0  \n",
       "1               0          1          0        0        0  \n",
       "2               0          0          0        0        0  \n",
       "3               1          0          0        0        0  \n",
       "4               0          0          0        0        0  \n",
       "...           ...        ...        ...      ...      ...  \n",
       "135103          0          1          0        0        0  \n",
       "135104          0          0          0        0        0  \n",
       "135105          1          0          0        0        0  \n",
       "135106          0          1          0        0        0  \n",
       "135107          1          0          0        0        0  \n",
       "\n",
       "[135108 rows x 64 columns]"
      ]
     },
     "metadata": {},
     "output_type": "display_data"
    },
    {
     "data": {
      "application/javascript": [
       "\n",
       "            setTimeout(function() {\n",
       "                var nbb_cell_id = 4;\n",
       "                var nbb_unformatted_code = \"df = pd.read_csv(\\\"../data/cleaned.csv\\\", index_col=[0])\\ndisplay(df)\";\n",
       "                var nbb_formatted_code = \"df = pd.read_csv(\\\"../data/cleaned.csv\\\", index_col=[0])\\ndisplay(df)\";\n",
       "                var nbb_cells = Jupyter.notebook.get_cells();\n",
       "                for (var i = 0; i < nbb_cells.length; ++i) {\n",
       "                    if (nbb_cells[i].input_prompt_number == nbb_cell_id) {\n",
       "                        if (nbb_cells[i].get_text() == nbb_unformatted_code) {\n",
       "                             nbb_cells[i].set_text(nbb_formatted_code);\n",
       "                        }\n",
       "                        break;\n",
       "                    }\n",
       "                }\n",
       "            }, 500);\n",
       "            "
      ],
      "text/plain": [
       "<IPython.core.display.Javascript object>"
      ]
     },
     "metadata": {},
     "output_type": "display_data"
    }
   ],
   "source": [
    "df = pd.read_csv(\"../data/cleaned.csv\", index_col=[0])\n",
    "display(df)"
   ]
  },
  {
   "cell_type": "code",
   "execution_count": 5,
   "id": "504d205b",
   "metadata": {},
   "outputs": [
    {
     "data": {
      "text/plain": [
       "0         758\n",
       "1         552\n",
       "2         834\n",
       "3         587\n",
       "4         602\n",
       "         ... \n",
       "135103    659\n",
       "135104    569\n",
       "135105    702\n",
       "135106    737\n",
       "135107    830\n",
       "Name: Credit_Score, Length: 135108, dtype: int64"
      ]
     },
     "metadata": {},
     "output_type": "display_data"
    },
    {
     "data": {
      "text/html": [
       "<div>\n",
       "<style scoped>\n",
       "    .dataframe tbody tr th:only-of-type {\n",
       "        vertical-align: middle;\n",
       "    }\n",
       "\n",
       "    .dataframe tbody tr th {\n",
       "        vertical-align: top;\n",
       "    }\n",
       "\n",
       "    .dataframe thead th {\n",
       "        text-align: right;\n",
       "    }\n",
       "</style>\n",
       "<table border=\"1\" class=\"dataframe\">\n",
       "  <thead>\n",
       "    <tr style=\"text-align: right;\">\n",
       "      <th></th>\n",
       "      <th>loan_amount</th>\n",
       "      <th>term</th>\n",
       "      <th>income</th>\n",
       "      <th>Status</th>\n",
       "      <th>loan_limit_cf</th>\n",
       "      <th>loan_limit_ncf</th>\n",
       "      <th>submission_of_application_not_inst</th>\n",
       "      <th>submission_of_application_to_inst</th>\n",
       "      <th>co-applicant_credit_type_CIB</th>\n",
       "      <th>co-applicant_credit_type_EXP</th>\n",
       "      <th>...</th>\n",
       "      <th>Region_North-East</th>\n",
       "      <th>Region_central</th>\n",
       "      <th>Region_south</th>\n",
       "      <th>age_25-34</th>\n",
       "      <th>age_35-44</th>\n",
       "      <th>age_45-54</th>\n",
       "      <th>age_55-64</th>\n",
       "      <th>age_65-74</th>\n",
       "      <th>age_&lt;25</th>\n",
       "      <th>age_&gt;74</th>\n",
       "    </tr>\n",
       "  </thead>\n",
       "  <tbody>\n",
       "    <tr>\n",
       "      <th>0</th>\n",
       "      <td>116500</td>\n",
       "      <td>360.0</td>\n",
       "      <td>1740.0</td>\n",
       "      <td>1</td>\n",
       "      <td>1</td>\n",
       "      <td>0</td>\n",
       "      <td>0</td>\n",
       "      <td>1</td>\n",
       "      <td>1</td>\n",
       "      <td>0</td>\n",
       "      <td>...</td>\n",
       "      <td>0</td>\n",
       "      <td>0</td>\n",
       "      <td>1</td>\n",
       "      <td>1</td>\n",
       "      <td>0</td>\n",
       "      <td>0</td>\n",
       "      <td>0</td>\n",
       "      <td>0</td>\n",
       "      <td>0</td>\n",
       "      <td>0</td>\n",
       "    </tr>\n",
       "    <tr>\n",
       "      <th>1</th>\n",
       "      <td>206500</td>\n",
       "      <td>360.0</td>\n",
       "      <td>4980.0</td>\n",
       "      <td>1</td>\n",
       "      <td>1</td>\n",
       "      <td>0</td>\n",
       "      <td>0</td>\n",
       "      <td>1</td>\n",
       "      <td>0</td>\n",
       "      <td>1</td>\n",
       "      <td>...</td>\n",
       "      <td>0</td>\n",
       "      <td>0</td>\n",
       "      <td>0</td>\n",
       "      <td>0</td>\n",
       "      <td>0</td>\n",
       "      <td>0</td>\n",
       "      <td>1</td>\n",
       "      <td>0</td>\n",
       "      <td>0</td>\n",
       "      <td>0</td>\n",
       "    </tr>\n",
       "    <tr>\n",
       "      <th>2</th>\n",
       "      <td>406500</td>\n",
       "      <td>360.0</td>\n",
       "      <td>9480.0</td>\n",
       "      <td>0</td>\n",
       "      <td>1</td>\n",
       "      <td>0</td>\n",
       "      <td>0</td>\n",
       "      <td>1</td>\n",
       "      <td>1</td>\n",
       "      <td>0</td>\n",
       "      <td>...</td>\n",
       "      <td>0</td>\n",
       "      <td>0</td>\n",
       "      <td>1</td>\n",
       "      <td>0</td>\n",
       "      <td>1</td>\n",
       "      <td>0</td>\n",
       "      <td>0</td>\n",
       "      <td>0</td>\n",
       "      <td>0</td>\n",
       "      <td>0</td>\n",
       "    </tr>\n",
       "    <tr>\n",
       "      <th>3</th>\n",
       "      <td>456500</td>\n",
       "      <td>360.0</td>\n",
       "      <td>11880.0</td>\n",
       "      <td>0</td>\n",
       "      <td>1</td>\n",
       "      <td>0</td>\n",
       "      <td>1</td>\n",
       "      <td>0</td>\n",
       "      <td>1</td>\n",
       "      <td>0</td>\n",
       "      <td>...</td>\n",
       "      <td>0</td>\n",
       "      <td>0</td>\n",
       "      <td>0</td>\n",
       "      <td>0</td>\n",
       "      <td>0</td>\n",
       "      <td>1</td>\n",
       "      <td>0</td>\n",
       "      <td>0</td>\n",
       "      <td>0</td>\n",
       "      <td>0</td>\n",
       "    </tr>\n",
       "    <tr>\n",
       "      <th>4</th>\n",
       "      <td>696500</td>\n",
       "      <td>360.0</td>\n",
       "      <td>10440.0</td>\n",
       "      <td>0</td>\n",
       "      <td>1</td>\n",
       "      <td>0</td>\n",
       "      <td>1</td>\n",
       "      <td>0</td>\n",
       "      <td>0</td>\n",
       "      <td>1</td>\n",
       "      <td>...</td>\n",
       "      <td>0</td>\n",
       "      <td>0</td>\n",
       "      <td>0</td>\n",
       "      <td>1</td>\n",
       "      <td>0</td>\n",
       "      <td>0</td>\n",
       "      <td>0</td>\n",
       "      <td>0</td>\n",
       "      <td>0</td>\n",
       "      <td>0</td>\n",
       "    </tr>\n",
       "    <tr>\n",
       "      <th>...</th>\n",
       "      <td>...</td>\n",
       "      <td>...</td>\n",
       "      <td>...</td>\n",
       "      <td>...</td>\n",
       "      <td>...</td>\n",
       "      <td>...</td>\n",
       "      <td>...</td>\n",
       "      <td>...</td>\n",
       "      <td>...</td>\n",
       "      <td>...</td>\n",
       "      <td>...</td>\n",
       "      <td>...</td>\n",
       "      <td>...</td>\n",
       "      <td>...</td>\n",
       "      <td>...</td>\n",
       "      <td>...</td>\n",
       "      <td>...</td>\n",
       "      <td>...</td>\n",
       "      <td>...</td>\n",
       "      <td>...</td>\n",
       "      <td>...</td>\n",
       "    </tr>\n",
       "    <tr>\n",
       "      <th>135103</th>\n",
       "      <td>436500</td>\n",
       "      <td>180.0</td>\n",
       "      <td>7860.0</td>\n",
       "      <td>0</td>\n",
       "      <td>1</td>\n",
       "      <td>0</td>\n",
       "      <td>0</td>\n",
       "      <td>1</td>\n",
       "      <td>0</td>\n",
       "      <td>1</td>\n",
       "      <td>...</td>\n",
       "      <td>0</td>\n",
       "      <td>0</td>\n",
       "      <td>1</td>\n",
       "      <td>0</td>\n",
       "      <td>0</td>\n",
       "      <td>0</td>\n",
       "      <td>1</td>\n",
       "      <td>0</td>\n",
       "      <td>0</td>\n",
       "      <td>0</td>\n",
       "    </tr>\n",
       "    <tr>\n",
       "      <th>135104</th>\n",
       "      <td>586500</td>\n",
       "      <td>360.0</td>\n",
       "      <td>7140.0</td>\n",
       "      <td>0</td>\n",
       "      <td>1</td>\n",
       "      <td>0</td>\n",
       "      <td>1</td>\n",
       "      <td>0</td>\n",
       "      <td>1</td>\n",
       "      <td>0</td>\n",
       "      <td>...</td>\n",
       "      <td>0</td>\n",
       "      <td>0</td>\n",
       "      <td>1</td>\n",
       "      <td>1</td>\n",
       "      <td>0</td>\n",
       "      <td>0</td>\n",
       "      <td>0</td>\n",
       "      <td>0</td>\n",
       "      <td>0</td>\n",
       "      <td>0</td>\n",
       "    </tr>\n",
       "    <tr>\n",
       "      <th>135105</th>\n",
       "      <td>446500</td>\n",
       "      <td>180.0</td>\n",
       "      <td>6900.0</td>\n",
       "      <td>0</td>\n",
       "      <td>1</td>\n",
       "      <td>0</td>\n",
       "      <td>1</td>\n",
       "      <td>0</td>\n",
       "      <td>0</td>\n",
       "      <td>1</td>\n",
       "      <td>...</td>\n",
       "      <td>0</td>\n",
       "      <td>0</td>\n",
       "      <td>0</td>\n",
       "      <td>0</td>\n",
       "      <td>0</td>\n",
       "      <td>1</td>\n",
       "      <td>0</td>\n",
       "      <td>0</td>\n",
       "      <td>0</td>\n",
       "      <td>0</td>\n",
       "    </tr>\n",
       "    <tr>\n",
       "      <th>135106</th>\n",
       "      <td>196500</td>\n",
       "      <td>180.0</td>\n",
       "      <td>7140.0</td>\n",
       "      <td>0</td>\n",
       "      <td>1</td>\n",
       "      <td>0</td>\n",
       "      <td>0</td>\n",
       "      <td>1</td>\n",
       "      <td>0</td>\n",
       "      <td>1</td>\n",
       "      <td>...</td>\n",
       "      <td>0</td>\n",
       "      <td>0</td>\n",
       "      <td>0</td>\n",
       "      <td>0</td>\n",
       "      <td>0</td>\n",
       "      <td>0</td>\n",
       "      <td>1</td>\n",
       "      <td>0</td>\n",
       "      <td>0</td>\n",
       "      <td>0</td>\n",
       "    </tr>\n",
       "    <tr>\n",
       "      <th>135107</th>\n",
       "      <td>406500</td>\n",
       "      <td>240.0</td>\n",
       "      <td>7260.0</td>\n",
       "      <td>0</td>\n",
       "      <td>1</td>\n",
       "      <td>0</td>\n",
       "      <td>1</td>\n",
       "      <td>0</td>\n",
       "      <td>1</td>\n",
       "      <td>0</td>\n",
       "      <td>...</td>\n",
       "      <td>0</td>\n",
       "      <td>0</td>\n",
       "      <td>0</td>\n",
       "      <td>0</td>\n",
       "      <td>0</td>\n",
       "      <td>1</td>\n",
       "      <td>0</td>\n",
       "      <td>0</td>\n",
       "      <td>0</td>\n",
       "      <td>0</td>\n",
       "    </tr>\n",
       "  </tbody>\n",
       "</table>\n",
       "<p>135108 rows × 63 columns</p>\n",
       "</div>"
      ],
      "text/plain": [
       "        loan_amount   term   income  Status  loan_limit_cf  loan_limit_ncf  \\\n",
       "0            116500  360.0   1740.0       1              1               0   \n",
       "1            206500  360.0   4980.0       1              1               0   \n",
       "2            406500  360.0   9480.0       0              1               0   \n",
       "3            456500  360.0  11880.0       0              1               0   \n",
       "4            696500  360.0  10440.0       0              1               0   \n",
       "...             ...    ...      ...     ...            ...             ...   \n",
       "135103       436500  180.0   7860.0       0              1               0   \n",
       "135104       586500  360.0   7140.0       0              1               0   \n",
       "135105       446500  180.0   6900.0       0              1               0   \n",
       "135106       196500  180.0   7140.0       0              1               0   \n",
       "135107       406500  240.0   7260.0       0              1               0   \n",
       "\n",
       "        submission_of_application_not_inst  submission_of_application_to_inst  \\\n",
       "0                                        0                                  1   \n",
       "1                                        0                                  1   \n",
       "2                                        0                                  1   \n",
       "3                                        1                                  0   \n",
       "4                                        1                                  0   \n",
       "...                                    ...                                ...   \n",
       "135103                                   0                                  1   \n",
       "135104                                   1                                  0   \n",
       "135105                                   1                                  0   \n",
       "135106                                   0                                  1   \n",
       "135107                                   1                                  0   \n",
       "\n",
       "        co-applicant_credit_type_CIB  co-applicant_credit_type_EXP  ...  \\\n",
       "0                                  1                             0  ...   \n",
       "1                                  0                             1  ...   \n",
       "2                                  1                             0  ...   \n",
       "3                                  1                             0  ...   \n",
       "4                                  0                             1  ...   \n",
       "...                              ...                           ...  ...   \n",
       "135103                             0                             1  ...   \n",
       "135104                             1                             0  ...   \n",
       "135105                             0                             1  ...   \n",
       "135106                             0                             1  ...   \n",
       "135107                             1                             0  ...   \n",
       "\n",
       "        Region_North-East  Region_central  Region_south  age_25-34  age_35-44  \\\n",
       "0                       0               0             1          1          0   \n",
       "1                       0               0             0          0          0   \n",
       "2                       0               0             1          0          1   \n",
       "3                       0               0             0          0          0   \n",
       "4                       0               0             0          1          0   \n",
       "...                   ...             ...           ...        ...        ...   \n",
       "135103                  0               0             1          0          0   \n",
       "135104                  0               0             1          1          0   \n",
       "135105                  0               0             0          0          0   \n",
       "135106                  0               0             0          0          0   \n",
       "135107                  0               0             0          0          0   \n",
       "\n",
       "        age_45-54  age_55-64  age_65-74  age_<25  age_>74  \n",
       "0               0          0          0        0        0  \n",
       "1               0          1          0        0        0  \n",
       "2               0          0          0        0        0  \n",
       "3               1          0          0        0        0  \n",
       "4               0          0          0        0        0  \n",
       "...           ...        ...        ...      ...      ...  \n",
       "135103          0          1          0        0        0  \n",
       "135104          0          0          0        0        0  \n",
       "135105          1          0          0        0        0  \n",
       "135106          0          1          0        0        0  \n",
       "135107          1          0          0        0        0  \n",
       "\n",
       "[135108 rows x 63 columns]"
      ]
     },
     "metadata": {},
     "output_type": "display_data"
    },
    {
     "data": {
      "application/javascript": [
       "\n",
       "            setTimeout(function() {\n",
       "                var nbb_cell_id = 5;\n",
       "                var nbb_unformatted_code = \"X = df.drop(\\\"Credit_Score\\\", axis=1)\\ny = df.loc[:, \\\"Credit_Score\\\"]\\ndisplay(y)\\ndisplay(X)\";\n",
       "                var nbb_formatted_code = \"X = df.drop(\\\"Credit_Score\\\", axis=1)\\ny = df.loc[:, \\\"Credit_Score\\\"]\\ndisplay(y)\\ndisplay(X)\";\n",
       "                var nbb_cells = Jupyter.notebook.get_cells();\n",
       "                for (var i = 0; i < nbb_cells.length; ++i) {\n",
       "                    if (nbb_cells[i].input_prompt_number == nbb_cell_id) {\n",
       "                        if (nbb_cells[i].get_text() == nbb_unformatted_code) {\n",
       "                             nbb_cells[i].set_text(nbb_formatted_code);\n",
       "                        }\n",
       "                        break;\n",
       "                    }\n",
       "                }\n",
       "            }, 500);\n",
       "            "
      ],
      "text/plain": [
       "<IPython.core.display.Javascript object>"
      ]
     },
     "metadata": {},
     "output_type": "display_data"
    }
   ],
   "source": [
    "X = df.drop(\"Credit_Score\", axis=1)\n",
    "y = df.loc[:, \"Credit_Score\"]\n",
    "display(y)\n",
    "display(X)"
   ]
  },
  {
   "cell_type": "code",
   "execution_count": 6,
   "id": "5a7e6072",
   "metadata": {},
   "outputs": [
    {
     "data": {
      "application/javascript": [
       "\n",
       "            setTimeout(function() {\n",
       "                var nbb_cell_id = 6;\n",
       "                var nbb_unformatted_code = \"def standardizeData(data):\\n    # Takes pandas dataframe and standardizes it iteratively\\n    for column in data:\\n        if (data[column] != 0).sum() == 0:  # If the column is all zeros\\n            continue  # No need to standardize all zeros (thus dividing by zero)\\n        else:\\n            data[column] = (data[column] - np.mean(data[column])) / np.std(data[column])\\n    return data\";\n",
       "                var nbb_formatted_code = \"def standardizeData(data):\\n    # Takes pandas dataframe and standardizes it iteratively\\n    for column in data:\\n        if (data[column] != 0).sum() == 0:  # If the column is all zeros\\n            continue  # No need to standardize all zeros (thus dividing by zero)\\n        else:\\n            data[column] = (data[column] - np.mean(data[column])) / np.std(data[column])\\n    return data\";\n",
       "                var nbb_cells = Jupyter.notebook.get_cells();\n",
       "                for (var i = 0; i < nbb_cells.length; ++i) {\n",
       "                    if (nbb_cells[i].input_prompt_number == nbb_cell_id) {\n",
       "                        if (nbb_cells[i].get_text() == nbb_unformatted_code) {\n",
       "                             nbb_cells[i].set_text(nbb_formatted_code);\n",
       "                        }\n",
       "                        break;\n",
       "                    }\n",
       "                }\n",
       "            }, 500);\n",
       "            "
      ],
      "text/plain": [
       "<IPython.core.display.Javascript object>"
      ]
     },
     "metadata": {},
     "output_type": "display_data"
    }
   ],
   "source": [
    "def standardizeData(data):\n",
    "    # Takes pandas dataframe and standardizes it iteratively\n",
    "    for column in data:\n",
    "        if (data[column] != 0).sum() == 0:  # If the column is all zeros\n",
    "            continue  # No need to standardize all zeros (thus dividing by zero)\n",
    "        else:\n",
    "            data[column] = (data[column] - np.mean(data[column])) / np.std(data[column])\n",
    "    return data"
   ]
  },
  {
   "cell_type": "markdown",
   "id": "8f5bffb8",
   "metadata": {},
   "source": [
    "TowardsDataScience: If one of your variables happens to be on a very small scale, its coefficient will be large, and as such, it will be much more punished due to the penalisation. Or vice versa, a variable that is on a huge scale will get small coefficients and be less impacted by the penalty. "
   ]
  },
  {
   "cell_type": "code",
   "execution_count": 7,
   "id": "5b0e1bae",
   "metadata": {},
   "outputs": [
    {
     "data": {
      "text/html": [
       "<div>\n",
       "<style scoped>\n",
       "    .dataframe tbody tr th:only-of-type {\n",
       "        vertical-align: middle;\n",
       "    }\n",
       "\n",
       "    .dataframe tbody tr th {\n",
       "        vertical-align: top;\n",
       "    }\n",
       "\n",
       "    .dataframe thead th {\n",
       "        text-align: right;\n",
       "    }\n",
       "</style>\n",
       "<table border=\"1\" class=\"dataframe\">\n",
       "  <thead>\n",
       "    <tr style=\"text-align: right;\">\n",
       "      <th></th>\n",
       "      <th>loan_amount</th>\n",
       "      <th>term</th>\n",
       "      <th>income</th>\n",
       "      <th>Credit_Score</th>\n",
       "      <th>Status</th>\n",
       "      <th>loan_limit_cf</th>\n",
       "      <th>loan_limit_ncf</th>\n",
       "      <th>submission_of_application_not_inst</th>\n",
       "      <th>submission_of_application_to_inst</th>\n",
       "      <th>co-applicant_credit_type_CIB</th>\n",
       "      <th>...</th>\n",
       "      <th>Region_North-East</th>\n",
       "      <th>Region_central</th>\n",
       "      <th>Region_south</th>\n",
       "      <th>age_25-34</th>\n",
       "      <th>age_35-44</th>\n",
       "      <th>age_45-54</th>\n",
       "      <th>age_55-64</th>\n",
       "      <th>age_65-74</th>\n",
       "      <th>age_&lt;25</th>\n",
       "      <th>age_&gt;74</th>\n",
       "    </tr>\n",
       "  </thead>\n",
       "  <tbody>\n",
       "    <tr>\n",
       "      <th>0</th>\n",
       "      <td>-1.152094</td>\n",
       "      <td>0.439777</td>\n",
       "      <td>-0.803694</td>\n",
       "      <td>0.502618</td>\n",
       "      <td>1.716802</td>\n",
       "      <td>0.268036</td>\n",
       "      <td>-0.268036</td>\n",
       "      <td>-0.737362</td>\n",
       "      <td>0.737362</td>\n",
       "      <td>0.995436</td>\n",
       "      <td>...</td>\n",
       "      <td>-0.091551</td>\n",
       "      <td>-0.246226</td>\n",
       "      <td>1.152530</td>\n",
       "      <td>2.614658</td>\n",
       "      <td>-0.531420</td>\n",
       "      <td>-0.553124</td>\n",
       "      <td>-0.533515</td>\n",
       "      <td>-0.402305</td>\n",
       "      <td>-0.096048</td>\n",
       "      <td>-0.224268</td>\n",
       "    </tr>\n",
       "    <tr>\n",
       "      <th>1</th>\n",
       "      <td>-0.665241</td>\n",
       "      <td>0.439777</td>\n",
       "      <td>-0.305114</td>\n",
       "      <td>-1.275460</td>\n",
       "      <td>1.716802</td>\n",
       "      <td>0.268036</td>\n",
       "      <td>-0.268036</td>\n",
       "      <td>-0.737362</td>\n",
       "      <td>0.737362</td>\n",
       "      <td>-1.004585</td>\n",
       "      <td>...</td>\n",
       "      <td>-0.091551</td>\n",
       "      <td>-0.246226</td>\n",
       "      <td>-0.867657</td>\n",
       "      <td>-0.382459</td>\n",
       "      <td>-0.531420</td>\n",
       "      <td>-0.553124</td>\n",
       "      <td>1.874361</td>\n",
       "      <td>-0.402305</td>\n",
       "      <td>-0.096048</td>\n",
       "      <td>-0.224268</td>\n",
       "    </tr>\n",
       "    <tr>\n",
       "      <th>2</th>\n",
       "      <td>0.416656</td>\n",
       "      <td>0.439777</td>\n",
       "      <td>0.387358</td>\n",
       "      <td>1.158608</td>\n",
       "      <td>-0.582478</td>\n",
       "      <td>0.268036</td>\n",
       "      <td>-0.268036</td>\n",
       "      <td>-0.737362</td>\n",
       "      <td>0.737362</td>\n",
       "      <td>0.995436</td>\n",
       "      <td>...</td>\n",
       "      <td>-0.091551</td>\n",
       "      <td>-0.246226</td>\n",
       "      <td>1.152530</td>\n",
       "      <td>-0.382459</td>\n",
       "      <td>1.881751</td>\n",
       "      <td>-0.553124</td>\n",
       "      <td>-0.533515</td>\n",
       "      <td>-0.402305</td>\n",
       "      <td>-0.096048</td>\n",
       "      <td>-0.224268</td>\n",
       "    </tr>\n",
       "    <tr>\n",
       "      <th>3</th>\n",
       "      <td>0.687130</td>\n",
       "      <td>0.439777</td>\n",
       "      <td>0.756677</td>\n",
       "      <td>-0.973360</td>\n",
       "      <td>-0.582478</td>\n",
       "      <td>0.268036</td>\n",
       "      <td>-0.268036</td>\n",
       "      <td>1.356185</td>\n",
       "      <td>-1.356185</td>\n",
       "      <td>0.995436</td>\n",
       "      <td>...</td>\n",
       "      <td>-0.091551</td>\n",
       "      <td>-0.246226</td>\n",
       "      <td>-0.867657</td>\n",
       "      <td>-0.382459</td>\n",
       "      <td>-0.531420</td>\n",
       "      <td>1.807912</td>\n",
       "      <td>-0.533515</td>\n",
       "      <td>-0.402305</td>\n",
       "      <td>-0.096048</td>\n",
       "      <td>-0.224268</td>\n",
       "    </tr>\n",
       "    <tr>\n",
       "      <th>4</th>\n",
       "      <td>1.985407</td>\n",
       "      <td>0.439777</td>\n",
       "      <td>0.535086</td>\n",
       "      <td>-0.843888</td>\n",
       "      <td>-0.582478</td>\n",
       "      <td>0.268036</td>\n",
       "      <td>-0.268036</td>\n",
       "      <td>1.356185</td>\n",
       "      <td>-1.356185</td>\n",
       "      <td>-1.004585</td>\n",
       "      <td>...</td>\n",
       "      <td>-0.091551</td>\n",
       "      <td>-0.246226</td>\n",
       "      <td>-0.867657</td>\n",
       "      <td>2.614658</td>\n",
       "      <td>-0.531420</td>\n",
       "      <td>-0.553124</td>\n",
       "      <td>-0.533515</td>\n",
       "      <td>-0.402305</td>\n",
       "      <td>-0.096048</td>\n",
       "      <td>-0.224268</td>\n",
       "    </tr>\n",
       "    <tr>\n",
       "      <th>...</th>\n",
       "      <td>...</td>\n",
       "      <td>...</td>\n",
       "      <td>...</td>\n",
       "      <td>...</td>\n",
       "      <td>...</td>\n",
       "      <td>...</td>\n",
       "      <td>...</td>\n",
       "      <td>...</td>\n",
       "      <td>...</td>\n",
       "      <td>...</td>\n",
       "      <td>...</td>\n",
       "      <td>...</td>\n",
       "      <td>...</td>\n",
       "      <td>...</td>\n",
       "      <td>...</td>\n",
       "      <td>...</td>\n",
       "      <td>...</td>\n",
       "      <td>...</td>\n",
       "      <td>...</td>\n",
       "      <td>...</td>\n",
       "      <td>...</td>\n",
       "    </tr>\n",
       "    <tr>\n",
       "      <th>135103</th>\n",
       "      <td>0.578941</td>\n",
       "      <td>-2.568908</td>\n",
       "      <td>0.138068</td>\n",
       "      <td>-0.351895</td>\n",
       "      <td>-0.582478</td>\n",
       "      <td>0.268036</td>\n",
       "      <td>-0.268036</td>\n",
       "      <td>-0.737362</td>\n",
       "      <td>0.737362</td>\n",
       "      <td>-1.004585</td>\n",
       "      <td>...</td>\n",
       "      <td>-0.091551</td>\n",
       "      <td>-0.246226</td>\n",
       "      <td>1.152530</td>\n",
       "      <td>-0.382459</td>\n",
       "      <td>-0.531420</td>\n",
       "      <td>-0.553124</td>\n",
       "      <td>1.874361</td>\n",
       "      <td>-0.402305</td>\n",
       "      <td>-0.096048</td>\n",
       "      <td>-0.224268</td>\n",
       "    </tr>\n",
       "    <tr>\n",
       "      <th>135104</th>\n",
       "      <td>1.390363</td>\n",
       "      <td>0.439777</td>\n",
       "      <td>0.027273</td>\n",
       "      <td>-1.128726</td>\n",
       "      <td>-0.582478</td>\n",
       "      <td>0.268036</td>\n",
       "      <td>-0.268036</td>\n",
       "      <td>1.356185</td>\n",
       "      <td>-1.356185</td>\n",
       "      <td>0.995436</td>\n",
       "      <td>...</td>\n",
       "      <td>-0.091551</td>\n",
       "      <td>-0.246226</td>\n",
       "      <td>1.152530</td>\n",
       "      <td>2.614658</td>\n",
       "      <td>-0.531420</td>\n",
       "      <td>-0.553124</td>\n",
       "      <td>-0.533515</td>\n",
       "      <td>-0.402305</td>\n",
       "      <td>-0.096048</td>\n",
       "      <td>-0.224268</td>\n",
       "    </tr>\n",
       "    <tr>\n",
       "      <th>135105</th>\n",
       "      <td>0.633036</td>\n",
       "      <td>-2.568908</td>\n",
       "      <td>-0.009659</td>\n",
       "      <td>0.019257</td>\n",
       "      <td>-0.582478</td>\n",
       "      <td>0.268036</td>\n",
       "      <td>-0.268036</td>\n",
       "      <td>1.356185</td>\n",
       "      <td>-1.356185</td>\n",
       "      <td>-1.004585</td>\n",
       "      <td>...</td>\n",
       "      <td>-0.091551</td>\n",
       "      <td>-0.246226</td>\n",
       "      <td>-0.867657</td>\n",
       "      <td>-0.382459</td>\n",
       "      <td>-0.531420</td>\n",
       "      <td>1.807912</td>\n",
       "      <td>-0.533515</td>\n",
       "      <td>-0.402305</td>\n",
       "      <td>-0.096048</td>\n",
       "      <td>-0.224268</td>\n",
       "    </tr>\n",
       "    <tr>\n",
       "      <th>135106</th>\n",
       "      <td>-0.719336</td>\n",
       "      <td>-2.568908</td>\n",
       "      <td>0.027273</td>\n",
       "      <td>0.321358</td>\n",
       "      <td>-0.582478</td>\n",
       "      <td>0.268036</td>\n",
       "      <td>-0.268036</td>\n",
       "      <td>-0.737362</td>\n",
       "      <td>0.737362</td>\n",
       "      <td>-1.004585</td>\n",
       "      <td>...</td>\n",
       "      <td>-0.091551</td>\n",
       "      <td>-0.246226</td>\n",
       "      <td>-0.867657</td>\n",
       "      <td>-0.382459</td>\n",
       "      <td>-0.531420</td>\n",
       "      <td>-0.553124</td>\n",
       "      <td>1.874361</td>\n",
       "      <td>-0.402305</td>\n",
       "      <td>-0.096048</td>\n",
       "      <td>-0.224268</td>\n",
       "    </tr>\n",
       "    <tr>\n",
       "      <th>135107</th>\n",
       "      <td>0.416656</td>\n",
       "      <td>-1.566013</td>\n",
       "      <td>0.045739</td>\n",
       "      <td>1.124082</td>\n",
       "      <td>-0.582478</td>\n",
       "      <td>0.268036</td>\n",
       "      <td>-0.268036</td>\n",
       "      <td>1.356185</td>\n",
       "      <td>-1.356185</td>\n",
       "      <td>0.995436</td>\n",
       "      <td>...</td>\n",
       "      <td>-0.091551</td>\n",
       "      <td>-0.246226</td>\n",
       "      <td>-0.867657</td>\n",
       "      <td>-0.382459</td>\n",
       "      <td>-0.531420</td>\n",
       "      <td>1.807912</td>\n",
       "      <td>-0.533515</td>\n",
       "      <td>-0.402305</td>\n",
       "      <td>-0.096048</td>\n",
       "      <td>-0.224268</td>\n",
       "    </tr>\n",
       "  </tbody>\n",
       "</table>\n",
       "<p>135108 rows × 64 columns</p>\n",
       "</div>"
      ],
      "text/plain": [
       "        loan_amount      term    income  Credit_Score    Status  \\\n",
       "0         -1.152094  0.439777 -0.803694      0.502618  1.716802   \n",
       "1         -0.665241  0.439777 -0.305114     -1.275460  1.716802   \n",
       "2          0.416656  0.439777  0.387358      1.158608 -0.582478   \n",
       "3          0.687130  0.439777  0.756677     -0.973360 -0.582478   \n",
       "4          1.985407  0.439777  0.535086     -0.843888 -0.582478   \n",
       "...             ...       ...       ...           ...       ...   \n",
       "135103     0.578941 -2.568908  0.138068     -0.351895 -0.582478   \n",
       "135104     1.390363  0.439777  0.027273     -1.128726 -0.582478   \n",
       "135105     0.633036 -2.568908 -0.009659      0.019257 -0.582478   \n",
       "135106    -0.719336 -2.568908  0.027273      0.321358 -0.582478   \n",
       "135107     0.416656 -1.566013  0.045739      1.124082 -0.582478   \n",
       "\n",
       "        loan_limit_cf  loan_limit_ncf  submission_of_application_not_inst  \\\n",
       "0            0.268036       -0.268036                           -0.737362   \n",
       "1            0.268036       -0.268036                           -0.737362   \n",
       "2            0.268036       -0.268036                           -0.737362   \n",
       "3            0.268036       -0.268036                            1.356185   \n",
       "4            0.268036       -0.268036                            1.356185   \n",
       "...               ...             ...                                 ...   \n",
       "135103       0.268036       -0.268036                           -0.737362   \n",
       "135104       0.268036       -0.268036                            1.356185   \n",
       "135105       0.268036       -0.268036                            1.356185   \n",
       "135106       0.268036       -0.268036                           -0.737362   \n",
       "135107       0.268036       -0.268036                            1.356185   \n",
       "\n",
       "        submission_of_application_to_inst  co-applicant_credit_type_CIB  ...  \\\n",
       "0                                0.737362                      0.995436  ...   \n",
       "1                                0.737362                     -1.004585  ...   \n",
       "2                                0.737362                      0.995436  ...   \n",
       "3                               -1.356185                      0.995436  ...   \n",
       "4                               -1.356185                     -1.004585  ...   \n",
       "...                                   ...                           ...  ...   \n",
       "135103                           0.737362                     -1.004585  ...   \n",
       "135104                          -1.356185                      0.995436  ...   \n",
       "135105                          -1.356185                     -1.004585  ...   \n",
       "135106                           0.737362                     -1.004585  ...   \n",
       "135107                          -1.356185                      0.995436  ...   \n",
       "\n",
       "        Region_North-East  Region_central  Region_south  age_25-34  age_35-44  \\\n",
       "0               -0.091551       -0.246226      1.152530   2.614658  -0.531420   \n",
       "1               -0.091551       -0.246226     -0.867657  -0.382459  -0.531420   \n",
       "2               -0.091551       -0.246226      1.152530  -0.382459   1.881751   \n",
       "3               -0.091551       -0.246226     -0.867657  -0.382459  -0.531420   \n",
       "4               -0.091551       -0.246226     -0.867657   2.614658  -0.531420   \n",
       "...                   ...             ...           ...        ...        ...   \n",
       "135103          -0.091551       -0.246226      1.152530  -0.382459  -0.531420   \n",
       "135104          -0.091551       -0.246226      1.152530   2.614658  -0.531420   \n",
       "135105          -0.091551       -0.246226     -0.867657  -0.382459  -0.531420   \n",
       "135106          -0.091551       -0.246226     -0.867657  -0.382459  -0.531420   \n",
       "135107          -0.091551       -0.246226     -0.867657  -0.382459  -0.531420   \n",
       "\n",
       "        age_45-54  age_55-64  age_65-74   age_<25   age_>74  \n",
       "0       -0.553124  -0.533515  -0.402305 -0.096048 -0.224268  \n",
       "1       -0.553124   1.874361  -0.402305 -0.096048 -0.224268  \n",
       "2       -0.553124  -0.533515  -0.402305 -0.096048 -0.224268  \n",
       "3        1.807912  -0.533515  -0.402305 -0.096048 -0.224268  \n",
       "4       -0.553124  -0.533515  -0.402305 -0.096048 -0.224268  \n",
       "...           ...        ...        ...       ...       ...  \n",
       "135103  -0.553124   1.874361  -0.402305 -0.096048 -0.224268  \n",
       "135104  -0.553124  -0.533515  -0.402305 -0.096048 -0.224268  \n",
       "135105   1.807912  -0.533515  -0.402305 -0.096048 -0.224268  \n",
       "135106  -0.553124   1.874361  -0.402305 -0.096048 -0.224268  \n",
       "135107   1.807912  -0.533515  -0.402305 -0.096048 -0.224268  \n",
       "\n",
       "[135108 rows x 64 columns]"
      ]
     },
     "metadata": {},
     "output_type": "display_data"
    },
    {
     "data": {
      "text/html": [
       "<div>\n",
       "<style scoped>\n",
       "    .dataframe tbody tr th:only-of-type {\n",
       "        vertical-align: middle;\n",
       "    }\n",
       "\n",
       "    .dataframe tbody tr th {\n",
       "        vertical-align: top;\n",
       "    }\n",
       "\n",
       "    .dataframe thead th {\n",
       "        text-align: right;\n",
       "    }\n",
       "</style>\n",
       "<table border=\"1\" class=\"dataframe\">\n",
       "  <thead>\n",
       "    <tr style=\"text-align: right;\">\n",
       "      <th></th>\n",
       "      <th>loan_amount</th>\n",
       "      <th>term</th>\n",
       "      <th>income</th>\n",
       "      <th>Status</th>\n",
       "      <th>loan_limit_cf</th>\n",
       "      <th>loan_limit_ncf</th>\n",
       "      <th>submission_of_application_not_inst</th>\n",
       "      <th>submission_of_application_to_inst</th>\n",
       "      <th>co-applicant_credit_type_CIB</th>\n",
       "      <th>co-applicant_credit_type_EXP</th>\n",
       "      <th>...</th>\n",
       "      <th>Region_North-East</th>\n",
       "      <th>Region_central</th>\n",
       "      <th>Region_south</th>\n",
       "      <th>age_25-34</th>\n",
       "      <th>age_35-44</th>\n",
       "      <th>age_45-54</th>\n",
       "      <th>age_55-64</th>\n",
       "      <th>age_65-74</th>\n",
       "      <th>age_&lt;25</th>\n",
       "      <th>age_&gt;74</th>\n",
       "    </tr>\n",
       "  </thead>\n",
       "  <tbody>\n",
       "    <tr>\n",
       "      <th>0</th>\n",
       "      <td>116500</td>\n",
       "      <td>360.0</td>\n",
       "      <td>1740.0</td>\n",
       "      <td>1</td>\n",
       "      <td>1</td>\n",
       "      <td>0</td>\n",
       "      <td>0</td>\n",
       "      <td>1</td>\n",
       "      <td>1</td>\n",
       "      <td>0</td>\n",
       "      <td>...</td>\n",
       "      <td>0</td>\n",
       "      <td>0</td>\n",
       "      <td>1</td>\n",
       "      <td>1</td>\n",
       "      <td>0</td>\n",
       "      <td>0</td>\n",
       "      <td>0</td>\n",
       "      <td>0</td>\n",
       "      <td>0</td>\n",
       "      <td>0</td>\n",
       "    </tr>\n",
       "    <tr>\n",
       "      <th>1</th>\n",
       "      <td>206500</td>\n",
       "      <td>360.0</td>\n",
       "      <td>4980.0</td>\n",
       "      <td>1</td>\n",
       "      <td>1</td>\n",
       "      <td>0</td>\n",
       "      <td>0</td>\n",
       "      <td>1</td>\n",
       "      <td>0</td>\n",
       "      <td>1</td>\n",
       "      <td>...</td>\n",
       "      <td>0</td>\n",
       "      <td>0</td>\n",
       "      <td>0</td>\n",
       "      <td>0</td>\n",
       "      <td>0</td>\n",
       "      <td>0</td>\n",
       "      <td>1</td>\n",
       "      <td>0</td>\n",
       "      <td>0</td>\n",
       "      <td>0</td>\n",
       "    </tr>\n",
       "    <tr>\n",
       "      <th>2</th>\n",
       "      <td>406500</td>\n",
       "      <td>360.0</td>\n",
       "      <td>9480.0</td>\n",
       "      <td>0</td>\n",
       "      <td>1</td>\n",
       "      <td>0</td>\n",
       "      <td>0</td>\n",
       "      <td>1</td>\n",
       "      <td>1</td>\n",
       "      <td>0</td>\n",
       "      <td>...</td>\n",
       "      <td>0</td>\n",
       "      <td>0</td>\n",
       "      <td>1</td>\n",
       "      <td>0</td>\n",
       "      <td>1</td>\n",
       "      <td>0</td>\n",
       "      <td>0</td>\n",
       "      <td>0</td>\n",
       "      <td>0</td>\n",
       "      <td>0</td>\n",
       "    </tr>\n",
       "    <tr>\n",
       "      <th>3</th>\n",
       "      <td>456500</td>\n",
       "      <td>360.0</td>\n",
       "      <td>11880.0</td>\n",
       "      <td>0</td>\n",
       "      <td>1</td>\n",
       "      <td>0</td>\n",
       "      <td>1</td>\n",
       "      <td>0</td>\n",
       "      <td>1</td>\n",
       "      <td>0</td>\n",
       "      <td>...</td>\n",
       "      <td>0</td>\n",
       "      <td>0</td>\n",
       "      <td>0</td>\n",
       "      <td>0</td>\n",
       "      <td>0</td>\n",
       "      <td>1</td>\n",
       "      <td>0</td>\n",
       "      <td>0</td>\n",
       "      <td>0</td>\n",
       "      <td>0</td>\n",
       "    </tr>\n",
       "    <tr>\n",
       "      <th>4</th>\n",
       "      <td>696500</td>\n",
       "      <td>360.0</td>\n",
       "      <td>10440.0</td>\n",
       "      <td>0</td>\n",
       "      <td>1</td>\n",
       "      <td>0</td>\n",
       "      <td>1</td>\n",
       "      <td>0</td>\n",
       "      <td>0</td>\n",
       "      <td>1</td>\n",
       "      <td>...</td>\n",
       "      <td>0</td>\n",
       "      <td>0</td>\n",
       "      <td>0</td>\n",
       "      <td>1</td>\n",
       "      <td>0</td>\n",
       "      <td>0</td>\n",
       "      <td>0</td>\n",
       "      <td>0</td>\n",
       "      <td>0</td>\n",
       "      <td>0</td>\n",
       "    </tr>\n",
       "    <tr>\n",
       "      <th>...</th>\n",
       "      <td>...</td>\n",
       "      <td>...</td>\n",
       "      <td>...</td>\n",
       "      <td>...</td>\n",
       "      <td>...</td>\n",
       "      <td>...</td>\n",
       "      <td>...</td>\n",
       "      <td>...</td>\n",
       "      <td>...</td>\n",
       "      <td>...</td>\n",
       "      <td>...</td>\n",
       "      <td>...</td>\n",
       "      <td>...</td>\n",
       "      <td>...</td>\n",
       "      <td>...</td>\n",
       "      <td>...</td>\n",
       "      <td>...</td>\n",
       "      <td>...</td>\n",
       "      <td>...</td>\n",
       "      <td>...</td>\n",
       "      <td>...</td>\n",
       "    </tr>\n",
       "    <tr>\n",
       "      <th>135103</th>\n",
       "      <td>436500</td>\n",
       "      <td>180.0</td>\n",
       "      <td>7860.0</td>\n",
       "      <td>0</td>\n",
       "      <td>1</td>\n",
       "      <td>0</td>\n",
       "      <td>0</td>\n",
       "      <td>1</td>\n",
       "      <td>0</td>\n",
       "      <td>1</td>\n",
       "      <td>...</td>\n",
       "      <td>0</td>\n",
       "      <td>0</td>\n",
       "      <td>1</td>\n",
       "      <td>0</td>\n",
       "      <td>0</td>\n",
       "      <td>0</td>\n",
       "      <td>1</td>\n",
       "      <td>0</td>\n",
       "      <td>0</td>\n",
       "      <td>0</td>\n",
       "    </tr>\n",
       "    <tr>\n",
       "      <th>135104</th>\n",
       "      <td>586500</td>\n",
       "      <td>360.0</td>\n",
       "      <td>7140.0</td>\n",
       "      <td>0</td>\n",
       "      <td>1</td>\n",
       "      <td>0</td>\n",
       "      <td>1</td>\n",
       "      <td>0</td>\n",
       "      <td>1</td>\n",
       "      <td>0</td>\n",
       "      <td>...</td>\n",
       "      <td>0</td>\n",
       "      <td>0</td>\n",
       "      <td>1</td>\n",
       "      <td>1</td>\n",
       "      <td>0</td>\n",
       "      <td>0</td>\n",
       "      <td>0</td>\n",
       "      <td>0</td>\n",
       "      <td>0</td>\n",
       "      <td>0</td>\n",
       "    </tr>\n",
       "    <tr>\n",
       "      <th>135105</th>\n",
       "      <td>446500</td>\n",
       "      <td>180.0</td>\n",
       "      <td>6900.0</td>\n",
       "      <td>0</td>\n",
       "      <td>1</td>\n",
       "      <td>0</td>\n",
       "      <td>1</td>\n",
       "      <td>0</td>\n",
       "      <td>0</td>\n",
       "      <td>1</td>\n",
       "      <td>...</td>\n",
       "      <td>0</td>\n",
       "      <td>0</td>\n",
       "      <td>0</td>\n",
       "      <td>0</td>\n",
       "      <td>0</td>\n",
       "      <td>1</td>\n",
       "      <td>0</td>\n",
       "      <td>0</td>\n",
       "      <td>0</td>\n",
       "      <td>0</td>\n",
       "    </tr>\n",
       "    <tr>\n",
       "      <th>135106</th>\n",
       "      <td>196500</td>\n",
       "      <td>180.0</td>\n",
       "      <td>7140.0</td>\n",
       "      <td>0</td>\n",
       "      <td>1</td>\n",
       "      <td>0</td>\n",
       "      <td>0</td>\n",
       "      <td>1</td>\n",
       "      <td>0</td>\n",
       "      <td>1</td>\n",
       "      <td>...</td>\n",
       "      <td>0</td>\n",
       "      <td>0</td>\n",
       "      <td>0</td>\n",
       "      <td>0</td>\n",
       "      <td>0</td>\n",
       "      <td>0</td>\n",
       "      <td>1</td>\n",
       "      <td>0</td>\n",
       "      <td>0</td>\n",
       "      <td>0</td>\n",
       "    </tr>\n",
       "    <tr>\n",
       "      <th>135107</th>\n",
       "      <td>406500</td>\n",
       "      <td>240.0</td>\n",
       "      <td>7260.0</td>\n",
       "      <td>0</td>\n",
       "      <td>1</td>\n",
       "      <td>0</td>\n",
       "      <td>1</td>\n",
       "      <td>0</td>\n",
       "      <td>1</td>\n",
       "      <td>0</td>\n",
       "      <td>...</td>\n",
       "      <td>0</td>\n",
       "      <td>0</td>\n",
       "      <td>0</td>\n",
       "      <td>0</td>\n",
       "      <td>0</td>\n",
       "      <td>1</td>\n",
       "      <td>0</td>\n",
       "      <td>0</td>\n",
       "      <td>0</td>\n",
       "      <td>0</td>\n",
       "    </tr>\n",
       "  </tbody>\n",
       "</table>\n",
       "<p>135108 rows × 63 columns</p>\n",
       "</div>"
      ],
      "text/plain": [
       "        loan_amount   term   income  Status  loan_limit_cf  loan_limit_ncf  \\\n",
       "0            116500  360.0   1740.0       1              1               0   \n",
       "1            206500  360.0   4980.0       1              1               0   \n",
       "2            406500  360.0   9480.0       0              1               0   \n",
       "3            456500  360.0  11880.0       0              1               0   \n",
       "4            696500  360.0  10440.0       0              1               0   \n",
       "...             ...    ...      ...     ...            ...             ...   \n",
       "135103       436500  180.0   7860.0       0              1               0   \n",
       "135104       586500  360.0   7140.0       0              1               0   \n",
       "135105       446500  180.0   6900.0       0              1               0   \n",
       "135106       196500  180.0   7140.0       0              1               0   \n",
       "135107       406500  240.0   7260.0       0              1               0   \n",
       "\n",
       "        submission_of_application_not_inst  submission_of_application_to_inst  \\\n",
       "0                                        0                                  1   \n",
       "1                                        0                                  1   \n",
       "2                                        0                                  1   \n",
       "3                                        1                                  0   \n",
       "4                                        1                                  0   \n",
       "...                                    ...                                ...   \n",
       "135103                                   0                                  1   \n",
       "135104                                   1                                  0   \n",
       "135105                                   1                                  0   \n",
       "135106                                   0                                  1   \n",
       "135107                                   1                                  0   \n",
       "\n",
       "        co-applicant_credit_type_CIB  co-applicant_credit_type_EXP  ...  \\\n",
       "0                                  1                             0  ...   \n",
       "1                                  0                             1  ...   \n",
       "2                                  1                             0  ...   \n",
       "3                                  1                             0  ...   \n",
       "4                                  0                             1  ...   \n",
       "...                              ...                           ...  ...   \n",
       "135103                             0                             1  ...   \n",
       "135104                             1                             0  ...   \n",
       "135105                             0                             1  ...   \n",
       "135106                             0                             1  ...   \n",
       "135107                             1                             0  ...   \n",
       "\n",
       "        Region_North-East  Region_central  Region_south  age_25-34  age_35-44  \\\n",
       "0                       0               0             1          1          0   \n",
       "1                       0               0             0          0          0   \n",
       "2                       0               0             1          0          1   \n",
       "3                       0               0             0          0          0   \n",
       "4                       0               0             0          1          0   \n",
       "...                   ...             ...           ...        ...        ...   \n",
       "135103                  0               0             1          0          0   \n",
       "135104                  0               0             1          1          0   \n",
       "135105                  0               0             0          0          0   \n",
       "135106                  0               0             0          0          0   \n",
       "135107                  0               0             0          0          0   \n",
       "\n",
       "        age_45-54  age_55-64  age_65-74  age_<25  age_>74  \n",
       "0               0          0          0        0        0  \n",
       "1               0          1          0        0        0  \n",
       "2               0          0          0        0        0  \n",
       "3               1          0          0        0        0  \n",
       "4               0          0          0        0        0  \n",
       "...           ...        ...        ...      ...      ...  \n",
       "135103          0          1          0        0        0  \n",
       "135104          0          0          0        0        0  \n",
       "135105          1          0          0        0        0  \n",
       "135106          0          1          0        0        0  \n",
       "135107          1          0          0        0        0  \n",
       "\n",
       "[135108 rows x 63 columns]"
      ]
     },
     "metadata": {},
     "output_type": "display_data"
    },
    {
     "data": {
      "application/javascript": [
       "\n",
       "            setTimeout(function() {\n",
       "                var nbb_cell_id = 7;\n",
       "                var nbb_unformatted_code = \"X_standardized = df\\nX_standardized = standardizeData(X_standardized)\\ndisplay(X_standardized)\\ndisplay(X)\";\n",
       "                var nbb_formatted_code = \"X_standardized = df\\nX_standardized = standardizeData(X_standardized)\\ndisplay(X_standardized)\\ndisplay(X)\";\n",
       "                var nbb_cells = Jupyter.notebook.get_cells();\n",
       "                for (var i = 0; i < nbb_cells.length; ++i) {\n",
       "                    if (nbb_cells[i].input_prompt_number == nbb_cell_id) {\n",
       "                        if (nbb_cells[i].get_text() == nbb_unformatted_code) {\n",
       "                             nbb_cells[i].set_text(nbb_formatted_code);\n",
       "                        }\n",
       "                        break;\n",
       "                    }\n",
       "                }\n",
       "            }, 500);\n",
       "            "
      ],
      "text/plain": [
       "<IPython.core.display.Javascript object>"
      ]
     },
     "metadata": {},
     "output_type": "display_data"
    }
   ],
   "source": [
    "X_standardized = df\n",
    "X_standardized = standardizeData(X_standardized)\n",
    "display(X_standardized)\n",
    "display(X)"
   ]
  },
  {
   "cell_type": "code",
   "execution_count": 8,
   "id": "5175c0e0",
   "metadata": {},
   "outputs": [
    {
     "data": {
      "text/html": [
       "<div>\n",
       "<style scoped>\n",
       "    .dataframe tbody tr th:only-of-type {\n",
       "        vertical-align: middle;\n",
       "    }\n",
       "\n",
       "    .dataframe tbody tr th {\n",
       "        vertical-align: top;\n",
       "    }\n",
       "\n",
       "    .dataframe thead th {\n",
       "        text-align: right;\n",
       "    }\n",
       "</style>\n",
       "<table border=\"1\" class=\"dataframe\">\n",
       "  <thead>\n",
       "    <tr style=\"text-align: right;\">\n",
       "      <th></th>\n",
       "      <th>loan_amount</th>\n",
       "      <th>term</th>\n",
       "      <th>income</th>\n",
       "    </tr>\n",
       "  </thead>\n",
       "  <tbody>\n",
       "    <tr>\n",
       "      <th>0</th>\n",
       "      <td>-1.152094</td>\n",
       "      <td>0.439777</td>\n",
       "      <td>-0.803694</td>\n",
       "    </tr>\n",
       "    <tr>\n",
       "      <th>1</th>\n",
       "      <td>-0.665241</td>\n",
       "      <td>0.439777</td>\n",
       "      <td>-0.305114</td>\n",
       "    </tr>\n",
       "    <tr>\n",
       "      <th>2</th>\n",
       "      <td>0.416656</td>\n",
       "      <td>0.439777</td>\n",
       "      <td>0.387358</td>\n",
       "    </tr>\n",
       "    <tr>\n",
       "      <th>3</th>\n",
       "      <td>0.687130</td>\n",
       "      <td>0.439777</td>\n",
       "      <td>0.756677</td>\n",
       "    </tr>\n",
       "    <tr>\n",
       "      <th>4</th>\n",
       "      <td>1.985407</td>\n",
       "      <td>0.439777</td>\n",
       "      <td>0.535086</td>\n",
       "    </tr>\n",
       "    <tr>\n",
       "      <th>...</th>\n",
       "      <td>...</td>\n",
       "      <td>...</td>\n",
       "      <td>...</td>\n",
       "    </tr>\n",
       "    <tr>\n",
       "      <th>135103</th>\n",
       "      <td>0.578941</td>\n",
       "      <td>-2.568908</td>\n",
       "      <td>0.138068</td>\n",
       "    </tr>\n",
       "    <tr>\n",
       "      <th>135104</th>\n",
       "      <td>1.390363</td>\n",
       "      <td>0.439777</td>\n",
       "      <td>0.027273</td>\n",
       "    </tr>\n",
       "    <tr>\n",
       "      <th>135105</th>\n",
       "      <td>0.633036</td>\n",
       "      <td>-2.568908</td>\n",
       "      <td>-0.009659</td>\n",
       "    </tr>\n",
       "    <tr>\n",
       "      <th>135106</th>\n",
       "      <td>-0.719336</td>\n",
       "      <td>-2.568908</td>\n",
       "      <td>0.027273</td>\n",
       "    </tr>\n",
       "    <tr>\n",
       "      <th>135107</th>\n",
       "      <td>0.416656</td>\n",
       "      <td>-1.566013</td>\n",
       "      <td>0.045739</td>\n",
       "    </tr>\n",
       "  </tbody>\n",
       "</table>\n",
       "<p>135108 rows × 3 columns</p>\n",
       "</div>"
      ],
      "text/plain": [
       "        loan_amount      term    income\n",
       "0         -1.152094  0.439777 -0.803694\n",
       "1         -0.665241  0.439777 -0.305114\n",
       "2          0.416656  0.439777  0.387358\n",
       "3          0.687130  0.439777  0.756677\n",
       "4          1.985407  0.439777  0.535086\n",
       "...             ...       ...       ...\n",
       "135103     0.578941 -2.568908  0.138068\n",
       "135104     1.390363  0.439777  0.027273\n",
       "135105     0.633036 -2.568908 -0.009659\n",
       "135106    -0.719336 -2.568908  0.027273\n",
       "135107     0.416656 -1.566013  0.045739\n",
       "\n",
       "[135108 rows x 3 columns]"
      ]
     },
     "metadata": {},
     "output_type": "display_data"
    },
    {
     "data": {
      "text/html": [
       "<div>\n",
       "<style scoped>\n",
       "    .dataframe tbody tr th:only-of-type {\n",
       "        vertical-align: middle;\n",
       "    }\n",
       "\n",
       "    .dataframe tbody tr th {\n",
       "        vertical-align: top;\n",
       "    }\n",
       "\n",
       "    .dataframe thead th {\n",
       "        text-align: right;\n",
       "    }\n",
       "</style>\n",
       "<table border=\"1\" class=\"dataframe\">\n",
       "  <thead>\n",
       "    <tr style=\"text-align: right;\">\n",
       "      <th></th>\n",
       "      <th>loan_amount</th>\n",
       "      <th>term</th>\n",
       "      <th>income</th>\n",
       "      <th>Status</th>\n",
       "      <th>loan_limit_cf</th>\n",
       "      <th>loan_limit_ncf</th>\n",
       "      <th>submission_of_application_not_inst</th>\n",
       "      <th>submission_of_application_to_inst</th>\n",
       "      <th>co-applicant_credit_type_CIB</th>\n",
       "      <th>co-applicant_credit_type_EXP</th>\n",
       "      <th>...</th>\n",
       "      <th>Region_North-East</th>\n",
       "      <th>Region_central</th>\n",
       "      <th>Region_south</th>\n",
       "      <th>age_25-34</th>\n",
       "      <th>age_35-44</th>\n",
       "      <th>age_45-54</th>\n",
       "      <th>age_55-64</th>\n",
       "      <th>age_65-74</th>\n",
       "      <th>age_&lt;25</th>\n",
       "      <th>age_&gt;74</th>\n",
       "    </tr>\n",
       "  </thead>\n",
       "  <tbody>\n",
       "    <tr>\n",
       "      <th>0</th>\n",
       "      <td>116500</td>\n",
       "      <td>360.0</td>\n",
       "      <td>1740.0</td>\n",
       "      <td>1</td>\n",
       "      <td>1</td>\n",
       "      <td>0</td>\n",
       "      <td>0</td>\n",
       "      <td>1</td>\n",
       "      <td>1</td>\n",
       "      <td>0</td>\n",
       "      <td>...</td>\n",
       "      <td>0</td>\n",
       "      <td>0</td>\n",
       "      <td>1</td>\n",
       "      <td>1</td>\n",
       "      <td>0</td>\n",
       "      <td>0</td>\n",
       "      <td>0</td>\n",
       "      <td>0</td>\n",
       "      <td>0</td>\n",
       "      <td>0</td>\n",
       "    </tr>\n",
       "    <tr>\n",
       "      <th>1</th>\n",
       "      <td>206500</td>\n",
       "      <td>360.0</td>\n",
       "      <td>4980.0</td>\n",
       "      <td>1</td>\n",
       "      <td>1</td>\n",
       "      <td>0</td>\n",
       "      <td>0</td>\n",
       "      <td>1</td>\n",
       "      <td>0</td>\n",
       "      <td>1</td>\n",
       "      <td>...</td>\n",
       "      <td>0</td>\n",
       "      <td>0</td>\n",
       "      <td>0</td>\n",
       "      <td>0</td>\n",
       "      <td>0</td>\n",
       "      <td>0</td>\n",
       "      <td>1</td>\n",
       "      <td>0</td>\n",
       "      <td>0</td>\n",
       "      <td>0</td>\n",
       "    </tr>\n",
       "    <tr>\n",
       "      <th>2</th>\n",
       "      <td>406500</td>\n",
       "      <td>360.0</td>\n",
       "      <td>9480.0</td>\n",
       "      <td>0</td>\n",
       "      <td>1</td>\n",
       "      <td>0</td>\n",
       "      <td>0</td>\n",
       "      <td>1</td>\n",
       "      <td>1</td>\n",
       "      <td>0</td>\n",
       "      <td>...</td>\n",
       "      <td>0</td>\n",
       "      <td>0</td>\n",
       "      <td>1</td>\n",
       "      <td>0</td>\n",
       "      <td>1</td>\n",
       "      <td>0</td>\n",
       "      <td>0</td>\n",
       "      <td>0</td>\n",
       "      <td>0</td>\n",
       "      <td>0</td>\n",
       "    </tr>\n",
       "    <tr>\n",
       "      <th>3</th>\n",
       "      <td>456500</td>\n",
       "      <td>360.0</td>\n",
       "      <td>11880.0</td>\n",
       "      <td>0</td>\n",
       "      <td>1</td>\n",
       "      <td>0</td>\n",
       "      <td>1</td>\n",
       "      <td>0</td>\n",
       "      <td>1</td>\n",
       "      <td>0</td>\n",
       "      <td>...</td>\n",
       "      <td>0</td>\n",
       "      <td>0</td>\n",
       "      <td>0</td>\n",
       "      <td>0</td>\n",
       "      <td>0</td>\n",
       "      <td>1</td>\n",
       "      <td>0</td>\n",
       "      <td>0</td>\n",
       "      <td>0</td>\n",
       "      <td>0</td>\n",
       "    </tr>\n",
       "    <tr>\n",
       "      <th>4</th>\n",
       "      <td>696500</td>\n",
       "      <td>360.0</td>\n",
       "      <td>10440.0</td>\n",
       "      <td>0</td>\n",
       "      <td>1</td>\n",
       "      <td>0</td>\n",
       "      <td>1</td>\n",
       "      <td>0</td>\n",
       "      <td>0</td>\n",
       "      <td>1</td>\n",
       "      <td>...</td>\n",
       "      <td>0</td>\n",
       "      <td>0</td>\n",
       "      <td>0</td>\n",
       "      <td>1</td>\n",
       "      <td>0</td>\n",
       "      <td>0</td>\n",
       "      <td>0</td>\n",
       "      <td>0</td>\n",
       "      <td>0</td>\n",
       "      <td>0</td>\n",
       "    </tr>\n",
       "    <tr>\n",
       "      <th>...</th>\n",
       "      <td>...</td>\n",
       "      <td>...</td>\n",
       "      <td>...</td>\n",
       "      <td>...</td>\n",
       "      <td>...</td>\n",
       "      <td>...</td>\n",
       "      <td>...</td>\n",
       "      <td>...</td>\n",
       "      <td>...</td>\n",
       "      <td>...</td>\n",
       "      <td>...</td>\n",
       "      <td>...</td>\n",
       "      <td>...</td>\n",
       "      <td>...</td>\n",
       "      <td>...</td>\n",
       "      <td>...</td>\n",
       "      <td>...</td>\n",
       "      <td>...</td>\n",
       "      <td>...</td>\n",
       "      <td>...</td>\n",
       "      <td>...</td>\n",
       "    </tr>\n",
       "    <tr>\n",
       "      <th>135103</th>\n",
       "      <td>436500</td>\n",
       "      <td>180.0</td>\n",
       "      <td>7860.0</td>\n",
       "      <td>0</td>\n",
       "      <td>1</td>\n",
       "      <td>0</td>\n",
       "      <td>0</td>\n",
       "      <td>1</td>\n",
       "      <td>0</td>\n",
       "      <td>1</td>\n",
       "      <td>...</td>\n",
       "      <td>0</td>\n",
       "      <td>0</td>\n",
       "      <td>1</td>\n",
       "      <td>0</td>\n",
       "      <td>0</td>\n",
       "      <td>0</td>\n",
       "      <td>1</td>\n",
       "      <td>0</td>\n",
       "      <td>0</td>\n",
       "      <td>0</td>\n",
       "    </tr>\n",
       "    <tr>\n",
       "      <th>135104</th>\n",
       "      <td>586500</td>\n",
       "      <td>360.0</td>\n",
       "      <td>7140.0</td>\n",
       "      <td>0</td>\n",
       "      <td>1</td>\n",
       "      <td>0</td>\n",
       "      <td>1</td>\n",
       "      <td>0</td>\n",
       "      <td>1</td>\n",
       "      <td>0</td>\n",
       "      <td>...</td>\n",
       "      <td>0</td>\n",
       "      <td>0</td>\n",
       "      <td>1</td>\n",
       "      <td>1</td>\n",
       "      <td>0</td>\n",
       "      <td>0</td>\n",
       "      <td>0</td>\n",
       "      <td>0</td>\n",
       "      <td>0</td>\n",
       "      <td>0</td>\n",
       "    </tr>\n",
       "    <tr>\n",
       "      <th>135105</th>\n",
       "      <td>446500</td>\n",
       "      <td>180.0</td>\n",
       "      <td>6900.0</td>\n",
       "      <td>0</td>\n",
       "      <td>1</td>\n",
       "      <td>0</td>\n",
       "      <td>1</td>\n",
       "      <td>0</td>\n",
       "      <td>0</td>\n",
       "      <td>1</td>\n",
       "      <td>...</td>\n",
       "      <td>0</td>\n",
       "      <td>0</td>\n",
       "      <td>0</td>\n",
       "      <td>0</td>\n",
       "      <td>0</td>\n",
       "      <td>1</td>\n",
       "      <td>0</td>\n",
       "      <td>0</td>\n",
       "      <td>0</td>\n",
       "      <td>0</td>\n",
       "    </tr>\n",
       "    <tr>\n",
       "      <th>135106</th>\n",
       "      <td>196500</td>\n",
       "      <td>180.0</td>\n",
       "      <td>7140.0</td>\n",
       "      <td>0</td>\n",
       "      <td>1</td>\n",
       "      <td>0</td>\n",
       "      <td>0</td>\n",
       "      <td>1</td>\n",
       "      <td>0</td>\n",
       "      <td>1</td>\n",
       "      <td>...</td>\n",
       "      <td>0</td>\n",
       "      <td>0</td>\n",
       "      <td>0</td>\n",
       "      <td>0</td>\n",
       "      <td>0</td>\n",
       "      <td>0</td>\n",
       "      <td>1</td>\n",
       "      <td>0</td>\n",
       "      <td>0</td>\n",
       "      <td>0</td>\n",
       "    </tr>\n",
       "    <tr>\n",
       "      <th>135107</th>\n",
       "      <td>406500</td>\n",
       "      <td>240.0</td>\n",
       "      <td>7260.0</td>\n",
       "      <td>0</td>\n",
       "      <td>1</td>\n",
       "      <td>0</td>\n",
       "      <td>1</td>\n",
       "      <td>0</td>\n",
       "      <td>1</td>\n",
       "      <td>0</td>\n",
       "      <td>...</td>\n",
       "      <td>0</td>\n",
       "      <td>0</td>\n",
       "      <td>0</td>\n",
       "      <td>0</td>\n",
       "      <td>0</td>\n",
       "      <td>1</td>\n",
       "      <td>0</td>\n",
       "      <td>0</td>\n",
       "      <td>0</td>\n",
       "      <td>0</td>\n",
       "    </tr>\n",
       "  </tbody>\n",
       "</table>\n",
       "<p>135108 rows × 63 columns</p>\n",
       "</div>"
      ],
      "text/plain": [
       "        loan_amount   term   income  Status  loan_limit_cf  loan_limit_ncf  \\\n",
       "0            116500  360.0   1740.0       1              1               0   \n",
       "1            206500  360.0   4980.0       1              1               0   \n",
       "2            406500  360.0   9480.0       0              1               0   \n",
       "3            456500  360.0  11880.0       0              1               0   \n",
       "4            696500  360.0  10440.0       0              1               0   \n",
       "...             ...    ...      ...     ...            ...             ...   \n",
       "135103       436500  180.0   7860.0       0              1               0   \n",
       "135104       586500  360.0   7140.0       0              1               0   \n",
       "135105       446500  180.0   6900.0       0              1               0   \n",
       "135106       196500  180.0   7140.0       0              1               0   \n",
       "135107       406500  240.0   7260.0       0              1               0   \n",
       "\n",
       "        submission_of_application_not_inst  submission_of_application_to_inst  \\\n",
       "0                                        0                                  1   \n",
       "1                                        0                                  1   \n",
       "2                                        0                                  1   \n",
       "3                                        1                                  0   \n",
       "4                                        1                                  0   \n",
       "...                                    ...                                ...   \n",
       "135103                                   0                                  1   \n",
       "135104                                   1                                  0   \n",
       "135105                                   1                                  0   \n",
       "135106                                   0                                  1   \n",
       "135107                                   1                                  0   \n",
       "\n",
       "        co-applicant_credit_type_CIB  co-applicant_credit_type_EXP  ...  \\\n",
       "0                                  1                             0  ...   \n",
       "1                                  0                             1  ...   \n",
       "2                                  1                             0  ...   \n",
       "3                                  1                             0  ...   \n",
       "4                                  0                             1  ...   \n",
       "...                              ...                           ...  ...   \n",
       "135103                             0                             1  ...   \n",
       "135104                             1                             0  ...   \n",
       "135105                             0                             1  ...   \n",
       "135106                             0                             1  ...   \n",
       "135107                             1                             0  ...   \n",
       "\n",
       "        Region_North-East  Region_central  Region_south  age_25-34  age_35-44  \\\n",
       "0                       0               0             1          1          0   \n",
       "1                       0               0             0          0          0   \n",
       "2                       0               0             1          0          1   \n",
       "3                       0               0             0          0          0   \n",
       "4                       0               0             0          1          0   \n",
       "...                   ...             ...           ...        ...        ...   \n",
       "135103                  0               0             1          0          0   \n",
       "135104                  0               0             1          1          0   \n",
       "135105                  0               0             0          0          0   \n",
       "135106                  0               0             0          0          0   \n",
       "135107                  0               0             0          0          0   \n",
       "\n",
       "        age_45-54  age_55-64  age_65-74  age_<25  age_>74  \n",
       "0               0          0          0        0        0  \n",
       "1               0          1          0        0        0  \n",
       "2               0          0          0        0        0  \n",
       "3               1          0          0        0        0  \n",
       "4               0          0          0        0        0  \n",
       "...           ...        ...        ...      ...      ...  \n",
       "135103          0          1          0        0        0  \n",
       "135104          0          0          0        0        0  \n",
       "135105          1          0          0        0        0  \n",
       "135106          0          1          0        0        0  \n",
       "135107          1          0          0        0        0  \n",
       "\n",
       "[135108 rows x 63 columns]"
      ]
     },
     "metadata": {},
     "output_type": "display_data"
    },
    {
     "data": {
      "text/html": [
       "<div>\n",
       "<style scoped>\n",
       "    .dataframe tbody tr th:only-of-type {\n",
       "        vertical-align: middle;\n",
       "    }\n",
       "\n",
       "    .dataframe tbody tr th {\n",
       "        vertical-align: top;\n",
       "    }\n",
       "\n",
       "    .dataframe thead th {\n",
       "        text-align: right;\n",
       "    }\n",
       "</style>\n",
       "<table border=\"1\" class=\"dataframe\">\n",
       "  <thead>\n",
       "    <tr style=\"text-align: right;\">\n",
       "      <th></th>\n",
       "      <th>loan_amount</th>\n",
       "      <th>term</th>\n",
       "      <th>income</th>\n",
       "      <th>Status</th>\n",
       "      <th>loan_limit_cf</th>\n",
       "      <th>loan_limit_ncf</th>\n",
       "      <th>submission_of_application_not_inst</th>\n",
       "      <th>submission_of_application_to_inst</th>\n",
       "      <th>co-applicant_credit_type_CIB</th>\n",
       "      <th>co-applicant_credit_type_EXP</th>\n",
       "      <th>...</th>\n",
       "      <th>Region_North-East</th>\n",
       "      <th>Region_central</th>\n",
       "      <th>Region_south</th>\n",
       "      <th>age_25-34</th>\n",
       "      <th>age_35-44</th>\n",
       "      <th>age_45-54</th>\n",
       "      <th>age_55-64</th>\n",
       "      <th>age_65-74</th>\n",
       "      <th>age_&lt;25</th>\n",
       "      <th>age_&gt;74</th>\n",
       "    </tr>\n",
       "  </thead>\n",
       "  <tbody>\n",
       "    <tr>\n",
       "      <th>0</th>\n",
       "      <td>-1.152094</td>\n",
       "      <td>0.439777</td>\n",
       "      <td>-0.803694</td>\n",
       "      <td>1</td>\n",
       "      <td>1</td>\n",
       "      <td>0</td>\n",
       "      <td>0</td>\n",
       "      <td>1</td>\n",
       "      <td>1</td>\n",
       "      <td>0</td>\n",
       "      <td>...</td>\n",
       "      <td>0</td>\n",
       "      <td>0</td>\n",
       "      <td>1</td>\n",
       "      <td>1</td>\n",
       "      <td>0</td>\n",
       "      <td>0</td>\n",
       "      <td>0</td>\n",
       "      <td>0</td>\n",
       "      <td>0</td>\n",
       "      <td>0</td>\n",
       "    </tr>\n",
       "    <tr>\n",
       "      <th>1</th>\n",
       "      <td>-0.665241</td>\n",
       "      <td>0.439777</td>\n",
       "      <td>-0.305114</td>\n",
       "      <td>1</td>\n",
       "      <td>1</td>\n",
       "      <td>0</td>\n",
       "      <td>0</td>\n",
       "      <td>1</td>\n",
       "      <td>0</td>\n",
       "      <td>1</td>\n",
       "      <td>...</td>\n",
       "      <td>0</td>\n",
       "      <td>0</td>\n",
       "      <td>0</td>\n",
       "      <td>0</td>\n",
       "      <td>0</td>\n",
       "      <td>0</td>\n",
       "      <td>1</td>\n",
       "      <td>0</td>\n",
       "      <td>0</td>\n",
       "      <td>0</td>\n",
       "    </tr>\n",
       "    <tr>\n",
       "      <th>2</th>\n",
       "      <td>0.416656</td>\n",
       "      <td>0.439777</td>\n",
       "      <td>0.387358</td>\n",
       "      <td>0</td>\n",
       "      <td>1</td>\n",
       "      <td>0</td>\n",
       "      <td>0</td>\n",
       "      <td>1</td>\n",
       "      <td>1</td>\n",
       "      <td>0</td>\n",
       "      <td>...</td>\n",
       "      <td>0</td>\n",
       "      <td>0</td>\n",
       "      <td>1</td>\n",
       "      <td>0</td>\n",
       "      <td>1</td>\n",
       "      <td>0</td>\n",
       "      <td>0</td>\n",
       "      <td>0</td>\n",
       "      <td>0</td>\n",
       "      <td>0</td>\n",
       "    </tr>\n",
       "    <tr>\n",
       "      <th>3</th>\n",
       "      <td>0.687130</td>\n",
       "      <td>0.439777</td>\n",
       "      <td>0.756677</td>\n",
       "      <td>0</td>\n",
       "      <td>1</td>\n",
       "      <td>0</td>\n",
       "      <td>1</td>\n",
       "      <td>0</td>\n",
       "      <td>1</td>\n",
       "      <td>0</td>\n",
       "      <td>...</td>\n",
       "      <td>0</td>\n",
       "      <td>0</td>\n",
       "      <td>0</td>\n",
       "      <td>0</td>\n",
       "      <td>0</td>\n",
       "      <td>1</td>\n",
       "      <td>0</td>\n",
       "      <td>0</td>\n",
       "      <td>0</td>\n",
       "      <td>0</td>\n",
       "    </tr>\n",
       "    <tr>\n",
       "      <th>4</th>\n",
       "      <td>1.985407</td>\n",
       "      <td>0.439777</td>\n",
       "      <td>0.535086</td>\n",
       "      <td>0</td>\n",
       "      <td>1</td>\n",
       "      <td>0</td>\n",
       "      <td>1</td>\n",
       "      <td>0</td>\n",
       "      <td>0</td>\n",
       "      <td>1</td>\n",
       "      <td>...</td>\n",
       "      <td>0</td>\n",
       "      <td>0</td>\n",
       "      <td>0</td>\n",
       "      <td>1</td>\n",
       "      <td>0</td>\n",
       "      <td>0</td>\n",
       "      <td>0</td>\n",
       "      <td>0</td>\n",
       "      <td>0</td>\n",
       "      <td>0</td>\n",
       "    </tr>\n",
       "    <tr>\n",
       "      <th>...</th>\n",
       "      <td>...</td>\n",
       "      <td>...</td>\n",
       "      <td>...</td>\n",
       "      <td>...</td>\n",
       "      <td>...</td>\n",
       "      <td>...</td>\n",
       "      <td>...</td>\n",
       "      <td>...</td>\n",
       "      <td>...</td>\n",
       "      <td>...</td>\n",
       "      <td>...</td>\n",
       "      <td>...</td>\n",
       "      <td>...</td>\n",
       "      <td>...</td>\n",
       "      <td>...</td>\n",
       "      <td>...</td>\n",
       "      <td>...</td>\n",
       "      <td>...</td>\n",
       "      <td>...</td>\n",
       "      <td>...</td>\n",
       "      <td>...</td>\n",
       "    </tr>\n",
       "    <tr>\n",
       "      <th>135103</th>\n",
       "      <td>0.578941</td>\n",
       "      <td>-2.568908</td>\n",
       "      <td>0.138068</td>\n",
       "      <td>0</td>\n",
       "      <td>1</td>\n",
       "      <td>0</td>\n",
       "      <td>0</td>\n",
       "      <td>1</td>\n",
       "      <td>0</td>\n",
       "      <td>1</td>\n",
       "      <td>...</td>\n",
       "      <td>0</td>\n",
       "      <td>0</td>\n",
       "      <td>1</td>\n",
       "      <td>0</td>\n",
       "      <td>0</td>\n",
       "      <td>0</td>\n",
       "      <td>1</td>\n",
       "      <td>0</td>\n",
       "      <td>0</td>\n",
       "      <td>0</td>\n",
       "    </tr>\n",
       "    <tr>\n",
       "      <th>135104</th>\n",
       "      <td>1.390363</td>\n",
       "      <td>0.439777</td>\n",
       "      <td>0.027273</td>\n",
       "      <td>0</td>\n",
       "      <td>1</td>\n",
       "      <td>0</td>\n",
       "      <td>1</td>\n",
       "      <td>0</td>\n",
       "      <td>1</td>\n",
       "      <td>0</td>\n",
       "      <td>...</td>\n",
       "      <td>0</td>\n",
       "      <td>0</td>\n",
       "      <td>1</td>\n",
       "      <td>1</td>\n",
       "      <td>0</td>\n",
       "      <td>0</td>\n",
       "      <td>0</td>\n",
       "      <td>0</td>\n",
       "      <td>0</td>\n",
       "      <td>0</td>\n",
       "    </tr>\n",
       "    <tr>\n",
       "      <th>135105</th>\n",
       "      <td>0.633036</td>\n",
       "      <td>-2.568908</td>\n",
       "      <td>-0.009659</td>\n",
       "      <td>0</td>\n",
       "      <td>1</td>\n",
       "      <td>0</td>\n",
       "      <td>1</td>\n",
       "      <td>0</td>\n",
       "      <td>0</td>\n",
       "      <td>1</td>\n",
       "      <td>...</td>\n",
       "      <td>0</td>\n",
       "      <td>0</td>\n",
       "      <td>0</td>\n",
       "      <td>0</td>\n",
       "      <td>0</td>\n",
       "      <td>1</td>\n",
       "      <td>0</td>\n",
       "      <td>0</td>\n",
       "      <td>0</td>\n",
       "      <td>0</td>\n",
       "    </tr>\n",
       "    <tr>\n",
       "      <th>135106</th>\n",
       "      <td>-0.719336</td>\n",
       "      <td>-2.568908</td>\n",
       "      <td>0.027273</td>\n",
       "      <td>0</td>\n",
       "      <td>1</td>\n",
       "      <td>0</td>\n",
       "      <td>0</td>\n",
       "      <td>1</td>\n",
       "      <td>0</td>\n",
       "      <td>1</td>\n",
       "      <td>...</td>\n",
       "      <td>0</td>\n",
       "      <td>0</td>\n",
       "      <td>0</td>\n",
       "      <td>0</td>\n",
       "      <td>0</td>\n",
       "      <td>0</td>\n",
       "      <td>1</td>\n",
       "      <td>0</td>\n",
       "      <td>0</td>\n",
       "      <td>0</td>\n",
       "    </tr>\n",
       "    <tr>\n",
       "      <th>135107</th>\n",
       "      <td>0.416656</td>\n",
       "      <td>-1.566013</td>\n",
       "      <td>0.045739</td>\n",
       "      <td>0</td>\n",
       "      <td>1</td>\n",
       "      <td>0</td>\n",
       "      <td>1</td>\n",
       "      <td>0</td>\n",
       "      <td>1</td>\n",
       "      <td>0</td>\n",
       "      <td>...</td>\n",
       "      <td>0</td>\n",
       "      <td>0</td>\n",
       "      <td>0</td>\n",
       "      <td>0</td>\n",
       "      <td>0</td>\n",
       "      <td>1</td>\n",
       "      <td>0</td>\n",
       "      <td>0</td>\n",
       "      <td>0</td>\n",
       "      <td>0</td>\n",
       "    </tr>\n",
       "  </tbody>\n",
       "</table>\n",
       "<p>135108 rows × 63 columns</p>\n",
       "</div>"
      ],
      "text/plain": [
       "        loan_amount      term    income  Status  loan_limit_cf  \\\n",
       "0         -1.152094  0.439777 -0.803694       1              1   \n",
       "1         -0.665241  0.439777 -0.305114       1              1   \n",
       "2          0.416656  0.439777  0.387358       0              1   \n",
       "3          0.687130  0.439777  0.756677       0              1   \n",
       "4          1.985407  0.439777  0.535086       0              1   \n",
       "...             ...       ...       ...     ...            ...   \n",
       "135103     0.578941 -2.568908  0.138068       0              1   \n",
       "135104     1.390363  0.439777  0.027273       0              1   \n",
       "135105     0.633036 -2.568908 -0.009659       0              1   \n",
       "135106    -0.719336 -2.568908  0.027273       0              1   \n",
       "135107     0.416656 -1.566013  0.045739       0              1   \n",
       "\n",
       "        loan_limit_ncf  submission_of_application_not_inst  \\\n",
       "0                    0                                   0   \n",
       "1                    0                                   0   \n",
       "2                    0                                   0   \n",
       "3                    0                                   1   \n",
       "4                    0                                   1   \n",
       "...                ...                                 ...   \n",
       "135103               0                                   0   \n",
       "135104               0                                   1   \n",
       "135105               0                                   1   \n",
       "135106               0                                   0   \n",
       "135107               0                                   1   \n",
       "\n",
       "        submission_of_application_to_inst  co-applicant_credit_type_CIB  \\\n",
       "0                                       1                             1   \n",
       "1                                       1                             0   \n",
       "2                                       1                             1   \n",
       "3                                       0                             1   \n",
       "4                                       0                             0   \n",
       "...                                   ...                           ...   \n",
       "135103                                  1                             0   \n",
       "135104                                  0                             1   \n",
       "135105                                  0                             0   \n",
       "135106                                  1                             0   \n",
       "135107                                  0                             1   \n",
       "\n",
       "        co-applicant_credit_type_EXP  ...  Region_North-East  Region_central  \\\n",
       "0                                  0  ...                  0               0   \n",
       "1                                  1  ...                  0               0   \n",
       "2                                  0  ...                  0               0   \n",
       "3                                  0  ...                  0               0   \n",
       "4                                  1  ...                  0               0   \n",
       "...                              ...  ...                ...             ...   \n",
       "135103                             1  ...                  0               0   \n",
       "135104                             0  ...                  0               0   \n",
       "135105                             1  ...                  0               0   \n",
       "135106                             1  ...                  0               0   \n",
       "135107                             0  ...                  0               0   \n",
       "\n",
       "        Region_south  age_25-34  age_35-44  age_45-54  age_55-64  age_65-74  \\\n",
       "0                  1          1          0          0          0          0   \n",
       "1                  0          0          0          0          1          0   \n",
       "2                  1          0          1          0          0          0   \n",
       "3                  0          0          0          1          0          0   \n",
       "4                  0          1          0          0          0          0   \n",
       "...              ...        ...        ...        ...        ...        ...   \n",
       "135103             1          0          0          0          1          0   \n",
       "135104             1          1          0          0          0          0   \n",
       "135105             0          0          0          1          0          0   \n",
       "135106             0          0          0          0          1          0   \n",
       "135107             0          0          0          1          0          0   \n",
       "\n",
       "        age_<25  age_>74  \n",
       "0             0        0  \n",
       "1             0        0  \n",
       "2             0        0  \n",
       "3             0        0  \n",
       "4             0        0  \n",
       "...         ...      ...  \n",
       "135103        0        0  \n",
       "135104        0        0  \n",
       "135105        0        0  \n",
       "135106        0        0  \n",
       "135107        0        0  \n",
       "\n",
       "[135108 rows x 63 columns]"
      ]
     },
     "metadata": {},
     "output_type": "display_data"
    },
    {
     "data": {
      "application/javascript": [
       "\n",
       "            setTimeout(function() {\n",
       "                var nbb_cell_id = 8;\n",
       "                var nbb_unformatted_code = \"# Lets not standardize dummy variables\\n# THIS FIXES ALL THE PROBLEMS :)\\nX_standNotDumb = standardizeData(X.iloc[:, :3])\\nXnewstand = X\\n\\ndisplay(X_standNotDumb)\\ndisplay(Xnewstand)\\nXnewstand[[\\\"loan_amount\\\", \\\"term\\\", \\\"income\\\"]] = X_standNotDumb[\\n    [\\\"loan_amount\\\", \\\"term\\\", \\\"income\\\"]\\n]\\ndisplay(Xnewstand)\";\n",
       "                var nbb_formatted_code = \"# Lets not standardize dummy variables\\n# THIS FIXES ALL THE PROBLEMS :)\\nX_standNotDumb = standardizeData(X.iloc[:, :3])\\nXnewstand = X\\n\\ndisplay(X_standNotDumb)\\ndisplay(Xnewstand)\\nXnewstand[[\\\"loan_amount\\\", \\\"term\\\", \\\"income\\\"]] = X_standNotDumb[\\n    [\\\"loan_amount\\\", \\\"term\\\", \\\"income\\\"]\\n]\\ndisplay(Xnewstand)\";\n",
       "                var nbb_cells = Jupyter.notebook.get_cells();\n",
       "                for (var i = 0; i < nbb_cells.length; ++i) {\n",
       "                    if (nbb_cells[i].input_prompt_number == nbb_cell_id) {\n",
       "                        if (nbb_cells[i].get_text() == nbb_unformatted_code) {\n",
       "                             nbb_cells[i].set_text(nbb_formatted_code);\n",
       "                        }\n",
       "                        break;\n",
       "                    }\n",
       "                }\n",
       "            }, 500);\n",
       "            "
      ],
      "text/plain": [
       "<IPython.core.display.Javascript object>"
      ]
     },
     "metadata": {},
     "output_type": "display_data"
    }
   ],
   "source": [
    "# Lets not standardize dummy variables\n",
    "# THIS FIXES ALL THE PROBLEMS :)\n",
    "X_standNotDumb = standardizeData(X.iloc[:, :3])\n",
    "Xnewstand = X\n",
    "\n",
    "display(X_standNotDumb)\n",
    "display(Xnewstand)\n",
    "Xnewstand[[\"loan_amount\", \"term\", \"income\"]] = X_standNotDumb[\n",
    "    [\"loan_amount\", \"term\", \"income\"]\n",
    "]\n",
    "display(Xnewstand)"
   ]
  },
  {
   "cell_type": "code",
   "execution_count": 9,
   "id": "3e604e20",
   "metadata": {},
   "outputs": [
    {
     "data": {
      "text/plain": [
       "0      0.327551\n",
       "1      1.382586\n",
       "2      0.816499\n",
       "3     11.881972\n",
       "4     39.657372\n",
       "        ...    \n",
       "58    10.372135\n",
       "59     9.324720\n",
       "60     6.273951\n",
       "61     0.572112\n",
       "62     2.112797\n",
       "Length: 63, dtype: float64"
      ]
     },
     "metadata": {},
     "output_type": "display_data"
    },
    {
     "data": {
      "application/javascript": [
       "\n",
       "            setTimeout(function() {\n",
       "                var nbb_cell_id = 9;\n",
       "                var nbb_unformatted_code = \"# Start analysis with value of arbitrary value of lambda\\nfrom sklearn.model_selection import train_test_split\\n\\nXtrain, Xtest, Ytrain, Ytest = train_test_split(\\n    Xnewstand, y, test_size=0.3, random_state=0\\n)\\n\\nn, m = Xtrain.shape\\nI = np.identity(m)\\nalpha = 1e5\\nbeta = sp.linalg.inv((Xtrain.T @ Xtrain) + alpha * I) @ Xtrain.T @ Ytrain\\ndisplay(beta)\";\n",
       "                var nbb_formatted_code = \"# Start analysis with value of arbitrary value of lambda\\nfrom sklearn.model_selection import train_test_split\\n\\nXtrain, Xtest, Ytrain, Ytest = train_test_split(\\n    Xnewstand, y, test_size=0.3, random_state=0\\n)\\n\\nn, m = Xtrain.shape\\nI = np.identity(m)\\nalpha = 1e5\\nbeta = sp.linalg.inv((Xtrain.T @ Xtrain) + alpha * I) @ Xtrain.T @ Ytrain\\ndisplay(beta)\";\n",
       "                var nbb_cells = Jupyter.notebook.get_cells();\n",
       "                for (var i = 0; i < nbb_cells.length; ++i) {\n",
       "                    if (nbb_cells[i].input_prompt_number == nbb_cell_id) {\n",
       "                        if (nbb_cells[i].get_text() == nbb_unformatted_code) {\n",
       "                             nbb_cells[i].set_text(nbb_formatted_code);\n",
       "                        }\n",
       "                        break;\n",
       "                    }\n",
       "                }\n",
       "            }, 500);\n",
       "            "
      ],
      "text/plain": [
       "<IPython.core.display.Javascript object>"
      ]
     },
     "metadata": {},
     "output_type": "display_data"
    }
   ],
   "source": [
    "# Start analysis with value of arbitrary value of lambda\n",
    "from sklearn.model_selection import train_test_split\n",
    "\n",
    "Xtrain, Xtest, Ytrain, Ytest = train_test_split(\n",
    "    Xnewstand, y, test_size=0.3, random_state=0\n",
    ")\n",
    "\n",
    "n, m = Xtrain.shape\n",
    "I = np.identity(m)\n",
    "alpha = 1e5\n",
    "beta = sp.linalg.inv((Xtrain.T @ Xtrain) + alpha * I) @ Xtrain.T @ Ytrain\n",
    "display(beta)"
   ]
  },
  {
   "cell_type": "code",
   "execution_count": 10,
   "id": "d4c7743d",
   "metadata": {},
   "outputs": [
    {
     "data": {
      "text/html": [
       "<div>\n",
       "<style scoped>\n",
       "    .dataframe tbody tr th:only-of-type {\n",
       "        vertical-align: middle;\n",
       "    }\n",
       "\n",
       "    .dataframe tbody tr th {\n",
       "        vertical-align: top;\n",
       "    }\n",
       "\n",
       "    .dataframe thead th {\n",
       "        text-align: right;\n",
       "    }\n",
       "</style>\n",
       "<table border=\"1\" class=\"dataframe\">\n",
       "  <thead>\n",
       "    <tr style=\"text-align: right;\">\n",
       "      <th></th>\n",
       "      <th>abs coef</th>\n",
       "      <th>coef</th>\n",
       "      <th>names</th>\n",
       "    </tr>\n",
       "  </thead>\n",
       "  <tbody>\n",
       "    <tr>\n",
       "      <th>10</th>\n",
       "      <td>44.549106</td>\n",
       "      <td>44.549106</td>\n",
       "      <td>Secured_by_home</td>\n",
       "    </tr>\n",
       "    <tr>\n",
       "      <th>15</th>\n",
       "      <td>44.549106</td>\n",
       "      <td>44.549106</td>\n",
       "      <td>Security_Type_direct</td>\n",
       "    </tr>\n",
       "    <tr>\n",
       "      <th>13</th>\n",
       "      <td>44.549106</td>\n",
       "      <td>44.549106</td>\n",
       "      <td>construction_type_sb</td>\n",
       "    </tr>\n",
       "    <tr>\n",
       "      <th>24</th>\n",
       "      <td>44.073175</td>\n",
       "      <td>44.073175</td>\n",
       "      <td>open_credit_nopc</td>\n",
       "    </tr>\n",
       "    <tr>\n",
       "      <th>40</th>\n",
       "      <td>43.089548</td>\n",
       "      <td>43.089548</td>\n",
       "      <td>total_units_1U</td>\n",
       "    </tr>\n",
       "    <tr>\n",
       "      <th>...</th>\n",
       "      <td>...</td>\n",
       "      <td>...</td>\n",
       "      <td>...</td>\n",
       "    </tr>\n",
       "    <tr>\n",
       "      <th>42</th>\n",
       "      <td>0.326860</td>\n",
       "      <td>0.326860</td>\n",
       "      <td>total_units_3U</td>\n",
       "    </tr>\n",
       "    <tr>\n",
       "      <th>43</th>\n",
       "      <td>0.249578</td>\n",
       "      <td>0.249578</td>\n",
       "      <td>total_units_4U</td>\n",
       "    </tr>\n",
       "    <tr>\n",
       "      <th>12</th>\n",
       "      <td>0.047013</td>\n",
       "      <td>0.047013</td>\n",
       "      <td>construction_type_mh</td>\n",
       "    </tr>\n",
       "    <tr>\n",
       "      <th>14</th>\n",
       "      <td>0.047013</td>\n",
       "      <td>0.047013</td>\n",
       "      <td>Security_Type_Indriect</td>\n",
       "    </tr>\n",
       "    <tr>\n",
       "      <th>11</th>\n",
       "      <td>0.047013</td>\n",
       "      <td>0.047013</td>\n",
       "      <td>Secured_by_land</td>\n",
       "    </tr>\n",
       "  </tbody>\n",
       "</table>\n",
       "<p>63 rows × 3 columns</p>\n",
       "</div>"
      ],
      "text/plain": [
       "     abs coef       coef                   names\n",
       "10  44.549106  44.549106         Secured_by_home\n",
       "15  44.549106  44.549106    Security_Type_direct\n",
       "13  44.549106  44.549106    construction_type_sb\n",
       "24  44.073175  44.073175        open_credit_nopc\n",
       "40  43.089548  43.089548          total_units_1U\n",
       "..        ...        ...                     ...\n",
       "42   0.326860   0.326860          total_units_3U\n",
       "43   0.249578   0.249578          total_units_4U\n",
       "12   0.047013   0.047013    construction_type_mh\n",
       "14   0.047013   0.047013  Security_Type_Indriect\n",
       "11   0.047013   0.047013         Secured_by_land\n",
       "\n",
       "[63 rows x 3 columns]"
      ]
     },
     "metadata": {},
     "output_type": "display_data"
    },
    {
     "data": {
      "application/javascript": [
       "\n",
       "            setTimeout(function() {\n",
       "                var nbb_cell_id = 10;\n",
       "                var nbb_unformatted_code = \"variables = X.columns.tolist()\\nmodel_coef = pd.DataFrame({\\\"abs coef\\\": abs(beta), \\\"coef\\\": beta, \\\"names\\\": variables})\\ndisplay(\\n    model_coef[model_coef[\\\"abs coef\\\"] != 0].sort_values(by=\\\"abs coef\\\", ascending=False)\\n)\";\n",
       "                var nbb_formatted_code = \"variables = X.columns.tolist()\\nmodel_coef = pd.DataFrame({\\\"abs coef\\\": abs(beta), \\\"coef\\\": beta, \\\"names\\\": variables})\\ndisplay(\\n    model_coef[model_coef[\\\"abs coef\\\"] != 0].sort_values(by=\\\"abs coef\\\", ascending=False)\\n)\";\n",
       "                var nbb_cells = Jupyter.notebook.get_cells();\n",
       "                for (var i = 0; i < nbb_cells.length; ++i) {\n",
       "                    if (nbb_cells[i].input_prompt_number == nbb_cell_id) {\n",
       "                        if (nbb_cells[i].get_text() == nbb_unformatted_code) {\n",
       "                             nbb_cells[i].set_text(nbb_formatted_code);\n",
       "                        }\n",
       "                        break;\n",
       "                    }\n",
       "                }\n",
       "            }, 500);\n",
       "            "
      ],
      "text/plain": [
       "<IPython.core.display.Javascript object>"
      ]
     },
     "metadata": {},
     "output_type": "display_data"
    }
   ],
   "source": [
    "variables = X.columns.tolist()\n",
    "model_coef = pd.DataFrame({\"abs coef\": abs(beta), \"coef\": beta, \"names\": variables})\n",
    "display(\n",
    "    model_coef[model_coef[\"abs coef\"] != 0].sort_values(by=\"abs coef\", ascending=False)\n",
    ")"
   ]
  },
  {
   "cell_type": "code",
   "execution_count": 11,
   "id": "95037f3b",
   "metadata": {},
   "outputs": [
    {
     "data": {
      "text/plain": [
       "(-0.039, 1.039, -2.8264182304501415, 49.99022045306644)"
      ]
     },
     "execution_count": 11,
     "metadata": {},
     "output_type": "execute_result"
    },
    {
     "data": {
      "image/png": "[encoded data removed]",
      "text/plain": [
       "<Figure size 432x288 with 1 Axes>"
      ]
     },
     "metadata": {
      "needs_background": "light"
     },
     "output_type": "display_data"
    },
    {
     "data": {
      "application/javascript": [
       "\n",
       "            setTimeout(function() {\n",
       "                var nbb_cell_id = 11;\n",
       "                var nbb_unformatted_code = \"from sklearn.linear_model import Ridge\\nimport scipy as sp\\n\\ncoef = []\\n# alphas = np.array(\\n#     [0.01, 0.5, 0.75, 0.9, 1, 10, 100, 1000, 10000, 100000, 1000000]\\n# )  # np.arange(0.2, 3, 0.2)\\nalphas = np.arange(0.01, 1, 0.01)\\n# print(alphas)\\nallData = pd.DataFrame({\\\"alphas\\\": alphas})\\n\\nfor a in alphas:\\n    # ridgereg = Ridge(alpha=a)\\n    # ridgereg.fit(Xtrain, Ytrain)\\n    #     print(a)\\n    beta = sp.linalg.inv((Xtrain.T @ Xtrain) + a * I) @ Xtrain.T @ Ytrain\\n    # coef.append(ridgereg.coef_)\\n    coef.append(beta)\\n    # print(coef)\\n    # print(beta)\\n\\n\\n## Make plot of Beta as a function of Alpha\\nfig = plt.figure()\\nax = fig.add_subplot(111)\\nax.plot(alphas, coef)\\nax.set_xlabel(\\\"Alpha (Regularization Parameter)\\\")\\nax.set_ylabel(\\\"Beta (Predictor Coefficients)\\\")\\nax.set_title(\\\"Ridge Coefficients vs Regularization Parameters\\\")\\nax.axis(\\\"tight\\\")\\n\\n\\n# import plotly.graph_objects as go\\n\\n# fig = go.Figure()\\n\\n# fig.add_Trace(go.Scatter(x))\";\n",
       "                var nbb_formatted_code = \"from sklearn.linear_model import Ridge\\nimport scipy as sp\\n\\ncoef = []\\n# alphas = np.array(\\n#     [0.01, 0.5, 0.75, 0.9, 1, 10, 100, 1000, 10000, 100000, 1000000]\\n# )  # np.arange(0.2, 3, 0.2)\\nalphas = np.arange(0.01, 1, 0.01)\\n# print(alphas)\\nallData = pd.DataFrame({\\\"alphas\\\": alphas})\\n\\nfor a in alphas:\\n    # ridgereg = Ridge(alpha=a)\\n    # ridgereg.fit(Xtrain, Ytrain)\\n    #     print(a)\\n    beta = sp.linalg.inv((Xtrain.T @ Xtrain) + a * I) @ Xtrain.T @ Ytrain\\n    # coef.append(ridgereg.coef_)\\n    coef.append(beta)\\n    # print(coef)\\n    # print(beta)\\n\\n\\n## Make plot of Beta as a function of Alpha\\nfig = plt.figure()\\nax = fig.add_subplot(111)\\nax.plot(alphas, coef)\\nax.set_xlabel(\\\"Alpha (Regularization Parameter)\\\")\\nax.set_ylabel(\\\"Beta (Predictor Coefficients)\\\")\\nax.set_title(\\\"Ridge Coefficients vs Regularization Parameters\\\")\\nax.axis(\\\"tight\\\")\\n\\n\\n# import plotly.graph_objects as go\\n\\n# fig = go.Figure()\\n\\n# fig.add_Trace(go.Scatter(x))\";\n",
       "                var nbb_cells = Jupyter.notebook.get_cells();\n",
       "                for (var i = 0; i < nbb_cells.length; ++i) {\n",
       "                    if (nbb_cells[i].input_prompt_number == nbb_cell_id) {\n",
       "                        if (nbb_cells[i].get_text() == nbb_unformatted_code) {\n",
       "                             nbb_cells[i].set_text(nbb_formatted_code);\n",
       "                        }\n",
       "                        break;\n",
       "                    }\n",
       "                }\n",
       "            }, 500);\n",
       "            "
      ],
      "text/plain": [
       "<IPython.core.display.Javascript object>"
      ]
     },
     "metadata": {},
     "output_type": "display_data"
    }
   ],
   "source": [
    "from sklearn.linear_model import Ridge\n",
    "import scipy as sp\n",
    "\n",
    "coef = []\n",
    "# alphas = np.array(\n",
    "#     [0.01, 0.5, 0.75, 0.9, 1, 10, 100, 1000, 10000, 100000, 1000000]\n",
    "# )  # np.arange(0.2, 3, 0.2)\n",
    "alphas = np.arange(0.01, 1, 0.01)\n",
    "# print(alphas)\n",
    "allData = pd.DataFrame({\"alphas\": alphas})\n",
    "\n",
    "for a in alphas:\n",
    "    # ridgereg = Ridge(alpha=a)\n",
    "    # ridgereg.fit(Xtrain, Ytrain)\n",
    "    #     print(a)\n",
    "    beta = sp.linalg.inv((Xtrain.T @ Xtrain) + a * I) @ Xtrain.T @ Ytrain\n",
    "    # coef.append(ridgereg.coef_)\n",
    "    coef.append(beta)\n",
    "    # print(coef)\n",
    "    # print(beta)\n",
    "\n",
    "\n",
    "## Make plot of Beta as a function of Alpha\n",
    "fig = plt.figure()\n",
    "ax = fig.add_subplot(111)\n",
    "ax.plot(alphas, coef)\n",
    "ax.set_xlabel(\"Alpha (Regularization Parameter)\")\n",
    "ax.set_ylabel(\"Beta (Predictor Coefficients)\")\n",
    "ax.set_title(\"Ridge Coefficients vs Regularization Parameters\")\n",
    "ax.axis(\"tight\")\n",
    "\n",
    "\n",
    "# import plotly.graph_objects as go\n",
    "\n",
    "# fig = go.Figure()\n",
    "\n",
    "# fig.add_Trace(go.Scatter(x))"
   ]
  },
  {
   "cell_type": "code",
   "execution_count": 48,
   "id": "14ae006d",
   "metadata": {},
   "outputs": [
    {
     "name": "stdout",
     "output_type": "stream",
     "text": [
      "--- 156.71112179756165 seconds ---\n"
     ]
    },
    {
     "data": {
      "application/javascript": [
       "\n",
       "            setTimeout(function() {\n",
       "                var nbb_cell_id = 48;\n",
       "                var nbb_unformatted_code = \"# K Fold CV\\nfrom sklearn.metrics import *\\nfrom sklearn.model_selection import KFold\\n\\nstart = time.time()\\nalphas = np.arange(0.02, 4, 0.02)\\n\\n\\ndef KfoldCV(X, Y, alphas, k):\\n    masterList = np.array([])  # what we return\\n    for l2 in alphas:\\n        MSElist = np.array([])\\n\\n        kf = KFold(n_splits=k, random_state=True, shuffle=True)\\n        kf.get_n_splits(X)\\n\\n        for train_index, test_index in kf.split(X):\\n            X_train, X_test = X[train_index], X[test_index]\\n            Y_train, Y_test = Y[train_index], Y[test_index]\\n\\n            n, m = X_train.shape\\n            I = np.identity(m)\\n            # Beta vector\\n            beta = sp.linalg.inv((X_train.T @ X_train) + l2 * I) @ X_train.T @ Y_train\\n\\n            Ypred = X_test @ beta\\n            MSE = mean_squared_error(Y_test, Ypred)\\n\\n            MSElist = np.append(MSElist, MSE)\\n\\n        masterList = np.append(masterList, np.mean(MSElist))\\n\\n    return masterList\\n\\n\\nlistMSE = KfoldCV(Xnewstand.to_numpy(), y, alphas, 5)\\nprint(\\\"--- %s seconds ---\\\" % (time.time() - start))\";\n",
       "                var nbb_formatted_code = \"# K Fold CV\\nfrom sklearn.metrics import *\\nfrom sklearn.model_selection import KFold\\n\\nstart = time.time()\\nalphas = np.arange(0.02, 4, 0.02)\\n\\n\\ndef KfoldCV(X, Y, alphas, k):\\n    masterList = np.array([])  # what we return\\n    for l2 in alphas:\\n        MSElist = np.array([])\\n\\n        kf = KFold(n_splits=k, random_state=True, shuffle=True)\\n        kf.get_n_splits(X)\\n\\n        for train_index, test_index in kf.split(X):\\n            X_train, X_test = X[train_index], X[test_index]\\n            Y_train, Y_test = Y[train_index], Y[test_index]\\n\\n            n, m = X_train.shape\\n            I = np.identity(m)\\n            # Beta vector\\n            beta = sp.linalg.inv((X_train.T @ X_train) + l2 * I) @ X_train.T @ Y_train\\n\\n            Ypred = X_test @ beta\\n            MSE = mean_squared_error(Y_test, Ypred)\\n\\n            MSElist = np.append(MSElist, MSE)\\n\\n        masterList = np.append(masterList, np.mean(MSElist))\\n\\n    return masterList\\n\\n\\nlistMSE = KfoldCV(Xnewstand.to_numpy(), y, alphas, 5)\\nprint(\\\"--- %s seconds ---\\\" % (time.time() - start))\";\n",
       "                var nbb_cells = Jupyter.notebook.get_cells();\n",
       "                for (var i = 0; i < nbb_cells.length; ++i) {\n",
       "                    if (nbb_cells[i].input_prompt_number == nbb_cell_id) {\n",
       "                        if (nbb_cells[i].get_text() == nbb_unformatted_code) {\n",
       "                             nbb_cells[i].set_text(nbb_formatted_code);\n",
       "                        }\n",
       "                        break;\n",
       "                    }\n",
       "                }\n",
       "            }, 500);\n",
       "            "
      ],
      "text/plain": [
       "<IPython.core.display.Javascript object>"
      ]
     },
     "metadata": {},
     "output_type": "display_data"
    }
   ],
   "source": [
    "# K Fold CV\n",
    "from sklearn.metrics import *\n",
    "from sklearn.model_selection import KFold\n",
    "\n",
    "start = time.time()\n",
    "alphas = np.arange(0.02, 4, 0.02)\n",
    "\n",
    "\n",
    "def KfoldCV(X, Y, alphas, k):\n",
    "    masterList = np.array([])  # what we return\n",
    "    for l2 in alphas:\n",
    "        MSElist = np.array([])\n",
    "\n",
    "        kf = KFold(n_splits=k, random_state=True, shuffle=True)\n",
    "        kf.get_n_splits(X)\n",
    "\n",
    "        for train_index, test_index in kf.split(X):\n",
    "            X_train, X_test = X[train_index], X[test_index]\n",
    "            Y_train, Y_test = Y[train_index], Y[test_index]\n",
    "\n",
    "            n, m = X_train.shape\n",
    "            I = np.identity(m)\n",
    "            # Beta vector\n",
    "            beta = sp.linalg.inv((X_train.T @ X_train) + l2 * I) @ X_train.T @ Y_train\n",
    "\n",
    "            Ypred = X_test @ beta\n",
    "            MSE = mean_squared_error(Y_test, Ypred)\n",
    "\n",
    "            MSElist = np.append(MSElist, MSE)\n",
    "\n",
    "        masterList = np.append(masterList, np.mean(MSElist))\n",
    "\n",
    "    return masterList\n",
    "\n",
    "\n",
    "listMSE = KfoldCV(Xnewstand.to_numpy(), y, alphas, 5)\n",
    "print(\"--- %s seconds ---\" % (time.time() - start))"
   ]
  },
  {
   "cell_type": "code",
   "execution_count": 49,
   "id": "21ccc39c",
   "metadata": {},
   "outputs": [
    {
     "data": {
      "application/vnd.plotly.v1+json": {
       "config": {
        "plotlyServerURL": "https://plot.ly"
       },
       "data": [
        {
         "hovertemplate": "Ridge Parameter=%{x}<br>Mean Squared Error=%{y}<extra></extra>",
         "legendgroup": "",
         "marker": {
          "color": "#636efa",
          "symbol": "circle"
         },
         "mode": "markers",
         "name": "",
         "orientation": "v",
         "showlegend": false,
         "type": "scatter",
         "x": [
          0.02,
          0.04,
          0.06,
          0.08,
          0.1,
          0.12000000000000001,
          0.13999999999999999,
          0.16,
          0.18,
          0.19999999999999998,
          0.22,
          0.24,
          0.26,
          0.28,
          0.30000000000000004,
          0.32,
          0.34,
          0.36000000000000004,
          0.38,
          0.4,
          0.42000000000000004,
          0.44,
          0.46,
          0.48000000000000004,
          0.5,
          0.52,
          0.54,
          0.56,
          0.5800000000000001,
          0.6,
          0.62,
          0.64,
          0.66,
          0.68,
          0.7000000000000001,
          0.7200000000000001,
          0.74,
          0.76,
          0.78,
          0.8,
          0.8200000000000001,
          0.8400000000000001,
          0.86,
          0.88,
          0.9,
          0.92,
          0.9400000000000001,
          0.9600000000000001,
          0.98,
          1,
          1.02,
          1.04,
          1.06,
          1.08,
          1.1,
          1.12,
          1.1400000000000001,
          1.1600000000000001,
          1.18,
          1.2,
          1.22,
          1.24,
          1.26,
          1.28,
          1.3,
          1.32,
          1.34,
          1.36,
          1.3800000000000001,
          1.4000000000000001,
          1.4200000000000002,
          1.44,
          1.46,
          1.48,
          1.5,
          1.52,
          1.54,
          1.56,
          1.58,
          1.6,
          1.62,
          1.6400000000000001,
          1.6600000000000001,
          1.6800000000000002,
          1.7,
          1.72,
          1.74,
          1.76,
          1.78,
          1.8,
          1.82,
          1.84,
          1.86,
          1.8800000000000001,
          1.9000000000000001,
          1.9200000000000002,
          1.94,
          1.96,
          1.98,
          2,
          2.02,
          2.04,
          2.06,
          2.08,
          2.1,
          2.12,
          2.14,
          2.16,
          2.18,
          2.2,
          2.22,
          2.24,
          2.2600000000000002,
          2.2800000000000002,
          2.3000000000000003,
          2.3200000000000003,
          2.34,
          2.36,
          2.38,
          2.4,
          2.42,
          2.44,
          2.46,
          2.48,
          2.5,
          2.52,
          2.54,
          2.56,
          2.58,
          2.6,
          2.62,
          2.64,
          2.66,
          2.68,
          2.7,
          2.72,
          2.74,
          2.7600000000000002,
          2.7800000000000002,
          2.8000000000000003,
          2.8200000000000003,
          2.84,
          2.86,
          2.88,
          2.9,
          2.92,
          2.94,
          2.96,
          2.98,
          3,
          3.02,
          3.04,
          3.06,
          3.08,
          3.1,
          3.12,
          3.14,
          3.16,
          3.18,
          3.2,
          3.22,
          3.24,
          3.2600000000000002,
          3.2800000000000002,
          3.3000000000000003,
          3.3200000000000003,
          3.3400000000000003,
          3.36,
          3.38,
          3.4,
          3.42,
          3.44,
          3.46,
          3.48,
          3.5,
          3.52,
          3.54,
          3.56,
          3.58,
          3.6,
          3.62,
          3.64,
          3.66,
          3.68,
          3.7,
          3.72,
          3.74,
          3.7600000000000002,
          3.7800000000000002,
          3.8000000000000003,
          3.8200000000000003,
          3.8400000000000003,
          3.86,
          3.88,
          3.9,
          3.92,
          3.94,
          3.96,
          3.98
         ],
         "xaxis": "x",
         "y": [
          13428.827414307883,
          13428.827358584746,
          13428.82730473256,
          13428.827249751508,
          13428.827196346505,
          13428.827142697657,
          13428.827091135401,
          13428.827039611942,
          13428.826989521756,
          13428.82693934211,
          13428.826890108885,
          13428.826841683947,
          13428.826794072342,
          13428.826746940544,
          13428.826700760586,
          13428.826655446072,
          13428.826610535736,
          13428.826566306578,
          13428.826522955851,
          13428.826480418948,
          13428.826438567377,
          13428.826397301153,
          13428.826356929576,
          13428.826317238801,
          13428.82627814759,
          13428.826239856911,
          13428.826202373219,
          13428.8261655154,
          13428.826129417648,
          13428.826093977996,
          13428.826059389015,
          13428.82602527614,
          13428.825991992979,
          13428.825959510606,
          13428.825927602773,
          13428.825896601858,
          13428.825866151532,
          13428.82583635525,
          13428.825807401518,
          13428.825779103025,
          13428.825751619519,
          13428.825724798528,
          13428.8256985554,
          13428.825673091927,
          13428.825648398735,
          13428.825624338939,
          13428.825601019164,
          13428.82557837501,
          13428.825556473206,
          13428.825535209768,
          13428.825514720007,
          13428.825494923954,
          13428.82547580429,
          13428.825457403402,
          13428.825439687633,
          13428.825422696347,
          13428.825406315682,
          13428.825390734404,
          13428.825375821474,
          13428.8253615558,
          13428.82534800471,
          13428.825335243653,
          13428.82532308318,
          13428.825311608389,
          13428.825300838502,
          13428.82529083474,
          13428.82528146906,
          13428.825272761833,
          13428.825264756248,
          13428.825257477889,
          13428.825250807125,
          13428.825244933407,
          13428.825239682381,
          13428.825235130707,
          13428.825231305813,
          13428.825228119098,
          13428.825225572258,
          13428.825223801425,
          13428.82522268409,
          13428.825222228432,
          13428.82522246069,
          13428.825223361808,
          13428.825225029306,
          13428.825227271276,
          13428.825230240609,
          13428.825233915719,
          13428.825238200225,
          13428.825243184847,
          13428.825248878356,
          13428.825255198573,
          13428.825262239687,
          13428.82526992289,
          13428.82527829892,
          13428.82528733176,
          13428.825297087878,
          13428.825307450874,
          13428.825318499137,
          13428.82533027386,
          13428.82534265106,
          13428.82535572743,
          13428.82536945747,
          13428.825383834701,
          13428.825398940806,
          13428.825414675195,
          13428.82543109431,
          13428.82544816047,
          13428.825465871783,
          13428.825484300067,
          13428.825503351889,
          13428.825523101847,
          13428.825543487339,
          13428.825564535286,
          13428.825586234987,
          13428.825608617652,
          13428.825631674985,
          13428.825655346864,
          13428.825679717853,
          13428.82570473064,
          13428.825730386077,
          13428.825756737779,
          13428.825783692184,
          13428.825811335706,
          13428.825839632296,
          13428.825868553122,
          13428.825898180094,
          13428.825928407236,
          13428.825959274234,
          13428.825990866395,
          13428.826023075491,
          13428.826055934293,
          13428.826089428865,
          13428.826123571993,
          13428.826158377231,
          13428.826193816316,
          13428.826229928312,
          13428.826266674758,
          13428.82630406057,
          13428.826342059529,
          13428.82638076234,
          13428.826420068426,
          13428.82646001794,
          13428.82650063868,
          13428.826541896404,
          13428.82658376602,
          13428.826626305407,
          13428.826669467951,
          13428.826713283139,
          13428.826757725761,
          13428.826802809574,
          13428.826848557224,
          13428.826894888678,
          13428.826941898951,
          13428.826989531084,
          13428.82703777427,
          13428.827086707883,
          13428.827136236161,
          13428.827186404127,
          13428.82723719586,
          13428.827288650802,
          13428.82734070924,
          13428.827393401769,
          13428.82744671567,
          13428.82750067307,
          13428.827555286634,
          13428.827610467273,
          13428.827666327357,
          13428.827722771483,
          13428.827779887326,
          13428.82783759401,
          13428.827895949787,
          13428.827954914217,
          13428.828014491126,
          13428.828074703057,
          13428.82813554788,
          13428.828197022765,
          13428.828259106673,
          13428.828321805358,
          13428.828385131816,
          13428.828449065564,
          13428.828513643395,
          13428.828578825396,
          13428.82864461212,
          13428.828711027589,
          13428.828778072397,
          13428.828845713457,
          13428.828913979663,
          13428.828982874005,
          13428.829052348994,
          13428.829122471918,
          13428.829193188683,
          13428.829264526008,
          13428.829336468702,
          13428.829409036907,
          13428.829482207691,
          13428.829555971392,
          13428.829630361573,
          13428.82970535692,
          13428.829780969405,
          13428.829857180594
         ],
         "yaxis": "y"
        },
        {
         "name": "Minimum MSE",
         "type": "scatter",
         "x": [
          1.6
         ],
         "y": [
          13428.825222228432
         ]
        }
       ],
       "layout": {
        "legend": {
         "tracegroupgap": 0
        },
        "template": {
         "data": {
          "bar": [
           {
            "error_x": {
             "color": "#2a3f5f"
            },
            "error_y": {
             "color": "#2a3f5f"
            },
            "marker": {
             "line": {
              "color": "#E5ECF6",
              "width": 0.5
             },
             "pattern": {
              "fillmode": "overlay",
              "size": 10,
              "solidity": 0.2
             }
            },
            "type": "bar"
           }
          ],
          "barpolar": [
           {
            "marker": {
             "line": {
              "color": "#E5ECF6",
              "width": 0.5
             },
             "pattern": {
              "fillmode": "overlay",
              "size": 10,
              "solidity": 0.2
             }
            },
            "type": "barpolar"
           }
          ],
          "carpet": [
           {
            "aaxis": {
             "endlinecolor": "#2a3f5f",
             "gridcolor": "white",
             "linecolor": "white",
             "minorgridcolor": "white",
             "startlinecolor": "#2a3f5f"
            },
            "baxis": {
             "endlinecolor": "#2a3f5f",
             "gridcolor": "white",
             "linecolor": "white",
             "minorgridcolor": "white",
             "startlinecolor": "#2a3f5f"
            },
            "type": "carpet"
           }
          ],
          "choropleth": [
           {
            "colorbar": {
             "outlinewidth": 0,
             "ticks": ""
            },
            "type": "choropleth"
           }
          ],
          "contour": [
           {
            "colorbar": {
             "outlinewidth": 0,
             "ticks": ""
            },
            "colorscale": [
             [
              0,
              "#0d0887"
             ],
             [
              0.1111111111111111,
              "#46039f"
             ],
             [
              0.2222222222222222,
              "#7201a8"
             ],
             [
              0.3333333333333333,
              "#9c179e"
             ],
             [
              0.4444444444444444,
              "#bd3786"
             ],
             [
              0.5555555555555556,
              "#d8576b"
             ],
             [
              0.6666666666666666,
              "#ed7953"
             ],
             [
              0.7777777777777778,
              "#fb9f3a"
             ],
             [
              0.8888888888888888,
              "#fdca26"
             ],
             [
              1,
              "#f0f921"
             ]
            ],
            "type": "contour"
           }
          ],
          "contourcarpet": [
           {
            "colorbar": {
             "outlinewidth": 0,
             "ticks": ""
            },
            "type": "contourcarpet"
           }
          ],
          "heatmap": [
           {
            "colorbar": {
             "outlinewidth": 0,
             "ticks": ""
            },
            "colorscale": [
             [
              0,
              "#0d0887"
             ],
             [
              0.1111111111111111,
              "#46039f"
             ],
             [
              0.2222222222222222,
              "#7201a8"
             ],
             [
              0.3333333333333333,
              "#9c179e"
             ],
             [
              0.4444444444444444,
              "#bd3786"
             ],
             [
              0.5555555555555556,
              "#d8576b"
             ],
             [
              0.6666666666666666,
              "#ed7953"
             ],
             [
              0.7777777777777778,
              "#fb9f3a"
             ],
             [
              0.8888888888888888,
              "#fdca26"
             ],
             [
              1,
              "#f0f921"
             ]
            ],
            "type": "heatmap"
           }
          ],
          "heatmapgl": [
           {
            "colorbar": {
             "outlinewidth": 0,
             "ticks": ""
            },
            "colorscale": [
             [
              0,
              "#0d0887"
             ],
             [
              0.1111111111111111,
              "#46039f"
             ],
             [
              0.2222222222222222,
              "#7201a8"
             ],
             [
              0.3333333333333333,
              "#9c179e"
             ],
             [
              0.4444444444444444,
              "#bd3786"
             ],
             [
              0.5555555555555556,
              "#d8576b"
             ],
             [
              0.6666666666666666,
              "#ed7953"
             ],
             [
              0.7777777777777778,
              "#fb9f3a"
             ],
             [
              0.8888888888888888,
              "#fdca26"
             ],
             [
              1,
              "#f0f921"
             ]
            ],
            "type": "heatmapgl"
           }
          ],
          "histogram": [
           {
            "marker": {
             "pattern": {
              "fillmode": "overlay",
              "size": 10,
              "solidity": 0.2
             }
            },
            "type": "histogram"
           }
          ],
          "histogram2d": [
           {
            "colorbar": {
             "outlinewidth": 0,
             "ticks": ""
            },
            "colorscale": [
             [
              0,
              "#0d0887"
             ],
             [
              0.1111111111111111,
              "#46039f"
             ],
             [
              0.2222222222222222,
              "#7201a8"
             ],
             [
              0.3333333333333333,
              "#9c179e"
             ],
             [
              0.4444444444444444,
              "#bd3786"
             ],
             [
              0.5555555555555556,
              "#d8576b"
             ],
             [
              0.6666666666666666,
              "#ed7953"
             ],
             [
              0.7777777777777778,
              "#fb9f3a"
             ],
             [
              0.8888888888888888,
              "#fdca26"
             ],
             [
              1,
              "#f0f921"
             ]
            ],
            "type": "histogram2d"
           }
          ],
          "histogram2dcontour": [
           {
            "colorbar": {
             "outlinewidth": 0,
             "ticks": ""
            },
            "colorscale": [
             [
              0,
              "#0d0887"
             ],
             [
              0.1111111111111111,
              "#46039f"
             ],
             [
              0.2222222222222222,
              "#7201a8"
             ],
             [
              0.3333333333333333,
              "#9c179e"
             ],
             [
              0.4444444444444444,
              "#bd3786"
             ],
             [
              0.5555555555555556,
              "#d8576b"
             ],
             [
              0.6666666666666666,
              "#ed7953"
             ],
             [
              0.7777777777777778,
              "#fb9f3a"
             ],
             [
              0.8888888888888888,
              "#fdca26"
             ],
             [
              1,
              "#f0f921"
             ]
            ],
            "type": "histogram2dcontour"
           }
          ],
          "mesh3d": [
           {
            "colorbar": {
             "outlinewidth": 0,
             "ticks": ""
            },
            "type": "mesh3d"
           }
          ],
          "parcoords": [
           {
            "line": {
             "colorbar": {
              "outlinewidth": 0,
              "ticks": ""
             }
            },
            "type": "parcoords"
           }
          ],
          "pie": [
           {
            "automargin": true,
            "type": "pie"
           }
          ],
          "scatter": [
           {
            "marker": {
             "colorbar": {
              "outlinewidth": 0,
              "ticks": ""
             }
            },
            "type": "scatter"
           }
          ],
          "scatter3d": [
           {
            "line": {
             "colorbar": {
              "outlinewidth": 0,
              "ticks": ""
             }
            },
            "marker": {
             "colorbar": {
              "outlinewidth": 0,
              "ticks": ""
             }
            },
            "type": "scatter3d"
           }
          ],
          "scattercarpet": [
           {
            "marker": {
             "colorbar": {
              "outlinewidth": 0,
              "ticks": ""
             }
            },
            "type": "scattercarpet"
           }
          ],
          "scattergeo": [
           {
            "marker": {
             "colorbar": {
              "outlinewidth": 0,
              "ticks": ""
             }
            },
            "type": "scattergeo"
           }
          ],
          "scattergl": [
           {
            "marker": {
             "colorbar": {
              "outlinewidth": 0,
              "ticks": ""
             }
            },
            "type": "scattergl"
           }
          ],
          "scattermapbox": [
           {
            "marker": {
             "colorbar": {
              "outlinewidth": 0,
              "ticks": ""
             }
            },
            "type": "scattermapbox"
           }
          ],
          "scatterpolar": [
           {
            "marker": {
             "colorbar": {
              "outlinewidth": 0,
              "ticks": ""
             }
            },
            "type": "scatterpolar"
           }
          ],
          "scatterpolargl": [
           {
            "marker": {
             "colorbar": {
              "outlinewidth": 0,
              "ticks": ""
             }
            },
            "type": "scatterpolargl"
           }
          ],
          "scatterternary": [
           {
            "marker": {
             "colorbar": {
              "outlinewidth": 0,
              "ticks": ""
             }
            },
            "type": "scatterternary"
           }
          ],
          "surface": [
           {
            "colorbar": {
             "outlinewidth": 0,
             "ticks": ""
            },
            "colorscale": [
             [
              0,
              "#0d0887"
             ],
             [
              0.1111111111111111,
              "#46039f"
             ],
             [
              0.2222222222222222,
              "#7201a8"
             ],
             [
              0.3333333333333333,
              "#9c179e"
             ],
             [
              0.4444444444444444,
              "#bd3786"
             ],
             [
              0.5555555555555556,
              "#d8576b"
             ],
             [
              0.6666666666666666,
              "#ed7953"
             ],
             [
              0.7777777777777778,
              "#fb9f3a"
             ],
             [
              0.8888888888888888,
              "#fdca26"
             ],
             [
              1,
              "#f0f921"
             ]
            ],
            "type": "surface"
           }
          ],
          "table": [
           {
            "cells": {
             "fill": {
              "color": "#EBF0F8"
             },
             "line": {
              "color": "white"
             }
            },
            "header": {
             "fill": {
              "color": "#C8D4E3"
             },
             "line": {
              "color": "white"
             }
            },
            "type": "table"
           }
          ]
         },
         "layout": {
          "annotationdefaults": {
           "arrowcolor": "#2a3f5f",
           "arrowhead": 0,
           "arrowwidth": 1
          },
          "autotypenumbers": "strict",
          "coloraxis": {
           "colorbar": {
            "outlinewidth": 0,
            "ticks": ""
           }
          },
          "colorscale": {
           "diverging": [
            [
             0,
             "#8e0152"
            ],
            [
             0.1,
             "#c51b7d"
            ],
            [
             0.2,
             "#de77ae"
            ],
            [
             0.3,
             "#f1b6da"
            ],
            [
             0.4,
             "#fde0ef"
            ],
            [
             0.5,
             "#f7f7f7"
            ],
            [
             0.6,
             "#e6f5d0"
            ],
            [
             0.7,
             "#b8e186"
            ],
            [
             0.8,
             "#7fbc41"
            ],
            [
             0.9,
             "#4d9221"
            ],
            [
             1,
             "#276419"
            ]
           ],
           "sequential": [
            [
             0,
             "#0d0887"
            ],
            [
             0.1111111111111111,
             "#46039f"
            ],
            [
             0.2222222222222222,
             "#7201a8"
            ],
            [
             0.3333333333333333,
             "#9c179e"
            ],
            [
             0.4444444444444444,
             "#bd3786"
            ],
            [
             0.5555555555555556,
             "#d8576b"
            ],
            [
             0.6666666666666666,
             "#ed7953"
            ],
            [
             0.7777777777777778,
             "#fb9f3a"
            ],
            [
             0.8888888888888888,
             "#fdca26"
            ],
            [
             1,
             "#f0f921"
            ]
           ],
           "sequentialminus": [
            [
             0,
             "#0d0887"
            ],
            [
             0.1111111111111111,
             "#46039f"
            ],
            [
             0.2222222222222222,
             "#7201a8"
            ],
            [
             0.3333333333333333,
             "#9c179e"
            ],
            [
             0.4444444444444444,
             "#bd3786"
            ],
            [
             0.5555555555555556,
             "#d8576b"
            ],
            [
             0.6666666666666666,
             "#ed7953"
            ],
            [
             0.7777777777777778,
             "#fb9f3a"
            ],
            [
             0.8888888888888888,
             "#fdca26"
            ],
            [
             1,
             "#f0f921"
            ]
           ]
          },
          "colorway": [
           "#636efa",
           "#EF553B",
           "#00cc96",
           "#ab63fa",
           "#FFA15A",
           "#19d3f3",
           "#FF6692",
           "#B6E880",
           "#FF97FF",
           "#FECB52"
          ],
          "font": {
           "color": "#2a3f5f"
          },
          "geo": {
           "bgcolor": "white",
           "lakecolor": "white",
           "landcolor": "#E5ECF6",
           "showlakes": true,
           "showland": true,
           "subunitcolor": "white"
          },
          "hoverlabel": {
           "align": "left"
          },
          "hovermode": "closest",
          "mapbox": {
           "style": "light"
          },
          "paper_bgcolor": "white",
          "plot_bgcolor": "#E5ECF6",
          "polar": {
           "angularaxis": {
            "gridcolor": "white",
            "linecolor": "white",
            "ticks": ""
           },
           "bgcolor": "#E5ECF6",
           "radialaxis": {
            "gridcolor": "white",
            "linecolor": "white",
            "ticks": ""
           }
          },
          "scene": {
           "xaxis": {
            "backgroundcolor": "#E5ECF6",
            "gridcolor": "white",
            "gridwidth": 2,
            "linecolor": "white",
            "showbackground": true,
            "ticks": "",
            "zerolinecolor": "white"
           },
           "yaxis": {
            "backgroundcolor": "#E5ECF6",
            "gridcolor": "white",
            "gridwidth": 2,
            "linecolor": "white",
            "showbackground": true,
            "ticks": "",
            "zerolinecolor": "white"
           },
           "zaxis": {
            "backgroundcolor": "#E5ECF6",
            "gridcolor": "white",
            "gridwidth": 2,
            "linecolor": "white",
            "showbackground": true,
            "ticks": "",
            "zerolinecolor": "white"
           }
          },
          "shapedefaults": {
           "line": {
            "color": "#2a3f5f"
           }
          },
          "ternary": {
           "aaxis": {
            "gridcolor": "white",
            "linecolor": "white",
            "ticks": ""
           },
           "baxis": {
            "gridcolor": "white",
            "linecolor": "white",
            "ticks": ""
           },
           "bgcolor": "#E5ECF6",
           "caxis": {
            "gridcolor": "white",
            "linecolor": "white",
            "ticks": ""
           }
          },
          "title": {
           "x": 0.05
          },
          "xaxis": {
           "automargin": true,
           "gridcolor": "white",
           "linecolor": "white",
           "ticks": "",
           "title": {
            "standoff": 15
           },
           "zerolinecolor": "white",
           "zerolinewidth": 2
          },
          "yaxis": {
           "automargin": true,
           "gridcolor": "white",
           "linecolor": "white",
           "ticks": "",
           "title": {
            "standoff": 15
           },
           "zerolinecolor": "white",
           "zerolinewidth": 2
          }
         }
        },
        "title": {
         "text": "MSE with 5-Fold Cross Validation"
        },
        "xaxis": {
         "anchor": "y",
         "domain": [
          0,
          1
         ],
         "title": {
          "text": "Ridge Parameter"
         }
        },
        "yaxis": {
         "anchor": "x",
         "domain": [
          0,
          1
         ],
         "title": {
          "text": "Mean Squared Error"
         }
        }
       }
      },
      "text/html": [
       "<div>                            <div id=\"329a2731-a6a9-4742-a6ec-8988a0adb236\" class=\"plotly-graph-div\" style=\"height:525px; width:100%;\"></div>            <script type=\"text/javascript\">                require([\"plotly\"], function(Plotly) {                    window.PLOTLYENV=window.PLOTLYENV || {};                                    if (document.getElementById(\"329a2731-a6a9-4742-a6ec-8988a0adb236\")) {                    Plotly.newPlot(                        \"329a2731-a6a9-4742-a6ec-8988a0adb236\",                        [{\"hovertemplate\":\"Ridge Parameter=%{x}<br>Mean Squared Error=%{y}<extra></extra>\",\"legendgroup\":\"\",\"marker\":{\"color\":\"#636efa\",\"symbol\":\"circle\"},\"mode\":\"markers\",\"name\":\"\",\"orientation\":\"v\",\"showlegend\":false,\"x\":[0.02,0.04,0.06,0.08,0.1,0.12000000000000001,0.13999999999999999,0.16,0.18,0.19999999999999998,0.22,0.24,0.26,0.28,0.30000000000000004,0.32,0.34,0.36000000000000004,0.38,0.4,0.42000000000000004,0.44,0.46,0.48000000000000004,0.5,0.52,0.54,0.56,0.5800000000000001,0.6,0.62,0.64,0.66,0.68,0.7000000000000001,0.7200000000000001,0.74,0.76,0.78,0.8,0.8200000000000001,0.8400000000000001,0.86,0.88,0.9,0.92,0.9400000000000001,0.9600000000000001,0.98,1.0,1.02,1.04,1.06,1.08,1.1,1.12,1.1400000000000001,1.1600000000000001,1.18,1.2,1.22,1.24,1.26,1.28,1.3,1.32,1.34,1.36,1.3800000000000001,1.4000000000000001,1.4200000000000002,1.44,1.46,1.48,1.5,1.52,1.54,1.56,1.58,1.6,1.62,1.6400000000000001,1.6600000000000001,1.6800000000000002,1.7,1.72,1.74,1.76,1.78,1.8,1.82,1.84,1.86,1.8800000000000001,1.9000000000000001,1.9200000000000002,1.94,1.96,1.98,2.0,2.02,2.04,2.06,2.08,2.1,2.12,2.14,2.16,2.18,2.2,2.22,2.24,2.2600000000000002,2.2800000000000002,2.3000000000000003,2.3200000000000003,2.34,2.36,2.38,2.4,2.42,2.44,2.46,2.48,2.5,2.52,2.54,2.56,2.58,2.6,2.62,2.64,2.66,2.68,2.7,2.72,2.74,2.7600000000000002,2.7800000000000002,2.8000000000000003,2.8200000000000003,2.84,2.86,2.88,2.9,2.92,2.94,2.96,2.98,3.0,3.02,3.04,3.06,3.08,3.1,3.12,3.14,3.16,3.18,3.2,3.22,3.24,3.2600000000000002,3.2800000000000002,3.3000000000000003,3.3200000000000003,3.3400000000000003,3.36,3.38,3.4,3.42,3.44,3.46,3.48,3.5,3.52,3.54,3.56,3.58,3.6,3.62,3.64,3.66,3.68,3.7,3.72,3.74,3.7600000000000002,3.7800000000000002,3.8000000000000003,3.8200000000000003,3.8400000000000003,3.86,3.88,3.9,3.92,3.94,3.96,3.98],\"xaxis\":\"x\",\"y\":[13428.827414307883,13428.827358584746,13428.82730473256,13428.827249751508,13428.827196346505,13428.827142697657,13428.827091135401,13428.827039611942,13428.826989521756,13428.82693934211,13428.826890108885,13428.826841683947,13428.826794072342,13428.826746940544,13428.826700760586,13428.826655446072,13428.826610535736,13428.826566306578,13428.826522955851,13428.826480418948,13428.826438567377,13428.826397301153,13428.826356929576,13428.826317238801,13428.82627814759,13428.826239856911,13428.826202373219,13428.8261655154,13428.826129417648,13428.826093977996,13428.826059389015,13428.82602527614,13428.825991992979,13428.825959510606,13428.825927602773,13428.825896601858,13428.825866151532,13428.82583635525,13428.825807401518,13428.825779103025,13428.825751619519,13428.825724798528,13428.8256985554,13428.825673091927,13428.825648398735,13428.825624338939,13428.825601019164,13428.82557837501,13428.825556473206,13428.825535209768,13428.825514720007,13428.825494923954,13428.82547580429,13428.825457403402,13428.825439687633,13428.825422696347,13428.825406315682,13428.825390734404,13428.825375821474,13428.8253615558,13428.82534800471,13428.825335243653,13428.82532308318,13428.825311608389,13428.825300838502,13428.82529083474,13428.82528146906,13428.825272761833,13428.825264756248,13428.825257477889,13428.825250807125,13428.825244933407,13428.825239682381,13428.825235130707,13428.825231305813,13428.825228119098,13428.825225572258,13428.825223801425,13428.82522268409,13428.825222228432,13428.82522246069,13428.825223361808,13428.825225029306,13428.825227271276,13428.825230240609,13428.825233915719,13428.825238200225,13428.825243184847,13428.825248878356,13428.825255198573,13428.825262239687,13428.82526992289,13428.82527829892,13428.82528733176,13428.825297087878,13428.825307450874,13428.825318499137,13428.82533027386,13428.82534265106,13428.82535572743,13428.82536945747,13428.825383834701,13428.825398940806,13428.825414675195,13428.82543109431,13428.82544816047,13428.825465871783,13428.825484300067,13428.825503351889,13428.825523101847,13428.825543487339,13428.825564535286,13428.825586234987,13428.825608617652,13428.825631674985,13428.825655346864,13428.825679717853,13428.82570473064,13428.825730386077,13428.825756737779,13428.825783692184,13428.825811335706,13428.825839632296,13428.825868553122,13428.825898180094,13428.825928407236,13428.825959274234,13428.825990866395,13428.826023075491,13428.826055934293,13428.826089428865,13428.826123571993,13428.826158377231,13428.826193816316,13428.826229928312,13428.826266674758,13428.82630406057,13428.826342059529,13428.82638076234,13428.826420068426,13428.82646001794,13428.82650063868,13428.826541896404,13428.82658376602,13428.826626305407,13428.826669467951,13428.826713283139,13428.826757725761,13428.826802809574,13428.826848557224,13428.826894888678,13428.826941898951,13428.826989531084,13428.82703777427,13428.827086707883,13428.827136236161,13428.827186404127,13428.82723719586,13428.827288650802,13428.82734070924,13428.827393401769,13428.82744671567,13428.82750067307,13428.827555286634,13428.827610467273,13428.827666327357,13428.827722771483,13428.827779887326,13428.82783759401,13428.827895949787,13428.827954914217,13428.828014491126,13428.828074703057,13428.82813554788,13428.828197022765,13428.828259106673,13428.828321805358,13428.828385131816,13428.828449065564,13428.828513643395,13428.828578825396,13428.82864461212,13428.828711027589,13428.828778072397,13428.828845713457,13428.828913979663,13428.828982874005,13428.829052348994,13428.829122471918,13428.829193188683,13428.829264526008,13428.829336468702,13428.829409036907,13428.829482207691,13428.829555971392,13428.829630361573,13428.82970535692,13428.829780969405,13428.829857180594],\"yaxis\":\"y\",\"type\":\"scatter\"},{\"name\":\"Minimum MSE\",\"x\":[1.6],\"y\":[13428.825222228432],\"type\":\"scatter\"}],                        {\"legend\":{\"tracegroupgap\":0},\"template\":{\"data\":{\"barpolar\":[{\"marker\":{\"line\":{\"color\":\"#E5ECF6\",\"width\":0.5},\"pattern\":{\"fillmode\":\"overlay\",\"size\":10,\"solidity\":0.2}},\"type\":\"barpolar\"}],\"bar\":[{\"error_x\":{\"color\":\"#2a3f5f\"},\"error_y\":{\"color\":\"#2a3f5f\"},\"marker\":{\"line\":{\"color\":\"#E5ECF6\",\"width\":0.5},\"pattern\":{\"fillmode\":\"overlay\",\"size\":10,\"solidity\":0.2}},\"type\":\"bar\"}],\"carpet\":[{\"aaxis\":{\"endlinecolor\":\"#2a3f5f\",\"gridcolor\":\"white\",\"linecolor\":\"white\",\"minorgridcolor\":\"white\",\"startlinecolor\":\"#2a3f5f\"},\"baxis\":{\"endlinecolor\":\"#2a3f5f\",\"gridcolor\":\"white\",\"linecolor\":\"white\",\"minorgridcolor\":\"white\",\"startlinecolor\":\"#2a3f5f\"},\"type\":\"carpet\"}],\"choropleth\":[{\"colorbar\":{\"outlinewidth\":0,\"ticks\":\"\"},\"type\":\"choropleth\"}],\"contourcarpet\":[{\"colorbar\":{\"outlinewidth\":0,\"ticks\":\"\"},\"type\":\"contourcarpet\"}],\"contour\":[{\"colorbar\":{\"outlinewidth\":0,\"ticks\":\"\"},\"colorscale\":[[0.0,\"#0d0887\"],[0.1111111111111111,\"#46039f\"],[0.2222222222222222,\"#7201a8\"],[0.3333333333333333,\"#9c179e\"],[0.4444444444444444,\"#bd3786\"],[0.5555555555555556,\"#d8576b\"],[0.6666666666666666,\"#ed7953\"],[0.7777777777777778,\"#fb9f3a\"],[0.8888888888888888,\"#fdca26\"],[1.0,\"#f0f921\"]],\"type\":\"contour\"}],\"heatmapgl\":[{\"colorbar\":{\"outlinewidth\":0,\"ticks\":\"\"},\"colorscale\":[[0.0,\"#0d0887\"],[0.1111111111111111,\"#46039f\"],[0.2222222222222222,\"#7201a8\"],[0.3333333333333333,\"#9c179e\"],[0.4444444444444444,\"#bd3786\"],[0.5555555555555556,\"#d8576b\"],[0.6666666666666666,\"#ed7953\"],[0.7777777777777778,\"#fb9f3a\"],[0.8888888888888888,\"#fdca26\"],[1.0,\"#f0f921\"]],\"type\":\"heatmapgl\"}],\"heatmap\":[{\"colorbar\":{\"outlinewidth\":0,\"ticks\":\"\"},\"colorscale\":[[0.0,\"#0d0887\"],[0.1111111111111111,\"#46039f\"],[0.2222222222222222,\"#7201a8\"],[0.3333333333333333,\"#9c179e\"],[0.4444444444444444,\"#bd3786\"],[0.5555555555555556,\"#d8576b\"],[0.6666666666666666,\"#ed7953\"],[0.7777777777777778,\"#fb9f3a\"],[0.8888888888888888,\"#fdca26\"],[1.0,\"#f0f921\"]],\"type\":\"heatmap\"}],\"histogram2dcontour\":[{\"colorbar\":{\"outlinewidth\":0,\"ticks\":\"\"},\"colorscale\":[[0.0,\"#0d0887\"],[0.1111111111111111,\"#46039f\"],[0.2222222222222222,\"#7201a8\"],[0.3333333333333333,\"#9c179e\"],[0.4444444444444444,\"#bd3786\"],[0.5555555555555556,\"#d8576b\"],[0.6666666666666666,\"#ed7953\"],[0.7777777777777778,\"#fb9f3a\"],[0.8888888888888888,\"#fdca26\"],[1.0,\"#f0f921\"]],\"type\":\"histogram2dcontour\"}],\"histogram2d\":[{\"colorbar\":{\"outlinewidth\":0,\"ticks\":\"\"},\"colorscale\":[[0.0,\"#0d0887\"],[0.1111111111111111,\"#46039f\"],[0.2222222222222222,\"#7201a8\"],[0.3333333333333333,\"#9c179e\"],[0.4444444444444444,\"#bd3786\"],[0.5555555555555556,\"#d8576b\"],[0.6666666666666666,\"#ed7953\"],[0.7777777777777778,\"#fb9f3a\"],[0.8888888888888888,\"#fdca26\"],[1.0,\"#f0f921\"]],\"type\":\"histogram2d\"}],\"histogram\":[{\"marker\":{\"pattern\":{\"fillmode\":\"overlay\",\"size\":10,\"solidity\":0.2}},\"type\":\"histogram\"}],\"mesh3d\":[{\"colorbar\":{\"outlinewidth\":0,\"ticks\":\"\"},\"type\":\"mesh3d\"}],\"parcoords\":[{\"line\":{\"colorbar\":{\"outlinewidth\":0,\"ticks\":\"\"}},\"type\":\"parcoords\"}],\"pie\":[{\"automargin\":true,\"type\":\"pie\"}],\"scatter3d\":[{\"line\":{\"colorbar\":{\"outlinewidth\":0,\"ticks\":\"\"}},\"marker\":{\"colorbar\":{\"outlinewidth\":0,\"ticks\":\"\"}},\"type\":\"scatter3d\"}],\"scattercarpet\":[{\"marker\":{\"colorbar\":{\"outlinewidth\":0,\"ticks\":\"\"}},\"type\":\"scattercarpet\"}],\"scattergeo\":[{\"marker\":{\"colorbar\":{\"outlinewidth\":0,\"ticks\":\"\"}},\"type\":\"scattergeo\"}],\"scattergl\":[{\"marker\":{\"colorbar\":{\"outlinewidth\":0,\"ticks\":\"\"}},\"type\":\"scattergl\"}],\"scattermapbox\":[{\"marker\":{\"colorbar\":{\"outlinewidth\":0,\"ticks\":\"\"}},\"type\":\"scattermapbox\"}],\"scatterpolargl\":[{\"marker\":{\"colorbar\":{\"outlinewidth\":0,\"ticks\":\"\"}},\"type\":\"scatterpolargl\"}],\"scatterpolar\":[{\"marker\":{\"colorbar\":{\"outlinewidth\":0,\"ticks\":\"\"}},\"type\":\"scatterpolar\"}],\"scatter\":[{\"marker\":{\"colorbar\":{\"outlinewidth\":0,\"ticks\":\"\"}},\"type\":\"scatter\"}],\"scatterternary\":[{\"marker\":{\"colorbar\":{\"outlinewidth\":0,\"ticks\":\"\"}},\"type\":\"scatterternary\"}],\"surface\":[{\"colorbar\":{\"outlinewidth\":0,\"ticks\":\"\"},\"colorscale\":[[0.0,\"#0d0887\"],[0.1111111111111111,\"#46039f\"],[0.2222222222222222,\"#7201a8\"],[0.3333333333333333,\"#9c179e\"],[0.4444444444444444,\"#bd3786\"],[0.5555555555555556,\"#d8576b\"],[0.6666666666666666,\"#ed7953\"],[0.7777777777777778,\"#fb9f3a\"],[0.8888888888888888,\"#fdca26\"],[1.0,\"#f0f921\"]],\"type\":\"surface\"}],\"table\":[{\"cells\":{\"fill\":{\"color\":\"#EBF0F8\"},\"line\":{\"color\":\"white\"}},\"header\":{\"fill\":{\"color\":\"#C8D4E3\"},\"line\":{\"color\":\"white\"}},\"type\":\"table\"}]},\"layout\":{\"annotationdefaults\":{\"arrowcolor\":\"#2a3f5f\",\"arrowhead\":0,\"arrowwidth\":1},\"autotypenumbers\":\"strict\",\"coloraxis\":{\"colorbar\":{\"outlinewidth\":0,\"ticks\":\"\"}},\"colorscale\":{\"diverging\":[[0,\"#8e0152\"],[0.1,\"#c51b7d\"],[0.2,\"#de77ae\"],[0.3,\"#f1b6da\"],[0.4,\"#fde0ef\"],[0.5,\"#f7f7f7\"],[0.6,\"#e6f5d0\"],[0.7,\"#b8e186\"],[0.8,\"#7fbc41\"],[0.9,\"#4d9221\"],[1,\"#276419\"]],\"sequential\":[[0.0,\"#0d0887\"],[0.1111111111111111,\"#46039f\"],[0.2222222222222222,\"#7201a8\"],[0.3333333333333333,\"#9c179e\"],[0.4444444444444444,\"#bd3786\"],[0.5555555555555556,\"#d8576b\"],[0.6666666666666666,\"#ed7953\"],[0.7777777777777778,\"#fb9f3a\"],[0.8888888888888888,\"#fdca26\"],[1.0,\"#f0f921\"]],\"sequentialminus\":[[0.0,\"#0d0887\"],[0.1111111111111111,\"#46039f\"],[0.2222222222222222,\"#7201a8\"],[0.3333333333333333,\"#9c179e\"],[0.4444444444444444,\"#bd3786\"],[0.5555555555555556,\"#d8576b\"],[0.6666666666666666,\"#ed7953\"],[0.7777777777777778,\"#fb9f3a\"],[0.8888888888888888,\"#fdca26\"],[1.0,\"#f0f921\"]]},\"colorway\":[\"#636efa\",\"#EF553B\",\"#00cc96\",\"#ab63fa\",\"#FFA15A\",\"#19d3f3\",\"#FF6692\",\"#B6E880\",\"#FF97FF\",\"#FECB52\"],\"font\":{\"color\":\"#2a3f5f\"},\"geo\":{\"bgcolor\":\"white\",\"lakecolor\":\"white\",\"landcolor\":\"#E5ECF6\",\"showlakes\":true,\"showland\":true,\"subunitcolor\":\"white\"},\"hoverlabel\":{\"align\":\"left\"},\"hovermode\":\"closest\",\"mapbox\":{\"style\":\"light\"},\"paper_bgcolor\":\"white\",\"plot_bgcolor\":\"#E5ECF6\",\"polar\":{\"angularaxis\":{\"gridcolor\":\"white\",\"linecolor\":\"white\",\"ticks\":\"\"},\"bgcolor\":\"#E5ECF6\",\"radialaxis\":{\"gridcolor\":\"white\",\"linecolor\":\"white\",\"ticks\":\"\"}},\"scene\":{\"xaxis\":{\"backgroundcolor\":\"#E5ECF6\",\"gridcolor\":\"white\",\"gridwidth\":2,\"linecolor\":\"white\",\"showbackground\":true,\"ticks\":\"\",\"zerolinecolor\":\"white\"},\"yaxis\":{\"backgroundcolor\":\"#E5ECF6\",\"gridcolor\":\"white\",\"gridwidth\":2,\"linecolor\":\"white\",\"showbackground\":true,\"ticks\":\"\",\"zerolinecolor\":\"white\"},\"zaxis\":{\"backgroundcolor\":\"#E5ECF6\",\"gridcolor\":\"white\",\"gridwidth\":2,\"linecolor\":\"white\",\"showbackground\":true,\"ticks\":\"\",\"zerolinecolor\":\"white\"}},\"shapedefaults\":{\"line\":{\"color\":\"#2a3f5f\"}},\"ternary\":{\"aaxis\":{\"gridcolor\":\"white\",\"linecolor\":\"white\",\"ticks\":\"\"},\"baxis\":{\"gridcolor\":\"white\",\"linecolor\":\"white\",\"ticks\":\"\"},\"bgcolor\":\"#E5ECF6\",\"caxis\":{\"gridcolor\":\"white\",\"linecolor\":\"white\",\"ticks\":\"\"}},\"title\":{\"x\":0.05},\"xaxis\":{\"automargin\":true,\"gridcolor\":\"white\",\"linecolor\":\"white\",\"ticks\":\"\",\"title\":{\"standoff\":15},\"zerolinecolor\":\"white\",\"zerolinewidth\":2},\"yaxis\":{\"automargin\":true,\"gridcolor\":\"white\",\"linecolor\":\"white\",\"ticks\":\"\",\"title\":{\"standoff\":15},\"zerolinecolor\":\"white\",\"zerolinewidth\":2}}},\"title\":{\"text\":\"MSE with 5-Fold Cross Validation\"},\"xaxis\":{\"anchor\":\"y\",\"domain\":[0.0,1.0],\"title\":{\"text\":\"Ridge Parameter\"}},\"yaxis\":{\"anchor\":\"x\",\"domain\":[0.0,1.0],\"title\":{\"text\":\"Mean Squared Error\"}}},                        {\"responsive\": true}                    ).then(function(){\n",
       "                            \n",
       "var gd = document.getElementById('329a2731-a6a9-4742-a6ec-8988a0adb236');\n",
       "var x = new MutationObserver(function (mutations, observer) {{\n",
       "        var display = window.getComputedStyle(gd).display;\n",
       "        if (!display || display === 'none') {{\n",
       "            console.log([gd, 'removed!']);\n",
       "            Plotly.purge(gd);\n",
       "            observer.disconnect();\n",
       "        }}\n",
       "}});\n",
       "\n",
       "// Listen for the removal of the full notebook cells\n",
       "var notebookContainer = gd.closest('#notebook-container');\n",
       "if (notebookContainer) {{\n",
       "    x.observe(notebookContainer, {childList: true});\n",
       "}}\n",
       "\n",
       "// Listen for the clearing of the current output cell\n",
       "var outputEl = gd.closest('.output');\n",
       "if (outputEl) {{\n",
       "    x.observe(outputEl, {childList: true});\n",
       "}}\n",
       "\n",
       "                        })                };                });            </script>        </div>"
      ]
     },
     "metadata": {},
     "output_type": "display_data"
    },
    {
     "data": {
      "application/javascript": [
       "\n",
       "            setTimeout(function() {\n",
       "                var nbb_cell_id = 49;\n",
       "                var nbb_unformatted_code = \"kfoldMSE = pd.DataFrame({\\\"lambda\\\": alphas, \\\"MSE\\\": listMSE})\\n\\nminMSEindex = kfoldMSE[\\\"MSE\\\"].idxmin()\\nminMSErow = kfoldMSE.iloc[minMSEindex]\\n\\nfig = go.Figure(\\n    data=px.scatter(\\n        kfoldMSE,\\n        x=\\\"lambda\\\",\\n        y=\\\"MSE\\\",\\n        labels={\\\"lambda\\\": \\\"Ridge Parameter\\\", \\\"MSE\\\": \\\"Mean Squared Error\\\"},\\n        title=\\\"MSE with 5-Fold Cross Validation\\\",\\n    )\\n)\\n\\nfig.add_trace(\\n    go.Scatter(\\n        x=[minMSErow.loc[\\\"lambda\\\"]], y=[minMSErow.loc[\\\"MSE\\\"]], name=\\\"Minimum MSE\\\"\\n    )\\n)\\n\\nfig.show()\\n\\n# Looks like 0.21 is the best value\";\n",
       "                var nbb_formatted_code = \"kfoldMSE = pd.DataFrame({\\\"lambda\\\": alphas, \\\"MSE\\\": listMSE})\\n\\nminMSEindex = kfoldMSE[\\\"MSE\\\"].idxmin()\\nminMSErow = kfoldMSE.iloc[minMSEindex]\\n\\nfig = go.Figure(\\n    data=px.scatter(\\n        kfoldMSE,\\n        x=\\\"lambda\\\",\\n        y=\\\"MSE\\\",\\n        labels={\\\"lambda\\\": \\\"Ridge Parameter\\\", \\\"MSE\\\": \\\"Mean Squared Error\\\"},\\n        title=\\\"MSE with 5-Fold Cross Validation\\\",\\n    )\\n)\\n\\nfig.add_trace(\\n    go.Scatter(\\n        x=[minMSErow.loc[\\\"lambda\\\"]], y=[minMSErow.loc[\\\"MSE\\\"]], name=\\\"Minimum MSE\\\"\\n    )\\n)\\n\\nfig.show()\\n\\n# Looks like 0.21 is the best value\";\n",
       "                var nbb_cells = Jupyter.notebook.get_cells();\n",
       "                for (var i = 0; i < nbb_cells.length; ++i) {\n",
       "                    if (nbb_cells[i].input_prompt_number == nbb_cell_id) {\n",
       "                        if (nbb_cells[i].get_text() == nbb_unformatted_code) {\n",
       "                             nbb_cells[i].set_text(nbb_formatted_code);\n",
       "                        }\n",
       "                        break;\n",
       "                    }\n",
       "                }\n",
       "            }, 500);\n",
       "            "
      ],
      "text/plain": [
       "<IPython.core.display.Javascript object>"
      ]
     },
     "metadata": {},
     "output_type": "display_data"
    }
   ],
   "source": [
    "kfoldMSE = pd.DataFrame({\"lambda\": alphas, \"MSE\": listMSE})\n",
    "\n",
    "minMSEindex = kfoldMSE[\"MSE\"].idxmin()\n",
    "minMSErow = kfoldMSE.iloc[minMSEindex]\n",
    "\n",
    "fig = go.Figure(\n",
    "    data=px.scatter(\n",
    "        kfoldMSE,\n",
    "        x=\"lambda\",\n",
    "        y=\"MSE\",\n",
    "        labels={\"lambda\": \"Ridge Parameter\", \"MSE\": \"Mean Squared Error\"},\n",
    "        title=\"MSE with 5-Fold Cross Validation\",\n",
    "    )\n",
    ")\n",
    "\n",
    "fig.add_trace(\n",
    "    go.Scatter(\n",
    "        x=[minMSErow.loc[\"lambda\"]], y=[minMSErow.loc[\"MSE\"]], name=\"Minimum MSE\"\n",
    "    )\n",
    ")\n",
    "\n",
    "fig.show()"
   ]
  },
  {
   "cell_type": "code",
   "execution_count": 52,
   "id": "ac6ee2ac",
   "metadata": {},
   "outputs": [
    {
     "name": "stdout",
     "output_type": "stream",
     "text": [
      "We are now testing lambda value;  0.02\n"
     ]
    },
    {
     "ename": "KeyboardInterrupt",
     "evalue": "",
     "output_type": "error",
     "traceback": [
      "\u001b[1;31m---------------------------------------------------------------------------\u001b[0m",
      "\u001b[1;31mKeyboardInterrupt\u001b[0m                         Traceback (most recent call last)",
      "\u001b[1;32m~\\AppData\\Local\\Temp/ipykernel_11412/1344491672.py\u001b[0m in \u001b[0;36m<module>\u001b[1;34m\u001b[0m\n\u001b[0;32m     35\u001b[0m \u001b[1;33m\u001b[0m\u001b[0m\n\u001b[0;32m     36\u001b[0m \u001b[1;33m\u001b[0m\u001b[0m\n\u001b[1;32m---> 37\u001b[1;33m \u001b[0mlistMSE_loo\u001b[0m \u001b[1;33m=\u001b[0m \u001b[0mLOOCV\u001b[0m\u001b[1;33m(\u001b[0m\u001b[0mXnewstand\u001b[0m\u001b[1;33m.\u001b[0m\u001b[0mto_numpy\u001b[0m\u001b[1;33m(\u001b[0m\u001b[1;33m)\u001b[0m\u001b[1;33m,\u001b[0m \u001b[0my\u001b[0m\u001b[1;33m,\u001b[0m \u001b[0malphas\u001b[0m\u001b[1;33m)\u001b[0m\u001b[1;33m\u001b[0m\u001b[1;33m\u001b[0m\u001b[0m\n\u001b[0m\u001b[0;32m     38\u001b[0m \u001b[0mprint\u001b[0m\u001b[1;33m(\u001b[0m\u001b[1;34m\"--- %s seconds ---\"\u001b[0m \u001b[1;33m%\u001b[0m \u001b[1;33m(\u001b[0m\u001b[0mtime\u001b[0m\u001b[1;33m.\u001b[0m\u001b[0mtime\u001b[0m\u001b[1;33m(\u001b[0m\u001b[1;33m)\u001b[0m \u001b[1;33m-\u001b[0m \u001b[0mstart\u001b[0m\u001b[1;33m)\u001b[0m\u001b[1;33m)\u001b[0m\u001b[1;33m\u001b[0m\u001b[1;33m\u001b[0m\u001b[0m\n",
      "\u001b[1;32m~\\AppData\\Local\\Temp/ipykernel_11412/1344491672.py\u001b[0m in \u001b[0;36mLOOCV\u001b[1;34m(X, Y, alphas)\u001b[0m\n\u001b[0;32m     23\u001b[0m             \u001b[0mI\u001b[0m \u001b[1;33m=\u001b[0m \u001b[0mnp\u001b[0m\u001b[1;33m.\u001b[0m\u001b[0midentity\u001b[0m\u001b[1;33m(\u001b[0m\u001b[0mm\u001b[0m\u001b[1;33m)\u001b[0m\u001b[1;33m\u001b[0m\u001b[1;33m\u001b[0m\u001b[0m\n\u001b[0;32m     24\u001b[0m             \u001b[1;31m# Beta vector\u001b[0m\u001b[1;33m\u001b[0m\u001b[1;33m\u001b[0m\u001b[1;33m\u001b[0m\u001b[0m\n\u001b[1;32m---> 25\u001b[1;33m             \u001b[0mbeta\u001b[0m \u001b[1;33m=\u001b[0m \u001b[0msp\u001b[0m\u001b[1;33m.\u001b[0m\u001b[0mlinalg\u001b[0m\u001b[1;33m.\u001b[0m\u001b[0minv\u001b[0m\u001b[1;33m(\u001b[0m\u001b[1;33m(\u001b[0m\u001b[0mX_train\u001b[0m\u001b[1;33m.\u001b[0m\u001b[0mT\u001b[0m \u001b[1;33m@\u001b[0m \u001b[0mX_train\u001b[0m\u001b[1;33m)\u001b[0m \u001b[1;33m+\u001b[0m \u001b[0ml2\u001b[0m \u001b[1;33m*\u001b[0m \u001b[0mI\u001b[0m\u001b[1;33m)\u001b[0m \u001b[1;33m@\u001b[0m \u001b[0mX_train\u001b[0m\u001b[1;33m.\u001b[0m\u001b[0mT\u001b[0m \u001b[1;33m@\u001b[0m \u001b[0mY_train\u001b[0m\u001b[1;33m\u001b[0m\u001b[1;33m\u001b[0m\u001b[0m\n\u001b[0m\u001b[0;32m     26\u001b[0m \u001b[1;33m\u001b[0m\u001b[0m\n\u001b[0;32m     27\u001b[0m             \u001b[0mYpred\u001b[0m \u001b[1;33m=\u001b[0m \u001b[0mX_test\u001b[0m \u001b[1;33m@\u001b[0m \u001b[0mbeta\u001b[0m\u001b[1;33m\u001b[0m\u001b[1;33m\u001b[0m\u001b[0m\n",
      "\u001b[1;31mKeyboardInterrupt\u001b[0m: "
     ]
    },
    {
     "data": {
      "application/javascript": [
       "\n",
       "            setTimeout(function() {\n",
       "                var nbb_cell_id = 52;\n",
       "                var nbb_unformatted_code = \"# Leave One Out CV\\nfrom sklearn.metrics import *\\nfrom sklearn.model_selection import LeaveOneOut\\n\\nstart = time.time()\\nalphas = [0.02, .5, 1, 1.5, 1.6, 1.7, 2.25]\\n\\n\\ndef LOOCV(X, Y, alphas):\\n    masterList = np.array([])  # what we return\\n    for l2 in alphas:\\n        print(\\\"We are now testing lambda value; \\\", l2)\\n        MSElist = np.array([])\\n\\n        loo = LeaveOneOut()\\n        loo.get_n_splits(X)\\n\\n        for train_index, test_index in loo.split(X):\\n            X_train, X_test = X[train_index], X[test_index]\\n            Y_train, Y_test = Y[train_index], Y[test_index]\\n\\n            n, m = X_train.shape\\n            I = np.identity(m)\\n            # Beta vector\\n            beta = sp.linalg.inv((X_train.T @ X_train) + l2 * I) @ X_train.T @ Y_train\\n\\n            Ypred = X_test @ beta\\n            MSE = mean_squared_error(Y_test, Ypred)\\n\\n            MSElist = np.append(MSElist, MSE)\\n\\n        masterList = np.append(masterList, np.mean(MSElist))\\n\\n    return masterList\\n\\n\\nlistMSE_loo = LOOCV(Xnewstand.to_numpy(), y, alphas)\\nprint(\\\"--- %s seconds ---\\\" % (time.time() - start))\";\n",
       "                var nbb_formatted_code = \"# Leave One Out CV\\nfrom sklearn.metrics import *\\nfrom sklearn.model_selection import LeaveOneOut\\n\\nstart = time.time()\\nalphas = [0.02, 0.5, 1, 1.5, 1.6, 1.7, 2.25]\\n\\n\\ndef LOOCV(X, Y, alphas):\\n    masterList = np.array([])  # what we return\\n    for l2 in alphas:\\n        print(\\\"We are now testing lambda value; \\\", l2)\\n        MSElist = np.array([])\\n\\n        loo = LeaveOneOut()\\n        loo.get_n_splits(X)\\n\\n        for train_index, test_index in loo.split(X):\\n            X_train, X_test = X[train_index], X[test_index]\\n            Y_train, Y_test = Y[train_index], Y[test_index]\\n\\n            n, m = X_train.shape\\n            I = np.identity(m)\\n            # Beta vector\\n            beta = sp.linalg.inv((X_train.T @ X_train) + l2 * I) @ X_train.T @ Y_train\\n\\n            Ypred = X_test @ beta\\n            MSE = mean_squared_error(Y_test, Ypred)\\n\\n            MSElist = np.append(MSElist, MSE)\\n\\n        masterList = np.append(masterList, np.mean(MSElist))\\n\\n    return masterList\\n\\n\\nlistMSE_loo = LOOCV(Xnewstand.to_numpy(), y, alphas)\\nprint(\\\"--- %s seconds ---\\\" % (time.time() - start))\";\n",
       "                var nbb_cells = Jupyter.notebook.get_cells();\n",
       "                for (var i = 0; i < nbb_cells.length; ++i) {\n",
       "                    if (nbb_cells[i].input_prompt_number == nbb_cell_id) {\n",
       "                        if (nbb_cells[i].get_text() == nbb_unformatted_code) {\n",
       "                             nbb_cells[i].set_text(nbb_formatted_code);\n",
       "                        }\n",
       "                        break;\n",
       "                    }\n",
       "                }\n",
       "            }, 500);\n",
       "            "
      ],
      "text/plain": [
       "<IPython.core.display.Javascript object>"
      ]
     },
     "metadata": {},
     "output_type": "display_data"
    }
   ],
   "source": [
    "# Leave One Out CV\n",
    "from sklearn.metrics import *\n",
    "from sklearn.model_selection import LeaveOneOut\n",
    "\n",
    "start = time.time()\n",
    "alphas = [0.02, 0.5, 1, 1.5, 1.6, 1.7, 2.25]\n",
    "\n",
    "\n",
    "def LOOCV(X, Y, alphas):\n",
    "    masterList = np.array([])  # what we return\n",
    "    for l2 in alphas:\n",
    "        print(\"We are now testing lambda value; \", l2)\n",
    "        MSElist = np.array([])\n",
    "\n",
    "        loo = LeaveOneOut()\n",
    "        loo.get_n_splits(X)\n",
    "\n",
    "        for train_index, test_index in loo.split(X):\n",
    "            X_train, X_test = X[train_index], X[test_index]\n",
    "            Y_train, Y_test = Y[train_index], Y[test_index]\n",
    "\n",
    "            n, m = X_train.shape\n",
    "            I = np.identity(m)\n",
    "            # Beta vector\n",
    "            beta = sp.linalg.inv((X_train.T @ X_train) + l2 * I) @ X_train.T @ Y_train\n",
    "\n",
    "            Ypred = X_test @ beta\n",
    "            MSE = mean_squared_error(Y_test, Ypred)\n",
    "\n",
    "            MSElist = np.append(MSElist, MSE)\n",
    "\n",
    "        masterList = np.append(masterList, np.mean(MSElist))\n",
    "\n",
    "    return masterList\n",
    "\n",
    "\n",
    "listMSE_loo = LOOCV(Xnewstand.to_numpy(), y, alphas)\n",
    "print(\"--- %s seconds ---\" % (time.time() - start))"
   ]
  },
  {
   "cell_type": "code",
   "execution_count": null,
   "id": "9f99baf4",
   "metadata": {},
   "outputs": [],
   "source": [
    "kfoldMSE = pd.DataFrame({\"lambda\": alphas, \"MSE\": listMSEloo})\n",
    "\n",
    "minMSEindex = kfoldMSE[\"MSE\"].idxmin()\n",
    "minMSErow = kfoldMSE.iloc[minMSEindex]\n",
    "\n",
    "fig_loo = go.Figure(\n",
    "    data=px.scatter(\n",
    "        kfoldMSE,\n",
    "        x=\"lambda\",\n",
    "        y=\"MSE\",\n",
    "        labels={\"lambda\": \"Ridge Parameter\", \"MSE\": \"Mean Squared Error\"},\n",
    "        title=\"MSE with Leave One Out Cross Validation\",\n",
    "    )\n",
    ")\n",
    "\n",
    "fig_loo.add_trace(\n",
    "    go.Scatter(\n",
    "        x=[minMSErow.loc[\"lambda\"]], y=[minMSErow.loc[\"MSE\"]], name=\"Minimum MSE\"\n",
    "    )\n",
    ")\n",
    "\n",
    "fig_loo.show()"
   ]
  },
  {
   "cell_type": "code",
   "execution_count": 18,
   "id": "d7956e61",
   "metadata": {},
   "outputs": [
    {
     "data": {
      "text/html": [
       "<div>\n",
       "<style scoped>\n",
       "    .dataframe tbody tr th:only-of-type {\n",
       "        vertical-align: middle;\n",
       "    }\n",
       "\n",
       "    .dataframe tbody tr th {\n",
       "        vertical-align: top;\n",
       "    }\n",
       "\n",
       "    .dataframe thead th {\n",
       "        text-align: right;\n",
       "    }\n",
       "</style>\n",
       "<table border=\"1\" class=\"dataframe\">\n",
       "  <thead>\n",
       "    <tr style=\"text-align: right;\">\n",
       "      <th></th>\n",
       "      <th>coef</th>\n",
       "      <th>names</th>\n",
       "    </tr>\n",
       "  </thead>\n",
       "  <tbody>\n",
       "    <tr>\n",
       "      <th>23</th>\n",
       "      <td>47.512513</td>\n",
       "      <td>business_or_commercial_nob/c</td>\n",
       "    </tr>\n",
       "    <tr>\n",
       "      <th>14</th>\n",
       "      <td>46.206409</td>\n",
       "      <td>Security_Type_Indriect</td>\n",
       "    </tr>\n",
       "    <tr>\n",
       "      <th>11</th>\n",
       "      <td>46.206409</td>\n",
       "      <td>Secured_by_land</td>\n",
       "    </tr>\n",
       "    <tr>\n",
       "      <th>12</th>\n",
       "      <td>46.206409</td>\n",
       "      <td>construction_type_mh</td>\n",
       "    </tr>\n",
       "    <tr>\n",
       "      <th>20</th>\n",
       "      <td>42.746217</td>\n",
       "      <td>lump_sum_payment_lpsm</td>\n",
       "    </tr>\n",
       "    <tr>\n",
       "      <th>17</th>\n",
       "      <td>42.432620</td>\n",
       "      <td>interest_only_not_int</td>\n",
       "    </tr>\n",
       "    <tr>\n",
       "      <th>4</th>\n",
       "      <td>42.392372</td>\n",
       "      <td>loan_limit_cf</td>\n",
       "    </tr>\n",
       "    <tr>\n",
       "      <th>25</th>\n",
       "      <td>42.386004</td>\n",
       "      <td>open_credit_opc</td>\n",
       "    </tr>\n",
       "    <tr>\n",
       "      <th>27</th>\n",
       "      <td>42.168857</td>\n",
       "      <td>Credit_Worthiness_l2</td>\n",
       "    </tr>\n",
       "    <tr>\n",
       "      <th>28</th>\n",
       "      <td>42.110740</td>\n",
       "      <td>approv_in_adv_nopre</td>\n",
       "    </tr>\n",
       "    <tr>\n",
       "      <th>8</th>\n",
       "      <td>41.950536</td>\n",
       "      <td>co-applicant_credit_type_CIB</td>\n",
       "    </tr>\n",
       "    <tr>\n",
       "      <th>19</th>\n",
       "      <td>41.939349</td>\n",
       "      <td>Neg_ammortization_not_neg</td>\n",
       "    </tr>\n",
       "    <tr>\n",
       "      <th>6</th>\n",
       "      <td>41.837271</td>\n",
       "      <td>submission_of_application_not_inst</td>\n",
       "    </tr>\n",
       "    <tr>\n",
       "      <th>7</th>\n",
       "      <td>41.826346</td>\n",
       "      <td>submission_of_application_to_inst</td>\n",
       "    </tr>\n",
       "    <tr>\n",
       "      <th>18</th>\n",
       "      <td>41.724268</td>\n",
       "      <td>Neg_ammortization_neg_amm</td>\n",
       "    </tr>\n",
       "  </tbody>\n",
       "</table>\n",
       "</div>"
      ],
      "text/plain": [
       "         coef                               names\n",
       "23  47.512513        business_or_commercial_nob/c\n",
       "14  46.206409              Security_Type_Indriect\n",
       "11  46.206409                     Secured_by_land\n",
       "12  46.206409                construction_type_mh\n",
       "20  42.746217               lump_sum_payment_lpsm\n",
       "17  42.432620               interest_only_not_int\n",
       "4   42.392372                       loan_limit_cf\n",
       "25  42.386004                     open_credit_opc\n",
       "27  42.168857                Credit_Worthiness_l2\n",
       "28  42.110740                 approv_in_adv_nopre\n",
       "8   41.950536        co-applicant_credit_type_CIB\n",
       "19  41.939349           Neg_ammortization_not_neg\n",
       "6   41.837271  submission_of_application_not_inst\n",
       "7   41.826346   submission_of_application_to_inst\n",
       "18  41.724268           Neg_ammortization_neg_amm"
      ]
     },
     "metadata": {},
     "output_type": "display_data"
    },
    {
     "data": {
      "text/html": [
       "<div>\n",
       "<style scoped>\n",
       "    .dataframe tbody tr th:only-of-type {\n",
       "        vertical-align: middle;\n",
       "    }\n",
       "\n",
       "    .dataframe tbody tr th {\n",
       "        vertical-align: top;\n",
       "    }\n",
       "\n",
       "    .dataframe thead th {\n",
       "        text-align: right;\n",
       "    }\n",
       "</style>\n",
       "<table border=\"1\" class=\"dataframe\">\n",
       "  <thead>\n",
       "    <tr style=\"text-align: right;\">\n",
       "      <th></th>\n",
       "      <th>coef</th>\n",
       "      <th>names</th>\n",
       "    </tr>\n",
       "  </thead>\n",
       "  <tbody>\n",
       "    <tr>\n",
       "      <th>61</th>\n",
       "      <td>19.700368</td>\n",
       "      <td>age_&lt;25</td>\n",
       "    </tr>\n",
       "    <tr>\n",
       "      <th>43</th>\n",
       "      <td>19.425233</td>\n",
       "      <td>total_units_4U</td>\n",
       "    </tr>\n",
       "    <tr>\n",
       "      <th>53</th>\n",
       "      <td>19.029412</td>\n",
       "      <td>Region_North-East</td>\n",
       "    </tr>\n",
       "    <tr>\n",
       "      <th>41</th>\n",
       "      <td>15.540735</td>\n",
       "      <td>total_units_2U</td>\n",
       "    </tr>\n",
       "    <tr>\n",
       "      <th>40</th>\n",
       "      <td>13.669327</td>\n",
       "      <td>total_units_1U</td>\n",
       "    </tr>\n",
       "    <tr>\n",
       "      <th>56</th>\n",
       "      <td>12.065810</td>\n",
       "      <td>age_25-34</td>\n",
       "    </tr>\n",
       "    <tr>\n",
       "      <th>58</th>\n",
       "      <td>11.707594</td>\n",
       "      <td>age_45-54</td>\n",
       "    </tr>\n",
       "    <tr>\n",
       "      <th>57</th>\n",
       "      <td>11.462264</td>\n",
       "      <td>age_35-44</td>\n",
       "    </tr>\n",
       "    <tr>\n",
       "      <th>60</th>\n",
       "      <td>11.246737</td>\n",
       "      <td>age_65-74</td>\n",
       "    </tr>\n",
       "    <tr>\n",
       "      <th>59</th>\n",
       "      <td>10.182923</td>\n",
       "      <td>age_55-64</td>\n",
       "    </tr>\n",
       "    <tr>\n",
       "      <th>62</th>\n",
       "      <td>7.297921</td>\n",
       "      <td>age_&gt;74</td>\n",
       "    </tr>\n",
       "    <tr>\n",
       "      <th>0</th>\n",
       "      <td>0.718409</td>\n",
       "      <td>loan_amount</td>\n",
       "    </tr>\n",
       "    <tr>\n",
       "      <th>3</th>\n",
       "      <td>-0.147483</td>\n",
       "      <td>Status</td>\n",
       "    </tr>\n",
       "    <tr>\n",
       "      <th>2</th>\n",
       "      <td>-0.225662</td>\n",
       "      <td>income</td>\n",
       "    </tr>\n",
       "    <tr>\n",
       "      <th>1</th>\n",
       "      <td>-0.424997</td>\n",
       "      <td>term</td>\n",
       "    </tr>\n",
       "  </tbody>\n",
       "</table>\n",
       "</div>"
      ],
      "text/plain": [
       "         coef              names\n",
       "61  19.700368            age_<25\n",
       "43  19.425233     total_units_4U\n",
       "53  19.029412  Region_North-East\n",
       "41  15.540735     total_units_2U\n",
       "40  13.669327     total_units_1U\n",
       "56  12.065810          age_25-34\n",
       "58  11.707594          age_45-54\n",
       "57  11.462264          age_35-44\n",
       "60  11.246737          age_65-74\n",
       "59  10.182923          age_55-64\n",
       "62   7.297921            age_>74\n",
       "0    0.718409        loan_amount\n",
       "3   -0.147483             Status\n",
       "2   -0.225662             income\n",
       "1   -0.424997               term"
      ]
     },
     "metadata": {},
     "output_type": "display_data"
    },
    {
     "data": {
      "application/javascript": [
       "\n",
       "            setTimeout(function() {\n",
       "                var nbb_cell_id = 18;\n",
       "                var nbb_unformatted_code = \"# Now with our optimized lambda of 0.97 million\\n\\nbeta = sp.linalg.inv((Xtrain.T @ Xtrain) + 0.97 * I) @ Xtrain.T @ Ytrain\\n\\nYpred = Xtest.to_numpy() @ beta\\nmodel_coef = pd.DataFrame({\\\"coef\\\": beta, \\\"names\\\": variables})\\nsorted_model = model_coef[model_coef[\\\"coef\\\"] != 0].sort_values(\\n    by=\\\"coef\\\", ascending=False\\n)\\ndisplay(sorted_model.head(15))\\ndisplay(sorted_model.tail(15))\";\n",
       "                var nbb_formatted_code = \"# Now with our optimized lambda of 0.97 million\\n\\nbeta = sp.linalg.inv((Xtrain.T @ Xtrain) + 0.97 * I) @ Xtrain.T @ Ytrain\\n\\nYpred = Xtest.to_numpy() @ beta\\nmodel_coef = pd.DataFrame({\\\"coef\\\": beta, \\\"names\\\": variables})\\nsorted_model = model_coef[model_coef[\\\"coef\\\"] != 0].sort_values(\\n    by=\\\"coef\\\", ascending=False\\n)\\ndisplay(sorted_model.head(15))\\ndisplay(sorted_model.tail(15))\";\n",
       "                var nbb_cells = Jupyter.notebook.get_cells();\n",
       "                for (var i = 0; i < nbb_cells.length; ++i) {\n",
       "                    if (nbb_cells[i].input_prompt_number == nbb_cell_id) {\n",
       "                        if (nbb_cells[i].get_text() == nbb_unformatted_code) {\n",
       "                             nbb_cells[i].set_text(nbb_formatted_code);\n",
       "                        }\n",
       "                        break;\n",
       "                    }\n",
       "                }\n",
       "            }, 500);\n",
       "            "
      ],
      "text/plain": [
       "<IPython.core.display.Javascript object>"
      ]
     },
     "metadata": {},
     "output_type": "display_data"
    }
   ],
   "source": [
    "# Now with our optimized lambda of 0.97 million\n",
    "\n",
    "beta = sp.linalg.inv((Xtrain.T @ Xtrain) + 0.97 * I) @ Xtrain.T @ Ytrain\n",
    "\n",
    "Ypred = Xtest.to_numpy() @ beta\n",
    "model_coef = pd.DataFrame({\"coef\": beta, \"names\": variables})\n",
    "sorted_model = model_coef[model_coef[\"coef\"] != 0].sort_values(\n",
    "    by=\"coef\", ascending=False\n",
    ")\n",
    "display(sorted_model.head(15))\n",
    "display(sorted_model.tail(15))"
   ]
  },
  {
   "cell_type": "code",
   "execution_count": 15,
   "id": "4f084af1",
   "metadata": {},
   "outputs": [
    {
     "name": "stdout",
     "output_type": "stream",
     "text": [
      "--- 55.22998642921448 seconds ---\n"
     ]
    },
    {
     "data": {
      "application/javascript": [
       "\n",
       "            setTimeout(function() {\n",
       "                var nbb_cell_id = 15;\n",
       "                var nbb_unformatted_code = \"start = time.time()\\n\\n\\ndef KfoldCV(X, Y, alphas, k):\\n    masterList = np.array([])  # what we return\\n    MSElist = np.array([])\\n    for l2 in alphas:\\n        for i in range(k):\\n            Xtrain, Xtest, Ytrain, Ytest = train_test_split(X, Y, test_size=0.5)\\n\\n            n, m = Xtrain.shape\\n            I = np.identity(m)\\n            # Beta vector\\n            beta = sp.linalg.inv((Xtrain.T @ Xtrain) + l2 * I) @ Xtrain.T @ Ytrain\\n\\n            Ypred = Xtest @ beta\\n            MSE = mean_squared_error(Ytest, Ypred)\\n\\n            MSElist = np.append(MSElist, MSE)\\n\\n        masterList = np.append(masterList, np.mean(MSElist))\\n\\n    return masterList\\n\\n\\nalphas_small = np.arange(0, 1000, 10)\\nlistMSE_5050 = KfoldCV(Xnewstand.to_numpy(), y, alphas, 5)\\nprint(\\\"--- %s seconds ---\\\" % (time.time() - start))\";\n",
       "                var nbb_formatted_code = \"start = time.time()\\n\\n\\ndef KfoldCV(X, Y, alphas, k):\\n    masterList = np.array([])  # what we return\\n    MSElist = np.array([])\\n    for l2 in alphas:\\n        for i in range(k):\\n            Xtrain, Xtest, Ytrain, Ytest = train_test_split(X, Y, test_size=0.5)\\n\\n            n, m = Xtrain.shape\\n            I = np.identity(m)\\n            # Beta vector\\n            beta = sp.linalg.inv((Xtrain.T @ Xtrain) + l2 * I) @ Xtrain.T @ Ytrain\\n\\n            Ypred = Xtest @ beta\\n            MSE = mean_squared_error(Ytest, Ypred)\\n\\n            MSElist = np.append(MSElist, MSE)\\n\\n        masterList = np.append(masterList, np.mean(MSElist))\\n\\n    return masterList\\n\\n\\nalphas_small = np.arange(0, 1000, 10)\\nlistMSE_5050 = KfoldCV(Xnewstand.to_numpy(), y, alphas, 5)\\nprint(\\\"--- %s seconds ---\\\" % (time.time() - start))\";\n",
       "                var nbb_cells = Jupyter.notebook.get_cells();\n",
       "                for (var i = 0; i < nbb_cells.length; ++i) {\n",
       "                    if (nbb_cells[i].input_prompt_number == nbb_cell_id) {\n",
       "                        if (nbb_cells[i].get_text() == nbb_unformatted_code) {\n",
       "                             nbb_cells[i].set_text(nbb_formatted_code);\n",
       "                        }\n",
       "                        break;\n",
       "                    }\n",
       "                }\n",
       "            }, 500);\n",
       "            "
      ],
      "text/plain": [
       "<IPython.core.display.Javascript object>"
      ]
     },
     "metadata": {},
     "output_type": "display_data"
    }
   ],
   "source": [
    "start = time.time()\n",
    "\n",
    "\n",
    "def KfoldCV(X, Y, alphas, k):\n",
    "    masterList = np.array([])  # what we return\n",
    "    MSElist = np.array([])\n",
    "    for l2 in alphas:\n",
    "        for i in range(k):\n",
    "            Xtrain, Xtest, Ytrain, Ytest = train_test_split(X, Y, test_size=0.5)\n",
    "\n",
    "            n, m = Xtrain.shape\n",
    "            I = np.identity(m)\n",
    "            # Beta vector\n",
    "            beta = sp.linalg.inv((Xtrain.T @ Xtrain) + l2 * I) @ Xtrain.T @ Ytrain\n",
    "\n",
    "            Ypred = Xtest @ beta\n",
    "            MSE = mean_squared_error(Ytest, Ypred)\n",
    "\n",
    "            MSElist = np.append(MSElist, MSE)\n",
    "\n",
    "        masterList = np.append(masterList, np.mean(MSElist))\n",
    "\n",
    "    return masterList\n",
    "\n",
    "\n",
    "alphas_small = np.arange(0, 1000, 10)\n",
    "listMSE_5050 = KfoldCV(Xnewstand.to_numpy(), y, alphas, 5)\n",
    "print(\"--- %s seconds ---\" % (time.time() - start))"
   ]
  },
  {
   "cell_type": "code",
   "execution_count": 16,
   "id": "e747f936",
   "metadata": {
    "scrolled": false
   },
   "outputs": [
    {
     "data": {
      "application/vnd.plotly.v1+json": {
       "config": {
        "plotlyServerURL": "https://plot.ly"
       },
       "data": [
        {
         "hovertemplate": "Ridge Parameter=%{x}<br>Mean Squared Error=%{y}<extra></extra>",
         "legendgroup": "",
         "marker": {
          "color": "#636efa",
          "symbol": "circle"
         },
         "mode": "markers",
         "name": "",
         "orientation": "v",
         "showlegend": false,
         "type": "scatter",
         "x": [
          0.01,
          0.02,
          0.03,
          0.04,
          0.05,
          0.060000000000000005,
          0.06999999999999999,
          0.08,
          0.09,
          0.09999999999999999,
          0.11,
          0.12,
          0.13,
          0.14,
          0.15000000000000002,
          0.16,
          0.17,
          0.18000000000000002,
          0.19,
          0.2,
          0.21000000000000002,
          0.22,
          0.23,
          0.24000000000000002,
          0.25,
          0.26,
          0.27,
          0.28,
          0.29000000000000004,
          0.3,
          0.31,
          0.32,
          0.33,
          0.34,
          0.35000000000000003,
          0.36000000000000004,
          0.37,
          0.38,
          0.39,
          0.4,
          0.41000000000000003,
          0.42000000000000004,
          0.43,
          0.44,
          0.45,
          0.46,
          0.47000000000000003,
          0.48000000000000004,
          0.49,
          0.5,
          0.51,
          0.52,
          0.53,
          0.54,
          0.55,
          0.56,
          0.5700000000000001,
          0.5800000000000001,
          0.59,
          0.6,
          0.61,
          0.62,
          0.63,
          0.64,
          0.65,
          0.66,
          0.67,
          0.68,
          0.6900000000000001,
          0.7000000000000001,
          0.7100000000000001,
          0.72,
          0.73,
          0.74,
          0.75,
          0.76,
          0.77,
          0.78,
          0.79,
          0.8,
          0.81,
          0.8200000000000001,
          0.8300000000000001,
          0.8400000000000001,
          0.85,
          0.86,
          0.87,
          0.88,
          0.89,
          0.9,
          0.91,
          0.92,
          0.93,
          0.9400000000000001,
          0.9500000000000001,
          0.9600000000000001,
          0.97,
          0.98,
          0.99
         ],
         "xaxis": "x",
         "y": [
          13410.310782407492,
          13419.216335719804,
          13430.628368568396,
          13436.718795167471,
          13433.871668277669,
          13432.52599118258,
          13429.86744813166,
          13429.576320714137,
          13430.349502519133,
          13427.648916526925,
          13426.43652238454,
          13425.12557471767,
          13425.912889352538,
          13428.395328058095,
          13427.99105493185,
          13429.076539127127,
          13429.863820576504,
          13429.576221888658,
          13428.714665142797,
          13428.123886547495,
          13427.841604665653,
          13428.498582867924,
          13428.840019896055,
          13428.522089913467,
          13428.351884301483,
          13428.370011758203,
          13428.633553092226,
          13428.146034819063,
          13428.027386152857,
          13427.648083118893,
          13427.621085741552,
          13427.74514848817,
          13428.015329281625,
          13428.368559170633,
          13428.218240186232,
          13428.817230513816,
          13428.956240502916,
          13429.384850587367,
          13428.938530271287,
          13428.931970400434,
          13429.853835808988,
          13429.539204579423,
          13429.777848340598,
          13429.93853126276,
          13429.69479141696,
          13429.75405015981,
          13429.541394542335,
          13429.568771268163,
          13429.605240539233,
          13430.019046098269,
          13430.226673404073,
          13429.978798190961,
          13429.941412125794,
          13430.057109205334,
          13430.173264875984,
          13430.196135616017,
          13430.509120006298,
          13430.672888985404,
          13430.581586134007,
          13430.683411989234,
          13430.666502799751,
          13430.517136490484,
          13430.31392930623,
          13430.459465344471,
          13430.563665883092,
          13431.038685136056,
          13431.083572624173,
          13431.45553443555,
          13431.56627228748,
          13431.805475614276,
          13431.815030781458,
          13431.667457392356,
          13431.693615002905,
          13431.813961128291,
          13431.844545582264,
          13432.099627608193,
          13431.99116242057,
          13431.720783559715,
          13431.942229172231,
          13431.802717046005,
          13431.818547894345,
          13431.80899809942,
          13431.74591908819,
          13431.763535052374,
          13431.714528873685,
          13431.814804542408,
          13431.734245304326,
          13431.705337831285,
          13431.52438018506,
          13431.582573319305,
          13431.274235490753,
          13430.989320188684,
          13430.981907267711,
          13430.643167588803,
          13430.924553110919,
          13430.979128915717,
          13430.897511383042,
          13430.91604895306,
          13430.860078281763
         ],
         "yaxis": "y"
        },
        {
         "name": "Minimum MSE",
         "type": "scatter",
         "x": [
          0.01
         ],
         "y": [
          13410.310782407492
         ]
        }
       ],
       "layout": {
        "legend": {
         "tracegroupgap": 0
        },
        "template": {
         "data": {
          "bar": [
           {
            "error_x": {
             "color": "#2a3f5f"
            },
            "error_y": {
             "color": "#2a3f5f"
            },
            "marker": {
             "line": {
              "color": "#E5ECF6",
              "width": 0.5
             },
             "pattern": {
              "fillmode": "overlay",
              "size": 10,
              "solidity": 0.2
             }
            },
            "type": "bar"
           }
          ],
          "barpolar": [
           {
            "marker": {
             "line": {
              "color": "#E5ECF6",
              "width": 0.5
             },
             "pattern": {
              "fillmode": "overlay",
              "size": 10,
              "solidity": 0.2
             }
            },
            "type": "barpolar"
           }
          ],
          "carpet": [
           {
            "aaxis": {
             "endlinecolor": "#2a3f5f",
             "gridcolor": "white",
             "linecolor": "white",
             "minorgridcolor": "white",
             "startlinecolor": "#2a3f5f"
            },
            "baxis": {
             "endlinecolor": "#2a3f5f",
             "gridcolor": "white",
             "linecolor": "white",
             "minorgridcolor": "white",
             "startlinecolor": "#2a3f5f"
            },
            "type": "carpet"
           }
          ],
          "choropleth": [
           {
            "colorbar": {
             "outlinewidth": 0,
             "ticks": ""
            },
            "type": "choropleth"
           }
          ],
          "contour": [
           {
            "colorbar": {
             "outlinewidth": 0,
             "ticks": ""
            },
            "colorscale": [
             [
              0,
              "#0d0887"
             ],
             [
              0.1111111111111111,
              "#46039f"
             ],
             [
              0.2222222222222222,
              "#7201a8"
             ],
             [
              0.3333333333333333,
              "#9c179e"
             ],
             [
              0.4444444444444444,
              "#bd3786"
             ],
             [
              0.5555555555555556,
              "#d8576b"
             ],
             [
              0.6666666666666666,
              "#ed7953"
             ],
             [
              0.7777777777777778,
              "#fb9f3a"
             ],
             [
              0.8888888888888888,
              "#fdca26"
             ],
             [
              1,
              "#f0f921"
             ]
            ],
            "type": "contour"
           }
          ],
          "contourcarpet": [
           {
            "colorbar": {
             "outlinewidth": 0,
             "ticks": ""
            },
            "type": "contourcarpet"
           }
          ],
          "heatmap": [
           {
            "colorbar": {
             "outlinewidth": 0,
             "ticks": ""
            },
            "colorscale": [
             [
              0,
              "#0d0887"
             ],
             [
              0.1111111111111111,
              "#46039f"
             ],
             [
              0.2222222222222222,
              "#7201a8"
             ],
             [
              0.3333333333333333,
              "#9c179e"
             ],
             [
              0.4444444444444444,
              "#bd3786"
             ],
             [
              0.5555555555555556,
              "#d8576b"
             ],
             [
              0.6666666666666666,
              "#ed7953"
             ],
             [
              0.7777777777777778,
              "#fb9f3a"
             ],
             [
              0.8888888888888888,
              "#fdca26"
             ],
             [
              1,
              "#f0f921"
             ]
            ],
            "type": "heatmap"
           }
          ],
          "heatmapgl": [
           {
            "colorbar": {
             "outlinewidth": 0,
             "ticks": ""
            },
            "colorscale": [
             [
              0,
              "#0d0887"
             ],
             [
              0.1111111111111111,
              "#46039f"
             ],
             [
              0.2222222222222222,
              "#7201a8"
             ],
             [
              0.3333333333333333,
              "#9c179e"
             ],
             [
              0.4444444444444444,
              "#bd3786"
             ],
             [
              0.5555555555555556,
              "#d8576b"
             ],
             [
              0.6666666666666666,
              "#ed7953"
             ],
             [
              0.7777777777777778,
              "#fb9f3a"
             ],
             [
              0.8888888888888888,
              "#fdca26"
             ],
             [
              1,
              "#f0f921"
             ]
            ],
            "type": "heatmapgl"
           }
          ],
          "histogram": [
           {
            "marker": {
             "pattern": {
              "fillmode": "overlay",
              "size": 10,
              "solidity": 0.2
             }
            },
            "type": "histogram"
           }
          ],
          "histogram2d": [
           {
            "colorbar": {
             "outlinewidth": 0,
             "ticks": ""
            },
            "colorscale": [
             [
              0,
              "#0d0887"
             ],
             [
              0.1111111111111111,
              "#46039f"
             ],
             [
              0.2222222222222222,
              "#7201a8"
             ],
             [
              0.3333333333333333,
              "#9c179e"
             ],
             [
              0.4444444444444444,
              "#bd3786"
             ],
             [
              0.5555555555555556,
              "#d8576b"
             ],
             [
              0.6666666666666666,
              "#ed7953"
             ],
             [
              0.7777777777777778,
              "#fb9f3a"
             ],
             [
              0.8888888888888888,
              "#fdca26"
             ],
             [
              1,
              "#f0f921"
             ]
            ],
            "type": "histogram2d"
           }
          ],
          "histogram2dcontour": [
           {
            "colorbar": {
             "outlinewidth": 0,
             "ticks": ""
            },
            "colorscale": [
             [
              0,
              "#0d0887"
             ],
             [
              0.1111111111111111,
              "#46039f"
             ],
             [
              0.2222222222222222,
              "#7201a8"
             ],
             [
              0.3333333333333333,
              "#9c179e"
             ],
             [
              0.4444444444444444,
              "#bd3786"
             ],
             [
              0.5555555555555556,
              "#d8576b"
             ],
             [
              0.6666666666666666,
              "#ed7953"
             ],
             [
              0.7777777777777778,
              "#fb9f3a"
             ],
             [
              0.8888888888888888,
              "#fdca26"
             ],
             [
              1,
              "#f0f921"
             ]
            ],
            "type": "histogram2dcontour"
           }
          ],
          "mesh3d": [
           {
            "colorbar": {
             "outlinewidth": 0,
             "ticks": ""
            },
            "type": "mesh3d"
           }
          ],
          "parcoords": [
           {
            "line": {
             "colorbar": {
              "outlinewidth": 0,
              "ticks": ""
             }
            },
            "type": "parcoords"
           }
          ],
          "pie": [
           {
            "automargin": true,
            "type": "pie"
           }
          ],
          "scatter": [
           {
            "marker": {
             "colorbar": {
              "outlinewidth": 0,
              "ticks": ""
             }
            },
            "type": "scatter"
           }
          ],
          "scatter3d": [
           {
            "line": {
             "colorbar": {
              "outlinewidth": 0,
              "ticks": ""
             }
            },
            "marker": {
             "colorbar": {
              "outlinewidth": 0,
              "ticks": ""
             }
            },
            "type": "scatter3d"
           }
          ],
          "scattercarpet": [
           {
            "marker": {
             "colorbar": {
              "outlinewidth": 0,
              "ticks": ""
             }
            },
            "type": "scattercarpet"
           }
          ],
          "scattergeo": [
           {
            "marker": {
             "colorbar": {
              "outlinewidth": 0,
              "ticks": ""
             }
            },
            "type": "scattergeo"
           }
          ],
          "scattergl": [
           {
            "marker": {
             "colorbar": {
              "outlinewidth": 0,
              "ticks": ""
             }
            },
            "type": "scattergl"
           }
          ],
          "scattermapbox": [
           {
            "marker": {
             "colorbar": {
              "outlinewidth": 0,
              "ticks": ""
             }
            },
            "type": "scattermapbox"
           }
          ],
          "scatterpolar": [
           {
            "marker": {
             "colorbar": {
              "outlinewidth": 0,
              "ticks": ""
             }
            },
            "type": "scatterpolar"
           }
          ],
          "scatterpolargl": [
           {
            "marker": {
             "colorbar": {
              "outlinewidth": 0,
              "ticks": ""
             }
            },
            "type": "scatterpolargl"
           }
          ],
          "scatterternary": [
           {
            "marker": {
             "colorbar": {
              "outlinewidth": 0,
              "ticks": ""
             }
            },
            "type": "scatterternary"
           }
          ],
          "surface": [
           {
            "colorbar": {
             "outlinewidth": 0,
             "ticks": ""
            },
            "colorscale": [
             [
              0,
              "#0d0887"
             ],
             [
              0.1111111111111111,
              "#46039f"
             ],
             [
              0.2222222222222222,
              "#7201a8"
             ],
             [
              0.3333333333333333,
              "#9c179e"
             ],
             [
              0.4444444444444444,
              "#bd3786"
             ],
             [
              0.5555555555555556,
              "#d8576b"
             ],
             [
              0.6666666666666666,
              "#ed7953"
             ],
             [
              0.7777777777777778,
              "#fb9f3a"
             ],
             [
              0.8888888888888888,
              "#fdca26"
             ],
             [
              1,
              "#f0f921"
             ]
            ],
            "type": "surface"
           }
          ],
          "table": [
           {
            "cells": {
             "fill": {
              "color": "#EBF0F8"
             },
             "line": {
              "color": "white"
             }
            },
            "header": {
             "fill": {
              "color": "#C8D4E3"
             },
             "line": {
              "color": "white"
             }
            },
            "type": "table"
           }
          ]
         },
         "layout": {
          "annotationdefaults": {
           "arrowcolor": "#2a3f5f",
           "arrowhead": 0,
           "arrowwidth": 1
          },
          "autotypenumbers": "strict",
          "coloraxis": {
           "colorbar": {
            "outlinewidth": 0,
            "ticks": ""
           }
          },
          "colorscale": {
           "diverging": [
            [
             0,
             "#8e0152"
            ],
            [
             0.1,
             "#c51b7d"
            ],
            [
             0.2,
             "#de77ae"
            ],
            [
             0.3,
             "#f1b6da"
            ],
            [
             0.4,
             "#fde0ef"
            ],
            [
             0.5,
             "#f7f7f7"
            ],
            [
             0.6,
             "#e6f5d0"
            ],
            [
             0.7,
             "#b8e186"
            ],
            [
             0.8,
             "#7fbc41"
            ],
            [
             0.9,
             "#4d9221"
            ],
            [
             1,
             "#276419"
            ]
           ],
           "sequential": [
            [
             0,
             "#0d0887"
            ],
            [
             0.1111111111111111,
             "#46039f"
            ],
            [
             0.2222222222222222,
             "#7201a8"
            ],
            [
             0.3333333333333333,
             "#9c179e"
            ],
            [
             0.4444444444444444,
             "#bd3786"
            ],
            [
             0.5555555555555556,
             "#d8576b"
            ],
            [
             0.6666666666666666,
             "#ed7953"
            ],
            [
             0.7777777777777778,
             "#fb9f3a"
            ],
            [
             0.8888888888888888,
             "#fdca26"
            ],
            [
             1,
             "#f0f921"
            ]
           ],
           "sequentialminus": [
            [
             0,
             "#0d0887"
            ],
            [
             0.1111111111111111,
             "#46039f"
            ],
            [
             0.2222222222222222,
             "#7201a8"
            ],
            [
             0.3333333333333333,
             "#9c179e"
            ],
            [
             0.4444444444444444,
             "#bd3786"
            ],
            [
             0.5555555555555556,
             "#d8576b"
            ],
            [
             0.6666666666666666,
             "#ed7953"
            ],
            [
             0.7777777777777778,
             "#fb9f3a"
            ],
            [
             0.8888888888888888,
             "#fdca26"
            ],
            [
             1,
             "#f0f921"
            ]
           ]
          },
          "colorway": [
           "#636efa",
           "#EF553B",
           "#00cc96",
           "#ab63fa",
           "#FFA15A",
           "#19d3f3",
           "#FF6692",
           "#B6E880",
           "#FF97FF",
           "#FECB52"
          ],
          "font": {
           "color": "#2a3f5f"
          },
          "geo": {
           "bgcolor": "white",
           "lakecolor": "white",
           "landcolor": "#E5ECF6",
           "showlakes": true,
           "showland": true,
           "subunitcolor": "white"
          },
          "hoverlabel": {
           "align": "left"
          },
          "hovermode": "closest",
          "mapbox": {
           "style": "light"
          },
          "paper_bgcolor": "white",
          "plot_bgcolor": "#E5ECF6",
          "polar": {
           "angularaxis": {
            "gridcolor": "white",
            "linecolor": "white",
            "ticks": ""
           },
           "bgcolor": "#E5ECF6",
           "radialaxis": {
            "gridcolor": "white",
            "linecolor": "white",
            "ticks": ""
           }
          },
          "scene": {
           "xaxis": {
            "backgroundcolor": "#E5ECF6",
            "gridcolor": "white",
            "gridwidth": 2,
            "linecolor": "white",
            "showbackground": true,
            "ticks": "",
            "zerolinecolor": "white"
           },
           "yaxis": {
            "backgroundcolor": "#E5ECF6",
            "gridcolor": "white",
            "gridwidth": 2,
            "linecolor": "white",
            "showbackground": true,
            "ticks": "",
            "zerolinecolor": "white"
           },
           "zaxis": {
            "backgroundcolor": "#E5ECF6",
            "gridcolor": "white",
            "gridwidth": 2,
            "linecolor": "white",
            "showbackground": true,
            "ticks": "",
            "zerolinecolor": "white"
           }
          },
          "shapedefaults": {
           "line": {
            "color": "#2a3f5f"
           }
          },
          "ternary": {
           "aaxis": {
            "gridcolor": "white",
            "linecolor": "white",
            "ticks": ""
           },
           "baxis": {
            "gridcolor": "white",
            "linecolor": "white",
            "ticks": ""
           },
           "bgcolor": "#E5ECF6",
           "caxis": {
            "gridcolor": "white",
            "linecolor": "white",
            "ticks": ""
           }
          },
          "title": {
           "x": 0.05
          },
          "xaxis": {
           "automargin": true,
           "gridcolor": "white",
           "linecolor": "white",
           "ticks": "",
           "title": {
            "standoff": 15
           },
           "zerolinecolor": "white",
           "zerolinewidth": 2
          },
          "yaxis": {
           "automargin": true,
           "gridcolor": "white",
           "linecolor": "white",
           "ticks": "",
           "title": {
            "standoff": 15
           },
           "zerolinecolor": "white",
           "zerolinewidth": 2
          }
         }
        },
        "title": {
         "text": "MSE with K-Fold Cross Validation w/ 50/50 Test Train Ratio"
        },
        "xaxis": {
         "anchor": "y",
         "domain": [
          0,
          1
         ],
         "title": {
          "text": "Ridge Parameter"
         }
        },
        "yaxis": {
         "anchor": "x",
         "domain": [
          0,
          1
         ],
         "title": {
          "text": "Mean Squared Error"
         }
        }
       }
      },
      "text/html": [
       "<div>                            <div id=\"cc6f190f-2ca1-4f57-b771-eb2afee1caf8\" class=\"plotly-graph-div\" style=\"height:525px; width:100%;\"></div>            <script type=\"text/javascript\">                require([\"plotly\"], function(Plotly) {                    window.PLOTLYENV=window.PLOTLYENV || {};                                    if (document.getElementById(\"cc6f190f-2ca1-4f57-b771-eb2afee1caf8\")) {                    Plotly.newPlot(                        \"cc6f190f-2ca1-4f57-b771-eb2afee1caf8\",                        [{\"hovertemplate\":\"Ridge Parameter=%{x}<br>Mean Squared Error=%{y}<extra></extra>\",\"legendgroup\":\"\",\"marker\":{\"color\":\"#636efa\",\"symbol\":\"circle\"},\"mode\":\"markers\",\"name\":\"\",\"orientation\":\"v\",\"showlegend\":false,\"x\":[0.01,0.02,0.03,0.04,0.05,0.060000000000000005,0.06999999999999999,0.08,0.09,0.09999999999999999,0.11,0.12,0.13,0.14,0.15000000000000002,0.16,0.17,0.18000000000000002,0.19,0.2,0.21000000000000002,0.22,0.23,0.24000000000000002,0.25,0.26,0.27,0.28,0.29000000000000004,0.3,0.31,0.32,0.33,0.34,0.35000000000000003,0.36000000000000004,0.37,0.38,0.39,0.4,0.41000000000000003,0.42000000000000004,0.43,0.44,0.45,0.46,0.47000000000000003,0.48000000000000004,0.49,0.5,0.51,0.52,0.53,0.54,0.55,0.56,0.5700000000000001,0.5800000000000001,0.59,0.6,0.61,0.62,0.63,0.64,0.65,0.66,0.67,0.68,0.6900000000000001,0.7000000000000001,0.7100000000000001,0.72,0.73,0.74,0.75,0.76,0.77,0.78,0.79,0.8,0.81,0.8200000000000001,0.8300000000000001,0.8400000000000001,0.85,0.86,0.87,0.88,0.89,0.9,0.91,0.92,0.93,0.9400000000000001,0.9500000000000001,0.9600000000000001,0.97,0.98,0.99],\"xaxis\":\"x\",\"y\":[13410.310782407492,13419.216335719804,13430.628368568396,13436.718795167471,13433.871668277669,13432.52599118258,13429.86744813166,13429.576320714137,13430.349502519133,13427.648916526925,13426.43652238454,13425.12557471767,13425.912889352538,13428.395328058095,13427.99105493185,13429.076539127127,13429.863820576504,13429.576221888658,13428.714665142797,13428.123886547495,13427.841604665653,13428.498582867924,13428.840019896055,13428.522089913467,13428.351884301483,13428.370011758203,13428.633553092226,13428.146034819063,13428.027386152857,13427.648083118893,13427.621085741552,13427.74514848817,13428.015329281625,13428.368559170633,13428.218240186232,13428.817230513816,13428.956240502916,13429.384850587367,13428.938530271287,13428.931970400434,13429.853835808988,13429.539204579423,13429.777848340598,13429.93853126276,13429.69479141696,13429.75405015981,13429.541394542335,13429.568771268163,13429.605240539233,13430.019046098269,13430.226673404073,13429.978798190961,13429.941412125794,13430.057109205334,13430.173264875984,13430.196135616017,13430.509120006298,13430.672888985404,13430.581586134007,13430.683411989234,13430.666502799751,13430.517136490484,13430.31392930623,13430.459465344471,13430.563665883092,13431.038685136056,13431.083572624173,13431.45553443555,13431.56627228748,13431.805475614276,13431.815030781458,13431.667457392356,13431.693615002905,13431.813961128291,13431.844545582264,13432.099627608193,13431.99116242057,13431.720783559715,13431.942229172231,13431.802717046005,13431.818547894345,13431.80899809942,13431.74591908819,13431.763535052374,13431.714528873685,13431.814804542408,13431.734245304326,13431.705337831285,13431.52438018506,13431.582573319305,13431.274235490753,13430.989320188684,13430.981907267711,13430.643167588803,13430.924553110919,13430.979128915717,13430.897511383042,13430.91604895306,13430.860078281763],\"yaxis\":\"y\",\"type\":\"scatter\"},{\"name\":\"Minimum MSE\",\"x\":[0.01],\"y\":[13410.310782407492],\"type\":\"scatter\"}],                        {\"legend\":{\"tracegroupgap\":0},\"template\":{\"data\":{\"barpolar\":[{\"marker\":{\"line\":{\"color\":\"#E5ECF6\",\"width\":0.5},\"pattern\":{\"fillmode\":\"overlay\",\"size\":10,\"solidity\":0.2}},\"type\":\"barpolar\"}],\"bar\":[{\"error_x\":{\"color\":\"#2a3f5f\"},\"error_y\":{\"color\":\"#2a3f5f\"},\"marker\":{\"line\":{\"color\":\"#E5ECF6\",\"width\":0.5},\"pattern\":{\"fillmode\":\"overlay\",\"size\":10,\"solidity\":0.2}},\"type\":\"bar\"}],\"carpet\":[{\"aaxis\":{\"endlinecolor\":\"#2a3f5f\",\"gridcolor\":\"white\",\"linecolor\":\"white\",\"minorgridcolor\":\"white\",\"startlinecolor\":\"#2a3f5f\"},\"baxis\":{\"endlinecolor\":\"#2a3f5f\",\"gridcolor\":\"white\",\"linecolor\":\"white\",\"minorgridcolor\":\"white\",\"startlinecolor\":\"#2a3f5f\"},\"type\":\"carpet\"}],\"choropleth\":[{\"colorbar\":{\"outlinewidth\":0,\"ticks\":\"\"},\"type\":\"choropleth\"}],\"contourcarpet\":[{\"colorbar\":{\"outlinewidth\":0,\"ticks\":\"\"},\"type\":\"contourcarpet\"}],\"contour\":[{\"colorbar\":{\"outlinewidth\":0,\"ticks\":\"\"},\"colorscale\":[[0.0,\"#0d0887\"],[0.1111111111111111,\"#46039f\"],[0.2222222222222222,\"#7201a8\"],[0.3333333333333333,\"#9c179e\"],[0.4444444444444444,\"#bd3786\"],[0.5555555555555556,\"#d8576b\"],[0.6666666666666666,\"#ed7953\"],[0.7777777777777778,\"#fb9f3a\"],[0.8888888888888888,\"#fdca26\"],[1.0,\"#f0f921\"]],\"type\":\"contour\"}],\"heatmapgl\":[{\"colorbar\":{\"outlinewidth\":0,\"ticks\":\"\"},\"colorscale\":[[0.0,\"#0d0887\"],[0.1111111111111111,\"#46039f\"],[0.2222222222222222,\"#7201a8\"],[0.3333333333333333,\"#9c179e\"],[0.4444444444444444,\"#bd3786\"],[0.5555555555555556,\"#d8576b\"],[0.6666666666666666,\"#ed7953\"],[0.7777777777777778,\"#fb9f3a\"],[0.8888888888888888,\"#fdca26\"],[1.0,\"#f0f921\"]],\"type\":\"heatmapgl\"}],\"heatmap\":[{\"colorbar\":{\"outlinewidth\":0,\"ticks\":\"\"},\"colorscale\":[[0.0,\"#0d0887\"],[0.1111111111111111,\"#46039f\"],[0.2222222222222222,\"#7201a8\"],[0.3333333333333333,\"#9c179e\"],[0.4444444444444444,\"#bd3786\"],[0.5555555555555556,\"#d8576b\"],[0.6666666666666666,\"#ed7953\"],[0.7777777777777778,\"#fb9f3a\"],[0.8888888888888888,\"#fdca26\"],[1.0,\"#f0f921\"]],\"type\":\"heatmap\"}],\"histogram2dcontour\":[{\"colorbar\":{\"outlinewidth\":0,\"ticks\":\"\"},\"colorscale\":[[0.0,\"#0d0887\"],[0.1111111111111111,\"#46039f\"],[0.2222222222222222,\"#7201a8\"],[0.3333333333333333,\"#9c179e\"],[0.4444444444444444,\"#bd3786\"],[0.5555555555555556,\"#d8576b\"],[0.6666666666666666,\"#ed7953\"],[0.7777777777777778,\"#fb9f3a\"],[0.8888888888888888,\"#fdca26\"],[1.0,\"#f0f921\"]],\"type\":\"histogram2dcontour\"}],\"histogram2d\":[{\"colorbar\":{\"outlinewidth\":0,\"ticks\":\"\"},\"colorscale\":[[0.0,\"#0d0887\"],[0.1111111111111111,\"#46039f\"],[0.2222222222222222,\"#7201a8\"],[0.3333333333333333,\"#9c179e\"],[0.4444444444444444,\"#bd3786\"],[0.5555555555555556,\"#d8576b\"],[0.6666666666666666,\"#ed7953\"],[0.7777777777777778,\"#fb9f3a\"],[0.8888888888888888,\"#fdca26\"],[1.0,\"#f0f921\"]],\"type\":\"histogram2d\"}],\"histogram\":[{\"marker\":{\"pattern\":{\"fillmode\":\"overlay\",\"size\":10,\"solidity\":0.2}},\"type\":\"histogram\"}],\"mesh3d\":[{\"colorbar\":{\"outlinewidth\":0,\"ticks\":\"\"},\"type\":\"mesh3d\"}],\"parcoords\":[{\"line\":{\"colorbar\":{\"outlinewidth\":0,\"ticks\":\"\"}},\"type\":\"parcoords\"}],\"pie\":[{\"automargin\":true,\"type\":\"pie\"}],\"scatter3d\":[{\"line\":{\"colorbar\":{\"outlinewidth\":0,\"ticks\":\"\"}},\"marker\":{\"colorbar\":{\"outlinewidth\":0,\"ticks\":\"\"}},\"type\":\"scatter3d\"}],\"scattercarpet\":[{\"marker\":{\"colorbar\":{\"outlinewidth\":0,\"ticks\":\"\"}},\"type\":\"scattercarpet\"}],\"scattergeo\":[{\"marker\":{\"colorbar\":{\"outlinewidth\":0,\"ticks\":\"\"}},\"type\":\"scattergeo\"}],\"scattergl\":[{\"marker\":{\"colorbar\":{\"outlinewidth\":0,\"ticks\":\"\"}},\"type\":\"scattergl\"}],\"scattermapbox\":[{\"marker\":{\"colorbar\":{\"outlinewidth\":0,\"ticks\":\"\"}},\"type\":\"scattermapbox\"}],\"scatterpolargl\":[{\"marker\":{\"colorbar\":{\"outlinewidth\":0,\"ticks\":\"\"}},\"type\":\"scatterpolargl\"}],\"scatterpolar\":[{\"marker\":{\"colorbar\":{\"outlinewidth\":0,\"ticks\":\"\"}},\"type\":\"scatterpolar\"}],\"scatter\":[{\"marker\":{\"colorbar\":{\"outlinewidth\":0,\"ticks\":\"\"}},\"type\":\"scatter\"}],\"scatterternary\":[{\"marker\":{\"colorbar\":{\"outlinewidth\":0,\"ticks\":\"\"}},\"type\":\"scatterternary\"}],\"surface\":[{\"colorbar\":{\"outlinewidth\":0,\"ticks\":\"\"},\"colorscale\":[[0.0,\"#0d0887\"],[0.1111111111111111,\"#46039f\"],[0.2222222222222222,\"#7201a8\"],[0.3333333333333333,\"#9c179e\"],[0.4444444444444444,\"#bd3786\"],[0.5555555555555556,\"#d8576b\"],[0.6666666666666666,\"#ed7953\"],[0.7777777777777778,\"#fb9f3a\"],[0.8888888888888888,\"#fdca26\"],[1.0,\"#f0f921\"]],\"type\":\"surface\"}],\"table\":[{\"cells\":{\"fill\":{\"color\":\"#EBF0F8\"},\"line\":{\"color\":\"white\"}},\"header\":{\"fill\":{\"color\":\"#C8D4E3\"},\"line\":{\"color\":\"white\"}},\"type\":\"table\"}]},\"layout\":{\"annotationdefaults\":{\"arrowcolor\":\"#2a3f5f\",\"arrowhead\":0,\"arrowwidth\":1},\"autotypenumbers\":\"strict\",\"coloraxis\":{\"colorbar\":{\"outlinewidth\":0,\"ticks\":\"\"}},\"colorscale\":{\"diverging\":[[0,\"#8e0152\"],[0.1,\"#c51b7d\"],[0.2,\"#de77ae\"],[0.3,\"#f1b6da\"],[0.4,\"#fde0ef\"],[0.5,\"#f7f7f7\"],[0.6,\"#e6f5d0\"],[0.7,\"#b8e186\"],[0.8,\"#7fbc41\"],[0.9,\"#4d9221\"],[1,\"#276419\"]],\"sequential\":[[0.0,\"#0d0887\"],[0.1111111111111111,\"#46039f\"],[0.2222222222222222,\"#7201a8\"],[0.3333333333333333,\"#9c179e\"],[0.4444444444444444,\"#bd3786\"],[0.5555555555555556,\"#d8576b\"],[0.6666666666666666,\"#ed7953\"],[0.7777777777777778,\"#fb9f3a\"],[0.8888888888888888,\"#fdca26\"],[1.0,\"#f0f921\"]],\"sequentialminus\":[[0.0,\"#0d0887\"],[0.1111111111111111,\"#46039f\"],[0.2222222222222222,\"#7201a8\"],[0.3333333333333333,\"#9c179e\"],[0.4444444444444444,\"#bd3786\"],[0.5555555555555556,\"#d8576b\"],[0.6666666666666666,\"#ed7953\"],[0.7777777777777778,\"#fb9f3a\"],[0.8888888888888888,\"#fdca26\"],[1.0,\"#f0f921\"]]},\"colorway\":[\"#636efa\",\"#EF553B\",\"#00cc96\",\"#ab63fa\",\"#FFA15A\",\"#19d3f3\",\"#FF6692\",\"#B6E880\",\"#FF97FF\",\"#FECB52\"],\"font\":{\"color\":\"#2a3f5f\"},\"geo\":{\"bgcolor\":\"white\",\"lakecolor\":\"white\",\"landcolor\":\"#E5ECF6\",\"showlakes\":true,\"showland\":true,\"subunitcolor\":\"white\"},\"hoverlabel\":{\"align\":\"left\"},\"hovermode\":\"closest\",\"mapbox\":{\"style\":\"light\"},\"paper_bgcolor\":\"white\",\"plot_bgcolor\":\"#E5ECF6\",\"polar\":{\"angularaxis\":{\"gridcolor\":\"white\",\"linecolor\":\"white\",\"ticks\":\"\"},\"bgcolor\":\"#E5ECF6\",\"radialaxis\":{\"gridcolor\":\"white\",\"linecolor\":\"white\",\"ticks\":\"\"}},\"scene\":{\"xaxis\":{\"backgroundcolor\":\"#E5ECF6\",\"gridcolor\":\"white\",\"gridwidth\":2,\"linecolor\":\"white\",\"showbackground\":true,\"ticks\":\"\",\"zerolinecolor\":\"white\"},\"yaxis\":{\"backgroundcolor\":\"#E5ECF6\",\"gridcolor\":\"white\",\"gridwidth\":2,\"linecolor\":\"white\",\"showbackground\":true,\"ticks\":\"\",\"zerolinecolor\":\"white\"},\"zaxis\":{\"backgroundcolor\":\"#E5ECF6\",\"gridcolor\":\"white\",\"gridwidth\":2,\"linecolor\":\"white\",\"showbackground\":true,\"ticks\":\"\",\"zerolinecolor\":\"white\"}},\"shapedefaults\":{\"line\":{\"color\":\"#2a3f5f\"}},\"ternary\":{\"aaxis\":{\"gridcolor\":\"white\",\"linecolor\":\"white\",\"ticks\":\"\"},\"baxis\":{\"gridcolor\":\"white\",\"linecolor\":\"white\",\"ticks\":\"\"},\"bgcolor\":\"#E5ECF6\",\"caxis\":{\"gridcolor\":\"white\",\"linecolor\":\"white\",\"ticks\":\"\"}},\"title\":{\"x\":0.05},\"xaxis\":{\"automargin\":true,\"gridcolor\":\"white\",\"linecolor\":\"white\",\"ticks\":\"\",\"title\":{\"standoff\":15},\"zerolinecolor\":\"white\",\"zerolinewidth\":2},\"yaxis\":{\"automargin\":true,\"gridcolor\":\"white\",\"linecolor\":\"white\",\"ticks\":\"\",\"title\":{\"standoff\":15},\"zerolinecolor\":\"white\",\"zerolinewidth\":2}}},\"title\":{\"text\":\"MSE with K-Fold Cross Validation w/ 50/50 Test Train Ratio\"},\"xaxis\":{\"anchor\":\"y\",\"domain\":[0.0,1.0],\"title\":{\"text\":\"Ridge Parameter\"}},\"yaxis\":{\"anchor\":\"x\",\"domain\":[0.0,1.0],\"title\":{\"text\":\"Mean Squared Error\"}}},                        {\"responsive\": true}                    ).then(function(){\n",
       "                            \n",
       "var gd = document.getElementById('cc6f190f-2ca1-4f57-b771-eb2afee1caf8');\n",
       "var x = new MutationObserver(function (mutations, observer) {{\n",
       "        var display = window.getComputedStyle(gd).display;\n",
       "        if (!display || display === 'none') {{\n",
       "            console.log([gd, 'removed!']);\n",
       "            Plotly.purge(gd);\n",
       "            observer.disconnect();\n",
       "        }}\n",
       "}});\n",
       "\n",
       "// Listen for the removal of the full notebook cells\n",
       "var notebookContainer = gd.closest('#notebook-container');\n",
       "if (notebookContainer) {{\n",
       "    x.observe(notebookContainer, {childList: true});\n",
       "}}\n",
       "\n",
       "// Listen for the clearing of the current output cell\n",
       "var outputEl = gd.closest('.output');\n",
       "if (outputEl) {{\n",
       "    x.observe(outputEl, {childList: true});\n",
       "}}\n",
       "\n",
       "                        })                };                });            </script>        </div>"
      ]
     },
     "metadata": {},
     "output_type": "display_data"
    },
    {
     "data": {
      "application/javascript": [
       "\n",
       "            setTimeout(function() {\n",
       "                var nbb_cell_id = 16;\n",
       "                var nbb_unformatted_code = \"kfoldMSE_5050 = pd.DataFrame({\\\"lambda\\\": alphas, \\\"MSE\\\": listMSE_5050})\\n\\nminMSEindex_5050 = kfoldMSE_5050[\\\"MSE\\\"].idxmin()\\nminMSErow_5050 = kfoldMSE_5050.iloc[minMSEindex_5050]\\n\\nfig_5050 = go.Figure(\\n    data=px.scatter(\\n        kfoldMSE_5050,\\n        x=\\\"lambda\\\",\\n        y=\\\"MSE\\\",\\n        labels={\\\"lambda\\\": \\\"Ridge Parameter\\\", \\\"MSE\\\": \\\"Mean Squared Error\\\"},\\n        title=\\\"MSE with K-Fold Cross Validation w/ 50/50 Test Train Ratio\\\",\\n    )\\n)\\n\\nfig_5050.add_trace(\\n    go.Scatter(\\n        x=[minMSErow_5050.loc[\\\"lambda\\\"]],\\n        y=[minMSErow_5050.loc[\\\"MSE\\\"]],\\n        name=\\\"Minimum MSE\\\",\\n    )\\n)\\n\\nfig_5050.show()\";\n",
       "                var nbb_formatted_code = \"kfoldMSE_5050 = pd.DataFrame({\\\"lambda\\\": alphas, \\\"MSE\\\": listMSE_5050})\\n\\nminMSEindex_5050 = kfoldMSE_5050[\\\"MSE\\\"].idxmin()\\nminMSErow_5050 = kfoldMSE_5050.iloc[minMSEindex_5050]\\n\\nfig_5050 = go.Figure(\\n    data=px.scatter(\\n        kfoldMSE_5050,\\n        x=\\\"lambda\\\",\\n        y=\\\"MSE\\\",\\n        labels={\\\"lambda\\\": \\\"Ridge Parameter\\\", \\\"MSE\\\": \\\"Mean Squared Error\\\"},\\n        title=\\\"MSE with K-Fold Cross Validation w/ 50/50 Test Train Ratio\\\",\\n    )\\n)\\n\\nfig_5050.add_trace(\\n    go.Scatter(\\n        x=[minMSErow_5050.loc[\\\"lambda\\\"]],\\n        y=[minMSErow_5050.loc[\\\"MSE\\\"]],\\n        name=\\\"Minimum MSE\\\",\\n    )\\n)\\n\\nfig_5050.show()\";\n",
       "                var nbb_cells = Jupyter.notebook.get_cells();\n",
       "                for (var i = 0; i < nbb_cells.length; ++i) {\n",
       "                    if (nbb_cells[i].input_prompt_number == nbb_cell_id) {\n",
       "                        if (nbb_cells[i].get_text() == nbb_unformatted_code) {\n",
       "                             nbb_cells[i].set_text(nbb_formatted_code);\n",
       "                        }\n",
       "                        break;\n",
       "                    }\n",
       "                }\n",
       "            }, 500);\n",
       "            "
      ],
      "text/plain": [
       "<IPython.core.display.Javascript object>"
      ]
     },
     "metadata": {},
     "output_type": "display_data"
    }
   ],
   "source": [
    "kfoldMSE_5050 = pd.DataFrame({\"lambda\": alphas, \"MSE\": listMSE_5050})\n",
    "\n",
    "minMSEindex_5050 = kfoldMSE_5050[\"MSE\"].idxmin()\n",
    "minMSErow_5050 = kfoldMSE_5050.iloc[minMSEindex_5050]\n",
    "\n",
    "fig_5050 = go.Figure(\n",
    "    data=px.scatter(\n",
    "        kfoldMSE_5050,\n",
    "        x=\"lambda\",\n",
    "        y=\"MSE\",\n",
    "        labels={\"lambda\": \"Ridge Parameter\", \"MSE\": \"Mean Squared Error\"},\n",
    "        title=\"MSE with K-Fold Cross Validation w/ 50/50 Test Train Ratio\",\n",
    "    )\n",
    ")\n",
    "\n",
    "fig_5050.add_trace(\n",
    "    go.Scatter(\n",
    "        x=[minMSErow_5050.loc[\"lambda\"]],\n",
    "        y=[minMSErow_5050.loc[\"MSE\"]],\n",
    "        name=\"Minimum MSE\",\n",
    "    )\n",
    ")\n",
    "\n",
    "fig_5050.show()"
   ]
  },
  {
   "cell_type": "code",
   "execution_count": 17,
   "id": "fc985c94",
   "metadata": {},
   "outputs": [
    {
     "data": {
      "text/html": [
       "<div>\n",
       "<style scoped>\n",
       "    .dataframe tbody tr th:only-of-type {\n",
       "        vertical-align: middle;\n",
       "    }\n",
       "\n",
       "    .dataframe tbody tr th {\n",
       "        vertical-align: top;\n",
       "    }\n",
       "\n",
       "    .dataframe thead th {\n",
       "        text-align: right;\n",
       "    }\n",
       "</style>\n",
       "<table border=\"1\" class=\"dataframe\">\n",
       "  <thead>\n",
       "    <tr style=\"text-align: right;\">\n",
       "      <th></th>\n",
       "      <th>predictions</th>\n",
       "      <th>actual</th>\n",
       "    </tr>\n",
       "  </thead>\n",
       "  <tbody>\n",
       "    <tr>\n",
       "      <th>110481</th>\n",
       "      <td>699.064784</td>\n",
       "      <td>561</td>\n",
       "    </tr>\n",
       "    <tr>\n",
       "      <th>48198</th>\n",
       "      <td>696.693571</td>\n",
       "      <td>895</td>\n",
       "    </tr>\n",
       "    <tr>\n",
       "      <th>59102</th>\n",
       "      <td>702.784667</td>\n",
       "      <td>508</td>\n",
       "    </tr>\n",
       "    <tr>\n",
       "      <th>107644</th>\n",
       "      <td>697.477998</td>\n",
       "      <td>553</td>\n",
       "    </tr>\n",
       "    <tr>\n",
       "      <th>34907</th>\n",
       "      <td>698.188614</td>\n",
       "      <td>539</td>\n",
       "    </tr>\n",
       "    <tr>\n",
       "      <th>...</th>\n",
       "      <td>...</td>\n",
       "      <td>...</td>\n",
       "    </tr>\n",
       "    <tr>\n",
       "      <th>105154</th>\n",
       "      <td>695.072835</td>\n",
       "      <td>805</td>\n",
       "    </tr>\n",
       "    <tr>\n",
       "      <th>81171</th>\n",
       "      <td>697.968743</td>\n",
       "      <td>828</td>\n",
       "    </tr>\n",
       "    <tr>\n",
       "      <th>54722</th>\n",
       "      <td>700.896039</td>\n",
       "      <td>653</td>\n",
       "    </tr>\n",
       "    <tr>\n",
       "      <th>109435</th>\n",
       "      <td>701.616558</td>\n",
       "      <td>719</td>\n",
       "    </tr>\n",
       "    <tr>\n",
       "      <th>32564</th>\n",
       "      <td>696.621172</td>\n",
       "      <td>515</td>\n",
       "    </tr>\n",
       "  </tbody>\n",
       "</table>\n",
       "<p>40533 rows × 2 columns</p>\n",
       "</div>"
      ],
      "text/plain": [
       "        predictions  actual\n",
       "110481   699.064784     561\n",
       "48198    696.693571     895\n",
       "59102    702.784667     508\n",
       "107644   697.477998     553\n",
       "34907    698.188614     539\n",
       "...             ...     ...\n",
       "105154   695.072835     805\n",
       "81171    697.968743     828\n",
       "54722    700.896039     653\n",
       "109435   701.616558     719\n",
       "32564    696.621172     515\n",
       "\n",
       "[40533 rows x 2 columns]"
      ]
     },
     "metadata": {},
     "output_type": "display_data"
    },
    {
     "data": {
      "application/javascript": [
       "\n",
       "            setTimeout(function() {\n",
       "                var nbb_cell_id = 17;\n",
       "                var nbb_unformatted_code = \"n, m = Xtest.shape\\nI = np.identity(m)\\n# Beta vector\\nbeta_test = sp.linalg.inv((Xtest.T @ Xtest) + 0.21 * I) @ Xtest.T @ Ytest\\nYpred = Xtest.to_numpy() @ beta_test\\nY_pred_actual = pd.DataFrame({\\\"predictions\\\": Ypred, \\\"actual\\\": Ytest})\\ndisplay(Y_pred_actual)\";\n",
       "                var nbb_formatted_code = \"n, m = Xtest.shape\\nI = np.identity(m)\\n# Beta vector\\nbeta_test = sp.linalg.inv((Xtest.T @ Xtest) + 0.21 * I) @ Xtest.T @ Ytest\\nYpred = Xtest.to_numpy() @ beta_test\\nY_pred_actual = pd.DataFrame({\\\"predictions\\\": Ypred, \\\"actual\\\": Ytest})\\ndisplay(Y_pred_actual)\";\n",
       "                var nbb_cells = Jupyter.notebook.get_cells();\n",
       "                for (var i = 0; i < nbb_cells.length; ++i) {\n",
       "                    if (nbb_cells[i].input_prompt_number == nbb_cell_id) {\n",
       "                        if (nbb_cells[i].get_text() == nbb_unformatted_code) {\n",
       "                             nbb_cells[i].set_text(nbb_formatted_code);\n",
       "                        }\n",
       "                        break;\n",
       "                    }\n",
       "                }\n",
       "            }, 500);\n",
       "            "
      ],
      "text/plain": [
       "<IPython.core.display.Javascript object>"
      ]
     },
     "metadata": {},
     "output_type": "display_data"
    }
   ],
   "source": [
    "n, m = Xtest.shape\n",
    "I = np.identity(m)\n",
    "# Beta vector\n",
    "beta_test = sp.linalg.inv((Xtest.T @ Xtest) + 0.21 * I) @ Xtest.T @ Ytest\n",
    "Ypred = Xtest.to_numpy() @ beta_test\n",
    "Y_pred_actual = pd.DataFrame({\"predictions\": Ypred, \"actual\": Ytest})\n",
    "display(Y_pred_actual)"
   ]
  },
  {
   "cell_type": "markdown",
   "id": "060d227f",
   "metadata": {},
   "source": [
    "To Do:\n",
    "- Fix predictions \n",
    "- Compare to Sk-Learn Ridge Regression function \n",
    "- Try out more c.v."
   ]
  },
  {
   "cell_type": "code",
   "execution_count": null,
   "id": "94b60f96",
   "metadata": {},
   "outputs": [],
   "source": []
  }
 ],
 "metadata": {
  "kernelspec": {
   "display_name": "Python 3 (ipykernel)",
   "language": "python",
   "name": "python3"
  },
  "language_info": {
   "codemirror_mode": {
    "name": "ipython",
    "version": 3
   },
   "file_extension": ".py",
   "mimetype": "text/x-python",
   "name": "python",
   "nbconvert_exporter": "python",
   "pygments_lexer": "ipython3",
   "version": "3.8.8"
  }
 },
 "nbformat": 4,
 "nbformat_minor": 5
}
